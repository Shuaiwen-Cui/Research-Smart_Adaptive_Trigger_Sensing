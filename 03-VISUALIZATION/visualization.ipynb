{
 "cells": [
  {
   "cell_type": "markdown",
   "metadata": {},
   "source": [
    "# VISUALIZATION"
   ]
  },
  {
   "cell_type": "code",
   "execution_count": 1,
   "metadata": {},
   "outputs": [],
   "source": [
    "# COMMON\n",
    "import numpy as np\n",
    "import sys\n",
    "import os\n",
    "import random\n",
    "import time\n",
    "import datetime\n",
    "import pandas as pd\n",
    "import matplotlib.pyplot as plt\n",
    "import seaborn as sns\n",
    "import plotly.express as px\n",
    "import plotly.graph_objects as go\n"
   ]
  },
  {
   "cell_type": "code",
   "execution_count": 2,
   "metadata": {},
   "outputs": [],
   "source": [
    "num_init_points = 15\n",
    "num_iter = 30\n",
    "num_iter_onboard = 20"
   ]
  },
  {
   "cell_type": "code",
   "execution_count": 3,
   "metadata": {},
   "outputs": [
    {
     "name": "stdout",
     "output_type": "stream",
     "text": [
      "(65, 10)\n"
     ]
    }
   ],
   "source": [
    "# LOAD DATA\n",
    "\n",
    "D_Path = r\"../02-ONBOARD-TRAINING/D.npy\"\n",
    "DD_Path = r\"../02-ONBOARD-TRAINING/DD.npy\"\n",
    "\n",
    "D = np.load(D_Path)\n",
    "DD = np.load(DD_Path)\n",
    "\n",
    "R = DD\n",
    "\n",
    "R = np.hstack((R,np.zeros((R.shape[0], 1))))\n",
    "\n",
    "for i in range(R.shape[0]):\n",
    "    R[i, -1] = i\n",
    "\n",
    "print(np.shape(R))\n",
    "\n",
    "# R: (1) threshold, (2) duration, (3) f-beta, (4) TP, (5) FP, (6) FN, (7) TN, (8) precision, (9) recall, (10) index\n",
    "\n",
    "R_INI = R[:num_init_points, :]\n",
    "R_ITR = R[num_init_points:num_init_points + num_iter, :]\n",
    "R_PRE = R[:num_init_points + num_iter, :]\n",
    "R_ONB = R[num_init_points + num_iter:num_init_points + num_iter + num_iter_onboard, :]"
   ]
  },
  {
   "cell_type": "code",
   "execution_count": 4,
   "metadata": {},
   "outputs": [
    {
     "name": "stdout",
     "output_type": "stream",
     "text": [
      "max_fbeta:  1.0397159638982154\n",
      "max_fbeta_index:  1\n"
     ]
    }
   ],
   "source": [
    "# find the maximum f-beta score in the onboard data and its index\n",
    "max_fbeta = np.max(R_ONB[:, 2])\n",
    "max_fbeta_index = np.argmax(R_ONB[:, 2])\n",
    "\n",
    "print(\"max_fbeta: \", max_fbeta)\n",
    "print(\"max_fbeta_index: \", max_fbeta_index)"
   ]
  },
  {
   "cell_type": "code",
   "execution_count": 5,
   "metadata": {},
   "outputs": [
    {
     "data": {
      "application/vnd.plotly.v1+json": {
       "config": {
        "plotlyServerURL": "https://plot.ly"
       },
       "data": [
        {
         "hovertemplate": "x=%{x}<br>y=%{y}<br>size=%{marker.size}<br>color=%{marker.color}<extra></extra>",
         "legendgroup": "",
         "marker": {
          "color": [
           0,
           1,
           2,
           3,
           4,
           5,
           6,
           7,
           8,
           9,
           10,
           11,
           12,
           13,
           14,
           15,
           16,
           17,
           18,
           19,
           20,
           21,
           22,
           23,
           24,
           25,
           26,
           27,
           28,
           29,
           30,
           31,
           32,
           33,
           34,
           35,
           36,
           37,
           38,
           39,
           40,
           41,
           42,
           43,
           44,
           45,
           46,
           47,
           48,
           49,
           50,
           51,
           52,
           53,
           54,
           55,
           56,
           57,
           58,
           59,
           60,
           61,
           62,
           63,
           64
          ],
          "coloraxis": "coloraxis",
          "size": [
           0.8024691358024691,
           0.8024691358024691,
           0.7543485486372701,
           0.8058523960594424,
           0.8392018779342723,
           0.8024691358024691,
           0.9570273507686164,
           0.9227129337539433,
           0.8056519583539911,
           0.8306305137519461,
           1.0778061224489797,
           0.8069580768590917,
           0.9214881980426022,
           0.7834120360202065,
           0.8036905754795663,
           1.0792660975108004,
           1.0674679155454359,
           1.0695846075433233,
           0.8024691358024691,
           0.8024691358024691,
           0.8399291586496415,
           0.8024691358024691,
           0.8024691358024691,
           0.8024691358024691,
           0.7543485486372701,
           1.0802765237020318,
           1.074192220621527,
           0.8316652239774941,
           0.8024691358024691,
           0.808309765430045,
           0.7790851110622389,
           0.8024691358024691,
           0.7703969128996693,
           0.859391761424587,
           0.8024691358024691,
           1.0726476967568686,
           0.837248865845755,
           0.884028671200147,
           0.8024691358024691,
           0.8032624814631735,
           0.9469286136856636,
           0.9094508975712777,
           0.8024691358024691,
           1.060412777432068,
           0.8024691358024691,
           1.0229452355121502,
           1.0397159638982154,
           1.019480573148637,
           1.0177218322038957,
           1.0214017689633725,
           1.018752505674839,
           1.0263427301674717,
           1.0195391628882466,
           0.7166257612927175,
           1.0300098449828918,
           1.0264478931977044,
           1.0207228081974102,
           1.0379384823747007,
           1.0288433842634148,
           1.0267514956808161,
           1.0307403340349943,
           1.0240742419166067,
           1.0289181793859372,
           1.0266035738289352,
           1.0379517821652364
          ],
          "sizemode": "area",
          "sizeref": 0.0027006913092550793,
          "symbol": "circle"
         },
         "mode": "markers",
         "name": "",
         "orientation": "v",
         "showlegend": false,
         "type": "scatter",
         "x": [
          0.00033654789784862116,
          0.00219865554136328,
          0.015720044164831172,
          0.007368194401393576,
          0.009402889402293429,
          0.0006844824716602305,
          0.01155532735246033,
          0.01753636636350028,
          0.0031952530085227362,
          0.006199205502795825,
          0.01367881824733653,
          0.0033753174292445384,
          0.009972337734102318,
          0.014064844016711714,
          0.004619568912342903,
          0.012258236548423743,
          0.013075533774944565,
          0.009944033458278524,
          0.0007989539864326439,
          0.0012191455741698957,
          0.006358167539101247,
          0.0020408350120328248,
          0.001541342713304257,
          0.001454042704838776,
          0.015814239411679226,
          0.011620492527197443,
          0.011504618229983781,
          0.017370544009307827,
          0.00018240033948512663,
          0.0075412493391689645,
          0.016356824312437148,
          0.00034237913161195156,
          0.016145541219561483,
          0.01653361438713557,
          0.0006082395158725449,
          0.014153195546823606,
          0.014002548997181332,
          0.009328695036942078,
          0.0006127641349001275,
          0.0034096503487435078,
          0.009271508373593678,
          0.01616772993637093,
          0.004799638807044426,
          0.01329431824622545,
          0.00017281891197809201,
          0.014435327473777466,
          0.007938039842215056,
          0.016079625524062238,
          0.016604765975873622,
          0.014783350300530244,
          0.015981634632245972,
          0.013505878672728512,
          0.01633918469679386,
          0.00042300343388361515,
          0.0058721126476576225,
          0.014119467061272942,
          0.016122808239995127,
          0.010869380303125247,
          0.014593720200762989,
          0.014714890604441545,
          0.014048398689986913,
          0.015810034023010993,
          0.014434365402787837,
          0.014542891221688718,
          0.011007507158006219
         ],
         "xaxis": "x",
         "y": [
          2.2605032223885653,
          2.3191249992291105,
          9.298272195069801,
          3.297107469873332,
          2.516622598463562,
          9.424409334389424,
          2.4900558082512445,
          3.1825473516181555,
          6.067390694328477,
          7.863362746493134,
          3.7331562540841023,
          8.921963181015897,
          3.2312171911329166,
          9.7375748929326,
          8.493103503757979,
          4.9695209128050095,
          4.333798106229627,
          6.989477111626149,
          5.3544097952912235,
          6.657362698813434,
          7.335867033950948,
          4.5618651625410696,
          3.8911541615373757,
          2.0464390084477975,
          9.952960965059068,
          4.877215634419471,
          5.624257159977952,
          5.201146338607229,
          4.158400518803275,
          2.8556759594631247,
          7.155841908612459,
          6.339694673891274,
          8.183283704364854,
          5.678054066953499,
          4.759156511089139,
          3.5970285444387793,
          7.5754790176964315,
          3.632874792332962,
          6.722460361985995,
          5.1349261501626895,
          5.901311244236837,
          4.073504911151642,
          2.0158357588230587,
          4.47059761295514,
          9.993582035313885,
          4.612701349056424,
          4.6909812662370465,
          4.4753205549552995,
          4.526388008507677,
          4.706684303616493,
          4.625171484289713,
          4.470979382907074,
          4.358151871214557,
          4.737432285136505,
          4.305451468156802,
          4.207560432661513,
          4.265930331097981,
          3.7708526977547008,
          3.651519333271187,
          3.9212736669675037,
          3.585820534512167,
          3.886873176724558,
          3.708030860288245,
          4.013133131860945,
          3.7131224854056244
         ],
         "yaxis": "y"
        }
       ],
       "layout": {
        "coloraxis": {
         "colorbar": {
          "title": {
           "text": "color"
          }
         },
         "colorscale": [
          [
           0,
           "lightgray"
          ],
          [
           1,
           "black"
          ]
         ]
        },
        "font": {
         "color": "black",
         "family": "Times New Roman",
         "size": 16
        },
        "height": 600,
        "legend": {
         "itemsizing": "constant",
         "tracegroupgap": 0
        },
        "margin": {
         "t": 60
        },
        "template": {
         "data": {
          "bar": [
           {
            "error_x": {
             "color": "#2a3f5f"
            },
            "error_y": {
             "color": "#2a3f5f"
            },
            "marker": {
             "line": {
              "color": "#E5ECF6",
              "width": 0.5
             },
             "pattern": {
              "fillmode": "overlay",
              "size": 10,
              "solidity": 0.2
             }
            },
            "type": "bar"
           }
          ],
          "barpolar": [
           {
            "marker": {
             "line": {
              "color": "#E5ECF6",
              "width": 0.5
             },
             "pattern": {
              "fillmode": "overlay",
              "size": 10,
              "solidity": 0.2
             }
            },
            "type": "barpolar"
           }
          ],
          "carpet": [
           {
            "aaxis": {
             "endlinecolor": "#2a3f5f",
             "gridcolor": "white",
             "linecolor": "white",
             "minorgridcolor": "white",
             "startlinecolor": "#2a3f5f"
            },
            "baxis": {
             "endlinecolor": "#2a3f5f",
             "gridcolor": "white",
             "linecolor": "white",
             "minorgridcolor": "white",
             "startlinecolor": "#2a3f5f"
            },
            "type": "carpet"
           }
          ],
          "choropleth": [
           {
            "colorbar": {
             "outlinewidth": 0,
             "ticks": ""
            },
            "type": "choropleth"
           }
          ],
          "contour": [
           {
            "colorbar": {
             "outlinewidth": 0,
             "ticks": ""
            },
            "colorscale": [
             [
              0,
              "#0d0887"
             ],
             [
              0.1111111111111111,
              "#46039f"
             ],
             [
              0.2222222222222222,
              "#7201a8"
             ],
             [
              0.3333333333333333,
              "#9c179e"
             ],
             [
              0.4444444444444444,
              "#bd3786"
             ],
             [
              0.5555555555555556,
              "#d8576b"
             ],
             [
              0.6666666666666666,
              "#ed7953"
             ],
             [
              0.7777777777777778,
              "#fb9f3a"
             ],
             [
              0.8888888888888888,
              "#fdca26"
             ],
             [
              1,
              "#f0f921"
             ]
            ],
            "type": "contour"
           }
          ],
          "contourcarpet": [
           {
            "colorbar": {
             "outlinewidth": 0,
             "ticks": ""
            },
            "type": "contourcarpet"
           }
          ],
          "heatmap": [
           {
            "colorbar": {
             "outlinewidth": 0,
             "ticks": ""
            },
            "colorscale": [
             [
              0,
              "#0d0887"
             ],
             [
              0.1111111111111111,
              "#46039f"
             ],
             [
              0.2222222222222222,
              "#7201a8"
             ],
             [
              0.3333333333333333,
              "#9c179e"
             ],
             [
              0.4444444444444444,
              "#bd3786"
             ],
             [
              0.5555555555555556,
              "#d8576b"
             ],
             [
              0.6666666666666666,
              "#ed7953"
             ],
             [
              0.7777777777777778,
              "#fb9f3a"
             ],
             [
              0.8888888888888888,
              "#fdca26"
             ],
             [
              1,
              "#f0f921"
             ]
            ],
            "type": "heatmap"
           }
          ],
          "heatmapgl": [
           {
            "colorbar": {
             "outlinewidth": 0,
             "ticks": ""
            },
            "colorscale": [
             [
              0,
              "#0d0887"
             ],
             [
              0.1111111111111111,
              "#46039f"
             ],
             [
              0.2222222222222222,
              "#7201a8"
             ],
             [
              0.3333333333333333,
              "#9c179e"
             ],
             [
              0.4444444444444444,
              "#bd3786"
             ],
             [
              0.5555555555555556,
              "#d8576b"
             ],
             [
              0.6666666666666666,
              "#ed7953"
             ],
             [
              0.7777777777777778,
              "#fb9f3a"
             ],
             [
              0.8888888888888888,
              "#fdca26"
             ],
             [
              1,
              "#f0f921"
             ]
            ],
            "type": "heatmapgl"
           }
          ],
          "histogram": [
           {
            "marker": {
             "pattern": {
              "fillmode": "overlay",
              "size": 10,
              "solidity": 0.2
             }
            },
            "type": "histogram"
           }
          ],
          "histogram2d": [
           {
            "colorbar": {
             "outlinewidth": 0,
             "ticks": ""
            },
            "colorscale": [
             [
              0,
              "#0d0887"
             ],
             [
              0.1111111111111111,
              "#46039f"
             ],
             [
              0.2222222222222222,
              "#7201a8"
             ],
             [
              0.3333333333333333,
              "#9c179e"
             ],
             [
              0.4444444444444444,
              "#bd3786"
             ],
             [
              0.5555555555555556,
              "#d8576b"
             ],
             [
              0.6666666666666666,
              "#ed7953"
             ],
             [
              0.7777777777777778,
              "#fb9f3a"
             ],
             [
              0.8888888888888888,
              "#fdca26"
             ],
             [
              1,
              "#f0f921"
             ]
            ],
            "type": "histogram2d"
           }
          ],
          "histogram2dcontour": [
           {
            "colorbar": {
             "outlinewidth": 0,
             "ticks": ""
            },
            "colorscale": [
             [
              0,
              "#0d0887"
             ],
             [
              0.1111111111111111,
              "#46039f"
             ],
             [
              0.2222222222222222,
              "#7201a8"
             ],
             [
              0.3333333333333333,
              "#9c179e"
             ],
             [
              0.4444444444444444,
              "#bd3786"
             ],
             [
              0.5555555555555556,
              "#d8576b"
             ],
             [
              0.6666666666666666,
              "#ed7953"
             ],
             [
              0.7777777777777778,
              "#fb9f3a"
             ],
             [
              0.8888888888888888,
              "#fdca26"
             ],
             [
              1,
              "#f0f921"
             ]
            ],
            "type": "histogram2dcontour"
           }
          ],
          "mesh3d": [
           {
            "colorbar": {
             "outlinewidth": 0,
             "ticks": ""
            },
            "type": "mesh3d"
           }
          ],
          "parcoords": [
           {
            "line": {
             "colorbar": {
              "outlinewidth": 0,
              "ticks": ""
             }
            },
            "type": "parcoords"
           }
          ],
          "pie": [
           {
            "automargin": true,
            "type": "pie"
           }
          ],
          "scatter": [
           {
            "fillpattern": {
             "fillmode": "overlay",
             "size": 10,
             "solidity": 0.2
            },
            "type": "scatter"
           }
          ],
          "scatter3d": [
           {
            "line": {
             "colorbar": {
              "outlinewidth": 0,
              "ticks": ""
             }
            },
            "marker": {
             "colorbar": {
              "outlinewidth": 0,
              "ticks": ""
             }
            },
            "type": "scatter3d"
           }
          ],
          "scattercarpet": [
           {
            "marker": {
             "colorbar": {
              "outlinewidth": 0,
              "ticks": ""
             }
            },
            "type": "scattercarpet"
           }
          ],
          "scattergeo": [
           {
            "marker": {
             "colorbar": {
              "outlinewidth": 0,
              "ticks": ""
             }
            },
            "type": "scattergeo"
           }
          ],
          "scattergl": [
           {
            "marker": {
             "colorbar": {
              "outlinewidth": 0,
              "ticks": ""
             }
            },
            "type": "scattergl"
           }
          ],
          "scattermapbox": [
           {
            "marker": {
             "colorbar": {
              "outlinewidth": 0,
              "ticks": ""
             }
            },
            "type": "scattermapbox"
           }
          ],
          "scatterpolar": [
           {
            "marker": {
             "colorbar": {
              "outlinewidth": 0,
              "ticks": ""
             }
            },
            "type": "scatterpolar"
           }
          ],
          "scatterpolargl": [
           {
            "marker": {
             "colorbar": {
              "outlinewidth": 0,
              "ticks": ""
             }
            },
            "type": "scatterpolargl"
           }
          ],
          "scatterternary": [
           {
            "marker": {
             "colorbar": {
              "outlinewidth": 0,
              "ticks": ""
             }
            },
            "type": "scatterternary"
           }
          ],
          "surface": [
           {
            "colorbar": {
             "outlinewidth": 0,
             "ticks": ""
            },
            "colorscale": [
             [
              0,
              "#0d0887"
             ],
             [
              0.1111111111111111,
              "#46039f"
             ],
             [
              0.2222222222222222,
              "#7201a8"
             ],
             [
              0.3333333333333333,
              "#9c179e"
             ],
             [
              0.4444444444444444,
              "#bd3786"
             ],
             [
              0.5555555555555556,
              "#d8576b"
             ],
             [
              0.6666666666666666,
              "#ed7953"
             ],
             [
              0.7777777777777778,
              "#fb9f3a"
             ],
             [
              0.8888888888888888,
              "#fdca26"
             ],
             [
              1,
              "#f0f921"
             ]
            ],
            "type": "surface"
           }
          ],
          "table": [
           {
            "cells": {
             "fill": {
              "color": "#EBF0F8"
             },
             "line": {
              "color": "white"
             }
            },
            "header": {
             "fill": {
              "color": "#C8D4E3"
             },
             "line": {
              "color": "white"
             }
            },
            "type": "table"
           }
          ]
         },
         "layout": {
          "annotationdefaults": {
           "arrowcolor": "#2a3f5f",
           "arrowhead": 0,
           "arrowwidth": 1
          },
          "autotypenumbers": "strict",
          "coloraxis": {
           "colorbar": {
            "outlinewidth": 0,
            "ticks": ""
           }
          },
          "colorscale": {
           "diverging": [
            [
             0,
             "#8e0152"
            ],
            [
             0.1,
             "#c51b7d"
            ],
            [
             0.2,
             "#de77ae"
            ],
            [
             0.3,
             "#f1b6da"
            ],
            [
             0.4,
             "#fde0ef"
            ],
            [
             0.5,
             "#f7f7f7"
            ],
            [
             0.6,
             "#e6f5d0"
            ],
            [
             0.7,
             "#b8e186"
            ],
            [
             0.8,
             "#7fbc41"
            ],
            [
             0.9,
             "#4d9221"
            ],
            [
             1,
             "#276419"
            ]
           ],
           "sequential": [
            [
             0,
             "#0d0887"
            ],
            [
             0.1111111111111111,
             "#46039f"
            ],
            [
             0.2222222222222222,
             "#7201a8"
            ],
            [
             0.3333333333333333,
             "#9c179e"
            ],
            [
             0.4444444444444444,
             "#bd3786"
            ],
            [
             0.5555555555555556,
             "#d8576b"
            ],
            [
             0.6666666666666666,
             "#ed7953"
            ],
            [
             0.7777777777777778,
             "#fb9f3a"
            ],
            [
             0.8888888888888888,
             "#fdca26"
            ],
            [
             1,
             "#f0f921"
            ]
           ],
           "sequentialminus": [
            [
             0,
             "#0d0887"
            ],
            [
             0.1111111111111111,
             "#46039f"
            ],
            [
             0.2222222222222222,
             "#7201a8"
            ],
            [
             0.3333333333333333,
             "#9c179e"
            ],
            [
             0.4444444444444444,
             "#bd3786"
            ],
            [
             0.5555555555555556,
             "#d8576b"
            ],
            [
             0.6666666666666666,
             "#ed7953"
            ],
            [
             0.7777777777777778,
             "#fb9f3a"
            ],
            [
             0.8888888888888888,
             "#fdca26"
            ],
            [
             1,
             "#f0f921"
            ]
           ]
          },
          "colorway": [
           "#636efa",
           "#EF553B",
           "#00cc96",
           "#ab63fa",
           "#FFA15A",
           "#19d3f3",
           "#FF6692",
           "#B6E880",
           "#FF97FF",
           "#FECB52"
          ],
          "font": {
           "color": "#2a3f5f"
          },
          "geo": {
           "bgcolor": "white",
           "lakecolor": "white",
           "landcolor": "#E5ECF6",
           "showlakes": true,
           "showland": true,
           "subunitcolor": "white"
          },
          "hoverlabel": {
           "align": "left"
          },
          "hovermode": "closest",
          "mapbox": {
           "style": "light"
          },
          "paper_bgcolor": "white",
          "plot_bgcolor": "#E5ECF6",
          "polar": {
           "angularaxis": {
            "gridcolor": "white",
            "linecolor": "white",
            "ticks": ""
           },
           "bgcolor": "#E5ECF6",
           "radialaxis": {
            "gridcolor": "white",
            "linecolor": "white",
            "ticks": ""
           }
          },
          "scene": {
           "xaxis": {
            "backgroundcolor": "#E5ECF6",
            "gridcolor": "white",
            "gridwidth": 2,
            "linecolor": "white",
            "showbackground": true,
            "ticks": "",
            "zerolinecolor": "white"
           },
           "yaxis": {
            "backgroundcolor": "#E5ECF6",
            "gridcolor": "white",
            "gridwidth": 2,
            "linecolor": "white",
            "showbackground": true,
            "ticks": "",
            "zerolinecolor": "white"
           },
           "zaxis": {
            "backgroundcolor": "#E5ECF6",
            "gridcolor": "white",
            "gridwidth": 2,
            "linecolor": "white",
            "showbackground": true,
            "ticks": "",
            "zerolinecolor": "white"
           }
          },
          "shapedefaults": {
           "line": {
            "color": "#2a3f5f"
           }
          },
          "ternary": {
           "aaxis": {
            "gridcolor": "white",
            "linecolor": "white",
            "ticks": ""
           },
           "baxis": {
            "gridcolor": "white",
            "linecolor": "white",
            "ticks": ""
           },
           "bgcolor": "#E5ECF6",
           "caxis": {
            "gridcolor": "white",
            "linecolor": "white",
            "ticks": ""
           }
          },
          "title": {
           "x": 0.05
          },
          "xaxis": {
           "automargin": true,
           "gridcolor": "white",
           "linecolor": "white",
           "ticks": "",
           "title": {
            "standoff": 15
           },
           "zerolinecolor": "white",
           "zerolinewidth": 2
          },
          "yaxis": {
           "automargin": true,
           "gridcolor": "white",
           "linecolor": "white",
           "ticks": "",
           "title": {
            "standoff": 15
           },
           "zerolinecolor": "white",
           "zerolinewidth": 2
          }
         }
        },
        "width": 600,
        "xaxis": {
         "anchor": "y",
         "domain": [
          0,
          1
         ],
         "range": [
          -0.002,
          0.018
         ],
         "tickfont": {
          "color": "black",
          "family": "Times New Roman",
          "size": 16
         },
         "title": {
          "text": "x"
         }
        },
        "yaxis": {
         "anchor": "x",
         "domain": [
          0,
          1
         ],
         "range": [
          1,
          11
         ],
         "tickfont": {
          "color": "black",
          "family": "Times New Roman",
          "size": 16
         },
         "title": {
          "text": "y"
         }
        }
       }
      }
     },
     "metadata": {},
     "output_type": "display_data"
    }
   ],
   "source": [
    "# Font customization variables - modify these as desired\n",
    "font_family = \"Times New Roman\"\n",
    "font_size = 16          # Set desired font size\n",
    "font_color = \"black\"    # Set desired font color\n",
    "\n",
    "# Create a scatter plot using Plotly Express directly from numpy arrays\n",
    "fig = px.scatter(\n",
    "    x=R[:, 0],            # x-axis: threshold (first column)\n",
    "    y=R[:, 1],            # y-axis: duration (second column)\n",
    "    size = R[:, 2],       # size of the markers determined by the f-beta score (third column)\n",
    "    color=R[:, 9],        # color determined by the last column (index)\n",
    "    # Set a continuous color scale from light gray (min) to black (max)\n",
    "    color_continuous_scale=[[0, 'lightgray'], [1, 'black']],\n",
    "    # title=\"2D Scatter Plot\"\n",
    ")\n",
    "\n",
    "# Update layout: set font and specify equal width and height for visual equality of axes\n",
    "fig.update_layout(\n",
    "    font=dict(\n",
    "        family=font_family,  # set font family to Times New Roman\n",
    "        size=font_size,      # set font size\n",
    "        color=font_color     # set font color\n",
    "    ),\n",
    "    width=600,               # set figure width (in pixels)\n",
    "    height=600               # set figure height (in pixels) to create a square canvas\n",
    ")\n",
    "\n",
    "# Update x-axis and y-axis with the customized font properties and specified ranges\n",
    "fig.update_xaxes(\n",
    "    range=[-0.002, 0.018],\n",
    "    tickfont=dict(family=font_family, size=font_size, color=font_color)\n",
    ")\n",
    "fig.update_yaxes(\n",
    "    range=[1, 11],\n",
    "    tickfont=dict(family=font_family, size=font_size, color=font_color)\n",
    ")\n",
    "\n",
    "# Display the plot\n",
    "fig.show()\n",
    "\n"
   ]
  },
  {
   "cell_type": "code",
   "execution_count": 6,
   "metadata": {},
   "outputs": [
    {
     "data": {
      "application/vnd.plotly.v1+json": {
       "config": {
        "plotlyServerURL": "https://plot.ly"
       },
       "data": [
        {
         "marker": {
          "color": "red",
          "size": 10
         },
         "mode": "markers",
         "name": "R_PRE",
         "type": "scatter",
         "x": [
          0.00033654789784862116,
          0.00219865554136328,
          0.015720044164831172,
          0.007368194401393576,
          0.009402889402293429,
          0.0006844824716602305,
          0.01155532735246033,
          0.01753636636350028,
          0.0031952530085227362,
          0.006199205502795825,
          0.01367881824733653,
          0.0033753174292445384,
          0.009972337734102318,
          0.014064844016711714,
          0.004619568912342903,
          0.012258236548423743,
          0.013075533774944565,
          0.009944033458278524,
          0.0007989539864326439,
          0.0012191455741698957,
          0.006358167539101247,
          0.0020408350120328248,
          0.001541342713304257,
          0.001454042704838776,
          0.015814239411679226,
          0.011620492527197443,
          0.011504618229983781,
          0.017370544009307827,
          0.00018240033948512663,
          0.0075412493391689645,
          0.016356824312437148,
          0.00034237913161195156,
          0.016145541219561483,
          0.01653361438713557,
          0.0006082395158725449,
          0.014153195546823606,
          0.014002548997181332,
          0.009328695036942078,
          0.0006127641349001275,
          0.0034096503487435078,
          0.009271508373593678,
          0.01616772993637093,
          0.004799638807044426,
          0.01329431824622545,
          0.00017281891197809201
         ],
         "y": [
          2.2605032223885653,
          2.3191249992291105,
          9.298272195069801,
          3.297107469873332,
          2.516622598463562,
          9.424409334389424,
          2.4900558082512445,
          3.1825473516181555,
          6.067390694328477,
          7.863362746493134,
          3.7331562540841023,
          8.921963181015897,
          3.2312171911329166,
          9.7375748929326,
          8.493103503757979,
          4.9695209128050095,
          4.333798106229627,
          6.989477111626149,
          5.3544097952912235,
          6.657362698813434,
          7.335867033950948,
          4.5618651625410696,
          3.8911541615373757,
          2.0464390084477975,
          9.952960965059068,
          4.877215634419471,
          5.624257159977952,
          5.201146338607229,
          4.158400518803275,
          2.8556759594631247,
          7.155841908612459,
          6.339694673891274,
          8.183283704364854,
          5.678054066953499,
          4.759156511089139,
          3.5970285444387793,
          7.5754790176964315,
          3.632874792332962,
          6.722460361985995,
          5.1349261501626895,
          5.901311244236837,
          4.073504911151642,
          2.0158357588230587,
          4.47059761295514,
          9.993582035313885
         ]
        },
        {
         "marker": {
          "color": "blue",
          "size": 10
         },
         "mode": "markers",
         "name": "R_ONB",
         "type": "scatter",
         "x": [
          0.014435327473777466,
          0.007938039842215056,
          0.016079625524062238,
          0.016604765975873622,
          0.014783350300530244,
          0.015981634632245972,
          0.013505878672728512,
          0.01633918469679386,
          0.00042300343388361515,
          0.0058721126476576225,
          0.014119467061272942,
          0.016122808239995127,
          0.010869380303125247,
          0.014593720200762989,
          0.014714890604441545,
          0.014048398689986913,
          0.015810034023010993,
          0.014434365402787837,
          0.014542891221688718,
          0.011007507158006219
         ],
         "y": [
          4.612701349056424,
          4.6909812662370465,
          4.4753205549552995,
          4.526388008507677,
          4.706684303616493,
          4.625171484289713,
          4.470979382907074,
          4.358151871214557,
          4.737432285136505,
          4.305451468156802,
          4.207560432661513,
          4.265930331097981,
          3.7708526977547008,
          3.651519333271187,
          3.9212736669675037,
          3.585820534512167,
          3.886873176724558,
          3.708030860288245,
          4.013133131860945,
          3.7131224854056244
         ]
        }
       ],
       "layout": {
        "font": {
         "color": "black",
         "family": "Times New Roman",
         "size": 16
        },
        "height": 600,
        "showlegend": false,
        "template": {
         "data": {
          "bar": [
           {
            "error_x": {
             "color": "#2a3f5f"
            },
            "error_y": {
             "color": "#2a3f5f"
            },
            "marker": {
             "line": {
              "color": "#E5ECF6",
              "width": 0.5
             },
             "pattern": {
              "fillmode": "overlay",
              "size": 10,
              "solidity": 0.2
             }
            },
            "type": "bar"
           }
          ],
          "barpolar": [
           {
            "marker": {
             "line": {
              "color": "#E5ECF6",
              "width": 0.5
             },
             "pattern": {
              "fillmode": "overlay",
              "size": 10,
              "solidity": 0.2
             }
            },
            "type": "barpolar"
           }
          ],
          "carpet": [
           {
            "aaxis": {
             "endlinecolor": "#2a3f5f",
             "gridcolor": "white",
             "linecolor": "white",
             "minorgridcolor": "white",
             "startlinecolor": "#2a3f5f"
            },
            "baxis": {
             "endlinecolor": "#2a3f5f",
             "gridcolor": "white",
             "linecolor": "white",
             "minorgridcolor": "white",
             "startlinecolor": "#2a3f5f"
            },
            "type": "carpet"
           }
          ],
          "choropleth": [
           {
            "colorbar": {
             "outlinewidth": 0,
             "ticks": ""
            },
            "type": "choropleth"
           }
          ],
          "contour": [
           {
            "colorbar": {
             "outlinewidth": 0,
             "ticks": ""
            },
            "colorscale": [
             [
              0,
              "#0d0887"
             ],
             [
              0.1111111111111111,
              "#46039f"
             ],
             [
              0.2222222222222222,
              "#7201a8"
             ],
             [
              0.3333333333333333,
              "#9c179e"
             ],
             [
              0.4444444444444444,
              "#bd3786"
             ],
             [
              0.5555555555555556,
              "#d8576b"
             ],
             [
              0.6666666666666666,
              "#ed7953"
             ],
             [
              0.7777777777777778,
              "#fb9f3a"
             ],
             [
              0.8888888888888888,
              "#fdca26"
             ],
             [
              1,
              "#f0f921"
             ]
            ],
            "type": "contour"
           }
          ],
          "contourcarpet": [
           {
            "colorbar": {
             "outlinewidth": 0,
             "ticks": ""
            },
            "type": "contourcarpet"
           }
          ],
          "heatmap": [
           {
            "colorbar": {
             "outlinewidth": 0,
             "ticks": ""
            },
            "colorscale": [
             [
              0,
              "#0d0887"
             ],
             [
              0.1111111111111111,
              "#46039f"
             ],
             [
              0.2222222222222222,
              "#7201a8"
             ],
             [
              0.3333333333333333,
              "#9c179e"
             ],
             [
              0.4444444444444444,
              "#bd3786"
             ],
             [
              0.5555555555555556,
              "#d8576b"
             ],
             [
              0.6666666666666666,
              "#ed7953"
             ],
             [
              0.7777777777777778,
              "#fb9f3a"
             ],
             [
              0.8888888888888888,
              "#fdca26"
             ],
             [
              1,
              "#f0f921"
             ]
            ],
            "type": "heatmap"
           }
          ],
          "heatmapgl": [
           {
            "colorbar": {
             "outlinewidth": 0,
             "ticks": ""
            },
            "colorscale": [
             [
              0,
              "#0d0887"
             ],
             [
              0.1111111111111111,
              "#46039f"
             ],
             [
              0.2222222222222222,
              "#7201a8"
             ],
             [
              0.3333333333333333,
              "#9c179e"
             ],
             [
              0.4444444444444444,
              "#bd3786"
             ],
             [
              0.5555555555555556,
              "#d8576b"
             ],
             [
              0.6666666666666666,
              "#ed7953"
             ],
             [
              0.7777777777777778,
              "#fb9f3a"
             ],
             [
              0.8888888888888888,
              "#fdca26"
             ],
             [
              1,
              "#f0f921"
             ]
            ],
            "type": "heatmapgl"
           }
          ],
          "histogram": [
           {
            "marker": {
             "pattern": {
              "fillmode": "overlay",
              "size": 10,
              "solidity": 0.2
             }
            },
            "type": "histogram"
           }
          ],
          "histogram2d": [
           {
            "colorbar": {
             "outlinewidth": 0,
             "ticks": ""
            },
            "colorscale": [
             [
              0,
              "#0d0887"
             ],
             [
              0.1111111111111111,
              "#46039f"
             ],
             [
              0.2222222222222222,
              "#7201a8"
             ],
             [
              0.3333333333333333,
              "#9c179e"
             ],
             [
              0.4444444444444444,
              "#bd3786"
             ],
             [
              0.5555555555555556,
              "#d8576b"
             ],
             [
              0.6666666666666666,
              "#ed7953"
             ],
             [
              0.7777777777777778,
              "#fb9f3a"
             ],
             [
              0.8888888888888888,
              "#fdca26"
             ],
             [
              1,
              "#f0f921"
             ]
            ],
            "type": "histogram2d"
           }
          ],
          "histogram2dcontour": [
           {
            "colorbar": {
             "outlinewidth": 0,
             "ticks": ""
            },
            "colorscale": [
             [
              0,
              "#0d0887"
             ],
             [
              0.1111111111111111,
              "#46039f"
             ],
             [
              0.2222222222222222,
              "#7201a8"
             ],
             [
              0.3333333333333333,
              "#9c179e"
             ],
             [
              0.4444444444444444,
              "#bd3786"
             ],
             [
              0.5555555555555556,
              "#d8576b"
             ],
             [
              0.6666666666666666,
              "#ed7953"
             ],
             [
              0.7777777777777778,
              "#fb9f3a"
             ],
             [
              0.8888888888888888,
              "#fdca26"
             ],
             [
              1,
              "#f0f921"
             ]
            ],
            "type": "histogram2dcontour"
           }
          ],
          "mesh3d": [
           {
            "colorbar": {
             "outlinewidth": 0,
             "ticks": ""
            },
            "type": "mesh3d"
           }
          ],
          "parcoords": [
           {
            "line": {
             "colorbar": {
              "outlinewidth": 0,
              "ticks": ""
             }
            },
            "type": "parcoords"
           }
          ],
          "pie": [
           {
            "automargin": true,
            "type": "pie"
           }
          ],
          "scatter": [
           {
            "fillpattern": {
             "fillmode": "overlay",
             "size": 10,
             "solidity": 0.2
            },
            "type": "scatter"
           }
          ],
          "scatter3d": [
           {
            "line": {
             "colorbar": {
              "outlinewidth": 0,
              "ticks": ""
             }
            },
            "marker": {
             "colorbar": {
              "outlinewidth": 0,
              "ticks": ""
             }
            },
            "type": "scatter3d"
           }
          ],
          "scattercarpet": [
           {
            "marker": {
             "colorbar": {
              "outlinewidth": 0,
              "ticks": ""
             }
            },
            "type": "scattercarpet"
           }
          ],
          "scattergeo": [
           {
            "marker": {
             "colorbar": {
              "outlinewidth": 0,
              "ticks": ""
             }
            },
            "type": "scattergeo"
           }
          ],
          "scattergl": [
           {
            "marker": {
             "colorbar": {
              "outlinewidth": 0,
              "ticks": ""
             }
            },
            "type": "scattergl"
           }
          ],
          "scattermapbox": [
           {
            "marker": {
             "colorbar": {
              "outlinewidth": 0,
              "ticks": ""
             }
            },
            "type": "scattermapbox"
           }
          ],
          "scatterpolar": [
           {
            "marker": {
             "colorbar": {
              "outlinewidth": 0,
              "ticks": ""
             }
            },
            "type": "scatterpolar"
           }
          ],
          "scatterpolargl": [
           {
            "marker": {
             "colorbar": {
              "outlinewidth": 0,
              "ticks": ""
             }
            },
            "type": "scatterpolargl"
           }
          ],
          "scatterternary": [
           {
            "marker": {
             "colorbar": {
              "outlinewidth": 0,
              "ticks": ""
             }
            },
            "type": "scatterternary"
           }
          ],
          "surface": [
           {
            "colorbar": {
             "outlinewidth": 0,
             "ticks": ""
            },
            "colorscale": [
             [
              0,
              "#0d0887"
             ],
             [
              0.1111111111111111,
              "#46039f"
             ],
             [
              0.2222222222222222,
              "#7201a8"
             ],
             [
              0.3333333333333333,
              "#9c179e"
             ],
             [
              0.4444444444444444,
              "#bd3786"
             ],
             [
              0.5555555555555556,
              "#d8576b"
             ],
             [
              0.6666666666666666,
              "#ed7953"
             ],
             [
              0.7777777777777778,
              "#fb9f3a"
             ],
             [
              0.8888888888888888,
              "#fdca26"
             ],
             [
              1,
              "#f0f921"
             ]
            ],
            "type": "surface"
           }
          ],
          "table": [
           {
            "cells": {
             "fill": {
              "color": "#EBF0F8"
             },
             "line": {
              "color": "white"
             }
            },
            "header": {
             "fill": {
              "color": "#C8D4E3"
             },
             "line": {
              "color": "white"
             }
            },
            "type": "table"
           }
          ]
         },
         "layout": {
          "annotationdefaults": {
           "arrowcolor": "#2a3f5f",
           "arrowhead": 0,
           "arrowwidth": 1
          },
          "autotypenumbers": "strict",
          "coloraxis": {
           "colorbar": {
            "outlinewidth": 0,
            "ticks": ""
           }
          },
          "colorscale": {
           "diverging": [
            [
             0,
             "#8e0152"
            ],
            [
             0.1,
             "#c51b7d"
            ],
            [
             0.2,
             "#de77ae"
            ],
            [
             0.3,
             "#f1b6da"
            ],
            [
             0.4,
             "#fde0ef"
            ],
            [
             0.5,
             "#f7f7f7"
            ],
            [
             0.6,
             "#e6f5d0"
            ],
            [
             0.7,
             "#b8e186"
            ],
            [
             0.8,
             "#7fbc41"
            ],
            [
             0.9,
             "#4d9221"
            ],
            [
             1,
             "#276419"
            ]
           ],
           "sequential": [
            [
             0,
             "#0d0887"
            ],
            [
             0.1111111111111111,
             "#46039f"
            ],
            [
             0.2222222222222222,
             "#7201a8"
            ],
            [
             0.3333333333333333,
             "#9c179e"
            ],
            [
             0.4444444444444444,
             "#bd3786"
            ],
            [
             0.5555555555555556,
             "#d8576b"
            ],
            [
             0.6666666666666666,
             "#ed7953"
            ],
            [
             0.7777777777777778,
             "#fb9f3a"
            ],
            [
             0.8888888888888888,
             "#fdca26"
            ],
            [
             1,
             "#f0f921"
            ]
           ],
           "sequentialminus": [
            [
             0,
             "#0d0887"
            ],
            [
             0.1111111111111111,
             "#46039f"
            ],
            [
             0.2222222222222222,
             "#7201a8"
            ],
            [
             0.3333333333333333,
             "#9c179e"
            ],
            [
             0.4444444444444444,
             "#bd3786"
            ],
            [
             0.5555555555555556,
             "#d8576b"
            ],
            [
             0.6666666666666666,
             "#ed7953"
            ],
            [
             0.7777777777777778,
             "#fb9f3a"
            ],
            [
             0.8888888888888888,
             "#fdca26"
            ],
            [
             1,
             "#f0f921"
            ]
           ]
          },
          "colorway": [
           "#636efa",
           "#EF553B",
           "#00cc96",
           "#ab63fa",
           "#FFA15A",
           "#19d3f3",
           "#FF6692",
           "#B6E880",
           "#FF97FF",
           "#FECB52"
          ],
          "font": {
           "color": "#2a3f5f"
          },
          "geo": {
           "bgcolor": "white",
           "lakecolor": "white",
           "landcolor": "#E5ECF6",
           "showlakes": true,
           "showland": true,
           "subunitcolor": "white"
          },
          "hoverlabel": {
           "align": "left"
          },
          "hovermode": "closest",
          "mapbox": {
           "style": "light"
          },
          "paper_bgcolor": "white",
          "plot_bgcolor": "#E5ECF6",
          "polar": {
           "angularaxis": {
            "gridcolor": "white",
            "linecolor": "white",
            "ticks": ""
           },
           "bgcolor": "#E5ECF6",
           "radialaxis": {
            "gridcolor": "white",
            "linecolor": "white",
            "ticks": ""
           }
          },
          "scene": {
           "xaxis": {
            "backgroundcolor": "#E5ECF6",
            "gridcolor": "white",
            "gridwidth": 2,
            "linecolor": "white",
            "showbackground": true,
            "ticks": "",
            "zerolinecolor": "white"
           },
           "yaxis": {
            "backgroundcolor": "#E5ECF6",
            "gridcolor": "white",
            "gridwidth": 2,
            "linecolor": "white",
            "showbackground": true,
            "ticks": "",
            "zerolinecolor": "white"
           },
           "zaxis": {
            "backgroundcolor": "#E5ECF6",
            "gridcolor": "white",
            "gridwidth": 2,
            "linecolor": "white",
            "showbackground": true,
            "ticks": "",
            "zerolinecolor": "white"
           }
          },
          "shapedefaults": {
           "line": {
            "color": "#2a3f5f"
           }
          },
          "ternary": {
           "aaxis": {
            "gridcolor": "white",
            "linecolor": "white",
            "ticks": ""
           },
           "baxis": {
            "gridcolor": "white",
            "linecolor": "white",
            "ticks": ""
           },
           "bgcolor": "#E5ECF6",
           "caxis": {
            "gridcolor": "white",
            "linecolor": "white",
            "ticks": ""
           }
          },
          "title": {
           "x": 0.05
          },
          "xaxis": {
           "automargin": true,
           "gridcolor": "white",
           "linecolor": "white",
           "ticks": "",
           "title": {
            "standoff": 15
           },
           "zerolinecolor": "white",
           "zerolinewidth": 2
          },
          "yaxis": {
           "automargin": true,
           "gridcolor": "white",
           "linecolor": "white",
           "ticks": "",
           "title": {
            "standoff": 15
           },
           "zerolinecolor": "white",
           "zerolinewidth": 2
          }
         }
        },
        "width": 600,
        "xaxis": {
         "range": [
          -0.002,
          0.018
         ],
         "tickfont": {
          "color": "black",
          "family": "Times New Roman",
          "size": 16
         },
         "title": {
          "text": "Threshold (g)"
         }
        },
        "yaxis": {
         "range": [
          1,
          11
         ],
         "tickfont": {
          "color": "black",
          "family": "Times New Roman",
          "size": 16
         },
         "title": {
          "text": "Duration (s)"
         }
        }
       }
      }
     },
     "metadata": {},
     "output_type": "display_data"
    }
   ],
   "source": [
    "import plotly.graph_objects as go\n",
    "\n",
    "# Font customization variables - modify as desired\n",
    "font_family = \"Times New Roman\"\n",
    "font_size = 16          # Font size\n",
    "font_color = \"black\"    # Font color\n",
    "\n",
    "# Create figure object\n",
    "fig = go.Figure()\n",
    "\n",
    "# Add first dataset R_PRE (red) using the same approach for both datasets\n",
    "fig.add_trace(go.Scatter(\n",
    "    x=R_PRE[:, 0],       # x-axis: threshold (first column)\n",
    "    y=R_PRE[:, 1],       # y-axis: duration (second column)\n",
    "    mode='markers',      # markers only\n",
    "    marker=dict(\n",
    "        size=10,         # marker size\n",
    "        color='red'      # red color\n",
    "    ),\n",
    "    name='R_PRE'\n",
    "))\n",
    "\n",
    "# Add second dataset R_ONB (blue) using the same approach for both datasets\n",
    "fig.add_trace(go.Scatter(\n",
    "    x=R_ONB[:, 0],       # x-axis: threshold (first column)\n",
    "    y=R_ONB[:, 1],       # y-axis: duration (second column)\n",
    "    mode='markers',      # markers only\n",
    "    marker=dict(\n",
    "        size=10,         # marker size\n",
    "        color='blue'     # blue color\n",
    "    ),\n",
    "    name='R_ONB'\n",
    "))\n",
    "\n",
    "# Update overall layout: set font, square canvas, axis labels, and cancel legend display\n",
    "fig.update_layout(\n",
    "    font=dict(\n",
    "        family=font_family,\n",
    "        size=font_size,\n",
    "        color=font_color\n",
    "    ),\n",
    "    width=600,\n",
    "    height=600,\n",
    "    showlegend=False,          # Cancel legend display\n",
    "    xaxis_title=\"Threshold (g)\",   # x-axis label with unit g\n",
    "    yaxis_title=\"Duration (s)\"       # y-axis label with unit s\n",
    ")\n",
    "\n",
    "# Update x-axis range and tick font\n",
    "fig.update_xaxes(\n",
    "    range=[-0.002, 0.018],\n",
    "    tickfont=dict(family=font_family, size=font_size, color=font_color)\n",
    ")\n",
    "\n",
    "# Update y-axis range and tick font\n",
    "fig.update_yaxes(\n",
    "    range=[1, 11],\n",
    "    tickfont=dict(family=font_family, size=font_size, color=font_color)\n",
    ")\n",
    "\n",
    "# Show plot\n",
    "fig.show()\n"
   ]
  },
  {
   "cell_type": "code",
   "execution_count": 7,
   "metadata": {},
   "outputs": [
    {
     "data": {
      "application/vnd.plotly.v1+json": {
       "config": {
        "plotlyServerURL": "https://plot.ly"
       },
       "data": [
        {
         "marker": {
          "color": "red",
          "size": [
           16.049382716049383,
           16.049382716049383,
           15.086970972745402,
           16.11704792118885,
           16.784037558685444,
           16.049382716049383,
           19.140547015372327,
           18.454258675078865,
           16.113039167079823,
           16.61261027503892,
           21.556122448979593,
           16.139161537181835,
           18.429763960852043,
           15.66824072040413,
           16.073811509591327,
           21.585321950216006,
           21.349358310908716,
           21.391692150866465,
           16.049382716049383,
           16.049382716049383,
           16.798583172992828,
           16.049382716049383,
           16.049382716049383,
           16.049382716049383,
           15.086970972745402,
           21.605530474040634,
           21.483844412430543,
           16.63330447954988,
           16.049382716049383,
           16.166195308600898,
           15.581702221244777,
           16.049382716049383,
           15.407938257993386,
           17.18783522849174,
           16.049382716049383,
           21.452953935137373,
           16.7449773169151,
           17.68057342400294,
           16.049382716049383,
           16.06524962926347,
           18.938572273713273,
           18.189017951425555,
           16.049382716049383,
           21.20825554864136,
           16.049382716049383
          ]
         },
         "mode": "markers",
         "name": "R_PRE",
         "type": "scatter",
         "x": [
          0.00033654789784862116,
          0.00219865554136328,
          0.015720044164831172,
          0.007368194401393576,
          0.009402889402293429,
          0.0006844824716602305,
          0.01155532735246033,
          0.01753636636350028,
          0.0031952530085227362,
          0.006199205502795825,
          0.01367881824733653,
          0.0033753174292445384,
          0.009972337734102318,
          0.014064844016711714,
          0.004619568912342903,
          0.012258236548423743,
          0.013075533774944565,
          0.009944033458278524,
          0.0007989539864326439,
          0.0012191455741698957,
          0.006358167539101247,
          0.0020408350120328248,
          0.001541342713304257,
          0.001454042704838776,
          0.015814239411679226,
          0.011620492527197443,
          0.011504618229983781,
          0.017370544009307827,
          0.00018240033948512663,
          0.0075412493391689645,
          0.016356824312437148,
          0.00034237913161195156,
          0.016145541219561483,
          0.01653361438713557,
          0.0006082395158725449,
          0.014153195546823606,
          0.014002548997181332,
          0.009328695036942078,
          0.0006127641349001275,
          0.0034096503487435078,
          0.009271508373593678,
          0.01616772993637093,
          0.004799638807044426,
          0.01329431824622545,
          0.00017281891197809201
         ],
         "y": [
          2.2605032223885653,
          2.3191249992291105,
          9.298272195069801,
          3.297107469873332,
          2.516622598463562,
          9.424409334389424,
          2.4900558082512445,
          3.1825473516181555,
          6.067390694328477,
          7.863362746493134,
          3.7331562540841023,
          8.921963181015897,
          3.2312171911329166,
          9.7375748929326,
          8.493103503757979,
          4.9695209128050095,
          4.333798106229627,
          6.989477111626149,
          5.3544097952912235,
          6.657362698813434,
          7.335867033950948,
          4.5618651625410696,
          3.8911541615373757,
          2.0464390084477975,
          9.952960965059068,
          4.877215634419471,
          5.624257159977952,
          5.201146338607229,
          4.158400518803275,
          2.8556759594631247,
          7.155841908612459,
          6.339694673891274,
          8.183283704364854,
          5.678054066953499,
          4.759156511089139,
          3.5970285444387793,
          7.5754790176964315,
          3.632874792332962,
          6.722460361985995,
          5.1349261501626895,
          5.901311244236837,
          4.073504911151642,
          2.0158357588230587,
          4.47059761295514,
          9.993582035313885
         ]
        },
        {
         "marker": {
          "color": "blue",
          "size": [
           20.458904710243004,
           20.79431927796431,
           20.389611462972738,
           20.354436644077914,
           20.42803537926745,
           20.37505011349678,
           20.526854603349435,
           20.390783257764934,
           14.33251522585435,
           20.60019689965784,
           20.528957863954087,
           20.414456163948206,
           20.758769647494013,
           20.576867685268297,
           20.535029913616324,
           20.614806680699886,
           20.481484838332133,
           20.578363587718744,
           20.532071476578704,
           20.759035643304728
          ]
         },
         "mode": "markers",
         "name": "R_ONB",
         "type": "scatter",
         "x": [
          0.014435327473777466,
          0.007938039842215056,
          0.016079625524062238,
          0.016604765975873622,
          0.014783350300530244,
          0.015981634632245972,
          0.013505878672728512,
          0.01633918469679386,
          0.00042300343388361515,
          0.0058721126476576225,
          0.014119467061272942,
          0.016122808239995127,
          0.010869380303125247,
          0.014593720200762989,
          0.014714890604441545,
          0.014048398689986913,
          0.015810034023010993,
          0.014434365402787837,
          0.014542891221688718,
          0.011007507158006219
         ],
         "y": [
          4.612701349056424,
          4.6909812662370465,
          4.4753205549552995,
          4.526388008507677,
          4.706684303616493,
          4.625171484289713,
          4.470979382907074,
          4.358151871214557,
          4.737432285136505,
          4.305451468156802,
          4.207560432661513,
          4.265930331097981,
          3.7708526977547008,
          3.651519333271187,
          3.9212736669675037,
          3.585820534512167,
          3.886873176724558,
          3.708030860288245,
          4.013133131860945,
          3.7131224854056244
         ]
        }
       ],
       "layout": {
        "font": {
         "color": "black",
         "family": "Times New Roman",
         "size": 16
        },
        "height": 600,
        "showlegend": false,
        "template": {
         "data": {
          "bar": [
           {
            "error_x": {
             "color": "#2a3f5f"
            },
            "error_y": {
             "color": "#2a3f5f"
            },
            "marker": {
             "line": {
              "color": "#E5ECF6",
              "width": 0.5
             },
             "pattern": {
              "fillmode": "overlay",
              "size": 10,
              "solidity": 0.2
             }
            },
            "type": "bar"
           }
          ],
          "barpolar": [
           {
            "marker": {
             "line": {
              "color": "#E5ECF6",
              "width": 0.5
             },
             "pattern": {
              "fillmode": "overlay",
              "size": 10,
              "solidity": 0.2
             }
            },
            "type": "barpolar"
           }
          ],
          "carpet": [
           {
            "aaxis": {
             "endlinecolor": "#2a3f5f",
             "gridcolor": "white",
             "linecolor": "white",
             "minorgridcolor": "white",
             "startlinecolor": "#2a3f5f"
            },
            "baxis": {
             "endlinecolor": "#2a3f5f",
             "gridcolor": "white",
             "linecolor": "white",
             "minorgridcolor": "white",
             "startlinecolor": "#2a3f5f"
            },
            "type": "carpet"
           }
          ],
          "choropleth": [
           {
            "colorbar": {
             "outlinewidth": 0,
             "ticks": ""
            },
            "type": "choropleth"
           }
          ],
          "contour": [
           {
            "colorbar": {
             "outlinewidth": 0,
             "ticks": ""
            },
            "colorscale": [
             [
              0,
              "#0d0887"
             ],
             [
              0.1111111111111111,
              "#46039f"
             ],
             [
              0.2222222222222222,
              "#7201a8"
             ],
             [
              0.3333333333333333,
              "#9c179e"
             ],
             [
              0.4444444444444444,
              "#bd3786"
             ],
             [
              0.5555555555555556,
              "#d8576b"
             ],
             [
              0.6666666666666666,
              "#ed7953"
             ],
             [
              0.7777777777777778,
              "#fb9f3a"
             ],
             [
              0.8888888888888888,
              "#fdca26"
             ],
             [
              1,
              "#f0f921"
             ]
            ],
            "type": "contour"
           }
          ],
          "contourcarpet": [
           {
            "colorbar": {
             "outlinewidth": 0,
             "ticks": ""
            },
            "type": "contourcarpet"
           }
          ],
          "heatmap": [
           {
            "colorbar": {
             "outlinewidth": 0,
             "ticks": ""
            },
            "colorscale": [
             [
              0,
              "#0d0887"
             ],
             [
              0.1111111111111111,
              "#46039f"
             ],
             [
              0.2222222222222222,
              "#7201a8"
             ],
             [
              0.3333333333333333,
              "#9c179e"
             ],
             [
              0.4444444444444444,
              "#bd3786"
             ],
             [
              0.5555555555555556,
              "#d8576b"
             ],
             [
              0.6666666666666666,
              "#ed7953"
             ],
             [
              0.7777777777777778,
              "#fb9f3a"
             ],
             [
              0.8888888888888888,
              "#fdca26"
             ],
             [
              1,
              "#f0f921"
             ]
            ],
            "type": "heatmap"
           }
          ],
          "heatmapgl": [
           {
            "colorbar": {
             "outlinewidth": 0,
             "ticks": ""
            },
            "colorscale": [
             [
              0,
              "#0d0887"
             ],
             [
              0.1111111111111111,
              "#46039f"
             ],
             [
              0.2222222222222222,
              "#7201a8"
             ],
             [
              0.3333333333333333,
              "#9c179e"
             ],
             [
              0.4444444444444444,
              "#bd3786"
             ],
             [
              0.5555555555555556,
              "#d8576b"
             ],
             [
              0.6666666666666666,
              "#ed7953"
             ],
             [
              0.7777777777777778,
              "#fb9f3a"
             ],
             [
              0.8888888888888888,
              "#fdca26"
             ],
             [
              1,
              "#f0f921"
             ]
            ],
            "type": "heatmapgl"
           }
          ],
          "histogram": [
           {
            "marker": {
             "pattern": {
              "fillmode": "overlay",
              "size": 10,
              "solidity": 0.2
             }
            },
            "type": "histogram"
           }
          ],
          "histogram2d": [
           {
            "colorbar": {
             "outlinewidth": 0,
             "ticks": ""
            },
            "colorscale": [
             [
              0,
              "#0d0887"
             ],
             [
              0.1111111111111111,
              "#46039f"
             ],
             [
              0.2222222222222222,
              "#7201a8"
             ],
             [
              0.3333333333333333,
              "#9c179e"
             ],
             [
              0.4444444444444444,
              "#bd3786"
             ],
             [
              0.5555555555555556,
              "#d8576b"
             ],
             [
              0.6666666666666666,
              "#ed7953"
             ],
             [
              0.7777777777777778,
              "#fb9f3a"
             ],
             [
              0.8888888888888888,
              "#fdca26"
             ],
             [
              1,
              "#f0f921"
             ]
            ],
            "type": "histogram2d"
           }
          ],
          "histogram2dcontour": [
           {
            "colorbar": {
             "outlinewidth": 0,
             "ticks": ""
            },
            "colorscale": [
             [
              0,
              "#0d0887"
             ],
             [
              0.1111111111111111,
              "#46039f"
             ],
             [
              0.2222222222222222,
              "#7201a8"
             ],
             [
              0.3333333333333333,
              "#9c179e"
             ],
             [
              0.4444444444444444,
              "#bd3786"
             ],
             [
              0.5555555555555556,
              "#d8576b"
             ],
             [
              0.6666666666666666,
              "#ed7953"
             ],
             [
              0.7777777777777778,
              "#fb9f3a"
             ],
             [
              0.8888888888888888,
              "#fdca26"
             ],
             [
              1,
              "#f0f921"
             ]
            ],
            "type": "histogram2dcontour"
           }
          ],
          "mesh3d": [
           {
            "colorbar": {
             "outlinewidth": 0,
             "ticks": ""
            },
            "type": "mesh3d"
           }
          ],
          "parcoords": [
           {
            "line": {
             "colorbar": {
              "outlinewidth": 0,
              "ticks": ""
             }
            },
            "type": "parcoords"
           }
          ],
          "pie": [
           {
            "automargin": true,
            "type": "pie"
           }
          ],
          "scatter": [
           {
            "fillpattern": {
             "fillmode": "overlay",
             "size": 10,
             "solidity": 0.2
            },
            "type": "scatter"
           }
          ],
          "scatter3d": [
           {
            "line": {
             "colorbar": {
              "outlinewidth": 0,
              "ticks": ""
             }
            },
            "marker": {
             "colorbar": {
              "outlinewidth": 0,
              "ticks": ""
             }
            },
            "type": "scatter3d"
           }
          ],
          "scattercarpet": [
           {
            "marker": {
             "colorbar": {
              "outlinewidth": 0,
              "ticks": ""
             }
            },
            "type": "scattercarpet"
           }
          ],
          "scattergeo": [
           {
            "marker": {
             "colorbar": {
              "outlinewidth": 0,
              "ticks": ""
             }
            },
            "type": "scattergeo"
           }
          ],
          "scattergl": [
           {
            "marker": {
             "colorbar": {
              "outlinewidth": 0,
              "ticks": ""
             }
            },
            "type": "scattergl"
           }
          ],
          "scattermapbox": [
           {
            "marker": {
             "colorbar": {
              "outlinewidth": 0,
              "ticks": ""
             }
            },
            "type": "scattermapbox"
           }
          ],
          "scatterpolar": [
           {
            "marker": {
             "colorbar": {
              "outlinewidth": 0,
              "ticks": ""
             }
            },
            "type": "scatterpolar"
           }
          ],
          "scatterpolargl": [
           {
            "marker": {
             "colorbar": {
              "outlinewidth": 0,
              "ticks": ""
             }
            },
            "type": "scatterpolargl"
           }
          ],
          "scatterternary": [
           {
            "marker": {
             "colorbar": {
              "outlinewidth": 0,
              "ticks": ""
             }
            },
            "type": "scatterternary"
           }
          ],
          "surface": [
           {
            "colorbar": {
             "outlinewidth": 0,
             "ticks": ""
            },
            "colorscale": [
             [
              0,
              "#0d0887"
             ],
             [
              0.1111111111111111,
              "#46039f"
             ],
             [
              0.2222222222222222,
              "#7201a8"
             ],
             [
              0.3333333333333333,
              "#9c179e"
             ],
             [
              0.4444444444444444,
              "#bd3786"
             ],
             [
              0.5555555555555556,
              "#d8576b"
             ],
             [
              0.6666666666666666,
              "#ed7953"
             ],
             [
              0.7777777777777778,
              "#fb9f3a"
             ],
             [
              0.8888888888888888,
              "#fdca26"
             ],
             [
              1,
              "#f0f921"
             ]
            ],
            "type": "surface"
           }
          ],
          "table": [
           {
            "cells": {
             "fill": {
              "color": "#EBF0F8"
             },
             "line": {
              "color": "white"
             }
            },
            "header": {
             "fill": {
              "color": "#C8D4E3"
             },
             "line": {
              "color": "white"
             }
            },
            "type": "table"
           }
          ]
         },
         "layout": {
          "annotationdefaults": {
           "arrowcolor": "#2a3f5f",
           "arrowhead": 0,
           "arrowwidth": 1
          },
          "autotypenumbers": "strict",
          "coloraxis": {
           "colorbar": {
            "outlinewidth": 0,
            "ticks": ""
           }
          },
          "colorscale": {
           "diverging": [
            [
             0,
             "#8e0152"
            ],
            [
             0.1,
             "#c51b7d"
            ],
            [
             0.2,
             "#de77ae"
            ],
            [
             0.3,
             "#f1b6da"
            ],
            [
             0.4,
             "#fde0ef"
            ],
            [
             0.5,
             "#f7f7f7"
            ],
            [
             0.6,
             "#e6f5d0"
            ],
            [
             0.7,
             "#b8e186"
            ],
            [
             0.8,
             "#7fbc41"
            ],
            [
             0.9,
             "#4d9221"
            ],
            [
             1,
             "#276419"
            ]
           ],
           "sequential": [
            [
             0,
             "#0d0887"
            ],
            [
             0.1111111111111111,
             "#46039f"
            ],
            [
             0.2222222222222222,
             "#7201a8"
            ],
            [
             0.3333333333333333,
             "#9c179e"
            ],
            [
             0.4444444444444444,
             "#bd3786"
            ],
            [
             0.5555555555555556,
             "#d8576b"
            ],
            [
             0.6666666666666666,
             "#ed7953"
            ],
            [
             0.7777777777777778,
             "#fb9f3a"
            ],
            [
             0.8888888888888888,
             "#fdca26"
            ],
            [
             1,
             "#f0f921"
            ]
           ],
           "sequentialminus": [
            [
             0,
             "#0d0887"
            ],
            [
             0.1111111111111111,
             "#46039f"
            ],
            [
             0.2222222222222222,
             "#7201a8"
            ],
            [
             0.3333333333333333,
             "#9c179e"
            ],
            [
             0.4444444444444444,
             "#bd3786"
            ],
            [
             0.5555555555555556,
             "#d8576b"
            ],
            [
             0.6666666666666666,
             "#ed7953"
            ],
            [
             0.7777777777777778,
             "#fb9f3a"
            ],
            [
             0.8888888888888888,
             "#fdca26"
            ],
            [
             1,
             "#f0f921"
            ]
           ]
          },
          "colorway": [
           "#636efa",
           "#EF553B",
           "#00cc96",
           "#ab63fa",
           "#FFA15A",
           "#19d3f3",
           "#FF6692",
           "#B6E880",
           "#FF97FF",
           "#FECB52"
          ],
          "font": {
           "color": "#2a3f5f"
          },
          "geo": {
           "bgcolor": "white",
           "lakecolor": "white",
           "landcolor": "#E5ECF6",
           "showlakes": true,
           "showland": true,
           "subunitcolor": "white"
          },
          "hoverlabel": {
           "align": "left"
          },
          "hovermode": "closest",
          "mapbox": {
           "style": "light"
          },
          "paper_bgcolor": "white",
          "plot_bgcolor": "#E5ECF6",
          "polar": {
           "angularaxis": {
            "gridcolor": "white",
            "linecolor": "white",
            "ticks": ""
           },
           "bgcolor": "#E5ECF6",
           "radialaxis": {
            "gridcolor": "white",
            "linecolor": "white",
            "ticks": ""
           }
          },
          "scene": {
           "xaxis": {
            "backgroundcolor": "#E5ECF6",
            "gridcolor": "white",
            "gridwidth": 2,
            "linecolor": "white",
            "showbackground": true,
            "ticks": "",
            "zerolinecolor": "white"
           },
           "yaxis": {
            "backgroundcolor": "#E5ECF6",
            "gridcolor": "white",
            "gridwidth": 2,
            "linecolor": "white",
            "showbackground": true,
            "ticks": "",
            "zerolinecolor": "white"
           },
           "zaxis": {
            "backgroundcolor": "#E5ECF6",
            "gridcolor": "white",
            "gridwidth": 2,
            "linecolor": "white",
            "showbackground": true,
            "ticks": "",
            "zerolinecolor": "white"
           }
          },
          "shapedefaults": {
           "line": {
            "color": "#2a3f5f"
           }
          },
          "ternary": {
           "aaxis": {
            "gridcolor": "white",
            "linecolor": "white",
            "ticks": ""
           },
           "baxis": {
            "gridcolor": "white",
            "linecolor": "white",
            "ticks": ""
           },
           "bgcolor": "#E5ECF6",
           "caxis": {
            "gridcolor": "white",
            "linecolor": "white",
            "ticks": ""
           }
          },
          "title": {
           "x": 0.05
          },
          "xaxis": {
           "automargin": true,
           "gridcolor": "white",
           "linecolor": "white",
           "ticks": "",
           "title": {
            "standoff": 15
           },
           "zerolinecolor": "white",
           "zerolinewidth": 2
          },
          "yaxis": {
           "automargin": true,
           "gridcolor": "white",
           "linecolor": "white",
           "ticks": "",
           "title": {
            "standoff": 15
           },
           "zerolinecolor": "white",
           "zerolinewidth": 2
          }
         }
        },
        "width": 600,
        "xaxis": {
         "range": [
          -0.002,
          0.018
         ],
         "tickfont": {
          "color": "black",
          "family": "Times New Roman",
          "size": 16
         },
         "title": {
          "text": "Threshold (g)"
         }
        },
        "yaxis": {
         "range": [
          1,
          11
         ],
         "tickfont": {
          "color": "black",
          "family": "Times New Roman",
          "size": 16
         },
         "title": {
          "text": "Duration (s)"
         }
        }
       }
      }
     },
     "metadata": {},
     "output_type": "display_data"
    }
   ],
   "source": [
    "import plotly.graph_objects as go\n",
    "\n",
    "# Font customization variables - modify as desired\n",
    "font_family = \"Times New Roman\"\n",
    "font_size = 16          # Font size\n",
    "font_color = \"black\"    # Font color\n",
    "\n",
    "# Create figure object\n",
    "fig = go.Figure()\n",
    "\n",
    "# Add first dataset R_PRE (red)\n",
    "# Use the last column of R_PRE for marker sizes\n",
    "fig.add_trace(go.Scatter(\n",
    "    x=R_PRE[:, 0],       # x-axis: threshold (first column)\n",
    "    y=R_PRE[:, 1],       # y-axis: duration (second column)\n",
    "    mode='markers',      # markers only\n",
    "    marker=dict(\n",
    "        size=R_PRE[:, 2]*20,   # marker size based on the last column values of R_PRE\n",
    "        color='red'          # red color\n",
    "    ),\n",
    "    name='R_PRE'\n",
    "))\n",
    "\n",
    "# Add second dataset R_ONB (blue)\n",
    "# Use the last column of R_ONB for marker sizes\n",
    "fig.add_trace(go.Scatter(\n",
    "    x=R_ONB[:, 0],       # x-axis: threshold (first column)\n",
    "    y=R_ONB[:, 1],       # y-axis: duration (second column)\n",
    "    mode='markers',      # markers only\n",
    "    marker=dict(\n",
    "        size=R_ONB[:, 2]*20,   # marker size based on the last column values of R_ONB\n",
    "        color='blue'          # blue color\n",
    "    ),\n",
    "    name='R_ONB'\n",
    "))\n",
    "\n",
    "# Update overall layout: set font, square canvas, axis labels, and cancel legend display\n",
    "fig.update_layout(\n",
    "    font=dict(\n",
    "        family=font_family,\n",
    "        size=font_size,\n",
    "        color=font_color\n",
    "    ),\n",
    "    width=600,\n",
    "    height=600,\n",
    "    showlegend=False,          # Hide legend\n",
    "    xaxis_title=\"Threshold (g)\",   # x-axis label with unit g\n",
    "    yaxis_title=\"Duration (s)\"       # y-axis label with unit s\n",
    ")\n",
    "\n",
    "# Update x-axis range and tick font\n",
    "fig.update_xaxes(\n",
    "    range=[-0.002, 0.018],\n",
    "    tickfont=dict(family=font_family, size=font_size, color=font_color)\n",
    ")\n",
    "\n",
    "# Update y-axis range and tick font\n",
    "fig.update_yaxes(\n",
    "    range=[1, 11],\n",
    "    tickfont=dict(family=font_family, size=font_size, color=font_color)\n",
    ")\n",
    "\n",
    "# Show plot\n",
    "fig.show()\n"
   ]
  },
  {
   "cell_type": "code",
   "execution_count": 8,
   "metadata": {},
   "outputs": [
    {
     "data": {
      "application/vnd.plotly.v1+json": {
       "config": {
        "plotlyServerURL": "https://plot.ly"
       },
       "data": [
        {
         "marker": {
          "color": [
           "hsl(0, 50.0%, 50%)",
           "hsl(0, 50.0%, 50%)",
           "hsl(0, 50.0%, 50%)",
           "hsl(0, 50.0%, 50%)",
           "hsl(0, 50.0%, 50%)",
           "hsl(0, 50.0%, 50%)",
           "hsl(0, 50.0%, 50%)",
           "hsl(0, 50.0%, 50%)",
           "hsl(0, 50.0%, 50%)",
           "hsl(0, 50.0%, 50%)",
           "hsl(0, 50.0%, 50%)",
           "hsl(0, 50.0%, 50%)",
           "hsl(0, 50.0%, 50%)",
           "hsl(0, 50.0%, 50%)",
           "hsl(0, 50.0%, 50%)",
           "hsl(0, 50.0%, 50%)",
           "hsl(0, 50.0%, 50%)",
           "hsl(0, 50.0%, 50%)",
           "hsl(0, 50.0%, 50%)",
           "hsl(0, 50.0%, 50%)",
           "hsl(0, 50.0%, 50%)",
           "hsl(0, 50.0%, 50%)",
           "hsl(0, 50.0%, 50%)",
           "hsl(0, 50.0%, 50%)",
           "hsl(0, 50.0%, 50%)",
           "hsl(0, 50.0%, 50%)",
           "hsl(0, 50.0%, 50%)",
           "hsl(0, 50.0%, 50%)",
           "hsl(0, 50.0%, 50%)",
           "hsl(0, 50.0%, 50%)",
           "hsl(0, 50.0%, 50%)",
           "hsl(0, 50.0%, 50%)",
           "hsl(0, 50.0%, 50%)",
           "hsl(0, 50.0%, 50%)",
           "hsl(0, 50.0%, 50%)",
           "hsl(0, 50.0%, 50%)",
           "hsl(0, 50.0%, 50%)",
           "hsl(0, 50.0%, 50%)",
           "hsl(0, 50.0%, 50%)",
           "hsl(0, 50.0%, 50%)",
           "hsl(0, 50.0%, 50%)",
           "hsl(0, 50.0%, 50%)",
           "hsl(0, 50.0%, 50%)",
           "hsl(0, 50.0%, 50%)",
           "hsl(0, 50.0%, 50%)"
          ],
          "size": [
           32.098765432098766,
           32.098765432098766,
           30.173941945490803,
           32.2340958423777,
           33.56807511737089,
           32.098765432098766,
           38.281094030744654,
           36.90851735015773,
           32.226078334159645,
           33.22522055007784,
           43.11224489795919,
           32.27832307436367,
           36.859527921704085,
           31.33648144080826,
           32.14762301918265,
           43.17064390043201,
           42.69871662181743,
           42.78338430173293,
           32.098765432098766,
           32.098765432098766,
           33.597166345985656,
           32.098765432098766,
           32.098765432098766,
           32.098765432098766,
           30.173941945490803,
           43.21106094808127,
           42.967688824861085,
           33.26660895909976,
           32.098765432098766,
           32.332390617201796,
           31.163404442489554,
           32.098765432098766,
           30.815876515986773,
           34.37567045698348,
           32.098765432098766,
           42.905907870274746,
           33.4899546338302,
           35.36114684800588,
           32.098765432098766,
           32.13049925852694,
           37.877144547426546,
           36.37803590285111,
           32.098765432098766,
           42.41651109728272,
           32.098765432098766
          ]
         },
         "mode": "markers",
         "name": "R_PRE",
         "type": "scatter",
         "x": [
          0.00033654789784862116,
          0.00219865554136328,
          0.015720044164831172,
          0.007368194401393576,
          0.009402889402293429,
          0.0006844824716602305,
          0.01155532735246033,
          0.01753636636350028,
          0.0031952530085227362,
          0.006199205502795825,
          0.01367881824733653,
          0.0033753174292445384,
          0.009972337734102318,
          0.014064844016711714,
          0.004619568912342903,
          0.012258236548423743,
          0.013075533774944565,
          0.009944033458278524,
          0.0007989539864326439,
          0.0012191455741698957,
          0.006358167539101247,
          0.0020408350120328248,
          0.001541342713304257,
          0.001454042704838776,
          0.015814239411679226,
          0.011620492527197443,
          0.011504618229983781,
          0.017370544009307827,
          0.00018240033948512663,
          0.0075412493391689645,
          0.016356824312437148,
          0.00034237913161195156,
          0.016145541219561483,
          0.01653361438713557,
          0.0006082395158725449,
          0.014153195546823606,
          0.014002548997181332,
          0.009328695036942078,
          0.0006127641349001275,
          0.0034096503487435078,
          0.009271508373593678,
          0.01616772993637093,
          0.004799638807044426,
          0.01329431824622545,
          0.00017281891197809201
         ],
         "y": [
          2.2605032223885653,
          2.3191249992291105,
          9.298272195069801,
          3.297107469873332,
          2.516622598463562,
          9.424409334389424,
          2.4900558082512445,
          3.1825473516181555,
          6.067390694328477,
          7.863362746493134,
          3.7331562540841023,
          8.921963181015897,
          3.2312171911329166,
          9.7375748929326,
          8.493103503757979,
          4.9695209128050095,
          4.333798106229627,
          6.989477111626149,
          5.3544097952912235,
          6.657362698813434,
          7.335867033950948,
          4.5618651625410696,
          3.8911541615373757,
          2.0464390084477975,
          9.952960965059068,
          4.877215634419471,
          5.624257159977952,
          5.201146338607229,
          4.158400518803275,
          2.8556759594631247,
          7.155841908612459,
          6.339694673891274,
          8.183283704364854,
          5.678054066953499,
          4.759156511089139,
          3.5970285444387793,
          7.5754790176964315,
          3.632874792332962,
          6.722460361985995,
          5.1349261501626895,
          5.901311244236837,
          4.073504911151642,
          2.0158357588230587,
          4.47059761295514,
          9.993582035313885
         ]
        },
        {
         "marker": {
          "color": [
           "hsl(240, 50.0%, 50%)",
           "hsl(240, 50.0%, 50%)",
           "hsl(240, 50.0%, 50%)",
           "hsl(240, 50.0%, 50%)",
           "hsl(240, 50.0%, 50%)",
           "hsl(240, 50.0%, 50%)",
           "hsl(240, 50.0%, 50%)",
           "hsl(240, 50.0%, 50%)",
           "hsl(240, 50.0%, 50%)",
           "hsl(240, 50.0%, 50%)",
           "hsl(240, 50.0%, 50%)",
           "hsl(240, 50.0%, 50%)",
           "hsl(240, 50.0%, 50%)",
           "hsl(240, 50.0%, 50%)",
           "hsl(240, 50.0%, 50%)",
           "hsl(240, 50.0%, 50%)",
           "hsl(240, 50.0%, 50%)",
           "hsl(240, 50.0%, 50%)",
           "hsl(240, 50.0%, 50%)",
           "hsl(240, 50.0%, 50%)"
          ],
          "size": [
           40.91780942048601,
           41.58863855592862,
           40.779222925945476,
           40.70887328815583,
           40.8560707585349,
           40.75010022699356,
           41.05370920669887,
           40.78156651552987,
           28.6650304517087,
           41.20039379931568,
           41.057915727908174,
           40.82891232789641,
           41.517539294988026,
           41.153735370536594,
           41.07005982723265,
           41.22961336139977,
           40.962969676664265,
           41.15672717543749,
           41.06414295315741,
           41.518071286609455
          ]
         },
         "mode": "markers",
         "name": "R_ONB",
         "type": "scatter",
         "x": [
          0.014435327473777466,
          0.007938039842215056,
          0.016079625524062238,
          0.016604765975873622,
          0.014783350300530244,
          0.015981634632245972,
          0.013505878672728512,
          0.01633918469679386,
          0.00042300343388361515,
          0.0058721126476576225,
          0.014119467061272942,
          0.016122808239995127,
          0.010869380303125247,
          0.014593720200762989,
          0.014714890604441545,
          0.014048398689986913,
          0.015810034023010993,
          0.014434365402787837,
          0.014542891221688718,
          0.011007507158006219
         ],
         "y": [
          4.612701349056424,
          4.6909812662370465,
          4.4753205549552995,
          4.526388008507677,
          4.706684303616493,
          4.625171484289713,
          4.470979382907074,
          4.358151871214557,
          4.737432285136505,
          4.305451468156802,
          4.207560432661513,
          4.265930331097981,
          3.7708526977547008,
          3.651519333271187,
          3.9212736669675037,
          3.585820534512167,
          3.886873176724558,
          3.708030860288245,
          4.013133131860945,
          3.7131224854056244
         ]
        }
       ],
       "layout": {
        "font": {
         "color": "black",
         "family": "Times New Roman",
         "size": 36
        },
        "height": 1600,
        "showlegend": false,
        "template": {
         "data": {
          "bar": [
           {
            "error_x": {
             "color": "#2a3f5f"
            },
            "error_y": {
             "color": "#2a3f5f"
            },
            "marker": {
             "line": {
              "color": "#E5ECF6",
              "width": 0.5
             },
             "pattern": {
              "fillmode": "overlay",
              "size": 10,
              "solidity": 0.2
             }
            },
            "type": "bar"
           }
          ],
          "barpolar": [
           {
            "marker": {
             "line": {
              "color": "#E5ECF6",
              "width": 0.5
             },
             "pattern": {
              "fillmode": "overlay",
              "size": 10,
              "solidity": 0.2
             }
            },
            "type": "barpolar"
           }
          ],
          "carpet": [
           {
            "aaxis": {
             "endlinecolor": "#2a3f5f",
             "gridcolor": "white",
             "linecolor": "white",
             "minorgridcolor": "white",
             "startlinecolor": "#2a3f5f"
            },
            "baxis": {
             "endlinecolor": "#2a3f5f",
             "gridcolor": "white",
             "linecolor": "white",
             "minorgridcolor": "white",
             "startlinecolor": "#2a3f5f"
            },
            "type": "carpet"
           }
          ],
          "choropleth": [
           {
            "colorbar": {
             "outlinewidth": 0,
             "ticks": ""
            },
            "type": "choropleth"
           }
          ],
          "contour": [
           {
            "colorbar": {
             "outlinewidth": 0,
             "ticks": ""
            },
            "colorscale": [
             [
              0,
              "#0d0887"
             ],
             [
              0.1111111111111111,
              "#46039f"
             ],
             [
              0.2222222222222222,
              "#7201a8"
             ],
             [
              0.3333333333333333,
              "#9c179e"
             ],
             [
              0.4444444444444444,
              "#bd3786"
             ],
             [
              0.5555555555555556,
              "#d8576b"
             ],
             [
              0.6666666666666666,
              "#ed7953"
             ],
             [
              0.7777777777777778,
              "#fb9f3a"
             ],
             [
              0.8888888888888888,
              "#fdca26"
             ],
             [
              1,
              "#f0f921"
             ]
            ],
            "type": "contour"
           }
          ],
          "contourcarpet": [
           {
            "colorbar": {
             "outlinewidth": 0,
             "ticks": ""
            },
            "type": "contourcarpet"
           }
          ],
          "heatmap": [
           {
            "colorbar": {
             "outlinewidth": 0,
             "ticks": ""
            },
            "colorscale": [
             [
              0,
              "#0d0887"
             ],
             [
              0.1111111111111111,
              "#46039f"
             ],
             [
              0.2222222222222222,
              "#7201a8"
             ],
             [
              0.3333333333333333,
              "#9c179e"
             ],
             [
              0.4444444444444444,
              "#bd3786"
             ],
             [
              0.5555555555555556,
              "#d8576b"
             ],
             [
              0.6666666666666666,
              "#ed7953"
             ],
             [
              0.7777777777777778,
              "#fb9f3a"
             ],
             [
              0.8888888888888888,
              "#fdca26"
             ],
             [
              1,
              "#f0f921"
             ]
            ],
            "type": "heatmap"
           }
          ],
          "heatmapgl": [
           {
            "colorbar": {
             "outlinewidth": 0,
             "ticks": ""
            },
            "colorscale": [
             [
              0,
              "#0d0887"
             ],
             [
              0.1111111111111111,
              "#46039f"
             ],
             [
              0.2222222222222222,
              "#7201a8"
             ],
             [
              0.3333333333333333,
              "#9c179e"
             ],
             [
              0.4444444444444444,
              "#bd3786"
             ],
             [
              0.5555555555555556,
              "#d8576b"
             ],
             [
              0.6666666666666666,
              "#ed7953"
             ],
             [
              0.7777777777777778,
              "#fb9f3a"
             ],
             [
              0.8888888888888888,
              "#fdca26"
             ],
             [
              1,
              "#f0f921"
             ]
            ],
            "type": "heatmapgl"
           }
          ],
          "histogram": [
           {
            "marker": {
             "pattern": {
              "fillmode": "overlay",
              "size": 10,
              "solidity": 0.2
             }
            },
            "type": "histogram"
           }
          ],
          "histogram2d": [
           {
            "colorbar": {
             "outlinewidth": 0,
             "ticks": ""
            },
            "colorscale": [
             [
              0,
              "#0d0887"
             ],
             [
              0.1111111111111111,
              "#46039f"
             ],
             [
              0.2222222222222222,
              "#7201a8"
             ],
             [
              0.3333333333333333,
              "#9c179e"
             ],
             [
              0.4444444444444444,
              "#bd3786"
             ],
             [
              0.5555555555555556,
              "#d8576b"
             ],
             [
              0.6666666666666666,
              "#ed7953"
             ],
             [
              0.7777777777777778,
              "#fb9f3a"
             ],
             [
              0.8888888888888888,
              "#fdca26"
             ],
             [
              1,
              "#f0f921"
             ]
            ],
            "type": "histogram2d"
           }
          ],
          "histogram2dcontour": [
           {
            "colorbar": {
             "outlinewidth": 0,
             "ticks": ""
            },
            "colorscale": [
             [
              0,
              "#0d0887"
             ],
             [
              0.1111111111111111,
              "#46039f"
             ],
             [
              0.2222222222222222,
              "#7201a8"
             ],
             [
              0.3333333333333333,
              "#9c179e"
             ],
             [
              0.4444444444444444,
              "#bd3786"
             ],
             [
              0.5555555555555556,
              "#d8576b"
             ],
             [
              0.6666666666666666,
              "#ed7953"
             ],
             [
              0.7777777777777778,
              "#fb9f3a"
             ],
             [
              0.8888888888888888,
              "#fdca26"
             ],
             [
              1,
              "#f0f921"
             ]
            ],
            "type": "histogram2dcontour"
           }
          ],
          "mesh3d": [
           {
            "colorbar": {
             "outlinewidth": 0,
             "ticks": ""
            },
            "type": "mesh3d"
           }
          ],
          "parcoords": [
           {
            "line": {
             "colorbar": {
              "outlinewidth": 0,
              "ticks": ""
             }
            },
            "type": "parcoords"
           }
          ],
          "pie": [
           {
            "automargin": true,
            "type": "pie"
           }
          ],
          "scatter": [
           {
            "fillpattern": {
             "fillmode": "overlay",
             "size": 10,
             "solidity": 0.2
            },
            "type": "scatter"
           }
          ],
          "scatter3d": [
           {
            "line": {
             "colorbar": {
              "outlinewidth": 0,
              "ticks": ""
             }
            },
            "marker": {
             "colorbar": {
              "outlinewidth": 0,
              "ticks": ""
             }
            },
            "type": "scatter3d"
           }
          ],
          "scattercarpet": [
           {
            "marker": {
             "colorbar": {
              "outlinewidth": 0,
              "ticks": ""
             }
            },
            "type": "scattercarpet"
           }
          ],
          "scattergeo": [
           {
            "marker": {
             "colorbar": {
              "outlinewidth": 0,
              "ticks": ""
             }
            },
            "type": "scattergeo"
           }
          ],
          "scattergl": [
           {
            "marker": {
             "colorbar": {
              "outlinewidth": 0,
              "ticks": ""
             }
            },
            "type": "scattergl"
           }
          ],
          "scattermapbox": [
           {
            "marker": {
             "colorbar": {
              "outlinewidth": 0,
              "ticks": ""
             }
            },
            "type": "scattermapbox"
           }
          ],
          "scatterpolar": [
           {
            "marker": {
             "colorbar": {
              "outlinewidth": 0,
              "ticks": ""
             }
            },
            "type": "scatterpolar"
           }
          ],
          "scatterpolargl": [
           {
            "marker": {
             "colorbar": {
              "outlinewidth": 0,
              "ticks": ""
             }
            },
            "type": "scatterpolargl"
           }
          ],
          "scatterternary": [
           {
            "marker": {
             "colorbar": {
              "outlinewidth": 0,
              "ticks": ""
             }
            },
            "type": "scatterternary"
           }
          ],
          "surface": [
           {
            "colorbar": {
             "outlinewidth": 0,
             "ticks": ""
            },
            "colorscale": [
             [
              0,
              "#0d0887"
             ],
             [
              0.1111111111111111,
              "#46039f"
             ],
             [
              0.2222222222222222,
              "#7201a8"
             ],
             [
              0.3333333333333333,
              "#9c179e"
             ],
             [
              0.4444444444444444,
              "#bd3786"
             ],
             [
              0.5555555555555556,
              "#d8576b"
             ],
             [
              0.6666666666666666,
              "#ed7953"
             ],
             [
              0.7777777777777778,
              "#fb9f3a"
             ],
             [
              0.8888888888888888,
              "#fdca26"
             ],
             [
              1,
              "#f0f921"
             ]
            ],
            "type": "surface"
           }
          ],
          "table": [
           {
            "cells": {
             "fill": {
              "color": "#EBF0F8"
             },
             "line": {
              "color": "white"
             }
            },
            "header": {
             "fill": {
              "color": "#C8D4E3"
             },
             "line": {
              "color": "white"
             }
            },
            "type": "table"
           }
          ]
         },
         "layout": {
          "annotationdefaults": {
           "arrowcolor": "#2a3f5f",
           "arrowhead": 0,
           "arrowwidth": 1
          },
          "autotypenumbers": "strict",
          "coloraxis": {
           "colorbar": {
            "outlinewidth": 0,
            "ticks": ""
           }
          },
          "colorscale": {
           "diverging": [
            [
             0,
             "#8e0152"
            ],
            [
             0.1,
             "#c51b7d"
            ],
            [
             0.2,
             "#de77ae"
            ],
            [
             0.3,
             "#f1b6da"
            ],
            [
             0.4,
             "#fde0ef"
            ],
            [
             0.5,
             "#f7f7f7"
            ],
            [
             0.6,
             "#e6f5d0"
            ],
            [
             0.7,
             "#b8e186"
            ],
            [
             0.8,
             "#7fbc41"
            ],
            [
             0.9,
             "#4d9221"
            ],
            [
             1,
             "#276419"
            ]
           ],
           "sequential": [
            [
             0,
             "#0d0887"
            ],
            [
             0.1111111111111111,
             "#46039f"
            ],
            [
             0.2222222222222222,
             "#7201a8"
            ],
            [
             0.3333333333333333,
             "#9c179e"
            ],
            [
             0.4444444444444444,
             "#bd3786"
            ],
            [
             0.5555555555555556,
             "#d8576b"
            ],
            [
             0.6666666666666666,
             "#ed7953"
            ],
            [
             0.7777777777777778,
             "#fb9f3a"
            ],
            [
             0.8888888888888888,
             "#fdca26"
            ],
            [
             1,
             "#f0f921"
            ]
           ],
           "sequentialminus": [
            [
             0,
             "#0d0887"
            ],
            [
             0.1111111111111111,
             "#46039f"
            ],
            [
             0.2222222222222222,
             "#7201a8"
            ],
            [
             0.3333333333333333,
             "#9c179e"
            ],
            [
             0.4444444444444444,
             "#bd3786"
            ],
            [
             0.5555555555555556,
             "#d8576b"
            ],
            [
             0.6666666666666666,
             "#ed7953"
            ],
            [
             0.7777777777777778,
             "#fb9f3a"
            ],
            [
             0.8888888888888888,
             "#fdca26"
            ],
            [
             1,
             "#f0f921"
            ]
           ]
          },
          "colorway": [
           "#636efa",
           "#EF553B",
           "#00cc96",
           "#ab63fa",
           "#FFA15A",
           "#19d3f3",
           "#FF6692",
           "#B6E880",
           "#FF97FF",
           "#FECB52"
          ],
          "font": {
           "color": "#2a3f5f"
          },
          "geo": {
           "bgcolor": "white",
           "lakecolor": "white",
           "landcolor": "#E5ECF6",
           "showlakes": true,
           "showland": true,
           "subunitcolor": "white"
          },
          "hoverlabel": {
           "align": "left"
          },
          "hovermode": "closest",
          "mapbox": {
           "style": "light"
          },
          "paper_bgcolor": "white",
          "plot_bgcolor": "#E5ECF6",
          "polar": {
           "angularaxis": {
            "gridcolor": "white",
            "linecolor": "white",
            "ticks": ""
           },
           "bgcolor": "#E5ECF6",
           "radialaxis": {
            "gridcolor": "white",
            "linecolor": "white",
            "ticks": ""
           }
          },
          "scene": {
           "xaxis": {
            "backgroundcolor": "#E5ECF6",
            "gridcolor": "white",
            "gridwidth": 2,
            "linecolor": "white",
            "showbackground": true,
            "ticks": "",
            "zerolinecolor": "white"
           },
           "yaxis": {
            "backgroundcolor": "#E5ECF6",
            "gridcolor": "white",
            "gridwidth": 2,
            "linecolor": "white",
            "showbackground": true,
            "ticks": "",
            "zerolinecolor": "white"
           },
           "zaxis": {
            "backgroundcolor": "#E5ECF6",
            "gridcolor": "white",
            "gridwidth": 2,
            "linecolor": "white",
            "showbackground": true,
            "ticks": "",
            "zerolinecolor": "white"
           }
          },
          "shapedefaults": {
           "line": {
            "color": "#2a3f5f"
           }
          },
          "ternary": {
           "aaxis": {
            "gridcolor": "white",
            "linecolor": "white",
            "ticks": ""
           },
           "baxis": {
            "gridcolor": "white",
            "linecolor": "white",
            "ticks": ""
           },
           "bgcolor": "#E5ECF6",
           "caxis": {
            "gridcolor": "white",
            "linecolor": "white",
            "ticks": ""
           }
          },
          "title": {
           "x": 0.05
          },
          "xaxis": {
           "automargin": true,
           "gridcolor": "white",
           "linecolor": "white",
           "ticks": "",
           "title": {
            "standoff": 15
           },
           "zerolinecolor": "white",
           "zerolinewidth": 2
          },
          "yaxis": {
           "automargin": true,
           "gridcolor": "white",
           "linecolor": "white",
           "ticks": "",
           "title": {
            "standoff": 15
           },
           "zerolinecolor": "white",
           "zerolinewidth": 2
          }
         }
        },
        "width": 1600,
        "xaxis": {
         "range": [
          -0.002,
          0.018
         ],
         "tickfont": {
          "color": "black",
          "family": "Times New Roman",
          "size": 36
         },
         "title": {
          "text": "Threshold (g)"
         }
        },
        "yaxis": {
         "range": [
          1,
          11
         ],
         "tickfont": {
          "color": "black",
          "family": "Times New Roman",
          "size": 36
         },
         "title": {
          "text": "Duration (s)"
         }
        }
       }
      }
     },
     "metadata": {},
     "output_type": "display_data"
    }
   ],
   "source": [
    "import plotly.graph_objects as go\n",
    "import numpy as np\n",
    "\n",
    "# Function to map a value in [1, 65] to a saturation percentage between 30% and 100%\n",
    "def value_to_saturation(val, min_val=1, max_val=65, min_sat=0.5, max_sat=1.0, gamma=2):\n",
    "    \"\"\"\n",
    "    Normalize the value to [0, 1], then apply a gamma transformation\n",
    "    to obtain a non-linear mapping, and finally scale to [min_sat, max_sat].\n",
    "    \"\"\"\n",
    "    norm = (val - min_val) / (max_val - min_val)\n",
    "    sat = min_sat + (norm ** gamma) * (max_sat - min_sat)\n",
    "    return round(sat * 100, 1)  # Return as percentage\n",
    "\n",
    "# For R_PRE (red): use hue=0 and apply the saturation mapping to each third-column value\n",
    "colors_red = [f'hsl(0, {value_to_saturation(val)}%, 50%)' for val in R_PRE[:, 2]]\n",
    "\n",
    "# For R_ONB (blue): use hue=240 and apply the saturation mapping to each third-column value\n",
    "colors_blue = [f'hsl(240, {value_to_saturation(val)}%, 50%)' for val in R_ONB[:, 2]]\n",
    "\n",
    "# Font customization variables\n",
    "font_family = \"Times New Roman\"\n",
    "font_size = 36\n",
    "font_color = \"black\"\n",
    "\n",
    "# Create figure object\n",
    "fig = go.Figure()\n",
    "\n",
    "# Add first dataset R_PRE (red)\n",
    "fig.add_trace(go.Scatter(\n",
    "    x=R_PRE[:, 0],       # x-axis: threshold (first column)\n",
    "    y=R_PRE[:, 1],       # y-axis: duration (second column)\n",
    "    mode='markers',      # markers only\n",
    "    marker=dict(\n",
    "        size=R_PRE[:, 2] * 40,  # marker size scaled from the third column values\n",
    "        color=colors_red        # marker color with saturation based on non-linear mapping\n",
    "    ),\n",
    "    name='R_PRE'\n",
    "))\n",
    "\n",
    "# Add second dataset R_ONB (blue)\n",
    "fig.add_trace(go.Scatter(\n",
    "    x=R_ONB[:, 0],       # x-axis: threshold (first column)\n",
    "    y=R_ONB[:, 1],       # y-axis: duration (second column)\n",
    "    mode='markers',      # markers only\n",
    "    marker=dict(\n",
    "        size=R_ONB[:, 2] * 40,  # marker size scaled from the third column values\n",
    "        color=colors_blue       # marker color with saturation based on non-linear mapping\n",
    "    ),\n",
    "    name='R_ONB'\n",
    "))\n",
    "\n",
    "# Update overall layout: set font, square canvas, axis labels, and hide legend\n",
    "fig.update_layout(\n",
    "    font=dict(\n",
    "        family=font_family,\n",
    "        size=font_size,\n",
    "        color=font_color\n",
    "    ),\n",
    "    width=1600,\n",
    "    height=1600,\n",
    "    showlegend=False,\n",
    "    xaxis_title=\"Threshold (g)\",\n",
    "    yaxis_title=\"Duration (s)\"\n",
    ")\n",
    "\n",
    "# Update x-axis range and tick font\n",
    "fig.update_xaxes(\n",
    "    range=[-0.002, 0.018],\n",
    "    tickfont=dict(family=font_family, size=font_size, color=font_color)\n",
    ")\n",
    "\n",
    "# Update y-axis range and tick font\n",
    "fig.update_yaxes(\n",
    "    range=[1, 11],\n",
    "    tickfont=dict(family=font_family, size=font_size, color=font_color)\n",
    ")\n",
    "\n",
    "# save the plot as png\n",
    "# fig.write_image(\"overview.png\")\n",
    "\n",
    "# Show plot\n",
    "fig.show()\n"
   ]
  },
  {
   "cell_type": "code",
   "execution_count": 9,
   "metadata": {},
   "outputs": [
    {
     "data": {
      "application/vnd.plotly.v1+json": {
       "config": {
        "plotlyServerURL": "https://plot.ly"
       },
       "data": [
        {
         "marker": {
          "color": [
           "hsl(0, 50.0%, 50%)",
           "hsl(0, 50.0%, 50%)",
           "hsl(0, 50.0%, 50%)",
           "hsl(0, 50.0%, 50%)",
           "hsl(0, 50.0%, 50%)",
           "hsl(0, 50.0%, 50%)",
           "hsl(0, 50.0%, 50%)",
           "hsl(0, 50.0%, 50%)",
           "hsl(0, 50.0%, 50%)",
           "hsl(0, 50.0%, 50%)",
           "hsl(0, 50.0%, 50%)",
           "hsl(0, 50.0%, 50%)",
           "hsl(0, 50.0%, 50%)",
           "hsl(0, 50.0%, 50%)",
           "hsl(0, 50.0%, 50%)",
           "hsl(0, 50.0%, 50%)",
           "hsl(0, 50.0%, 50%)",
           "hsl(0, 50.0%, 50%)",
           "hsl(0, 50.0%, 50%)",
           "hsl(0, 50.0%, 50%)",
           "hsl(0, 50.0%, 50%)",
           "hsl(0, 50.0%, 50%)",
           "hsl(0, 50.0%, 50%)",
           "hsl(0, 50.0%, 50%)",
           "hsl(0, 50.0%, 50%)",
           "hsl(0, 50.0%, 50%)",
           "hsl(0, 50.0%, 50%)",
           "hsl(0, 50.0%, 50%)",
           "hsl(0, 50.0%, 50%)",
           "hsl(0, 50.0%, 50%)",
           "hsl(0, 50.0%, 50%)",
           "hsl(0, 50.0%, 50%)",
           "hsl(0, 50.0%, 50%)",
           "hsl(0, 50.0%, 50%)",
           "hsl(0, 50.0%, 50%)",
           "hsl(0, 50.0%, 50%)",
           "hsl(0, 50.0%, 50%)",
           "hsl(0, 50.0%, 50%)",
           "hsl(0, 50.0%, 50%)",
           "hsl(0, 50.0%, 50%)",
           "hsl(0, 50.0%, 50%)",
           "hsl(0, 50.0%, 50%)",
           "hsl(0, 50.0%, 50%)",
           "hsl(0, 50.0%, 50%)",
           "hsl(0, 50.0%, 50%)"
          ],
          "size": [
           32.098765432098766,
           32.098765432098766,
           30.173941945490803,
           32.2340958423777,
           33.56807511737089,
           32.098765432098766,
           38.281094030744654,
           36.90851735015773,
           32.226078334159645,
           33.22522055007784,
           43.11224489795919,
           32.27832307436367,
           36.859527921704085,
           31.33648144080826,
           32.14762301918265,
           43.17064390043201,
           42.69871662181743,
           42.78338430173293,
           32.098765432098766,
           32.098765432098766,
           33.597166345985656,
           32.098765432098766,
           32.098765432098766,
           32.098765432098766,
           30.173941945490803,
           43.21106094808127,
           42.967688824861085,
           33.26660895909976,
           32.098765432098766,
           32.332390617201796,
           31.163404442489554,
           32.098765432098766,
           30.815876515986773,
           34.37567045698348,
           32.098765432098766,
           42.905907870274746,
           33.4899546338302,
           35.36114684800588,
           32.098765432098766,
           32.13049925852694,
           37.877144547426546,
           36.37803590285111,
           32.098765432098766,
           42.41651109728272,
           32.098765432098766
          ]
         },
         "mode": "markers",
         "name": "R_PRE",
         "type": "scatter",
         "x": [
          0.00033654789784862116,
          0.00219865554136328,
          0.015720044164831172,
          0.007368194401393576,
          0.009402889402293429,
          0.0006844824716602305,
          0.01155532735246033,
          0.01753636636350028,
          0.0031952530085227362,
          0.006199205502795825,
          0.01367881824733653,
          0.0033753174292445384,
          0.009972337734102318,
          0.014064844016711714,
          0.004619568912342903,
          0.012258236548423743,
          0.013075533774944565,
          0.009944033458278524,
          0.0007989539864326439,
          0.0012191455741698957,
          0.006358167539101247,
          0.0020408350120328248,
          0.001541342713304257,
          0.001454042704838776,
          0.015814239411679226,
          0.011620492527197443,
          0.011504618229983781,
          0.017370544009307827,
          0.00018240033948512663,
          0.0075412493391689645,
          0.016356824312437148,
          0.00034237913161195156,
          0.016145541219561483,
          0.01653361438713557,
          0.0006082395158725449,
          0.014153195546823606,
          0.014002548997181332,
          0.009328695036942078,
          0.0006127641349001275,
          0.0034096503487435078,
          0.009271508373593678,
          0.01616772993637093,
          0.004799638807044426,
          0.01329431824622545,
          0.00017281891197809201
         ],
         "y": [
          0.8024691358024691,
          0.8024691358024691,
          0.7543485486372701,
          0.8058523960594424,
          0.8392018779342723,
          0.8024691358024691,
          0.9570273507686164,
          0.9227129337539433,
          0.8056519583539911,
          0.8306305137519461,
          1.0778061224489797,
          0.8069580768590917,
          0.9214881980426022,
          0.7834120360202065,
          0.8036905754795663,
          1.0792660975108004,
          1.0674679155454359,
          1.0695846075433233,
          0.8024691358024691,
          0.8024691358024691,
          0.8399291586496415,
          0.8024691358024691,
          0.8024691358024691,
          0.8024691358024691,
          0.7543485486372701,
          1.0802765237020318,
          1.074192220621527,
          0.8316652239774941,
          0.8024691358024691,
          0.808309765430045,
          0.7790851110622389,
          0.8024691358024691,
          0.7703969128996693,
          0.859391761424587,
          0.8024691358024691,
          1.0726476967568686,
          0.837248865845755,
          0.884028671200147,
          0.8024691358024691,
          0.8032624814631735,
          0.9469286136856636,
          0.9094508975712777,
          0.8024691358024691,
          1.060412777432068,
          0.8024691358024691
         ]
        },
        {
         "marker": {
          "color": [
           "hsl(240, 50.0%, 50%)",
           "hsl(240, 50.0%, 50%)",
           "hsl(240, 50.0%, 50%)",
           "hsl(240, 50.0%, 50%)",
           "hsl(240, 50.0%, 50%)",
           "hsl(240, 50.0%, 50%)",
           "hsl(240, 50.0%, 50%)",
           "hsl(240, 50.0%, 50%)",
           "hsl(240, 50.0%, 50%)",
           "hsl(240, 50.0%, 50%)",
           "hsl(240, 50.0%, 50%)",
           "hsl(240, 50.0%, 50%)",
           "hsl(240, 50.0%, 50%)",
           "hsl(240, 50.0%, 50%)",
           "hsl(240, 50.0%, 50%)",
           "hsl(240, 50.0%, 50%)",
           "hsl(240, 50.0%, 50%)",
           "hsl(240, 50.0%, 50%)",
           "hsl(240, 50.0%, 50%)",
           "hsl(240, 50.0%, 50%)"
          ],
          "size": [
           40.91780942048601,
           41.58863855592862,
           40.779222925945476,
           40.70887328815583,
           40.8560707585349,
           40.75010022699356,
           41.05370920669887,
           40.78156651552987,
           28.6650304517087,
           41.20039379931568,
           41.057915727908174,
           40.82891232789641,
           41.517539294988026,
           41.153735370536594,
           41.07005982723265,
           41.22961336139977,
           40.962969676664265,
           41.15672717543749,
           41.06414295315741,
           41.518071286609455
          ]
         },
         "mode": "markers",
         "name": "R_ONB",
         "type": "scatter",
         "x": [
          0.014435327473777466,
          0.007938039842215056,
          0.016079625524062238,
          0.016604765975873622,
          0.014783350300530244,
          0.015981634632245972,
          0.013505878672728512,
          0.01633918469679386,
          0.00042300343388361515,
          0.0058721126476576225,
          0.014119467061272942,
          0.016122808239995127,
          0.010869380303125247,
          0.014593720200762989,
          0.014714890604441545,
          0.014048398689986913,
          0.015810034023010993,
          0.014434365402787837,
          0.014542891221688718,
          0.011007507158006219
         ],
         "y": [
          1.0229452355121502,
          1.0397159638982154,
          1.019480573148637,
          1.0177218322038957,
          1.0214017689633725,
          1.018752505674839,
          1.0263427301674717,
          1.0195391628882466,
          0.7166257612927175,
          1.0300098449828918,
          1.0264478931977044,
          1.0207228081974102,
          1.0379384823747007,
          1.0288433842634148,
          1.0267514956808161,
          1.0307403340349943,
          1.0240742419166067,
          1.0289181793859372,
          1.0266035738289352,
          1.0379517821652364
         ]
        }
       ],
       "layout": {
        "font": {
         "color": "black",
         "family": "Times New Roman",
         "size": 36
        },
        "height": 1600,
        "showlegend": false,
        "template": {
         "data": {
          "bar": [
           {
            "error_x": {
             "color": "#2a3f5f"
            },
            "error_y": {
             "color": "#2a3f5f"
            },
            "marker": {
             "line": {
              "color": "#E5ECF6",
              "width": 0.5
             },
             "pattern": {
              "fillmode": "overlay",
              "size": 10,
              "solidity": 0.2
             }
            },
            "type": "bar"
           }
          ],
          "barpolar": [
           {
            "marker": {
             "line": {
              "color": "#E5ECF6",
              "width": 0.5
             },
             "pattern": {
              "fillmode": "overlay",
              "size": 10,
              "solidity": 0.2
             }
            },
            "type": "barpolar"
           }
          ],
          "carpet": [
           {
            "aaxis": {
             "endlinecolor": "#2a3f5f",
             "gridcolor": "white",
             "linecolor": "white",
             "minorgridcolor": "white",
             "startlinecolor": "#2a3f5f"
            },
            "baxis": {
             "endlinecolor": "#2a3f5f",
             "gridcolor": "white",
             "linecolor": "white",
             "minorgridcolor": "white",
             "startlinecolor": "#2a3f5f"
            },
            "type": "carpet"
           }
          ],
          "choropleth": [
           {
            "colorbar": {
             "outlinewidth": 0,
             "ticks": ""
            },
            "type": "choropleth"
           }
          ],
          "contour": [
           {
            "colorbar": {
             "outlinewidth": 0,
             "ticks": ""
            },
            "colorscale": [
             [
              0,
              "#0d0887"
             ],
             [
              0.1111111111111111,
              "#46039f"
             ],
             [
              0.2222222222222222,
              "#7201a8"
             ],
             [
              0.3333333333333333,
              "#9c179e"
             ],
             [
              0.4444444444444444,
              "#bd3786"
             ],
             [
              0.5555555555555556,
              "#d8576b"
             ],
             [
              0.6666666666666666,
              "#ed7953"
             ],
             [
              0.7777777777777778,
              "#fb9f3a"
             ],
             [
              0.8888888888888888,
              "#fdca26"
             ],
             [
              1,
              "#f0f921"
             ]
            ],
            "type": "contour"
           }
          ],
          "contourcarpet": [
           {
            "colorbar": {
             "outlinewidth": 0,
             "ticks": ""
            },
            "type": "contourcarpet"
           }
          ],
          "heatmap": [
           {
            "colorbar": {
             "outlinewidth": 0,
             "ticks": ""
            },
            "colorscale": [
             [
              0,
              "#0d0887"
             ],
             [
              0.1111111111111111,
              "#46039f"
             ],
             [
              0.2222222222222222,
              "#7201a8"
             ],
             [
              0.3333333333333333,
              "#9c179e"
             ],
             [
              0.4444444444444444,
              "#bd3786"
             ],
             [
              0.5555555555555556,
              "#d8576b"
             ],
             [
              0.6666666666666666,
              "#ed7953"
             ],
             [
              0.7777777777777778,
              "#fb9f3a"
             ],
             [
              0.8888888888888888,
              "#fdca26"
             ],
             [
              1,
              "#f0f921"
             ]
            ],
            "type": "heatmap"
           }
          ],
          "heatmapgl": [
           {
            "colorbar": {
             "outlinewidth": 0,
             "ticks": ""
            },
            "colorscale": [
             [
              0,
              "#0d0887"
             ],
             [
              0.1111111111111111,
              "#46039f"
             ],
             [
              0.2222222222222222,
              "#7201a8"
             ],
             [
              0.3333333333333333,
              "#9c179e"
             ],
             [
              0.4444444444444444,
              "#bd3786"
             ],
             [
              0.5555555555555556,
              "#d8576b"
             ],
             [
              0.6666666666666666,
              "#ed7953"
             ],
             [
              0.7777777777777778,
              "#fb9f3a"
             ],
             [
              0.8888888888888888,
              "#fdca26"
             ],
             [
              1,
              "#f0f921"
             ]
            ],
            "type": "heatmapgl"
           }
          ],
          "histogram": [
           {
            "marker": {
             "pattern": {
              "fillmode": "overlay",
              "size": 10,
              "solidity": 0.2
             }
            },
            "type": "histogram"
           }
          ],
          "histogram2d": [
           {
            "colorbar": {
             "outlinewidth": 0,
             "ticks": ""
            },
            "colorscale": [
             [
              0,
              "#0d0887"
             ],
             [
              0.1111111111111111,
              "#46039f"
             ],
             [
              0.2222222222222222,
              "#7201a8"
             ],
             [
              0.3333333333333333,
              "#9c179e"
             ],
             [
              0.4444444444444444,
              "#bd3786"
             ],
             [
              0.5555555555555556,
              "#d8576b"
             ],
             [
              0.6666666666666666,
              "#ed7953"
             ],
             [
              0.7777777777777778,
              "#fb9f3a"
             ],
             [
              0.8888888888888888,
              "#fdca26"
             ],
             [
              1,
              "#f0f921"
             ]
            ],
            "type": "histogram2d"
           }
          ],
          "histogram2dcontour": [
           {
            "colorbar": {
             "outlinewidth": 0,
             "ticks": ""
            },
            "colorscale": [
             [
              0,
              "#0d0887"
             ],
             [
              0.1111111111111111,
              "#46039f"
             ],
             [
              0.2222222222222222,
              "#7201a8"
             ],
             [
              0.3333333333333333,
              "#9c179e"
             ],
             [
              0.4444444444444444,
              "#bd3786"
             ],
             [
              0.5555555555555556,
              "#d8576b"
             ],
             [
              0.6666666666666666,
              "#ed7953"
             ],
             [
              0.7777777777777778,
              "#fb9f3a"
             ],
             [
              0.8888888888888888,
              "#fdca26"
             ],
             [
              1,
              "#f0f921"
             ]
            ],
            "type": "histogram2dcontour"
           }
          ],
          "mesh3d": [
           {
            "colorbar": {
             "outlinewidth": 0,
             "ticks": ""
            },
            "type": "mesh3d"
           }
          ],
          "parcoords": [
           {
            "line": {
             "colorbar": {
              "outlinewidth": 0,
              "ticks": ""
             }
            },
            "type": "parcoords"
           }
          ],
          "pie": [
           {
            "automargin": true,
            "type": "pie"
           }
          ],
          "scatter": [
           {
            "fillpattern": {
             "fillmode": "overlay",
             "size": 10,
             "solidity": 0.2
            },
            "type": "scatter"
           }
          ],
          "scatter3d": [
           {
            "line": {
             "colorbar": {
              "outlinewidth": 0,
              "ticks": ""
             }
            },
            "marker": {
             "colorbar": {
              "outlinewidth": 0,
              "ticks": ""
             }
            },
            "type": "scatter3d"
           }
          ],
          "scattercarpet": [
           {
            "marker": {
             "colorbar": {
              "outlinewidth": 0,
              "ticks": ""
             }
            },
            "type": "scattercarpet"
           }
          ],
          "scattergeo": [
           {
            "marker": {
             "colorbar": {
              "outlinewidth": 0,
              "ticks": ""
             }
            },
            "type": "scattergeo"
           }
          ],
          "scattergl": [
           {
            "marker": {
             "colorbar": {
              "outlinewidth": 0,
              "ticks": ""
             }
            },
            "type": "scattergl"
           }
          ],
          "scattermapbox": [
           {
            "marker": {
             "colorbar": {
              "outlinewidth": 0,
              "ticks": ""
             }
            },
            "type": "scattermapbox"
           }
          ],
          "scatterpolar": [
           {
            "marker": {
             "colorbar": {
              "outlinewidth": 0,
              "ticks": ""
             }
            },
            "type": "scatterpolar"
           }
          ],
          "scatterpolargl": [
           {
            "marker": {
             "colorbar": {
              "outlinewidth": 0,
              "ticks": ""
             }
            },
            "type": "scatterpolargl"
           }
          ],
          "scatterternary": [
           {
            "marker": {
             "colorbar": {
              "outlinewidth": 0,
              "ticks": ""
             }
            },
            "type": "scatterternary"
           }
          ],
          "surface": [
           {
            "colorbar": {
             "outlinewidth": 0,
             "ticks": ""
            },
            "colorscale": [
             [
              0,
              "#0d0887"
             ],
             [
              0.1111111111111111,
              "#46039f"
             ],
             [
              0.2222222222222222,
              "#7201a8"
             ],
             [
              0.3333333333333333,
              "#9c179e"
             ],
             [
              0.4444444444444444,
              "#bd3786"
             ],
             [
              0.5555555555555556,
              "#d8576b"
             ],
             [
              0.6666666666666666,
              "#ed7953"
             ],
             [
              0.7777777777777778,
              "#fb9f3a"
             ],
             [
              0.8888888888888888,
              "#fdca26"
             ],
             [
              1,
              "#f0f921"
             ]
            ],
            "type": "surface"
           }
          ],
          "table": [
           {
            "cells": {
             "fill": {
              "color": "#EBF0F8"
             },
             "line": {
              "color": "white"
             }
            },
            "header": {
             "fill": {
              "color": "#C8D4E3"
             },
             "line": {
              "color": "white"
             }
            },
            "type": "table"
           }
          ]
         },
         "layout": {
          "annotationdefaults": {
           "arrowcolor": "#2a3f5f",
           "arrowhead": 0,
           "arrowwidth": 1
          },
          "autotypenumbers": "strict",
          "coloraxis": {
           "colorbar": {
            "outlinewidth": 0,
            "ticks": ""
           }
          },
          "colorscale": {
           "diverging": [
            [
             0,
             "#8e0152"
            ],
            [
             0.1,
             "#c51b7d"
            ],
            [
             0.2,
             "#de77ae"
            ],
            [
             0.3,
             "#f1b6da"
            ],
            [
             0.4,
             "#fde0ef"
            ],
            [
             0.5,
             "#f7f7f7"
            ],
            [
             0.6,
             "#e6f5d0"
            ],
            [
             0.7,
             "#b8e186"
            ],
            [
             0.8,
             "#7fbc41"
            ],
            [
             0.9,
             "#4d9221"
            ],
            [
             1,
             "#276419"
            ]
           ],
           "sequential": [
            [
             0,
             "#0d0887"
            ],
            [
             0.1111111111111111,
             "#46039f"
            ],
            [
             0.2222222222222222,
             "#7201a8"
            ],
            [
             0.3333333333333333,
             "#9c179e"
            ],
            [
             0.4444444444444444,
             "#bd3786"
            ],
            [
             0.5555555555555556,
             "#d8576b"
            ],
            [
             0.6666666666666666,
             "#ed7953"
            ],
            [
             0.7777777777777778,
             "#fb9f3a"
            ],
            [
             0.8888888888888888,
             "#fdca26"
            ],
            [
             1,
             "#f0f921"
            ]
           ],
           "sequentialminus": [
            [
             0,
             "#0d0887"
            ],
            [
             0.1111111111111111,
             "#46039f"
            ],
            [
             0.2222222222222222,
             "#7201a8"
            ],
            [
             0.3333333333333333,
             "#9c179e"
            ],
            [
             0.4444444444444444,
             "#bd3786"
            ],
            [
             0.5555555555555556,
             "#d8576b"
            ],
            [
             0.6666666666666666,
             "#ed7953"
            ],
            [
             0.7777777777777778,
             "#fb9f3a"
            ],
            [
             0.8888888888888888,
             "#fdca26"
            ],
            [
             1,
             "#f0f921"
            ]
           ]
          },
          "colorway": [
           "#636efa",
           "#EF553B",
           "#00cc96",
           "#ab63fa",
           "#FFA15A",
           "#19d3f3",
           "#FF6692",
           "#B6E880",
           "#FF97FF",
           "#FECB52"
          ],
          "font": {
           "color": "#2a3f5f"
          },
          "geo": {
           "bgcolor": "white",
           "lakecolor": "white",
           "landcolor": "#E5ECF6",
           "showlakes": true,
           "showland": true,
           "subunitcolor": "white"
          },
          "hoverlabel": {
           "align": "left"
          },
          "hovermode": "closest",
          "mapbox": {
           "style": "light"
          },
          "paper_bgcolor": "white",
          "plot_bgcolor": "#E5ECF6",
          "polar": {
           "angularaxis": {
            "gridcolor": "white",
            "linecolor": "white",
            "ticks": ""
           },
           "bgcolor": "#E5ECF6",
           "radialaxis": {
            "gridcolor": "white",
            "linecolor": "white",
            "ticks": ""
           }
          },
          "scene": {
           "xaxis": {
            "backgroundcolor": "#E5ECF6",
            "gridcolor": "white",
            "gridwidth": 2,
            "linecolor": "white",
            "showbackground": true,
            "ticks": "",
            "zerolinecolor": "white"
           },
           "yaxis": {
            "backgroundcolor": "#E5ECF6",
            "gridcolor": "white",
            "gridwidth": 2,
            "linecolor": "white",
            "showbackground": true,
            "ticks": "",
            "zerolinecolor": "white"
           },
           "zaxis": {
            "backgroundcolor": "#E5ECF6",
            "gridcolor": "white",
            "gridwidth": 2,
            "linecolor": "white",
            "showbackground": true,
            "ticks": "",
            "zerolinecolor": "white"
           }
          },
          "shapedefaults": {
           "line": {
            "color": "#2a3f5f"
           }
          },
          "ternary": {
           "aaxis": {
            "gridcolor": "white",
            "linecolor": "white",
            "ticks": ""
           },
           "baxis": {
            "gridcolor": "white",
            "linecolor": "white",
            "ticks": ""
           },
           "bgcolor": "#E5ECF6",
           "caxis": {
            "gridcolor": "white",
            "linecolor": "white",
            "ticks": ""
           }
          },
          "title": {
           "x": 0.05
          },
          "xaxis": {
           "automargin": true,
           "gridcolor": "white",
           "linecolor": "white",
           "ticks": "",
           "title": {
            "standoff": 15
           },
           "zerolinecolor": "white",
           "zerolinewidth": 2
          },
          "yaxis": {
           "automargin": true,
           "gridcolor": "white",
           "linecolor": "white",
           "ticks": "",
           "title": {
            "standoff": 15
           },
           "zerolinecolor": "white",
           "zerolinewidth": 2
          }
         }
        },
        "width": 1600,
        "xaxis": {
         "range": [
          -0.002,
          0.018
         ],
         "tickfont": {
          "color": "black",
          "family": "Times New Roman",
          "size": 36
         },
         "title": {
          "text": "Threshold (g)"
         }
        },
        "yaxis": {
         "range": [
          -0.1,
          1.2
         ],
         "tickfont": {
          "color": "black",
          "family": "Times New Roman",
          "size": 36
         },
         "title": {
          "text": "F-beta Score"
         }
        }
       }
      }
     },
     "metadata": {},
     "output_type": "display_data"
    }
   ],
   "source": [
    "import plotly.graph_objects as go\n",
    "import numpy as np\n",
    "\n",
    "# Function to map a value in [1, 65] to a saturation percentage between 30% and 100%\n",
    "def value_to_saturation(val, min_val=1, max_val=65, min_sat=0.5, max_sat=1.0, gamma=2):\n",
    "    \"\"\"\n",
    "    Normalize the value to [0, 1], then apply a gamma transformation\n",
    "    to obtain a non-linear mapping, and finally scale to [min_sat, max_sat].\n",
    "    \"\"\"\n",
    "    norm = (val - min_val) / (max_val - min_val)\n",
    "    sat = min_sat + (norm ** gamma) * (max_sat - min_sat)\n",
    "    return round(sat * 100, 1)  # Return as percentage\n",
    "\n",
    "# For R_PRE (red): use hue=0 and apply the saturation mapping to each third-column value\n",
    "colors_red = [f'hsl(0, {value_to_saturation(val)}%, 50%)' for val in R_PRE[:, 2]]\n",
    "\n",
    "# For R_ONB (blue): use hue=240 and apply the saturation mapping to each third-column value\n",
    "colors_blue = [f'hsl(240, {value_to_saturation(val)}%, 50%)' for val in R_ONB[:, 2]]\n",
    "\n",
    "# Font customization variables\n",
    "font_family = \"Times New Roman\"\n",
    "font_size = 36\n",
    "font_color = \"black\"\n",
    "\n",
    "# Create figure object\n",
    "fig = go.Figure()\n",
    "\n",
    "# Add first dataset R_PRE (red)\n",
    "fig.add_trace(go.Scatter(\n",
    "    x=R_PRE[:, 0],       # x-axis: threshold (first column)\n",
    "    y=R_PRE[:, 2],       # y-axis: duration (second column)\n",
    "    mode='markers',      # markers only\n",
    "    marker=dict(\n",
    "        size=R_PRE[:, 2] * 40,  # marker size scaled from the third column values\n",
    "        color=colors_red        # marker color with saturation based on non-linear mapping\n",
    "    ),\n",
    "    name='R_PRE'\n",
    "))\n",
    "\n",
    "# Add second dataset R_ONB (blue)\n",
    "fig.add_trace(go.Scatter(\n",
    "    x=R_ONB[:, 0],       # x-axis: threshold (first column)\n",
    "    y=R_ONB[:, 2],       # y-axis: duration (second column)\n",
    "    mode='markers',      # markers only\n",
    "    marker=dict(\n",
    "        size=R_ONB[:, 2] * 40,  # marker size scaled from the third column values\n",
    "        color=colors_blue       # marker color with saturation based on non-linear mapping\n",
    "    ),\n",
    "    name='R_ONB'\n",
    "))\n",
    "\n",
    "# Update overall layout: set font, square canvas, axis labels, and hide legend\n",
    "fig.update_layout(\n",
    "    font=dict(\n",
    "        family=font_family,\n",
    "        size=font_size,\n",
    "        color=font_color\n",
    "    ),\n",
    "    width=1600,\n",
    "    height=1600,\n",
    "    showlegend=False,\n",
    "    xaxis_title=\"Threshold (g)\",\n",
    "    yaxis_title=\"F-beta Score\"\n",
    ")\n",
    "\n",
    "# Update x-axis range and tick font\n",
    "fig.update_xaxes(\n",
    "    range=[-0.002, 0.018],\n",
    "    tickfont=dict(family=font_family, size=font_size, color=font_color)\n",
    ")\n",
    "\n",
    "# Update y-axis range and tick font\n",
    "fig.update_yaxes(\n",
    "    range=[-0.1, 1.2],\n",
    "    tickfont=dict(family=font_family, size=font_size, color=font_color)\n",
    ")\n",
    "\n",
    "# save the plot as png\n",
    "# fig.write_image(\"Threshold-F_beta.png\")\n",
    "\n",
    "# Show plot\n",
    "fig.show()\n"
   ]
  },
  {
   "cell_type": "code",
   "execution_count": 10,
   "metadata": {},
   "outputs": [
    {
     "data": {
      "application/vnd.plotly.v1+json": {
       "config": {
        "plotlyServerURL": "https://plot.ly"
       },
       "data": [
        {
         "marker": {
          "color": [
           "hsl(0, 50.0%, 50%)",
           "hsl(0, 50.0%, 50%)",
           "hsl(0, 50.0%, 50%)",
           "hsl(0, 50.0%, 50%)",
           "hsl(0, 50.0%, 50%)",
           "hsl(0, 50.0%, 50%)",
           "hsl(0, 50.0%, 50%)",
           "hsl(0, 50.0%, 50%)",
           "hsl(0, 50.0%, 50%)",
           "hsl(0, 50.0%, 50%)",
           "hsl(0, 50.0%, 50%)",
           "hsl(0, 50.0%, 50%)",
           "hsl(0, 50.0%, 50%)",
           "hsl(0, 50.0%, 50%)",
           "hsl(0, 50.0%, 50%)",
           "hsl(0, 50.0%, 50%)",
           "hsl(0, 50.0%, 50%)",
           "hsl(0, 50.0%, 50%)",
           "hsl(0, 50.0%, 50%)",
           "hsl(0, 50.0%, 50%)",
           "hsl(0, 50.0%, 50%)",
           "hsl(0, 50.0%, 50%)",
           "hsl(0, 50.0%, 50%)",
           "hsl(0, 50.0%, 50%)",
           "hsl(0, 50.0%, 50%)",
           "hsl(0, 50.0%, 50%)",
           "hsl(0, 50.0%, 50%)",
           "hsl(0, 50.0%, 50%)",
           "hsl(0, 50.0%, 50%)",
           "hsl(0, 50.0%, 50%)",
           "hsl(0, 50.0%, 50%)",
           "hsl(0, 50.0%, 50%)",
           "hsl(0, 50.0%, 50%)",
           "hsl(0, 50.0%, 50%)",
           "hsl(0, 50.0%, 50%)",
           "hsl(0, 50.0%, 50%)",
           "hsl(0, 50.0%, 50%)",
           "hsl(0, 50.0%, 50%)",
           "hsl(0, 50.0%, 50%)",
           "hsl(0, 50.0%, 50%)",
           "hsl(0, 50.0%, 50%)",
           "hsl(0, 50.0%, 50%)",
           "hsl(0, 50.0%, 50%)",
           "hsl(0, 50.0%, 50%)",
           "hsl(0, 50.0%, 50%)"
          ],
          "size": [
           32.098765432098766,
           32.098765432098766,
           30.173941945490803,
           32.2340958423777,
           33.56807511737089,
           32.098765432098766,
           38.281094030744654,
           36.90851735015773,
           32.226078334159645,
           33.22522055007784,
           43.11224489795919,
           32.27832307436367,
           36.859527921704085,
           31.33648144080826,
           32.14762301918265,
           43.17064390043201,
           42.69871662181743,
           42.78338430173293,
           32.098765432098766,
           32.098765432098766,
           33.597166345985656,
           32.098765432098766,
           32.098765432098766,
           32.098765432098766,
           30.173941945490803,
           43.21106094808127,
           42.967688824861085,
           33.26660895909976,
           32.098765432098766,
           32.332390617201796,
           31.163404442489554,
           32.098765432098766,
           30.815876515986773,
           34.37567045698348,
           32.098765432098766,
           42.905907870274746,
           33.4899546338302,
           35.36114684800588,
           32.098765432098766,
           32.13049925852694,
           37.877144547426546,
           36.37803590285111,
           32.098765432098766,
           42.41651109728272,
           32.098765432098766
          ]
         },
         "mode": "markers",
         "name": "R_PRE",
         "type": "scatter",
         "x": [
          2.2605032223885653,
          2.3191249992291105,
          9.298272195069801,
          3.297107469873332,
          2.516622598463562,
          9.424409334389424,
          2.4900558082512445,
          3.1825473516181555,
          6.067390694328477,
          7.863362746493134,
          3.7331562540841023,
          8.921963181015897,
          3.2312171911329166,
          9.7375748929326,
          8.493103503757979,
          4.9695209128050095,
          4.333798106229627,
          6.989477111626149,
          5.3544097952912235,
          6.657362698813434,
          7.335867033950948,
          4.5618651625410696,
          3.8911541615373757,
          2.0464390084477975,
          9.952960965059068,
          4.877215634419471,
          5.624257159977952,
          5.201146338607229,
          4.158400518803275,
          2.8556759594631247,
          7.155841908612459,
          6.339694673891274,
          8.183283704364854,
          5.678054066953499,
          4.759156511089139,
          3.5970285444387793,
          7.5754790176964315,
          3.632874792332962,
          6.722460361985995,
          5.1349261501626895,
          5.901311244236837,
          4.073504911151642,
          2.0158357588230587,
          4.47059761295514,
          9.993582035313885
         ],
         "y": [
          0.8024691358024691,
          0.8024691358024691,
          0.7543485486372701,
          0.8058523960594424,
          0.8392018779342723,
          0.8024691358024691,
          0.9570273507686164,
          0.9227129337539433,
          0.8056519583539911,
          0.8306305137519461,
          1.0778061224489797,
          0.8069580768590917,
          0.9214881980426022,
          0.7834120360202065,
          0.8036905754795663,
          1.0792660975108004,
          1.0674679155454359,
          1.0695846075433233,
          0.8024691358024691,
          0.8024691358024691,
          0.8399291586496415,
          0.8024691358024691,
          0.8024691358024691,
          0.8024691358024691,
          0.7543485486372701,
          1.0802765237020318,
          1.074192220621527,
          0.8316652239774941,
          0.8024691358024691,
          0.808309765430045,
          0.7790851110622389,
          0.8024691358024691,
          0.7703969128996693,
          0.859391761424587,
          0.8024691358024691,
          1.0726476967568686,
          0.837248865845755,
          0.884028671200147,
          0.8024691358024691,
          0.8032624814631735,
          0.9469286136856636,
          0.9094508975712777,
          0.8024691358024691,
          1.060412777432068,
          0.8024691358024691
         ]
        },
        {
         "marker": {
          "color": [
           "hsl(240, 50.0%, 50%)",
           "hsl(240, 50.0%, 50%)",
           "hsl(240, 50.0%, 50%)",
           "hsl(240, 50.0%, 50%)",
           "hsl(240, 50.0%, 50%)",
           "hsl(240, 50.0%, 50%)",
           "hsl(240, 50.0%, 50%)",
           "hsl(240, 50.0%, 50%)",
           "hsl(240, 50.0%, 50%)",
           "hsl(240, 50.0%, 50%)",
           "hsl(240, 50.0%, 50%)",
           "hsl(240, 50.0%, 50%)",
           "hsl(240, 50.0%, 50%)",
           "hsl(240, 50.0%, 50%)",
           "hsl(240, 50.0%, 50%)",
           "hsl(240, 50.0%, 50%)",
           "hsl(240, 50.0%, 50%)",
           "hsl(240, 50.0%, 50%)",
           "hsl(240, 50.0%, 50%)",
           "hsl(240, 50.0%, 50%)"
          ],
          "size": [
           40.91780942048601,
           41.58863855592862,
           40.779222925945476,
           40.70887328815583,
           40.8560707585349,
           40.75010022699356,
           41.05370920669887,
           40.78156651552987,
           28.6650304517087,
           41.20039379931568,
           41.057915727908174,
           40.82891232789641,
           41.517539294988026,
           41.153735370536594,
           41.07005982723265,
           41.22961336139977,
           40.962969676664265,
           41.15672717543749,
           41.06414295315741,
           41.518071286609455
          ]
         },
         "mode": "markers",
         "name": "R_ONB",
         "type": "scatter",
         "x": [
          4.612701349056424,
          4.6909812662370465,
          4.4753205549552995,
          4.526388008507677,
          4.706684303616493,
          4.625171484289713,
          4.470979382907074,
          4.358151871214557,
          4.737432285136505,
          4.305451468156802,
          4.207560432661513,
          4.265930331097981,
          3.7708526977547008,
          3.651519333271187,
          3.9212736669675037,
          3.585820534512167,
          3.886873176724558,
          3.708030860288245,
          4.013133131860945,
          3.7131224854056244
         ],
         "y": [
          1.0229452355121502,
          1.0397159638982154,
          1.019480573148637,
          1.0177218322038957,
          1.0214017689633725,
          1.018752505674839,
          1.0263427301674717,
          1.0195391628882466,
          0.7166257612927175,
          1.0300098449828918,
          1.0264478931977044,
          1.0207228081974102,
          1.0379384823747007,
          1.0288433842634148,
          1.0267514956808161,
          1.0307403340349943,
          1.0240742419166067,
          1.0289181793859372,
          1.0266035738289352,
          1.0379517821652364
         ]
        }
       ],
       "layout": {
        "font": {
         "color": "black",
         "family": "Times New Roman",
         "size": 36
        },
        "height": 1600,
        "showlegend": false,
        "template": {
         "data": {
          "bar": [
           {
            "error_x": {
             "color": "#2a3f5f"
            },
            "error_y": {
             "color": "#2a3f5f"
            },
            "marker": {
             "line": {
              "color": "#E5ECF6",
              "width": 0.5
             },
             "pattern": {
              "fillmode": "overlay",
              "size": 10,
              "solidity": 0.2
             }
            },
            "type": "bar"
           }
          ],
          "barpolar": [
           {
            "marker": {
             "line": {
              "color": "#E5ECF6",
              "width": 0.5
             },
             "pattern": {
              "fillmode": "overlay",
              "size": 10,
              "solidity": 0.2
             }
            },
            "type": "barpolar"
           }
          ],
          "carpet": [
           {
            "aaxis": {
             "endlinecolor": "#2a3f5f",
             "gridcolor": "white",
             "linecolor": "white",
             "minorgridcolor": "white",
             "startlinecolor": "#2a3f5f"
            },
            "baxis": {
             "endlinecolor": "#2a3f5f",
             "gridcolor": "white",
             "linecolor": "white",
             "minorgridcolor": "white",
             "startlinecolor": "#2a3f5f"
            },
            "type": "carpet"
           }
          ],
          "choropleth": [
           {
            "colorbar": {
             "outlinewidth": 0,
             "ticks": ""
            },
            "type": "choropleth"
           }
          ],
          "contour": [
           {
            "colorbar": {
             "outlinewidth": 0,
             "ticks": ""
            },
            "colorscale": [
             [
              0,
              "#0d0887"
             ],
             [
              0.1111111111111111,
              "#46039f"
             ],
             [
              0.2222222222222222,
              "#7201a8"
             ],
             [
              0.3333333333333333,
              "#9c179e"
             ],
             [
              0.4444444444444444,
              "#bd3786"
             ],
             [
              0.5555555555555556,
              "#d8576b"
             ],
             [
              0.6666666666666666,
              "#ed7953"
             ],
             [
              0.7777777777777778,
              "#fb9f3a"
             ],
             [
              0.8888888888888888,
              "#fdca26"
             ],
             [
              1,
              "#f0f921"
             ]
            ],
            "type": "contour"
           }
          ],
          "contourcarpet": [
           {
            "colorbar": {
             "outlinewidth": 0,
             "ticks": ""
            },
            "type": "contourcarpet"
           }
          ],
          "heatmap": [
           {
            "colorbar": {
             "outlinewidth": 0,
             "ticks": ""
            },
            "colorscale": [
             [
              0,
              "#0d0887"
             ],
             [
              0.1111111111111111,
              "#46039f"
             ],
             [
              0.2222222222222222,
              "#7201a8"
             ],
             [
              0.3333333333333333,
              "#9c179e"
             ],
             [
              0.4444444444444444,
              "#bd3786"
             ],
             [
              0.5555555555555556,
              "#d8576b"
             ],
             [
              0.6666666666666666,
              "#ed7953"
             ],
             [
              0.7777777777777778,
              "#fb9f3a"
             ],
             [
              0.8888888888888888,
              "#fdca26"
             ],
             [
              1,
              "#f0f921"
             ]
            ],
            "type": "heatmap"
           }
          ],
          "heatmapgl": [
           {
            "colorbar": {
             "outlinewidth": 0,
             "ticks": ""
            },
            "colorscale": [
             [
              0,
              "#0d0887"
             ],
             [
              0.1111111111111111,
              "#46039f"
             ],
             [
              0.2222222222222222,
              "#7201a8"
             ],
             [
              0.3333333333333333,
              "#9c179e"
             ],
             [
              0.4444444444444444,
              "#bd3786"
             ],
             [
              0.5555555555555556,
              "#d8576b"
             ],
             [
              0.6666666666666666,
              "#ed7953"
             ],
             [
              0.7777777777777778,
              "#fb9f3a"
             ],
             [
              0.8888888888888888,
              "#fdca26"
             ],
             [
              1,
              "#f0f921"
             ]
            ],
            "type": "heatmapgl"
           }
          ],
          "histogram": [
           {
            "marker": {
             "pattern": {
              "fillmode": "overlay",
              "size": 10,
              "solidity": 0.2
             }
            },
            "type": "histogram"
           }
          ],
          "histogram2d": [
           {
            "colorbar": {
             "outlinewidth": 0,
             "ticks": ""
            },
            "colorscale": [
             [
              0,
              "#0d0887"
             ],
             [
              0.1111111111111111,
              "#46039f"
             ],
             [
              0.2222222222222222,
              "#7201a8"
             ],
             [
              0.3333333333333333,
              "#9c179e"
             ],
             [
              0.4444444444444444,
              "#bd3786"
             ],
             [
              0.5555555555555556,
              "#d8576b"
             ],
             [
              0.6666666666666666,
              "#ed7953"
             ],
             [
              0.7777777777777778,
              "#fb9f3a"
             ],
             [
              0.8888888888888888,
              "#fdca26"
             ],
             [
              1,
              "#f0f921"
             ]
            ],
            "type": "histogram2d"
           }
          ],
          "histogram2dcontour": [
           {
            "colorbar": {
             "outlinewidth": 0,
             "ticks": ""
            },
            "colorscale": [
             [
              0,
              "#0d0887"
             ],
             [
              0.1111111111111111,
              "#46039f"
             ],
             [
              0.2222222222222222,
              "#7201a8"
             ],
             [
              0.3333333333333333,
              "#9c179e"
             ],
             [
              0.4444444444444444,
              "#bd3786"
             ],
             [
              0.5555555555555556,
              "#d8576b"
             ],
             [
              0.6666666666666666,
              "#ed7953"
             ],
             [
              0.7777777777777778,
              "#fb9f3a"
             ],
             [
              0.8888888888888888,
              "#fdca26"
             ],
             [
              1,
              "#f0f921"
             ]
            ],
            "type": "histogram2dcontour"
           }
          ],
          "mesh3d": [
           {
            "colorbar": {
             "outlinewidth": 0,
             "ticks": ""
            },
            "type": "mesh3d"
           }
          ],
          "parcoords": [
           {
            "line": {
             "colorbar": {
              "outlinewidth": 0,
              "ticks": ""
             }
            },
            "type": "parcoords"
           }
          ],
          "pie": [
           {
            "automargin": true,
            "type": "pie"
           }
          ],
          "scatter": [
           {
            "fillpattern": {
             "fillmode": "overlay",
             "size": 10,
             "solidity": 0.2
            },
            "type": "scatter"
           }
          ],
          "scatter3d": [
           {
            "line": {
             "colorbar": {
              "outlinewidth": 0,
              "ticks": ""
             }
            },
            "marker": {
             "colorbar": {
              "outlinewidth": 0,
              "ticks": ""
             }
            },
            "type": "scatter3d"
           }
          ],
          "scattercarpet": [
           {
            "marker": {
             "colorbar": {
              "outlinewidth": 0,
              "ticks": ""
             }
            },
            "type": "scattercarpet"
           }
          ],
          "scattergeo": [
           {
            "marker": {
             "colorbar": {
              "outlinewidth": 0,
              "ticks": ""
             }
            },
            "type": "scattergeo"
           }
          ],
          "scattergl": [
           {
            "marker": {
             "colorbar": {
              "outlinewidth": 0,
              "ticks": ""
             }
            },
            "type": "scattergl"
           }
          ],
          "scattermapbox": [
           {
            "marker": {
             "colorbar": {
              "outlinewidth": 0,
              "ticks": ""
             }
            },
            "type": "scattermapbox"
           }
          ],
          "scatterpolar": [
           {
            "marker": {
             "colorbar": {
              "outlinewidth": 0,
              "ticks": ""
             }
            },
            "type": "scatterpolar"
           }
          ],
          "scatterpolargl": [
           {
            "marker": {
             "colorbar": {
              "outlinewidth": 0,
              "ticks": ""
             }
            },
            "type": "scatterpolargl"
           }
          ],
          "scatterternary": [
           {
            "marker": {
             "colorbar": {
              "outlinewidth": 0,
              "ticks": ""
             }
            },
            "type": "scatterternary"
           }
          ],
          "surface": [
           {
            "colorbar": {
             "outlinewidth": 0,
             "ticks": ""
            },
            "colorscale": [
             [
              0,
              "#0d0887"
             ],
             [
              0.1111111111111111,
              "#46039f"
             ],
             [
              0.2222222222222222,
              "#7201a8"
             ],
             [
              0.3333333333333333,
              "#9c179e"
             ],
             [
              0.4444444444444444,
              "#bd3786"
             ],
             [
              0.5555555555555556,
              "#d8576b"
             ],
             [
              0.6666666666666666,
              "#ed7953"
             ],
             [
              0.7777777777777778,
              "#fb9f3a"
             ],
             [
              0.8888888888888888,
              "#fdca26"
             ],
             [
              1,
              "#f0f921"
             ]
            ],
            "type": "surface"
           }
          ],
          "table": [
           {
            "cells": {
             "fill": {
              "color": "#EBF0F8"
             },
             "line": {
              "color": "white"
             }
            },
            "header": {
             "fill": {
              "color": "#C8D4E3"
             },
             "line": {
              "color": "white"
             }
            },
            "type": "table"
           }
          ]
         },
         "layout": {
          "annotationdefaults": {
           "arrowcolor": "#2a3f5f",
           "arrowhead": 0,
           "arrowwidth": 1
          },
          "autotypenumbers": "strict",
          "coloraxis": {
           "colorbar": {
            "outlinewidth": 0,
            "ticks": ""
           }
          },
          "colorscale": {
           "diverging": [
            [
             0,
             "#8e0152"
            ],
            [
             0.1,
             "#c51b7d"
            ],
            [
             0.2,
             "#de77ae"
            ],
            [
             0.3,
             "#f1b6da"
            ],
            [
             0.4,
             "#fde0ef"
            ],
            [
             0.5,
             "#f7f7f7"
            ],
            [
             0.6,
             "#e6f5d0"
            ],
            [
             0.7,
             "#b8e186"
            ],
            [
             0.8,
             "#7fbc41"
            ],
            [
             0.9,
             "#4d9221"
            ],
            [
             1,
             "#276419"
            ]
           ],
           "sequential": [
            [
             0,
             "#0d0887"
            ],
            [
             0.1111111111111111,
             "#46039f"
            ],
            [
             0.2222222222222222,
             "#7201a8"
            ],
            [
             0.3333333333333333,
             "#9c179e"
            ],
            [
             0.4444444444444444,
             "#bd3786"
            ],
            [
             0.5555555555555556,
             "#d8576b"
            ],
            [
             0.6666666666666666,
             "#ed7953"
            ],
            [
             0.7777777777777778,
             "#fb9f3a"
            ],
            [
             0.8888888888888888,
             "#fdca26"
            ],
            [
             1,
             "#f0f921"
            ]
           ],
           "sequentialminus": [
            [
             0,
             "#0d0887"
            ],
            [
             0.1111111111111111,
             "#46039f"
            ],
            [
             0.2222222222222222,
             "#7201a8"
            ],
            [
             0.3333333333333333,
             "#9c179e"
            ],
            [
             0.4444444444444444,
             "#bd3786"
            ],
            [
             0.5555555555555556,
             "#d8576b"
            ],
            [
             0.6666666666666666,
             "#ed7953"
            ],
            [
             0.7777777777777778,
             "#fb9f3a"
            ],
            [
             0.8888888888888888,
             "#fdca26"
            ],
            [
             1,
             "#f0f921"
            ]
           ]
          },
          "colorway": [
           "#636efa",
           "#EF553B",
           "#00cc96",
           "#ab63fa",
           "#FFA15A",
           "#19d3f3",
           "#FF6692",
           "#B6E880",
           "#FF97FF",
           "#FECB52"
          ],
          "font": {
           "color": "#2a3f5f"
          },
          "geo": {
           "bgcolor": "white",
           "lakecolor": "white",
           "landcolor": "#E5ECF6",
           "showlakes": true,
           "showland": true,
           "subunitcolor": "white"
          },
          "hoverlabel": {
           "align": "left"
          },
          "hovermode": "closest",
          "mapbox": {
           "style": "light"
          },
          "paper_bgcolor": "white",
          "plot_bgcolor": "#E5ECF6",
          "polar": {
           "angularaxis": {
            "gridcolor": "white",
            "linecolor": "white",
            "ticks": ""
           },
           "bgcolor": "#E5ECF6",
           "radialaxis": {
            "gridcolor": "white",
            "linecolor": "white",
            "ticks": ""
           }
          },
          "scene": {
           "xaxis": {
            "backgroundcolor": "#E5ECF6",
            "gridcolor": "white",
            "gridwidth": 2,
            "linecolor": "white",
            "showbackground": true,
            "ticks": "",
            "zerolinecolor": "white"
           },
           "yaxis": {
            "backgroundcolor": "#E5ECF6",
            "gridcolor": "white",
            "gridwidth": 2,
            "linecolor": "white",
            "showbackground": true,
            "ticks": "",
            "zerolinecolor": "white"
           },
           "zaxis": {
            "backgroundcolor": "#E5ECF6",
            "gridcolor": "white",
            "gridwidth": 2,
            "linecolor": "white",
            "showbackground": true,
            "ticks": "",
            "zerolinecolor": "white"
           }
          },
          "shapedefaults": {
           "line": {
            "color": "#2a3f5f"
           }
          },
          "ternary": {
           "aaxis": {
            "gridcolor": "white",
            "linecolor": "white",
            "ticks": ""
           },
           "baxis": {
            "gridcolor": "white",
            "linecolor": "white",
            "ticks": ""
           },
           "bgcolor": "#E5ECF6",
           "caxis": {
            "gridcolor": "white",
            "linecolor": "white",
            "ticks": ""
           }
          },
          "title": {
           "x": 0.05
          },
          "xaxis": {
           "automargin": true,
           "gridcolor": "white",
           "linecolor": "white",
           "ticks": "",
           "title": {
            "standoff": 15
           },
           "zerolinecolor": "white",
           "zerolinewidth": 2
          },
          "yaxis": {
           "automargin": true,
           "gridcolor": "white",
           "linecolor": "white",
           "ticks": "",
           "title": {
            "standoff": 15
           },
           "zerolinecolor": "white",
           "zerolinewidth": 2
          }
         }
        },
        "width": 1600,
        "xaxis": {
         "range": [
          1,
          11
         ],
         "tickfont": {
          "color": "black",
          "family": "Times New Roman",
          "size": 36
         },
         "title": {
          "text": "Duration (s)"
         }
        },
        "yaxis": {
         "range": [
          -0.1,
          1.2
         ],
         "tickfont": {
          "color": "black",
          "family": "Times New Roman",
          "size": 36
         },
         "title": {
          "text": "F-beta Score"
         }
        }
       }
      }
     },
     "metadata": {},
     "output_type": "display_data"
    }
   ],
   "source": [
    "import plotly.graph_objects as go\n",
    "import numpy as np\n",
    "\n",
    "# Function to map a value in [1, 65] to a saturation percentage between 30% and 100%\n",
    "def value_to_saturation(val, min_val=1, max_val=65, min_sat=0.5, max_sat=1.0, gamma=2):\n",
    "    \"\"\"\n",
    "    Normalize the value to [0, 1], then apply a gamma transformation\n",
    "    to obtain a non-linear mapping, and finally scale to [min_sat, max_sat].\n",
    "    \"\"\"\n",
    "    norm = (val - min_val) / (max_val - min_val)\n",
    "    sat = min_sat + (norm ** gamma) * (max_sat - min_sat)\n",
    "    return round(sat * 100, 1)  # Return as percentage\n",
    "\n",
    "# For R_PRE (red): use hue=0 and apply the saturation mapping to each third-column value\n",
    "colors_red = [f'hsl(0, {value_to_saturation(val)}%, 50%)' for val in R_PRE[:, 2]]\n",
    "\n",
    "# For R_ONB (blue): use hue=240 and apply the saturation mapping to each third-column value\n",
    "colors_blue = [f'hsl(240, {value_to_saturation(val)}%, 50%)' for val in R_ONB[:, 2]]\n",
    "\n",
    "# Font customization variables\n",
    "font_family = \"Times New Roman\"\n",
    "font_size = 36\n",
    "font_color = \"black\"\n",
    "\n",
    "# Create figure object\n",
    "fig = go.Figure()\n",
    "\n",
    "# Add first dataset R_PRE (red)\n",
    "fig.add_trace(go.Scatter(\n",
    "    x=R_PRE[:, 1],       # x-axis: threshold (first column)\n",
    "    y=R_PRE[:, 2],       # y-axis: duration (second column)\n",
    "    mode='markers',      # markers only\n",
    "    marker=dict(\n",
    "        size=R_PRE[:, 2] * 40,  # marker size scaled from the third column values\n",
    "        color=colors_red        # marker color with saturation based on non-linear mapping\n",
    "    ),\n",
    "    name='R_PRE'\n",
    "))\n",
    "\n",
    "# Add second dataset R_ONB (blue)\n",
    "fig.add_trace(go.Scatter(\n",
    "    x=R_ONB[:, 1],       # x-axis: threshold (first column)\n",
    "    y=R_ONB[:, 2],       # y-axis: duration (second column)\n",
    "    mode='markers',      # markers only\n",
    "    marker=dict(\n",
    "        size=R_ONB[:, 2] * 40,  # marker size scaled from the third column values\n",
    "        color=colors_blue       # marker color with saturation based on non-linear mapping\n",
    "    ),\n",
    "    name='R_ONB'\n",
    "))\n",
    "\n",
    "# Update overall layout: set font, square canvas, axis labels, and hide legend\n",
    "fig.update_layout(\n",
    "    font=dict(\n",
    "        family=font_family,\n",
    "        size=font_size,\n",
    "        color=font_color\n",
    "    ),\n",
    "    width=1600,\n",
    "    height=1600,\n",
    "    showlegend=False,\n",
    "    xaxis_title=\"Duration (s)\",\n",
    "    yaxis_title=\"F-beta Score\"\n",
    ")\n",
    "\n",
    "# Update x-axis range and tick font\n",
    "fig.update_xaxes(\n",
    "    range=[1, 11],\n",
    "    tickfont=dict(family=font_family, size=font_size, color=font_color)\n",
    ")\n",
    "\n",
    "# Update y-axis range and tick font\n",
    "fig.update_yaxes(\n",
    "    range=[-0.1, 1.2],\n",
    "    tickfont=dict(family=font_family, size=font_size, color=font_color)\n",
    ")\n",
    "\n",
    "# save the plot as png\n",
    "# fig.write_image(\"Duration-F_beta.png\")\n",
    "\n",
    "# Show plot\n",
    "fig.show()\n"
   ]
  },
  {
   "cell_type": "code",
   "execution_count": 13,
   "metadata": {},
   "outputs": [
    {
     "data": {
      "application/vnd.plotly.v1+json": {
       "config": {
        "plotlyServerURL": "https://plot.ly"
       },
       "data": [
        {
         "marker": {
          "color": [
           "hsl(0, 50.0%, 50%)",
           "hsl(0, 50.0%, 50%)",
           "hsl(0, 50.0%, 50%)",
           "hsl(0, 50.0%, 50%)",
           "hsl(0, 50.0%, 50%)",
           "hsl(0, 50.0%, 50%)",
           "hsl(0, 50.0%, 50%)",
           "hsl(0, 50.0%, 50%)",
           "hsl(0, 50.0%, 50%)",
           "hsl(0, 50.0%, 50%)",
           "hsl(0, 50.0%, 50%)",
           "hsl(0, 50.0%, 50%)",
           "hsl(0, 50.0%, 50%)",
           "hsl(0, 50.0%, 50%)",
           "hsl(0, 50.0%, 50%)",
           "hsl(0, 50.0%, 50%)",
           "hsl(0, 50.0%, 50%)",
           "hsl(0, 50.0%, 50%)",
           "hsl(0, 50.0%, 50%)",
           "hsl(0, 50.0%, 50%)",
           "hsl(0, 50.0%, 50%)",
           "hsl(0, 50.0%, 50%)",
           "hsl(0, 50.0%, 50%)",
           "hsl(0, 50.0%, 50%)",
           "hsl(0, 50.0%, 50%)",
           "hsl(0, 50.0%, 50%)",
           "hsl(0, 50.0%, 50%)",
           "hsl(0, 50.0%, 50%)",
           "hsl(0, 50.0%, 50%)",
           "hsl(0, 50.0%, 50%)",
           "hsl(0, 50.0%, 50%)",
           "hsl(0, 50.0%, 50%)",
           "hsl(0, 50.0%, 50%)",
           "hsl(0, 50.0%, 50%)",
           "hsl(0, 50.0%, 50%)",
           "hsl(0, 50.0%, 50%)",
           "hsl(0, 50.0%, 50%)",
           "hsl(0, 50.0%, 50%)",
           "hsl(0, 50.0%, 50%)",
           "hsl(0, 50.0%, 50%)",
           "hsl(0, 50.0%, 50%)",
           "hsl(0, 50.0%, 50%)",
           "hsl(0, 50.0%, 50%)",
           "hsl(0, 50.0%, 50%)",
           "hsl(0, 50.0%, 50%)"
          ],
          "size": [
           32.098765432098766,
           32.098765432098766,
           30.173941945490803,
           32.2340958423777,
           33.56807511737089,
           32.098765432098766,
           38.281094030744654,
           36.90851735015773,
           32.226078334159645,
           33.22522055007784,
           43.11224489795919,
           32.27832307436367,
           36.859527921704085,
           31.33648144080826,
           32.14762301918265,
           43.17064390043201,
           42.69871662181743,
           42.78338430173293,
           32.098765432098766,
           32.098765432098766,
           33.597166345985656,
           32.098765432098766,
           32.098765432098766,
           32.098765432098766,
           30.173941945490803,
           43.21106094808127,
           42.967688824861085,
           33.26660895909976,
           32.098765432098766,
           32.332390617201796,
           31.163404442489554,
           32.098765432098766,
           30.815876515986773,
           34.37567045698348,
           32.098765432098766,
           42.905907870274746,
           33.4899546338302,
           35.36114684800588,
           32.098765432098766,
           32.13049925852694,
           37.877144547426546,
           36.37803590285111,
           32.098765432098766,
           42.41651109728272,
           32.098765432098766
          ]
         },
         "mode": "markers",
         "name": "R_PRE",
         "type": "scatter",
         "x": [
          0.00033654789784862116,
          0.00219865554136328,
          0.015720044164831172,
          0.007368194401393576,
          0.009402889402293429,
          0.0006844824716602305,
          0.01155532735246033,
          0.01753636636350028,
          0.0031952530085227362,
          0.006199205502795825,
          0.01367881824733653,
          0.0033753174292445384,
          0.009972337734102318,
          0.014064844016711714,
          0.004619568912342903,
          0.012258236548423743,
          0.013075533774944565,
          0.009944033458278524,
          0.0007989539864326439,
          0.0012191455741698957,
          0.006358167539101247,
          0.0020408350120328248,
          0.001541342713304257,
          0.001454042704838776,
          0.015814239411679226,
          0.011620492527197443,
          0.011504618229983781,
          0.017370544009307827,
          0.00018240033948512663,
          0.0075412493391689645,
          0.016356824312437148,
          0.00034237913161195156,
          0.016145541219561483,
          0.01653361438713557,
          0.0006082395158725449,
          0.014153195546823606,
          0.014002548997181332,
          0.009328695036942078,
          0.0006127641349001275,
          0.0034096503487435078,
          0.009271508373593678,
          0.01616772993637093,
          0.004799638807044426,
          0.01329431824622545,
          0.00017281891197809201
         ],
         "y": [
          2.2605032223885653,
          2.3191249992291105,
          9.298272195069801,
          3.297107469873332,
          2.516622598463562,
          9.424409334389424,
          2.4900558082512445,
          3.1825473516181555,
          6.067390694328477,
          7.863362746493134,
          3.7331562540841023,
          8.921963181015897,
          3.2312171911329166,
          9.7375748929326,
          8.493103503757979,
          4.9695209128050095,
          4.333798106229627,
          6.989477111626149,
          5.3544097952912235,
          6.657362698813434,
          7.335867033950948,
          4.5618651625410696,
          3.8911541615373757,
          2.0464390084477975,
          9.952960965059068,
          4.877215634419471,
          5.624257159977952,
          5.201146338607229,
          4.158400518803275,
          2.8556759594631247,
          7.155841908612459,
          6.339694673891274,
          8.183283704364854,
          5.678054066953499,
          4.759156511089139,
          3.5970285444387793,
          7.5754790176964315,
          3.632874792332962,
          6.722460361985995,
          5.1349261501626895,
          5.901311244236837,
          4.073504911151642,
          2.0158357588230587,
          4.47059761295514,
          9.993582035313885
         ]
        },
        {
         "marker": {
          "color": "rgba(255, 0, 0, 0)",
          "line": {
           "color": "red",
           "width": 4
          },
          "size": 54.013826185101586
         },
         "mode": "markers",
         "name": "Max R_PRE",
         "type": "scatter",
         "x": [
          0.011620492527197443
         ],
         "y": [
          4.877215634419471
         ]
        },
        {
         "line": {
          "color": "red",
          "dash": "dash",
          "width": 2
         },
         "mode": "lines",
         "showlegend": false,
         "type": "scatter",
         "x": [
          0.011620492527197443,
          0.011620492527197443
         ],
         "y": [
          1,
          4.877215634419471
         ]
        },
        {
         "line": {
          "color": "red",
          "dash": "dash",
          "width": 2
         },
         "mode": "lines",
         "showlegend": false,
         "type": "scatter",
         "x": [
          -0.002,
          0.011620492527197443
         ],
         "y": [
          4.877215634419471,
          4.877215634419471
         ]
        },
        {
         "marker": {
          "color": [
           "hsl(240, 50.0%, 50%)",
           "hsl(240, 50.0%, 50%)",
           "hsl(240, 50.0%, 50%)",
           "hsl(240, 50.0%, 50%)",
           "hsl(240, 50.0%, 50%)",
           "hsl(240, 50.0%, 50%)",
           "hsl(240, 50.0%, 50%)",
           "hsl(240, 50.0%, 50%)",
           "hsl(240, 50.0%, 50%)",
           "hsl(240, 50.0%, 50%)",
           "hsl(240, 50.0%, 50%)",
           "hsl(240, 50.0%, 50%)",
           "hsl(240, 50.0%, 50%)",
           "hsl(240, 50.0%, 50%)",
           "hsl(240, 50.0%, 50%)",
           "hsl(240, 50.0%, 50%)",
           "hsl(240, 50.0%, 50%)",
           "hsl(240, 50.0%, 50%)",
           "hsl(240, 50.0%, 50%)",
           "hsl(240, 50.0%, 50%)"
          ],
          "size": [
           40.91780942048601,
           41.58863855592862,
           40.779222925945476,
           40.70887328815583,
           40.8560707585349,
           40.75010022699356,
           41.05370920669887,
           40.78156651552987,
           28.6650304517087,
           41.20039379931568,
           41.057915727908174,
           40.82891232789641,
           41.517539294988026,
           41.153735370536594,
           41.07005982723265,
           41.22961336139977,
           40.962969676664265,
           41.15672717543749,
           41.06414295315741,
           41.518071286609455
          ]
         },
         "mode": "markers",
         "name": "R_ONB",
         "type": "scatter",
         "x": [
          0.014435327473777466,
          0.007938039842215056,
          0.016079625524062238,
          0.016604765975873622,
          0.014783350300530244,
          0.015981634632245972,
          0.013505878672728512,
          0.01633918469679386,
          0.00042300343388361515,
          0.0058721126476576225,
          0.014119467061272942,
          0.016122808239995127,
          0.010869380303125247,
          0.014593720200762989,
          0.014714890604441545,
          0.014048398689986913,
          0.015810034023010993,
          0.014434365402787837,
          0.014542891221688718,
          0.011007507158006219
         ],
         "y": [
          4.612701349056424,
          4.6909812662370465,
          4.4753205549552995,
          4.526388008507677,
          4.706684303616493,
          4.625171484289713,
          4.470979382907074,
          4.358151871214557,
          4.737432285136505,
          4.305451468156802,
          4.207560432661513,
          4.265930331097981,
          3.7708526977547008,
          3.651519333271187,
          3.9212736669675037,
          3.585820534512167,
          3.886873176724558,
          3.708030860288245,
          4.013133131860945,
          3.7131224854056244
         ]
        },
        {
         "marker": {
          "color": "rgba(0, 0, 255, 0)",
          "line": {
           "color": "blue",
           "width": 4
          },
          "size": 51.98579819491077
         },
         "mode": "markers",
         "name": "Max R_ONB",
         "type": "scatter",
         "x": [
          0.007938039842215056
         ],
         "y": [
          4.6909812662370465
         ]
        },
        {
         "line": {
          "color": "blue",
          "dash": "dash",
          "width": 2
         },
         "mode": "lines",
         "showlegend": false,
         "type": "scatter",
         "x": [
          0.007938039842215056,
          0.007938039842215056
         ],
         "y": [
          1,
          4.6909812662370465
         ]
        },
        {
         "line": {
          "color": "blue",
          "dash": "dash",
          "width": 2
         },
         "mode": "lines",
         "showlegend": false,
         "type": "scatter",
         "x": [
          -0.002,
          0.007938039842215056
         ],
         "y": [
          4.6909812662370465,
          4.6909812662370465
         ]
        },
        {
         "marker": {
          "color": "rgba(0, 0, 0, 0)",
          "line": {
           "color": "black",
           "width": 4
          },
          "size": 50
         },
         "mode": "markers",
         "name": "Custom Point",
         "type": "scatter",
         "x": [
          0.00324
         ],
         "y": [
          5
         ]
        },
        {
         "line": {
          "color": "black",
          "dash": "dash",
          "width": 2
         },
         "mode": "lines",
         "showlegend": false,
         "type": "scatter",
         "x": [
          0.00324,
          0.00324
         ],
         "y": [
          1,
          5
         ]
        },
        {
         "line": {
          "color": "black",
          "dash": "dash",
          "width": 2
         },
         "mode": "lines",
         "showlegend": false,
         "type": "scatter",
         "x": [
          -0.002,
          0.00324
         ],
         "y": [
          5,
          5
         ]
        }
       ],
       "layout": {
        "font": {
         "color": "black",
         "family": "Times New Roman",
         "size": 36
        },
        "height": 1600,
        "showlegend": false,
        "template": {
         "data": {
          "bar": [
           {
            "error_x": {
             "color": "#2a3f5f"
            },
            "error_y": {
             "color": "#2a3f5f"
            },
            "marker": {
             "line": {
              "color": "#E5ECF6",
              "width": 0.5
             },
             "pattern": {
              "fillmode": "overlay",
              "size": 10,
              "solidity": 0.2
             }
            },
            "type": "bar"
           }
          ],
          "barpolar": [
           {
            "marker": {
             "line": {
              "color": "#E5ECF6",
              "width": 0.5
             },
             "pattern": {
              "fillmode": "overlay",
              "size": 10,
              "solidity": 0.2
             }
            },
            "type": "barpolar"
           }
          ],
          "carpet": [
           {
            "aaxis": {
             "endlinecolor": "#2a3f5f",
             "gridcolor": "white",
             "linecolor": "white",
             "minorgridcolor": "white",
             "startlinecolor": "#2a3f5f"
            },
            "baxis": {
             "endlinecolor": "#2a3f5f",
             "gridcolor": "white",
             "linecolor": "white",
             "minorgridcolor": "white",
             "startlinecolor": "#2a3f5f"
            },
            "type": "carpet"
           }
          ],
          "choropleth": [
           {
            "colorbar": {
             "outlinewidth": 0,
             "ticks": ""
            },
            "type": "choropleth"
           }
          ],
          "contour": [
           {
            "colorbar": {
             "outlinewidth": 0,
             "ticks": ""
            },
            "colorscale": [
             [
              0,
              "#0d0887"
             ],
             [
              0.1111111111111111,
              "#46039f"
             ],
             [
              0.2222222222222222,
              "#7201a8"
             ],
             [
              0.3333333333333333,
              "#9c179e"
             ],
             [
              0.4444444444444444,
              "#bd3786"
             ],
             [
              0.5555555555555556,
              "#d8576b"
             ],
             [
              0.6666666666666666,
              "#ed7953"
             ],
             [
              0.7777777777777778,
              "#fb9f3a"
             ],
             [
              0.8888888888888888,
              "#fdca26"
             ],
             [
              1,
              "#f0f921"
             ]
            ],
            "type": "contour"
           }
          ],
          "contourcarpet": [
           {
            "colorbar": {
             "outlinewidth": 0,
             "ticks": ""
            },
            "type": "contourcarpet"
           }
          ],
          "heatmap": [
           {
            "colorbar": {
             "outlinewidth": 0,
             "ticks": ""
            },
            "colorscale": [
             [
              0,
              "#0d0887"
             ],
             [
              0.1111111111111111,
              "#46039f"
             ],
             [
              0.2222222222222222,
              "#7201a8"
             ],
             [
              0.3333333333333333,
              "#9c179e"
             ],
             [
              0.4444444444444444,
              "#bd3786"
             ],
             [
              0.5555555555555556,
              "#d8576b"
             ],
             [
              0.6666666666666666,
              "#ed7953"
             ],
             [
              0.7777777777777778,
              "#fb9f3a"
             ],
             [
              0.8888888888888888,
              "#fdca26"
             ],
             [
              1,
              "#f0f921"
             ]
            ],
            "type": "heatmap"
           }
          ],
          "heatmapgl": [
           {
            "colorbar": {
             "outlinewidth": 0,
             "ticks": ""
            },
            "colorscale": [
             [
              0,
              "#0d0887"
             ],
             [
              0.1111111111111111,
              "#46039f"
             ],
             [
              0.2222222222222222,
              "#7201a8"
             ],
             [
              0.3333333333333333,
              "#9c179e"
             ],
             [
              0.4444444444444444,
              "#bd3786"
             ],
             [
              0.5555555555555556,
              "#d8576b"
             ],
             [
              0.6666666666666666,
              "#ed7953"
             ],
             [
              0.7777777777777778,
              "#fb9f3a"
             ],
             [
              0.8888888888888888,
              "#fdca26"
             ],
             [
              1,
              "#f0f921"
             ]
            ],
            "type": "heatmapgl"
           }
          ],
          "histogram": [
           {
            "marker": {
             "pattern": {
              "fillmode": "overlay",
              "size": 10,
              "solidity": 0.2
             }
            },
            "type": "histogram"
           }
          ],
          "histogram2d": [
           {
            "colorbar": {
             "outlinewidth": 0,
             "ticks": ""
            },
            "colorscale": [
             [
              0,
              "#0d0887"
             ],
             [
              0.1111111111111111,
              "#46039f"
             ],
             [
              0.2222222222222222,
              "#7201a8"
             ],
             [
              0.3333333333333333,
              "#9c179e"
             ],
             [
              0.4444444444444444,
              "#bd3786"
             ],
             [
              0.5555555555555556,
              "#d8576b"
             ],
             [
              0.6666666666666666,
              "#ed7953"
             ],
             [
              0.7777777777777778,
              "#fb9f3a"
             ],
             [
              0.8888888888888888,
              "#fdca26"
             ],
             [
              1,
              "#f0f921"
             ]
            ],
            "type": "histogram2d"
           }
          ],
          "histogram2dcontour": [
           {
            "colorbar": {
             "outlinewidth": 0,
             "ticks": ""
            },
            "colorscale": [
             [
              0,
              "#0d0887"
             ],
             [
              0.1111111111111111,
              "#46039f"
             ],
             [
              0.2222222222222222,
              "#7201a8"
             ],
             [
              0.3333333333333333,
              "#9c179e"
             ],
             [
              0.4444444444444444,
              "#bd3786"
             ],
             [
              0.5555555555555556,
              "#d8576b"
             ],
             [
              0.6666666666666666,
              "#ed7953"
             ],
             [
              0.7777777777777778,
              "#fb9f3a"
             ],
             [
              0.8888888888888888,
              "#fdca26"
             ],
             [
              1,
              "#f0f921"
             ]
            ],
            "type": "histogram2dcontour"
           }
          ],
          "mesh3d": [
           {
            "colorbar": {
             "outlinewidth": 0,
             "ticks": ""
            },
            "type": "mesh3d"
           }
          ],
          "parcoords": [
           {
            "line": {
             "colorbar": {
              "outlinewidth": 0,
              "ticks": ""
             }
            },
            "type": "parcoords"
           }
          ],
          "pie": [
           {
            "automargin": true,
            "type": "pie"
           }
          ],
          "scatter": [
           {
            "fillpattern": {
             "fillmode": "overlay",
             "size": 10,
             "solidity": 0.2
            },
            "type": "scatter"
           }
          ],
          "scatter3d": [
           {
            "line": {
             "colorbar": {
              "outlinewidth": 0,
              "ticks": ""
             }
            },
            "marker": {
             "colorbar": {
              "outlinewidth": 0,
              "ticks": ""
             }
            },
            "type": "scatter3d"
           }
          ],
          "scattercarpet": [
           {
            "marker": {
             "colorbar": {
              "outlinewidth": 0,
              "ticks": ""
             }
            },
            "type": "scattercarpet"
           }
          ],
          "scattergeo": [
           {
            "marker": {
             "colorbar": {
              "outlinewidth": 0,
              "ticks": ""
             }
            },
            "type": "scattergeo"
           }
          ],
          "scattergl": [
           {
            "marker": {
             "colorbar": {
              "outlinewidth": 0,
              "ticks": ""
             }
            },
            "type": "scattergl"
           }
          ],
          "scattermapbox": [
           {
            "marker": {
             "colorbar": {
              "outlinewidth": 0,
              "ticks": ""
             }
            },
            "type": "scattermapbox"
           }
          ],
          "scatterpolar": [
           {
            "marker": {
             "colorbar": {
              "outlinewidth": 0,
              "ticks": ""
             }
            },
            "type": "scatterpolar"
           }
          ],
          "scatterpolargl": [
           {
            "marker": {
             "colorbar": {
              "outlinewidth": 0,
              "ticks": ""
             }
            },
            "type": "scatterpolargl"
           }
          ],
          "scatterternary": [
           {
            "marker": {
             "colorbar": {
              "outlinewidth": 0,
              "ticks": ""
             }
            },
            "type": "scatterternary"
           }
          ],
          "surface": [
           {
            "colorbar": {
             "outlinewidth": 0,
             "ticks": ""
            },
            "colorscale": [
             [
              0,
              "#0d0887"
             ],
             [
              0.1111111111111111,
              "#46039f"
             ],
             [
              0.2222222222222222,
              "#7201a8"
             ],
             [
              0.3333333333333333,
              "#9c179e"
             ],
             [
              0.4444444444444444,
              "#bd3786"
             ],
             [
              0.5555555555555556,
              "#d8576b"
             ],
             [
              0.6666666666666666,
              "#ed7953"
             ],
             [
              0.7777777777777778,
              "#fb9f3a"
             ],
             [
              0.8888888888888888,
              "#fdca26"
             ],
             [
              1,
              "#f0f921"
             ]
            ],
            "type": "surface"
           }
          ],
          "table": [
           {
            "cells": {
             "fill": {
              "color": "#EBF0F8"
             },
             "line": {
              "color": "white"
             }
            },
            "header": {
             "fill": {
              "color": "#C8D4E3"
             },
             "line": {
              "color": "white"
             }
            },
            "type": "table"
           }
          ]
         },
         "layout": {
          "annotationdefaults": {
           "arrowcolor": "#2a3f5f",
           "arrowhead": 0,
           "arrowwidth": 1
          },
          "autotypenumbers": "strict",
          "coloraxis": {
           "colorbar": {
            "outlinewidth": 0,
            "ticks": ""
           }
          },
          "colorscale": {
           "diverging": [
            [
             0,
             "#8e0152"
            ],
            [
             0.1,
             "#c51b7d"
            ],
            [
             0.2,
             "#de77ae"
            ],
            [
             0.3,
             "#f1b6da"
            ],
            [
             0.4,
             "#fde0ef"
            ],
            [
             0.5,
             "#f7f7f7"
            ],
            [
             0.6,
             "#e6f5d0"
            ],
            [
             0.7,
             "#b8e186"
            ],
            [
             0.8,
             "#7fbc41"
            ],
            [
             0.9,
             "#4d9221"
            ],
            [
             1,
             "#276419"
            ]
           ],
           "sequential": [
            [
             0,
             "#0d0887"
            ],
            [
             0.1111111111111111,
             "#46039f"
            ],
            [
             0.2222222222222222,
             "#7201a8"
            ],
            [
             0.3333333333333333,
             "#9c179e"
            ],
            [
             0.4444444444444444,
             "#bd3786"
            ],
            [
             0.5555555555555556,
             "#d8576b"
            ],
            [
             0.6666666666666666,
             "#ed7953"
            ],
            [
             0.7777777777777778,
             "#fb9f3a"
            ],
            [
             0.8888888888888888,
             "#fdca26"
            ],
            [
             1,
             "#f0f921"
            ]
           ],
           "sequentialminus": [
            [
             0,
             "#0d0887"
            ],
            [
             0.1111111111111111,
             "#46039f"
            ],
            [
             0.2222222222222222,
             "#7201a8"
            ],
            [
             0.3333333333333333,
             "#9c179e"
            ],
            [
             0.4444444444444444,
             "#bd3786"
            ],
            [
             0.5555555555555556,
             "#d8576b"
            ],
            [
             0.6666666666666666,
             "#ed7953"
            ],
            [
             0.7777777777777778,
             "#fb9f3a"
            ],
            [
             0.8888888888888888,
             "#fdca26"
            ],
            [
             1,
             "#f0f921"
            ]
           ]
          },
          "colorway": [
           "#636efa",
           "#EF553B",
           "#00cc96",
           "#ab63fa",
           "#FFA15A",
           "#19d3f3",
           "#FF6692",
           "#B6E880",
           "#FF97FF",
           "#FECB52"
          ],
          "font": {
           "color": "#2a3f5f"
          },
          "geo": {
           "bgcolor": "white",
           "lakecolor": "white",
           "landcolor": "#E5ECF6",
           "showlakes": true,
           "showland": true,
           "subunitcolor": "white"
          },
          "hoverlabel": {
           "align": "left"
          },
          "hovermode": "closest",
          "mapbox": {
           "style": "light"
          },
          "paper_bgcolor": "white",
          "plot_bgcolor": "#E5ECF6",
          "polar": {
           "angularaxis": {
            "gridcolor": "white",
            "linecolor": "white",
            "ticks": ""
           },
           "bgcolor": "#E5ECF6",
           "radialaxis": {
            "gridcolor": "white",
            "linecolor": "white",
            "ticks": ""
           }
          },
          "scene": {
           "xaxis": {
            "backgroundcolor": "#E5ECF6",
            "gridcolor": "white",
            "gridwidth": 2,
            "linecolor": "white",
            "showbackground": true,
            "ticks": "",
            "zerolinecolor": "white"
           },
           "yaxis": {
            "backgroundcolor": "#E5ECF6",
            "gridcolor": "white",
            "gridwidth": 2,
            "linecolor": "white",
            "showbackground": true,
            "ticks": "",
            "zerolinecolor": "white"
           },
           "zaxis": {
            "backgroundcolor": "#E5ECF6",
            "gridcolor": "white",
            "gridwidth": 2,
            "linecolor": "white",
            "showbackground": true,
            "ticks": "",
            "zerolinecolor": "white"
           }
          },
          "shapedefaults": {
           "line": {
            "color": "#2a3f5f"
           }
          },
          "ternary": {
           "aaxis": {
            "gridcolor": "white",
            "linecolor": "white",
            "ticks": ""
           },
           "baxis": {
            "gridcolor": "white",
            "linecolor": "white",
            "ticks": ""
           },
           "bgcolor": "#E5ECF6",
           "caxis": {
            "gridcolor": "white",
            "linecolor": "white",
            "ticks": ""
           }
          },
          "title": {
           "x": 0.05
          },
          "xaxis": {
           "automargin": true,
           "gridcolor": "white",
           "linecolor": "white",
           "ticks": "",
           "title": {
            "standoff": 15
           },
           "zerolinecolor": "white",
           "zerolinewidth": 2
          },
          "yaxis": {
           "automargin": true,
           "gridcolor": "white",
           "linecolor": "white",
           "ticks": "",
           "title": {
            "standoff": 15
           },
           "zerolinecolor": "white",
           "zerolinewidth": 2
          }
         }
        },
        "width": 1600,
        "xaxis": {
         "range": [
          -0.002,
          0.018
         ],
         "tickfont": {
          "color": "black",
          "family": "Times New Roman",
          "size": 36
         },
         "title": {
          "text": "Threshold (g)"
         }
        },
        "yaxis": {
         "range": [
          1,
          11
         ],
         "tickfont": {
          "color": "black",
          "family": "Times New Roman",
          "size": 36
         },
         "title": {
          "text": "Duration (s)"
         }
        }
       }
      }
     },
     "metadata": {},
     "output_type": "display_data"
    }
   ],
   "source": [
    "import plotly.graph_objects as go\n",
    "import numpy as np\n",
    "\n",
    "# Function to map a value in [1, 65] to a saturation percentage between 30% and 100%\n",
    "def value_to_saturation(val, min_val=1, max_val=65, min_sat=0.5, max_sat=1.0, gamma=2):\n",
    "    norm = (val - min_val) / (max_val - min_val)\n",
    "    sat = min_sat + (norm ** gamma) * (max_sat - min_sat)\n",
    "    return round(sat * 100, 1)\n",
    "\n",
    "# For R_PRE (red)\n",
    "colors_red = [f'hsl(0, {value_to_saturation(val)}%, 50%)' for val in R_PRE[:, 2]]\n",
    "max_idx_pre = np.argmax(R_PRE[:, 2])\n",
    "\n",
    "# For R_ONB (blue)\n",
    "colors_blue = [f'hsl(240, {value_to_saturation(val)}%, 50%)' for val in R_ONB[:, 2]]\n",
    "max_idx_onb = np.argmax(R_ONB[:, 2])\n",
    "\n",
    "# Font customization variables\n",
    "font_family = \"Times New Roman\"\n",
    "font_size = 36\n",
    "font_color = \"black\"\n",
    "\n",
    "# Create figure object\n",
    "fig = go.Figure()\n",
    "\n",
    "# Add first dataset R_PRE (red)\n",
    "fig.add_trace(go.Scatter(\n",
    "    x=R_PRE[:, 0],\n",
    "    y=R_PRE[:, 1],\n",
    "    mode='markers',\n",
    "    marker=dict(\n",
    "        size=R_PRE[:, 2] * 40,\n",
    "        color=colors_red\n",
    "    ),\n",
    "    name='R_PRE'\n",
    "))\n",
    "\n",
    "# Highlight maximum value in R_PRE with a red hollow circle\n",
    "fig.add_trace(go.Scatter(\n",
    "    x=[R_PRE[max_idx_pre, 0]],\n",
    "    y=[R_PRE[max_idx_pre, 1]],\n",
    "    mode='markers',\n",
    "    marker=dict(\n",
    "        size=R_PRE[max_idx_pre, 2] * 50,\n",
    "        color='rgba(255, 0, 0, 0)',\n",
    "        line=dict(color='red', width=4)\n",
    "    ),\n",
    "    name='Max R_PRE'\n",
    "))\n",
    "\n",
    "# Vertical and horizontal lines for R_PRE max\n",
    "fig.add_trace(go.Scatter(\n",
    "    x=[R_PRE[max_idx_pre, 0], R_PRE[max_idx_pre, 0]],\n",
    "    y=[1, R_PRE[max_idx_pre, 1]],\n",
    "    mode='lines',\n",
    "    line=dict(color='red', width=2, dash='dash'),\n",
    "    showlegend=False\n",
    "))\n",
    "fig.add_trace(go.Scatter(\n",
    "    x=[-0.002, R_PRE[max_idx_pre, 0]],\n",
    "    y=[R_PRE[max_idx_pre, 1], R_PRE[max_idx_pre, 1]],\n",
    "    mode='lines',\n",
    "    line=dict(color='red', width=2, dash='dash'),\n",
    "    showlegend=False\n",
    "))\n",
    "\n",
    "# Add second dataset R_ONB (blue)\n",
    "fig.add_trace(go.Scatter(\n",
    "    x=R_ONB[:, 0],\n",
    "    y=R_ONB[:, 1],\n",
    "    mode='markers',\n",
    "    marker=dict(\n",
    "        size=R_ONB[:, 2] * 40,\n",
    "        color=colors_blue\n",
    "    ),\n",
    "    name='R_ONB'\n",
    "))\n",
    "\n",
    "# Highlight maximum value in R_ONB with a blue hollow circle\n",
    "fig.add_trace(go.Scatter(\n",
    "    x=[R_ONB[max_idx_onb, 0]],\n",
    "    y=[R_ONB[max_idx_onb, 1]],\n",
    "    mode='markers',\n",
    "    marker=dict(\n",
    "        size=R_ONB[max_idx_onb, 2] * 50,\n",
    "        color='rgba(0, 0, 255, 0)',\n",
    "        line=dict(color='blue', width=4)\n",
    "    ),\n",
    "    name='Max R_ONB'\n",
    "))\n",
    "\n",
    "# Vertical and horizontal lines for R_ONB max\n",
    "fig.add_trace(go.Scatter(\n",
    "    x=[R_ONB[max_idx_onb, 0], R_ONB[max_idx_onb, 0]],\n",
    "    y=[1, R_ONB[max_idx_onb, 1]],\n",
    "    mode='lines',\n",
    "    line=dict(color='blue', width=2, dash='dash'),\n",
    "    showlegend=False\n",
    "))\n",
    "fig.add_trace(go.Scatter(\n",
    "    x=[-0.002, R_ONB[max_idx_onb, 0]],\n",
    "    y=[R_ONB[max_idx_onb, 1], R_ONB[max_idx_onb, 1]],\n",
    "    mode='lines',\n",
    "    line=dict(color='blue', width=2, dash='dash'),\n",
    "    showlegend=False\n",
    "))\n",
    "\n",
    "# Add black hollow circle at (0.00324, 5) with vertical and horizontal lines\n",
    "fig.add_trace(go.Scatter(\n",
    "    x=[0.00324],\n",
    "    y=[5],\n",
    "    mode='markers',\n",
    "    marker=dict(\n",
    "        size=50,\n",
    "        color='rgba(0, 0, 0, 0)',\n",
    "        line=dict(color='black', width=4)\n",
    "    ),\n",
    "    name='Custom Point'\n",
    "))\n",
    "\n",
    "fig.add_trace(go.Scatter(\n",
    "    x=[0.00324, 0.00324],\n",
    "    y=[1, 5],\n",
    "    mode='lines',\n",
    "    line=dict(color='black', width=2, dash='dash'),\n",
    "    showlegend=False\n",
    "))\n",
    "\n",
    "fig.add_trace(go.Scatter(\n",
    "    x=[-0.002, 0.00324],\n",
    "    y=[5, 5],\n",
    "    mode='lines',\n",
    "    line=dict(color='black', width=2, dash='dash'),\n",
    "    showlegend=False\n",
    "))\n",
    "\n",
    "# Update overall layout\n",
    "fig.update_layout(\n",
    "    font=dict(\n",
    "        family=font_family,\n",
    "        size=font_size,\n",
    "        color=font_color\n",
    "    ),\n",
    "    width=1600,\n",
    "    height=1600,\n",
    "    showlegend=False,\n",
    "    xaxis_title=\"Threshold (g)\",\n",
    "    yaxis_title=\"Duration (s)\"\n",
    ")\n",
    "\n",
    "fig.update_xaxes(\n",
    "    range=[-0.002, 0.018],\n",
    "    tickfont=dict(family=font_family, size=font_size, color=font_color)\n",
    ")\n",
    "\n",
    "fig.update_yaxes(\n",
    "    range=[1, 11],\n",
    "    tickfont=dict(family=font_family, size=font_size, color=font_color)\n",
    ")\n",
    "\n",
    "fig.show()\n"
   ]
  },
  {
   "cell_type": "code",
   "execution_count": 15,
   "metadata": {},
   "outputs": [
    {
     "data": {
      "application/vnd.plotly.v1+json": {
       "config": {
        "plotlyServerURL": "https://plot.ly"
       },
       "data": [
        {
         "marker": {
          "color": [
           "hsl(0, 50.0%, 50%)",
           "hsl(0, 50.0%, 50%)",
           "hsl(0, 50.0%, 50%)",
           "hsl(0, 50.0%, 50%)",
           "hsl(0, 50.0%, 50%)",
           "hsl(0, 50.0%, 50%)",
           "hsl(0, 50.0%, 50%)",
           "hsl(0, 50.0%, 50%)",
           "hsl(0, 50.0%, 50%)",
           "hsl(0, 50.0%, 50%)",
           "hsl(0, 50.0%, 50%)",
           "hsl(0, 50.0%, 50%)",
           "hsl(0, 50.0%, 50%)",
           "hsl(0, 50.0%, 50%)",
           "hsl(0, 50.0%, 50%)",
           "hsl(0, 50.0%, 50%)",
           "hsl(0, 50.0%, 50%)",
           "hsl(0, 50.0%, 50%)",
           "hsl(0, 50.0%, 50%)",
           "hsl(0, 50.0%, 50%)",
           "hsl(0, 50.0%, 50%)",
           "hsl(0, 50.0%, 50%)",
           "hsl(0, 50.0%, 50%)",
           "hsl(0, 50.0%, 50%)",
           "hsl(0, 50.0%, 50%)",
           "hsl(0, 50.0%, 50%)",
           "hsl(0, 50.0%, 50%)",
           "hsl(0, 50.0%, 50%)",
           "hsl(0, 50.0%, 50%)",
           "hsl(0, 50.0%, 50%)",
           "hsl(0, 50.0%, 50%)",
           "hsl(0, 50.0%, 50%)",
           "hsl(0, 50.0%, 50%)",
           "hsl(0, 50.0%, 50%)",
           "hsl(0, 50.0%, 50%)",
           "hsl(0, 50.0%, 50%)",
           "hsl(0, 50.0%, 50%)",
           "hsl(0, 50.0%, 50%)",
           "hsl(0, 50.0%, 50%)",
           "hsl(0, 50.0%, 50%)",
           "hsl(0, 50.0%, 50%)",
           "hsl(0, 50.0%, 50%)",
           "hsl(0, 50.0%, 50%)",
           "hsl(0, 50.0%, 50%)",
           "hsl(0, 50.0%, 50%)"
          ],
          "size": [
           32.098765432098766,
           32.098765432098766,
           30.173941945490803,
           32.2340958423777,
           33.56807511737089,
           32.098765432098766,
           38.281094030744654,
           36.90851735015773,
           32.226078334159645,
           33.22522055007784,
           43.11224489795919,
           32.27832307436367,
           36.859527921704085,
           31.33648144080826,
           32.14762301918265,
           43.17064390043201,
           42.69871662181743,
           42.78338430173293,
           32.098765432098766,
           32.098765432098766,
           33.597166345985656,
           32.098765432098766,
           32.098765432098766,
           32.098765432098766,
           30.173941945490803,
           43.21106094808127,
           42.967688824861085,
           33.26660895909976,
           32.098765432098766,
           32.332390617201796,
           31.163404442489554,
           32.098765432098766,
           30.815876515986773,
           34.37567045698348,
           32.098765432098766,
           42.905907870274746,
           33.4899546338302,
           35.36114684800588,
           32.098765432098766,
           32.13049925852694,
           37.877144547426546,
           36.37803590285111,
           32.098765432098766,
           42.41651109728272,
           32.098765432098766
          ]
         },
         "mode": "markers",
         "name": "R_PRE",
         "type": "scatter",
         "x": [
          0.00033654789784862116,
          0.00219865554136328,
          0.015720044164831172,
          0.007368194401393576,
          0.009402889402293429,
          0.0006844824716602305,
          0.01155532735246033,
          0.01753636636350028,
          0.0031952530085227362,
          0.006199205502795825,
          0.01367881824733653,
          0.0033753174292445384,
          0.009972337734102318,
          0.014064844016711714,
          0.004619568912342903,
          0.012258236548423743,
          0.013075533774944565,
          0.009944033458278524,
          0.0007989539864326439,
          0.0012191455741698957,
          0.006358167539101247,
          0.0020408350120328248,
          0.001541342713304257,
          0.001454042704838776,
          0.015814239411679226,
          0.011620492527197443,
          0.011504618229983781,
          0.017370544009307827,
          0.00018240033948512663,
          0.0075412493391689645,
          0.016356824312437148,
          0.00034237913161195156,
          0.016145541219561483,
          0.01653361438713557,
          0.0006082395158725449,
          0.014153195546823606,
          0.014002548997181332,
          0.009328695036942078,
          0.0006127641349001275,
          0.0034096503487435078,
          0.009271508373593678,
          0.01616772993637093,
          0.004799638807044426,
          0.01329431824622545,
          0.00017281891197809201
         ],
         "y": [
          0.8024691358024691,
          0.8024691358024691,
          0.7543485486372701,
          0.8058523960594424,
          0.8392018779342723,
          0.8024691358024691,
          0.9570273507686164,
          0.9227129337539433,
          0.8056519583539911,
          0.8306305137519461,
          1.0778061224489797,
          0.8069580768590917,
          0.9214881980426022,
          0.7834120360202065,
          0.8036905754795663,
          1.0792660975108004,
          1.0674679155454359,
          1.0695846075433233,
          0.8024691358024691,
          0.8024691358024691,
          0.8399291586496415,
          0.8024691358024691,
          0.8024691358024691,
          0.8024691358024691,
          0.7543485486372701,
          1.0802765237020318,
          1.074192220621527,
          0.8316652239774941,
          0.8024691358024691,
          0.808309765430045,
          0.7790851110622389,
          0.8024691358024691,
          0.7703969128996693,
          0.859391761424587,
          0.8024691358024691,
          1.0726476967568686,
          0.837248865845755,
          0.884028671200147,
          0.8024691358024691,
          0.8032624814631735,
          0.9469286136856636,
          0.9094508975712777,
          0.8024691358024691,
          1.060412777432068,
          0.8024691358024691
         ]
        },
        {
         "marker": {
          "color": "rgba(255, 0, 0, 0)",
          "line": {
           "color": "red",
           "width": 4
          },
          "size": 50
         },
         "mode": "markers",
         "name": "Max R_PRE",
         "type": "scatter",
         "x": [
          0.011620492527197443
         ],
         "y": [
          1.0802765237020318
         ]
        },
        {
         "line": {
          "color": "red",
          "dash": "dash",
          "width": 2
         },
         "mode": "lines",
         "showlegend": false,
         "type": "scatter",
         "x": [
          0.011620492527197443,
          0.011620492527197443
         ],
         "y": [
          -0.1,
          1.0802765237020318
         ]
        },
        {
         "line": {
          "color": "red",
          "dash": "dash",
          "width": 2
         },
         "mode": "lines",
         "showlegend": false,
         "type": "scatter",
         "x": [
          -0.002,
          0.011620492527197443
         ],
         "y": [
          1.0802765237020318,
          1.0802765237020318
         ]
        },
        {
         "marker": {
          "color": [
           "hsl(240, 50.0%, 50%)",
           "hsl(240, 50.0%, 50%)",
           "hsl(240, 50.0%, 50%)",
           "hsl(240, 50.0%, 50%)",
           "hsl(240, 50.0%, 50%)",
           "hsl(240, 50.0%, 50%)",
           "hsl(240, 50.0%, 50%)",
           "hsl(240, 50.0%, 50%)",
           "hsl(240, 50.0%, 50%)",
           "hsl(240, 50.0%, 50%)",
           "hsl(240, 50.0%, 50%)",
           "hsl(240, 50.0%, 50%)",
           "hsl(240, 50.0%, 50%)",
           "hsl(240, 50.0%, 50%)",
           "hsl(240, 50.0%, 50%)",
           "hsl(240, 50.0%, 50%)",
           "hsl(240, 50.0%, 50%)",
           "hsl(240, 50.0%, 50%)",
           "hsl(240, 50.0%, 50%)",
           "hsl(240, 50.0%, 50%)"
          ],
          "size": [
           40.91780942048601,
           41.58863855592862,
           40.779222925945476,
           40.70887328815583,
           40.8560707585349,
           40.75010022699356,
           41.05370920669887,
           40.78156651552987,
           28.6650304517087,
           41.20039379931568,
           41.057915727908174,
           40.82891232789641,
           41.517539294988026,
           41.153735370536594,
           41.07005982723265,
           41.22961336139977,
           40.962969676664265,
           41.15672717543749,
           41.06414295315741,
           41.518071286609455
          ]
         },
         "mode": "markers",
         "name": "R_ONB",
         "type": "scatter",
         "x": [
          0.014435327473777466,
          0.007938039842215056,
          0.016079625524062238,
          0.016604765975873622,
          0.014783350300530244,
          0.015981634632245972,
          0.013505878672728512,
          0.01633918469679386,
          0.00042300343388361515,
          0.0058721126476576225,
          0.014119467061272942,
          0.016122808239995127,
          0.010869380303125247,
          0.014593720200762989,
          0.014714890604441545,
          0.014048398689986913,
          0.015810034023010993,
          0.014434365402787837,
          0.014542891221688718,
          0.011007507158006219
         ],
         "y": [
          1.0229452355121502,
          1.0397159638982154,
          1.019480573148637,
          1.0177218322038957,
          1.0214017689633725,
          1.018752505674839,
          1.0263427301674717,
          1.0195391628882466,
          0.7166257612927175,
          1.0300098449828918,
          1.0264478931977044,
          1.0207228081974102,
          1.0379384823747007,
          1.0288433842634148,
          1.0267514956808161,
          1.0307403340349943,
          1.0240742419166067,
          1.0289181793859372,
          1.0266035738289352,
          1.0379517821652364
         ]
        },
        {
         "marker": {
          "color": "rgba(0, 0, 255, 0)",
          "line": {
           "color": "blue",
           "width": 4
          },
          "size": 50
         },
         "mode": "markers",
         "name": "Max R_ONB",
         "type": "scatter",
         "x": [
          0.007938039842215056
         ],
         "y": [
          1.0397159638982154
         ]
        },
        {
         "line": {
          "color": "blue",
          "dash": "dash",
          "width": 2
         },
         "mode": "lines",
         "showlegend": false,
         "type": "scatter",
         "x": [
          0.007938039842215056,
          0.007938039842215056
         ],
         "y": [
          -0.1,
          1.0397159638982154
         ]
        },
        {
         "line": {
          "color": "blue",
          "dash": "dash",
          "width": 2
         },
         "mode": "lines",
         "showlegend": false,
         "type": "scatter",
         "x": [
          -0.002,
          0.007938039842215056
         ],
         "y": [
          1.0397159638982154,
          1.0397159638982154
         ]
        },
        {
         "marker": {
          "color": "rgba(0, 0, 0, 0)",
          "line": {
           "color": "black",
           "width": 4
          },
          "size": 50
         },
         "mode": "markers",
         "name": "Custom Point",
         "type": "scatter",
         "x": [
          0.00324
         ],
         "y": [
          0.8015
         ]
        },
        {
         "line": {
          "color": "black",
          "dash": "dash",
          "width": 2
         },
         "mode": "lines",
         "showlegend": false,
         "type": "scatter",
         "x": [
          0.00324,
          0.00324
         ],
         "y": [
          -0.1,
          0.8015
         ]
        },
        {
         "line": {
          "color": "black",
          "dash": "dash",
          "width": 2
         },
         "mode": "lines",
         "showlegend": false,
         "type": "scatter",
         "x": [
          -0.002,
          0.00324
         ],
         "y": [
          0.8015,
          0.8015
         ]
        }
       ],
       "layout": {
        "font": {
         "color": "black",
         "family": "Times New Roman",
         "size": 36
        },
        "height": 1600,
        "showlegend": false,
        "template": {
         "data": {
          "bar": [
           {
            "error_x": {
             "color": "#2a3f5f"
            },
            "error_y": {
             "color": "#2a3f5f"
            },
            "marker": {
             "line": {
              "color": "#E5ECF6",
              "width": 0.5
             },
             "pattern": {
              "fillmode": "overlay",
              "size": 10,
              "solidity": 0.2
             }
            },
            "type": "bar"
           }
          ],
          "barpolar": [
           {
            "marker": {
             "line": {
              "color": "#E5ECF6",
              "width": 0.5
             },
             "pattern": {
              "fillmode": "overlay",
              "size": 10,
              "solidity": 0.2
             }
            },
            "type": "barpolar"
           }
          ],
          "carpet": [
           {
            "aaxis": {
             "endlinecolor": "#2a3f5f",
             "gridcolor": "white",
             "linecolor": "white",
             "minorgridcolor": "white",
             "startlinecolor": "#2a3f5f"
            },
            "baxis": {
             "endlinecolor": "#2a3f5f",
             "gridcolor": "white",
             "linecolor": "white",
             "minorgridcolor": "white",
             "startlinecolor": "#2a3f5f"
            },
            "type": "carpet"
           }
          ],
          "choropleth": [
           {
            "colorbar": {
             "outlinewidth": 0,
             "ticks": ""
            },
            "type": "choropleth"
           }
          ],
          "contour": [
           {
            "colorbar": {
             "outlinewidth": 0,
             "ticks": ""
            },
            "colorscale": [
             [
              0,
              "#0d0887"
             ],
             [
              0.1111111111111111,
              "#46039f"
             ],
             [
              0.2222222222222222,
              "#7201a8"
             ],
             [
              0.3333333333333333,
              "#9c179e"
             ],
             [
              0.4444444444444444,
              "#bd3786"
             ],
             [
              0.5555555555555556,
              "#d8576b"
             ],
             [
              0.6666666666666666,
              "#ed7953"
             ],
             [
              0.7777777777777778,
              "#fb9f3a"
             ],
             [
              0.8888888888888888,
              "#fdca26"
             ],
             [
              1,
              "#f0f921"
             ]
            ],
            "type": "contour"
           }
          ],
          "contourcarpet": [
           {
            "colorbar": {
             "outlinewidth": 0,
             "ticks": ""
            },
            "type": "contourcarpet"
           }
          ],
          "heatmap": [
           {
            "colorbar": {
             "outlinewidth": 0,
             "ticks": ""
            },
            "colorscale": [
             [
              0,
              "#0d0887"
             ],
             [
              0.1111111111111111,
              "#46039f"
             ],
             [
              0.2222222222222222,
              "#7201a8"
             ],
             [
              0.3333333333333333,
              "#9c179e"
             ],
             [
              0.4444444444444444,
              "#bd3786"
             ],
             [
              0.5555555555555556,
              "#d8576b"
             ],
             [
              0.6666666666666666,
              "#ed7953"
             ],
             [
              0.7777777777777778,
              "#fb9f3a"
             ],
             [
              0.8888888888888888,
              "#fdca26"
             ],
             [
              1,
              "#f0f921"
             ]
            ],
            "type": "heatmap"
           }
          ],
          "heatmapgl": [
           {
            "colorbar": {
             "outlinewidth": 0,
             "ticks": ""
            },
            "colorscale": [
             [
              0,
              "#0d0887"
             ],
             [
              0.1111111111111111,
              "#46039f"
             ],
             [
              0.2222222222222222,
              "#7201a8"
             ],
             [
              0.3333333333333333,
              "#9c179e"
             ],
             [
              0.4444444444444444,
              "#bd3786"
             ],
             [
              0.5555555555555556,
              "#d8576b"
             ],
             [
              0.6666666666666666,
              "#ed7953"
             ],
             [
              0.7777777777777778,
              "#fb9f3a"
             ],
             [
              0.8888888888888888,
              "#fdca26"
             ],
             [
              1,
              "#f0f921"
             ]
            ],
            "type": "heatmapgl"
           }
          ],
          "histogram": [
           {
            "marker": {
             "pattern": {
              "fillmode": "overlay",
              "size": 10,
              "solidity": 0.2
             }
            },
            "type": "histogram"
           }
          ],
          "histogram2d": [
           {
            "colorbar": {
             "outlinewidth": 0,
             "ticks": ""
            },
            "colorscale": [
             [
              0,
              "#0d0887"
             ],
             [
              0.1111111111111111,
              "#46039f"
             ],
             [
              0.2222222222222222,
              "#7201a8"
             ],
             [
              0.3333333333333333,
              "#9c179e"
             ],
             [
              0.4444444444444444,
              "#bd3786"
             ],
             [
              0.5555555555555556,
              "#d8576b"
             ],
             [
              0.6666666666666666,
              "#ed7953"
             ],
             [
              0.7777777777777778,
              "#fb9f3a"
             ],
             [
              0.8888888888888888,
              "#fdca26"
             ],
             [
              1,
              "#f0f921"
             ]
            ],
            "type": "histogram2d"
           }
          ],
          "histogram2dcontour": [
           {
            "colorbar": {
             "outlinewidth": 0,
             "ticks": ""
            },
            "colorscale": [
             [
              0,
              "#0d0887"
             ],
             [
              0.1111111111111111,
              "#46039f"
             ],
             [
              0.2222222222222222,
              "#7201a8"
             ],
             [
              0.3333333333333333,
              "#9c179e"
             ],
             [
              0.4444444444444444,
              "#bd3786"
             ],
             [
              0.5555555555555556,
              "#d8576b"
             ],
             [
              0.6666666666666666,
              "#ed7953"
             ],
             [
              0.7777777777777778,
              "#fb9f3a"
             ],
             [
              0.8888888888888888,
              "#fdca26"
             ],
             [
              1,
              "#f0f921"
             ]
            ],
            "type": "histogram2dcontour"
           }
          ],
          "mesh3d": [
           {
            "colorbar": {
             "outlinewidth": 0,
             "ticks": ""
            },
            "type": "mesh3d"
           }
          ],
          "parcoords": [
           {
            "line": {
             "colorbar": {
              "outlinewidth": 0,
              "ticks": ""
             }
            },
            "type": "parcoords"
           }
          ],
          "pie": [
           {
            "automargin": true,
            "type": "pie"
           }
          ],
          "scatter": [
           {
            "fillpattern": {
             "fillmode": "overlay",
             "size": 10,
             "solidity": 0.2
            },
            "type": "scatter"
           }
          ],
          "scatter3d": [
           {
            "line": {
             "colorbar": {
              "outlinewidth": 0,
              "ticks": ""
             }
            },
            "marker": {
             "colorbar": {
              "outlinewidth": 0,
              "ticks": ""
             }
            },
            "type": "scatter3d"
           }
          ],
          "scattercarpet": [
           {
            "marker": {
             "colorbar": {
              "outlinewidth": 0,
              "ticks": ""
             }
            },
            "type": "scattercarpet"
           }
          ],
          "scattergeo": [
           {
            "marker": {
             "colorbar": {
              "outlinewidth": 0,
              "ticks": ""
             }
            },
            "type": "scattergeo"
           }
          ],
          "scattergl": [
           {
            "marker": {
             "colorbar": {
              "outlinewidth": 0,
              "ticks": ""
             }
            },
            "type": "scattergl"
           }
          ],
          "scattermapbox": [
           {
            "marker": {
             "colorbar": {
              "outlinewidth": 0,
              "ticks": ""
             }
            },
            "type": "scattermapbox"
           }
          ],
          "scatterpolar": [
           {
            "marker": {
             "colorbar": {
              "outlinewidth": 0,
              "ticks": ""
             }
            },
            "type": "scatterpolar"
           }
          ],
          "scatterpolargl": [
           {
            "marker": {
             "colorbar": {
              "outlinewidth": 0,
              "ticks": ""
             }
            },
            "type": "scatterpolargl"
           }
          ],
          "scatterternary": [
           {
            "marker": {
             "colorbar": {
              "outlinewidth": 0,
              "ticks": ""
             }
            },
            "type": "scatterternary"
           }
          ],
          "surface": [
           {
            "colorbar": {
             "outlinewidth": 0,
             "ticks": ""
            },
            "colorscale": [
             [
              0,
              "#0d0887"
             ],
             [
              0.1111111111111111,
              "#46039f"
             ],
             [
              0.2222222222222222,
              "#7201a8"
             ],
             [
              0.3333333333333333,
              "#9c179e"
             ],
             [
              0.4444444444444444,
              "#bd3786"
             ],
             [
              0.5555555555555556,
              "#d8576b"
             ],
             [
              0.6666666666666666,
              "#ed7953"
             ],
             [
              0.7777777777777778,
              "#fb9f3a"
             ],
             [
              0.8888888888888888,
              "#fdca26"
             ],
             [
              1,
              "#f0f921"
             ]
            ],
            "type": "surface"
           }
          ],
          "table": [
           {
            "cells": {
             "fill": {
              "color": "#EBF0F8"
             },
             "line": {
              "color": "white"
             }
            },
            "header": {
             "fill": {
              "color": "#C8D4E3"
             },
             "line": {
              "color": "white"
             }
            },
            "type": "table"
           }
          ]
         },
         "layout": {
          "annotationdefaults": {
           "arrowcolor": "#2a3f5f",
           "arrowhead": 0,
           "arrowwidth": 1
          },
          "autotypenumbers": "strict",
          "coloraxis": {
           "colorbar": {
            "outlinewidth": 0,
            "ticks": ""
           }
          },
          "colorscale": {
           "diverging": [
            [
             0,
             "#8e0152"
            ],
            [
             0.1,
             "#c51b7d"
            ],
            [
             0.2,
             "#de77ae"
            ],
            [
             0.3,
             "#f1b6da"
            ],
            [
             0.4,
             "#fde0ef"
            ],
            [
             0.5,
             "#f7f7f7"
            ],
            [
             0.6,
             "#e6f5d0"
            ],
            [
             0.7,
             "#b8e186"
            ],
            [
             0.8,
             "#7fbc41"
            ],
            [
             0.9,
             "#4d9221"
            ],
            [
             1,
             "#276419"
            ]
           ],
           "sequential": [
            [
             0,
             "#0d0887"
            ],
            [
             0.1111111111111111,
             "#46039f"
            ],
            [
             0.2222222222222222,
             "#7201a8"
            ],
            [
             0.3333333333333333,
             "#9c179e"
            ],
            [
             0.4444444444444444,
             "#bd3786"
            ],
            [
             0.5555555555555556,
             "#d8576b"
            ],
            [
             0.6666666666666666,
             "#ed7953"
            ],
            [
             0.7777777777777778,
             "#fb9f3a"
            ],
            [
             0.8888888888888888,
             "#fdca26"
            ],
            [
             1,
             "#f0f921"
            ]
           ],
           "sequentialminus": [
            [
             0,
             "#0d0887"
            ],
            [
             0.1111111111111111,
             "#46039f"
            ],
            [
             0.2222222222222222,
             "#7201a8"
            ],
            [
             0.3333333333333333,
             "#9c179e"
            ],
            [
             0.4444444444444444,
             "#bd3786"
            ],
            [
             0.5555555555555556,
             "#d8576b"
            ],
            [
             0.6666666666666666,
             "#ed7953"
            ],
            [
             0.7777777777777778,
             "#fb9f3a"
            ],
            [
             0.8888888888888888,
             "#fdca26"
            ],
            [
             1,
             "#f0f921"
            ]
           ]
          },
          "colorway": [
           "#636efa",
           "#EF553B",
           "#00cc96",
           "#ab63fa",
           "#FFA15A",
           "#19d3f3",
           "#FF6692",
           "#B6E880",
           "#FF97FF",
           "#FECB52"
          ],
          "font": {
           "color": "#2a3f5f"
          },
          "geo": {
           "bgcolor": "white",
           "lakecolor": "white",
           "landcolor": "#E5ECF6",
           "showlakes": true,
           "showland": true,
           "subunitcolor": "white"
          },
          "hoverlabel": {
           "align": "left"
          },
          "hovermode": "closest",
          "mapbox": {
           "style": "light"
          },
          "paper_bgcolor": "white",
          "plot_bgcolor": "#E5ECF6",
          "polar": {
           "angularaxis": {
            "gridcolor": "white",
            "linecolor": "white",
            "ticks": ""
           },
           "bgcolor": "#E5ECF6",
           "radialaxis": {
            "gridcolor": "white",
            "linecolor": "white",
            "ticks": ""
           }
          },
          "scene": {
           "xaxis": {
            "backgroundcolor": "#E5ECF6",
            "gridcolor": "white",
            "gridwidth": 2,
            "linecolor": "white",
            "showbackground": true,
            "ticks": "",
            "zerolinecolor": "white"
           },
           "yaxis": {
            "backgroundcolor": "#E5ECF6",
            "gridcolor": "white",
            "gridwidth": 2,
            "linecolor": "white",
            "showbackground": true,
            "ticks": "",
            "zerolinecolor": "white"
           },
           "zaxis": {
            "backgroundcolor": "#E5ECF6",
            "gridcolor": "white",
            "gridwidth": 2,
            "linecolor": "white",
            "showbackground": true,
            "ticks": "",
            "zerolinecolor": "white"
           }
          },
          "shapedefaults": {
           "line": {
            "color": "#2a3f5f"
           }
          },
          "ternary": {
           "aaxis": {
            "gridcolor": "white",
            "linecolor": "white",
            "ticks": ""
           },
           "baxis": {
            "gridcolor": "white",
            "linecolor": "white",
            "ticks": ""
           },
           "bgcolor": "#E5ECF6",
           "caxis": {
            "gridcolor": "white",
            "linecolor": "white",
            "ticks": ""
           }
          },
          "title": {
           "x": 0.05
          },
          "xaxis": {
           "automargin": true,
           "gridcolor": "white",
           "linecolor": "white",
           "ticks": "",
           "title": {
            "standoff": 15
           },
           "zerolinecolor": "white",
           "zerolinewidth": 2
          },
          "yaxis": {
           "automargin": true,
           "gridcolor": "white",
           "linecolor": "white",
           "ticks": "",
           "title": {
            "standoff": 15
           },
           "zerolinecolor": "white",
           "zerolinewidth": 2
          }
         }
        },
        "width": 1600,
        "xaxis": {
         "range": [
          -0.002,
          0.018
         ],
         "tickfont": {
          "color": "black",
          "family": "Times New Roman",
          "size": 36
         },
         "title": {
          "text": "Threshold (g)"
         }
        },
        "yaxis": {
         "range": [
          -0.1,
          1.2
         ],
         "tickfont": {
          "color": "black",
          "family": "Times New Roman",
          "size": 36
         },
         "title": {
          "text": "F-beta Score"
         }
        }
       }
      }
     },
     "metadata": {},
     "output_type": "display_data"
    }
   ],
   "source": [
    "import plotly.graph_objects as go\n",
    "import numpy as np\n",
    "\n",
    "# Function to map a value in [1, 65] to a saturation percentage between 30% and 100%\n",
    "def value_to_saturation(val, min_val=1, max_val=65, min_sat=0.5, max_sat=1.0, gamma=2):\n",
    "    norm = (val - min_val) / (max_val - min_val)\n",
    "    sat = min_sat + (norm ** gamma) * (max_sat - min_sat)\n",
    "    return round(sat * 100, 1)\n",
    "\n",
    "# For R_PRE (red)\n",
    "colors_red = [f'hsl(0, {value_to_saturation(val)}%, 50%)' for val in R_PRE[:, 2]]\n",
    "max_idx_pre = np.argmax(R_PRE[:, 2])\n",
    "\n",
    "# For R_ONB (blue)\n",
    "colors_blue = [f'hsl(240, {value_to_saturation(val)}%, 50%)' for val in R_ONB[:, 2]]\n",
    "max_idx_onb = np.argmax(R_ONB[:, 2])\n",
    "\n",
    "# Font customization variables\n",
    "font_family = \"Times New Roman\"\n",
    "font_size = 36\n",
    "font_color = \"black\"\n",
    "\n",
    "# Create figure object\n",
    "fig = go.Figure()\n",
    "\n",
    "# Add first dataset R_PRE (red)\n",
    "fig.add_trace(go.Scatter(\n",
    "    x=R_PRE[:, 0],\n",
    "    y=R_PRE[:, 2],\n",
    "    mode='markers',\n",
    "    marker=dict(\n",
    "        size=R_PRE[:, 2] * 40,\n",
    "        color=colors_red\n",
    "    ),\n",
    "    name='R_PRE'\n",
    "))\n",
    "\n",
    "# Highlight maximum value in R_PRE with a red hollow circle and vertical/horizontal lines\n",
    "fig.add_trace(go.Scatter(\n",
    "    x=[R_PRE[max_idx_pre, 0]],\n",
    "    y=[R_PRE[max_idx_pre, 2]],\n",
    "    mode='markers',\n",
    "    marker=dict(\n",
    "        size=50,\n",
    "        color='rgba(255, 0, 0, 0)',\n",
    "        line=dict(color='red', width=4)\n",
    "    ),\n",
    "    name='Max R_PRE'\n",
    "))\n",
    "\n",
    "fig.add_trace(go.Scatter(\n",
    "    x=[R_PRE[max_idx_pre, 0], R_PRE[max_idx_pre, 0]],\n",
    "    y=[-0.1, R_PRE[max_idx_pre, 2]],\n",
    "    mode='lines',\n",
    "    line=dict(color='red', width=2, dash='dash'),\n",
    "    showlegend=False\n",
    "))\n",
    "\n",
    "fig.add_trace(go.Scatter(\n",
    "    x=[-0.002, R_PRE[max_idx_pre, 0]],\n",
    "    y=[R_PRE[max_idx_pre, 2], R_PRE[max_idx_pre, 2]],\n",
    "    mode='lines',\n",
    "    line=dict(color='red', width=2, dash='dash'),\n",
    "    showlegend=False\n",
    "))\n",
    "\n",
    "# Add second dataset R_ONB (blue)\n",
    "fig.add_trace(go.Scatter(\n",
    "    x=R_ONB[:, 0],\n",
    "    y=R_ONB[:, 2],\n",
    "    mode='markers',\n",
    "    marker=dict(\n",
    "        size=R_ONB[:, 2] * 40,\n",
    "        color=colors_blue\n",
    "    ),\n",
    "    name='R_ONB'\n",
    "))\n",
    "\n",
    "# Highlight maximum value in R_ONB with a blue hollow circle and vertical/horizontal lines\n",
    "fig.add_trace(go.Scatter(\n",
    "    x=[R_ONB[max_idx_onb, 0]],\n",
    "    y=[R_ONB[max_idx_onb, 2]],\n",
    "    mode='markers',\n",
    "    marker=dict(\n",
    "        size=50,\n",
    "        color='rgba(0, 0, 255, 0)',\n",
    "        line=dict(color='blue', width=4)\n",
    "    ),\n",
    "    name='Max R_ONB'\n",
    "))\n",
    "\n",
    "fig.add_trace(go.Scatter(\n",
    "    x=[R_ONB[max_idx_onb, 0], R_ONB[max_idx_onb, 0]],\n",
    "    y=[-0.1, R_ONB[max_idx_onb, 2]],\n",
    "    mode='lines',\n",
    "    line=dict(color='blue', width=2, dash='dash'),\n",
    "    showlegend=False\n",
    "))\n",
    "\n",
    "fig.add_trace(go.Scatter(\n",
    "    x=[-0.002, R_ONB[max_idx_onb, 0]],\n",
    "    y=[R_ONB[max_idx_onb, 2], R_ONB[max_idx_onb, 2]],\n",
    "    mode='lines',\n",
    "    line=dict(color='blue', width=2, dash='dash'),\n",
    "    showlegend=False\n",
    "))\n",
    "\n",
    "# Add black hollow circle at (0.00324, 0.8015) with vertical and horizontal lines\n",
    "fig.add_trace(go.Scatter(\n",
    "    x=[0.00324],\n",
    "    y=[0.8015],\n",
    "    mode='markers',\n",
    "    marker=dict(\n",
    "        size=50,\n",
    "        color='rgba(0, 0, 0, 0)',\n",
    "        line=dict(color='black', width=4)\n",
    "    ),\n",
    "    name='Custom Point'\n",
    "))\n",
    "\n",
    "fig.add_trace(go.Scatter(\n",
    "    x=[0.00324, 0.00324],\n",
    "    y=[-0.1, 0.8015],\n",
    "    mode='lines',\n",
    "    line=dict(color='black', width=2, dash='dash'),\n",
    "    showlegend=False\n",
    "))\n",
    "\n",
    "fig.add_trace(go.Scatter(\n",
    "    x=[-0.002, 0.00324],\n",
    "    y=[0.8015, 0.8015],\n",
    "    mode='lines',\n",
    "    line=dict(color='black', width=2, dash='dash'),\n",
    "    showlegend=False\n",
    "))\n",
    "\n",
    "# Update overall layout\n",
    "fig.update_layout(\n",
    "    font=dict(\n",
    "        family=font_family,\n",
    "        size=font_size,\n",
    "        color=font_color\n",
    "    ),\n",
    "    width=1600,\n",
    "    height=1600,\n",
    "    showlegend=False,\n",
    "    xaxis_title=\"Threshold (g)\",\n",
    "    yaxis_title=\"F-beta Score\"\n",
    ")\n",
    "\n",
    "fig.update_xaxes(\n",
    "    range=[-0.002, 0.018],\n",
    "    tickfont=dict(family=font_family, size=font_size, color=font_color)\n",
    ")\n",
    "\n",
    "fig.update_yaxes(\n",
    "    range=[-0.1, 1.2],\n",
    "    tickfont=dict(family=font_family, size=font_size, color=font_color)\n",
    ")\n",
    "\n",
    "fig.show()"
   ]
  },
  {
   "cell_type": "code",
   "execution_count": 16,
   "metadata": {},
   "outputs": [
    {
     "data": {
      "application/vnd.plotly.v1+json": {
       "config": {
        "plotlyServerURL": "https://plot.ly"
       },
       "data": [
        {
         "marker": {
          "color": [
           "hsl(0, 50.0%, 50%)",
           "hsl(0, 50.0%, 50%)",
           "hsl(0, 50.0%, 50%)",
           "hsl(0, 50.0%, 50%)",
           "hsl(0, 50.0%, 50%)",
           "hsl(0, 50.0%, 50%)",
           "hsl(0, 50.0%, 50%)",
           "hsl(0, 50.0%, 50%)",
           "hsl(0, 50.0%, 50%)",
           "hsl(0, 50.0%, 50%)",
           "hsl(0, 50.0%, 50%)",
           "hsl(0, 50.0%, 50%)",
           "hsl(0, 50.0%, 50%)",
           "hsl(0, 50.0%, 50%)",
           "hsl(0, 50.0%, 50%)",
           "hsl(0, 50.0%, 50%)",
           "hsl(0, 50.0%, 50%)",
           "hsl(0, 50.0%, 50%)",
           "hsl(0, 50.0%, 50%)",
           "hsl(0, 50.0%, 50%)",
           "hsl(0, 50.0%, 50%)",
           "hsl(0, 50.0%, 50%)",
           "hsl(0, 50.0%, 50%)",
           "hsl(0, 50.0%, 50%)",
           "hsl(0, 50.0%, 50%)",
           "hsl(0, 50.0%, 50%)",
           "hsl(0, 50.0%, 50%)",
           "hsl(0, 50.0%, 50%)",
           "hsl(0, 50.0%, 50%)",
           "hsl(0, 50.0%, 50%)",
           "hsl(0, 50.0%, 50%)",
           "hsl(0, 50.0%, 50%)",
           "hsl(0, 50.0%, 50%)",
           "hsl(0, 50.0%, 50%)",
           "hsl(0, 50.0%, 50%)",
           "hsl(0, 50.0%, 50%)",
           "hsl(0, 50.0%, 50%)",
           "hsl(0, 50.0%, 50%)",
           "hsl(0, 50.0%, 50%)",
           "hsl(0, 50.0%, 50%)",
           "hsl(0, 50.0%, 50%)",
           "hsl(0, 50.0%, 50%)",
           "hsl(0, 50.0%, 50%)",
           "hsl(0, 50.0%, 50%)",
           "hsl(0, 50.0%, 50%)"
          ],
          "size": [
           32.098765432098766,
           32.098765432098766,
           30.173941945490803,
           32.2340958423777,
           33.56807511737089,
           32.098765432098766,
           38.281094030744654,
           36.90851735015773,
           32.226078334159645,
           33.22522055007784,
           43.11224489795919,
           32.27832307436367,
           36.859527921704085,
           31.33648144080826,
           32.14762301918265,
           43.17064390043201,
           42.69871662181743,
           42.78338430173293,
           32.098765432098766,
           32.098765432098766,
           33.597166345985656,
           32.098765432098766,
           32.098765432098766,
           32.098765432098766,
           30.173941945490803,
           43.21106094808127,
           42.967688824861085,
           33.26660895909976,
           32.098765432098766,
           32.332390617201796,
           31.163404442489554,
           32.098765432098766,
           30.815876515986773,
           34.37567045698348,
           32.098765432098766,
           42.905907870274746,
           33.4899546338302,
           35.36114684800588,
           32.098765432098766,
           32.13049925852694,
           37.877144547426546,
           36.37803590285111,
           32.098765432098766,
           42.41651109728272,
           32.098765432098766
          ]
         },
         "mode": "markers",
         "name": "R_PRE",
         "type": "scatter",
         "x": [
          2.2605032223885653,
          2.3191249992291105,
          9.298272195069801,
          3.297107469873332,
          2.516622598463562,
          9.424409334389424,
          2.4900558082512445,
          3.1825473516181555,
          6.067390694328477,
          7.863362746493134,
          3.7331562540841023,
          8.921963181015897,
          3.2312171911329166,
          9.7375748929326,
          8.493103503757979,
          4.9695209128050095,
          4.333798106229627,
          6.989477111626149,
          5.3544097952912235,
          6.657362698813434,
          7.335867033950948,
          4.5618651625410696,
          3.8911541615373757,
          2.0464390084477975,
          9.952960965059068,
          4.877215634419471,
          5.624257159977952,
          5.201146338607229,
          4.158400518803275,
          2.8556759594631247,
          7.155841908612459,
          6.339694673891274,
          8.183283704364854,
          5.678054066953499,
          4.759156511089139,
          3.5970285444387793,
          7.5754790176964315,
          3.632874792332962,
          6.722460361985995,
          5.1349261501626895,
          5.901311244236837,
          4.073504911151642,
          2.0158357588230587,
          4.47059761295514,
          9.993582035313885
         ],
         "y": [
          0.8024691358024691,
          0.8024691358024691,
          0.7543485486372701,
          0.8058523960594424,
          0.8392018779342723,
          0.8024691358024691,
          0.9570273507686164,
          0.9227129337539433,
          0.8056519583539911,
          0.8306305137519461,
          1.0778061224489797,
          0.8069580768590917,
          0.9214881980426022,
          0.7834120360202065,
          0.8036905754795663,
          1.0792660975108004,
          1.0674679155454359,
          1.0695846075433233,
          0.8024691358024691,
          0.8024691358024691,
          0.8399291586496415,
          0.8024691358024691,
          0.8024691358024691,
          0.8024691358024691,
          0.7543485486372701,
          1.0802765237020318,
          1.074192220621527,
          0.8316652239774941,
          0.8024691358024691,
          0.808309765430045,
          0.7790851110622389,
          0.8024691358024691,
          0.7703969128996693,
          0.859391761424587,
          0.8024691358024691,
          1.0726476967568686,
          0.837248865845755,
          0.884028671200147,
          0.8024691358024691,
          0.8032624814631735,
          0.9469286136856636,
          0.9094508975712777,
          0.8024691358024691,
          1.060412777432068,
          0.8024691358024691
         ]
        },
        {
         "marker": {
          "color": "rgba(255, 0, 0, 0)",
          "line": {
           "color": "red",
           "width": 4
          },
          "size": 50
         },
         "mode": "markers",
         "name": "Max R_PRE",
         "type": "scatter",
         "x": [
          4.877215634419471
         ],
         "y": [
          1.0802765237020318
         ]
        },
        {
         "line": {
          "color": "red",
          "dash": "dash",
          "width": 2
         },
         "mode": "lines",
         "showlegend": false,
         "type": "scatter",
         "x": [
          4.877215634419471,
          4.877215634419471
         ],
         "y": [
          -0.1,
          1.0802765237020318
         ]
        },
        {
         "line": {
          "color": "red",
          "dash": "dash",
          "width": 2
         },
         "mode": "lines",
         "showlegend": false,
         "type": "scatter",
         "x": [
          1,
          4.877215634419471
         ],
         "y": [
          1.0802765237020318,
          1.0802765237020318
         ]
        },
        {
         "marker": {
          "color": [
           "hsl(240, 50.0%, 50%)",
           "hsl(240, 50.0%, 50%)",
           "hsl(240, 50.0%, 50%)",
           "hsl(240, 50.0%, 50%)",
           "hsl(240, 50.0%, 50%)",
           "hsl(240, 50.0%, 50%)",
           "hsl(240, 50.0%, 50%)",
           "hsl(240, 50.0%, 50%)",
           "hsl(240, 50.0%, 50%)",
           "hsl(240, 50.0%, 50%)",
           "hsl(240, 50.0%, 50%)",
           "hsl(240, 50.0%, 50%)",
           "hsl(240, 50.0%, 50%)",
           "hsl(240, 50.0%, 50%)",
           "hsl(240, 50.0%, 50%)",
           "hsl(240, 50.0%, 50%)",
           "hsl(240, 50.0%, 50%)",
           "hsl(240, 50.0%, 50%)",
           "hsl(240, 50.0%, 50%)",
           "hsl(240, 50.0%, 50%)"
          ],
          "size": [
           40.91780942048601,
           41.58863855592862,
           40.779222925945476,
           40.70887328815583,
           40.8560707585349,
           40.75010022699356,
           41.05370920669887,
           40.78156651552987,
           28.6650304517087,
           41.20039379931568,
           41.057915727908174,
           40.82891232789641,
           41.517539294988026,
           41.153735370536594,
           41.07005982723265,
           41.22961336139977,
           40.962969676664265,
           41.15672717543749,
           41.06414295315741,
           41.518071286609455
          ]
         },
         "mode": "markers",
         "name": "R_ONB",
         "type": "scatter",
         "x": [
          4.612701349056424,
          4.6909812662370465,
          4.4753205549552995,
          4.526388008507677,
          4.706684303616493,
          4.625171484289713,
          4.470979382907074,
          4.358151871214557,
          4.737432285136505,
          4.305451468156802,
          4.207560432661513,
          4.265930331097981,
          3.7708526977547008,
          3.651519333271187,
          3.9212736669675037,
          3.585820534512167,
          3.886873176724558,
          3.708030860288245,
          4.013133131860945,
          3.7131224854056244
         ],
         "y": [
          1.0229452355121502,
          1.0397159638982154,
          1.019480573148637,
          1.0177218322038957,
          1.0214017689633725,
          1.018752505674839,
          1.0263427301674717,
          1.0195391628882466,
          0.7166257612927175,
          1.0300098449828918,
          1.0264478931977044,
          1.0207228081974102,
          1.0379384823747007,
          1.0288433842634148,
          1.0267514956808161,
          1.0307403340349943,
          1.0240742419166067,
          1.0289181793859372,
          1.0266035738289352,
          1.0379517821652364
         ]
        },
        {
         "marker": {
          "color": "rgba(0, 0, 255, 0)",
          "line": {
           "color": "blue",
           "width": 4
          },
          "size": 50
         },
         "mode": "markers",
         "name": "Max R_ONB",
         "type": "scatter",
         "x": [
          4.6909812662370465
         ],
         "y": [
          1.0397159638982154
         ]
        },
        {
         "line": {
          "color": "blue",
          "dash": "dash",
          "width": 2
         },
         "mode": "lines",
         "showlegend": false,
         "type": "scatter",
         "x": [
          4.6909812662370465,
          4.6909812662370465
         ],
         "y": [
          -0.1,
          1.0397159638982154
         ]
        },
        {
         "line": {
          "color": "blue",
          "dash": "dash",
          "width": 2
         },
         "mode": "lines",
         "showlegend": false,
         "type": "scatter",
         "x": [
          1,
          4.6909812662370465
         ],
         "y": [
          1.0397159638982154,
          1.0397159638982154
         ]
        },
        {
         "marker": {
          "color": "rgba(0, 0, 0, 0)",
          "line": {
           "color": "black",
           "width": 4
          },
          "size": 50
         },
         "mode": "markers",
         "name": "Custom Point",
         "type": "scatter",
         "x": [
          5
         ],
         "y": [
          0.8015
         ]
        },
        {
         "line": {
          "color": "black",
          "dash": "dash",
          "width": 2
         },
         "mode": "lines",
         "showlegend": false,
         "type": "scatter",
         "x": [
          5,
          5
         ],
         "y": [
          -0.1,
          0.8015
         ]
        },
        {
         "line": {
          "color": "black",
          "dash": "dash",
          "width": 2
         },
         "mode": "lines",
         "showlegend": false,
         "type": "scatter",
         "x": [
          1,
          5
         ],
         "y": [
          0.8015,
          0.8015
         ]
        }
       ],
       "layout": {
        "font": {
         "color": "black",
         "family": "Times New Roman",
         "size": 36
        },
        "height": 1600,
        "showlegend": false,
        "template": {
         "data": {
          "bar": [
           {
            "error_x": {
             "color": "#2a3f5f"
            },
            "error_y": {
             "color": "#2a3f5f"
            },
            "marker": {
             "line": {
              "color": "#E5ECF6",
              "width": 0.5
             },
             "pattern": {
              "fillmode": "overlay",
              "size": 10,
              "solidity": 0.2
             }
            },
            "type": "bar"
           }
          ],
          "barpolar": [
           {
            "marker": {
             "line": {
              "color": "#E5ECF6",
              "width": 0.5
             },
             "pattern": {
              "fillmode": "overlay",
              "size": 10,
              "solidity": 0.2
             }
            },
            "type": "barpolar"
           }
          ],
          "carpet": [
           {
            "aaxis": {
             "endlinecolor": "#2a3f5f",
             "gridcolor": "white",
             "linecolor": "white",
             "minorgridcolor": "white",
             "startlinecolor": "#2a3f5f"
            },
            "baxis": {
             "endlinecolor": "#2a3f5f",
             "gridcolor": "white",
             "linecolor": "white",
             "minorgridcolor": "white",
             "startlinecolor": "#2a3f5f"
            },
            "type": "carpet"
           }
          ],
          "choropleth": [
           {
            "colorbar": {
             "outlinewidth": 0,
             "ticks": ""
            },
            "type": "choropleth"
           }
          ],
          "contour": [
           {
            "colorbar": {
             "outlinewidth": 0,
             "ticks": ""
            },
            "colorscale": [
             [
              0,
              "#0d0887"
             ],
             [
              0.1111111111111111,
              "#46039f"
             ],
             [
              0.2222222222222222,
              "#7201a8"
             ],
             [
              0.3333333333333333,
              "#9c179e"
             ],
             [
              0.4444444444444444,
              "#bd3786"
             ],
             [
              0.5555555555555556,
              "#d8576b"
             ],
             [
              0.6666666666666666,
              "#ed7953"
             ],
             [
              0.7777777777777778,
              "#fb9f3a"
             ],
             [
              0.8888888888888888,
              "#fdca26"
             ],
             [
              1,
              "#f0f921"
             ]
            ],
            "type": "contour"
           }
          ],
          "contourcarpet": [
           {
            "colorbar": {
             "outlinewidth": 0,
             "ticks": ""
            },
            "type": "contourcarpet"
           }
          ],
          "heatmap": [
           {
            "colorbar": {
             "outlinewidth": 0,
             "ticks": ""
            },
            "colorscale": [
             [
              0,
              "#0d0887"
             ],
             [
              0.1111111111111111,
              "#46039f"
             ],
             [
              0.2222222222222222,
              "#7201a8"
             ],
             [
              0.3333333333333333,
              "#9c179e"
             ],
             [
              0.4444444444444444,
              "#bd3786"
             ],
             [
              0.5555555555555556,
              "#d8576b"
             ],
             [
              0.6666666666666666,
              "#ed7953"
             ],
             [
              0.7777777777777778,
              "#fb9f3a"
             ],
             [
              0.8888888888888888,
              "#fdca26"
             ],
             [
              1,
              "#f0f921"
             ]
            ],
            "type": "heatmap"
           }
          ],
          "heatmapgl": [
           {
            "colorbar": {
             "outlinewidth": 0,
             "ticks": ""
            },
            "colorscale": [
             [
              0,
              "#0d0887"
             ],
             [
              0.1111111111111111,
              "#46039f"
             ],
             [
              0.2222222222222222,
              "#7201a8"
             ],
             [
              0.3333333333333333,
              "#9c179e"
             ],
             [
              0.4444444444444444,
              "#bd3786"
             ],
             [
              0.5555555555555556,
              "#d8576b"
             ],
             [
              0.6666666666666666,
              "#ed7953"
             ],
             [
              0.7777777777777778,
              "#fb9f3a"
             ],
             [
              0.8888888888888888,
              "#fdca26"
             ],
             [
              1,
              "#f0f921"
             ]
            ],
            "type": "heatmapgl"
           }
          ],
          "histogram": [
           {
            "marker": {
             "pattern": {
              "fillmode": "overlay",
              "size": 10,
              "solidity": 0.2
             }
            },
            "type": "histogram"
           }
          ],
          "histogram2d": [
           {
            "colorbar": {
             "outlinewidth": 0,
             "ticks": ""
            },
            "colorscale": [
             [
              0,
              "#0d0887"
             ],
             [
              0.1111111111111111,
              "#46039f"
             ],
             [
              0.2222222222222222,
              "#7201a8"
             ],
             [
              0.3333333333333333,
              "#9c179e"
             ],
             [
              0.4444444444444444,
              "#bd3786"
             ],
             [
              0.5555555555555556,
              "#d8576b"
             ],
             [
              0.6666666666666666,
              "#ed7953"
             ],
             [
              0.7777777777777778,
              "#fb9f3a"
             ],
             [
              0.8888888888888888,
              "#fdca26"
             ],
             [
              1,
              "#f0f921"
             ]
            ],
            "type": "histogram2d"
           }
          ],
          "histogram2dcontour": [
           {
            "colorbar": {
             "outlinewidth": 0,
             "ticks": ""
            },
            "colorscale": [
             [
              0,
              "#0d0887"
             ],
             [
              0.1111111111111111,
              "#46039f"
             ],
             [
              0.2222222222222222,
              "#7201a8"
             ],
             [
              0.3333333333333333,
              "#9c179e"
             ],
             [
              0.4444444444444444,
              "#bd3786"
             ],
             [
              0.5555555555555556,
              "#d8576b"
             ],
             [
              0.6666666666666666,
              "#ed7953"
             ],
             [
              0.7777777777777778,
              "#fb9f3a"
             ],
             [
              0.8888888888888888,
              "#fdca26"
             ],
             [
              1,
              "#f0f921"
             ]
            ],
            "type": "histogram2dcontour"
           }
          ],
          "mesh3d": [
           {
            "colorbar": {
             "outlinewidth": 0,
             "ticks": ""
            },
            "type": "mesh3d"
           }
          ],
          "parcoords": [
           {
            "line": {
             "colorbar": {
              "outlinewidth": 0,
              "ticks": ""
             }
            },
            "type": "parcoords"
           }
          ],
          "pie": [
           {
            "automargin": true,
            "type": "pie"
           }
          ],
          "scatter": [
           {
            "fillpattern": {
             "fillmode": "overlay",
             "size": 10,
             "solidity": 0.2
            },
            "type": "scatter"
           }
          ],
          "scatter3d": [
           {
            "line": {
             "colorbar": {
              "outlinewidth": 0,
              "ticks": ""
             }
            },
            "marker": {
             "colorbar": {
              "outlinewidth": 0,
              "ticks": ""
             }
            },
            "type": "scatter3d"
           }
          ],
          "scattercarpet": [
           {
            "marker": {
             "colorbar": {
              "outlinewidth": 0,
              "ticks": ""
             }
            },
            "type": "scattercarpet"
           }
          ],
          "scattergeo": [
           {
            "marker": {
             "colorbar": {
              "outlinewidth": 0,
              "ticks": ""
             }
            },
            "type": "scattergeo"
           }
          ],
          "scattergl": [
           {
            "marker": {
             "colorbar": {
              "outlinewidth": 0,
              "ticks": ""
             }
            },
            "type": "scattergl"
           }
          ],
          "scattermapbox": [
           {
            "marker": {
             "colorbar": {
              "outlinewidth": 0,
              "ticks": ""
             }
            },
            "type": "scattermapbox"
           }
          ],
          "scatterpolar": [
           {
            "marker": {
             "colorbar": {
              "outlinewidth": 0,
              "ticks": ""
             }
            },
            "type": "scatterpolar"
           }
          ],
          "scatterpolargl": [
           {
            "marker": {
             "colorbar": {
              "outlinewidth": 0,
              "ticks": ""
             }
            },
            "type": "scatterpolargl"
           }
          ],
          "scatterternary": [
           {
            "marker": {
             "colorbar": {
              "outlinewidth": 0,
              "ticks": ""
             }
            },
            "type": "scatterternary"
           }
          ],
          "surface": [
           {
            "colorbar": {
             "outlinewidth": 0,
             "ticks": ""
            },
            "colorscale": [
             [
              0,
              "#0d0887"
             ],
             [
              0.1111111111111111,
              "#46039f"
             ],
             [
              0.2222222222222222,
              "#7201a8"
             ],
             [
              0.3333333333333333,
              "#9c179e"
             ],
             [
              0.4444444444444444,
              "#bd3786"
             ],
             [
              0.5555555555555556,
              "#d8576b"
             ],
             [
              0.6666666666666666,
              "#ed7953"
             ],
             [
              0.7777777777777778,
              "#fb9f3a"
             ],
             [
              0.8888888888888888,
              "#fdca26"
             ],
             [
              1,
              "#f0f921"
             ]
            ],
            "type": "surface"
           }
          ],
          "table": [
           {
            "cells": {
             "fill": {
              "color": "#EBF0F8"
             },
             "line": {
              "color": "white"
             }
            },
            "header": {
             "fill": {
              "color": "#C8D4E3"
             },
             "line": {
              "color": "white"
             }
            },
            "type": "table"
           }
          ]
         },
         "layout": {
          "annotationdefaults": {
           "arrowcolor": "#2a3f5f",
           "arrowhead": 0,
           "arrowwidth": 1
          },
          "autotypenumbers": "strict",
          "coloraxis": {
           "colorbar": {
            "outlinewidth": 0,
            "ticks": ""
           }
          },
          "colorscale": {
           "diverging": [
            [
             0,
             "#8e0152"
            ],
            [
             0.1,
             "#c51b7d"
            ],
            [
             0.2,
             "#de77ae"
            ],
            [
             0.3,
             "#f1b6da"
            ],
            [
             0.4,
             "#fde0ef"
            ],
            [
             0.5,
             "#f7f7f7"
            ],
            [
             0.6,
             "#e6f5d0"
            ],
            [
             0.7,
             "#b8e186"
            ],
            [
             0.8,
             "#7fbc41"
            ],
            [
             0.9,
             "#4d9221"
            ],
            [
             1,
             "#276419"
            ]
           ],
           "sequential": [
            [
             0,
             "#0d0887"
            ],
            [
             0.1111111111111111,
             "#46039f"
            ],
            [
             0.2222222222222222,
             "#7201a8"
            ],
            [
             0.3333333333333333,
             "#9c179e"
            ],
            [
             0.4444444444444444,
             "#bd3786"
            ],
            [
             0.5555555555555556,
             "#d8576b"
            ],
            [
             0.6666666666666666,
             "#ed7953"
            ],
            [
             0.7777777777777778,
             "#fb9f3a"
            ],
            [
             0.8888888888888888,
             "#fdca26"
            ],
            [
             1,
             "#f0f921"
            ]
           ],
           "sequentialminus": [
            [
             0,
             "#0d0887"
            ],
            [
             0.1111111111111111,
             "#46039f"
            ],
            [
             0.2222222222222222,
             "#7201a8"
            ],
            [
             0.3333333333333333,
             "#9c179e"
            ],
            [
             0.4444444444444444,
             "#bd3786"
            ],
            [
             0.5555555555555556,
             "#d8576b"
            ],
            [
             0.6666666666666666,
             "#ed7953"
            ],
            [
             0.7777777777777778,
             "#fb9f3a"
            ],
            [
             0.8888888888888888,
             "#fdca26"
            ],
            [
             1,
             "#f0f921"
            ]
           ]
          },
          "colorway": [
           "#636efa",
           "#EF553B",
           "#00cc96",
           "#ab63fa",
           "#FFA15A",
           "#19d3f3",
           "#FF6692",
           "#B6E880",
           "#FF97FF",
           "#FECB52"
          ],
          "font": {
           "color": "#2a3f5f"
          },
          "geo": {
           "bgcolor": "white",
           "lakecolor": "white",
           "landcolor": "#E5ECF6",
           "showlakes": true,
           "showland": true,
           "subunitcolor": "white"
          },
          "hoverlabel": {
           "align": "left"
          },
          "hovermode": "closest",
          "mapbox": {
           "style": "light"
          },
          "paper_bgcolor": "white",
          "plot_bgcolor": "#E5ECF6",
          "polar": {
           "angularaxis": {
            "gridcolor": "white",
            "linecolor": "white",
            "ticks": ""
           },
           "bgcolor": "#E5ECF6",
           "radialaxis": {
            "gridcolor": "white",
            "linecolor": "white",
            "ticks": ""
           }
          },
          "scene": {
           "xaxis": {
            "backgroundcolor": "#E5ECF6",
            "gridcolor": "white",
            "gridwidth": 2,
            "linecolor": "white",
            "showbackground": true,
            "ticks": "",
            "zerolinecolor": "white"
           },
           "yaxis": {
            "backgroundcolor": "#E5ECF6",
            "gridcolor": "white",
            "gridwidth": 2,
            "linecolor": "white",
            "showbackground": true,
            "ticks": "",
            "zerolinecolor": "white"
           },
           "zaxis": {
            "backgroundcolor": "#E5ECF6",
            "gridcolor": "white",
            "gridwidth": 2,
            "linecolor": "white",
            "showbackground": true,
            "ticks": "",
            "zerolinecolor": "white"
           }
          },
          "shapedefaults": {
           "line": {
            "color": "#2a3f5f"
           }
          },
          "ternary": {
           "aaxis": {
            "gridcolor": "white",
            "linecolor": "white",
            "ticks": ""
           },
           "baxis": {
            "gridcolor": "white",
            "linecolor": "white",
            "ticks": ""
           },
           "bgcolor": "#E5ECF6",
           "caxis": {
            "gridcolor": "white",
            "linecolor": "white",
            "ticks": ""
           }
          },
          "title": {
           "x": 0.05
          },
          "xaxis": {
           "automargin": true,
           "gridcolor": "white",
           "linecolor": "white",
           "ticks": "",
           "title": {
            "standoff": 15
           },
           "zerolinecolor": "white",
           "zerolinewidth": 2
          },
          "yaxis": {
           "automargin": true,
           "gridcolor": "white",
           "linecolor": "white",
           "ticks": "",
           "title": {
            "standoff": 15
           },
           "zerolinecolor": "white",
           "zerolinewidth": 2
          }
         }
        },
        "width": 1600,
        "xaxis": {
         "range": [
          1,
          11
         ],
         "tickfont": {
          "color": "black",
          "family": "Times New Roman",
          "size": 36
         },
         "title": {
          "text": "Duration (s)"
         }
        },
        "yaxis": {
         "range": [
          -0.1,
          1.2
         ],
         "tickfont": {
          "color": "black",
          "family": "Times New Roman",
          "size": 36
         },
         "title": {
          "text": "F-beta Score"
         }
        }
       }
      }
     },
     "metadata": {},
     "output_type": "display_data"
    }
   ],
   "source": [
    "import plotly.graph_objects as go\n",
    "import numpy as np\n",
    "\n",
    "# Function to map a value in [1, 65] to a saturation percentage between 30% and 100%\n",
    "def value_to_saturation(val, min_val=1, max_val=65, min_sat=0.5, max_sat=1.0, gamma=2):\n",
    "    norm = (val - min_val) / (max_val - min_val)\n",
    "    sat = min_sat + (norm ** gamma) * (max_sat - min_sat)\n",
    "    return round(sat * 100, 1)\n",
    "\n",
    "# For R_PRE (red)\n",
    "colors_red = [f'hsl(0, {value_to_saturation(val)}%, 50%)' for val in R_PRE[:, 2]]\n",
    "max_idx_pre = np.argmax(R_PRE[:, 2])\n",
    "\n",
    "# For R_ONB (blue)\n",
    "colors_blue = [f'hsl(240, {value_to_saturation(val)}%, 50%)' for val in R_ONB[:, 2]]\n",
    "max_idx_onb = np.argmax(R_ONB[:, 2])\n",
    "\n",
    "# Font customization variables\n",
    "font_family = \"Times New Roman\"\n",
    "font_size = 36\n",
    "font_color = \"black\"\n",
    "\n",
    "# Create figure object\n",
    "fig = go.Figure()\n",
    "\n",
    "# Add first dataset R_PRE (red)\n",
    "fig.add_trace(go.Scatter(\n",
    "    x=R_PRE[:, 1],\n",
    "    y=R_PRE[:, 2],\n",
    "    mode='markers',\n",
    "    marker=dict(\n",
    "        size=R_PRE[:, 2] * 40,\n",
    "        color=colors_red\n",
    "    ),\n",
    "    name='R_PRE'\n",
    "))\n",
    "\n",
    "# Highlight maximum value in R_PRE with a red hollow circle and vertical/horizontal lines\n",
    "fig.add_trace(go.Scatter(\n",
    "    x=[R_PRE[max_idx_pre, 1]],\n",
    "    y=[R_PRE[max_idx_pre, 2]],\n",
    "    mode='markers',\n",
    "    marker=dict(\n",
    "        size=50,\n",
    "        color='rgba(255, 0, 0, 0)',\n",
    "        line=dict(color='red', width=4)\n",
    "    ),\n",
    "    name='Max R_PRE'\n",
    "))\n",
    "\n",
    "fig.add_trace(go.Scatter(\n",
    "    x=[R_PRE[max_idx_pre, 1], R_PRE[max_idx_pre, 1]],\n",
    "    y=[-0.1, R_PRE[max_idx_pre, 2]],\n",
    "    mode='lines',\n",
    "    line=dict(color='red', width=2, dash='dash'),\n",
    "    showlegend=False\n",
    "))\n",
    "\n",
    "fig.add_trace(go.Scatter(\n",
    "    x=[1, R_PRE[max_idx_pre, 1]],\n",
    "    y=[R_PRE[max_idx_pre, 2], R_PRE[max_idx_pre, 2]],\n",
    "    mode='lines',\n",
    "    line=dict(color='red', width=2, dash='dash'),\n",
    "    showlegend=False\n",
    "))\n",
    "\n",
    "# Add second dataset R_ONB (blue)\n",
    "fig.add_trace(go.Scatter(\n",
    "    x=R_ONB[:, 1],\n",
    "    y=R_ONB[:, 2],\n",
    "    mode='markers',\n",
    "    marker=dict(\n",
    "        size=R_ONB[:, 2] * 40,\n",
    "        color=colors_blue\n",
    "    ),\n",
    "    name='R_ONB'\n",
    "))\n",
    "\n",
    "# Highlight maximum value in R_ONB with a blue hollow circle and vertical/horizontal lines\n",
    "fig.add_trace(go.Scatter(\n",
    "    x=[R_ONB[max_idx_onb, 1]],\n",
    "    y=[R_ONB[max_idx_onb, 2]],\n",
    "    mode='markers',\n",
    "    marker=dict(\n",
    "        size=50,\n",
    "        color='rgba(0, 0, 255, 0)',\n",
    "        line=dict(color='blue', width=4)\n",
    "    ),\n",
    "    name='Max R_ONB'\n",
    "))\n",
    "\n",
    "fig.add_trace(go.Scatter(\n",
    "    x=[R_ONB[max_idx_onb, 1], R_ONB[max_idx_onb, 1]],\n",
    "    y=[-0.1, R_ONB[max_idx_onb, 2]],\n",
    "    mode='lines',\n",
    "    line=dict(color='blue', width=2, dash='dash'),\n",
    "    showlegend=False\n",
    "))\n",
    "\n",
    "fig.add_trace(go.Scatter(\n",
    "    x=[1, R_ONB[max_idx_onb, 1]],\n",
    "    y=[R_ONB[max_idx_onb, 2], R_ONB[max_idx_onb, 2]],\n",
    "    mode='lines',\n",
    "    line=dict(color='blue', width=2, dash='dash'),\n",
    "    showlegend=False\n",
    "))\n",
    "\n",
    "# Add black hollow circle at (5, 0.8015) with vertical and horizontal lines\n",
    "fig.add_trace(go.Scatter(\n",
    "    x=[5],\n",
    "    y=[0.8015],\n",
    "    mode='markers',\n",
    "    marker=dict(\n",
    "        size=50,\n",
    "        color='rgba(0, 0, 0, 0)',\n",
    "        line=dict(color='black', width=4)\n",
    "    ),\n",
    "    name='Custom Point'\n",
    "))\n",
    "\n",
    "fig.add_trace(go.Scatter(\n",
    "    x=[5, 5],\n",
    "    y=[-0.1, 0.8015],\n",
    "    mode='lines',\n",
    "    line=dict(color='black', width=2, dash='dash'),\n",
    "    showlegend=False\n",
    "))\n",
    "\n",
    "fig.add_trace(go.Scatter(\n",
    "    x=[1, 5],\n",
    "    y=[0.8015, 0.8015],\n",
    "    mode='lines',\n",
    "    line=dict(color='black', width=2, dash='dash'),\n",
    "    showlegend=False\n",
    "))\n",
    "\n",
    "# Update overall layout\n",
    "fig.update_layout(\n",
    "    font=dict(\n",
    "        family=font_family,\n",
    "        size=font_size,\n",
    "        color=font_color\n",
    "    ),\n",
    "    width=1600,\n",
    "    height=1600,\n",
    "    showlegend=False,\n",
    "    xaxis_title=\"Duration (s)\",\n",
    "    yaxis_title=\"F-beta Score\"\n",
    ")\n",
    "\n",
    "fig.update_xaxes(\n",
    "    range=[1, 11],\n",
    "    tickfont=dict(family=font_family, size=font_size, color=font_color)\n",
    ")\n",
    "\n",
    "fig.update_yaxes(\n",
    "    range=[-0.1, 1.2],\n",
    "    tickfont=dict(family=font_family, size=font_size, color=font_color)\n",
    ")\n",
    "\n",
    "fig.show()\n"
   ]
  },
  {
   "cell_type": "code",
   "execution_count": null,
   "metadata": {},
   "outputs": [],
   "source": []
  }
 ],
 "metadata": {
  "kernelspec": {
   "display_name": "base",
   "language": "python",
   "name": "python3"
  },
  "language_info": {
   "codemirror_mode": {
    "name": "ipython",
    "version": 3
   },
   "file_extension": ".py",
   "mimetype": "text/x-python",
   "name": "python",
   "nbconvert_exporter": "python",
   "pygments_lexer": "ipython3",
   "version": "3.11.5"
  }
 },
 "nbformat": 4,
 "nbformat_minor": 2
}
