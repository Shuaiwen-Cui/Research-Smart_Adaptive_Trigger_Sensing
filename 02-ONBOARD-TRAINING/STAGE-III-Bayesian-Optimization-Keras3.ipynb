{
 "cells": [
  {
   "cell_type": "markdown",
   "metadata": {},
   "source": [
    "# STAGE III - REAL WORLD OPTIMIZATION\n",
    "\n",
    "![FIGURE](STAGE-III.png)"
   ]
  },
  {
   "cell_type": "markdown",
   "metadata": {},
   "source": [
    "## DEPENDENCIES"
   ]
  },
  {
   "cell_type": "code",
   "execution_count": 1,
   "metadata": {},
   "outputs": [],
   "source": [
    "# COMMON\n",
    "import numpy as np\n",
    "import sys\n",
    "import os\n",
    "import random\n",
    "import time\n",
    "import datetime\n",
    "import pandas as pd\n",
    "import matplotlib.pyplot as plt\n",
    "\n",
    "# Triggering Mechanism\n",
    "import triggering as trig\n",
    "\n",
    "# Signal Processing\n",
    "from scipy import signal  # for signal processing\n",
    "from scipy.signal import hilbert  # for signal processing\n",
    "import prenn # for deep learning\n",
    "\n",
    "# AI\n",
    "import keras\n",
    "\n",
    "import tensorflow as tf # for deep learning\n",
    "from keras.models import Sequential\n",
    "from keras.layers import Conv1D, MaxPooling1D, Flatten, Dense, Dropout\n",
    "from keras.callbacks import TensorBoard # for visualization\n",
    "\n",
    "import onnxruntime as ort # for onnx runtime\n",
    "\n",
    "# Visualization\n",
    "# %matplotlib qt5\n",
    "import matplotlib.pyplot as plt\n",
    "from mpl_toolkits.mplot3d import Axes3D\n",
    "from matplotlib.animation import FuncAnimation"
   ]
  },
  {
   "cell_type": "markdown",
   "metadata": {},
   "source": [
    "## CLOSED-LOOP CONTROL COMPONENTS SETUP"
   ]
  },
  {
   "cell_type": "markdown",
   "metadata": {},
   "source": [
    "### ENVIRONMENT\n",
    "\n",
    "IN NATURE - THE SYNTHESIZED RESPONSE DATA - DIFFERENT FROM STAGE II"
   ]
  },
  {
   "cell_type": "code",
   "execution_count": 2,
   "metadata": {},
   "outputs": [
    {
     "name": "stdout",
     "output_type": "stream",
     "text": [
      "<class 'numpy.ndarray'>\n",
      "RESPONSE_AV Shape: (150, 6000)\n",
      "<class 'numpy.ndarray'>\n",
      "RESPONSE_EQ Shape: (50, 6000)\n",
      "<class 'numpy.ndarray'>\n",
      "RESPONSE_IP Shape: (50, 6000)\n",
      "<class 'numpy.ndarray'>\n",
      "RESPONSE_SW Shape: (50, 6000)\n",
      "Ratio of Non-Interested Data to Interested Data: 1.0\n",
      "Total Number of Samples: 300\n"
     ]
    }
   ],
   "source": [
    "# Corrected Paths\n",
    "AVPath = r'../01-PRE-DEPLOYMENT/DATA/VAL_RES/VAL_DATA_AV.npy' \n",
    "EQPath = r'../01-PRE-DEPLOYMENT/DATA/VAL_RES/VAL_DATA_EQ.npy'\n",
    "IPPath = r'../01-PRE-DEPLOYMENT/DATA/VAL_RES/VAL_DATA_IP.npy'\n",
    "SWPath = r'../01-PRE-DEPLOYMENT/DATA/VAL_RES/VAL_DATA_SW.npy'\n",
    "\n",
    "# Load Data\n",
    "RESPONSE_AV = np.load(AVPath)\n",
    "RESPONSE_EQ = np.load(EQPath)\n",
    "RESPONSE_IP = np.load(IPPath)\n",
    "RESPONSE_SW = np.load(SWPath)\n",
    "\n",
    "## only use part of the data\n",
    "raw_len_av = RESPONSE_AV.shape[0]\n",
    "raw_len_eq = RESPONSE_EQ.shape[0]\n",
    "raw_len_ip = RESPONSE_IP.shape[0]\n",
    "raw_len_sw = RESPONSE_SW.shape[0]\n",
    "\n",
    "# this is to simulate the imbalanced data - ensure the same ratio within STAGE III\n",
    "ratio_aw = 0.6\n",
    "ratio_eq = 1\n",
    "ratio_ip = 1\n",
    "ratio_sw = 1\n",
    "\n",
    "uselen_aw = int(raw_len_av * ratio_aw)\n",
    "uselen_eq = int(raw_len_eq * ratio_eq)  \n",
    "uselen_ip = int(raw_len_ip * ratio_ip)\n",
    "uselen_sw = int(raw_len_sw * ratio_sw)\n",
    "\n",
    "# randomly pick uselen_aw samples from RESPONSE_XX, no repeat\n",
    "idx_aw = random.sample(range(raw_len_av), uselen_aw)\n",
    "idx_eq = random.sample(range(raw_len_eq), uselen_eq)\n",
    "idx_ip = random.sample(range(raw_len_ip), uselen_ip)\n",
    "idx_sw = random.sample(range(raw_len_sw), uselen_sw)\n",
    "\n",
    "RESPONSE_AV = RESPONSE_AV[idx_aw]\n",
    "RESPONSE_EQ = RESPONSE_EQ[idx_eq]\n",
    "RESPONSE_IP = RESPONSE_IP[idx_ip]\n",
    "RESPONSE_SW = RESPONSE_SW[idx_sw]\n",
    "\n",
    "## Check Data Info\n",
    "print(type(RESPONSE_AV))\n",
    "print('RESPONSE_AV Shape:', RESPONSE_AV.shape)\n",
    "print(type(RESPONSE_EQ))\n",
    "print('RESPONSE_EQ Shape:', RESPONSE_EQ.shape)\n",
    "print(type(RESPONSE_IP))\n",
    "print('RESPONSE_IP Shape:', RESPONSE_IP.shape)\n",
    "print(type(RESPONSE_SW))\n",
    "print('RESPONSE_SW Shape:', RESPONSE_SW.shape)\n",
    "\n",
    "num_type = 4\n",
    "\n",
    "signal_length = RESPONSE_AV.shape[1]\n",
    "\n",
    "LenTS = signal_length\n",
    "\n",
    "# ratio of non-interested data to interested data\n",
    "ratio_ni = RESPONSE_AV.shape[0] / (RESPONSE_EQ.shape[0] + RESPONSE_IP.shape[0] + RESPONSE_SW.shape[0])\n",
    "\n",
    "print('Ratio of Non-Interested Data to Interested Data:', ratio_ni)\n",
    "\n",
    "## Stack Data\n",
    "RESPONSE = np.vstack((RESPONSE_AV, RESPONSE_EQ, RESPONSE_IP, RESPONSE_SW))\n",
    "\n",
    "## Total Number of Samples\n",
    "NumSample = RESPONSE.shape[0]\n",
    "print('Total Number of Samples:', NumSample) "
   ]
  },
  {
   "cell_type": "code",
   "execution_count": 3,
   "metadata": {},
   "outputs": [
    {
     "name": "stdout",
     "output_type": "stream",
     "text": [
      "Number of AV: 150\n",
      "Number of EQ: 50\n",
      "Number of IP: 50\n",
      "Number of SW: 50\n"
     ]
    }
   ],
   "source": [
    "NUM_AV = RESPONSE_AV.shape[0]\n",
    "NUM_EQ = RESPONSE_EQ.shape[0]\n",
    "NUM_IP = RESPONSE_IP.shape[0]\n",
    "NUM_SW = RESPONSE_SW.shape[0]\n",
    "\n",
    "#print\n",
    "print('Number of AV:', NUM_AV)\n",
    "print('Number of EQ:', NUM_EQ)\n",
    "print('Number of IP:', NUM_IP)\n",
    "print('Number of SW:', NUM_SW)"
   ]
  },
  {
   "cell_type": "markdown",
   "metadata": {},
   "source": [
    "### SYSTEM\n",
    "IN NATURE - THE TRIGGERING MECHANISM"
   ]
  },
  {
   "cell_type": "code",
   "execution_count": 4,
   "metadata": {},
   "outputs": [],
   "source": [
    "# embodied in the triggering.py"
   ]
  },
  {
   "cell_type": "code",
   "execution_count": 5,
   "metadata": {},
   "outputs": [
    {
     "name": "stdout",
     "output_type": "stream",
     "text": [
      "Maximum of AV: 0.0168420367172138\n",
      "Minimum of AV: 5.471121479784513e-07\n"
     ]
    }
   ],
   "source": [
    "# determine the search space by check the maximum and minimum of the data - ambient vibration\n",
    "max_noise = np.max(abs(RESPONSE_AV))\n",
    "min_noise = np.min(abs(RESPONSE_AV))\n",
    "print('Maximum of AV:', max_noise)\n",
    "print('Minimum of AV:', min_noise)\n",
    "\n",
    "# determine the lower and upper bound of the search space\n",
    "ub_factor = 2\n",
    "lb_factor = 0.01"
   ]
  },
  {
   "cell_type": "code",
   "execution_count": 6,
   "metadata": {},
   "outputs": [
    {
     "name": "stdout",
     "output_type": "stream",
     "text": [
      "Lower Bound of para_a: 8.421291914680889e-05\n",
      "Upper Bound of para_a: 0.01684258382936178\n",
      "Lower Bound of para_b: 2\n",
      "Upper Bound of para_b: 10\n"
     ]
    }
   ],
   "source": [
    "# configuration\n",
    "\n",
    "## para_a stands for the triggering threshold amplitude (continuous)\n",
    "para_a_lb = lb_factor*(max_noise + min_noise)/2\n",
    "para_a_ub = ub_factor*(max_noise + min_noise)/2\n",
    "\n",
    "print('Lower Bound of para_a:', para_a_lb)\n",
    "print('Upper Bound of para_a:', para_a_ub)\n",
    "\n",
    "## para_b stands for the triggering threshold duration (discrete integer)\n",
    "para_b_lb = 2\n",
    "para_b_ub = 10\n",
    "\n",
    "print('Lower Bound of para_b:', para_b_lb)\n",
    "print('Upper Bound of para_b:', para_b_ub)"
   ]
  },
  {
   "cell_type": "code",
   "execution_count": 7,
   "metadata": {},
   "outputs": [
    {
     "name": "stdout",
     "output_type": "stream",
     "text": [
      "0\n"
     ]
    }
   ],
   "source": [
    "# test\n",
    "test_data = RESPONSE_AV[0]\n",
    "\n",
    "para_a = 0.5\n",
    "para_b = 2\n",
    "\n",
    "trig_flg = trig.activation(test_data, para_a, para_b)\n",
    "print(trig_flg[0]) # the first element stands for the triggering flag, and the second element stands for the triggering time"
   ]
  },
  {
   "cell_type": "markdown",
   "metadata": {},
   "source": [
    "### ESTIMATOR\n",
    "IN NATURE - TRIGGERING MECHANISM & GROUND TRUTH"
   ]
  },
  {
   "cell_type": "code",
   "execution_count": 8,
   "metadata": {},
   "outputs": [],
   "source": [
    "beta = 1.75 # beta value to balance the precision and recall"
   ]
  },
  {
   "cell_type": "code",
   "execution_count": 9,
   "metadata": {},
   "outputs": [],
   "source": [
    "# USED PARAMETER of the Dataset\n",
    "\n",
    "# nn_in_len = 128 # nn input length can be automatically calculated from the model input size\n",
    "dt = 0.01  # time step, change according to the dataset\n",
    "nperseg = 128 # number of points for each segment in spectrogram"
   ]
  },
  {
   "cell_type": "markdown",
   "metadata": {},
   "source": [
    "#### Classifier - CNN Model"
   ]
  },
  {
   "cell_type": "code",
   "execution_count": 10,
   "metadata": {},
   "outputs": [
    {
     "data": {
      "text/html": [
       "<pre style=\"white-space:pre;overflow-x:auto;line-height:normal;font-family:Menlo,'DejaVu Sans Mono',consolas,'Courier New',monospace\"><span style=\"font-weight: bold\">Model: \"functional\"</span>\n",
       "</pre>\n"
      ],
      "text/plain": [
       "\u001b[1mModel: \"functional\"\u001b[0m\n"
      ]
     },
     "metadata": {},
     "output_type": "display_data"
    },
    {
     "data": {
      "text/html": [
       "<pre style=\"white-space:pre;overflow-x:auto;line-height:normal;font-family:Menlo,'DejaVu Sans Mono',consolas,'Courier New',monospace\">┏━━━━━━━━━━━━━━━━━━━━━━━━━━━━━━━━━┳━━━━━━━━━━━━━━━━━━━━━━━━┳━━━━━━━━━━━━━━━┓\n",
       "┃<span style=\"font-weight: bold\"> Layer (type)                    </span>┃<span style=\"font-weight: bold\"> Output Shape           </span>┃<span style=\"font-weight: bold\">       Param # </span>┃\n",
       "┡━━━━━━━━━━━━━━━━━━━━━━━━━━━━━━━━━╇━━━━━━━━━━━━━━━━━━━━━━━━╇━━━━━━━━━━━━━━━┩\n",
       "│ input_layer (<span style=\"color: #0087ff; text-decoration-color: #0087ff\">InputLayer</span>)        │ (<span style=\"color: #00d7ff; text-decoration-color: #00d7ff\">None</span>, <span style=\"color: #00af00; text-decoration-color: #00af00\">128</span>, <span style=\"color: #00af00; text-decoration-color: #00af00\">1</span>)         │             <span style=\"color: #00af00; text-decoration-color: #00af00\">0</span> │\n",
       "├─────────────────────────────────┼────────────────────────┼───────────────┤\n",
       "│ conv1d (<span style=\"color: #0087ff; text-decoration-color: #0087ff\">Conv1D</span>)                 │ (<span style=\"color: #00d7ff; text-decoration-color: #00d7ff\">None</span>, <span style=\"color: #00af00; text-decoration-color: #00af00\">128</span>, <span style=\"color: #00af00; text-decoration-color: #00af00\">4</span>)         │            <span style=\"color: #00af00; text-decoration-color: #00af00\">16</span> │\n",
       "├─────────────────────────────────┼────────────────────────┼───────────────┤\n",
       "│ batch_normalization             │ (<span style=\"color: #00d7ff; text-decoration-color: #00d7ff\">None</span>, <span style=\"color: #00af00; text-decoration-color: #00af00\">128</span>, <span style=\"color: #00af00; text-decoration-color: #00af00\">4</span>)         │            <span style=\"color: #00af00; text-decoration-color: #00af00\">16</span> │\n",
       "│ (<span style=\"color: #0087ff; text-decoration-color: #0087ff\">BatchNormalization</span>)            │                        │               │\n",
       "├─────────────────────────────────┼────────────────────────┼───────────────┤\n",
       "│ re_lu (<span style=\"color: #0087ff; text-decoration-color: #0087ff\">ReLU</span>)                    │ (<span style=\"color: #00d7ff; text-decoration-color: #00d7ff\">None</span>, <span style=\"color: #00af00; text-decoration-color: #00af00\">128</span>, <span style=\"color: #00af00; text-decoration-color: #00af00\">4</span>)         │             <span style=\"color: #00af00; text-decoration-color: #00af00\">0</span> │\n",
       "├─────────────────────────────────┼────────────────────────┼───────────────┤\n",
       "│ global_average_pooling1d        │ (<span style=\"color: #00d7ff; text-decoration-color: #00d7ff\">None</span>, <span style=\"color: #00af00; text-decoration-color: #00af00\">4</span>)              │             <span style=\"color: #00af00; text-decoration-color: #00af00\">0</span> │\n",
       "│ (<span style=\"color: #0087ff; text-decoration-color: #0087ff\">GlobalAveragePooling1D</span>)        │                        │               │\n",
       "├─────────────────────────────────┼────────────────────────┼───────────────┤\n",
       "│ dense (<span style=\"color: #0087ff; text-decoration-color: #0087ff\">Dense</span>)                   │ (<span style=\"color: #00d7ff; text-decoration-color: #00d7ff\">None</span>, <span style=\"color: #00af00; text-decoration-color: #00af00\">4</span>)              │            <span style=\"color: #00af00; text-decoration-color: #00af00\">20</span> │\n",
       "└─────────────────────────────────┴────────────────────────┴───────────────┘\n",
       "</pre>\n"
      ],
      "text/plain": [
       "┏━━━━━━━━━━━━━━━━━━━━━━━━━━━━━━━━━┳━━━━━━━━━━━━━━━━━━━━━━━━┳━━━━━━━━━━━━━━━┓\n",
       "┃\u001b[1m \u001b[0m\u001b[1mLayer (type)                   \u001b[0m\u001b[1m \u001b[0m┃\u001b[1m \u001b[0m\u001b[1mOutput Shape          \u001b[0m\u001b[1m \u001b[0m┃\u001b[1m \u001b[0m\u001b[1m      Param #\u001b[0m\u001b[1m \u001b[0m┃\n",
       "┡━━━━━━━━━━━━━━━━━━━━━━━━━━━━━━━━━╇━━━━━━━━━━━━━━━━━━━━━━━━╇━━━━━━━━━━━━━━━┩\n",
       "│ input_layer (\u001b[38;5;33mInputLayer\u001b[0m)        │ (\u001b[38;5;45mNone\u001b[0m, \u001b[38;5;34m128\u001b[0m, \u001b[38;5;34m1\u001b[0m)         │             \u001b[38;5;34m0\u001b[0m │\n",
       "├─────────────────────────────────┼────────────────────────┼───────────────┤\n",
       "│ conv1d (\u001b[38;5;33mConv1D\u001b[0m)                 │ (\u001b[38;5;45mNone\u001b[0m, \u001b[38;5;34m128\u001b[0m, \u001b[38;5;34m4\u001b[0m)         │            \u001b[38;5;34m16\u001b[0m │\n",
       "├─────────────────────────────────┼────────────────────────┼───────────────┤\n",
       "│ batch_normalization             │ (\u001b[38;5;45mNone\u001b[0m, \u001b[38;5;34m128\u001b[0m, \u001b[38;5;34m4\u001b[0m)         │            \u001b[38;5;34m16\u001b[0m │\n",
       "│ (\u001b[38;5;33mBatchNormalization\u001b[0m)            │                        │               │\n",
       "├─────────────────────────────────┼────────────────────────┼───────────────┤\n",
       "│ re_lu (\u001b[38;5;33mReLU\u001b[0m)                    │ (\u001b[38;5;45mNone\u001b[0m, \u001b[38;5;34m128\u001b[0m, \u001b[38;5;34m4\u001b[0m)         │             \u001b[38;5;34m0\u001b[0m │\n",
       "├─────────────────────────────────┼────────────────────────┼───────────────┤\n",
       "│ global_average_pooling1d        │ (\u001b[38;5;45mNone\u001b[0m, \u001b[38;5;34m4\u001b[0m)              │             \u001b[38;5;34m0\u001b[0m │\n",
       "│ (\u001b[38;5;33mGlobalAveragePooling1D\u001b[0m)        │                        │               │\n",
       "├─────────────────────────────────┼────────────────────────┼───────────────┤\n",
       "│ dense (\u001b[38;5;33mDense\u001b[0m)                   │ (\u001b[38;5;45mNone\u001b[0m, \u001b[38;5;34m4\u001b[0m)              │            \u001b[38;5;34m20\u001b[0m │\n",
       "└─────────────────────────────────┴────────────────────────┴───────────────┘\n"
      ]
     },
     "metadata": {},
     "output_type": "display_data"
    },
    {
     "data": {
      "text/html": [
       "<pre style=\"white-space:pre;overflow-x:auto;line-height:normal;font-family:Menlo,'DejaVu Sans Mono',consolas,'Courier New',monospace\"><span style=\"font-weight: bold\"> Total params: </span><span style=\"color: #00af00; text-decoration-color: #00af00\">142</span> (572.00 B)\n",
       "</pre>\n"
      ],
      "text/plain": [
       "\u001b[1m Total params: \u001b[0m\u001b[38;5;34m142\u001b[0m (572.00 B)\n"
      ]
     },
     "metadata": {},
     "output_type": "display_data"
    },
    {
     "data": {
      "text/html": [
       "<pre style=\"white-space:pre;overflow-x:auto;line-height:normal;font-family:Menlo,'DejaVu Sans Mono',consolas,'Courier New',monospace\"><span style=\"font-weight: bold\"> Trainable params: </span><span style=\"color: #00af00; text-decoration-color: #00af00\">44</span> (176.00 B)\n",
       "</pre>\n"
      ],
      "text/plain": [
       "\u001b[1m Trainable params: \u001b[0m\u001b[38;5;34m44\u001b[0m (176.00 B)\n"
      ]
     },
     "metadata": {},
     "output_type": "display_data"
    },
    {
     "data": {
      "text/html": [
       "<pre style=\"white-space:pre;overflow-x:auto;line-height:normal;font-family:Menlo,'DejaVu Sans Mono',consolas,'Courier New',monospace\"><span style=\"font-weight: bold\"> Non-trainable params: </span><span style=\"color: #00af00; text-decoration-color: #00af00\">8</span> (32.00 B)\n",
       "</pre>\n"
      ],
      "text/plain": [
       "\u001b[1m Non-trainable params: \u001b[0m\u001b[38;5;34m8\u001b[0m (32.00 B)\n"
      ]
     },
     "metadata": {},
     "output_type": "display_data"
    },
    {
     "data": {
      "text/html": [
       "<pre style=\"white-space:pre;overflow-x:auto;line-height:normal;font-family:Menlo,'DejaVu Sans Mono',consolas,'Courier New',monospace\"><span style=\"font-weight: bold\"> Optimizer params: </span><span style=\"color: #00af00; text-decoration-color: #00af00\">90</span> (364.00 B)\n",
       "</pre>\n"
      ],
      "text/plain": [
       "\u001b[1m Optimizer params: \u001b[0m\u001b[38;5;34m90\u001b[0m (364.00 B)\n"
      ]
     },
     "metadata": {},
     "output_type": "display_data"
    }
   ],
   "source": [
    "# CNN Classifier Model Path\n",
    "classifier_model_path = r'../01-PRE-DEPLOYMENT/03-NN-TRAINING-CNN/cnn_model.keras'\n",
    "CNN_Model = keras.saving.load_model(classifier_model_path)\n",
    "CNN_Model.summary()"
   ]
  },
  {
   "cell_type": "markdown",
   "metadata": {},
   "source": [
    "Predictor - DNN Model"
   ]
  },
  {
   "cell_type": "code",
   "execution_count": 11,
   "metadata": {},
   "outputs": [
    {
     "data": {
      "text/html": [
       "<pre style=\"white-space:pre;overflow-x:auto;line-height:normal;font-family:Menlo,'DejaVu Sans Mono',consolas,'Courier New',monospace\"><span style=\"font-weight: bold\">Model: \"sequential\"</span>\n",
       "</pre>\n"
      ],
      "text/plain": [
       "\u001b[1mModel: \"sequential\"\u001b[0m\n"
      ]
     },
     "metadata": {},
     "output_type": "display_data"
    },
    {
     "data": {
      "text/html": [
       "<pre style=\"white-space:pre;overflow-x:auto;line-height:normal;font-family:Menlo,'DejaVu Sans Mono',consolas,'Courier New',monospace\">┏━━━━━━━━━━━━━━━━━━━━━━━━━━━━━━━━━┳━━━━━━━━━━━━━━━━━━━━━━━━┳━━━━━━━━━━━━━━━┓\n",
       "┃<span style=\"font-weight: bold\"> Layer (type)                    </span>┃<span style=\"font-weight: bold\"> Output Shape           </span>┃<span style=\"font-weight: bold\">       Param # </span>┃\n",
       "┡━━━━━━━━━━━━━━━━━━━━━━━━━━━━━━━━━╇━━━━━━━━━━━━━━━━━━━━━━━━╇━━━━━━━━━━━━━━━┩\n",
       "│ dense (<span style=\"color: #0087ff; text-decoration-color: #0087ff\">Dense</span>)                   │ (<span style=\"color: #00d7ff; text-decoration-color: #00d7ff\">None</span>, <span style=\"color: #00af00; text-decoration-color: #00af00\">16</span>)             │            <span style=\"color: #00af00; text-decoration-color: #00af00\">64</span> │\n",
       "├─────────────────────────────────┼────────────────────────┼───────────────┤\n",
       "│ dense_1 (<span style=\"color: #0087ff; text-decoration-color: #0087ff\">Dense</span>)                 │ (<span style=\"color: #00d7ff; text-decoration-color: #00d7ff\">None</span>, <span style=\"color: #00af00; text-decoration-color: #00af00\">8</span>)              │           <span style=\"color: #00af00; text-decoration-color: #00af00\">136</span> │\n",
       "├─────────────────────────────────┼────────────────────────┼───────────────┤\n",
       "│ dense_2 (<span style=\"color: #0087ff; text-decoration-color: #0087ff\">Dense</span>)                 │ (<span style=\"color: #00d7ff; text-decoration-color: #00d7ff\">None</span>, <span style=\"color: #00af00; text-decoration-color: #00af00\">1</span>)              │             <span style=\"color: #00af00; text-decoration-color: #00af00\">9</span> │\n",
       "└─────────────────────────────────┴────────────────────────┴───────────────┘\n",
       "</pre>\n"
      ],
      "text/plain": [
       "┏━━━━━━━━━━━━━━━━━━━━━━━━━━━━━━━━━┳━━━━━━━━━━━━━━━━━━━━━━━━┳━━━━━━━━━━━━━━━┓\n",
       "┃\u001b[1m \u001b[0m\u001b[1mLayer (type)                   \u001b[0m\u001b[1m \u001b[0m┃\u001b[1m \u001b[0m\u001b[1mOutput Shape          \u001b[0m\u001b[1m \u001b[0m┃\u001b[1m \u001b[0m\u001b[1m      Param #\u001b[0m\u001b[1m \u001b[0m┃\n",
       "┡━━━━━━━━━━━━━━━━━━━━━━━━━━━━━━━━━╇━━━━━━━━━━━━━━━━━━━━━━━━╇━━━━━━━━━━━━━━━┩\n",
       "│ dense (\u001b[38;5;33mDense\u001b[0m)                   │ (\u001b[38;5;45mNone\u001b[0m, \u001b[38;5;34m16\u001b[0m)             │            \u001b[38;5;34m64\u001b[0m │\n",
       "├─────────────────────────────────┼────────────────────────┼───────────────┤\n",
       "│ dense_1 (\u001b[38;5;33mDense\u001b[0m)                 │ (\u001b[38;5;45mNone\u001b[0m, \u001b[38;5;34m8\u001b[0m)              │           \u001b[38;5;34m136\u001b[0m │\n",
       "├─────────────────────────────────┼────────────────────────┼───────────────┤\n",
       "│ dense_2 (\u001b[38;5;33mDense\u001b[0m)                 │ (\u001b[38;5;45mNone\u001b[0m, \u001b[38;5;34m1\u001b[0m)              │             \u001b[38;5;34m9\u001b[0m │\n",
       "└─────────────────────────────────┴────────────────────────┴───────────────┘\n"
      ]
     },
     "metadata": {},
     "output_type": "display_data"
    },
    {
     "data": {
      "text/html": [
       "<pre style=\"white-space:pre;overflow-x:auto;line-height:normal;font-family:Menlo,'DejaVu Sans Mono',consolas,'Courier New',monospace\"><span style=\"font-weight: bold\"> Total params: </span><span style=\"color: #00af00; text-decoration-color: #00af00\">629</span> (2.46 KB)\n",
       "</pre>\n"
      ],
      "text/plain": [
       "\u001b[1m Total params: \u001b[0m\u001b[38;5;34m629\u001b[0m (2.46 KB)\n"
      ]
     },
     "metadata": {},
     "output_type": "display_data"
    },
    {
     "data": {
      "text/html": [
       "<pre style=\"white-space:pre;overflow-x:auto;line-height:normal;font-family:Menlo,'DejaVu Sans Mono',consolas,'Courier New',monospace\"><span style=\"font-weight: bold\"> Trainable params: </span><span style=\"color: #00af00; text-decoration-color: #00af00\">209</span> (836.00 B)\n",
       "</pre>\n"
      ],
      "text/plain": [
       "\u001b[1m Trainable params: \u001b[0m\u001b[38;5;34m209\u001b[0m (836.00 B)\n"
      ]
     },
     "metadata": {},
     "output_type": "display_data"
    },
    {
     "data": {
      "text/html": [
       "<pre style=\"white-space:pre;overflow-x:auto;line-height:normal;font-family:Menlo,'DejaVu Sans Mono',consolas,'Courier New',monospace\"><span style=\"font-weight: bold\"> Non-trainable params: </span><span style=\"color: #00af00; text-decoration-color: #00af00\">0</span> (0.00 B)\n",
       "</pre>\n"
      ],
      "text/plain": [
       "\u001b[1m Non-trainable params: \u001b[0m\u001b[38;5;34m0\u001b[0m (0.00 B)\n"
      ]
     },
     "metadata": {},
     "output_type": "display_data"
    },
    {
     "data": {
      "text/html": [
       "<pre style=\"white-space:pre;overflow-x:auto;line-height:normal;font-family:Menlo,'DejaVu Sans Mono',consolas,'Courier New',monospace\"><span style=\"font-weight: bold\"> Optimizer params: </span><span style=\"color: #00af00; text-decoration-color: #00af00\">420</span> (1.64 KB)\n",
       "</pre>\n"
      ],
      "text/plain": [
       "\u001b[1m Optimizer params: \u001b[0m\u001b[38;5;34m420\u001b[0m (1.64 KB)\n"
      ]
     },
     "metadata": {},
     "output_type": "display_data"
    },
    {
     "data": {
      "text/html": [
       "<pre style=\"white-space:pre;overflow-x:auto;line-height:normal;font-family:Menlo,'DejaVu Sans Mono',consolas,'Courier New',monospace\"><span style=\"font-weight: bold\">Model: \"sequential_1\"</span>\n",
       "</pre>\n"
      ],
      "text/plain": [
       "\u001b[1mModel: \"sequential_1\"\u001b[0m\n"
      ]
     },
     "metadata": {},
     "output_type": "display_data"
    },
    {
     "data": {
      "text/html": [
       "<pre style=\"white-space:pre;overflow-x:auto;line-height:normal;font-family:Menlo,'DejaVu Sans Mono',consolas,'Courier New',monospace\">┏━━━━━━━━━━━━━━━━━━━━━━━━━━━━━━━━━┳━━━━━━━━━━━━━━━━━━━━━━━━┳━━━━━━━━━━━━━━━┓\n",
       "┃<span style=\"font-weight: bold\"> Layer (type)                    </span>┃<span style=\"font-weight: bold\"> Output Shape           </span>┃<span style=\"font-weight: bold\">       Param # </span>┃\n",
       "┡━━━━━━━━━━━━━━━━━━━━━━━━━━━━━━━━━╇━━━━━━━━━━━━━━━━━━━━━━━━╇━━━━━━━━━━━━━━━┩\n",
       "│ dense_3 (<span style=\"color: #0087ff; text-decoration-color: #0087ff\">Dense</span>)                 │ (<span style=\"color: #00d7ff; text-decoration-color: #00d7ff\">None</span>, <span style=\"color: #00af00; text-decoration-color: #00af00\">16</span>)             │            <span style=\"color: #00af00; text-decoration-color: #00af00\">64</span> │\n",
       "├─────────────────────────────────┼────────────────────────┼───────────────┤\n",
       "│ dense_4 (<span style=\"color: #0087ff; text-decoration-color: #0087ff\">Dense</span>)                 │ (<span style=\"color: #00d7ff; text-decoration-color: #00d7ff\">None</span>, <span style=\"color: #00af00; text-decoration-color: #00af00\">8</span>)              │           <span style=\"color: #00af00; text-decoration-color: #00af00\">136</span> │\n",
       "├─────────────────────────────────┼────────────────────────┼───────────────┤\n",
       "│ dense_5 (<span style=\"color: #0087ff; text-decoration-color: #0087ff\">Dense</span>)                 │ (<span style=\"color: #00d7ff; text-decoration-color: #00d7ff\">None</span>, <span style=\"color: #00af00; text-decoration-color: #00af00\">1</span>)              │             <span style=\"color: #00af00; text-decoration-color: #00af00\">9</span> │\n",
       "└─────────────────────────────────┴────────────────────────┴───────────────┘\n",
       "</pre>\n"
      ],
      "text/plain": [
       "┏━━━━━━━━━━━━━━━━━━━━━━━━━━━━━━━━━┳━━━━━━━━━━━━━━━━━━━━━━━━┳━━━━━━━━━━━━━━━┓\n",
       "┃\u001b[1m \u001b[0m\u001b[1mLayer (type)                   \u001b[0m\u001b[1m \u001b[0m┃\u001b[1m \u001b[0m\u001b[1mOutput Shape          \u001b[0m\u001b[1m \u001b[0m┃\u001b[1m \u001b[0m\u001b[1m      Param #\u001b[0m\u001b[1m \u001b[0m┃\n",
       "┡━━━━━━━━━━━━━━━━━━━━━━━━━━━━━━━━━╇━━━━━━━━━━━━━━━━━━━━━━━━╇━━━━━━━━━━━━━━━┩\n",
       "│ dense_3 (\u001b[38;5;33mDense\u001b[0m)                 │ (\u001b[38;5;45mNone\u001b[0m, \u001b[38;5;34m16\u001b[0m)             │            \u001b[38;5;34m64\u001b[0m │\n",
       "├─────────────────────────────────┼────────────────────────┼───────────────┤\n",
       "│ dense_4 (\u001b[38;5;33mDense\u001b[0m)                 │ (\u001b[38;5;45mNone\u001b[0m, \u001b[38;5;34m8\u001b[0m)              │           \u001b[38;5;34m136\u001b[0m │\n",
       "├─────────────────────────────────┼────────────────────────┼───────────────┤\n",
       "│ dense_5 (\u001b[38;5;33mDense\u001b[0m)                 │ (\u001b[38;5;45mNone\u001b[0m, \u001b[38;5;34m1\u001b[0m)              │             \u001b[38;5;34m9\u001b[0m │\n",
       "└─────────────────────────────────┴────────────────────────┴───────────────┘\n"
      ]
     },
     "metadata": {},
     "output_type": "display_data"
    },
    {
     "data": {
      "text/html": [
       "<pre style=\"white-space:pre;overflow-x:auto;line-height:normal;font-family:Menlo,'DejaVu Sans Mono',consolas,'Courier New',monospace\"><span style=\"font-weight: bold\"> Total params: </span><span style=\"color: #00af00; text-decoration-color: #00af00\">629</span> (2.46 KB)\n",
       "</pre>\n"
      ],
      "text/plain": [
       "\u001b[1m Total params: \u001b[0m\u001b[38;5;34m629\u001b[0m (2.46 KB)\n"
      ]
     },
     "metadata": {},
     "output_type": "display_data"
    },
    {
     "data": {
      "text/html": [
       "<pre style=\"white-space:pre;overflow-x:auto;line-height:normal;font-family:Menlo,'DejaVu Sans Mono',consolas,'Courier New',monospace\"><span style=\"font-weight: bold\"> Trainable params: </span><span style=\"color: #00af00; text-decoration-color: #00af00\">209</span> (836.00 B)\n",
       "</pre>\n"
      ],
      "text/plain": [
       "\u001b[1m Trainable params: \u001b[0m\u001b[38;5;34m209\u001b[0m (836.00 B)\n"
      ]
     },
     "metadata": {},
     "output_type": "display_data"
    },
    {
     "data": {
      "text/html": [
       "<pre style=\"white-space:pre;overflow-x:auto;line-height:normal;font-family:Menlo,'DejaVu Sans Mono',consolas,'Courier New',monospace\"><span style=\"font-weight: bold\"> Non-trainable params: </span><span style=\"color: #00af00; text-decoration-color: #00af00\">0</span> (0.00 B)\n",
       "</pre>\n"
      ],
      "text/plain": [
       "\u001b[1m Non-trainable params: \u001b[0m\u001b[38;5;34m0\u001b[0m (0.00 B)\n"
      ]
     },
     "metadata": {},
     "output_type": "display_data"
    },
    {
     "data": {
      "text/html": [
       "<pre style=\"white-space:pre;overflow-x:auto;line-height:normal;font-family:Menlo,'DejaVu Sans Mono',consolas,'Courier New',monospace\"><span style=\"font-weight: bold\"> Optimizer params: </span><span style=\"color: #00af00; text-decoration-color: #00af00\">420</span> (1.64 KB)\n",
       "</pre>\n"
      ],
      "text/plain": [
       "\u001b[1m Optimizer params: \u001b[0m\u001b[38;5;34m420\u001b[0m (1.64 KB)\n"
      ]
     },
     "metadata": {},
     "output_type": "display_data"
    }
   ],
   "source": [
    "# DNN Predictor Model Path\n",
    "recall_model_path = r'../01-PRE-DEPLOYMENT/04-NN-TRAINING-DNN/recall_est.keras'\n",
    "Recall_Model = keras.saving.load_model(recall_model_path)\n",
    "Recall_Model.summary()\n",
    "\n",
    "# DNN Predictor Model Path\n",
    "precision_model_path = r'../01-PRE-DEPLOYMENT/04-NN-TRAINING-DNN/precision_est.keras'\n",
    "Precision_Model = keras.saving.load_model(precision_model_path)\n",
    "Precision_Model.summary()"
   ]
  },
  {
   "cell_type": "code",
   "execution_count": 12,
   "metadata": {},
   "outputs": [
    {
     "name": "stdout",
     "output_type": "stream",
     "text": [
      "Input Data Length: 128\n"
     ]
    }
   ],
   "source": [
    "# get the input data length\n",
    "nn_in_len = CNN_Model.input_shape[1]\n",
    "print('Input Data Length:', nn_in_len)"
   ]
  },
  {
   "cell_type": "code",
   "execution_count": 13,
   "metadata": {},
   "outputs": [
    {
     "name": "stdout",
     "output_type": "stream",
     "text": [
      "Test Data Shape: (1, 6000)\n"
     ]
    },
    {
     "data": {
      "image/png": "[encoded data removed]",
      "text/plain": [
       "<Figure size 640x480 with 1 Axes>"
      ]
     },
     "metadata": {},
     "output_type": "display_data"
    }
   ],
   "source": [
    "# model test by loading a piece of data from the dataset, and feed intot he prenn function\n",
    "\n",
    "# index for the random data\n",
    "idx = np.random.randint(NumSample)\n",
    "\n",
    "# get the data\n",
    "test_data = RESPONSE[idx, :].reshape(1, LenTS)\n",
    "\n",
    "print('Test Data Shape:', test_data.shape)\n",
    "\n",
    "# plot the test data\n",
    "plt.figure()\n",
    "plt.plot(test_data[0, :])\n",
    "plt.title('Test Data')\n",
    "plt.show()\n"
   ]
  },
  {
   "cell_type": "code",
   "execution_count": 14,
   "metadata": {},
   "outputs": [
    {
     "data": {
      "image/png": "[encoded data removed]",
      "text/plain": [
       "<Figure size 640x480 with 1 Axes>"
      ]
     },
     "metadata": {},
     "output_type": "display_data"
    }
   ],
   "source": [
    "# preprocess\n",
    "output_length = nn_in_len\n",
    "test_data = prenn.prenn(test_data, dt, nperseg, output_length)\n",
    "\n",
    "# print the preprocessed data\n",
    "plt.figure()\n",
    "plt.plot(test_data[0, :])\n",
    "plt.title('Preprocessed Test Data')\n",
    "plt.show()"
   ]
  },
  {
   "cell_type": "code",
   "execution_count": 15,
   "metadata": {},
   "outputs": [
    {
     "name": "stdout",
     "output_type": "stream",
     "text": [
      "Preprocessed Test Data Shape: (1, 128, 1)\n",
      "\u001b[1m1/1\u001b[0m \u001b[32m━━━━━━━━━━━━━━━━━━━━\u001b[0m\u001b[37m\u001b[0m \u001b[1m0s\u001b[0m 112ms/step\n",
      "Tensorflow Model Prediction: [[9.9996114e-01 1.3414579e-24 2.3951934e-11 3.8870607e-05]]\n",
      "Tensorflow Model Prediction: 0\n"
     ]
    }
   ],
   "source": [
    "test_data = test_data.reshape(1, nn_in_len, 1)\n",
    "\n",
    "print('Preprocessed Test Data Shape:', test_data.shape)\n",
    "\n",
    "# test the model\n",
    "test_result = CNN_Model.predict(test_data)\n",
    "print('Tensorflow Model Prediction:', test_result)\n",
    "\n",
    "# parse the result to get the label\n",
    "result_label = np.argmax(test_result)\n",
    "\n",
    "print('Tensorflow Model Prediction:', result_label)"
   ]
  },
  {
   "cell_type": "markdown",
   "metadata": {},
   "source": [
    "### CONTROLLER\n",
    "IN NATURE - THE BAYESIAN OPTIMIZATION FRAMEWORK FOR OPTIMIZATION AND CONTROLL"
   ]
  },
  {
   "cell_type": "code",
   "execution_count": 16,
   "metadata": {},
   "outputs": [],
   "source": [
    "# the bayesian optimization algorithm, will be covered in the next section"
   ]
  },
  {
   "cell_type": "markdown",
   "metadata": {},
   "source": [
    "## BAYESIAN OPTIMIZATION FRAMEWORK"
   ]
  },
  {
   "cell_type": "markdown",
   "metadata": {},
   "source": [
    "### Helper Functions"
   ]
  },
  {
   "cell_type": "code",
   "execution_count": 17,
   "metadata": {},
   "outputs": [],
   "source": [
    "# %pip install PyQt5\n",
    "# %pip install colorama\n"
   ]
  },
  {
   "cell_type": "code",
   "execution_count": 18,
   "metadata": {},
   "outputs": [],
   "source": [
    "# # use pop-up window for plots\n",
    "# %matplotlib qt5 \n",
    "# from mpl_toolkits.mplot3d import Axes3D\n",
    "# from matplotlib.animation import FuncAnimation\n",
    "# # print control\n",
    "# from colorama import init, Fore, Back, Style"
   ]
  },
  {
   "cell_type": "code",
   "execution_count": 19,
   "metadata": {},
   "outputs": [],
   "source": [
    "# CONFIGURABLE PARAMETERS\n",
    "\n",
    "## Hyperparameters\n",
    "noise_lvl = 0.1\n",
    "k_alpha = 1\n",
    "k_lambda = 1\n",
    "\n",
    "## Process Control\n",
    "num_init_points = 15\n",
    "num_iter = 20\n",
    "tolerance = 1e-3\n",
    "gap = np.inf\n",
    "\n",
    "## Acquisition Function - UCB\n",
    "ucb_beta = 1\n",
    "\n",
    "## Acquisition Function - PI & EI\n",
    "xi=0.01\n",
    "\n",
    "## Bonus factor for evaluation\n",
    "bonus_factor = 1.1"
   ]
  },
  {
   "cell_type": "code",
   "execution_count": 20,
   "metadata": {},
   "outputs": [
    {
     "name": "stdout",
     "output_type": "stream",
     "text": [
      "Lower Bound of para_a: 8.421291914680889e-05\n",
      "Upper Bound of para_a: 0.01684258382936178\n",
      "Lower Bound of para_b: 2\n",
      "Upper Bound of para_b: 10\n",
      "6.0\n"
     ]
    }
   ],
   "source": [
    "## Search Space\n",
    "### parameter 1 - a\n",
    "lb_a = para_a_lb\n",
    "print('Lower Bound of para_a:', lb_a)\n",
    "ub_a = para_a_ub\n",
    "print('Upper Bound of para_a:', ub_a)\n",
    "c_a = (ub_a + lb_a) / 2\n",
    "\n",
    "### parameter 2 - b\n",
    "lb_b = para_b_lb\n",
    "print('Lower Bound of para_b:', lb_b)\n",
    "ub_b = para_b_ub\n",
    "print('Upper Bound of para_b:', ub_b)\n",
    "c_b = (ub_b + lb_b) / 2\n",
    "print(c_b)"
   ]
  },
  {
   "cell_type": "markdown",
   "metadata": {},
   "source": [
    "### The Problem / System to Optimize\n",
    "\n",
    "Triggering Mechanism： Triggering Parameters In; Evaluation Index Out"
   ]
  },
  {
   "cell_type": "code",
   "execution_count": 21,
   "metadata": {},
   "outputs": [],
   "source": [
    "# THE OBJECTIVE FUNCTION (for manual setup evaluation)\n",
    "def objective_function_manual(para_a, para_b):\n",
    "\n",
    "    \"\"\" Function with unknown internals we wish to maximize.\n",
    "\n",
    "    This function defines the process to evaluate how good the parameters are for the triggering sensing mechanism.\n",
    "\n",
    "    INPUT:\n",
    "    - para_a: the threshold for the activation, positive real number\n",
    "    - para_b: activate_duration: the duration for the activation, positive integer >= 2 (as we know 1 is not error-prone in practice)\n",
    "\n",
    "    OUTPUT:\n",
    "    - evaluation value: F-beta score\n",
    "    \n",
    "    HYPERPARAMETERS:\n",
    "    - beta: the value to balance the precision and recall to calculate F-beta score\n",
    "    \n",
    "    \"\"\"\n",
    "    \n",
    "    # assistive variables\n",
    "    TP = 0\n",
    "    FP = 0\n",
    "    FN = 0\n",
    "    TN = 0\n",
    "    \n",
    "    # go through the dataset\n",
    "    for i in range(NumSample):\n",
    "    # for i in range(10):  \n",
    "        # trigger flag\n",
    "        flg_trigger = 0\n",
    "        \n",
    "        # ground truth flag\n",
    "        flg_class = 0\n",
    "        flg_interst = 0\n",
    "        \n",
    "        # get the response data\n",
    "        signal = RESPONSE[i, :].reshape(1, -1)\n",
    "        \n",
    "        # get the triggering mechanism\n",
    "        flg_trigger, trig_pos = trig.activation(signal, para_a, para_b)\n",
    "        \n",
    "        # print('Trigger Flag:', flg_trigger)\n",
    "        \n",
    "        # get the ground truth\n",
    "        if i < NUM_AV:\n",
    "            flg_interst = 0\n",
    "            flag_class = 0\n",
    "        elif i < NUM_AV + NUM_EQ:\n",
    "            flg_interst = 1\n",
    "            flag_class = 1\n",
    "        elif i < NUM_AV + NUM_EQ + NUM_IP:\n",
    "            flg_interst = 1\n",
    "            flag_class = 2\n",
    "        else:\n",
    "            flg_interst = 1\n",
    "            flag_class = 3\n",
    "\n",
    "        # get the confusion matrix - as the number of interested data is assumed to be small, we need to consider the ratio - only two classes - interested and non-interested\n",
    "        if flg_trigger == 1 and flg_interst == 1:\n",
    "            TP += 1*ratio_ni\n",
    "        elif flg_trigger == 1 and flg_interst == 0:\n",
    "            FP += 1\n",
    "        elif flg_trigger == 0 and flg_interst == 1:\n",
    "            FN += 1*ratio_ni\n",
    "        elif flg_trigger == 0 and flg_interst == 0:\n",
    "            TN += 1\n",
    "        else:\n",
    "            print('Error in Confusion Matrix Calculation')\n",
    "            \n",
    "    # demoninator\n",
    "    denominator = ((1 + beta**2) * TP + beta**2 * FN + FP)\n",
    "    if denominator == 0:\n",
    "        F_beta = 0\n",
    "        return 0\n",
    "    \n",
    "    F_beta = (1 + beta**2) * TP / ((1 + beta**2) * TP + beta**2 * FN + FP)\n",
    "    \n",
    "    # if F_beta is NaN, return 0\n",
    "    if np.isnan(F_beta):\n",
    "        F_beta = 0\n",
    "        return 0\n",
    "    \n",
    "    precision = TP / (TP + FP)\n",
    "    recall = TP / (TP + FN)\n",
    "    \n",
    "    if precision > 0.9 and recall > 0.9:\n",
    "        F_beta = F_beta * bonus_factor\n",
    "    \n",
    "    # print TP, FP, FN, TN as integer, Precision, Recall, F-beta as float number with 4 decimal places\n",
    "    print(f'para_a / para_b / TP / FP / FN / TN / Precision / Recall / F-beta: {para_a} {para_b} {int(TP)} {int(FP)} {int(FN)} {int(TN)} {precision:.4f} {recall:.4f} {F_beta:.4f}')\n",
    "\n",
    "\n",
    "    return F_beta, TP, FP, FN, TN, precision, recall\n"
   ]
  },
  {
   "cell_type": "code",
   "execution_count": 22,
   "metadata": {},
   "outputs": [
    {
     "name": "stdout",
     "output_type": "stream",
     "text": [
      "para_a / para_b / TP / FP / FN / TN / Precision / Recall / F-beta: 0.00648 2 150 150 0 0 0.5000 1.0000 0.8025\n",
      "Manual F-beta: 0.8024691358024691\n",
      "Manual Precision: 0.5\n",
      "Manual Recall: 1.0\n"
     ]
    }
   ],
   "source": [
    "# TEST / MANUAL CHECK\n",
    "\n",
    "para_a = 0.00648\n",
    "para_b = 2\n",
    "\n",
    "manual_setup = objective_function_manual(para_a, para_b)\n",
    "\n",
    "manual_f_beta = manual_setup[0]\n",
    "\n",
    "manual_precision = manual_setup[-2]\n",
    "\n",
    "manual_recall = manual_setup[-1]\n",
    "\n",
    "print('Manual F-beta:', manual_f_beta)\n",
    "\n",
    "print('Manual Precision:', manual_precision)\n",
    "\n",
    "print('Manual Recall:', manual_recall)"
   ]
  },
  {
   "cell_type": "code",
   "execution_count": 23,
   "metadata": {},
   "outputs": [],
   "source": [
    "# THE OBJECTIVE FUNCTION (for onboard fine tuning)\n",
    "def objective_function(para_a, para_b):\n",
    "\n",
    "    \"\"\" Function with unknown internals we wish to maximize.\n",
    "\n",
    "    This function defines the process to evaluate how good the parameters are for the triggering sensing mechanism.\n",
    "\n",
    "    INPUT:\n",
    "    - para_a: the threshold for the activation, positive real number\n",
    "    - para_b: activate_duration: the duration for the activation, positive integer >= 2 (as we know 1 is not error-prone in practice)\n",
    "\n",
    "    OUTPUT:\n",
    "    - evaluation value: F-beta score\n",
    "    \n",
    "    HYPERPARAMETERS:\n",
    "    - beta: the value to balance the precision and recall to calculate F-beta score\n",
    "    \n",
    "    \"\"\"\n",
    "    \n",
    "    # assistive variables\n",
    "    TP = 0\n",
    "    FP = 0\n",
    "    FN = 0\n",
    "    TN = 0\n",
    "    \n",
    "    # go through the dataset\n",
    "    for i in range(NumSample):\n",
    "    # for i in range(10):  \n",
    "        # trigger flag\n",
    "        flg_trigger = 0\n",
    "        \n",
    "        # ground truth flag\n",
    "        class_1h = np.zeros((1, num_type))\n",
    "        flg_class = 0\n",
    "        flg_interst = 0\n",
    "        \n",
    "        # get the response data\n",
    "        signal = RESPONSE[i, :].reshape(1, LenTS)\n",
    "        \n",
    "        # get the triggering mechanism\n",
    "        flg_trigger, trig_pos = trig.activation(signal, para_a, para_b)\n",
    "        \n",
    "        # print('Trigger Flag:', flg_trigger)\n",
    "        \n",
    "        # preprocess the signal for the CNN model to get the ground truth\n",
    "        signal = prenn.prenn(signal, dt, nperseg, nn_in_len)\n",
    "        \n",
    "        signal = signal.reshape(1, nn_in_len, 1)\n",
    "\n",
    "        # get the ground truth\n",
    "        class_1h = CNN_Model.predict(signal, verbose=0)\n",
    "        flag_class = np.argmax(class_1h)\n",
    "        \n",
    "        # get the ground truth\n",
    "        if flag_class > 0:\n",
    "            flg_interst = 1\n",
    "\n",
    "        # get the confusion matrix - as the number of interested data is assumed to be small, we need to consider the ratio - only two classes - interested and non-interested\n",
    "        if flg_trigger == 1 and flg_interst == 1:\n",
    "            TP += 1\n",
    "        elif flg_trigger == 1 and flg_interst == 0:\n",
    "            FP += 1\n",
    "        elif flg_trigger == 0 and flg_interst == 1:\n",
    "            FN = -1 # no use, recall will be calculated in other way\n",
    "        elif flg_trigger == 0 and flg_interst == 0:\n",
    "            TN = -1 # no use, recall will be calculated in other way\n",
    "        else:\n",
    "            print('Error in Confusion Matrix Calculation')\n",
    "    \n",
    "    # recall = Precision_Model\n",
    "    std_av = np.std(RESPONSE_AV[0, :])\n",
    "    recall_input = np.array([std_av, para_a, para_b]).reshape(1, 3)\n",
    "    recall = Recall_Model.predict(recall_input)\n",
    "    recall = float(recall)\n",
    "    \n",
    "    # if recall > 1:\n",
    "    #     recall = 1\n",
    "    # if recall < 0:\n",
    "    #     recall = 0\n",
    "    \n",
    "    # calculate precision\n",
    "    precision = TP / (TP + FP)\n",
    "            \n",
    "    # calculate the F-beta score\n",
    "    denominator = (beta**2) * precision + recall \n",
    "    if denominator == 0:\n",
    "        F_beta = 0\n",
    "    else:\n",
    "        F_beta = (1 + beta**2) * precision * recall / denominator\n",
    "    \n",
    "    # if F_beta is NaN, return 0\n",
    "    if np.isnan(F_beta):\n",
    "        F_beta = 0\n",
    "        return 0\n",
    "    \n",
    "    if precision > 0.9 and recall > 0.9:\n",
    "        F_beta = F_beta * bonus_factor\n",
    "\n",
    "    \n",
    "    \n",
    "    # print TP, FP, FN, TN as integer, Precision, Recall, F-beta as float number with 4 decimal places\n",
    "    # print('para_a / para_b /TP / FP / FN / TN / Precision / Recall / F-beta:', para_a, para_b, TP, FP, FN, TN, f'{precision:.4f}', f'{recall:.4f}', f'{F_beta:.4f}')  \n",
    "    # print('para_a / para_b ', para_a, para_b)  \n",
    "    # print('TP / FP / FN / TN / Precision / Recall / F-beta:', TP, FP, FN, TN)  \n",
    "    # print('Precision / Recall / F-beta:', f'{precision:.4f}', f'{recall:.4f}', f'{F_beta:.4f}')  \n",
    "    print(f'para_a / para_b / TP / FP / FN / TN / Precision / Recall / F-beta: {para_a} {para_b} {int(TP)} {int(FP)} {int(FN)} {int(TN)} {precision:.4f} {recall:.4f} {F_beta:.4f}')\n",
    "\n",
    "    return F_beta, TP, FP, FN, TN, precision, recall\n"
   ]
  },
  {
   "cell_type": "code",
   "execution_count": 24,
   "metadata": {},
   "outputs": [],
   "source": [
    "# THE SURROGATE MODEL - Gaussian Process - Kernel Function\n",
    "## Matern 2.5 as the kernel function\n",
    "def kernel(p1, p2, matern_alpha = 1, matern_lambda = 1):\n",
    "    # define the distance between two points p1 and p2\n",
    "    d= np.linalg.norm(p1 - p2)\n",
    "    k = matern_alpha * (1 + np.sqrt(5) * d / matern_lambda + 5 * d**2 / (3 * matern_lambda**2)) * np.exp(-np.sqrt(5) * d / matern_lambda)\n",
    "    return k\n",
    "\n",
    "## Mean and Variance of the Gaussian Process\n",
    "def mean_var(x, D, K_alpha, k_lambda):\n",
    "    # assume x is a variable of 1x1\n",
    "    # calculate the mean and variance of the Gaussian Process\n",
    "    x_dim = x.shape[1] # assume each colum is a dimension of x\n",
    "    num_D = D.shape[0] # number of data points in D\n",
    "    \n",
    "    Ktt = np.zeros((num_D, num_D))\n",
    "    for i in range(num_D):\n",
    "        for j in range(num_D):\n",
    "            Ktt[i, j] = kernel(D[i,:-1], D[j,:-1], K_alpha, k_lambda)\n",
    "    Kttn = Ktt + np.eye(num_D) * noise_lvl\n",
    "    IKttn = np.linalg.inv(Kttn)\n",
    "    \n",
    "    Kpt = np.zeros((1, num_D))\n",
    "    for i in range(num_D):\n",
    "        Kpt[0, i] = kernel(x, D[i,:-1], K_alpha, k_lambda)\n",
    "    Ktp = Kpt.T\n",
    "    Kpp = kernel(x, x, K_alpha, k_lambda)\n",
    "    \n",
    "    y = D[:,-1].reshape(-1,1)\n",
    "    \n",
    "    mean = Kpt @ IKttn @ y\n",
    "    var = Kpp - Kpt @ IKttn @ Ktp\n",
    "        \n",
    "    return mean, var"
   ]
  },
  {
   "cell_type": "code",
   "execution_count": 25,
   "metadata": {},
   "outputs": [],
   "source": [
    "# THE ACQUISITION FUNCTION - UPPER CONFIDENCE BOUND\n",
    "def S(x, D):\n",
    "    mean, var = mean_var(x, D, k_alpha, k_lambda)\n",
    "    s = mean + ucb_beta * np.sqrt(var)\n",
    "    return s"
   ]
  },
  {
   "cell_type": "code",
   "execution_count": 26,
   "metadata": {},
   "outputs": [],
   "source": [
    "def norm_cdf(x):\n",
    "    \"\"\"\n",
    "    standard normal cumulative distribution function\n",
    "    \n",
    "    \"\"\"\n",
    "    return 0.5 * (1 + np.math.erf(x / np.sqrt(2)))"
   ]
  },
  {
   "cell_type": "code",
   "execution_count": 27,
   "metadata": {},
   "outputs": [],
   "source": [
    "def norm_pdf(x):\n",
    "    \"\"\"\n",
    "    standard normal probability density function\n",
    "    \"\"\"\n",
    "    return (1 / np.sqrt(2 * np.pi)) * np.exp(-0.5 * x ** 2)"
   ]
  },
  {
   "cell_type": "code",
   "execution_count": 28,
   "metadata": {},
   "outputs": [],
   "source": [
    "# THE ACQUISITION FUNCTION - PROBABILITY OF IMPROVEMENT\n",
    "def S_PI(x, D, xi=0.01):\n",
    "    f_best = np.max(D[:,-1])\n",
    "    mean, var = mean_var(x, D, k_alpha, k_lambda)\n",
    "    z = (mean - f_best - xi) / np.sqrt(var)\n",
    "    s = norm_cdf(z)\n",
    "    return s"
   ]
  },
  {
   "cell_type": "code",
   "execution_count": 29,
   "metadata": {},
   "outputs": [],
   "source": [
    "# THE ACQUISITION FUNCTION - EXPECTATION OF IMPROVEMENT\n",
    "def S_EI(x, D, xi=0.01):\n",
    "    f_best = np.max(D[:,-1])\n",
    "    mean, var = mean_var(x, D, k_alpha, k_lambda)\n",
    "    z = (mean - f_best - xi) / np.sqrt(var)\n",
    "    s = (mean - f_best - xi) * norm_cdf(z) + np.sqrt(var) * norm_pdf(z)\n",
    "    return s"
   ]
  },
  {
   "cell_type": "code",
   "execution_count": 30,
   "metadata": {},
   "outputs": [],
   "source": [
    "# THE OPTIMIZATION FUNCTION FOR THE ACQUISITION FUNCTION\n",
    "def optimize_acquisition(D):\n",
    "    # randomly search for the point with the highest acquisition function value\n",
    "    num_search = 100\n",
    "    max_s = -np.inf\n",
    "    max_x = None\n",
    "    cur_x = np.zeros((1,2))\n",
    "    for i in range(num_search):\n",
    "        cur_x[0,0] = np.random.uniform(lb_a, ub_a)\n",
    "        cur_x[0,1] = np.random.uniform(lb_b, ub_b)\n",
    "        cur_s = S(cur_x, D) # UCB\n",
    "        # cur_s = S_PI(cur_x, D, xi) # PI\n",
    "        # cur_s = S_EI(cur_x, D, xi) # EI\n",
    "        if cur_s > max_s:\n",
    "            max_s = cur_s\n",
    "            max_x = cur_x.copy()\n",
    "    return max_x"
   ]
  },
  {
   "cell_type": "markdown",
   "metadata": {},
   "source": [
    "### The Optimization Process"
   ]
  },
  {
   "cell_type": "code",
   "execution_count": 31,
   "metadata": {},
   "outputs": [
    {
     "name": "stdout",
     "output_type": "stream",
     "text": [
      "Number of Data Points in pre-optimization (D number): 65\n",
      "Number of Data Points in pre-optimization (DD number): 65\n"
     ]
    }
   ],
   "source": [
    "# load data in STAGE II - D\n",
    "D_Path = r\"../01-PRE-DEPLOYMENT/05-PRE-OPTIMIZATION/D.npy\"\n",
    "\n",
    "D = np.load(D_Path)\n",
    "\n",
    "stage_virtual_num = D.shape[0]\n",
    "\n",
    "print('Number of Data Points in pre-optimization (D number):', stage_virtual_num)\n",
    "\n",
    "DD_Path = r\"../01-PRE-DEPLOYMENT/05-PRE-OPTIMIZATION/DD.npy\"\n",
    "\n",
    "DD = np.load(DD_Path)\n",
    "\n",
    "print('Number of Data Points in pre-optimization (DD number):', DD.shape[0])"
   ]
  },
  {
   "cell_type": "code",
   "execution_count": 32,
   "metadata": {},
   "outputs": [
    {
     "name": "stdout",
     "output_type": "stream",
     "text": [
      "Initial Maximum Value: 1.0885063668104336\n"
     ]
    }
   ],
   "source": [
    "max_val = np.max(D[:,2])\n",
    "print('Initial Maximum Value:', max_val)"
   ]
  },
  {
   "cell_type": "code",
   "execution_count": 33,
   "metadata": {},
   "outputs": [
    {
     "name": "stdout",
     "output_type": "stream",
     "text": [
      "\u001b[1m1/1\u001b[0m \u001b[32m━━━━━━━━━━━━━━━━━━━━\u001b[0m\u001b[37m\u001b[0m \u001b[1m0s\u001b[0m 53ms/step\n",
      "para_a / para_b / TP / FP / FN / TN / Precision / Recall / F-beta: 0.013956590538446298 2.6030411895886623 100 1 -1 -1 0.9901 0.9287 1.0374\n",
      "BO Iteration: 1 / 20\n"
     ]
    },
    {
     "name": "stderr",
     "output_type": "stream",
     "text": [
      "C:\\Users\\cswof\\AppData\\Local\\Temp\\ipykernel_28528\\1738947824.py:74: DeprecationWarning: Conversion of an array with ndim > 0 to a scalar is deprecated, and will error in future. Ensure you extract a single element from your array before performing this operation. (Deprecated NumPy 1.25.)\n",
      "  recall = float(recall)\n"
     ]
    },
    {
     "name": "stdout",
     "output_type": "stream",
     "text": [
      "\u001b[1m1/1\u001b[0m \u001b[32m━━━━━━━━━━━━━━━━━━━━\u001b[0m\u001b[37m\u001b[0m \u001b[1m0s\u001b[0m 43ms/step\n",
      "para_a / para_b / TP / FP / FN / TN / Precision / Recall / F-beta: 0.014621714816655567 2.6499912212487233 99 1 -1 -1 0.9900 0.9263 1.0354\n",
      "BO Iteration: 2 / 20\n",
      "\u001b[1m1/1\u001b[0m \u001b[32m━━━━━━━━━━━━━━━━━━━━\u001b[0m\u001b[37m\u001b[0m \u001b[1m0s\u001b[0m 34ms/step\n",
      "para_a / para_b / TP / FP / FN / TN / Precision / Recall / F-beta: 0.014202042641013362 2.5344540672956137 100 1 -1 -1 0.9901 0.9285 1.0373\n",
      "BO Iteration: 3 / 20\n",
      "\u001b[1m1/1\u001b[0m \u001b[32m━━━━━━━━━━━━━━━━━━━━\u001b[0m\u001b[37m\u001b[0m \u001b[1m0s\u001b[0m 23ms/step\n",
      "para_a / para_b / TP / FP / FN / TN / Precision / Recall / F-beta: 0.012198851406083644 2.7127711421345877 102 1 -1 -1 0.9903 0.9333 1.0414\n",
      "BO Iteration: 4 / 20\n",
      "\u001b[1m1/1\u001b[0m \u001b[32m━━━━━━━━━━━━━━━━━━━━\u001b[0m\u001b[37m\u001b[0m \u001b[1m0s\u001b[0m 20ms/step\n",
      "para_a / para_b / TP / FP / FN / TN / Precision / Recall / F-beta: 0.010975265655349299 2.5744948546800046 106 3 -1 -1 0.9725 0.9381 1.0410\n",
      "BO Iteration: 5 / 20\n",
      "\u001b[1m1/1\u001b[0m \u001b[32m━━━━━━━━━━━━━━━━━━━━\u001b[0m\u001b[37m\u001b[0m \u001b[1m0s\u001b[0m 22ms/step\n",
      "para_a / para_b / TP / FP / FN / TN / Precision / Recall / F-beta: 0.015844151755179708 2.879176347759631 99 1 -1 -1 0.9900 0.9208 1.0306\n",
      "BO Iteration: 6 / 20\n",
      "\u001b[1m1/1\u001b[0m \u001b[32m━━━━━━━━━━━━━━━━━━━━\u001b[0m\u001b[37m\u001b[0m \u001b[1m0s\u001b[0m 25ms/step\n",
      "para_a / para_b / TP / FP / FN / TN / Precision / Recall / F-beta: 0.014989743915163134 2.7956249970490905 99 1 -1 -1 0.9900 0.9241 1.0334\n",
      "BO Iteration: 7 / 20\n",
      "\u001b[1m1/1\u001b[0m \u001b[32m━━━━━━━━━━━━━━━━━━━━\u001b[0m\u001b[37m\u001b[0m \u001b[1m0s\u001b[0m 25ms/step\n",
      "para_a / para_b / TP / FP / FN / TN / Precision / Recall / F-beta: 0.01046987111256842 2.5469346084306297 107 3 -1 -1 0.9727 0.9399 1.0426\n",
      "BO Iteration: 8 / 20\n",
      "\u001b[1m1/1\u001b[0m \u001b[32m━━━━━━━━━━━━━━━━━━━━\u001b[0m\u001b[37m\u001b[0m \u001b[1m0s\u001b[0m 29ms/step\n",
      "para_a / para_b / TP / FP / FN / TN / Precision / Recall / F-beta: 0.01184970901740269 2.656915525538145 103 1 -1 -1 0.9904 0.9348 1.0427\n",
      "BO Iteration: 9 / 20\n",
      "\u001b[1m1/1\u001b[0m \u001b[32m━━━━━━━━━━━━━━━━━━━━\u001b[0m\u001b[37m\u001b[0m \u001b[1m0s\u001b[0m 33ms/step\n",
      "para_a / para_b / TP / FP / FN / TN / Precision / Recall / F-beta: 0.015321430900450185 2.6195251698097923 99 1 -1 -1 0.9900 0.9244 1.0337\n",
      "BO Iteration: 10 / 20\n",
      "\u001b[1m1/1\u001b[0m \u001b[32m━━━━━━━━━━━━━━━━━━━━\u001b[0m\u001b[37m\u001b[0m \u001b[1m0s\u001b[0m 26ms/step\n",
      "para_a / para_b / TP / FP / FN / TN / Precision / Recall / F-beta: 0.008451028303450693 2.7590787909162993 121 18 -1 -1 0.8705 0.9445 0.9251\n",
      "BO Iteration: 11 / 20\n",
      "\u001b[1m1/1\u001b[0m \u001b[32m━━━━━━━━━━━━━━━━━━━━\u001b[0m\u001b[37m\u001b[0m \u001b[1m0s\u001b[0m 20ms/step\n",
      "para_a / para_b / TP / FP / FN / TN / Precision / Recall / F-beta: 0.013583697371721977 2.4394038721645135 100 1 -1 -1 0.9901 0.9311 1.0395\n",
      "BO Iteration: 12 / 20\n",
      "\u001b[1m1/1\u001b[0m \u001b[32m━━━━━━━━━━━━━━━━━━━━\u001b[0m\u001b[37m\u001b[0m \u001b[1m0s\u001b[0m 36ms/step\n",
      "para_a / para_b / TP / FP / FN / TN / Precision / Recall / F-beta: 0.006263384591181362 2.435564405515115 122 103 0 -1 0.5422 0.9537 0.8036\n",
      "BO Iteration: 13 / 20\n",
      "\u001b[1m1/1\u001b[0m \u001b[32m━━━━━━━━━━━━━━━━━━━━\u001b[0m\u001b[37m\u001b[0m \u001b[1m0s\u001b[0m 21ms/step\n",
      "para_a / para_b / TP / FP / FN / TN / Precision / Recall / F-beta: 0.013552284268868633 2.866699965836066 100 1 -1 -1 0.9901 0.9280 1.0368\n",
      "BO Iteration: 14 / 20\n",
      "\u001b[1m1/1\u001b[0m \u001b[32m━━━━━━━━━━━━━━━━━━━━\u001b[0m\u001b[37m\u001b[0m \u001b[1m0s\u001b[0m 24ms/step\n",
      "para_a / para_b / TP / FP / FN / TN / Precision / Recall / F-beta: 0.012298695262144596 2.8655774040872535 100 1 -1 -1 0.9901 0.9318 1.0401\n",
      "BO Iteration: 15 / 20\n",
      "\u001b[1m1/1\u001b[0m \u001b[32m━━━━━━━━━━━━━━━━━━━━\u001b[0m\u001b[37m\u001b[0m \u001b[1m0s\u001b[0m 27ms/step\n",
      "para_a / para_b / TP / FP / FN / TN / Precision / Recall / F-beta: 0.0162180927844594 2.9137497238955996 99 1 -1 -1 0.9900 0.9194 1.0294\n",
      "BO Iteration: 16 / 20\n",
      "\u001b[1m1/1\u001b[0m \u001b[32m━━━━━━━━━━━━━━━━━━━━\u001b[0m\u001b[37m\u001b[0m \u001b[1m0s\u001b[0m 28ms/step\n",
      "para_a / para_b / TP / FP / FN / TN / Precision / Recall / F-beta: 0.014656893430976354 2.8896320639390067 99 1 -1 -1 0.9900 0.9244 1.0337\n",
      "BO Iteration: 17 / 20\n",
      "\u001b[1m1/1\u001b[0m \u001b[32m━━━━━━━━━━━━━━━━━━━━\u001b[0m\u001b[37m\u001b[0m \u001b[1m0s\u001b[0m 16ms/step\n",
      "para_a / para_b / TP / FP / FN / TN / Precision / Recall / F-beta: 0.01483157666080338 3.0194078358502257 99 1 -1 -1 0.9900 0.9229 1.0324\n",
      "BO Iteration: 18 / 20\n",
      "\u001b[1m1/1\u001b[0m \u001b[32m━━━━━━━━━━━━━━━━━━━━\u001b[0m\u001b[37m\u001b[0m \u001b[1m0s\u001b[0m 22ms/step\n",
      "para_a / para_b / TP / FP / FN / TN / Precision / Recall / F-beta: 0.016572470056066758 2.9734253633930487 99 1 -1 -1 0.9900 0.9179 1.0281\n",
      "BO Iteration: 19 / 20\n",
      "\u001b[1m1/1\u001b[0m \u001b[32m━━━━━━━━━━━━━━━━━━━━\u001b[0m\u001b[37m\u001b[0m \u001b[1m0s\u001b[0m 27ms/step\n",
      "para_a / para_b / TP / FP / FN / TN / Precision / Recall / F-beta: 0.014131235970525463 2.6918462364167866 100 1 -1 -1 0.9901 0.9275 1.0364\n",
      "BO Iteration: 20 / 20\n"
     ]
    }
   ],
   "source": [
    "# REAL WORLD OPTIMIZATION ITERATIONS\n",
    "for i in range(num_iter):\n",
    "    \n",
    "    update_flg = False\n",
    "    \n",
    "    tmp = np.zeros((1, 7)) # to store objective function value, TP, FP, FN, TN, Precision, Recall\n",
    "    \n",
    "    # (1) use the surrogate model to approach the posterior distribution of the objective function, modeled by Gaussian Process which can be characterized by the mean function and the covariance function\n",
    "    \n",
    "    ## mean, var = mean_var(x, D, 1, 1)\n",
    "    \n",
    "    # (2) determine the next point to evaluate using the acquisition function S(D)\n",
    "    x_eval = optimize_acquisition(D)\n",
    "    \n",
    "    # (3) evaluate the objective function at the next point\n",
    "    tmp = objective_function(x_eval[0,0], x_eval[0,1])\n",
    "    \n",
    "    f_eval = tmp[0]\n",
    "    \n",
    "    # (4) update the dataset D\n",
    "    newpoint = np.zeros((1,3))\n",
    "    newpoint[0,0] = x_eval[0,0]\n",
    "    newpoint[0,1] = x_eval[0,1]\n",
    "    newpoint[0,2] = f_eval\n",
    "    D = np.vstack((D, newpoint))\n",
    "\n",
    "    newpoint_d = np.zeros((1,9))\n",
    "    newpoint_d[0,0] = x_eval[0,0]\n",
    "    newpoint_d[0,1] = x_eval[0,1]\n",
    "    newpoint_d[0,2:] = tmp\n",
    "    DD = np.vstack((DD, newpoint_d))\n",
    "    \n",
    "    # # (5) check the stopping criterion\n",
    "    # gap = np.abs(D[-1, -1] - D[-2, -1])\n",
    "    # if gap < tolerance:\n",
    "    #     break\n",
    "    \n",
    "    # (5) update the global best value\n",
    "    if f_eval > max_val:\n",
    "        max_val = f_eval\n",
    "        max_x = x_eval\n",
    "        update_flg = True\n",
    "    \n",
    "    # (6) print the progress\n",
    "    if (update_flg == True):\n",
    "        print('BO Iteration:', i+1,'/', num_iter, 'Best Value Updated:', max_val, 'at', max_x)\n",
    "    else:\n",
    "        print('BO Iteration:', i+1,'/', num_iter)\n",
    "    \n",
    "    # (7) reset the flag\n",
    "    update_flg = False\n",
    "    "
   ]
  },
  {
   "cell_type": "code",
   "execution_count": 34,
   "metadata": {},
   "outputs": [
    {
     "name": "stdout",
     "output_type": "stream",
     "text": [
      "Number of Data Points in D: 85\n",
      "85\n",
      "Number of Data Points in DD: 85\n",
      "85\n"
     ]
    }
   ],
   "source": [
    "# number of points in D and DD\n",
    "print('Number of Data Points in D:', D.shape[0])\n",
    "print(D.shape[0])\n",
    "\n",
    "print('Number of Data Points in DD:', DD.shape[0])\n",
    "print(DD.shape[0])"
   ]
  },
  {
   "cell_type": "code",
   "execution_count": 35,
   "metadata": {},
   "outputs": [
    {
     "data": {
      "image/png": "[encoded data removed]",
      "text/plain": [
       "<Figure size 640x480 with 1 Axes>"
      ]
     },
     "metadata": {},
     "output_type": "display_data"
    }
   ],
   "source": [
    "# Visualization\n",
    "# stem plot\n",
    "\n",
    "# Assuming D is already defined and contains your data\n",
    "# D[:, 0] -> threshold\n",
    "# D[:, 1] -> duration\n",
    "# D[:, 2] -> F-beta score\n",
    "\n",
    "fig = plt.figure()\n",
    "ax = fig.add_subplot(111, projection='3d')\n",
    "ax.set_xlabel('threshold')\n",
    "ax.set_ylabel('duration')\n",
    "ax.set_zlabel('F-beta score')\n",
    "ax.set_xlim(0, 1.1*ub_a)\n",
    "ax.set_ylim(0, 1.1*ub_b)\n",
    "ax.set_zlim(0, bonus_factor)\n",
    "\n",
    "# Create stem plot\n",
    "for i in range(D.shape[0]):\n",
    "    x = D[i, 0]\n",
    "    y = D[i, 1]\n",
    "    z = D[i, 2]\n",
    "    ax.plot([x, x], [y, y], [0, z], 'k--')\n",
    "    ax.scatter(x, y, z, c='b', marker='o')\n",
    "    ax.text(x, y, z, str(i), color='black')\n",
    "\n",
    "plt.show()\n"
   ]
  },
  {
   "cell_type": "code",
   "execution_count": 36,
   "metadata": {},
   "outputs": [
    {
     "name": "stdout",
     "output_type": "stream",
     "text": [
      "1.0364085325397456\n",
      "1.0885063668104336\n",
      "[0.0141574 2.4576509]\n",
      "5\n"
     ]
    }
   ],
   "source": [
    "# print the final value\n",
    "print(D[-1, -1])\n",
    "\n",
    "# print the max value\n",
    "print(np.max(D[:, -1]))\n",
    "\n",
    "# print the argmax\n",
    "print(D[np.argmax(D[:, -1]), :-1])\n",
    "\n",
    "# print the row index of the max value\n",
    "print(np.argmax(D[:, -1]))"
   ]
  },
  {
   "cell_type": "code",
   "execution_count": 37,
   "metadata": {},
   "outputs": [],
   "source": [
    "# save lb_a, ub_a, lb_b, ub_b, noise_lvl, k_alpha, k_lambda, num_init_points, num_iter, tolerance, ucb_beta\n",
    "np.save('config.npy', np.array([lb_a, ub_a, lb_b, ub_b, noise_lvl, k_alpha, k_lambda, num_init_points, num_iter, tolerance, ucb_beta]))\n",
    "\n",
    "# save D to a file\n",
    "np.save('D.npy', D)\n",
    "\n",
    "# save DD to a file\n",
    "np.save('DD.npy', DD)"
   ]
  },
  {
   "cell_type": "markdown",
   "metadata": {},
   "source": [
    "## POST PROCESSING"
   ]
  },
  {
   "cell_type": "code",
   "execution_count": 38,
   "metadata": {},
   "outputs": [],
   "source": [
    "# COMMON\n",
    "import numpy as np\n",
    "import sys\n",
    "import os\n",
    "import random\n",
    "import time\n",
    "import datetime\n",
    "import pandas as pd\n",
    "import matplotlib.pyplot as plt\n",
    "\n",
    "# Triggering Mechanism\n",
    "import triggering as trig\n",
    "\n",
    "# Signal Processing\n",
    "from scipy import signal  # for signal processing\n",
    "from scipy.signal import hilbert  # for signal processing\n",
    "import prenn # for deep learning\n",
    "\n",
    "# AI\n",
    "import keras\n",
    "\n",
    "import tensorflow as tf # for deep learning\n",
    "from keras.models import Sequential\n",
    "from keras.layers import Conv1D, MaxPooling1D, Flatten, Dense, Dropout\n",
    "from keras.callbacks import TensorBoard # for visualization\n",
    "\n",
    "import onnxruntime as ort # for onnx runtime\n",
    "\n",
    "# Visualization\n",
    "# %matplotlib qt5\n",
    "import matplotlib.pyplot as plt\n",
    "from mpl_toolkits.mplot3d import Axes3D\n",
    "from matplotlib.animation import FuncAnimation"
   ]
  },
  {
   "cell_type": "code",
   "execution_count": 39,
   "metadata": {},
   "outputs": [
    {
     "name": "stdout",
     "output_type": "stream",
     "text": [
      "Number of Data Points in Virtual Environment: 65\n"
     ]
    }
   ],
   "source": [
    "# load data in STAGE II - D\n",
    "DV_Path = r\"../01-PRE-DEPLOYMENT/05-PRE-OPTIMIZATION/D.npy\"\n",
    "\n",
    "DV = np.load(DV_Path)\n",
    "\n",
    "stage_virtual_num = DV.shape[0]\n",
    "\n",
    "print('Number of Data Points in Virtual Environment:', stage_virtual_num)"
   ]
  },
  {
   "cell_type": "code",
   "execution_count": 40,
   "metadata": {},
   "outputs": [],
   "source": [
    "DD = np.load('DD.npy')"
   ]
  },
  {
   "cell_type": "code",
   "execution_count": 41,
   "metadata": {},
   "outputs": [
    {
     "data": {
      "application/vnd.plotly.v1+json": {
       "config": {
        "plotlyServerURL": "https://plot.ly"
       },
       "data": [
        {
         "marker": {
          "color": [
           1.0468654512120594,
           0.8024691358024691,
           0.910958904109589,
           0.8112708018154312,
           1.0618989180524945,
           1.0885063668104336,
           0.8839418777943369,
           0.8024691358024691,
           1.079140866873065,
           0.8024691358024691,
           0.8024691358024691,
           1.0857271325796507,
           0.7834120360202065,
           1.0858302601925836,
           0.7543485486372701,
           0.8062977099236641,
           1.035202801588961,
           1.0627978040190595,
           0.8024691358024691,
           0.9553128103277061,
           1.0800769309150193,
           0.8920418347844553,
           0.8024691358024691,
           0.8024691358024691,
           0.8024691358024691,
           0.8024691358024691,
           0.8024691358024691,
           1.0164363043935254,
           0.8034544859201048,
           1.0875642343268244,
           1.0534832762442072,
           0.8024691358024691,
           0.80697645498259,
           0.8274647887323944,
           1.0852284420662688,
           1.0861736582356571,
           0.8024691358024691,
           1.0814909297052155,
           0.9015972351952176,
           0.9496124031007752,
           1.0871666666666666,
           0.8064516129032258,
           0.9462915601023018,
           0.8024691358024691,
           0.897999153080669,
           0.9507807867167425,
           0.8024691358024691,
           0.9200694590612503,
           1.0222324239244491,
           0.8064214463840399,
           1.0861736582356571,
           0.8075037394050191,
           1.0871666666666666,
           0.8024691358024691,
           1.0793905064588887,
           0.8024691358024691,
           0.8545034642032333,
           1.0796485260770976,
           1.0744939062177237,
           0.8787388291081525,
           0.9001006142766363,
           1.0791352233326534,
           0.8906947100063735,
           0.8024691358024691,
           0.8024691358024691
          ],
          "colorscale": [
           [
            0,
            "rgb(255, 200, 200)"
           ],
           [
            1,
            "rgb(139, 0, 0)"
           ]
          ],
          "showscale": false,
          "size": 10
         },
         "mode": "markers",
         "name": "Virtual Environment Optimization",
         "showlegend": false,
         "type": "scatter3d",
         "x": [
          0.008520464154898827,
          0.002498445835063785,
          0.010352718761184229,
          0.005469766153310339,
          0.011545031757382642,
          0.014157399024895344,
          0.016922962096950867,
          0.0038991117418152666,
          0.015990728023131857,
          0.0030555979578164483,
          0.0007886691933233749,
          0.012773597053837644,
          0.01620288817426829,
          0.013534871254022711,
          0.01579303577665131,
          0.0140186427479993,
          0.01678512649990253,
          0.012592295204648007,
          0.0006822117639942591,
          0.01004044902734024,
          0.012455447551992656,
          0.016784547471361017,
          0.0007037129226078446,
          0.0015249492517702434,
          0.002606103259796311,
          0.00011731847340684406,
          0.0020133088355153254,
          0.015671408159384587,
          0.01654422365343768,
          0.014427094729685123,
          0.008496304487007928,
          0.0027060056250518398,
          0.006880572387787995,
          0.013598232588838688,
          0.014873101115073529,
          0.013065230282964212,
          0.001094420536283616,
          0.015488059733913762,
          0.008834526822662914,
          0.007740362490397525,
          0.01377909015779195,
          0.0034241022135307686,
          0.009149817858687518,
          0.00011377119485877935,
          0.010815944251828778,
          0.009248236644577475,
          0.0013608671905291862,
          0.017523670063155784,
          0.015470211238020249,
          0.005522141083421319,
          0.01462518584489807,
          0.004510166446382278,
          0.01372145255552028,
          0.0020869128042257062,
          0.010935637287601876,
          0.0012653997004810741,
          0.005655516987180814,
          0.014060974781667629,
          0.014787804891676798,
          0.009246981500111832,
          0.016589696376593074,
          0.01052731653303675,
          0.015328831324717069,
          0.0009244947402929283,
          0.0019039030706241664
         ],
         "y": [
          9.8222395544976,
          7.8396344830163684,
          9.338677580695263,
          7.153200469475296,
          2.145774940866252,
          2.457650904200464,
          4.495755852506415,
          2.113882306233366,
          2.558013154344019,
          2.3950990207745333,
          5.840136403262463,
          3.600258810659584,
          7.428304035659665,
          2.388224876285056,
          9.676420199656699,
          8.555031416636872,
          3.2527354091096052,
          5.173076973776223,
          6.581263173306458,
          4.0276624255018385,
          2.9448402955590547,
          4.928193597650122,
          3.031559062378162,
          9.958645802242481,
          5.42289038491815,
          8.96932735204011,
          3.6250699622983866,
          4.252951919405126,
          6.218672474083844,
          2.7257315808721057,
          8.17738856479358,
          4.599866785495014,
          2.010030092615133,
          8.17158438522782,
          2.7744929811039283,
          3.910063801030839,
          3.3396147300362244,
          2.688122120879206,
          4.025766780002025,
          9.993791256334694,
          2.686207636680429,
          6.8757557858804175,
          5.118342130444591,
          2.71866754491257,
          9.406592984587256,
          5.548062988629595,
          8.683209342446524,
          3.7227327461429534,
          4.918160397591338,
          4.197417223245797,
          2.4880742089777144,
          7.738608437153955,
          2.9539850609655893,
          2.5578512775480116,
          5.25405732087629,
          5.2338290015434765,
          9.985866924761176,
          3.0067640198851535,
          3.1216946161956827,
          3.3737408906299846,
          4.797087083173617,
          5.952966594140159,
          5.715632503764317,
          6.287704620703892,
          2.8651722443237118
         ],
         "z": [
          1.0468654512120594,
          0.8024691358024691,
          0.910958904109589,
          0.8112708018154312,
          1.0618989180524945,
          1.0885063668104336,
          0.8839418777943369,
          0.8024691358024691,
          1.079140866873065,
          0.8024691358024691,
          0.8024691358024691,
          1.0857271325796507,
          0.7834120360202065,
          1.0858302601925836,
          0.7543485486372701,
          0.8062977099236641,
          1.035202801588961,
          1.0627978040190595,
          0.8024691358024691,
          0.9553128103277061,
          1.0800769309150193,
          0.8920418347844553,
          0.8024691358024691,
          0.8024691358024691,
          0.8024691358024691,
          0.8024691358024691,
          0.8024691358024691,
          1.0164363043935254,
          0.8034544859201048,
          1.0875642343268244,
          1.0534832762442072,
          0.8024691358024691,
          0.80697645498259,
          0.8274647887323944,
          1.0852284420662688,
          1.0861736582356571,
          0.8024691358024691,
          1.0814909297052155,
          0.9015972351952176,
          0.9496124031007752,
          1.0871666666666666,
          0.8064516129032258,
          0.9462915601023018,
          0.8024691358024691,
          0.897999153080669,
          0.9507807867167425,
          0.8024691358024691,
          0.9200694590612503,
          1.0222324239244491,
          0.8064214463840399,
          1.0861736582356571,
          0.8075037394050191,
          1.0871666666666666,
          0.8024691358024691,
          1.0793905064588887,
          0.8024691358024691,
          0.8545034642032333,
          1.0796485260770976,
          1.0744939062177237,
          0.8787388291081525,
          0.9001006142766363,
          1.0791352233326534,
          0.8906947100063735,
          0.8024691358024691,
          0.8024691358024691
         ]
        },
        {
         "marker": {
          "color": [
           1.0374484651362148,
           1.0353654691984462,
           1.0372500824156894,
           1.0414026395142477,
           1.0410072383209952,
           1.0306387976237208,
           1.0334424400428646,
           1.0425614295069006,
           1.042706325971826,
           1.0337195614387875,
           0.9251483362967214,
           1.0394972976193655,
           0.8035970387372242,
           1.0367913480802962,
           1.0400969301994865,
           1.0294234098932626,
           1.0337055659788967,
           1.0323949973852162,
           1.028094102462577,
           1.0364085325397456
          ],
          "colorscale": [
           [
            0,
            "rgb(200, 200, 255)"
           ],
           [
            1,
            "rgb(0, 0, 139)"
           ]
          ],
          "showscale": false,
          "size": 10
         },
         "mode": "markers",
         "name": "Real World Optimization",
         "showlegend": false,
         "type": "scatter3d",
         "x": [
          0.013956590538446298,
          0.014621714816655567,
          0.014202042641013362,
          0.012198851406083644,
          0.010975265655349299,
          0.015844151755179708,
          0.014989743915163134,
          0.01046987111256842,
          0.01184970901740269,
          0.015321430900450185,
          0.008451028303450693,
          0.013583697371721977,
          0.006263384591181362,
          0.013552284268868633,
          0.012298695262144596,
          0.0162180927844594,
          0.014656893430976354,
          0.01483157666080338,
          0.016572470056066758,
          0.014131235970525463
         ],
         "y": [
          2.6030411895886623,
          2.6499912212487233,
          2.5344540672956137,
          2.7127711421345877,
          2.5744948546800046,
          2.879176347759631,
          2.7956249970490905,
          2.5469346084306297,
          2.656915525538145,
          2.6195251698097923,
          2.7590787909162993,
          2.4394038721645135,
          2.435564405515115,
          2.866699965836066,
          2.8655774040872535,
          2.9137497238955996,
          2.8896320639390067,
          3.0194078358502257,
          2.9734253633930487,
          2.6918462364167866
         ],
         "z": [
          1.0374484651362148,
          1.0353654691984462,
          1.0372500824156894,
          1.0414026395142477,
          1.0410072383209952,
          1.0306387976237208,
          1.0334424400428646,
          1.0425614295069006,
          1.042706325971826,
          1.0337195614387875,
          0.9251483362967214,
          1.0394972976193655,
          0.8035970387372242,
          1.0367913480802962,
          1.0400969301994865,
          1.0294234098932626,
          1.0337055659788967,
          1.0323949973852162,
          1.028094102462577,
          1.0364085325397456
         ]
        }
       ],
       "layout": {
        "autosize": false,
        "font": {
         "color": "black",
         "family": "Times New Roman",
         "size": 18
        },
        "height": 1600,
        "scene": {
         "camera": {
          "eye": {
           "x": 1.25,
           "y": 1.25,
           "z": 1.25
          },
          "projection": {
           "type": "perspective"
          }
         },
         "xaxis": {
          "range": [
           0,
           0.018
          ],
          "tickfont": {
           "color": "black",
           "family": "Times New Roman",
           "size": 18
          },
          "title": {
           "font": {
            "color": "black",
            "family": "Times New Roman",
            "size": 30
           },
           "text": "Threshold"
          }
         },
         "yaxis": {
          "range": [
           0,
           11
          ],
          "tickfont": {
           "color": "black",
           "family": "Times New Roman",
           "size": 18
          },
          "title": {
           "font": {
            "color": "black",
            "family": "Times New Roman",
            "size": 30
           },
           "text": "Duration"
          }
         },
         "zaxis": {
          "range": [
           0,
           1.2
          ],
          "tickfont": {
           "color": "black",
           "family": "Times New Roman",
           "size": 18
          },
          "title": {
           "font": {
            "color": "black",
            "family": "Times New Roman",
            "size": 30
           },
           "text": "F-beta"
          }
         }
        },
        "showlegend": false,
        "template": {
         "data": {
          "bar": [
           {
            "error_x": {
             "color": "#2a3f5f"
            },
            "error_y": {
             "color": "#2a3f5f"
            },
            "marker": {
             "line": {
              "color": "#E5ECF6",
              "width": 0.5
             },
             "pattern": {
              "fillmode": "overlay",
              "size": 10,
              "solidity": 0.2
             }
            },
            "type": "bar"
           }
          ],
          "barpolar": [
           {
            "marker": {
             "line": {
              "color": "#E5ECF6",
              "width": 0.5
             },
             "pattern": {
              "fillmode": "overlay",
              "size": 10,
              "solidity": 0.2
             }
            },
            "type": "barpolar"
           }
          ],
          "carpet": [
           {
            "aaxis": {
             "endlinecolor": "#2a3f5f",
             "gridcolor": "white",
             "linecolor": "white",
             "minorgridcolor": "white",
             "startlinecolor": "#2a3f5f"
            },
            "baxis": {
             "endlinecolor": "#2a3f5f",
             "gridcolor": "white",
             "linecolor": "white",
             "minorgridcolor": "white",
             "startlinecolor": "#2a3f5f"
            },
            "type": "carpet"
           }
          ],
          "choropleth": [
           {
            "colorbar": {
             "outlinewidth": 0,
             "ticks": ""
            },
            "type": "choropleth"
           }
          ],
          "contour": [
           {
            "colorbar": {
             "outlinewidth": 0,
             "ticks": ""
            },
            "colorscale": [
             [
              0,
              "#0d0887"
             ],
             [
              0.1111111111111111,
              "#46039f"
             ],
             [
              0.2222222222222222,
              "#7201a8"
             ],
             [
              0.3333333333333333,
              "#9c179e"
             ],
             [
              0.4444444444444444,
              "#bd3786"
             ],
             [
              0.5555555555555556,
              "#d8576b"
             ],
             [
              0.6666666666666666,
              "#ed7953"
             ],
             [
              0.7777777777777778,
              "#fb9f3a"
             ],
             [
              0.8888888888888888,
              "#fdca26"
             ],
             [
              1,
              "#f0f921"
             ]
            ],
            "type": "contour"
           }
          ],
          "contourcarpet": [
           {
            "colorbar": {
             "outlinewidth": 0,
             "ticks": ""
            },
            "type": "contourcarpet"
           }
          ],
          "heatmap": [
           {
            "colorbar": {
             "outlinewidth": 0,
             "ticks": ""
            },
            "colorscale": [
             [
              0,
              "#0d0887"
             ],
             [
              0.1111111111111111,
              "#46039f"
             ],
             [
              0.2222222222222222,
              "#7201a8"
             ],
             [
              0.3333333333333333,
              "#9c179e"
             ],
             [
              0.4444444444444444,
              "#bd3786"
             ],
             [
              0.5555555555555556,
              "#d8576b"
             ],
             [
              0.6666666666666666,
              "#ed7953"
             ],
             [
              0.7777777777777778,
              "#fb9f3a"
             ],
             [
              0.8888888888888888,
              "#fdca26"
             ],
             [
              1,
              "#f0f921"
             ]
            ],
            "type": "heatmap"
           }
          ],
          "heatmapgl": [
           {
            "colorbar": {
             "outlinewidth": 0,
             "ticks": ""
            },
            "colorscale": [
             [
              0,
              "#0d0887"
             ],
             [
              0.1111111111111111,
              "#46039f"
             ],
             [
              0.2222222222222222,
              "#7201a8"
             ],
             [
              0.3333333333333333,
              "#9c179e"
             ],
             [
              0.4444444444444444,
              "#bd3786"
             ],
             [
              0.5555555555555556,
              "#d8576b"
             ],
             [
              0.6666666666666666,
              "#ed7953"
             ],
             [
              0.7777777777777778,
              "#fb9f3a"
             ],
             [
              0.8888888888888888,
              "#fdca26"
             ],
             [
              1,
              "#f0f921"
             ]
            ],
            "type": "heatmapgl"
           }
          ],
          "histogram": [
           {
            "marker": {
             "pattern": {
              "fillmode": "overlay",
              "size": 10,
              "solidity": 0.2
             }
            },
            "type": "histogram"
           }
          ],
          "histogram2d": [
           {
            "colorbar": {
             "outlinewidth": 0,
             "ticks": ""
            },
            "colorscale": [
             [
              0,
              "#0d0887"
             ],
             [
              0.1111111111111111,
              "#46039f"
             ],
             [
              0.2222222222222222,
              "#7201a8"
             ],
             [
              0.3333333333333333,
              "#9c179e"
             ],
             [
              0.4444444444444444,
              "#bd3786"
             ],
             [
              0.5555555555555556,
              "#d8576b"
             ],
             [
              0.6666666666666666,
              "#ed7953"
             ],
             [
              0.7777777777777778,
              "#fb9f3a"
             ],
             [
              0.8888888888888888,
              "#fdca26"
             ],
             [
              1,
              "#f0f921"
             ]
            ],
            "type": "histogram2d"
           }
          ],
          "histogram2dcontour": [
           {
            "colorbar": {
             "outlinewidth": 0,
             "ticks": ""
            },
            "colorscale": [
             [
              0,
              "#0d0887"
             ],
             [
              0.1111111111111111,
              "#46039f"
             ],
             [
              0.2222222222222222,
              "#7201a8"
             ],
             [
              0.3333333333333333,
              "#9c179e"
             ],
             [
              0.4444444444444444,
              "#bd3786"
             ],
             [
              0.5555555555555556,
              "#d8576b"
             ],
             [
              0.6666666666666666,
              "#ed7953"
             ],
             [
              0.7777777777777778,
              "#fb9f3a"
             ],
             [
              0.8888888888888888,
              "#fdca26"
             ],
             [
              1,
              "#f0f921"
             ]
            ],
            "type": "histogram2dcontour"
           }
          ],
          "mesh3d": [
           {
            "colorbar": {
             "outlinewidth": 0,
             "ticks": ""
            },
            "type": "mesh3d"
           }
          ],
          "parcoords": [
           {
            "line": {
             "colorbar": {
              "outlinewidth": 0,
              "ticks": ""
             }
            },
            "type": "parcoords"
           }
          ],
          "pie": [
           {
            "automargin": true,
            "type": "pie"
           }
          ],
          "scatter": [
           {
            "fillpattern": {
             "fillmode": "overlay",
             "size": 10,
             "solidity": 0.2
            },
            "type": "scatter"
           }
          ],
          "scatter3d": [
           {
            "line": {
             "colorbar": {
              "outlinewidth": 0,
              "ticks": ""
             }
            },
            "marker": {
             "colorbar": {
              "outlinewidth": 0,
              "ticks": ""
             }
            },
            "type": "scatter3d"
           }
          ],
          "scattercarpet": [
           {
            "marker": {
             "colorbar": {
              "outlinewidth": 0,
              "ticks": ""
             }
            },
            "type": "scattercarpet"
           }
          ],
          "scattergeo": [
           {
            "marker": {
             "colorbar": {
              "outlinewidth": 0,
              "ticks": ""
             }
            },
            "type": "scattergeo"
           }
          ],
          "scattergl": [
           {
            "marker": {
             "colorbar": {
              "outlinewidth": 0,
              "ticks": ""
             }
            },
            "type": "scattergl"
           }
          ],
          "scattermapbox": [
           {
            "marker": {
             "colorbar": {
              "outlinewidth": 0,
              "ticks": ""
             }
            },
            "type": "scattermapbox"
           }
          ],
          "scatterpolar": [
           {
            "marker": {
             "colorbar": {
              "outlinewidth": 0,
              "ticks": ""
             }
            },
            "type": "scatterpolar"
           }
          ],
          "scatterpolargl": [
           {
            "marker": {
             "colorbar": {
              "outlinewidth": 0,
              "ticks": ""
             }
            },
            "type": "scatterpolargl"
           }
          ],
          "scatterternary": [
           {
            "marker": {
             "colorbar": {
              "outlinewidth": 0,
              "ticks": ""
             }
            },
            "type": "scatterternary"
           }
          ],
          "surface": [
           {
            "colorbar": {
             "outlinewidth": 0,
             "ticks": ""
            },
            "colorscale": [
             [
              0,
              "#0d0887"
             ],
             [
              0.1111111111111111,
              "#46039f"
             ],
             [
              0.2222222222222222,
              "#7201a8"
             ],
             [
              0.3333333333333333,
              "#9c179e"
             ],
             [
              0.4444444444444444,
              "#bd3786"
             ],
             [
              0.5555555555555556,
              "#d8576b"
             ],
             [
              0.6666666666666666,
              "#ed7953"
             ],
             [
              0.7777777777777778,
              "#fb9f3a"
             ],
             [
              0.8888888888888888,
              "#fdca26"
             ],
             [
              1,
              "#f0f921"
             ]
            ],
            "type": "surface"
           }
          ],
          "table": [
           {
            "cells": {
             "fill": {
              "color": "#EBF0F8"
             },
             "line": {
              "color": "white"
             }
            },
            "header": {
             "fill": {
              "color": "#C8D4E3"
             },
             "line": {
              "color": "white"
             }
            },
            "type": "table"
           }
          ]
         },
         "layout": {
          "annotationdefaults": {
           "arrowcolor": "#2a3f5f",
           "arrowhead": 0,
           "arrowwidth": 1
          },
          "autotypenumbers": "strict",
          "coloraxis": {
           "colorbar": {
            "outlinewidth": 0,
            "ticks": ""
           }
          },
          "colorscale": {
           "diverging": [
            [
             0,
             "#8e0152"
            ],
            [
             0.1,
             "#c51b7d"
            ],
            [
             0.2,
             "#de77ae"
            ],
            [
             0.3,
             "#f1b6da"
            ],
            [
             0.4,
             "#fde0ef"
            ],
            [
             0.5,
             "#f7f7f7"
            ],
            [
             0.6,
             "#e6f5d0"
            ],
            [
             0.7,
             "#b8e186"
            ],
            [
             0.8,
             "#7fbc41"
            ],
            [
             0.9,
             "#4d9221"
            ],
            [
             1,
             "#276419"
            ]
           ],
           "sequential": [
            [
             0,
             "#0d0887"
            ],
            [
             0.1111111111111111,
             "#46039f"
            ],
            [
             0.2222222222222222,
             "#7201a8"
            ],
            [
             0.3333333333333333,
             "#9c179e"
            ],
            [
             0.4444444444444444,
             "#bd3786"
            ],
            [
             0.5555555555555556,
             "#d8576b"
            ],
            [
             0.6666666666666666,
             "#ed7953"
            ],
            [
             0.7777777777777778,
             "#fb9f3a"
            ],
            [
             0.8888888888888888,
             "#fdca26"
            ],
            [
             1,
             "#f0f921"
            ]
           ],
           "sequentialminus": [
            [
             0,
             "#0d0887"
            ],
            [
             0.1111111111111111,
             "#46039f"
            ],
            [
             0.2222222222222222,
             "#7201a8"
            ],
            [
             0.3333333333333333,
             "#9c179e"
            ],
            [
             0.4444444444444444,
             "#bd3786"
            ],
            [
             0.5555555555555556,
             "#d8576b"
            ],
            [
             0.6666666666666666,
             "#ed7953"
            ],
            [
             0.7777777777777778,
             "#fb9f3a"
            ],
            [
             0.8888888888888888,
             "#fdca26"
            ],
            [
             1,
             "#f0f921"
            ]
           ]
          },
          "colorway": [
           "#636efa",
           "#EF553B",
           "#00cc96",
           "#ab63fa",
           "#FFA15A",
           "#19d3f3",
           "#FF6692",
           "#B6E880",
           "#FF97FF",
           "#FECB52"
          ],
          "font": {
           "color": "#2a3f5f"
          },
          "geo": {
           "bgcolor": "white",
           "lakecolor": "white",
           "landcolor": "#E5ECF6",
           "showlakes": true,
           "showland": true,
           "subunitcolor": "white"
          },
          "hoverlabel": {
           "align": "left"
          },
          "hovermode": "closest",
          "mapbox": {
           "style": "light"
          },
          "paper_bgcolor": "white",
          "plot_bgcolor": "#E5ECF6",
          "polar": {
           "angularaxis": {
            "gridcolor": "white",
            "linecolor": "white",
            "ticks": ""
           },
           "bgcolor": "#E5ECF6",
           "radialaxis": {
            "gridcolor": "white",
            "linecolor": "white",
            "ticks": ""
           }
          },
          "scene": {
           "xaxis": {
            "backgroundcolor": "#E5ECF6",
            "gridcolor": "white",
            "gridwidth": 2,
            "linecolor": "white",
            "showbackground": true,
            "ticks": "",
            "zerolinecolor": "white"
           },
           "yaxis": {
            "backgroundcolor": "#E5ECF6",
            "gridcolor": "white",
            "gridwidth": 2,
            "linecolor": "white",
            "showbackground": true,
            "ticks": "",
            "zerolinecolor": "white"
           },
           "zaxis": {
            "backgroundcolor": "#E5ECF6",
            "gridcolor": "white",
            "gridwidth": 2,
            "linecolor": "white",
            "showbackground": true,
            "ticks": "",
            "zerolinecolor": "white"
           }
          },
          "shapedefaults": {
           "line": {
            "color": "#2a3f5f"
           }
          },
          "ternary": {
           "aaxis": {
            "gridcolor": "white",
            "linecolor": "white",
            "ticks": ""
           },
           "baxis": {
            "gridcolor": "white",
            "linecolor": "white",
            "ticks": ""
           },
           "bgcolor": "#E5ECF6",
           "caxis": {
            "gridcolor": "white",
            "linecolor": "white",
            "ticks": ""
           }
          },
          "title": {
           "x": 0.05
          },
          "xaxis": {
           "automargin": true,
           "gridcolor": "white",
           "linecolor": "white",
           "ticks": "",
           "title": {
            "standoff": 15
           },
           "zerolinecolor": "white",
           "zerolinewidth": 2
          },
          "yaxis": {
           "automargin": true,
           "gridcolor": "white",
           "linecolor": "white",
           "ticks": "",
           "title": {
            "standoff": 15
           },
           "zerolinecolor": "white",
           "zerolinewidth": 2
          }
         }
        },
        "width": 1600
       }
      }
     },
     "metadata": {},
     "output_type": "display_data"
    }
   ],
   "source": [
    "import plotly.graph_objects as go\n",
    "import numpy as np\n",
    "\n",
    "# Load the data\n",
    "D = np.load('D.npy')\n",
    "\n",
    "# Get the number of rows in D\n",
    "num_D = D.shape[0]\n",
    "\n",
    "# Define stage_virtual_num to determine the cutoff for red vs. blue\n",
    "stage_virtual_num = 65  # Set your desired value for stage_virtual_num, ensure it's an integer\n",
    "\n",
    "# -----------------------\n",
    "# Customization variables:\n",
    "# -----------------------\n",
    "FONT_FAMILY = 'Times New Roman'    # Global font family\n",
    "GLOBAL_FONT_SIZE = 18              # Global font size for texts\n",
    "AXIS_TITLE_FONT_SIZE = 30          # Font size for axis titles\n",
    "TICK_FONT_SIZE = 18                # Font size for axis tick labels\n",
    "MARKER_SIZE = 10                   # Marker size for scatter points (enlarged for better visibility)\n",
    "\n",
    "# Color definitions for the red and blue color scales:\n",
    "RED_LIGHT = 'rgb(255, 200, 200)'     # Light red\n",
    "RED_DARK = 'rgb(139, 0, 0)'           # Dark red\n",
    "BLUE_LIGHT = 'rgb(200, 200, 255)'     # Light blue\n",
    "BLUE_DARK = 'rgb(0, 0, 139)'          # Dark blue\n",
    "\n",
    "# -----------------------\n",
    "# Split the data into parts\n",
    "# -----------------------\n",
    "thresholds = D[:, 0]\n",
    "durations = D[:, 1]\n",
    "F_beta = D[:, 2]\n",
    "\n",
    "# Create a 3D scatter plot\n",
    "fig = go.Figure()\n",
    "\n",
    "# Define red color scale using the customization variables\n",
    "red_colorscale = [\n",
    "    [0.0, RED_LIGHT],\n",
    "    [1.0, RED_DARK]\n",
    "]\n",
    "\n",
    "# Add red-colored points for the first stage_virtual_num data\n",
    "fig.add_trace(go.Scatter3d(\n",
    "    x=thresholds[:stage_virtual_num],      # x-axis data (first part)\n",
    "    y=durations[:stage_virtual_num],         # y-axis data (first part)\n",
    "    z=F_beta[:stage_virtual_num],            # z-axis data (first part)\n",
    "    mode='markers',\n",
    "    marker=dict(\n",
    "        size=MARKER_SIZE,\n",
    "        color=F_beta[:stage_virtual_num],    # color determined by F-beta values\n",
    "        colorscale=red_colorscale,\n",
    "        showscale=False                      # Cancel colorbar\n",
    "    ),\n",
    "    name='Virtual Environment Optimization',\n",
    "    showlegend=False                         # Cancel legend\n",
    "))\n",
    "\n",
    "# Define blue color scale using the customization variables\n",
    "blue_colorscale = [\n",
    "    [0.0, BLUE_LIGHT],\n",
    "    [1.0, BLUE_DARK]\n",
    "]\n",
    "\n",
    "# Add blue-colored points for the remaining data\n",
    "fig.add_trace(go.Scatter3d(\n",
    "    x=thresholds[stage_virtual_num:],      # x-axis data (second part)\n",
    "    y=durations[stage_virtual_num:],         # y-axis data (second part)\n",
    "    z=F_beta[stage_virtual_num:],            # z-axis data (second part)\n",
    "    mode='markers',\n",
    "    marker=dict(\n",
    "        size=MARKER_SIZE,\n",
    "        color=F_beta[stage_virtual_num:],    # color determined by F-beta values\n",
    "        colorscale=blue_colorscale,\n",
    "        showscale=False                      # Cancel colorbar\n",
    "    ),\n",
    "    name='Real World Optimization',\n",
    "    showlegend=False                         # Cancel legend\n",
    "))\n",
    "\n",
    "# Set axis labels, fonts, axis limits, and ranges\n",
    "fig.update_layout(\n",
    "    scene=dict(\n",
    "        xaxis=dict(\n",
    "            title='Threshold',\n",
    "            titlefont=dict(family=FONT_FAMILY, size=AXIS_TITLE_FONT_SIZE, color='black'),\n",
    "            tickfont=dict(family=FONT_FAMILY, size=TICK_FONT_SIZE, color='black'),\n",
    "            range=[0, 0.018]   # x-axis range\n",
    "        ),\n",
    "        yaxis=dict(\n",
    "            title='Duration',\n",
    "            titlefont=dict(family=FONT_FAMILY, size=AXIS_TITLE_FONT_SIZE, color='black'),\n",
    "            tickfont=dict(family=FONT_FAMILY, size=TICK_FONT_SIZE, color='black'),\n",
    "            range=[0, 11]     # y-axis range\n",
    "        ),\n",
    "        zaxis=dict(\n",
    "            title='F-beta',\n",
    "            titlefont=dict(family=FONT_FAMILY, size=AXIS_TITLE_FONT_SIZE, color='black'),\n",
    "            tickfont=dict(family=FONT_FAMILY, size=TICK_FONT_SIZE, color='black'),\n",
    "            range=[0.0, 1.2]  # z-axis range\n",
    "        ),\n",
    "        camera=dict(\n",
    "            eye=dict(x=1.25, y=1.25, z=1.25),\n",
    "            projection=dict(type=\"perspective\")  # Use perspective projection\n",
    "        )\n",
    "    ),\n",
    "    font=dict(family=FONT_FAMILY, size=GLOBAL_FONT_SIZE, color='black'),  # Global font settings\n",
    "    autosize=False,\n",
    "    width=1600,   # Figure width in pixels\n",
    "    height=1600,  # Figure height in pixels\n",
    "    showlegend=False  # Global setting to cancel legend\n",
    ")\n",
    "\n",
    "# Show the plot\n",
    "fig.show()\n"
   ]
  },
  {
   "cell_type": "code",
   "execution_count": 42,
   "metadata": {},
   "outputs": [],
   "source": [
    "# Save the figure as a static image with the name \"virtual.png\"\n",
    "# fig.write_image(\"real.png\")"
   ]
  },
  {
   "cell_type": "code",
   "execution_count": 43,
   "metadata": {},
   "outputs": [
    {
     "data": {
      "image/png": "[encoded data removed]",
      "text/plain": [
       "<Figure size 640x480 with 1 Axes>"
      ]
     },
     "metadata": {},
     "output_type": "display_data"
    }
   ],
   "source": [
    "bonus_factor = 1.1\n",
    "# plot F-beta score with respect to the number of iterations\n",
    "plt.plot(D[:, 2])\n",
    "plt.xlabel('Number of Iterations')\n",
    "plt.ylabel('F-beta Score')\n",
    "plt.title('F-beta Score with Respect to the Number of Iterations')\n",
    "# y starts from 0\n",
    "plt.ylim(0, bonus_factor)\n",
    "plt.show()"
   ]
  },
  {
   "cell_type": "code",
   "execution_count": 44,
   "metadata": {},
   "outputs": [
    {
     "data": {
      "image/png": "[encoded data removed]",
      "text/plain": [
       "<Figure size 640x480 with 1 Axes>"
      ]
     },
     "metadata": {},
     "output_type": "display_data"
    }
   ],
   "source": [
    "# track the largest F-beta score going through the iterations\n",
    "max_F_beta = np.zeros(D.shape[0])\n",
    "for i in range(D.shape[0]):\n",
    "    max_F_beta[i] = np.max(D[:i+1, 2])\n",
    "\n",
    "# plot the max_F_beta, the horizontal axis is the number of iterations, the vertical axis is the maximum F-beta score\n",
    "plt.plot(max_F_beta)\n",
    "plt.xlabel('Number of Iterations')\n",
    "plt.ylabel('Maximum F-beta Score')\n",
    "plt.title('Maximum F-beta Score vs. Number of Iterations')\n",
    "plt.show()"
   ]
  },
  {
   "cell_type": "code",
   "execution_count": 45,
   "metadata": {},
   "outputs": [
    {
     "data": {
      "image/png": "[encoded data removed]",
      "text/plain": [
       "<Figure size 900x600 with 1 Axes>"
      ]
     },
     "metadata": {},
     "output_type": "display_data"
    }
   ],
   "source": [
    "import numpy as np\n",
    "import matplotlib.pyplot as plt\n",
    "\n",
    "# Assuming DD is a NumPy array containing the data\n",
    "iterations = np.arange(DD.shape[0])\n",
    "precision = DD[:, -2]\n",
    "recall = DD[:, -1]\n",
    "F_beta = DD[:, 2]\n",
    "\n",
    "# Set the figure size (9x6 inches roughly corresponds to 900x600 pixels)\n",
    "plt.figure(figsize=(9, 6))\n",
    "\n",
    "# Plot each line with specified color and line width\n",
    "plt.plot(iterations, precision, label='Precision', color='blue', linewidth=1.5)\n",
    "plt.plot(iterations, recall, label='Recall', color='red', linewidth=1.5)\n",
    "plt.plot(iterations, F_beta, label='F-beta', color='green', linewidth=1.5)\n",
    "\n",
    "# Set axis labels and title, using Times New Roman font\n",
    "plt.xlabel('Number of Iterations', fontname='Times New Roman', fontsize=12)\n",
    "plt.ylabel('Value', fontname='Times New Roman', fontsize=12)\n",
    "plt.title('Precision, Recall, and F-beta Score', fontname='Times New Roman', fontsize=14)\n",
    "\n",
    "# Set y-axis limits from 0 to bonus_factor\n",
    "plt.ylim(0, bonus_factor)\n",
    "\n",
    "# Set tick labels to Times New Roman font\n",
    "plt.xticks(fontname='Times New Roman', fontsize=12)\n",
    "plt.yticks(fontname='Times New Roman', fontsize=12)\n",
    "\n",
    "# Add legend to the plot and set its font to Times New Roman\n",
    "plt.legend(prop={'family': 'Times New Roman'})\n",
    "\n",
    "# Adjust the layout to prevent clipping of labels and titles\n",
    "plt.tight_layout()\n",
    "\n",
    "# Save the figure as a static image file\n",
    "plt.savefig('history.png')\n",
    "\n",
    "# Display the plot\n",
    "plt.show()"
   ]
  },
  {
   "cell_type": "code",
   "execution_count": 46,
   "metadata": {},
   "outputs": [
    {
     "name": "stdout",
     "output_type": "stream",
     "text": [
      "max f-beta, recall, precision\n",
      "1.0885063668104336\n",
      "0.9883333333333333\n",
      "0.9932998324958124\n"
     ]
    },
    {
     "data": {
      "image/png": "[encoded data removed]",
      "text/plain": [
       "<Figure size 640x480 with 1 Axes>"
      ]
     },
     "metadata": {},
     "output_type": "display_data"
    }
   ],
   "source": [
    "# track the largest F-beta score going through the iterations and record associated recall and precision\n",
    "iterations = np.arange(DD.shape[0])\n",
    "max_F_beta = np.zeros(DD.shape[0])\n",
    "max_associated_recall = np.zeros(DD.shape[0])\n",
    "max_associated_precision = np.zeros(DD.shape[0])\n",
    "for i in range(DD.shape[0]):\n",
    "    max_F_beta[i] = np.max(DD[:i+1, 2])\n",
    "    max_index = np.argmax(DD[:i+1, 2])\n",
    "    max_associated_recall[i] = DD[max_index, -1]\n",
    "    max_associated_precision[i] = DD[max_index, -2]\n",
    "\n",
    "# print the max_F_beta, recall, and precision\n",
    "print(\"max f-beta, recall, precision\")\n",
    "print(max_F_beta[-1])\n",
    "print(max_associated_recall[-1])\n",
    "print(max_associated_precision[-1])\n",
    "\n",
    "# plot the max_F_beta, the horizontal axis is the number of iterations, the vertical axis is the maximum F-beta score, and associated recall and precision\n",
    "\n",
    "plt.plot(iterations, max_F_beta, label='F-beta', color='green', linewidth=1.5)\n",
    "plt.plot(iterations, max_associated_recall, label='Recall', color='red', linewidth=1.5)\n",
    "plt.plot(iterations, max_associated_precision, label='Precision', color='blue', linewidth=1.5)\n",
    "\n",
    "plt.xlabel('Number of Iterations', fontname='Times New Roman', fontsize=12)\n",
    "plt.ylabel('Value', fontname='Times New Roman', fontsize=12)\n",
    "plt.title('Maximum F-beta Score, Associated Recall, and Precision', fontname='Times New Roman', fontsize=14)\n",
    "\n",
    "# from 0 to bonus_factor\n",
    "plt.ylim(0, bonus_factor)\n",
    "\n",
    "# Set tick labels to Times New Roman font\n",
    "plt.xticks(fontname='Times New Roman', fontsize=12)\n",
    "plt.yticks(fontname='Times New Roman', fontsize=12)\n",
    "\n",
    "# legend\n",
    "plt.legend(prop={'family': 'Times New Roman'})\n",
    "\n",
    "plt.show()\n"
   ]
  }
 ],
 "metadata": {
  "kernelspec": {
   "display_name": "base",
   "language": "python",
   "name": "python3"
  },
  "language_info": {
   "codemirror_mode": {
    "name": "ipython",
    "version": 3
   },
   "file_extension": ".py",
   "mimetype": "text/x-python",
   "name": "python",
   "nbconvert_exporter": "python",
   "pygments_lexer": "ipython3",
   "version": "3.12.7"
  }
 },
 "nbformat": 4,
 "nbformat_minor": 2
}
