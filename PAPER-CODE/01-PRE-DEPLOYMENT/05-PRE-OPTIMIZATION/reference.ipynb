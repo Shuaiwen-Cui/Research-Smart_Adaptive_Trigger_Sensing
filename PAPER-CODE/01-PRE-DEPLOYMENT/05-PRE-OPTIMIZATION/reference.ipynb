{
 "cells": [
  {
   "cell_type": "markdown",
   "metadata": {},
   "source": [
    "=============================================================================================================================================\n",
    "\n",
    "customizaed BO algo for customized problem - PHASE I - PC PRETRAINING\n",
    "\n",
    "- full observation\n",
    "- partial data usage\n",
    "- offline Optimization\n",
    "- [x] simulated imbalanced Dataset\n",
    "- [x] imbalanced evaluation (two classes)\n",
    "- [x] punish no / bonus yes . when precision and recall are all above 0.9, times a bonus factor, say, 1.1\n",
    "- static data set and proxy model\n",
    "- assumption: the a priori of the data distribution is not far away from the real data distribution\n",
    "\n",
    "============================================================================================================================================="
   ]
  },
  {
   "cell_type": "markdown",
   "metadata": {},
   "source": [
    "## Dependencies"
   ]
  },
  {
   "cell_type": "code",
   "execution_count": 1,
   "metadata": {},
   "outputs": [],
   "source": [
    "# COMMON\n",
    "import numpy as np\n",
    "import sys\n",
    "import os\n",
    "import random\n",
    "import time\n",
    "import datetime\n",
    "import pandas as pd\n",
    "import matplotlib.pyplot as plt\n",
    "\n",
    "# Excitation\n",
    "import ambient_vibration\n",
    "import earthquake\n",
    "import impact\n",
    "import strongwind\n",
    "\n",
    "# Strcutural Modeling\n",
    "import model_build\n",
    "\n",
    "# Response Calculation\n",
    "import newmark_beta\n",
    "\n",
    "# Triggering Mechanism\n",
    "import triggering as trig\n",
    "\n",
    "# Signal Processing\n",
    "from scipy import signal  # for signal processing\n",
    "from scipy.signal import hilbert  # for signal processing\n",
    "import prenn # for deep learning\n",
    "\n",
    "# AI\n",
    "import keras\n",
    "\n",
    "import tensorflow as tf # for deep learning\n",
    "from keras.models import Sequential\n",
    "from keras.layers import Conv1D, MaxPooling1D, Flatten, Dense, Dropout\n",
    "from keras.callbacks import TensorBoard # for visualization\n",
    "\n",
    "import onnxruntime as ort # for onnx runtime\n",
    "\n",
    "# Visualization\n",
    "# %matplotlib qt5\n",
    "import matplotlib.pyplot as plt\n",
    "from mpl_toolkits.mplot3d import Axes3D\n",
    "from matplotlib.animation import FuncAnimation"
   ]
  },
  {
   "cell_type": "markdown",
   "metadata": {},
   "source": [
    "## The System Related Contents"
   ]
  },
  {
   "cell_type": "markdown",
   "metadata": {},
   "source": [
    "### Dataset"
   ]
  },
  {
   "cell_type": "code",
   "execution_count": 2,
   "metadata": {},
   "outputs": [
    {
     "name": "stdout",
     "output_type": "stream",
     "text": [
      "<class 'numpy.ndarray'>\n",
      "RESPONSE_AV Shape: (150, 5, 6000)\n",
      "<class 'numpy.ndarray'>\n",
      "RESPONSE_EQ Shape: (50, 5, 6000)\n",
      "<class 'numpy.ndarray'>\n",
      "RESPONSE_IP Shape: (50, 5, 6000)\n",
      "<class 'numpy.ndarray'>\n",
      "RESPONSE_SW Shape: (50, 5, 6000)\n",
      "<class 'numpy.ndarray'>\n",
      "RESPONSE_AV Shape: (750, 6000)\n",
      "<class 'numpy.ndarray'>\n",
      "RESPONSE_EQ Shape: (250, 6000)\n",
      "<class 'numpy.ndarray'>\n",
      "RESPONSE_IP Shape: (250, 6000)\n",
      "<class 'numpy.ndarray'>\n",
      "RESPONSE_SW Shape: (250, 6000)\n",
      "Ratio of Non-Interested Data to Interested Data: 1.0\n",
      "Total Number of Samples: 1500\n"
     ]
    }
   ],
   "source": [
    "# Data Path\n",
    "AVPath = 'E:/OneDrive - Nanyang Technological University/3_Research/02-SATM/SATM-DATA/PYTHON-GEN-DATA-USE/RESPONSE_AV.npy'\n",
    "EQPath = 'E:/OneDrive - Nanyang Technological University/3_Research/02-SATM/SATM-DATA/PYTHON-GEN-DATA-USE/RESPONSE_EQ.npy'\n",
    "IPPath = 'E:/OneDrive - Nanyang Technological University/3_Research/02-SATM/SATM-DATA/PYTHON-GEN-DATA-USE/RESPONSE_IP.npy'\n",
    "SWPath = 'E:/OneDrive - Nanyang Technological University/3_Research/02-SATM/SATM-DATA/PYTHON-GEN-DATA-USE/RESPONSE_SW.npy'\n",
    "\n",
    "# Load Data\n",
    "RESPONSE_AV = np.load(AVPath)\n",
    "RESPONSE_EQ = np.load(EQPath)\n",
    "RESPONSE_IP = np.load(IPPath)\n",
    "RESPONSE_SW = np.load(SWPath)\n",
    "\n",
    "## only use part of the data\n",
    "raw_len_av = RESPONSE_AV.shape[0]\n",
    "raw_len_eq = RESPONSE_EQ.shape[0]\n",
    "raw_len_ip = RESPONSE_IP.shape[0]\n",
    "raw_len_sw = RESPONSE_SW.shape[0]\n",
    "\n",
    "# this is to simulate the imbalanced data\n",
    "ratio_aw = 0.15\n",
    "ratio_eq = 0.05\n",
    "ratio_ip = 0.05\n",
    "ratio_sw = 0.05\n",
    "\n",
    "uselen_aw = int(raw_len_av * ratio_aw)\n",
    "uselen_eq = int(raw_len_eq * ratio_eq)  \n",
    "uselen_ip = int(raw_len_ip * ratio_ip)\n",
    "uselen_sw = int(raw_len_sw * ratio_sw)\n",
    "\n",
    "# randomly pick uselen_aw samples from RESPONSE_XX, no repeat\n",
    "idx_aw = random.sample(range(raw_len_av), uselen_aw)\n",
    "idx_eq = random.sample(range(raw_len_eq), uselen_eq)\n",
    "idx_ip = random.sample(range(raw_len_ip), uselen_ip)\n",
    "idx_sw = random.sample(range(raw_len_sw), uselen_sw)\n",
    "\n",
    "RESPONSE_AV = RESPONSE_AV[idx_aw]\n",
    "RESPONSE_EQ = RESPONSE_EQ[idx_eq]\n",
    "RESPONSE_IP = RESPONSE_IP[idx_ip]\n",
    "RESPONSE_SW = RESPONSE_SW[idx_sw]\n",
    "\n",
    "## Check Data Info\n",
    "print(type(RESPONSE_AV))\n",
    "print('RESPONSE_AV Shape:', RESPONSE_AV.shape)\n",
    "print(type(RESPONSE_EQ))\n",
    "print('RESPONSE_EQ Shape:', RESPONSE_EQ.shape)\n",
    "print(type(RESPONSE_IP))\n",
    "print('RESPONSE_IP Shape:', RESPONSE_IP.shape)\n",
    "print(type(RESPONSE_SW))\n",
    "print('RESPONSE_SW Shape:', RESPONSE_SW.shape)\n",
    "\n",
    "num_type = 4\n",
    "\n",
    "nDOF = RESPONSE_AV.shape[1]\n",
    "\n",
    "reshape_av_0 = RESPONSE_AV.shape[0] * nDOF\n",
    "reshape_eq_0 = RESPONSE_EQ.shape[0] * nDOF\n",
    "reshape_ip_0 = RESPONSE_IP.shape[0] * nDOF\n",
    "reshape_sw_0 = RESPONSE_SW.shape[0] * nDOF\n",
    "\n",
    "signal_length = RESPONSE_AV.shape[2]\n",
    "\n",
    "reshape_av_1 = signal_length\n",
    "reshape_eq_1 = signal_length\n",
    "reshape_ip_1 = signal_length\n",
    "reshape_sw_1 = signal_length\n",
    "\n",
    "LenTS = signal_length\n",
    "\n",
    "# Integrate All Data into a 2D Array\n",
    "\n",
    "## Reshape Data\n",
    "RESPONSE_AV_RESHAPED = RESPONSE_AV.reshape(reshape_av_0, reshape_av_1)\n",
    "RESPONSE_EQ_RESHAPED = RESPONSE_EQ.reshape(reshape_eq_0, reshape_eq_1)\n",
    "RESPONSE_IP_RESHAPED = RESPONSE_IP.reshape(reshape_ip_0, reshape_ip_1)\n",
    "RESPONSE_SW_RESHAPED = RESPONSE_SW.reshape(reshape_sw_0, reshape_sw_1)\n",
    "\n",
    "## Check Data Info\n",
    "print(type(RESPONSE_AV_RESHAPED))\n",
    "print('RESPONSE_AV Shape:', RESPONSE_AV_RESHAPED.shape)\n",
    "print(type(RESPONSE_EQ_RESHAPED))\n",
    "print('RESPONSE_EQ Shape:', RESPONSE_EQ_RESHAPED.shape)\n",
    "print(type(RESPONSE_IP_RESHAPED))\n",
    "print('RESPONSE_IP Shape:', RESPONSE_IP_RESHAPED.shape)\n",
    "print(type(RESPONSE_SW_RESHAPED))\n",
    "print('RESPONSE_SW Shape:', RESPONSE_SW_RESHAPED.shape)\n",
    "\n",
    "# ratio of non-interested data to interested data\n",
    "ratio_ni = RESPONSE_AV_RESHAPED.shape[0] / (RESPONSE_EQ_RESHAPED.shape[0] + RESPONSE_IP_RESHAPED.shape[0] + RESPONSE_SW_RESHAPED.shape[0])\n",
    "\n",
    "print('Ratio of Non-Interested Data to Interested Data:', ratio_ni)\n",
    "\n",
    "## Stack Data\n",
    "RESPONSE = np.vstack((RESPONSE_AV_RESHAPED, RESPONSE_EQ_RESHAPED, RESPONSE_IP_RESHAPED, RESPONSE_SW_RESHAPED))\n",
    "\n",
    "## Total Number of Samples\n",
    "NumSample = RESPONSE.shape[0]\n",
    "print('Total Number of Samples:', NumSample) "
   ]
  },
  {
   "cell_type": "code",
   "execution_count": 3,
   "metadata": {},
   "outputs": [],
   "source": [
    "# USED PARAMETER of the Dataset\n",
    "\n",
    "# nn_in_len = 128 # nn input length can be automatically calculated from the model input size\n",
    "dt = 0.01  # time step, change according to the dataset\n",
    "nperseg = 128 # number of points for each segment in spectrogram"
   ]
  },
  {
   "cell_type": "markdown",
   "metadata": {},
   "source": [
    "### Classifier Model"
   ]
  },
  {
   "cell_type": "code",
   "execution_count": 4,
   "metadata": {},
   "outputs": [
    {
     "data": {
      "text/html": [
       "<pre style=\"white-space:pre;overflow-x:auto;line-height:normal;font-family:Menlo,'DejaVu Sans Mono',consolas,'Courier New',monospace\"><span style=\"font-weight: bold\">Model: \"functional_3\"</span>\n",
       "</pre>\n"
      ],
      "text/plain": [
       "\u001b[1mModel: \"functional_3\"\u001b[0m\n"
      ]
     },
     "metadata": {},
     "output_type": "display_data"
    },
    {
     "data": {
      "text/html": [
       "<pre style=\"white-space:pre;overflow-x:auto;line-height:normal;font-family:Menlo,'DejaVu Sans Mono',consolas,'Courier New',monospace\">┏━━━━━━━━━━━━━━━━━━━━━━━━━━━━━━━━━┳━━━━━━━━━━━━━━━━━━━━━━━━┳━━━━━━━━━━━━━━━┓\n",
       "┃<span style=\"font-weight: bold\"> Layer (type)                    </span>┃<span style=\"font-weight: bold\"> Output Shape           </span>┃<span style=\"font-weight: bold\">       Param # </span>┃\n",
       "┡━━━━━━━━━━━━━━━━━━━━━━━━━━━━━━━━━╇━━━━━━━━━━━━━━━━━━━━━━━━╇━━━━━━━━━━━━━━━┩\n",
       "│ input_layer_1 (<span style=\"color: #0087ff; text-decoration-color: #0087ff\">InputLayer</span>)      │ (<span style=\"color: #00d7ff; text-decoration-color: #00d7ff\">None</span>, <span style=\"color: #00af00; text-decoration-color: #00af00\">128</span>, <span style=\"color: #00af00; text-decoration-color: #00af00\">1</span>)         │             <span style=\"color: #00af00; text-decoration-color: #00af00\">0</span> │\n",
       "├─────────────────────────────────┼────────────────────────┼───────────────┤\n",
       "│ conv1d_1 (<span style=\"color: #0087ff; text-decoration-color: #0087ff\">Conv1D</span>)               │ (<span style=\"color: #00d7ff; text-decoration-color: #00d7ff\">None</span>, <span style=\"color: #00af00; text-decoration-color: #00af00\">128</span>, <span style=\"color: #00af00; text-decoration-color: #00af00\">4</span>)         │            <span style=\"color: #00af00; text-decoration-color: #00af00\">16</span> │\n",
       "├─────────────────────────────────┼────────────────────────┼───────────────┤\n",
       "│ batch_normalization_1           │ (<span style=\"color: #00d7ff; text-decoration-color: #00d7ff\">None</span>, <span style=\"color: #00af00; text-decoration-color: #00af00\">128</span>, <span style=\"color: #00af00; text-decoration-color: #00af00\">4</span>)         │            <span style=\"color: #00af00; text-decoration-color: #00af00\">16</span> │\n",
       "│ (<span style=\"color: #0087ff; text-decoration-color: #0087ff\">BatchNormalization</span>)            │                        │               │\n",
       "├─────────────────────────────────┼────────────────────────┼───────────────┤\n",
       "│ re_lu_1 (<span style=\"color: #0087ff; text-decoration-color: #0087ff\">ReLU</span>)                  │ (<span style=\"color: #00d7ff; text-decoration-color: #00d7ff\">None</span>, <span style=\"color: #00af00; text-decoration-color: #00af00\">128</span>, <span style=\"color: #00af00; text-decoration-color: #00af00\">4</span>)         │             <span style=\"color: #00af00; text-decoration-color: #00af00\">0</span> │\n",
       "├─────────────────────────────────┼────────────────────────┼───────────────┤\n",
       "│ global_average_pooling1d_1      │ (<span style=\"color: #00d7ff; text-decoration-color: #00d7ff\">None</span>, <span style=\"color: #00af00; text-decoration-color: #00af00\">4</span>)              │             <span style=\"color: #00af00; text-decoration-color: #00af00\">0</span> │\n",
       "│ (<span style=\"color: #0087ff; text-decoration-color: #0087ff\">GlobalAveragePooling1D</span>)        │                        │               │\n",
       "├─────────────────────────────────┼────────────────────────┼───────────────┤\n",
       "│ dense_1 (<span style=\"color: #0087ff; text-decoration-color: #0087ff\">Dense</span>)                 │ (<span style=\"color: #00d7ff; text-decoration-color: #00d7ff\">None</span>, <span style=\"color: #00af00; text-decoration-color: #00af00\">4</span>)              │            <span style=\"color: #00af00; text-decoration-color: #00af00\">20</span> │\n",
       "└─────────────────────────────────┴────────────────────────┴───────────────┘\n",
       "</pre>\n"
      ],
      "text/plain": [
       "┏━━━━━━━━━━━━━━━━━━━━━━━━━━━━━━━━━┳━━━━━━━━━━━━━━━━━━━━━━━━┳━━━━━━━━━━━━━━━┓\n",
       "┃\u001b[1m \u001b[0m\u001b[1mLayer (type)                   \u001b[0m\u001b[1m \u001b[0m┃\u001b[1m \u001b[0m\u001b[1mOutput Shape          \u001b[0m\u001b[1m \u001b[0m┃\u001b[1m \u001b[0m\u001b[1m      Param #\u001b[0m\u001b[1m \u001b[0m┃\n",
       "┡━━━━━━━━━━━━━━━━━━━━━━━━━━━━━━━━━╇━━━━━━━━━━━━━━━━━━━━━━━━╇━━━━━━━━━━━━━━━┩\n",
       "│ input_layer_1 (\u001b[38;5;33mInputLayer\u001b[0m)      │ (\u001b[38;5;45mNone\u001b[0m, \u001b[38;5;34m128\u001b[0m, \u001b[38;5;34m1\u001b[0m)         │             \u001b[38;5;34m0\u001b[0m │\n",
       "├─────────────────────────────────┼────────────────────────┼───────────────┤\n",
       "│ conv1d_1 (\u001b[38;5;33mConv1D\u001b[0m)               │ (\u001b[38;5;45mNone\u001b[0m, \u001b[38;5;34m128\u001b[0m, \u001b[38;5;34m4\u001b[0m)         │            \u001b[38;5;34m16\u001b[0m │\n",
       "├─────────────────────────────────┼────────────────────────┼───────────────┤\n",
       "│ batch_normalization_1           │ (\u001b[38;5;45mNone\u001b[0m, \u001b[38;5;34m128\u001b[0m, \u001b[38;5;34m4\u001b[0m)         │            \u001b[38;5;34m16\u001b[0m │\n",
       "│ (\u001b[38;5;33mBatchNormalization\u001b[0m)            │                        │               │\n",
       "├─────────────────────────────────┼────────────────────────┼───────────────┤\n",
       "│ re_lu_1 (\u001b[38;5;33mReLU\u001b[0m)                  │ (\u001b[38;5;45mNone\u001b[0m, \u001b[38;5;34m128\u001b[0m, \u001b[38;5;34m4\u001b[0m)         │             \u001b[38;5;34m0\u001b[0m │\n",
       "├─────────────────────────────────┼────────────────────────┼───────────────┤\n",
       "│ global_average_pooling1d_1      │ (\u001b[38;5;45mNone\u001b[0m, \u001b[38;5;34m4\u001b[0m)              │             \u001b[38;5;34m0\u001b[0m │\n",
       "│ (\u001b[38;5;33mGlobalAveragePooling1D\u001b[0m)        │                        │               │\n",
       "├─────────────────────────────────┼────────────────────────┼───────────────┤\n",
       "│ dense_1 (\u001b[38;5;33mDense\u001b[0m)                 │ (\u001b[38;5;45mNone\u001b[0m, \u001b[38;5;34m4\u001b[0m)              │            \u001b[38;5;34m20\u001b[0m │\n",
       "└─────────────────────────────────┴────────────────────────┴───────────────┘\n"
      ]
     },
     "metadata": {},
     "output_type": "display_data"
    },
    {
     "data": {
      "text/html": [
       "<pre style=\"white-space:pre;overflow-x:auto;line-height:normal;font-family:Menlo,'DejaVu Sans Mono',consolas,'Courier New',monospace\"><span style=\"font-weight: bold\"> Total params: </span><span style=\"color: #00af00; text-decoration-color: #00af00\">142</span> (572.00 B)\n",
       "</pre>\n"
      ],
      "text/plain": [
       "\u001b[1m Total params: \u001b[0m\u001b[38;5;34m142\u001b[0m (572.00 B)\n"
      ]
     },
     "metadata": {},
     "output_type": "display_data"
    },
    {
     "data": {
      "text/html": [
       "<pre style=\"white-space:pre;overflow-x:auto;line-height:normal;font-family:Menlo,'DejaVu Sans Mono',consolas,'Courier New',monospace\"><span style=\"font-weight: bold\"> Trainable params: </span><span style=\"color: #00af00; text-decoration-color: #00af00\">44</span> (176.00 B)\n",
       "</pre>\n"
      ],
      "text/plain": [
       "\u001b[1m Trainable params: \u001b[0m\u001b[38;5;34m44\u001b[0m (176.00 B)\n"
      ]
     },
     "metadata": {},
     "output_type": "display_data"
    },
    {
     "data": {
      "text/html": [
       "<pre style=\"white-space:pre;overflow-x:auto;line-height:normal;font-family:Menlo,'DejaVu Sans Mono',consolas,'Courier New',monospace\"><span style=\"font-weight: bold\"> Non-trainable params: </span><span style=\"color: #00af00; text-decoration-color: #00af00\">8</span> (32.00 B)\n",
       "</pre>\n"
      ],
      "text/plain": [
       "\u001b[1m Non-trainable params: \u001b[0m\u001b[38;5;34m8\u001b[0m (32.00 B)\n"
      ]
     },
     "metadata": {},
     "output_type": "display_data"
    },
    {
     "data": {
      "text/html": [
       "<pre style=\"white-space:pre;overflow-x:auto;line-height:normal;font-family:Menlo,'DejaVu Sans Mono',consolas,'Courier New',monospace\"><span style=\"font-weight: bold\"> Optimizer params: </span><span style=\"color: #00af00; text-decoration-color: #00af00\">90</span> (364.00 B)\n",
       "</pre>\n"
      ],
      "text/plain": [
       "\u001b[1m Optimizer params: \u001b[0m\u001b[38;5;34m90\u001b[0m (364.00 B)\n"
      ]
     },
     "metadata": {},
     "output_type": "display_data"
    }
   ],
   "source": [
    "# MODEL PATH\n",
    "model_path = \"cnn_model.keras\"\n",
    "model = keras.saving.load_model(model_path)\n",
    "\n",
    "# summary of the model\n",
    "model.summary()"
   ]
  },
  {
   "cell_type": "code",
   "execution_count": 5,
   "metadata": {},
   "outputs": [
    {
     "name": "stdout",
     "output_type": "stream",
     "text": [
      "Input Data Length: 128\n"
     ]
    }
   ],
   "source": [
    "# get the input data length\n",
    "nn_in_len = model.input_shape[1]\n",
    "print('Input Data Length:', nn_in_len)"
   ]
  },
  {
   "cell_type": "code",
   "execution_count": 6,
   "metadata": {},
   "outputs": [
    {
     "name": "stdout",
     "output_type": "stream",
     "text": [
      "Test Data Shape: (1, 6000)\n"
     ]
    },
    {
     "data": {
      "image/png": "[encoded data removed]",
      "text/plain": [
       "<Figure size 640x480 with 1 Axes>"
      ]
     },
     "metadata": {},
     "output_type": "display_data"
    }
   ],
   "source": [
    "# model test by loading a piece of data from the dataset, and feed intot he prenn function\n",
    "\n",
    "# index for the random data\n",
    "idx = np.random.randint(NumSample)\n",
    "\n",
    "# get the data\n",
    "test_data = RESPONSE[idx, :].reshape(1, LenTS)\n",
    "\n",
    "print('Test Data Shape:', test_data.shape)\n",
    "\n",
    "# plot the test data\n",
    "plt.figure()\n",
    "plt.plot(test_data[0, :])\n",
    "plt.title('Test Data')\n",
    "plt.show()\n"
   ]
  },
  {
   "cell_type": "code",
   "execution_count": 7,
   "metadata": {},
   "outputs": [
    {
     "data": {
      "image/png": "[encoded data removed]",
      "text/plain": [
       "<Figure size 640x480 with 1 Axes>"
      ]
     },
     "metadata": {},
     "output_type": "display_data"
    }
   ],
   "source": [
    "# preprocess\n",
    "output_length = nn_in_len\n",
    "test_data = prenn.prenn(test_data, dt, nperseg, output_length)\n",
    "\n",
    "# print the preprocessed data\n",
    "plt.figure()\n",
    "plt.plot(test_data[0, :])\n",
    "plt.title('Preprocessed Test Data')\n",
    "plt.show()"
   ]
  },
  {
   "cell_type": "code",
   "execution_count": 8,
   "metadata": {},
   "outputs": [
    {
     "name": "stdout",
     "output_type": "stream",
     "text": [
      "Preprocessed Test Data Shape: (1, 128, 1)\n",
      "\u001b[1m1/1\u001b[0m \u001b[32m━━━━━━━━━━━━━━━━━━━━\u001b[0m\u001b[37m\u001b[0m \u001b[1m0s\u001b[0m 157ms/step\n",
      "Tensorflow Model Prediction: [[1.5401789e-06 1.2233309e-03 1.6371972e-05 9.9875879e-01]]\n",
      "Tensorflow Model Prediction: 3\n"
     ]
    }
   ],
   "source": [
    "test_data = test_data.reshape(1, nn_in_len, 1)\n",
    "\n",
    "print('Preprocessed Test Data Shape:', test_data.shape)\n",
    "\n",
    "# test the model\n",
    "test_result = model.predict(test_data)\n",
    "print('Tensorflow Model Prediction:', test_result)\n",
    "\n",
    "# parse the result to get the label\n",
    "result_label = np.argmax(test_result)\n",
    "\n",
    "print('Tensorflow Model Prediction:', result_label)"
   ]
  },
  {
   "cell_type": "markdown",
   "metadata": {},
   "source": [
    "### Triggering Mechanism"
   ]
  },
  {
   "cell_type": "code",
   "execution_count": 9,
   "metadata": {},
   "outputs": [],
   "source": [
    "# load noise to determine the search space\n",
    "noise_sample = RESPONSE[0, :].reshape(1, LenTS)\n",
    "\n",
    "# max noise\n",
    "max_noise = np.max(abs(noise_sample))\n",
    "\n",
    "# min noise\n",
    "min_noise = np.min(abs(noise_sample))\n",
    "\n",
    "# scale factor for threshold range upper bound\n",
    "ub_factor = 5\n",
    "\n",
    "# scale factor for threshold range lower bound\n",
    "lb_factor = 0.01"
   ]
  },
  {
   "cell_type": "code",
   "execution_count": 10,
   "metadata": {},
   "outputs": [],
   "source": [
    "# configuration\n",
    "para_a_lb = lb_factor*(max_noise + min_noise)/2\n",
    "para_a_ub = ub_factor*(max_noise + min_noise)/2\n",
    "para_b_lb = 2\n",
    "para_b_ub = 20\n",
    "\n",
    "beta = 1.75 # beta value to balance the precision and recall"
   ]
  },
  {
   "cell_type": "code",
   "execution_count": 11,
   "metadata": {},
   "outputs": [
    {
     "name": "stdout",
     "output_type": "stream",
     "text": [
      "para_a_ub 0.005970621119811317\n"
     ]
    }
   ],
   "source": [
    "print('para_a_ub', para_a_ub)"
   ]
  },
  {
   "cell_type": "code",
   "execution_count": 12,
   "metadata": {},
   "outputs": [],
   "source": [
    "# triggering mechanism\n",
    "para_a = 10\n",
    "para_b = 2"
   ]
  },
  {
   "cell_type": "code",
   "execution_count": 13,
   "metadata": {},
   "outputs": [
    {
     "name": "stdout",
     "output_type": "stream",
     "text": [
      "Shape of Test Data: (1, 128, 1)\n"
     ]
    }
   ],
   "source": [
    "# shape of test data\n",
    "print('Shape of Test Data:', test_data.shape)"
   ]
  },
  {
   "cell_type": "code",
   "execution_count": 14,
   "metadata": {},
   "outputs": [],
   "source": [
    "# # squeeze the data\n",
    "# test_data = np.squeeze(test_data)\n",
    "\n",
    "# # shape of test data\n",
    "# print('Shape of Test Data:', test_data.shape)"
   ]
  },
  {
   "cell_type": "code",
   "execution_count": 15,
   "metadata": {},
   "outputs": [
    {
     "name": "stdout",
     "output_type": "stream",
     "text": [
      "0\n"
     ]
    }
   ],
   "source": [
    "trig_flg = trig.activation(test_data, para_a, para_b)\n",
    "print(trig_flg[0])"
   ]
  },
  {
   "cell_type": "markdown",
   "metadata": {},
   "source": [
    "## Bayesian Optimization Framework"
   ]
  },
  {
   "cell_type": "markdown",
   "metadata": {},
   "source": [
    "### Helpers"
   ]
  },
  {
   "cell_type": "code",
   "execution_count": 16,
   "metadata": {},
   "outputs": [],
   "source": [
    "# use pop-up window for plots\n",
    "%matplotlib qt5 \n",
    "from mpl_toolkits.mplot3d import Axes3D\n",
    "from matplotlib.animation import FuncAnimation\n",
    "# print control\n",
    "from colorama import init, Fore, Back, Style"
   ]
  },
  {
   "cell_type": "code",
   "execution_count": 17,
   "metadata": {},
   "outputs": [],
   "source": [
    "# CONFIGURABLE PARAMETERS\n",
    "\n",
    "## Hyperparameters\n",
    "noise_lvl = 0.1\n",
    "k_alpha = 1\n",
    "k_lambda = 1\n",
    "\n",
    "## Process Control\n",
    "num_init_points = 30\n",
    "num_iter = 20\n",
    "tolerance = 1e-3\n",
    "gap = np.inf\n",
    "\n",
    "## Acquisition Function - UCB\n",
    "ucb_beta = 0.25\n",
    "\n",
    "## Acquisition Function - PI & EI\n",
    "xi=0.01\n",
    "\n",
    "\n",
    "## Bonus factor for evaluation\n",
    "bonus_factor = 1.1"
   ]
  },
  {
   "cell_type": "code",
   "execution_count": 18,
   "metadata": {},
   "outputs": [
    {
     "name": "stdout",
     "output_type": "stream",
     "text": [
      "0.00299128118102547\n",
      "11.0\n"
     ]
    }
   ],
   "source": [
    "## Search Space\n",
    "### parameter 1 - a\n",
    "lb_a = para_a_lb\n",
    "ub_a = para_a_ub\n",
    "c_a = (ub_a + lb_a) / 2\n",
    "print(c_a)\n",
    "\n",
    "### parameter 2 - b\n",
    "lb_b = para_b_lb\n",
    "ub_b = para_b_ub\n",
    "c_b = (ub_b + lb_b) / 2\n",
    "print(c_b)"
   ]
  },
  {
   "cell_type": "markdown",
   "metadata": {},
   "source": [
    "### The Problem / System to Optimize\n",
    "\n",
    "Triggering Mechanism： Triggering Parameters In; Evaluation Index Out"
   ]
  },
  {
   "cell_type": "code",
   "execution_count": 19,
   "metadata": {},
   "outputs": [],
   "source": [
    "# THE OBJECTIVE FUNCTION\n",
    "def objective_function(para_a, para_b):\n",
    "\n",
    "    \"\"\" Function with unknown internals we wish to maximize.\n",
    "\n",
    "    This function defines the process to evaluate how good the parameters are for the triggering sensing mechanism.\n",
    "\n",
    "    INPUT:\n",
    "    - para_a: the threshold for the activation, positive real number\n",
    "    - para_b: activate_duration: the duration for the activation, positive integer >= 2 (as we know 1 is not error-prone in practice)\n",
    "\n",
    "    OUTPUT:\n",
    "    - evaluation value: F-beta score\n",
    "    \n",
    "    HYPERPARAMETERS:\n",
    "    - beta: the value to balance the precision and recall to calculate F-beta score\n",
    "    \n",
    "    \"\"\"\n",
    "    \n",
    "    # assistive variables\n",
    "    TP = 0\n",
    "    FP = 0\n",
    "    FN = 0\n",
    "    TN = 0\n",
    "    \n",
    "    # go through the dataset\n",
    "    for i in range(NumSample):\n",
    "    # for i in range(10):  \n",
    "        # trigger flag\n",
    "        flg_trigger = 0\n",
    "        \n",
    "        # ground truth flag\n",
    "        class_1h = np.zeros((1, num_type))\n",
    "        flg_class = 0\n",
    "        flg_interst = 0\n",
    "        \n",
    "        # get the response data\n",
    "        signal = RESPONSE[i, :].reshape(1, LenTS)\n",
    "        \n",
    "        # get the triggering mechanism\n",
    "        flg_trigger, trig_pos = trig.activation(signal, para_a, para_b)\n",
    "        \n",
    "        # print('Trigger Flag:', flg_trigger)\n",
    "        \n",
    "        # preprocess the signal for the CNN model to get the ground truth\n",
    "        signal = prenn.prenn(signal, dt, nperseg, nn_in_len)\n",
    "        \n",
    "        signal = signal.reshape(1, nn_in_len, 1)\n",
    "\n",
    "        # get the ground truth\n",
    "        class_1h = model.predict(signal, verbose=0)\n",
    "        flag_class = np.argmax(class_1h)\n",
    "        \n",
    "        # get the ground truth\n",
    "        if flag_class > 0:\n",
    "            flg_interst = 1\n",
    "\n",
    "        # get the confusion matrix - as the number of interested data is assumed to be small, we need to consider the ratio - only two classes - interested and non-interested\n",
    "        if flg_trigger == 1 and flg_interst == 1:\n",
    "            TP += 1*ratio_ni\n",
    "        elif flg_trigger == 1 and flg_interst == 0:\n",
    "            FP += 1\n",
    "        elif flg_trigger == 0 and flg_interst == 1:\n",
    "            FN += 1*ratio_ni\n",
    "        elif flg_trigger == 0 and flg_interst == 0:\n",
    "            TN += 1\n",
    "        else:\n",
    "            print('Error in Confusion Matrix Calculation')\n",
    "            \n",
    "    # demoninator\n",
    "    denominator = ((1 + beta**2) * TP + beta**2 * FN + FP)\n",
    "    if denominator == 0:\n",
    "        F_beta = 0\n",
    "        return 0\n",
    "    \n",
    "    F_beta = (1 + beta**2) * TP / ((1 + beta**2) * TP + beta**2 * FN + FP)\n",
    "    \n",
    "    # if F_beta is NaN, return 0\n",
    "    if np.isnan(F_beta):\n",
    "        F_beta = 0\n",
    "        return 0\n",
    "    \n",
    "    precision = TP / (TP + FP)\n",
    "    recall = TP / (TP + FN)\n",
    "    \n",
    "    if precision > 0.9 and recall > 0.9:\n",
    "        F_beta = F_beta * bonus_factor\n",
    "    \n",
    "    # print TP, FP, FN, TN as integer, Precision, Recall, F-beta as float number with 4 decimal places\n",
    "    print('para_a / para_b /TP / FP / FN / TN / Precision / Recall / F-beta:', para_a, para_b, TP, FP, FN, TN, f'{precision:.4f}', f'{recall:.4f}', f'{F_beta:.4f}')\n",
    "\n",
    "    return F_beta\n"
   ]
  },
  {
   "cell_type": "code",
   "execution_count": 20,
   "metadata": {},
   "outputs": [],
   "source": [
    "# THE SURROGATE MODEL - Gaussian Process - Kernel Function\n",
    "## Matern 2.5 as the kernel function\n",
    "def kernel(p1, p2, matern_alpha = 1, matern_lambda = 1):\n",
    "    # define the distance between two points p1 and p2\n",
    "    d= np.linalg.norm(p1 - p2)\n",
    "    k = matern_alpha * (1 + np.sqrt(5) * d / matern_lambda + 5 * d**2 / (3 * matern_lambda**2)) * np.exp(-np.sqrt(5) * d / matern_lambda)\n",
    "    return k\n",
    "\n",
    "## Mean and Variance of the Gaussian Process\n",
    "def mean_var(x, D, K_alpha, k_lambda):\n",
    "    # assume x is a variable of 1x1\n",
    "    # calculate the mean and variance of the Gaussian Process\n",
    "    x_dim = x.shape[1] # assume each colum is a dimension of x\n",
    "    num_D = D.shape[0] # number of data points in D\n",
    "    \n",
    "    Ktt = np.zeros((num_D, num_D))\n",
    "    for i in range(num_D):\n",
    "        for j in range(num_D):\n",
    "            Ktt[i, j] = kernel(D[i,:-1], D[j,:-1], K_alpha, k_lambda)\n",
    "    Kttn = Ktt + np.eye(num_D) * noise_lvl\n",
    "    IKttn = np.linalg.inv(Kttn)\n",
    "    \n",
    "    Kpt = np.zeros((1, num_D))\n",
    "    for i in range(num_D):\n",
    "        Kpt[0, i] = kernel(x, D[i,:-1], K_alpha, k_lambda)\n",
    "    Ktp = Kpt.T\n",
    "    Kpp = kernel(x, x, K_alpha, k_lambda)\n",
    "    \n",
    "    y = D[:,-1].reshape(-1,1)\n",
    "    \n",
    "    mean = Kpt @ IKttn @ y\n",
    "    var = Kpp - Kpt @ IKttn @ Ktp\n",
    "        \n",
    "    return mean, var"
   ]
  },
  {
   "cell_type": "code",
   "execution_count": 21,
   "metadata": {},
   "outputs": [],
   "source": [
    "# THE ACQUISITION FUNCTION - UPPER CONFIDENCE BOUND\n",
    "def S(x, D):\n",
    "    mean, var = mean_var(x, D, k_alpha, k_lambda)\n",
    "    s = mean + ucb_beta * np.sqrt(var)\n",
    "    return s"
   ]
  },
  {
   "cell_type": "code",
   "execution_count": 22,
   "metadata": {},
   "outputs": [],
   "source": [
    "def norm_cdf(x):\n",
    "    \"\"\"\n",
    "    standard normal cumulative distribution function\n",
    "    \n",
    "    \"\"\"\n",
    "    return 0.5 * (1 + np.math.erf(x / np.sqrt(2)))"
   ]
  },
  {
   "cell_type": "code",
   "execution_count": 23,
   "metadata": {},
   "outputs": [],
   "source": [
    "def norm_pdf(x):\n",
    "    \"\"\"\n",
    "    standard normal probability density function\n",
    "    \"\"\"\n",
    "    return (1 / np.sqrt(2 * np.pi)) * np.exp(-0.5 * x ** 2)"
   ]
  },
  {
   "cell_type": "code",
   "execution_count": 24,
   "metadata": {},
   "outputs": [],
   "source": [
    "# THE ACQUISITION FUNCTION - PROBABILITY OF IMPROVEMENT\n",
    "def S_PI(x, D, xi=0.01):\n",
    "    f_best = np.max(D[:,-1])\n",
    "    mean, var = mean_var(x, D, k_alpha, k_lambda)\n",
    "    z = (mean - f_best - xi) / np.sqrt(var)\n",
    "    s = norm_cdf(z)\n",
    "    return s"
   ]
  },
  {
   "cell_type": "code",
   "execution_count": 25,
   "metadata": {},
   "outputs": [],
   "source": [
    "# THE ACQUISITION FUNCTION - EXPECTATION OF IMPROVEMENT\n",
    "def S_EI(x, D, xi=0.01):\n",
    "    f_best = np.max(D[:,-1])\n",
    "    mean, var = mean_var(x, D, k_alpha, k_lambda)\n",
    "    z = (mean - f_best - xi) / np.sqrt(var)\n",
    "    s = (mean - f_best - xi) * norm_cdf(z) + np.sqrt(var) * norm_pdf(z)\n",
    "    return s"
   ]
  },
  {
   "cell_type": "code",
   "execution_count": 26,
   "metadata": {},
   "outputs": [],
   "source": [
    "# THE OPTIMIZATION FUNCTION FOR THE ACQUISITION FUNCTION\n",
    "def optimize_acquisition(D):\n",
    "    # randomly search for the point with the highest acquisition function value\n",
    "    num_search = 100\n",
    "    max_s = -np.inf\n",
    "    max_x = None\n",
    "    cur_x = np.zeros((1,2))\n",
    "    for i in range(num_search):\n",
    "        cur_x[0,0] = np.random.uniform(lb_a, ub_a)\n",
    "        cur_x[0,1] = np.random.uniform(lb_b, ub_b)\n",
    "        cur_s = S(cur_x, D) # UCB\n",
    "        # cur_s = S_PI(cur_x, D, xi) # PI\n",
    "        # cur_s = S_EI(cur_x, D, xi) # EI\n",
    "        if cur_s > max_s:\n",
    "            max_s = cur_s\n",
    "            max_x = cur_x.copy()\n",
    "    return max_x"
   ]
  },
  {
   "cell_type": "markdown",
   "metadata": {},
   "source": [
    "### The Optimization Process"
   ]
  },
  {
   "cell_type": "code",
   "execution_count": 27,
   "metadata": {},
   "outputs": [
    {
     "name": "stdout",
     "output_type": "stream",
     "text": [
      "para_a / para_b /TP / FP / FN / TN / Precision / Recall / F-beta: 0.0026247385991527692 7.603848494725042 695.0 134 58.0 613 0.8384 0.9230 0.9006\n",
      "Initialization Progress: 1 / 30\n",
      "para_a / para_b /TP / FP / FN / TN / Precision / Recall / F-beta: 0.003894106436676328 3.970462754264897 699.0 75 54.0 672 0.9031 0.9283 1.0142\n",
      "Initialization Progress: 2 / 30\n",
      "para_a / para_b /TP / FP / FN / TN / Precision / Recall / F-beta: 0.0010262063516745406 10.33502571777573 753.0 747 0 0 0.5020 1.0000 0.8037\n",
      "Initialization Progress: 3 / 30\n",
      "para_a / para_b /TP / FP / FN / TN / Precision / Recall / F-beta: 0.0010381155793191975 9.971746843005082 753.0 747 0 0 0.5020 1.0000 0.8037\n",
      "Initialization Progress: 4 / 30\n",
      "para_a / para_b /TP / FP / FN / TN / Precision / Recall / F-beta: 0.002090697893266576 19.228673877704622 540.0 5 213.0 742 0.9908 0.7171 0.7694\n",
      "Initialization Progress: 5 / 30\n",
      "para_a / para_b /TP / FP / FN / TN / Precision / Recall / F-beta: 0.004931152248765908 11.851356665181083 502.0 0 251.0 747 1.0000 0.6667 0.7263\n",
      "Initialization Progress: 6 / 30\n",
      "para_a / para_b /TP / FP / FN / TN / Precision / Recall / F-beta: 0.004691400526532448 8.593933616149794 544.0 0 209.0 747 1.0000 0.7224 0.7754\n",
      "Initialization Progress: 7 / 30\n",
      "para_a / para_b /TP / FP / FN / TN / Precision / Recall / F-beta: 0.0053007566834616625 14.061284731922804 488.0 0 265.0 747 1.0000 0.6481 0.7095\n",
      "Initialization Progress: 8 / 30\n",
      "para_a / para_b /TP / FP / FN / TN / Precision / Recall / F-beta: 0.0038245515123770278 12.90901943819114 523.0 0 230.0 747 1.0000 0.6946 0.7510\n",
      "Initialization Progress: 9 / 30\n",
      "para_a / para_b /TP / FP / FN / TN / Precision / Recall / F-beta: 0.002057997201858787 6.492489209782438 726.0 529 27.0 218 0.5785 0.9641 0.8282\n",
      "Initialization Progress: 10 / 30\n",
      "para_a / para_b /TP / FP / FN / TN / Precision / Recall / F-beta: 0.0017481884266768242 8.966319307450778 732.0 564 21.0 183 0.5648 0.9721 0.8256\n",
      "Initialization Progress: 11 / 30\n",
      "para_a / para_b /TP / FP / FN / TN / Precision / Recall / F-beta: 0.0035052396444395953 2.4928960243948386 705.0 291 48.0 456 0.7078 0.9363 0.8674\n",
      "Initialization Progress: 12 / 30\n",
      "para_a / para_b /TP / FP / FN / TN / Precision / Recall / F-beta: 0.0020195534194174694 13.133890645855901 683.0 63 70.0 684 0.9155 0.9070 1.0000\n",
      "Initialization Progress: 13 / 30\n",
      "para_a / para_b /TP / FP / FN / TN / Precision / Recall / F-beta: 0.0028707829195034748 4.002769394090079 707.0 309 46.0 438 0.6959 0.9389 0.8646\n",
      "Initialization Progress: 14 / 30\n",
      "para_a / para_b /TP / FP / FN / TN / Precision / Recall / F-beta: 0.001430457374119561 4.9424881024589 753.0 747 0 0 0.5020 1.0000 0.8037\n",
      "Initialization Progress: 15 / 30\n",
      "para_a / para_b /TP / FP / FN / TN / Precision / Recall / F-beta: 0.0038618004918116347 11.148187123638994 536.0 0 217.0 747 1.0000 0.7118 0.7662\n",
      "Initialization Progress: 16 / 30\n",
      "para_a / para_b /TP / FP / FN / TN / Precision / Recall / F-beta: 0.0023590875668370198 15.008756675935963 578.0 4 175.0 743 0.9931 0.7676 0.8130\n",
      "Initialization Progress: 17 / 30\n",
      "para_a / para_b /TP / FP / FN / TN / Precision / Recall / F-beta: 0.002826152883328695 14.859906136270478 565.0 1 188.0 746 0.9982 0.7503 0.7992\n",
      "Initialization Progress: 18 / 30\n",
      "para_a / para_b /TP / FP / FN / TN / Precision / Recall / F-beta: 0.005415843451453748 8.527044727855216 516.0 0 237.0 747 1.0000 0.6853 0.7428\n",
      "Initialization Progress: 19 / 30\n",
      "para_a / para_b /TP / FP / FN / TN / Precision / Recall / F-beta: 0.005576890332989833 12.476928273173911 490.0 0 263.0 747 1.0000 0.6507 0.7119\n",
      "Initialization Progress: 20 / 30\n",
      "para_a / para_b /TP / FP / FN / TN / Precision / Recall / F-beta: 0.0042450477704012385 11.668348722905932 521.0 0 232.0 747 1.0000 0.6919 0.7487\n",
      "Initialization Progress: 21 / 30\n",
      "para_a / para_b /TP / FP / FN / TN / Precision / Recall / F-beta: 0.0009430828713504406 8.971121545460164 753.0 747 0 0 0.5020 1.0000 0.8037\n",
      "Initialization Progress: 22 / 30\n",
      "para_a / para_b /TP / FP / FN / TN / Precision / Recall / F-beta: 0.001395286790577865 17.882177851547446 682.0 198 71.0 549 0.7750 0.9057 0.8696\n",
      "Initialization Progress: 23 / 30\n",
      "para_a / para_b /TP / FP / FN / TN / Precision / Recall / F-beta: 0.0012565510717794629 6.6562795216894335 753.0 747 0 0 0.5020 1.0000 0.8037\n",
      "Initialization Progress: 24 / 30\n",
      "para_a / para_b /TP / FP / FN / TN / Precision / Recall / F-beta: 0.003797047228633279 18.397637834213295 479.0 0 274.0 747 1.0000 0.6361 0.6987\n",
      "Initialization Progress: 25 / 30\n",
      "para_a / para_b /TP / FP / FN / TN / Precision / Recall / F-beta: 0.0007770575883348746 3.8711818192684504 753.0 747 0 0 0.5020 1.0000 0.8037\n",
      "Initialization Progress: 26 / 30\n",
      "para_a / para_b /TP / FP / FN / TN / Precision / Recall / F-beta: 0.005537998997119104 6.466186269363808 543.0 0 210.0 747 1.0000 0.7211 0.7743\n",
      "Initialization Progress: 27 / 30\n",
      "para_a / para_b /TP / FP / FN / TN / Precision / Recall / F-beta: 0.0009475908367184763 14.582320092580074 749.0 743 4.0 4 0.5020 0.9947 0.8011\n",
      "Initialization Progress: 28 / 30\n",
      "para_a / para_b /TP / FP / FN / TN / Precision / Recall / F-beta: 0.0057901063509595944 4.032582642215701 599.0 0 154.0 747 1.0000 0.7955 0.8377\n",
      "Initialization Progress: 29 / 30\n",
      "para_a / para_b /TP / FP / FN / TN / Precision / Recall / F-beta: 0.00046656904502336965 12.640713284436362 753.0 747 0 0 0.5020 1.0000 0.8037\n",
      "Initialization Progress: 30 / 30\n"
     ]
    }
   ],
   "source": [
    "# PHASE 1 - INITIAL DATASET\n",
    "D = np.zeros((num_init_points, 3)) # first column is a, second column is b, third column is the objective function value\n",
    "for i in range(num_init_points):\n",
    "    a = np.random.uniform(lb_a, ub_a)\n",
    "    b = np.random.uniform(lb_b, ub_b)\n",
    "    D[i, 0] = a\n",
    "    D[i, 1] = b\n",
    "    D[i, 2] = objective_function(a, b)\n",
    "    # print progress\n",
    "    print('Initialization Progress:', i+1, '/', num_init_points)"
   ]
  },
  {
   "cell_type": "code",
   "execution_count": 28,
   "metadata": {},
   "outputs": [
    {
     "name": "stdout",
     "output_type": "stream",
     "text": [
      "Initial Maximum Value: 1.0141535277287392\n"
     ]
    }
   ],
   "source": [
    "max_val = np.max(D[:,2])\n",
    "print('Initial Maximum Value:', max_val)"
   ]
  },
  {
   "cell_type": "code",
   "execution_count": 29,
   "metadata": {},
   "outputs": [
    {
     "name": "stdout",
     "output_type": "stream",
     "text": [
      "para_a / para_b /TP / FP / FN / TN / Precision / Recall / F-beta: 0.003999655081567509 2.9406574551666473 699.0 142 54.0 605 0.8312 0.9283 0.9023\n",
      "BO Iteration: 1 / 20\n",
      "para_a / para_b /TP / FP / FN / TN / Precision / Recall / F-beta: 0.004213865310370788 3.322690570073039 688.0 30 65.0 717 0.9582 0.9137 1.0167\n",
      "BO Iteration: 2 / 20 Best Value Updated: 1.0166787227446523 at [[0.00421387 3.32269057]]\n",
      "para_a / para_b /TP / FP / FN / TN / Precision / Recall / F-beta: 0.003403775103580318 3.4262971456191256 702.0 210 51.0 537 0.7697 0.9323 0.8862\n",
      "BO Iteration: 3 / 20\n",
      "para_a / para_b /TP / FP / FN / TN / Precision / Recall / F-beta: 0.004998645966199639 2.9633244221833497 683.0 1 70.0 746 0.9985 0.9070 1.0208\n",
      "BO Iteration: 4 / 20 Best Value Updated: 1.0207667063815558 at [[0.00499865 2.96332442]]\n",
      "para_a / para_b /TP / FP / FN / TN / Precision / Recall / F-beta: 0.005866954086097572 3.0234132156896623 637.0 0 116.0 747 1.0000 0.8459 0.8793\n",
      "BO Iteration: 5 / 20\n",
      "para_a / para_b /TP / FP / FN / TN / Precision / Recall / F-beta: 0.00021969502341728003 3.295891748423942 753.0 747 0 0 0.5020 1.0000 0.8037\n",
      "BO Iteration: 6 / 20\n",
      "para_a / para_b /TP / FP / FN / TN / Precision / Recall / F-beta: 0.0055462897527263615 2.967666107020624 670.0 0 83.0 747 1.0000 0.8898 0.9146\n",
      "BO Iteration: 7 / 20\n",
      "para_a / para_b /TP / FP / FN / TN / Precision / Recall / F-beta: 0.0033027068512745885 2.7642003871580423 713.0 363 40.0 384 0.6626 0.9469 0.8564\n",
      "BO Iteration: 8 / 20\n",
      "para_a / para_b /TP / FP / FN / TN / Precision / Recall / F-beta: 0.002692091712816279 3.050311740324185 724.0 462 29.0 285 0.6105 0.9615 0.8423\n",
      "BO Iteration: 9 / 20\n",
      "para_a / para_b /TP / FP / FN / TN / Precision / Recall / F-beta: 0.0015692121452279698 3.157225764015558 753.0 747 0 0 0.5020 1.0000 0.8037\n",
      "BO Iteration: 10 / 20\n",
      "para_a / para_b /TP / FP / FN / TN / Precision / Recall / F-beta: 0.0024856362390594244 13.430175191559353 611.0 10 142.0 737 0.9839 0.8114 0.8480\n",
      "BO Iteration: 11 / 20\n",
      "para_a / para_b /TP / FP / FN / TN / Precision / Recall / F-beta: 0.0008854785700325159 7.199086346020838 753.0 747 0 0 0.5020 1.0000 0.8037\n",
      "BO Iteration: 12 / 20\n",
      "para_a / para_b /TP / FP / FN / TN / Precision / Recall / F-beta: 0.002108035884072427 3.515070968275351 749.0 628 4.0 119 0.5439 0.9947 0.8262\n",
      "BO Iteration: 13 / 20\n",
      "para_a / para_b /TP / FP / FN / TN / Precision / Recall / F-beta: 0.0005833995886102689 4.258776711207651 753.0 747 0 0 0.5020 1.0000 0.8037\n",
      "BO Iteration: 14 / 20\n",
      "para_a / para_b /TP / FP / FN / TN / Precision / Recall / F-beta: 0.0018252901142405248 2.901747725007456 753.0 723 0 24 0.5102 1.0000 0.8088\n",
      "BO Iteration: 15 / 20\n",
      "para_a / para_b /TP / FP / FN / TN / Precision / Recall / F-beta: 0.005021152960997642 13.208381755226272 495.0 0 258.0 747 1.0000 0.6574 0.7179\n",
      "BO Iteration: 16 / 20\n",
      "para_a / para_b /TP / FP / FN / TN / Precision / Recall / F-beta: 0.0051762529130079515 3.74779742479552 660.0 0 93.0 747 1.0000 0.8765 0.9040\n",
      "BO Iteration: 17 / 20\n",
      "para_a / para_b /TP / FP / FN / TN / Precision / Recall / F-beta: 0.0007131532948880194 3.607280397359066 753.0 747 0 0 0.5020 1.0000 0.8037\n",
      "BO Iteration: 18 / 20\n",
      "para_a / para_b /TP / FP / FN / TN / Precision / Recall / F-beta: 0.004580828429149538 2.875513766467794 692.0 30 61.0 717 0.9584 0.9190 1.0212\n",
      "BO Iteration: 19 / 20 Best Value Updated: 1.0212388284587917 at [[0.00458083 2.87551377]]\n",
      "para_a / para_b /TP / FP / FN / TN / Precision / Recall / F-beta: 0.0038951919162067234 2.8411533071341433 699.0 177 54.0 570 0.7979 0.9283 0.8924\n",
      "BO Iteration: 20 / 20\n"
     ]
    }
   ],
   "source": [
    "# PHASE 2 - OPTIMIZATION ITERATIONS\n",
    "for i in range(num_iter):\n",
    "    \n",
    "    update_flg = False\n",
    "    \n",
    "    # (1) use the surrogate model to approach the posterior distribution of the objective function, modeled by Gaussian Process which can be characterized by the mean function and the covariance function\n",
    "    \n",
    "    ## mean, var = mean_var(x, D, 1, 1)\n",
    "    \n",
    "    # (2) determine the next point to evaluate using the acquisition function S(D)\n",
    "    x_eval = optimize_acquisition(D)\n",
    "    \n",
    "    # (3) evaluate the objective function at the next point\n",
    "    f_eval = objective_function(x_eval[0,0], x_eval[0,1])\n",
    "    \n",
    "    # (4) update the dataset D\n",
    "    newpoint = np.zeros((1,3))\n",
    "    newpoint[0,0] = x_eval[0,0]\n",
    "    newpoint[0,1] = x_eval[0,1]\n",
    "    newpoint[0,2] = f_eval\n",
    "    D = np.vstack((D, newpoint))\n",
    "    \n",
    "    # # (5) check the stopping criterion\n",
    "    # gap = np.abs(D[-1, -1] - D[-2, -1])\n",
    "    # if gap < tolerance:\n",
    "    #     break\n",
    "    \n",
    "    # (5) update the global best value\n",
    "    if f_eval > max_val:\n",
    "        max_val = f_eval\n",
    "        max_x = x_eval\n",
    "        update_flg = True\n",
    "    \n",
    "    # (6) print the progress\n",
    "    if (update_flg == True):\n",
    "        print('BO Iteration:', i+1,'/', num_iter, 'Best Value Updated:', max_val, 'at', max_x)\n",
    "    else:\n",
    "        print('BO Iteration:', i+1,'/', num_iter)\n",
    "    \n",
    "    # (7) reset the flag\n",
    "    update_flg = False\n",
    "    "
   ]
  },
  {
   "cell_type": "code",
   "execution_count": 30,
   "metadata": {},
   "outputs": [
    {
     "name": "stdout",
     "output_type": "stream",
     "text": [
      "50\n"
     ]
    }
   ],
   "source": [
    "# number of points in D\n",
    "print(D.shape[0])"
   ]
  },
  {
   "cell_type": "code",
   "execution_count": 31,
   "metadata": {},
   "outputs": [],
   "source": [
    "# VISUALIZATION\n",
    "# plot the final dataset in animation, mark the order of the points\n",
    "fig = plt.figure()\n",
    "ax = fig.add_subplot(111, projection='3d')\n",
    "ax.set_xlabel('threshold')\n",
    "ax.set_ylabel('duration')\n",
    "ax.set_zlabel('F-beta score')\n",
    "ax.set_xlim(0, 1.1*ub_a)\n",
    "ax.set_ylim(0, 1.1*ub_b)\n",
    "ax.set_zlim(0, bonus_factor)\n",
    "\n",
    "def update(i):\n",
    "    ax.scatter(D[:i, 0], D[:i, 1], D[:i, 2], c='b')\n",
    "    ax.text(D[i, 0], D[i, 1], D[i, 2], str(i), color='black')\n",
    "    return ax\n",
    "\n",
    "ani = FuncAnimation(fig, update, frames=D.shape[0], repeat=False)\n",
    "\n",
    "plt.show()"
   ]
  },
  {
   "cell_type": "code",
   "execution_count": 38,
   "metadata": {},
   "outputs": [],
   "source": [
    "# Visualization\n",
    "# stem plot\n",
    "\n",
    "# Assuming D is already defined and contains your data\n",
    "# D[:, 0] -> threshold\n",
    "# D[:, 1] -> duration\n",
    "# D[:, 2] -> F-beta score\n",
    "\n",
    "fig = plt.figure()\n",
    "ax = fig.add_subplot(111, projection='3d')\n",
    "ax.set_xlabel('threshold')\n",
    "ax.set_ylabel('duration')\n",
    "ax.set_zlabel('F-beta score')\n",
    "ax.set_xlim(0, 1.1*ub_a)\n",
    "ax.set_ylim(0, 1.1*ub_b)\n",
    "ax.set_zlim(0, bonus_factor)\n",
    "\n",
    "# Create stem plot\n",
    "for i in range(D.shape[0]):\n",
    "    x = D[i, 0]\n",
    "    y = D[i, 1]\n",
    "    z = D[i, 2]\n",
    "    ax.plot([x, x], [y, y], [0, z], 'k--')\n",
    "    ax.scatter(x, y, z, c='b', marker='o')\n",
    "    ax.text(x, y, z, str(i), color='black')\n",
    "\n",
    "plt.show()\n"
   ]
  },
  {
   "cell_type": "code",
   "execution_count": 32,
   "metadata": {},
   "outputs": [
    {
     "name": "stdout",
     "output_type": "stream",
     "text": [
      "0.8924046903541335\n",
      "1.0212388284587917\n",
      "[0.00458083 2.87551377]\n",
      "48\n"
     ]
    }
   ],
   "source": [
    "# print the final value\n",
    "print(D[-1, -1])\n",
    "\n",
    "# print the max value\n",
    "print(np.max(D[:, -1]))\n",
    "\n",
    "# print the argmax\n",
    "print(D[np.argmax(D[:, -1]), :-1])\n",
    "\n",
    "# print the row index of the max value\n",
    "print(np.argmax(D[:, -1]))"
   ]
  },
  {
   "cell_type": "code",
   "execution_count": 33,
   "metadata": {},
   "outputs": [],
   "source": [
    "# save lb_a, ub_a, lb_b, ub_b, noise_lvl, k_alpha, k_lambda, num_init_points, num_iter, tolerance, ucb_beta\n",
    "np.save('config.npy', np.array([lb_a, ub_a, lb_b, ub_b, noise_lvl, k_alpha, k_lambda, num_init_points, num_iter, tolerance, ucb_beta]))\n",
    "\n",
    "# save D to a file\n",
    "np.save('D.npy', D)"
   ]
  }
 ],
 "metadata": {
  "kernelspec": {
   "display_name": "CSW",
   "language": "python",
   "name": "python3"
  },
  "language_info": {
   "codemirror_mode": {
    "name": "ipython",
    "version": 3
   },
   "file_extension": ".py",
   "mimetype": "text/x-python",
   "name": "python",
   "nbconvert_exporter": "python",
   "pygments_lexer": "ipython3",
   "version": "3.11.7"
  }
 },
 "nbformat": 4,
 "nbformat_minor": 2
}
