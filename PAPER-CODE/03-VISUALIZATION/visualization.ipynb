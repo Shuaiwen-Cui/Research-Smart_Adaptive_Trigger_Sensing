{
 "cells": [
  {
   "cell_type": "markdown",
   "metadata": {},
   "source": [
    "# VISUALIZATION"
   ]
  },
  {
   "cell_type": "code",
   "execution_count": 1,
   "metadata": {},
   "outputs": [],
   "source": [
    "# COMMON\n",
    "import numpy as np\n",
    "import sys\n",
    "import os\n",
    "import random\n",
    "import time\n",
    "import datetime\n",
    "import pandas as pd\n",
    "import matplotlib.pyplot as plt\n",
    "import seaborn as sns\n",
    "import plotly.express as px\n",
    "import plotly.graph_objects as go\n"
   ]
  },
  {
   "cell_type": "code",
   "execution_count": 2,
   "metadata": {},
   "outputs": [],
   "source": [
    "num_init_points = 15\n",
    "num_iter = 50\n",
    "num_iter_onboard = 20"
   ]
  },
  {
   "cell_type": "code",
   "execution_count": 3,
   "metadata": {},
   "outputs": [
    {
     "name": "stdout",
     "output_type": "stream",
     "text": [
      "(85, 10)\n"
     ]
    }
   ],
   "source": [
    "# LOAD DATA\n",
    "\n",
    "D_Path = r\"../02-ONBOARD-TRAINING/D.npy\"\n",
    "DD_Path = r\"../02-ONBOARD-TRAINING/DD.npy\"\n",
    "\n",
    "\n",
    "D = np.load(D_Path)\n",
    "DD = np.load(DD_Path)\n",
    "\n",
    "R = DD\n",
    "\n",
    "R = np.hstack((R,np.zeros((R.shape[0], 1))))\n",
    "\n",
    "for i in range(R.shape[0]):\n",
    "    R[i, -1] = i\n",
    "\n",
    "print(np.shape(R))\n",
    "\n",
    "# R: (1) threshold, (2) duration, (3) f-beta, (4) TP, (5) FP, (6) FN, (7) TN, (8) precision, (9) recall, (10) index\n",
    "\n",
    "R_INI = R[:num_init_points, :]\n",
    "R_ITR = R[num_init_points:num_init_points + num_iter, :]\n",
    "R_PRE = R[:num_init_points + num_iter, :]\n",
    "R_ONB = R[num_init_points + num_iter:num_init_points + num_iter + num_iter_onboard, :]"
   ]
  },
  {
   "cell_type": "code",
   "execution_count": 18,
   "metadata": {},
   "outputs": [
    {
     "name": "stdout",
     "output_type": "stream",
     "text": [
      "max f-beta in pre-optimization set:  1.0806183510638299\n",
      "index of max f-beta in pre-optimization set:  37\n"
     ]
    }
   ],
   "source": [
    "# find the maximum f-beta score in the pre-optimization set\n",
    "max_fbeta = np.max(R_PRE[:, 2])\n",
    "max_fbeta_index = np.argmax(R_PRE[:, 2])\n",
    "\n",
    "print(\"max f-beta in pre-optimization set: \", max_fbeta)\n",
    "print(\"index of max f-beta in pre-optimization set: \", max_fbeta_index)"
   ]
  },
  {
   "cell_type": "code",
   "execution_count": 4,
   "metadata": {},
   "outputs": [
    {
     "name": "stdout",
     "output_type": "stream",
     "text": [
      "max_fbeta:  1.0335518384587237\n",
      "max_fbeta_index:  10\n"
     ]
    }
   ],
   "source": [
    "# find the maximum f-beta score in the onboard data and its index\n",
    "max_fbeta = np.max(R_ONB[:, 2])\n",
    "max_fbeta_index = np.argmax(R_ONB[:, 2])\n",
    "\n",
    "print(\"max_fbeta: \", max_fbeta)\n",
    "print(\"max_fbeta_index: \", max_fbeta_index)"
   ]
  },
  {
   "cell_type": "code",
   "execution_count": 5,
   "metadata": {},
   "outputs": [
    {
     "data": {
      "application/vnd.plotly.v1+json": {
       "config": {
        "plotlyServerURL": "https://plot.ly"
       },
       "data": [
        {
         "hovertemplate": "x=%{x}<br>y=%{y}<br>size=%{marker.size}<br>color=%{marker.color}<extra></extra>",
         "legendgroup": "",
         "marker": {
          "color": [
           0,
           1,
           2,
           3,
           4,
           5,
           6,
           7,
           8,
           9,
           10,
           11,
           12,
           13,
           14,
           15,
           16,
           17,
           18,
           19,
           20,
           21,
           22,
           23,
           24,
           25,
           26,
           27,
           28,
           29,
           30,
           31,
           32,
           33,
           34,
           35,
           36,
           37,
           38,
           39,
           40,
           41,
           42,
           43,
           44,
           45,
           46,
           47,
           48,
           49,
           50,
           51,
           52,
           53,
           54,
           55,
           56,
           57,
           58,
           59,
           60,
           61,
           62,
           63,
           64,
           65,
           66,
           67,
           68,
           69,
           70,
           71,
           72,
           73,
           74,
           75,
           76,
           77,
           78,
           79,
           80,
           81,
           82,
           83,
           84
          ],
          "coloraxis": "coloraxis",
          "size": [
           1.0383970489604293,
           0.9090909090909091,
           1.0263467024668569,
           0.9060402684563759,
           0.9092286710107592,
           0.9357188093730209,
           0.9056258576002439,
           0.9121569829832898,
           0.7581721718295397,
           0.8536585365853658,
           1.0567364016736402,
           0.9620128268376912,
           1.069090909090909,
           0.8952959028831563,
           1.067,
           1.0794647282339338,
           0.9095043201455207,
           1.035228988424761,
           0.9124198962465669,
           1.0687813021702839,
           1.0801933977992664,
           1.044990801137314,
           0.9118587304003654,
           0.9090909090909091,
           0.6976744186046512,
           0.961288223812622,
           0.9605433376455369,
           0.8952959028831563,
           0.9115811900776137,
           0.7896981067712775,
           0.7040798760543984,
           1.0792591356582681,
           0.9304143862392494,
           0.9090909090909091,
           0.9090909090909091,
           0.911442483262325,
           0.9095043201455207,
           1.0806183510638299,
           0.9506985707403244,
           0.9097801364670205,
           0.9090909090909091,
           1.012939001848429,
           0.8473140145738011,
           1.0792591356582681,
           0.9090909090909091,
           0.9090909090909091,
           0.9090909090909091,
           0.9090909090909091,
           0.8552074513124471,
           1.0619039651999331,
           0.9090909090909091,
           1.0045408678102927,
           0.9090909090909091,
           1.0585774058577406,
           0.9090909090909091,
           1.0801933977992664,
           0.9117199391171994,
           0.9090909090909091,
           1.0435802883003689,
           0.9090909090909091,
           1.0767050191762548,
           0.9093678598629094,
           0.9118541033434651,
           0.9610685779442906,
           1.0750500333555706,
           1.0233706413658998,
           1.02771595827616,
           0.9406619437680717,
           1.0255642194709762,
           1.0265652826488212,
           0.9240974530247347,
           1.014243839920384,
           0.8155385434151085,
           0.9406521108734455,
           0.9459010016326396,
           1.0335518384587237,
           0.9405017578552228,
           1.0277883645484271,
           0.9422517371478997,
           1.0151259573970743,
           0.8988413209201451,
           1.0240018050547042,
           0.9394551323109314,
           0.8961761309257005,
           0.9428261365353983
          ],
          "sizemode": "area",
          "sizeref": 0.002701545877659575,
          "symbol": "circle"
         },
         "mode": "markers",
         "name": "",
         "orientation": "v",
         "showlegend": false,
         "type": "scatter",
         "x": [
          0.013923535641584465,
          0.0026146408317982025,
          0.011643475214904383,
          0.005005432033846695,
          0.0039153469204843885,
          0.007245180918271568,
          0.005027282759616603,
          0.006542010934350525,
          0.013517159802857382,
          0.014215911493829144,
          0.014793471864158891,
          0.00785881010401822,
          0.009039485070106856,
          0.01605782281740864,
          0.010120721845234892,
          0.011719451780694709,
          0.00248256543479497,
          0.016109626830173186,
          0.008156070921543487,
          0.01201013528743781,
          0.013389082238372195,
          0.01009335846919932,
          0.0032467103415035744,
          0.00032590821678964545,
          0.016619587135295637,
          0.0086275921493037,
          0.010640819864370344,
          0.01592725393000278,
          0.003108148269096591,
          0.015078681023016072,
          0.016075167653846978,
          0.013780462530580623,
          0.009519477574444334,
          0.000619871436045254,
          0.0029051431389135493,
          0.004316575194453414,
          0.0025706663549380972,
          0.012412515033221048,
          0.008801991642561095,
          0.005610467072248814,
          0.003136528223350605,
          0.012213494745159875,
          0.012370507034514859,
          0.01372025248568662,
          0.0010362450915465881,
          0.003821724714716561,
          0.002812494231551567,
          0.0007779668672428159,
          0.015741945124733838,
          0.01640084036303291,
          0.0031259605916464546,
          0.011420996402516061,
          0.0015692869453695572,
          0.016499984219656785,
          0.0013319993600479597,
          0.013434679814115849,
          0.006911113985965642,
          0.0007892782200614162,
          0.015587648112994854,
          0.0008758388039498983,
          0.0124851191684747,
          0.006099123745457028,
          0.006361633826713498,
          0.008171190187500805,
          0.012637453215235808,
          0.014222310196138586,
          0.013883494518965664,
          0.010248041919413328,
          0.01497529636343339,
          0.014515503028541194,
          0.00760179153809369,
          0.014413730018515874,
          0.004634354368245535,
          0.009923399687761878,
          0.010751548497234113,
          0.012099814987986561,
          0.010222527938828479,
          0.014578660083730833,
          0.009337771437114574,
          0.014036410216319422,
          0.0056840036644070936,
          0.0146367065301583,
          0.011657725194978536,
          0.013961813596054917,
          0.01181644919825968
         ],
         "xaxis": "x",
         "y": [
          4.8321011980118715,
          5.09359573065937,
          6.040586149844081,
          7.123012642117984,
          4.575489087361093,
          6.6187428458377315,
          6.107518058322045,
          5.230185236574166,
          9.683199162824087,
          6.736172164155384,
          3.605746069767968,
          8.97712425660999,
          6.376047828341818,
          4.809321008901322,
          6.7250069488223225,
          2.4252532226349404,
          8.11166106856976,
          3.131707789523354,
          2.064152590814718,
          4.055596659885152,
          2.790454050091408,
          7.580485384897242,
          8.303584427586394,
          3.4505014589852836,
          9.995617104219594,
          5.712276086780518,
          2.62713101574525,
          4.109261674047476,
          8.675088265083414,
          7.734720433247876,
          9.266133213814019,
          2.0329520819698867,
          2.992338520511921,
          2.3671642843491165,
          3.7543333503386043,
          5.607291994932785,
          7.33943454099101,
          2.015557557257843,
          4.371116330540877,
          2.005051387461844,
          3.243251805626832,
          6.224866777603471,
          8.602833774453934,
          2.630856999893795,
          2.4821973755033904,
          3.794611642682413,
          6.41506658025062,
          7.073647081483084,
          5.860080952114699,
          2.8611842912032577,
          4.376531847880266,
          7.977840074896267,
          5.377664144894675,
          2.000560265001064,
          2.9583956622781162,
          2.2642735928731197,
          2.3781228356106894,
          7.606405672760627,
          3.3994221931546598,
          8.36749586394299,
          3.848282872083818,
          4.058773347594962,
          2.0005602697077727,
          6.355507428473871,
          3.425562745999092,
          2.7258960092489266,
          2.483967788360471,
          2.7307013258547084,
          2.3010469175765733,
          2.4026727235866048,
          2.263614245404317,
          3.578116227878919,
          3.3895535862242623,
          2.6799531806853043,
          2.2508598727172755,
          2.507746520829172,
          2.7579690158074825,
          2.263474783399264,
          2.284176835058041,
          3.656135308543412,
          3.700766157976763,
          2.5874721400634764,
          2.5299691395591104,
          6.372083892230138,
          2.212400186759214
         ],
         "yaxis": "y"
        }
       ],
       "layout": {
        "coloraxis": {
         "colorbar": {
          "title": {
           "text": "color"
          }
         },
         "colorscale": [
          [
           0,
           "lightgray"
          ],
          [
           1,
           "black"
          ]
         ]
        },
        "font": {
         "color": "black",
         "family": "Times New Roman",
         "size": 16
        },
        "height": 600,
        "legend": {
         "itemsizing": "constant",
         "tracegroupgap": 0
        },
        "margin": {
         "t": 60
        },
        "template": {
         "data": {
          "bar": [
           {
            "error_x": {
             "color": "#2a3f5f"
            },
            "error_y": {
             "color": "#2a3f5f"
            },
            "marker": {
             "line": {
              "color": "#E5ECF6",
              "width": 0.5
             },
             "pattern": {
              "fillmode": "overlay",
              "size": 10,
              "solidity": 0.2
             }
            },
            "type": "bar"
           }
          ],
          "barpolar": [
           {
            "marker": {
             "line": {
              "color": "#E5ECF6",
              "width": 0.5
             },
             "pattern": {
              "fillmode": "overlay",
              "size": 10,
              "solidity": 0.2
             }
            },
            "type": "barpolar"
           }
          ],
          "carpet": [
           {
            "aaxis": {
             "endlinecolor": "#2a3f5f",
             "gridcolor": "white",
             "linecolor": "white",
             "minorgridcolor": "white",
             "startlinecolor": "#2a3f5f"
            },
            "baxis": {
             "endlinecolor": "#2a3f5f",
             "gridcolor": "white",
             "linecolor": "white",
             "minorgridcolor": "white",
             "startlinecolor": "#2a3f5f"
            },
            "type": "carpet"
           }
          ],
          "choropleth": [
           {
            "colorbar": {
             "outlinewidth": 0,
             "ticks": ""
            },
            "type": "choropleth"
           }
          ],
          "contour": [
           {
            "colorbar": {
             "outlinewidth": 0,
             "ticks": ""
            },
            "colorscale": [
             [
              0,
              "#0d0887"
             ],
             [
              0.1111111111111111,
              "#46039f"
             ],
             [
              0.2222222222222222,
              "#7201a8"
             ],
             [
              0.3333333333333333,
              "#9c179e"
             ],
             [
              0.4444444444444444,
              "#bd3786"
             ],
             [
              0.5555555555555556,
              "#d8576b"
             ],
             [
              0.6666666666666666,
              "#ed7953"
             ],
             [
              0.7777777777777778,
              "#fb9f3a"
             ],
             [
              0.8888888888888888,
              "#fdca26"
             ],
             [
              1,
              "#f0f921"
             ]
            ],
            "type": "contour"
           }
          ],
          "contourcarpet": [
           {
            "colorbar": {
             "outlinewidth": 0,
             "ticks": ""
            },
            "type": "contourcarpet"
           }
          ],
          "heatmap": [
           {
            "colorbar": {
             "outlinewidth": 0,
             "ticks": ""
            },
            "colorscale": [
             [
              0,
              "#0d0887"
             ],
             [
              0.1111111111111111,
              "#46039f"
             ],
             [
              0.2222222222222222,
              "#7201a8"
             ],
             [
              0.3333333333333333,
              "#9c179e"
             ],
             [
              0.4444444444444444,
              "#bd3786"
             ],
             [
              0.5555555555555556,
              "#d8576b"
             ],
             [
              0.6666666666666666,
              "#ed7953"
             ],
             [
              0.7777777777777778,
              "#fb9f3a"
             ],
             [
              0.8888888888888888,
              "#fdca26"
             ],
             [
              1,
              "#f0f921"
             ]
            ],
            "type": "heatmap"
           }
          ],
          "heatmapgl": [
           {
            "colorbar": {
             "outlinewidth": 0,
             "ticks": ""
            },
            "colorscale": [
             [
              0,
              "#0d0887"
             ],
             [
              0.1111111111111111,
              "#46039f"
             ],
             [
              0.2222222222222222,
              "#7201a8"
             ],
             [
              0.3333333333333333,
              "#9c179e"
             ],
             [
              0.4444444444444444,
              "#bd3786"
             ],
             [
              0.5555555555555556,
              "#d8576b"
             ],
             [
              0.6666666666666666,
              "#ed7953"
             ],
             [
              0.7777777777777778,
              "#fb9f3a"
             ],
             [
              0.8888888888888888,
              "#fdca26"
             ],
             [
              1,
              "#f0f921"
             ]
            ],
            "type": "heatmapgl"
           }
          ],
          "histogram": [
           {
            "marker": {
             "pattern": {
              "fillmode": "overlay",
              "size": 10,
              "solidity": 0.2
             }
            },
            "type": "histogram"
           }
          ],
          "histogram2d": [
           {
            "colorbar": {
             "outlinewidth": 0,
             "ticks": ""
            },
            "colorscale": [
             [
              0,
              "#0d0887"
             ],
             [
              0.1111111111111111,
              "#46039f"
             ],
             [
              0.2222222222222222,
              "#7201a8"
             ],
             [
              0.3333333333333333,
              "#9c179e"
             ],
             [
              0.4444444444444444,
              "#bd3786"
             ],
             [
              0.5555555555555556,
              "#d8576b"
             ],
             [
              0.6666666666666666,
              "#ed7953"
             ],
             [
              0.7777777777777778,
              "#fb9f3a"
             ],
             [
              0.8888888888888888,
              "#fdca26"
             ],
             [
              1,
              "#f0f921"
             ]
            ],
            "type": "histogram2d"
           }
          ],
          "histogram2dcontour": [
           {
            "colorbar": {
             "outlinewidth": 0,
             "ticks": ""
            },
            "colorscale": [
             [
              0,
              "#0d0887"
             ],
             [
              0.1111111111111111,
              "#46039f"
             ],
             [
              0.2222222222222222,
              "#7201a8"
             ],
             [
              0.3333333333333333,
              "#9c179e"
             ],
             [
              0.4444444444444444,
              "#bd3786"
             ],
             [
              0.5555555555555556,
              "#d8576b"
             ],
             [
              0.6666666666666666,
              "#ed7953"
             ],
             [
              0.7777777777777778,
              "#fb9f3a"
             ],
             [
              0.8888888888888888,
              "#fdca26"
             ],
             [
              1,
              "#f0f921"
             ]
            ],
            "type": "histogram2dcontour"
           }
          ],
          "mesh3d": [
           {
            "colorbar": {
             "outlinewidth": 0,
             "ticks": ""
            },
            "type": "mesh3d"
           }
          ],
          "parcoords": [
           {
            "line": {
             "colorbar": {
              "outlinewidth": 0,
              "ticks": ""
             }
            },
            "type": "parcoords"
           }
          ],
          "pie": [
           {
            "automargin": true,
            "type": "pie"
           }
          ],
          "scatter": [
           {
            "fillpattern": {
             "fillmode": "overlay",
             "size": 10,
             "solidity": 0.2
            },
            "type": "scatter"
           }
          ],
          "scatter3d": [
           {
            "line": {
             "colorbar": {
              "outlinewidth": 0,
              "ticks": ""
             }
            },
            "marker": {
             "colorbar": {
              "outlinewidth": 0,
              "ticks": ""
             }
            },
            "type": "scatter3d"
           }
          ],
          "scattercarpet": [
           {
            "marker": {
             "colorbar": {
              "outlinewidth": 0,
              "ticks": ""
             }
            },
            "type": "scattercarpet"
           }
          ],
          "scattergeo": [
           {
            "marker": {
             "colorbar": {
              "outlinewidth": 0,
              "ticks": ""
             }
            },
            "type": "scattergeo"
           }
          ],
          "scattergl": [
           {
            "marker": {
             "colorbar": {
              "outlinewidth": 0,
              "ticks": ""
             }
            },
            "type": "scattergl"
           }
          ],
          "scattermapbox": [
           {
            "marker": {
             "colorbar": {
              "outlinewidth": 0,
              "ticks": ""
             }
            },
            "type": "scattermapbox"
           }
          ],
          "scatterpolar": [
           {
            "marker": {
             "colorbar": {
              "outlinewidth": 0,
              "ticks": ""
             }
            },
            "type": "scatterpolar"
           }
          ],
          "scatterpolargl": [
           {
            "marker": {
             "colorbar": {
              "outlinewidth": 0,
              "ticks": ""
             }
            },
            "type": "scatterpolargl"
           }
          ],
          "scatterternary": [
           {
            "marker": {
             "colorbar": {
              "outlinewidth": 0,
              "ticks": ""
             }
            },
            "type": "scatterternary"
           }
          ],
          "surface": [
           {
            "colorbar": {
             "outlinewidth": 0,
             "ticks": ""
            },
            "colorscale": [
             [
              0,
              "#0d0887"
             ],
             [
              0.1111111111111111,
              "#46039f"
             ],
             [
              0.2222222222222222,
              "#7201a8"
             ],
             [
              0.3333333333333333,
              "#9c179e"
             ],
             [
              0.4444444444444444,
              "#bd3786"
             ],
             [
              0.5555555555555556,
              "#d8576b"
             ],
             [
              0.6666666666666666,
              "#ed7953"
             ],
             [
              0.7777777777777778,
              "#fb9f3a"
             ],
             [
              0.8888888888888888,
              "#fdca26"
             ],
             [
              1,
              "#f0f921"
             ]
            ],
            "type": "surface"
           }
          ],
          "table": [
           {
            "cells": {
             "fill": {
              "color": "#EBF0F8"
             },
             "line": {
              "color": "white"
             }
            },
            "header": {
             "fill": {
              "color": "#C8D4E3"
             },
             "line": {
              "color": "white"
             }
            },
            "type": "table"
           }
          ]
         },
         "layout": {
          "annotationdefaults": {
           "arrowcolor": "#2a3f5f",
           "arrowhead": 0,
           "arrowwidth": 1
          },
          "autotypenumbers": "strict",
          "coloraxis": {
           "colorbar": {
            "outlinewidth": 0,
            "ticks": ""
           }
          },
          "colorscale": {
           "diverging": [
            [
             0,
             "#8e0152"
            ],
            [
             0.1,
             "#c51b7d"
            ],
            [
             0.2,
             "#de77ae"
            ],
            [
             0.3,
             "#f1b6da"
            ],
            [
             0.4,
             "#fde0ef"
            ],
            [
             0.5,
             "#f7f7f7"
            ],
            [
             0.6,
             "#e6f5d0"
            ],
            [
             0.7,
             "#b8e186"
            ],
            [
             0.8,
             "#7fbc41"
            ],
            [
             0.9,
             "#4d9221"
            ],
            [
             1,
             "#276419"
            ]
           ],
           "sequential": [
            [
             0,
             "#0d0887"
            ],
            [
             0.1111111111111111,
             "#46039f"
            ],
            [
             0.2222222222222222,
             "#7201a8"
            ],
            [
             0.3333333333333333,
             "#9c179e"
            ],
            [
             0.4444444444444444,
             "#bd3786"
            ],
            [
             0.5555555555555556,
             "#d8576b"
            ],
            [
             0.6666666666666666,
             "#ed7953"
            ],
            [
             0.7777777777777778,
             "#fb9f3a"
            ],
            [
             0.8888888888888888,
             "#fdca26"
            ],
            [
             1,
             "#f0f921"
            ]
           ],
           "sequentialminus": [
            [
             0,
             "#0d0887"
            ],
            [
             0.1111111111111111,
             "#46039f"
            ],
            [
             0.2222222222222222,
             "#7201a8"
            ],
            [
             0.3333333333333333,
             "#9c179e"
            ],
            [
             0.4444444444444444,
             "#bd3786"
            ],
            [
             0.5555555555555556,
             "#d8576b"
            ],
            [
             0.6666666666666666,
             "#ed7953"
            ],
            [
             0.7777777777777778,
             "#fb9f3a"
            ],
            [
             0.8888888888888888,
             "#fdca26"
            ],
            [
             1,
             "#f0f921"
            ]
           ]
          },
          "colorway": [
           "#636efa",
           "#EF553B",
           "#00cc96",
           "#ab63fa",
           "#FFA15A",
           "#19d3f3",
           "#FF6692",
           "#B6E880",
           "#FF97FF",
           "#FECB52"
          ],
          "font": {
           "color": "#2a3f5f"
          },
          "geo": {
           "bgcolor": "white",
           "lakecolor": "white",
           "landcolor": "#E5ECF6",
           "showlakes": true,
           "showland": true,
           "subunitcolor": "white"
          },
          "hoverlabel": {
           "align": "left"
          },
          "hovermode": "closest",
          "mapbox": {
           "style": "light"
          },
          "paper_bgcolor": "white",
          "plot_bgcolor": "#E5ECF6",
          "polar": {
           "angularaxis": {
            "gridcolor": "white",
            "linecolor": "white",
            "ticks": ""
           },
           "bgcolor": "#E5ECF6",
           "radialaxis": {
            "gridcolor": "white",
            "linecolor": "white",
            "ticks": ""
           }
          },
          "scene": {
           "xaxis": {
            "backgroundcolor": "#E5ECF6",
            "gridcolor": "white",
            "gridwidth": 2,
            "linecolor": "white",
            "showbackground": true,
            "ticks": "",
            "zerolinecolor": "white"
           },
           "yaxis": {
            "backgroundcolor": "#E5ECF6",
            "gridcolor": "white",
            "gridwidth": 2,
            "linecolor": "white",
            "showbackground": true,
            "ticks": "",
            "zerolinecolor": "white"
           },
           "zaxis": {
            "backgroundcolor": "#E5ECF6",
            "gridcolor": "white",
            "gridwidth": 2,
            "linecolor": "white",
            "showbackground": true,
            "ticks": "",
            "zerolinecolor": "white"
           }
          },
          "shapedefaults": {
           "line": {
            "color": "#2a3f5f"
           }
          },
          "ternary": {
           "aaxis": {
            "gridcolor": "white",
            "linecolor": "white",
            "ticks": ""
           },
           "baxis": {
            "gridcolor": "white",
            "linecolor": "white",
            "ticks": ""
           },
           "bgcolor": "#E5ECF6",
           "caxis": {
            "gridcolor": "white",
            "linecolor": "white",
            "ticks": ""
           }
          },
          "title": {
           "x": 0.05
          },
          "xaxis": {
           "automargin": true,
           "gridcolor": "white",
           "linecolor": "white",
           "ticks": "",
           "title": {
            "standoff": 15
           },
           "zerolinecolor": "white",
           "zerolinewidth": 2
          },
          "yaxis": {
           "automargin": true,
           "gridcolor": "white",
           "linecolor": "white",
           "ticks": "",
           "title": {
            "standoff": 15
           },
           "zerolinecolor": "white",
           "zerolinewidth": 2
          }
         }
        },
        "width": 600,
        "xaxis": {
         "anchor": "y",
         "domain": [
          0,
          1
         ],
         "range": [
          -0.002,
          0.018
         ],
         "tickfont": {
          "color": "black",
          "family": "Times New Roman",
          "size": 16
         },
         "title": {
          "text": "x"
         }
        },
        "yaxis": {
         "anchor": "x",
         "domain": [
          0,
          1
         ],
         "range": [
          1,
          11
         ],
         "tickfont": {
          "color": "black",
          "family": "Times New Roman",
          "size": 16
         },
         "title": {
          "text": "y"
         }
        }
       }
      }
     },
     "metadata": {},
     "output_type": "display_data"
    }
   ],
   "source": [
    "# Font customization variables - modify these as desired\n",
    "font_family = \"Times New Roman\"\n",
    "font_size = 16          # Set desired font size\n",
    "font_color = \"black\"    # Set desired font color\n",
    "\n",
    "# Create a scatter plot using Plotly Express directly from numpy arrays\n",
    "fig = px.scatter(\n",
    "    x=R[:, 0],            # x-axis: threshold (first column)\n",
    "    y=R[:, 1],            # y-axis: duration (second column)\n",
    "    size = R[:, 2],       # size of the markers determined by the f-beta score (third column)\n",
    "    color=R[:, 9],        # color determined by the last column (index)\n",
    "    # Set a continuous color scale from light gray (min) to black (max)\n",
    "    color_continuous_scale=[[0, 'lightgray'], [1, 'black']],\n",
    "    # title=\"2D Scatter Plot\"\n",
    ")\n",
    "\n",
    "# Update layout: set font and specify equal width and height for visual equality of axes\n",
    "fig.update_layout(\n",
    "    font=dict(\n",
    "        family=font_family,  # set font family to Times New Roman\n",
    "        size=font_size,      # set font size\n",
    "        color=font_color     # set font color\n",
    "    ),\n",
    "    width=600,               # set figure width (in pixels)\n",
    "    height=600               # set figure height (in pixels) to create a square canvas\n",
    ")\n",
    "\n",
    "# Update x-axis and y-axis with the customized font properties and specified ranges\n",
    "fig.update_xaxes(\n",
    "    range=[-0.002, 0.018],\n",
    "    tickfont=dict(family=font_family, size=font_size, color=font_color)\n",
    ")\n",
    "fig.update_yaxes(\n",
    "    range=[1, 11],\n",
    "    tickfont=dict(family=font_family, size=font_size, color=font_color)\n",
    ")\n",
    "\n",
    "# Display the plot\n",
    "fig.show()\n",
    "\n"
   ]
  },
  {
   "cell_type": "code",
   "execution_count": 6,
   "metadata": {},
   "outputs": [
    {
     "data": {
      "application/vnd.plotly.v1+json": {
       "config": {
        "plotlyServerURL": "https://plot.ly"
       },
       "data": [
        {
         "marker": {
          "color": "red",
          "size": 10
         },
         "mode": "markers",
         "name": "R_PRE",
         "type": "scatter",
         "x": [
          0.013923535641584465,
          0.0026146408317982025,
          0.011643475214904383,
          0.005005432033846695,
          0.0039153469204843885,
          0.007245180918271568,
          0.005027282759616603,
          0.006542010934350525,
          0.013517159802857382,
          0.014215911493829144,
          0.014793471864158891,
          0.00785881010401822,
          0.009039485070106856,
          0.01605782281740864,
          0.010120721845234892,
          0.011719451780694709,
          0.00248256543479497,
          0.016109626830173186,
          0.008156070921543487,
          0.01201013528743781,
          0.013389082238372195,
          0.01009335846919932,
          0.0032467103415035744,
          0.00032590821678964545,
          0.016619587135295637,
          0.0086275921493037,
          0.010640819864370344,
          0.01592725393000278,
          0.003108148269096591,
          0.015078681023016072,
          0.016075167653846978,
          0.013780462530580623,
          0.009519477574444334,
          0.000619871436045254,
          0.0029051431389135493,
          0.004316575194453414,
          0.0025706663549380972,
          0.012412515033221048,
          0.008801991642561095,
          0.005610467072248814,
          0.003136528223350605,
          0.012213494745159875,
          0.012370507034514859,
          0.01372025248568662,
          0.0010362450915465881,
          0.003821724714716561,
          0.002812494231551567,
          0.0007779668672428159,
          0.015741945124733838,
          0.01640084036303291,
          0.0031259605916464546,
          0.011420996402516061,
          0.0015692869453695572,
          0.016499984219656785,
          0.0013319993600479597,
          0.013434679814115849,
          0.006911113985965642,
          0.0007892782200614162,
          0.015587648112994854,
          0.0008758388039498983,
          0.0124851191684747,
          0.006099123745457028,
          0.006361633826713498,
          0.008171190187500805,
          0.012637453215235808
         ],
         "y": [
          4.8321011980118715,
          5.09359573065937,
          6.040586149844081,
          7.123012642117984,
          4.575489087361093,
          6.6187428458377315,
          6.107518058322045,
          5.230185236574166,
          9.683199162824087,
          6.736172164155384,
          3.605746069767968,
          8.97712425660999,
          6.376047828341818,
          4.809321008901322,
          6.7250069488223225,
          2.4252532226349404,
          8.11166106856976,
          3.131707789523354,
          2.064152590814718,
          4.055596659885152,
          2.790454050091408,
          7.580485384897242,
          8.303584427586394,
          3.4505014589852836,
          9.995617104219594,
          5.712276086780518,
          2.62713101574525,
          4.109261674047476,
          8.675088265083414,
          7.734720433247876,
          9.266133213814019,
          2.0329520819698867,
          2.992338520511921,
          2.3671642843491165,
          3.7543333503386043,
          5.607291994932785,
          7.33943454099101,
          2.015557557257843,
          4.371116330540877,
          2.005051387461844,
          3.243251805626832,
          6.224866777603471,
          8.602833774453934,
          2.630856999893795,
          2.4821973755033904,
          3.794611642682413,
          6.41506658025062,
          7.073647081483084,
          5.860080952114699,
          2.8611842912032577,
          4.376531847880266,
          7.977840074896267,
          5.377664144894675,
          2.000560265001064,
          2.9583956622781162,
          2.2642735928731197,
          2.3781228356106894,
          7.606405672760627,
          3.3994221931546598,
          8.36749586394299,
          3.848282872083818,
          4.058773347594962,
          2.0005602697077727,
          6.355507428473871,
          3.425562745999092
         ]
        },
        {
         "marker": {
          "color": "blue",
          "size": 10
         },
         "mode": "markers",
         "name": "R_ONB",
         "type": "scatter",
         "x": [
          0.014222310196138586,
          0.013883494518965664,
          0.010248041919413328,
          0.01497529636343339,
          0.014515503028541194,
          0.00760179153809369,
          0.014413730018515874,
          0.004634354368245535,
          0.009923399687761878,
          0.010751548497234113,
          0.012099814987986561,
          0.010222527938828479,
          0.014578660083730833,
          0.009337771437114574,
          0.014036410216319422,
          0.0056840036644070936,
          0.0146367065301583,
          0.011657725194978536,
          0.013961813596054917,
          0.01181644919825968
         ],
         "y": [
          2.7258960092489266,
          2.483967788360471,
          2.7307013258547084,
          2.3010469175765733,
          2.4026727235866048,
          2.263614245404317,
          3.578116227878919,
          3.3895535862242623,
          2.6799531806853043,
          2.2508598727172755,
          2.507746520829172,
          2.7579690158074825,
          2.263474783399264,
          2.284176835058041,
          3.656135308543412,
          3.700766157976763,
          2.5874721400634764,
          2.5299691395591104,
          6.372083892230138,
          2.212400186759214
         ]
        }
       ],
       "layout": {
        "font": {
         "color": "black",
         "family": "Times New Roman",
         "size": 16
        },
        "height": 600,
        "showlegend": false,
        "template": {
         "data": {
          "bar": [
           {
            "error_x": {
             "color": "#2a3f5f"
            },
            "error_y": {
             "color": "#2a3f5f"
            },
            "marker": {
             "line": {
              "color": "#E5ECF6",
              "width": 0.5
             },
             "pattern": {
              "fillmode": "overlay",
              "size": 10,
              "solidity": 0.2
             }
            },
            "type": "bar"
           }
          ],
          "barpolar": [
           {
            "marker": {
             "line": {
              "color": "#E5ECF6",
              "width": 0.5
             },
             "pattern": {
              "fillmode": "overlay",
              "size": 10,
              "solidity": 0.2
             }
            },
            "type": "barpolar"
           }
          ],
          "carpet": [
           {
            "aaxis": {
             "endlinecolor": "#2a3f5f",
             "gridcolor": "white",
             "linecolor": "white",
             "minorgridcolor": "white",
             "startlinecolor": "#2a3f5f"
            },
            "baxis": {
             "endlinecolor": "#2a3f5f",
             "gridcolor": "white",
             "linecolor": "white",
             "minorgridcolor": "white",
             "startlinecolor": "#2a3f5f"
            },
            "type": "carpet"
           }
          ],
          "choropleth": [
           {
            "colorbar": {
             "outlinewidth": 0,
             "ticks": ""
            },
            "type": "choropleth"
           }
          ],
          "contour": [
           {
            "colorbar": {
             "outlinewidth": 0,
             "ticks": ""
            },
            "colorscale": [
             [
              0,
              "#0d0887"
             ],
             [
              0.1111111111111111,
              "#46039f"
             ],
             [
              0.2222222222222222,
              "#7201a8"
             ],
             [
              0.3333333333333333,
              "#9c179e"
             ],
             [
              0.4444444444444444,
              "#bd3786"
             ],
             [
              0.5555555555555556,
              "#d8576b"
             ],
             [
              0.6666666666666666,
              "#ed7953"
             ],
             [
              0.7777777777777778,
              "#fb9f3a"
             ],
             [
              0.8888888888888888,
              "#fdca26"
             ],
             [
              1,
              "#f0f921"
             ]
            ],
            "type": "contour"
           }
          ],
          "contourcarpet": [
           {
            "colorbar": {
             "outlinewidth": 0,
             "ticks": ""
            },
            "type": "contourcarpet"
           }
          ],
          "heatmap": [
           {
            "colorbar": {
             "outlinewidth": 0,
             "ticks": ""
            },
            "colorscale": [
             [
              0,
              "#0d0887"
             ],
             [
              0.1111111111111111,
              "#46039f"
             ],
             [
              0.2222222222222222,
              "#7201a8"
             ],
             [
              0.3333333333333333,
              "#9c179e"
             ],
             [
              0.4444444444444444,
              "#bd3786"
             ],
             [
              0.5555555555555556,
              "#d8576b"
             ],
             [
              0.6666666666666666,
              "#ed7953"
             ],
             [
              0.7777777777777778,
              "#fb9f3a"
             ],
             [
              0.8888888888888888,
              "#fdca26"
             ],
             [
              1,
              "#f0f921"
             ]
            ],
            "type": "heatmap"
           }
          ],
          "heatmapgl": [
           {
            "colorbar": {
             "outlinewidth": 0,
             "ticks": ""
            },
            "colorscale": [
             [
              0,
              "#0d0887"
             ],
             [
              0.1111111111111111,
              "#46039f"
             ],
             [
              0.2222222222222222,
              "#7201a8"
             ],
             [
              0.3333333333333333,
              "#9c179e"
             ],
             [
              0.4444444444444444,
              "#bd3786"
             ],
             [
              0.5555555555555556,
              "#d8576b"
             ],
             [
              0.6666666666666666,
              "#ed7953"
             ],
             [
              0.7777777777777778,
              "#fb9f3a"
             ],
             [
              0.8888888888888888,
              "#fdca26"
             ],
             [
              1,
              "#f0f921"
             ]
            ],
            "type": "heatmapgl"
           }
          ],
          "histogram": [
           {
            "marker": {
             "pattern": {
              "fillmode": "overlay",
              "size": 10,
              "solidity": 0.2
             }
            },
            "type": "histogram"
           }
          ],
          "histogram2d": [
           {
            "colorbar": {
             "outlinewidth": 0,
             "ticks": ""
            },
            "colorscale": [
             [
              0,
              "#0d0887"
             ],
             [
              0.1111111111111111,
              "#46039f"
             ],
             [
              0.2222222222222222,
              "#7201a8"
             ],
             [
              0.3333333333333333,
              "#9c179e"
             ],
             [
              0.4444444444444444,
              "#bd3786"
             ],
             [
              0.5555555555555556,
              "#d8576b"
             ],
             [
              0.6666666666666666,
              "#ed7953"
             ],
             [
              0.7777777777777778,
              "#fb9f3a"
             ],
             [
              0.8888888888888888,
              "#fdca26"
             ],
             [
              1,
              "#f0f921"
             ]
            ],
            "type": "histogram2d"
           }
          ],
          "histogram2dcontour": [
           {
            "colorbar": {
             "outlinewidth": 0,
             "ticks": ""
            },
            "colorscale": [
             [
              0,
              "#0d0887"
             ],
             [
              0.1111111111111111,
              "#46039f"
             ],
             [
              0.2222222222222222,
              "#7201a8"
             ],
             [
              0.3333333333333333,
              "#9c179e"
             ],
             [
              0.4444444444444444,
              "#bd3786"
             ],
             [
              0.5555555555555556,
              "#d8576b"
             ],
             [
              0.6666666666666666,
              "#ed7953"
             ],
             [
              0.7777777777777778,
              "#fb9f3a"
             ],
             [
              0.8888888888888888,
              "#fdca26"
             ],
             [
              1,
              "#f0f921"
             ]
            ],
            "type": "histogram2dcontour"
           }
          ],
          "mesh3d": [
           {
            "colorbar": {
             "outlinewidth": 0,
             "ticks": ""
            },
            "type": "mesh3d"
           }
          ],
          "parcoords": [
           {
            "line": {
             "colorbar": {
              "outlinewidth": 0,
              "ticks": ""
             }
            },
            "type": "parcoords"
           }
          ],
          "pie": [
           {
            "automargin": true,
            "type": "pie"
           }
          ],
          "scatter": [
           {
            "fillpattern": {
             "fillmode": "overlay",
             "size": 10,
             "solidity": 0.2
            },
            "type": "scatter"
           }
          ],
          "scatter3d": [
           {
            "line": {
             "colorbar": {
              "outlinewidth": 0,
              "ticks": ""
             }
            },
            "marker": {
             "colorbar": {
              "outlinewidth": 0,
              "ticks": ""
             }
            },
            "type": "scatter3d"
           }
          ],
          "scattercarpet": [
           {
            "marker": {
             "colorbar": {
              "outlinewidth": 0,
              "ticks": ""
             }
            },
            "type": "scattercarpet"
           }
          ],
          "scattergeo": [
           {
            "marker": {
             "colorbar": {
              "outlinewidth": 0,
              "ticks": ""
             }
            },
            "type": "scattergeo"
           }
          ],
          "scattergl": [
           {
            "marker": {
             "colorbar": {
              "outlinewidth": 0,
              "ticks": ""
             }
            },
            "type": "scattergl"
           }
          ],
          "scattermapbox": [
           {
            "marker": {
             "colorbar": {
              "outlinewidth": 0,
              "ticks": ""
             }
            },
            "type": "scattermapbox"
           }
          ],
          "scatterpolar": [
           {
            "marker": {
             "colorbar": {
              "outlinewidth": 0,
              "ticks": ""
             }
            },
            "type": "scatterpolar"
           }
          ],
          "scatterpolargl": [
           {
            "marker": {
             "colorbar": {
              "outlinewidth": 0,
              "ticks": ""
             }
            },
            "type": "scatterpolargl"
           }
          ],
          "scatterternary": [
           {
            "marker": {
             "colorbar": {
              "outlinewidth": 0,
              "ticks": ""
             }
            },
            "type": "scatterternary"
           }
          ],
          "surface": [
           {
            "colorbar": {
             "outlinewidth": 0,
             "ticks": ""
            },
            "colorscale": [
             [
              0,
              "#0d0887"
             ],
             [
              0.1111111111111111,
              "#46039f"
             ],
             [
              0.2222222222222222,
              "#7201a8"
             ],
             [
              0.3333333333333333,
              "#9c179e"
             ],
             [
              0.4444444444444444,
              "#bd3786"
             ],
             [
              0.5555555555555556,
              "#d8576b"
             ],
             [
              0.6666666666666666,
              "#ed7953"
             ],
             [
              0.7777777777777778,
              "#fb9f3a"
             ],
             [
              0.8888888888888888,
              "#fdca26"
             ],
             [
              1,
              "#f0f921"
             ]
            ],
            "type": "surface"
           }
          ],
          "table": [
           {
            "cells": {
             "fill": {
              "color": "#EBF0F8"
             },
             "line": {
              "color": "white"
             }
            },
            "header": {
             "fill": {
              "color": "#C8D4E3"
             },
             "line": {
              "color": "white"
             }
            },
            "type": "table"
           }
          ]
         },
         "layout": {
          "annotationdefaults": {
           "arrowcolor": "#2a3f5f",
           "arrowhead": 0,
           "arrowwidth": 1
          },
          "autotypenumbers": "strict",
          "coloraxis": {
           "colorbar": {
            "outlinewidth": 0,
            "ticks": ""
           }
          },
          "colorscale": {
           "diverging": [
            [
             0,
             "#8e0152"
            ],
            [
             0.1,
             "#c51b7d"
            ],
            [
             0.2,
             "#de77ae"
            ],
            [
             0.3,
             "#f1b6da"
            ],
            [
             0.4,
             "#fde0ef"
            ],
            [
             0.5,
             "#f7f7f7"
            ],
            [
             0.6,
             "#e6f5d0"
            ],
            [
             0.7,
             "#b8e186"
            ],
            [
             0.8,
             "#7fbc41"
            ],
            [
             0.9,
             "#4d9221"
            ],
            [
             1,
             "#276419"
            ]
           ],
           "sequential": [
            [
             0,
             "#0d0887"
            ],
            [
             0.1111111111111111,
             "#46039f"
            ],
            [
             0.2222222222222222,
             "#7201a8"
            ],
            [
             0.3333333333333333,
             "#9c179e"
            ],
            [
             0.4444444444444444,
             "#bd3786"
            ],
            [
             0.5555555555555556,
             "#d8576b"
            ],
            [
             0.6666666666666666,
             "#ed7953"
            ],
            [
             0.7777777777777778,
             "#fb9f3a"
            ],
            [
             0.8888888888888888,
             "#fdca26"
            ],
            [
             1,
             "#f0f921"
            ]
           ],
           "sequentialminus": [
            [
             0,
             "#0d0887"
            ],
            [
             0.1111111111111111,
             "#46039f"
            ],
            [
             0.2222222222222222,
             "#7201a8"
            ],
            [
             0.3333333333333333,
             "#9c179e"
            ],
            [
             0.4444444444444444,
             "#bd3786"
            ],
            [
             0.5555555555555556,
             "#d8576b"
            ],
            [
             0.6666666666666666,
             "#ed7953"
            ],
            [
             0.7777777777777778,
             "#fb9f3a"
            ],
            [
             0.8888888888888888,
             "#fdca26"
            ],
            [
             1,
             "#f0f921"
            ]
           ]
          },
          "colorway": [
           "#636efa",
           "#EF553B",
           "#00cc96",
           "#ab63fa",
           "#FFA15A",
           "#19d3f3",
           "#FF6692",
           "#B6E880",
           "#FF97FF",
           "#FECB52"
          ],
          "font": {
           "color": "#2a3f5f"
          },
          "geo": {
           "bgcolor": "white",
           "lakecolor": "white",
           "landcolor": "#E5ECF6",
           "showlakes": true,
           "showland": true,
           "subunitcolor": "white"
          },
          "hoverlabel": {
           "align": "left"
          },
          "hovermode": "closest",
          "mapbox": {
           "style": "light"
          },
          "paper_bgcolor": "white",
          "plot_bgcolor": "#E5ECF6",
          "polar": {
           "angularaxis": {
            "gridcolor": "white",
            "linecolor": "white",
            "ticks": ""
           },
           "bgcolor": "#E5ECF6",
           "radialaxis": {
            "gridcolor": "white",
            "linecolor": "white",
            "ticks": ""
           }
          },
          "scene": {
           "xaxis": {
            "backgroundcolor": "#E5ECF6",
            "gridcolor": "white",
            "gridwidth": 2,
            "linecolor": "white",
            "showbackground": true,
            "ticks": "",
            "zerolinecolor": "white"
           },
           "yaxis": {
            "backgroundcolor": "#E5ECF6",
            "gridcolor": "white",
            "gridwidth": 2,
            "linecolor": "white",
            "showbackground": true,
            "ticks": "",
            "zerolinecolor": "white"
           },
           "zaxis": {
            "backgroundcolor": "#E5ECF6",
            "gridcolor": "white",
            "gridwidth": 2,
            "linecolor": "white",
            "showbackground": true,
            "ticks": "",
            "zerolinecolor": "white"
           }
          },
          "shapedefaults": {
           "line": {
            "color": "#2a3f5f"
           }
          },
          "ternary": {
           "aaxis": {
            "gridcolor": "white",
            "linecolor": "white",
            "ticks": ""
           },
           "baxis": {
            "gridcolor": "white",
            "linecolor": "white",
            "ticks": ""
           },
           "bgcolor": "#E5ECF6",
           "caxis": {
            "gridcolor": "white",
            "linecolor": "white",
            "ticks": ""
           }
          },
          "title": {
           "x": 0.05
          },
          "xaxis": {
           "automargin": true,
           "gridcolor": "white",
           "linecolor": "white",
           "ticks": "",
           "title": {
            "standoff": 15
           },
           "zerolinecolor": "white",
           "zerolinewidth": 2
          },
          "yaxis": {
           "automargin": true,
           "gridcolor": "white",
           "linecolor": "white",
           "ticks": "",
           "title": {
            "standoff": 15
           },
           "zerolinecolor": "white",
           "zerolinewidth": 2
          }
         }
        },
        "width": 600,
        "xaxis": {
         "range": [
          -0.002,
          0.018
         ],
         "tickfont": {
          "color": "black",
          "family": "Times New Roman",
          "size": 16
         },
         "title": {
          "text": "Threshold (g)"
         }
        },
        "yaxis": {
         "range": [
          1,
          11
         ],
         "tickfont": {
          "color": "black",
          "family": "Times New Roman",
          "size": 16
         },
         "title": {
          "text": "Duration (s)"
         }
        }
       }
      }
     },
     "metadata": {},
     "output_type": "display_data"
    }
   ],
   "source": [
    "import plotly.graph_objects as go\n",
    "\n",
    "# Font customization variables - modify as desired\n",
    "font_family = \"Times New Roman\"\n",
    "font_size = 16          # Font size\n",
    "font_color = \"black\"    # Font color\n",
    "\n",
    "# Create figure object\n",
    "fig = go.Figure()\n",
    "\n",
    "# Add first dataset R_PRE (red) using the same approach for both datasets\n",
    "fig.add_trace(go.Scatter(\n",
    "    x=R_PRE[:, 0],       # x-axis: threshold (first column)\n",
    "    y=R_PRE[:, 1],       # y-axis: duration (second column)\n",
    "    mode='markers',      # markers only\n",
    "    marker=dict(\n",
    "        size=10,         # marker size\n",
    "        color='red'      # red color\n",
    "    ),\n",
    "    name='R_PRE'\n",
    "))\n",
    "\n",
    "# Add second dataset R_ONB (blue) using the same approach for both datasets\n",
    "fig.add_trace(go.Scatter(\n",
    "    x=R_ONB[:, 0],       # x-axis: threshold (first column)\n",
    "    y=R_ONB[:, 1],       # y-axis: duration (second column)\n",
    "    mode='markers',      # markers only\n",
    "    marker=dict(\n",
    "        size=10,         # marker size\n",
    "        color='blue'     # blue color\n",
    "    ),\n",
    "    name='R_ONB'\n",
    "))\n",
    "\n",
    "# Update overall layout: set font, square canvas, axis labels, and cancel legend display\n",
    "fig.update_layout(\n",
    "    font=dict(\n",
    "        family=font_family,\n",
    "        size=font_size,\n",
    "        color=font_color\n",
    "    ),\n",
    "    width=600,\n",
    "    height=600,\n",
    "    showlegend=False,          # Cancel legend display\n",
    "    xaxis_title=\"Threshold (g)\",   # x-axis label with unit g\n",
    "    yaxis_title=\"Duration (s)\"       # y-axis label with unit s\n",
    ")\n",
    "\n",
    "# Update x-axis range and tick font\n",
    "fig.update_xaxes(\n",
    "    range=[-0.002, 0.018],\n",
    "    tickfont=dict(family=font_family, size=font_size, color=font_color)\n",
    ")\n",
    "\n",
    "# Update y-axis range and tick font\n",
    "fig.update_yaxes(\n",
    "    range=[1, 11],\n",
    "    tickfont=dict(family=font_family, size=font_size, color=font_color)\n",
    ")\n",
    "\n",
    "# Show plot\n",
    "fig.show()\n"
   ]
  },
  {
   "cell_type": "code",
   "execution_count": 7,
   "metadata": {},
   "outputs": [
    {
     "data": {
      "application/vnd.plotly.v1+json": {
       "config": {
        "plotlyServerURL": "https://plot.ly"
       },
       "data": [
        {
         "marker": {
          "color": "red",
          "size": [
           20.767940979208586,
           18.18181818181818,
           20.526934049337136,
           18.120805369127517,
           18.184573420215184,
           18.714376187460417,
           18.11251715200488,
           18.243139659665797,
           15.163443436590793,
           17.073170731707318,
           21.134728033472804,
           19.240256536753822,
           21.381818181818183,
           17.905918057663126,
           21.34,
           21.589294564678674,
           18.190086402910413,
           20.70457976849522,
           18.24839792493134,
           21.375626043405678,
           21.60386795598533,
           20.89981602274628,
           18.237174608007308,
           18.18181818181818,
           13.953488372093023,
           19.22576447625244,
           19.21086675291074,
           17.905918057663126,
           18.231623801552274,
           15.79396213542555,
           14.081597521087968,
           21.585182713165363,
           18.60828772478499,
           18.18181818181818,
           18.18181818181818,
           18.2288496652465,
           18.190086402910413,
           21.612367021276597,
           19.013971414806488,
           18.19560272934041,
           18.18181818181818,
           20.25878003696858,
           16.94628029147602,
           21.585182713165363,
           18.18181818181818,
           18.18181818181818,
           18.18181818181818,
           18.18181818181818,
           17.104149026248944,
           21.238079303998664,
           18.18181818181818,
           20.090817356205854,
           18.18181818181818,
           21.171548117154813,
           18.18181818181818,
           21.60386795598533,
           18.234398782343987,
           18.18181818181818,
           20.871605766007377,
           18.18181818181818,
           21.534100383525097,
           18.187357197258187,
           18.237082066869302,
           19.22137155888581,
           21.501000667111413
          ]
         },
         "mode": "markers",
         "name": "R_PRE",
         "type": "scatter",
         "x": [
          0.013923535641584465,
          0.0026146408317982025,
          0.011643475214904383,
          0.005005432033846695,
          0.0039153469204843885,
          0.007245180918271568,
          0.005027282759616603,
          0.006542010934350525,
          0.013517159802857382,
          0.014215911493829144,
          0.014793471864158891,
          0.00785881010401822,
          0.009039485070106856,
          0.01605782281740864,
          0.010120721845234892,
          0.011719451780694709,
          0.00248256543479497,
          0.016109626830173186,
          0.008156070921543487,
          0.01201013528743781,
          0.013389082238372195,
          0.01009335846919932,
          0.0032467103415035744,
          0.00032590821678964545,
          0.016619587135295637,
          0.0086275921493037,
          0.010640819864370344,
          0.01592725393000278,
          0.003108148269096591,
          0.015078681023016072,
          0.016075167653846978,
          0.013780462530580623,
          0.009519477574444334,
          0.000619871436045254,
          0.0029051431389135493,
          0.004316575194453414,
          0.0025706663549380972,
          0.012412515033221048,
          0.008801991642561095,
          0.005610467072248814,
          0.003136528223350605,
          0.012213494745159875,
          0.012370507034514859,
          0.01372025248568662,
          0.0010362450915465881,
          0.003821724714716561,
          0.002812494231551567,
          0.0007779668672428159,
          0.015741945124733838,
          0.01640084036303291,
          0.0031259605916464546,
          0.011420996402516061,
          0.0015692869453695572,
          0.016499984219656785,
          0.0013319993600479597,
          0.013434679814115849,
          0.006911113985965642,
          0.0007892782200614162,
          0.015587648112994854,
          0.0008758388039498983,
          0.0124851191684747,
          0.006099123745457028,
          0.006361633826713498,
          0.008171190187500805,
          0.012637453215235808
         ],
         "y": [
          4.8321011980118715,
          5.09359573065937,
          6.040586149844081,
          7.123012642117984,
          4.575489087361093,
          6.6187428458377315,
          6.107518058322045,
          5.230185236574166,
          9.683199162824087,
          6.736172164155384,
          3.605746069767968,
          8.97712425660999,
          6.376047828341818,
          4.809321008901322,
          6.7250069488223225,
          2.4252532226349404,
          8.11166106856976,
          3.131707789523354,
          2.064152590814718,
          4.055596659885152,
          2.790454050091408,
          7.580485384897242,
          8.303584427586394,
          3.4505014589852836,
          9.995617104219594,
          5.712276086780518,
          2.62713101574525,
          4.109261674047476,
          8.675088265083414,
          7.734720433247876,
          9.266133213814019,
          2.0329520819698867,
          2.992338520511921,
          2.3671642843491165,
          3.7543333503386043,
          5.607291994932785,
          7.33943454099101,
          2.015557557257843,
          4.371116330540877,
          2.005051387461844,
          3.243251805626832,
          6.224866777603471,
          8.602833774453934,
          2.630856999893795,
          2.4821973755033904,
          3.794611642682413,
          6.41506658025062,
          7.073647081483084,
          5.860080952114699,
          2.8611842912032577,
          4.376531847880266,
          7.977840074896267,
          5.377664144894675,
          2.000560265001064,
          2.9583956622781162,
          2.2642735928731197,
          2.3781228356106894,
          7.606405672760627,
          3.3994221931546598,
          8.36749586394299,
          3.848282872083818,
          4.058773347594962,
          2.0005602697077727,
          6.355507428473871,
          3.425562745999092
         ]
        },
        {
         "marker": {
          "color": "blue",
          "size": [
           20.467412827317997,
           20.554319165523196,
           18.813238875361435,
           20.511284389419522,
           20.531305652976425,
           18.481949060494692,
           20.28487679840768,
           16.310770868302168,
           18.813042217468908,
           18.91802003265279,
           20.671036769174474,
           18.81003515710446,
           20.555767290968543,
           18.845034742957992,
           20.30251914794149,
           17.9768264184029,
           20.480036101094083,
           18.789102646218627,
           17.92352261851401,
           18.856522730707965
          ]
         },
         "mode": "markers",
         "name": "R_ONB",
         "type": "scatter",
         "x": [
          0.014222310196138586,
          0.013883494518965664,
          0.010248041919413328,
          0.01497529636343339,
          0.014515503028541194,
          0.00760179153809369,
          0.014413730018515874,
          0.004634354368245535,
          0.009923399687761878,
          0.010751548497234113,
          0.012099814987986561,
          0.010222527938828479,
          0.014578660083730833,
          0.009337771437114574,
          0.014036410216319422,
          0.0056840036644070936,
          0.0146367065301583,
          0.011657725194978536,
          0.013961813596054917,
          0.01181644919825968
         ],
         "y": [
          2.7258960092489266,
          2.483967788360471,
          2.7307013258547084,
          2.3010469175765733,
          2.4026727235866048,
          2.263614245404317,
          3.578116227878919,
          3.3895535862242623,
          2.6799531806853043,
          2.2508598727172755,
          2.507746520829172,
          2.7579690158074825,
          2.263474783399264,
          2.284176835058041,
          3.656135308543412,
          3.700766157976763,
          2.5874721400634764,
          2.5299691395591104,
          6.372083892230138,
          2.212400186759214
         ]
        }
       ],
       "layout": {
        "font": {
         "color": "black",
         "family": "Times New Roman",
         "size": 16
        },
        "height": 600,
        "showlegend": false,
        "template": {
         "data": {
          "bar": [
           {
            "error_x": {
             "color": "#2a3f5f"
            },
            "error_y": {
             "color": "#2a3f5f"
            },
            "marker": {
             "line": {
              "color": "#E5ECF6",
              "width": 0.5
             },
             "pattern": {
              "fillmode": "overlay",
              "size": 10,
              "solidity": 0.2
             }
            },
            "type": "bar"
           }
          ],
          "barpolar": [
           {
            "marker": {
             "line": {
              "color": "#E5ECF6",
              "width": 0.5
             },
             "pattern": {
              "fillmode": "overlay",
              "size": 10,
              "solidity": 0.2
             }
            },
            "type": "barpolar"
           }
          ],
          "carpet": [
           {
            "aaxis": {
             "endlinecolor": "#2a3f5f",
             "gridcolor": "white",
             "linecolor": "white",
             "minorgridcolor": "white",
             "startlinecolor": "#2a3f5f"
            },
            "baxis": {
             "endlinecolor": "#2a3f5f",
             "gridcolor": "white",
             "linecolor": "white",
             "minorgridcolor": "white",
             "startlinecolor": "#2a3f5f"
            },
            "type": "carpet"
           }
          ],
          "choropleth": [
           {
            "colorbar": {
             "outlinewidth": 0,
             "ticks": ""
            },
            "type": "choropleth"
           }
          ],
          "contour": [
           {
            "colorbar": {
             "outlinewidth": 0,
             "ticks": ""
            },
            "colorscale": [
             [
              0,
              "#0d0887"
             ],
             [
              0.1111111111111111,
              "#46039f"
             ],
             [
              0.2222222222222222,
              "#7201a8"
             ],
             [
              0.3333333333333333,
              "#9c179e"
             ],
             [
              0.4444444444444444,
              "#bd3786"
             ],
             [
              0.5555555555555556,
              "#d8576b"
             ],
             [
              0.6666666666666666,
              "#ed7953"
             ],
             [
              0.7777777777777778,
              "#fb9f3a"
             ],
             [
              0.8888888888888888,
              "#fdca26"
             ],
             [
              1,
              "#f0f921"
             ]
            ],
            "type": "contour"
           }
          ],
          "contourcarpet": [
           {
            "colorbar": {
             "outlinewidth": 0,
             "ticks": ""
            },
            "type": "contourcarpet"
           }
          ],
          "heatmap": [
           {
            "colorbar": {
             "outlinewidth": 0,
             "ticks": ""
            },
            "colorscale": [
             [
              0,
              "#0d0887"
             ],
             [
              0.1111111111111111,
              "#46039f"
             ],
             [
              0.2222222222222222,
              "#7201a8"
             ],
             [
              0.3333333333333333,
              "#9c179e"
             ],
             [
              0.4444444444444444,
              "#bd3786"
             ],
             [
              0.5555555555555556,
              "#d8576b"
             ],
             [
              0.6666666666666666,
              "#ed7953"
             ],
             [
              0.7777777777777778,
              "#fb9f3a"
             ],
             [
              0.8888888888888888,
              "#fdca26"
             ],
             [
              1,
              "#f0f921"
             ]
            ],
            "type": "heatmap"
           }
          ],
          "heatmapgl": [
           {
            "colorbar": {
             "outlinewidth": 0,
             "ticks": ""
            },
            "colorscale": [
             [
              0,
              "#0d0887"
             ],
             [
              0.1111111111111111,
              "#46039f"
             ],
             [
              0.2222222222222222,
              "#7201a8"
             ],
             [
              0.3333333333333333,
              "#9c179e"
             ],
             [
              0.4444444444444444,
              "#bd3786"
             ],
             [
              0.5555555555555556,
              "#d8576b"
             ],
             [
              0.6666666666666666,
              "#ed7953"
             ],
             [
              0.7777777777777778,
              "#fb9f3a"
             ],
             [
              0.8888888888888888,
              "#fdca26"
             ],
             [
              1,
              "#f0f921"
             ]
            ],
            "type": "heatmapgl"
           }
          ],
          "histogram": [
           {
            "marker": {
             "pattern": {
              "fillmode": "overlay",
              "size": 10,
              "solidity": 0.2
             }
            },
            "type": "histogram"
           }
          ],
          "histogram2d": [
           {
            "colorbar": {
             "outlinewidth": 0,
             "ticks": ""
            },
            "colorscale": [
             [
              0,
              "#0d0887"
             ],
             [
              0.1111111111111111,
              "#46039f"
             ],
             [
              0.2222222222222222,
              "#7201a8"
             ],
             [
              0.3333333333333333,
              "#9c179e"
             ],
             [
              0.4444444444444444,
              "#bd3786"
             ],
             [
              0.5555555555555556,
              "#d8576b"
             ],
             [
              0.6666666666666666,
              "#ed7953"
             ],
             [
              0.7777777777777778,
              "#fb9f3a"
             ],
             [
              0.8888888888888888,
              "#fdca26"
             ],
             [
              1,
              "#f0f921"
             ]
            ],
            "type": "histogram2d"
           }
          ],
          "histogram2dcontour": [
           {
            "colorbar": {
             "outlinewidth": 0,
             "ticks": ""
            },
            "colorscale": [
             [
              0,
              "#0d0887"
             ],
             [
              0.1111111111111111,
              "#46039f"
             ],
             [
              0.2222222222222222,
              "#7201a8"
             ],
             [
              0.3333333333333333,
              "#9c179e"
             ],
             [
              0.4444444444444444,
              "#bd3786"
             ],
             [
              0.5555555555555556,
              "#d8576b"
             ],
             [
              0.6666666666666666,
              "#ed7953"
             ],
             [
              0.7777777777777778,
              "#fb9f3a"
             ],
             [
              0.8888888888888888,
              "#fdca26"
             ],
             [
              1,
              "#f0f921"
             ]
            ],
            "type": "histogram2dcontour"
           }
          ],
          "mesh3d": [
           {
            "colorbar": {
             "outlinewidth": 0,
             "ticks": ""
            },
            "type": "mesh3d"
           }
          ],
          "parcoords": [
           {
            "line": {
             "colorbar": {
              "outlinewidth": 0,
              "ticks": ""
             }
            },
            "type": "parcoords"
           }
          ],
          "pie": [
           {
            "automargin": true,
            "type": "pie"
           }
          ],
          "scatter": [
           {
            "fillpattern": {
             "fillmode": "overlay",
             "size": 10,
             "solidity": 0.2
            },
            "type": "scatter"
           }
          ],
          "scatter3d": [
           {
            "line": {
             "colorbar": {
              "outlinewidth": 0,
              "ticks": ""
             }
            },
            "marker": {
             "colorbar": {
              "outlinewidth": 0,
              "ticks": ""
             }
            },
            "type": "scatter3d"
           }
          ],
          "scattercarpet": [
           {
            "marker": {
             "colorbar": {
              "outlinewidth": 0,
              "ticks": ""
             }
            },
            "type": "scattercarpet"
           }
          ],
          "scattergeo": [
           {
            "marker": {
             "colorbar": {
              "outlinewidth": 0,
              "ticks": ""
             }
            },
            "type": "scattergeo"
           }
          ],
          "scattergl": [
           {
            "marker": {
             "colorbar": {
              "outlinewidth": 0,
              "ticks": ""
             }
            },
            "type": "scattergl"
           }
          ],
          "scattermapbox": [
           {
            "marker": {
             "colorbar": {
              "outlinewidth": 0,
              "ticks": ""
             }
            },
            "type": "scattermapbox"
           }
          ],
          "scatterpolar": [
           {
            "marker": {
             "colorbar": {
              "outlinewidth": 0,
              "ticks": ""
             }
            },
            "type": "scatterpolar"
           }
          ],
          "scatterpolargl": [
           {
            "marker": {
             "colorbar": {
              "outlinewidth": 0,
              "ticks": ""
             }
            },
            "type": "scatterpolargl"
           }
          ],
          "scatterternary": [
           {
            "marker": {
             "colorbar": {
              "outlinewidth": 0,
              "ticks": ""
             }
            },
            "type": "scatterternary"
           }
          ],
          "surface": [
           {
            "colorbar": {
             "outlinewidth": 0,
             "ticks": ""
            },
            "colorscale": [
             [
              0,
              "#0d0887"
             ],
             [
              0.1111111111111111,
              "#46039f"
             ],
             [
              0.2222222222222222,
              "#7201a8"
             ],
             [
              0.3333333333333333,
              "#9c179e"
             ],
             [
              0.4444444444444444,
              "#bd3786"
             ],
             [
              0.5555555555555556,
              "#d8576b"
             ],
             [
              0.6666666666666666,
              "#ed7953"
             ],
             [
              0.7777777777777778,
              "#fb9f3a"
             ],
             [
              0.8888888888888888,
              "#fdca26"
             ],
             [
              1,
              "#f0f921"
             ]
            ],
            "type": "surface"
           }
          ],
          "table": [
           {
            "cells": {
             "fill": {
              "color": "#EBF0F8"
             },
             "line": {
              "color": "white"
             }
            },
            "header": {
             "fill": {
              "color": "#C8D4E3"
             },
             "line": {
              "color": "white"
             }
            },
            "type": "table"
           }
          ]
         },
         "layout": {
          "annotationdefaults": {
           "arrowcolor": "#2a3f5f",
           "arrowhead": 0,
           "arrowwidth": 1
          },
          "autotypenumbers": "strict",
          "coloraxis": {
           "colorbar": {
            "outlinewidth": 0,
            "ticks": ""
           }
          },
          "colorscale": {
           "diverging": [
            [
             0,
             "#8e0152"
            ],
            [
             0.1,
             "#c51b7d"
            ],
            [
             0.2,
             "#de77ae"
            ],
            [
             0.3,
             "#f1b6da"
            ],
            [
             0.4,
             "#fde0ef"
            ],
            [
             0.5,
             "#f7f7f7"
            ],
            [
             0.6,
             "#e6f5d0"
            ],
            [
             0.7,
             "#b8e186"
            ],
            [
             0.8,
             "#7fbc41"
            ],
            [
             0.9,
             "#4d9221"
            ],
            [
             1,
             "#276419"
            ]
           ],
           "sequential": [
            [
             0,
             "#0d0887"
            ],
            [
             0.1111111111111111,
             "#46039f"
            ],
            [
             0.2222222222222222,
             "#7201a8"
            ],
            [
             0.3333333333333333,
             "#9c179e"
            ],
            [
             0.4444444444444444,
             "#bd3786"
            ],
            [
             0.5555555555555556,
             "#d8576b"
            ],
            [
             0.6666666666666666,
             "#ed7953"
            ],
            [
             0.7777777777777778,
             "#fb9f3a"
            ],
            [
             0.8888888888888888,
             "#fdca26"
            ],
            [
             1,
             "#f0f921"
            ]
           ],
           "sequentialminus": [
            [
             0,
             "#0d0887"
            ],
            [
             0.1111111111111111,
             "#46039f"
            ],
            [
             0.2222222222222222,
             "#7201a8"
            ],
            [
             0.3333333333333333,
             "#9c179e"
            ],
            [
             0.4444444444444444,
             "#bd3786"
            ],
            [
             0.5555555555555556,
             "#d8576b"
            ],
            [
             0.6666666666666666,
             "#ed7953"
            ],
            [
             0.7777777777777778,
             "#fb9f3a"
            ],
            [
             0.8888888888888888,
             "#fdca26"
            ],
            [
             1,
             "#f0f921"
            ]
           ]
          },
          "colorway": [
           "#636efa",
           "#EF553B",
           "#00cc96",
           "#ab63fa",
           "#FFA15A",
           "#19d3f3",
           "#FF6692",
           "#B6E880",
           "#FF97FF",
           "#FECB52"
          ],
          "font": {
           "color": "#2a3f5f"
          },
          "geo": {
           "bgcolor": "white",
           "lakecolor": "white",
           "landcolor": "#E5ECF6",
           "showlakes": true,
           "showland": true,
           "subunitcolor": "white"
          },
          "hoverlabel": {
           "align": "left"
          },
          "hovermode": "closest",
          "mapbox": {
           "style": "light"
          },
          "paper_bgcolor": "white",
          "plot_bgcolor": "#E5ECF6",
          "polar": {
           "angularaxis": {
            "gridcolor": "white",
            "linecolor": "white",
            "ticks": ""
           },
           "bgcolor": "#E5ECF6",
           "radialaxis": {
            "gridcolor": "white",
            "linecolor": "white",
            "ticks": ""
           }
          },
          "scene": {
           "xaxis": {
            "backgroundcolor": "#E5ECF6",
            "gridcolor": "white",
            "gridwidth": 2,
            "linecolor": "white",
            "showbackground": true,
            "ticks": "",
            "zerolinecolor": "white"
           },
           "yaxis": {
            "backgroundcolor": "#E5ECF6",
            "gridcolor": "white",
            "gridwidth": 2,
            "linecolor": "white",
            "showbackground": true,
            "ticks": "",
            "zerolinecolor": "white"
           },
           "zaxis": {
            "backgroundcolor": "#E5ECF6",
            "gridcolor": "white",
            "gridwidth": 2,
            "linecolor": "white",
            "showbackground": true,
            "ticks": "",
            "zerolinecolor": "white"
           }
          },
          "shapedefaults": {
           "line": {
            "color": "#2a3f5f"
           }
          },
          "ternary": {
           "aaxis": {
            "gridcolor": "white",
            "linecolor": "white",
            "ticks": ""
           },
           "baxis": {
            "gridcolor": "white",
            "linecolor": "white",
            "ticks": ""
           },
           "bgcolor": "#E5ECF6",
           "caxis": {
            "gridcolor": "white",
            "linecolor": "white",
            "ticks": ""
           }
          },
          "title": {
           "x": 0.05
          },
          "xaxis": {
           "automargin": true,
           "gridcolor": "white",
           "linecolor": "white",
           "ticks": "",
           "title": {
            "standoff": 15
           },
           "zerolinecolor": "white",
           "zerolinewidth": 2
          },
          "yaxis": {
           "automargin": true,
           "gridcolor": "white",
           "linecolor": "white",
           "ticks": "",
           "title": {
            "standoff": 15
           },
           "zerolinecolor": "white",
           "zerolinewidth": 2
          }
         }
        },
        "width": 600,
        "xaxis": {
         "range": [
          -0.002,
          0.018
         ],
         "tickfont": {
          "color": "black",
          "family": "Times New Roman",
          "size": 16
         },
         "title": {
          "text": "Threshold (g)"
         }
        },
        "yaxis": {
         "range": [
          1,
          11
         ],
         "tickfont": {
          "color": "black",
          "family": "Times New Roman",
          "size": 16
         },
         "title": {
          "text": "Duration (s)"
         }
        }
       }
      }
     },
     "metadata": {},
     "output_type": "display_data"
    }
   ],
   "source": [
    "import plotly.graph_objects as go\n",
    "\n",
    "# Font customization variables - modify as desired\n",
    "font_family = \"Times New Roman\"\n",
    "font_size = 16          # Font size\n",
    "font_color = \"black\"    # Font color\n",
    "\n",
    "# Create figure object\n",
    "fig = go.Figure()\n",
    "\n",
    "# Add first dataset R_PRE (red)\n",
    "# Use the last column of R_PRE for marker sizes\n",
    "fig.add_trace(go.Scatter(\n",
    "    x=R_PRE[:, 0],       # x-axis: threshold (first column)\n",
    "    y=R_PRE[:, 1],       # y-axis: duration (second column)\n",
    "    mode='markers',      # markers only\n",
    "    marker=dict(\n",
    "        size=R_PRE[:, 2]*20,   # marker size based on the last column values of R_PRE\n",
    "        color='red'          # red color\n",
    "    ),\n",
    "    name='R_PRE'\n",
    "))\n",
    "\n",
    "# Add second dataset R_ONB (blue)\n",
    "# Use the last column of R_ONB for marker sizes\n",
    "fig.add_trace(go.Scatter(\n",
    "    x=R_ONB[:, 0],       # x-axis: threshold (first column)\n",
    "    y=R_ONB[:, 1],       # y-axis: duration (second column)\n",
    "    mode='markers',      # markers only\n",
    "    marker=dict(\n",
    "        size=R_ONB[:, 2]*20,   # marker size based on the last column values of R_ONB\n",
    "        color='blue'          # blue color\n",
    "    ),\n",
    "    name='R_ONB'\n",
    "))\n",
    "\n",
    "# Update overall layout: set font, square canvas, axis labels, and cancel legend display\n",
    "fig.update_layout(\n",
    "    font=dict(\n",
    "        family=font_family,\n",
    "        size=font_size,\n",
    "        color=font_color\n",
    "    ),\n",
    "    width=600,\n",
    "    height=600,\n",
    "    showlegend=False,          # Hide legend\n",
    "    xaxis_title=\"Threshold (g)\",   # x-axis label with unit g\n",
    "    yaxis_title=\"Duration (s)\"       # y-axis label with unit s\n",
    ")\n",
    "\n",
    "# Update x-axis range and tick font\n",
    "fig.update_xaxes(\n",
    "    range=[-0.002, 0.018],\n",
    "    tickfont=dict(family=font_family, size=font_size, color=font_color)\n",
    ")\n",
    "\n",
    "# Update y-axis range and tick font\n",
    "fig.update_yaxes(\n",
    "    range=[1, 11],\n",
    "    tickfont=dict(family=font_family, size=font_size, color=font_color)\n",
    ")\n",
    "\n",
    "# Show plot\n",
    "fig.show()\n"
   ]
  },
  {
   "cell_type": "code",
   "execution_count": 8,
   "metadata": {},
   "outputs": [
    {
     "data": {
      "application/vnd.plotly.v1+json": {
       "config": {
        "plotlyServerURL": "https://plot.ly"
       },
       "data": [
        {
         "marker": {
          "color": [
           "hsl(0, 50.0%, 50%)",
           "hsl(0, 50.0%, 50%)",
           "hsl(0, 50.0%, 50%)",
           "hsl(0, 50.0%, 50%)",
           "hsl(0, 50.0%, 50%)",
           "hsl(0, 50.0%, 50%)",
           "hsl(0, 50.0%, 50%)",
           "hsl(0, 50.0%, 50%)",
           "hsl(0, 50.0%, 50%)",
           "hsl(0, 50.0%, 50%)",
           "hsl(0, 50.0%, 50%)",
           "hsl(0, 50.0%, 50%)",
           "hsl(0, 50.0%, 50%)",
           "hsl(0, 50.0%, 50%)",
           "hsl(0, 50.0%, 50%)",
           "hsl(0, 50.0%, 50%)",
           "hsl(0, 50.0%, 50%)",
           "hsl(0, 50.0%, 50%)",
           "hsl(0, 50.0%, 50%)",
           "hsl(0, 50.0%, 50%)",
           "hsl(0, 50.0%, 50%)",
           "hsl(0, 50.0%, 50%)",
           "hsl(0, 50.0%, 50%)",
           "hsl(0, 50.0%, 50%)",
           "hsl(0, 50.0%, 50%)",
           "hsl(0, 50.0%, 50%)",
           "hsl(0, 50.0%, 50%)",
           "hsl(0, 50.0%, 50%)",
           "hsl(0, 50.0%, 50%)",
           "hsl(0, 50.0%, 50%)",
           "hsl(0, 50.0%, 50%)",
           "hsl(0, 50.0%, 50%)",
           "hsl(0, 50.0%, 50%)",
           "hsl(0, 50.0%, 50%)",
           "hsl(0, 50.0%, 50%)",
           "hsl(0, 50.0%, 50%)",
           "hsl(0, 50.0%, 50%)",
           "hsl(0, 50.0%, 50%)",
           "hsl(0, 50.0%, 50%)",
           "hsl(0, 50.0%, 50%)",
           "hsl(0, 50.0%, 50%)",
           "hsl(0, 50.0%, 50%)",
           "hsl(0, 50.0%, 50%)",
           "hsl(0, 50.0%, 50%)",
           "hsl(0, 50.0%, 50%)",
           "hsl(0, 50.0%, 50%)",
           "hsl(0, 50.0%, 50%)",
           "hsl(0, 50.0%, 50%)",
           "hsl(0, 50.0%, 50%)",
           "hsl(0, 50.0%, 50%)",
           "hsl(0, 50.0%, 50%)",
           "hsl(0, 50.0%, 50%)",
           "hsl(0, 50.0%, 50%)",
           "hsl(0, 50.0%, 50%)",
           "hsl(0, 50.0%, 50%)",
           "hsl(0, 50.0%, 50%)",
           "hsl(0, 50.0%, 50%)",
           "hsl(0, 50.0%, 50%)",
           "hsl(0, 50.0%, 50%)",
           "hsl(0, 50.0%, 50%)",
           "hsl(0, 50.0%, 50%)",
           "hsl(0, 50.0%, 50%)",
           "hsl(0, 50.0%, 50%)",
           "hsl(0, 50.0%, 50%)",
           "hsl(0, 50.0%, 50%)"
          ],
          "size": [
           41.53588195841717,
           36.36363636363636,
           41.05386809867427,
           36.241610738255034,
           36.36914684043037,
           37.42875237492083,
           36.22503430400976,
           36.486279319331594,
           30.326886873181586,
           34.146341463414636,
           42.26945606694561,
           38.480513073507645,
           42.763636363636365,
           35.81183611532625,
           42.68,
           43.17858912935735,
           36.38017280582083,
           41.40915953699044,
           36.49679584986268,
           42.751252086811355,
           43.20773591197066,
           41.79963204549256,
           36.474349216014616,
           36.36363636363636,
           27.906976744186046,
           38.45152895250488,
           38.42173350582148,
           35.81183611532625,
           36.46324760310455,
           31.5879242708511,
           28.163195042175936,
           43.170365426330726,
           37.21657544956998,
           36.36363636363636,
           36.36363636363636,
           36.457699330493,
           36.38017280582083,
           43.224734042553195,
           38.027942829612975,
           36.39120545868082,
           36.36363636363636,
           40.51756007393716,
           33.89256058295204,
           43.170365426330726,
           36.36363636363636,
           36.36363636363636,
           36.36363636363636,
           36.36363636363636,
           34.20829805249789,
           42.47615860799733,
           36.36363636363636,
           40.18163471241171,
           36.36363636363636,
           42.34309623430963,
           36.36363636363636,
           43.20773591197066,
           36.468797564687975,
           36.36363636363636,
           41.743211532014755,
           36.36363636363636,
           43.06820076705019,
           36.374714394516374,
           36.474164133738604,
           38.44274311777162,
           43.002001334222825
          ]
         },
         "mode": "markers",
         "name": "R_PRE",
         "type": "scatter",
         "x": [
          0.013923535641584465,
          0.0026146408317982025,
          0.011643475214904383,
          0.005005432033846695,
          0.0039153469204843885,
          0.007245180918271568,
          0.005027282759616603,
          0.006542010934350525,
          0.013517159802857382,
          0.014215911493829144,
          0.014793471864158891,
          0.00785881010401822,
          0.009039485070106856,
          0.01605782281740864,
          0.010120721845234892,
          0.011719451780694709,
          0.00248256543479497,
          0.016109626830173186,
          0.008156070921543487,
          0.01201013528743781,
          0.013389082238372195,
          0.01009335846919932,
          0.0032467103415035744,
          0.00032590821678964545,
          0.016619587135295637,
          0.0086275921493037,
          0.010640819864370344,
          0.01592725393000278,
          0.003108148269096591,
          0.015078681023016072,
          0.016075167653846978,
          0.013780462530580623,
          0.009519477574444334,
          0.000619871436045254,
          0.0029051431389135493,
          0.004316575194453414,
          0.0025706663549380972,
          0.012412515033221048,
          0.008801991642561095,
          0.005610467072248814,
          0.003136528223350605,
          0.012213494745159875,
          0.012370507034514859,
          0.01372025248568662,
          0.0010362450915465881,
          0.003821724714716561,
          0.002812494231551567,
          0.0007779668672428159,
          0.015741945124733838,
          0.01640084036303291,
          0.0031259605916464546,
          0.011420996402516061,
          0.0015692869453695572,
          0.016499984219656785,
          0.0013319993600479597,
          0.013434679814115849,
          0.006911113985965642,
          0.0007892782200614162,
          0.015587648112994854,
          0.0008758388039498983,
          0.0124851191684747,
          0.006099123745457028,
          0.006361633826713498,
          0.008171190187500805,
          0.012637453215235808
         ],
         "y": [
          4.8321011980118715,
          5.09359573065937,
          6.040586149844081,
          7.123012642117984,
          4.575489087361093,
          6.6187428458377315,
          6.107518058322045,
          5.230185236574166,
          9.683199162824087,
          6.736172164155384,
          3.605746069767968,
          8.97712425660999,
          6.376047828341818,
          4.809321008901322,
          6.7250069488223225,
          2.4252532226349404,
          8.11166106856976,
          3.131707789523354,
          2.064152590814718,
          4.055596659885152,
          2.790454050091408,
          7.580485384897242,
          8.303584427586394,
          3.4505014589852836,
          9.995617104219594,
          5.712276086780518,
          2.62713101574525,
          4.109261674047476,
          8.675088265083414,
          7.734720433247876,
          9.266133213814019,
          2.0329520819698867,
          2.992338520511921,
          2.3671642843491165,
          3.7543333503386043,
          5.607291994932785,
          7.33943454099101,
          2.015557557257843,
          4.371116330540877,
          2.005051387461844,
          3.243251805626832,
          6.224866777603471,
          8.602833774453934,
          2.630856999893795,
          2.4821973755033904,
          3.794611642682413,
          6.41506658025062,
          7.073647081483084,
          5.860080952114699,
          2.8611842912032577,
          4.376531847880266,
          7.977840074896267,
          5.377664144894675,
          2.000560265001064,
          2.9583956622781162,
          2.2642735928731197,
          2.3781228356106894,
          7.606405672760627,
          3.3994221931546598,
          8.36749586394299,
          3.848282872083818,
          4.058773347594962,
          2.0005602697077727,
          6.355507428473871,
          3.425562745999092
         ]
        },
        {
         "marker": {
          "color": [
           "hsl(240, 50.0%, 50%)",
           "hsl(240, 50.0%, 50%)",
           "hsl(240, 50.0%, 50%)",
           "hsl(240, 50.0%, 50%)",
           "hsl(240, 50.0%, 50%)",
           "hsl(240, 50.0%, 50%)",
           "hsl(240, 50.0%, 50%)",
           "hsl(240, 50.0%, 50%)",
           "hsl(240, 50.0%, 50%)",
           "hsl(240, 50.0%, 50%)",
           "hsl(240, 50.0%, 50%)",
           "hsl(240, 50.0%, 50%)",
           "hsl(240, 50.0%, 50%)",
           "hsl(240, 50.0%, 50%)",
           "hsl(240, 50.0%, 50%)",
           "hsl(240, 50.0%, 50%)",
           "hsl(240, 50.0%, 50%)",
           "hsl(240, 50.0%, 50%)",
           "hsl(240, 50.0%, 50%)",
           "hsl(240, 50.0%, 50%)"
          ],
          "size": [
           40.93482565463599,
           41.10863833104639,
           37.62647775072287,
           41.022568778839045,
           41.06261130595285,
           36.963898120989384,
           40.56975359681536,
           32.621541736604335,
           37.626084434937816,
           37.83604006530558,
           41.34207353834895,
           37.62007031420892,
           41.111534581937086,
           37.690069485915984,
           40.60503829588298,
           35.9536528368058,
           40.960072202188165,
           37.578205292437254,
           35.84704523702802,
           37.71304546141593
          ]
         },
         "mode": "markers",
         "name": "R_ONB",
         "type": "scatter",
         "x": [
          0.014222310196138586,
          0.013883494518965664,
          0.010248041919413328,
          0.01497529636343339,
          0.014515503028541194,
          0.00760179153809369,
          0.014413730018515874,
          0.004634354368245535,
          0.009923399687761878,
          0.010751548497234113,
          0.012099814987986561,
          0.010222527938828479,
          0.014578660083730833,
          0.009337771437114574,
          0.014036410216319422,
          0.0056840036644070936,
          0.0146367065301583,
          0.011657725194978536,
          0.013961813596054917,
          0.01181644919825968
         ],
         "y": [
          2.7258960092489266,
          2.483967788360471,
          2.7307013258547084,
          2.3010469175765733,
          2.4026727235866048,
          2.263614245404317,
          3.578116227878919,
          3.3895535862242623,
          2.6799531806853043,
          2.2508598727172755,
          2.507746520829172,
          2.7579690158074825,
          2.263474783399264,
          2.284176835058041,
          3.656135308543412,
          3.700766157976763,
          2.5874721400634764,
          2.5299691395591104,
          6.372083892230138,
          2.212400186759214
         ]
        }
       ],
       "layout": {
        "font": {
         "color": "black",
         "family": "Times New Roman",
         "size": 44
        },
        "height": 1600,
        "showlegend": false,
        "template": {
         "data": {
          "bar": [
           {
            "error_x": {
             "color": "#2a3f5f"
            },
            "error_y": {
             "color": "#2a3f5f"
            },
            "marker": {
             "line": {
              "color": "#E5ECF6",
              "width": 0.5
             },
             "pattern": {
              "fillmode": "overlay",
              "size": 10,
              "solidity": 0.2
             }
            },
            "type": "bar"
           }
          ],
          "barpolar": [
           {
            "marker": {
             "line": {
              "color": "#E5ECF6",
              "width": 0.5
             },
             "pattern": {
              "fillmode": "overlay",
              "size": 10,
              "solidity": 0.2
             }
            },
            "type": "barpolar"
           }
          ],
          "carpet": [
           {
            "aaxis": {
             "endlinecolor": "#2a3f5f",
             "gridcolor": "white",
             "linecolor": "white",
             "minorgridcolor": "white",
             "startlinecolor": "#2a3f5f"
            },
            "baxis": {
             "endlinecolor": "#2a3f5f",
             "gridcolor": "white",
             "linecolor": "white",
             "minorgridcolor": "white",
             "startlinecolor": "#2a3f5f"
            },
            "type": "carpet"
           }
          ],
          "choropleth": [
           {
            "colorbar": {
             "outlinewidth": 0,
             "ticks": ""
            },
            "type": "choropleth"
           }
          ],
          "contour": [
           {
            "colorbar": {
             "outlinewidth": 0,
             "ticks": ""
            },
            "colorscale": [
             [
              0,
              "#0d0887"
             ],
             [
              0.1111111111111111,
              "#46039f"
             ],
             [
              0.2222222222222222,
              "#7201a8"
             ],
             [
              0.3333333333333333,
              "#9c179e"
             ],
             [
              0.4444444444444444,
              "#bd3786"
             ],
             [
              0.5555555555555556,
              "#d8576b"
             ],
             [
              0.6666666666666666,
              "#ed7953"
             ],
             [
              0.7777777777777778,
              "#fb9f3a"
             ],
             [
              0.8888888888888888,
              "#fdca26"
             ],
             [
              1,
              "#f0f921"
             ]
            ],
            "type": "contour"
           }
          ],
          "contourcarpet": [
           {
            "colorbar": {
             "outlinewidth": 0,
             "ticks": ""
            },
            "type": "contourcarpet"
           }
          ],
          "heatmap": [
           {
            "colorbar": {
             "outlinewidth": 0,
             "ticks": ""
            },
            "colorscale": [
             [
              0,
              "#0d0887"
             ],
             [
              0.1111111111111111,
              "#46039f"
             ],
             [
              0.2222222222222222,
              "#7201a8"
             ],
             [
              0.3333333333333333,
              "#9c179e"
             ],
             [
              0.4444444444444444,
              "#bd3786"
             ],
             [
              0.5555555555555556,
              "#d8576b"
             ],
             [
              0.6666666666666666,
              "#ed7953"
             ],
             [
              0.7777777777777778,
              "#fb9f3a"
             ],
             [
              0.8888888888888888,
              "#fdca26"
             ],
             [
              1,
              "#f0f921"
             ]
            ],
            "type": "heatmap"
           }
          ],
          "heatmapgl": [
           {
            "colorbar": {
             "outlinewidth": 0,
             "ticks": ""
            },
            "colorscale": [
             [
              0,
              "#0d0887"
             ],
             [
              0.1111111111111111,
              "#46039f"
             ],
             [
              0.2222222222222222,
              "#7201a8"
             ],
             [
              0.3333333333333333,
              "#9c179e"
             ],
             [
              0.4444444444444444,
              "#bd3786"
             ],
             [
              0.5555555555555556,
              "#d8576b"
             ],
             [
              0.6666666666666666,
              "#ed7953"
             ],
             [
              0.7777777777777778,
              "#fb9f3a"
             ],
             [
              0.8888888888888888,
              "#fdca26"
             ],
             [
              1,
              "#f0f921"
             ]
            ],
            "type": "heatmapgl"
           }
          ],
          "histogram": [
           {
            "marker": {
             "pattern": {
              "fillmode": "overlay",
              "size": 10,
              "solidity": 0.2
             }
            },
            "type": "histogram"
           }
          ],
          "histogram2d": [
           {
            "colorbar": {
             "outlinewidth": 0,
             "ticks": ""
            },
            "colorscale": [
             [
              0,
              "#0d0887"
             ],
             [
              0.1111111111111111,
              "#46039f"
             ],
             [
              0.2222222222222222,
              "#7201a8"
             ],
             [
              0.3333333333333333,
              "#9c179e"
             ],
             [
              0.4444444444444444,
              "#bd3786"
             ],
             [
              0.5555555555555556,
              "#d8576b"
             ],
             [
              0.6666666666666666,
              "#ed7953"
             ],
             [
              0.7777777777777778,
              "#fb9f3a"
             ],
             [
              0.8888888888888888,
              "#fdca26"
             ],
             [
              1,
              "#f0f921"
             ]
            ],
            "type": "histogram2d"
           }
          ],
          "histogram2dcontour": [
           {
            "colorbar": {
             "outlinewidth": 0,
             "ticks": ""
            },
            "colorscale": [
             [
              0,
              "#0d0887"
             ],
             [
              0.1111111111111111,
              "#46039f"
             ],
             [
              0.2222222222222222,
              "#7201a8"
             ],
             [
              0.3333333333333333,
              "#9c179e"
             ],
             [
              0.4444444444444444,
              "#bd3786"
             ],
             [
              0.5555555555555556,
              "#d8576b"
             ],
             [
              0.6666666666666666,
              "#ed7953"
             ],
             [
              0.7777777777777778,
              "#fb9f3a"
             ],
             [
              0.8888888888888888,
              "#fdca26"
             ],
             [
              1,
              "#f0f921"
             ]
            ],
            "type": "histogram2dcontour"
           }
          ],
          "mesh3d": [
           {
            "colorbar": {
             "outlinewidth": 0,
             "ticks": ""
            },
            "type": "mesh3d"
           }
          ],
          "parcoords": [
           {
            "line": {
             "colorbar": {
              "outlinewidth": 0,
              "ticks": ""
             }
            },
            "type": "parcoords"
           }
          ],
          "pie": [
           {
            "automargin": true,
            "type": "pie"
           }
          ],
          "scatter": [
           {
            "fillpattern": {
             "fillmode": "overlay",
             "size": 10,
             "solidity": 0.2
            },
            "type": "scatter"
           }
          ],
          "scatter3d": [
           {
            "line": {
             "colorbar": {
              "outlinewidth": 0,
              "ticks": ""
             }
            },
            "marker": {
             "colorbar": {
              "outlinewidth": 0,
              "ticks": ""
             }
            },
            "type": "scatter3d"
           }
          ],
          "scattercarpet": [
           {
            "marker": {
             "colorbar": {
              "outlinewidth": 0,
              "ticks": ""
             }
            },
            "type": "scattercarpet"
           }
          ],
          "scattergeo": [
           {
            "marker": {
             "colorbar": {
              "outlinewidth": 0,
              "ticks": ""
             }
            },
            "type": "scattergeo"
           }
          ],
          "scattergl": [
           {
            "marker": {
             "colorbar": {
              "outlinewidth": 0,
              "ticks": ""
             }
            },
            "type": "scattergl"
           }
          ],
          "scattermapbox": [
           {
            "marker": {
             "colorbar": {
              "outlinewidth": 0,
              "ticks": ""
             }
            },
            "type": "scattermapbox"
           }
          ],
          "scatterpolar": [
           {
            "marker": {
             "colorbar": {
              "outlinewidth": 0,
              "ticks": ""
             }
            },
            "type": "scatterpolar"
           }
          ],
          "scatterpolargl": [
           {
            "marker": {
             "colorbar": {
              "outlinewidth": 0,
              "ticks": ""
             }
            },
            "type": "scatterpolargl"
           }
          ],
          "scatterternary": [
           {
            "marker": {
             "colorbar": {
              "outlinewidth": 0,
              "ticks": ""
             }
            },
            "type": "scatterternary"
           }
          ],
          "surface": [
           {
            "colorbar": {
             "outlinewidth": 0,
             "ticks": ""
            },
            "colorscale": [
             [
              0,
              "#0d0887"
             ],
             [
              0.1111111111111111,
              "#46039f"
             ],
             [
              0.2222222222222222,
              "#7201a8"
             ],
             [
              0.3333333333333333,
              "#9c179e"
             ],
             [
              0.4444444444444444,
              "#bd3786"
             ],
             [
              0.5555555555555556,
              "#d8576b"
             ],
             [
              0.6666666666666666,
              "#ed7953"
             ],
             [
              0.7777777777777778,
              "#fb9f3a"
             ],
             [
              0.8888888888888888,
              "#fdca26"
             ],
             [
              1,
              "#f0f921"
             ]
            ],
            "type": "surface"
           }
          ],
          "table": [
           {
            "cells": {
             "fill": {
              "color": "#EBF0F8"
             },
             "line": {
              "color": "white"
             }
            },
            "header": {
             "fill": {
              "color": "#C8D4E3"
             },
             "line": {
              "color": "white"
             }
            },
            "type": "table"
           }
          ]
         },
         "layout": {
          "annotationdefaults": {
           "arrowcolor": "#2a3f5f",
           "arrowhead": 0,
           "arrowwidth": 1
          },
          "autotypenumbers": "strict",
          "coloraxis": {
           "colorbar": {
            "outlinewidth": 0,
            "ticks": ""
           }
          },
          "colorscale": {
           "diverging": [
            [
             0,
             "#8e0152"
            ],
            [
             0.1,
             "#c51b7d"
            ],
            [
             0.2,
             "#de77ae"
            ],
            [
             0.3,
             "#f1b6da"
            ],
            [
             0.4,
             "#fde0ef"
            ],
            [
             0.5,
             "#f7f7f7"
            ],
            [
             0.6,
             "#e6f5d0"
            ],
            [
             0.7,
             "#b8e186"
            ],
            [
             0.8,
             "#7fbc41"
            ],
            [
             0.9,
             "#4d9221"
            ],
            [
             1,
             "#276419"
            ]
           ],
           "sequential": [
            [
             0,
             "#0d0887"
            ],
            [
             0.1111111111111111,
             "#46039f"
            ],
            [
             0.2222222222222222,
             "#7201a8"
            ],
            [
             0.3333333333333333,
             "#9c179e"
            ],
            [
             0.4444444444444444,
             "#bd3786"
            ],
            [
             0.5555555555555556,
             "#d8576b"
            ],
            [
             0.6666666666666666,
             "#ed7953"
            ],
            [
             0.7777777777777778,
             "#fb9f3a"
            ],
            [
             0.8888888888888888,
             "#fdca26"
            ],
            [
             1,
             "#f0f921"
            ]
           ],
           "sequentialminus": [
            [
             0,
             "#0d0887"
            ],
            [
             0.1111111111111111,
             "#46039f"
            ],
            [
             0.2222222222222222,
             "#7201a8"
            ],
            [
             0.3333333333333333,
             "#9c179e"
            ],
            [
             0.4444444444444444,
             "#bd3786"
            ],
            [
             0.5555555555555556,
             "#d8576b"
            ],
            [
             0.6666666666666666,
             "#ed7953"
            ],
            [
             0.7777777777777778,
             "#fb9f3a"
            ],
            [
             0.8888888888888888,
             "#fdca26"
            ],
            [
             1,
             "#f0f921"
            ]
           ]
          },
          "colorway": [
           "#636efa",
           "#EF553B",
           "#00cc96",
           "#ab63fa",
           "#FFA15A",
           "#19d3f3",
           "#FF6692",
           "#B6E880",
           "#FF97FF",
           "#FECB52"
          ],
          "font": {
           "color": "#2a3f5f"
          },
          "geo": {
           "bgcolor": "white",
           "lakecolor": "white",
           "landcolor": "#E5ECF6",
           "showlakes": true,
           "showland": true,
           "subunitcolor": "white"
          },
          "hoverlabel": {
           "align": "left"
          },
          "hovermode": "closest",
          "mapbox": {
           "style": "light"
          },
          "paper_bgcolor": "white",
          "plot_bgcolor": "#E5ECF6",
          "polar": {
           "angularaxis": {
            "gridcolor": "white",
            "linecolor": "white",
            "ticks": ""
           },
           "bgcolor": "#E5ECF6",
           "radialaxis": {
            "gridcolor": "white",
            "linecolor": "white",
            "ticks": ""
           }
          },
          "scene": {
           "xaxis": {
            "backgroundcolor": "#E5ECF6",
            "gridcolor": "white",
            "gridwidth": 2,
            "linecolor": "white",
            "showbackground": true,
            "ticks": "",
            "zerolinecolor": "white"
           },
           "yaxis": {
            "backgroundcolor": "#E5ECF6",
            "gridcolor": "white",
            "gridwidth": 2,
            "linecolor": "white",
            "showbackground": true,
            "ticks": "",
            "zerolinecolor": "white"
           },
           "zaxis": {
            "backgroundcolor": "#E5ECF6",
            "gridcolor": "white",
            "gridwidth": 2,
            "linecolor": "white",
            "showbackground": true,
            "ticks": "",
            "zerolinecolor": "white"
           }
          },
          "shapedefaults": {
           "line": {
            "color": "#2a3f5f"
           }
          },
          "ternary": {
           "aaxis": {
            "gridcolor": "white",
            "linecolor": "white",
            "ticks": ""
           },
           "baxis": {
            "gridcolor": "white",
            "linecolor": "white",
            "ticks": ""
           },
           "bgcolor": "#E5ECF6",
           "caxis": {
            "gridcolor": "white",
            "linecolor": "white",
            "ticks": ""
           }
          },
          "title": {
           "x": 0.05
          },
          "xaxis": {
           "automargin": true,
           "gridcolor": "white",
           "linecolor": "white",
           "ticks": "",
           "title": {
            "standoff": 15
           },
           "zerolinecolor": "white",
           "zerolinewidth": 2
          },
          "yaxis": {
           "automargin": true,
           "gridcolor": "white",
           "linecolor": "white",
           "ticks": "",
           "title": {
            "standoff": 15
           },
           "zerolinecolor": "white",
           "zerolinewidth": 2
          }
         }
        },
        "width": 1600,
        "xaxis": {
         "range": [
          -0.002,
          0.018
         ],
         "tickfont": {
          "color": "black",
          "family": "Times New Roman",
          "size": 44
         },
         "title": {
          "text": "Threshold (g)"
         }
        },
        "yaxis": {
         "range": [
          1,
          11
         ],
         "tickfont": {
          "color": "black",
          "family": "Times New Roman",
          "size": 44
         },
         "title": {
          "text": "Duration (s)"
         }
        }
       }
      }
     },
     "metadata": {},
     "output_type": "display_data"
    }
   ],
   "source": [
    "import plotly.graph_objects as go\n",
    "import numpy as np\n",
    "\n",
    "# Function to map a value in [1, 65] to a saturation percentage between 30% and 100%\n",
    "def value_to_saturation(val, min_val=1, max_val=65, min_sat=0.5, max_sat=1.0, gamma=2):\n",
    "    \"\"\"\n",
    "    Normalize the value to [0, 1], then apply a gamma transformation\n",
    "    to obtain a non-linear mapping, and finally scale to [min_sat, max_sat].\n",
    "    \"\"\"\n",
    "    norm = (val - min_val) / (max_val - min_val)\n",
    "    sat = min_sat + (norm ** gamma) * (max_sat - min_sat)\n",
    "    return round(sat * 100, 1)  # Return as percentage\n",
    "\n",
    "# For R_PRE (red): use hue=0 and apply the saturation mapping to each third-column value\n",
    "colors_red = [f'hsl(0, {value_to_saturation(val)}%, 50%)' for val in R_PRE[:, 2]]\n",
    "\n",
    "# For R_ONB (blue): use hue=240 and apply the saturation mapping to each third-column value\n",
    "colors_blue = [f'hsl(240, {value_to_saturation(val)}%, 50%)' for val in R_ONB[:, 2]]\n",
    "\n",
    "# Font customization variables\n",
    "font_family = \"Times New Roman\"\n",
    "font_size = 44\n",
    "font_color = \"black\"\n",
    "\n",
    "# Create figure object\n",
    "fig = go.Figure()\n",
    "\n",
    "# Add first dataset R_PRE (red)\n",
    "fig.add_trace(go.Scatter(\n",
    "    x=R_PRE[:, 0],       # x-axis: threshold (first column)\n",
    "    y=R_PRE[:, 1],       # y-axis: duration (second column)\n",
    "    mode='markers',      # markers only\n",
    "    marker=dict(\n",
    "        size=R_PRE[:, 2] * 40,  # marker size scaled from the third column values\n",
    "        color=colors_red        # marker color with saturation based on non-linear mapping\n",
    "    ),\n",
    "    name='R_PRE'\n",
    "))\n",
    "\n",
    "# Add second dataset R_ONB (blue)\n",
    "fig.add_trace(go.Scatter(\n",
    "    x=R_ONB[:, 0],       # x-axis: threshold (first column)\n",
    "    y=R_ONB[:, 1],       # y-axis: duration (second column)\n",
    "    mode='markers',      # markers only\n",
    "    marker=dict(\n",
    "        size=R_ONB[:, 2] * 40,  # marker size scaled from the third column values\n",
    "        color=colors_blue       # marker color with saturation based on non-linear mapping\n",
    "    ),\n",
    "    name='R_ONB'\n",
    "))\n",
    "\n",
    "# Update overall layout: set font, square canvas, axis labels, and hide legend\n",
    "fig.update_layout(\n",
    "    font=dict(\n",
    "        family=font_family,\n",
    "        size=font_size,\n",
    "        color=font_color\n",
    "    ),\n",
    "    width=1600,\n",
    "    height=1600,\n",
    "    showlegend=False,\n",
    "    xaxis_title=\"Threshold (g)\",\n",
    "    yaxis_title=\"Duration (s)\"\n",
    ")\n",
    "\n",
    "# Update x-axis range and tick font\n",
    "fig.update_xaxes(\n",
    "    range=[-0.002, 0.018],\n",
    "    tickfont=dict(family=font_family, size=font_size, color=font_color)\n",
    ")\n",
    "\n",
    "# Update y-axis range and tick font\n",
    "fig.update_yaxes(\n",
    "    range=[1, 11],\n",
    "    tickfont=dict(family=font_family, size=font_size, color=font_color)\n",
    ")\n",
    "\n",
    "# save the plot as png\n",
    "# fig.write_image(\"overview.png\")\n",
    "\n",
    "# Show plot\n",
    "fig.show()\n"
   ]
  },
  {
   "cell_type": "code",
   "execution_count": 9,
   "metadata": {},
   "outputs": [
    {
     "data": {
      "application/vnd.plotly.v1+json": {
       "config": {
        "plotlyServerURL": "https://plot.ly"
       },
       "data": [
        {
         "marker": {
          "color": [
           "hsl(0, 50.0%, 50%)",
           "hsl(0, 50.0%, 50%)",
           "hsl(0, 50.0%, 50%)",
           "hsl(0, 50.0%, 50%)",
           "hsl(0, 50.0%, 50%)",
           "hsl(0, 50.0%, 50%)",
           "hsl(0, 50.0%, 50%)",
           "hsl(0, 50.0%, 50%)",
           "hsl(0, 50.0%, 50%)",
           "hsl(0, 50.0%, 50%)",
           "hsl(0, 50.0%, 50%)",
           "hsl(0, 50.0%, 50%)",
           "hsl(0, 50.0%, 50%)",
           "hsl(0, 50.0%, 50%)",
           "hsl(0, 50.0%, 50%)",
           "hsl(0, 50.0%, 50%)",
           "hsl(0, 50.0%, 50%)",
           "hsl(0, 50.0%, 50%)",
           "hsl(0, 50.0%, 50%)",
           "hsl(0, 50.0%, 50%)",
           "hsl(0, 50.0%, 50%)",
           "hsl(0, 50.0%, 50%)",
           "hsl(0, 50.0%, 50%)",
           "hsl(0, 50.0%, 50%)",
           "hsl(0, 50.0%, 50%)",
           "hsl(0, 50.0%, 50%)",
           "hsl(0, 50.0%, 50%)",
           "hsl(0, 50.0%, 50%)",
           "hsl(0, 50.0%, 50%)",
           "hsl(0, 50.0%, 50%)",
           "hsl(0, 50.0%, 50%)",
           "hsl(0, 50.0%, 50%)",
           "hsl(0, 50.0%, 50%)",
           "hsl(0, 50.0%, 50%)",
           "hsl(0, 50.0%, 50%)",
           "hsl(0, 50.0%, 50%)",
           "hsl(0, 50.0%, 50%)",
           "hsl(0, 50.0%, 50%)",
           "hsl(0, 50.0%, 50%)",
           "hsl(0, 50.0%, 50%)",
           "hsl(0, 50.0%, 50%)",
           "hsl(0, 50.0%, 50%)",
           "hsl(0, 50.0%, 50%)",
           "hsl(0, 50.0%, 50%)",
           "hsl(0, 50.0%, 50%)",
           "hsl(0, 50.0%, 50%)",
           "hsl(0, 50.0%, 50%)",
           "hsl(0, 50.0%, 50%)",
           "hsl(0, 50.0%, 50%)",
           "hsl(0, 50.0%, 50%)",
           "hsl(0, 50.0%, 50%)",
           "hsl(0, 50.0%, 50%)",
           "hsl(0, 50.0%, 50%)",
           "hsl(0, 50.0%, 50%)",
           "hsl(0, 50.0%, 50%)",
           "hsl(0, 50.0%, 50%)",
           "hsl(0, 50.0%, 50%)",
           "hsl(0, 50.0%, 50%)",
           "hsl(0, 50.0%, 50%)",
           "hsl(0, 50.0%, 50%)",
           "hsl(0, 50.0%, 50%)",
           "hsl(0, 50.0%, 50%)",
           "hsl(0, 50.0%, 50%)",
           "hsl(0, 50.0%, 50%)",
           "hsl(0, 50.0%, 50%)"
          ],
          "size": [
           41.53588195841717,
           36.36363636363636,
           41.05386809867427,
           36.241610738255034,
           36.36914684043037,
           37.42875237492083,
           36.22503430400976,
           36.486279319331594,
           30.326886873181586,
           34.146341463414636,
           42.26945606694561,
           38.480513073507645,
           42.763636363636365,
           35.81183611532625,
           42.68,
           43.17858912935735,
           36.38017280582083,
           41.40915953699044,
           36.49679584986268,
           42.751252086811355,
           43.20773591197066,
           41.79963204549256,
           36.474349216014616,
           36.36363636363636,
           27.906976744186046,
           38.45152895250488,
           38.42173350582148,
           35.81183611532625,
           36.46324760310455,
           31.5879242708511,
           28.163195042175936,
           43.170365426330726,
           37.21657544956998,
           36.36363636363636,
           36.36363636363636,
           36.457699330493,
           36.38017280582083,
           43.224734042553195,
           38.027942829612975,
           36.39120545868082,
           36.36363636363636,
           40.51756007393716,
           33.89256058295204,
           43.170365426330726,
           36.36363636363636,
           36.36363636363636,
           36.36363636363636,
           36.36363636363636,
           34.20829805249789,
           42.47615860799733,
           36.36363636363636,
           40.18163471241171,
           36.36363636363636,
           42.34309623430963,
           36.36363636363636,
           43.20773591197066,
           36.468797564687975,
           36.36363636363636,
           41.743211532014755,
           36.36363636363636,
           43.06820076705019,
           36.374714394516374,
           36.474164133738604,
           38.44274311777162,
           43.002001334222825
          ]
         },
         "mode": "markers",
         "name": "R_PRE",
         "type": "scatter",
         "x": [
          0.013923535641584465,
          0.0026146408317982025,
          0.011643475214904383,
          0.005005432033846695,
          0.0039153469204843885,
          0.007245180918271568,
          0.005027282759616603,
          0.006542010934350525,
          0.013517159802857382,
          0.014215911493829144,
          0.014793471864158891,
          0.00785881010401822,
          0.009039485070106856,
          0.01605782281740864,
          0.010120721845234892,
          0.011719451780694709,
          0.00248256543479497,
          0.016109626830173186,
          0.008156070921543487,
          0.01201013528743781,
          0.013389082238372195,
          0.01009335846919932,
          0.0032467103415035744,
          0.00032590821678964545,
          0.016619587135295637,
          0.0086275921493037,
          0.010640819864370344,
          0.01592725393000278,
          0.003108148269096591,
          0.015078681023016072,
          0.016075167653846978,
          0.013780462530580623,
          0.009519477574444334,
          0.000619871436045254,
          0.0029051431389135493,
          0.004316575194453414,
          0.0025706663549380972,
          0.012412515033221048,
          0.008801991642561095,
          0.005610467072248814,
          0.003136528223350605,
          0.012213494745159875,
          0.012370507034514859,
          0.01372025248568662,
          0.0010362450915465881,
          0.003821724714716561,
          0.002812494231551567,
          0.0007779668672428159,
          0.015741945124733838,
          0.01640084036303291,
          0.0031259605916464546,
          0.011420996402516061,
          0.0015692869453695572,
          0.016499984219656785,
          0.0013319993600479597,
          0.013434679814115849,
          0.006911113985965642,
          0.0007892782200614162,
          0.015587648112994854,
          0.0008758388039498983,
          0.0124851191684747,
          0.006099123745457028,
          0.006361633826713498,
          0.008171190187500805,
          0.012637453215235808
         ],
         "y": [
          1.0383970489604293,
          0.9090909090909091,
          1.0263467024668569,
          0.9060402684563759,
          0.9092286710107592,
          0.9357188093730209,
          0.9056258576002439,
          0.9121569829832898,
          0.7581721718295397,
          0.8536585365853658,
          1.0567364016736402,
          0.9620128268376912,
          1.069090909090909,
          0.8952959028831563,
          1.067,
          1.0794647282339338,
          0.9095043201455207,
          1.035228988424761,
          0.9124198962465669,
          1.0687813021702839,
          1.0801933977992664,
          1.044990801137314,
          0.9118587304003654,
          0.9090909090909091,
          0.6976744186046512,
          0.961288223812622,
          0.9605433376455369,
          0.8952959028831563,
          0.9115811900776137,
          0.7896981067712775,
          0.7040798760543984,
          1.0792591356582681,
          0.9304143862392494,
          0.9090909090909091,
          0.9090909090909091,
          0.911442483262325,
          0.9095043201455207,
          1.0806183510638299,
          0.9506985707403244,
          0.9097801364670205,
          0.9090909090909091,
          1.012939001848429,
          0.8473140145738011,
          1.0792591356582681,
          0.9090909090909091,
          0.9090909090909091,
          0.9090909090909091,
          0.9090909090909091,
          0.8552074513124471,
          1.0619039651999331,
          0.9090909090909091,
          1.0045408678102927,
          0.9090909090909091,
          1.0585774058577406,
          0.9090909090909091,
          1.0801933977992664,
          0.9117199391171994,
          0.9090909090909091,
          1.0435802883003689,
          0.9090909090909091,
          1.0767050191762548,
          0.9093678598629094,
          0.9118541033434651,
          0.9610685779442906,
          1.0750500333555706
         ]
        },
        {
         "marker": {
          "color": [
           "hsl(240, 50.0%, 50%)",
           "hsl(240, 50.0%, 50%)",
           "hsl(240, 50.0%, 50%)",
           "hsl(240, 50.0%, 50%)",
           "hsl(240, 50.0%, 50%)",
           "hsl(240, 50.0%, 50%)",
           "hsl(240, 50.0%, 50%)",
           "hsl(240, 50.0%, 50%)",
           "hsl(240, 50.0%, 50%)",
           "hsl(240, 50.0%, 50%)",
           "hsl(240, 50.0%, 50%)",
           "hsl(240, 50.0%, 50%)",
           "hsl(240, 50.0%, 50%)",
           "hsl(240, 50.0%, 50%)",
           "hsl(240, 50.0%, 50%)",
           "hsl(240, 50.0%, 50%)",
           "hsl(240, 50.0%, 50%)",
           "hsl(240, 50.0%, 50%)",
           "hsl(240, 50.0%, 50%)",
           "hsl(240, 50.0%, 50%)"
          ],
          "size": [
           40.93482565463599,
           41.10863833104639,
           37.62647775072287,
           41.022568778839045,
           41.06261130595285,
           36.963898120989384,
           40.56975359681536,
           32.621541736604335,
           37.626084434937816,
           37.83604006530558,
           41.34207353834895,
           37.62007031420892,
           41.111534581937086,
           37.690069485915984,
           40.60503829588298,
           35.9536528368058,
           40.960072202188165,
           37.578205292437254,
           35.84704523702802,
           37.71304546141593
          ]
         },
         "mode": "markers",
         "name": "R_ONB",
         "type": "scatter",
         "x": [
          0.014222310196138586,
          0.013883494518965664,
          0.010248041919413328,
          0.01497529636343339,
          0.014515503028541194,
          0.00760179153809369,
          0.014413730018515874,
          0.004634354368245535,
          0.009923399687761878,
          0.010751548497234113,
          0.012099814987986561,
          0.010222527938828479,
          0.014578660083730833,
          0.009337771437114574,
          0.014036410216319422,
          0.0056840036644070936,
          0.0146367065301583,
          0.011657725194978536,
          0.013961813596054917,
          0.01181644919825968
         ],
         "y": [
          1.0233706413658998,
          1.02771595827616,
          0.9406619437680717,
          1.0255642194709762,
          1.0265652826488212,
          0.9240974530247347,
          1.014243839920384,
          0.8155385434151085,
          0.9406521108734455,
          0.9459010016326396,
          1.0335518384587237,
          0.9405017578552228,
          1.0277883645484271,
          0.9422517371478997,
          1.0151259573970743,
          0.8988413209201451,
          1.0240018050547042,
          0.9394551323109314,
          0.8961761309257005,
          0.9428261365353983
         ]
        }
       ],
       "layout": {
        "font": {
         "color": "black",
         "family": "Times New Roman",
         "size": 44
        },
        "height": 1600,
        "showlegend": false,
        "template": {
         "data": {
          "bar": [
           {
            "error_x": {
             "color": "#2a3f5f"
            },
            "error_y": {
             "color": "#2a3f5f"
            },
            "marker": {
             "line": {
              "color": "#E5ECF6",
              "width": 0.5
             },
             "pattern": {
              "fillmode": "overlay",
              "size": 10,
              "solidity": 0.2
             }
            },
            "type": "bar"
           }
          ],
          "barpolar": [
           {
            "marker": {
             "line": {
              "color": "#E5ECF6",
              "width": 0.5
             },
             "pattern": {
              "fillmode": "overlay",
              "size": 10,
              "solidity": 0.2
             }
            },
            "type": "barpolar"
           }
          ],
          "carpet": [
           {
            "aaxis": {
             "endlinecolor": "#2a3f5f",
             "gridcolor": "white",
             "linecolor": "white",
             "minorgridcolor": "white",
             "startlinecolor": "#2a3f5f"
            },
            "baxis": {
             "endlinecolor": "#2a3f5f",
             "gridcolor": "white",
             "linecolor": "white",
             "minorgridcolor": "white",
             "startlinecolor": "#2a3f5f"
            },
            "type": "carpet"
           }
          ],
          "choropleth": [
           {
            "colorbar": {
             "outlinewidth": 0,
             "ticks": ""
            },
            "type": "choropleth"
           }
          ],
          "contour": [
           {
            "colorbar": {
             "outlinewidth": 0,
             "ticks": ""
            },
            "colorscale": [
             [
              0,
              "#0d0887"
             ],
             [
              0.1111111111111111,
              "#46039f"
             ],
             [
              0.2222222222222222,
              "#7201a8"
             ],
             [
              0.3333333333333333,
              "#9c179e"
             ],
             [
              0.4444444444444444,
              "#bd3786"
             ],
             [
              0.5555555555555556,
              "#d8576b"
             ],
             [
              0.6666666666666666,
              "#ed7953"
             ],
             [
              0.7777777777777778,
              "#fb9f3a"
             ],
             [
              0.8888888888888888,
              "#fdca26"
             ],
             [
              1,
              "#f0f921"
             ]
            ],
            "type": "contour"
           }
          ],
          "contourcarpet": [
           {
            "colorbar": {
             "outlinewidth": 0,
             "ticks": ""
            },
            "type": "contourcarpet"
           }
          ],
          "heatmap": [
           {
            "colorbar": {
             "outlinewidth": 0,
             "ticks": ""
            },
            "colorscale": [
             [
              0,
              "#0d0887"
             ],
             [
              0.1111111111111111,
              "#46039f"
             ],
             [
              0.2222222222222222,
              "#7201a8"
             ],
             [
              0.3333333333333333,
              "#9c179e"
             ],
             [
              0.4444444444444444,
              "#bd3786"
             ],
             [
              0.5555555555555556,
              "#d8576b"
             ],
             [
              0.6666666666666666,
              "#ed7953"
             ],
             [
              0.7777777777777778,
              "#fb9f3a"
             ],
             [
              0.8888888888888888,
              "#fdca26"
             ],
             [
              1,
              "#f0f921"
             ]
            ],
            "type": "heatmap"
           }
          ],
          "heatmapgl": [
           {
            "colorbar": {
             "outlinewidth": 0,
             "ticks": ""
            },
            "colorscale": [
             [
              0,
              "#0d0887"
             ],
             [
              0.1111111111111111,
              "#46039f"
             ],
             [
              0.2222222222222222,
              "#7201a8"
             ],
             [
              0.3333333333333333,
              "#9c179e"
             ],
             [
              0.4444444444444444,
              "#bd3786"
             ],
             [
              0.5555555555555556,
              "#d8576b"
             ],
             [
              0.6666666666666666,
              "#ed7953"
             ],
             [
              0.7777777777777778,
              "#fb9f3a"
             ],
             [
              0.8888888888888888,
              "#fdca26"
             ],
             [
              1,
              "#f0f921"
             ]
            ],
            "type": "heatmapgl"
           }
          ],
          "histogram": [
           {
            "marker": {
             "pattern": {
              "fillmode": "overlay",
              "size": 10,
              "solidity": 0.2
             }
            },
            "type": "histogram"
           }
          ],
          "histogram2d": [
           {
            "colorbar": {
             "outlinewidth": 0,
             "ticks": ""
            },
            "colorscale": [
             [
              0,
              "#0d0887"
             ],
             [
              0.1111111111111111,
              "#46039f"
             ],
             [
              0.2222222222222222,
              "#7201a8"
             ],
             [
              0.3333333333333333,
              "#9c179e"
             ],
             [
              0.4444444444444444,
              "#bd3786"
             ],
             [
              0.5555555555555556,
              "#d8576b"
             ],
             [
              0.6666666666666666,
              "#ed7953"
             ],
             [
              0.7777777777777778,
              "#fb9f3a"
             ],
             [
              0.8888888888888888,
              "#fdca26"
             ],
             [
              1,
              "#f0f921"
             ]
            ],
            "type": "histogram2d"
           }
          ],
          "histogram2dcontour": [
           {
            "colorbar": {
             "outlinewidth": 0,
             "ticks": ""
            },
            "colorscale": [
             [
              0,
              "#0d0887"
             ],
             [
              0.1111111111111111,
              "#46039f"
             ],
             [
              0.2222222222222222,
              "#7201a8"
             ],
             [
              0.3333333333333333,
              "#9c179e"
             ],
             [
              0.4444444444444444,
              "#bd3786"
             ],
             [
              0.5555555555555556,
              "#d8576b"
             ],
             [
              0.6666666666666666,
              "#ed7953"
             ],
             [
              0.7777777777777778,
              "#fb9f3a"
             ],
             [
              0.8888888888888888,
              "#fdca26"
             ],
             [
              1,
              "#f0f921"
             ]
            ],
            "type": "histogram2dcontour"
           }
          ],
          "mesh3d": [
           {
            "colorbar": {
             "outlinewidth": 0,
             "ticks": ""
            },
            "type": "mesh3d"
           }
          ],
          "parcoords": [
           {
            "line": {
             "colorbar": {
              "outlinewidth": 0,
              "ticks": ""
             }
            },
            "type": "parcoords"
           }
          ],
          "pie": [
           {
            "automargin": true,
            "type": "pie"
           }
          ],
          "scatter": [
           {
            "fillpattern": {
             "fillmode": "overlay",
             "size": 10,
             "solidity": 0.2
            },
            "type": "scatter"
           }
          ],
          "scatter3d": [
           {
            "line": {
             "colorbar": {
              "outlinewidth": 0,
              "ticks": ""
             }
            },
            "marker": {
             "colorbar": {
              "outlinewidth": 0,
              "ticks": ""
             }
            },
            "type": "scatter3d"
           }
          ],
          "scattercarpet": [
           {
            "marker": {
             "colorbar": {
              "outlinewidth": 0,
              "ticks": ""
             }
            },
            "type": "scattercarpet"
           }
          ],
          "scattergeo": [
           {
            "marker": {
             "colorbar": {
              "outlinewidth": 0,
              "ticks": ""
             }
            },
            "type": "scattergeo"
           }
          ],
          "scattergl": [
           {
            "marker": {
             "colorbar": {
              "outlinewidth": 0,
              "ticks": ""
             }
            },
            "type": "scattergl"
           }
          ],
          "scattermapbox": [
           {
            "marker": {
             "colorbar": {
              "outlinewidth": 0,
              "ticks": ""
             }
            },
            "type": "scattermapbox"
           }
          ],
          "scatterpolar": [
           {
            "marker": {
             "colorbar": {
              "outlinewidth": 0,
              "ticks": ""
             }
            },
            "type": "scatterpolar"
           }
          ],
          "scatterpolargl": [
           {
            "marker": {
             "colorbar": {
              "outlinewidth": 0,
              "ticks": ""
             }
            },
            "type": "scatterpolargl"
           }
          ],
          "scatterternary": [
           {
            "marker": {
             "colorbar": {
              "outlinewidth": 0,
              "ticks": ""
             }
            },
            "type": "scatterternary"
           }
          ],
          "surface": [
           {
            "colorbar": {
             "outlinewidth": 0,
             "ticks": ""
            },
            "colorscale": [
             [
              0,
              "#0d0887"
             ],
             [
              0.1111111111111111,
              "#46039f"
             ],
             [
              0.2222222222222222,
              "#7201a8"
             ],
             [
              0.3333333333333333,
              "#9c179e"
             ],
             [
              0.4444444444444444,
              "#bd3786"
             ],
             [
              0.5555555555555556,
              "#d8576b"
             ],
             [
              0.6666666666666666,
              "#ed7953"
             ],
             [
              0.7777777777777778,
              "#fb9f3a"
             ],
             [
              0.8888888888888888,
              "#fdca26"
             ],
             [
              1,
              "#f0f921"
             ]
            ],
            "type": "surface"
           }
          ],
          "table": [
           {
            "cells": {
             "fill": {
              "color": "#EBF0F8"
             },
             "line": {
              "color": "white"
             }
            },
            "header": {
             "fill": {
              "color": "#C8D4E3"
             },
             "line": {
              "color": "white"
             }
            },
            "type": "table"
           }
          ]
         },
         "layout": {
          "annotationdefaults": {
           "arrowcolor": "#2a3f5f",
           "arrowhead": 0,
           "arrowwidth": 1
          },
          "autotypenumbers": "strict",
          "coloraxis": {
           "colorbar": {
            "outlinewidth": 0,
            "ticks": ""
           }
          },
          "colorscale": {
           "diverging": [
            [
             0,
             "#8e0152"
            ],
            [
             0.1,
             "#c51b7d"
            ],
            [
             0.2,
             "#de77ae"
            ],
            [
             0.3,
             "#f1b6da"
            ],
            [
             0.4,
             "#fde0ef"
            ],
            [
             0.5,
             "#f7f7f7"
            ],
            [
             0.6,
             "#e6f5d0"
            ],
            [
             0.7,
             "#b8e186"
            ],
            [
             0.8,
             "#7fbc41"
            ],
            [
             0.9,
             "#4d9221"
            ],
            [
             1,
             "#276419"
            ]
           ],
           "sequential": [
            [
             0,
             "#0d0887"
            ],
            [
             0.1111111111111111,
             "#46039f"
            ],
            [
             0.2222222222222222,
             "#7201a8"
            ],
            [
             0.3333333333333333,
             "#9c179e"
            ],
            [
             0.4444444444444444,
             "#bd3786"
            ],
            [
             0.5555555555555556,
             "#d8576b"
            ],
            [
             0.6666666666666666,
             "#ed7953"
            ],
            [
             0.7777777777777778,
             "#fb9f3a"
            ],
            [
             0.8888888888888888,
             "#fdca26"
            ],
            [
             1,
             "#f0f921"
            ]
           ],
           "sequentialminus": [
            [
             0,
             "#0d0887"
            ],
            [
             0.1111111111111111,
             "#46039f"
            ],
            [
             0.2222222222222222,
             "#7201a8"
            ],
            [
             0.3333333333333333,
             "#9c179e"
            ],
            [
             0.4444444444444444,
             "#bd3786"
            ],
            [
             0.5555555555555556,
             "#d8576b"
            ],
            [
             0.6666666666666666,
             "#ed7953"
            ],
            [
             0.7777777777777778,
             "#fb9f3a"
            ],
            [
             0.8888888888888888,
             "#fdca26"
            ],
            [
             1,
             "#f0f921"
            ]
           ]
          },
          "colorway": [
           "#636efa",
           "#EF553B",
           "#00cc96",
           "#ab63fa",
           "#FFA15A",
           "#19d3f3",
           "#FF6692",
           "#B6E880",
           "#FF97FF",
           "#FECB52"
          ],
          "font": {
           "color": "#2a3f5f"
          },
          "geo": {
           "bgcolor": "white",
           "lakecolor": "white",
           "landcolor": "#E5ECF6",
           "showlakes": true,
           "showland": true,
           "subunitcolor": "white"
          },
          "hoverlabel": {
           "align": "left"
          },
          "hovermode": "closest",
          "mapbox": {
           "style": "light"
          },
          "paper_bgcolor": "white",
          "plot_bgcolor": "#E5ECF6",
          "polar": {
           "angularaxis": {
            "gridcolor": "white",
            "linecolor": "white",
            "ticks": ""
           },
           "bgcolor": "#E5ECF6",
           "radialaxis": {
            "gridcolor": "white",
            "linecolor": "white",
            "ticks": ""
           }
          },
          "scene": {
           "xaxis": {
            "backgroundcolor": "#E5ECF6",
            "gridcolor": "white",
            "gridwidth": 2,
            "linecolor": "white",
            "showbackground": true,
            "ticks": "",
            "zerolinecolor": "white"
           },
           "yaxis": {
            "backgroundcolor": "#E5ECF6",
            "gridcolor": "white",
            "gridwidth": 2,
            "linecolor": "white",
            "showbackground": true,
            "ticks": "",
            "zerolinecolor": "white"
           },
           "zaxis": {
            "backgroundcolor": "#E5ECF6",
            "gridcolor": "white",
            "gridwidth": 2,
            "linecolor": "white",
            "showbackground": true,
            "ticks": "",
            "zerolinecolor": "white"
           }
          },
          "shapedefaults": {
           "line": {
            "color": "#2a3f5f"
           }
          },
          "ternary": {
           "aaxis": {
            "gridcolor": "white",
            "linecolor": "white",
            "ticks": ""
           },
           "baxis": {
            "gridcolor": "white",
            "linecolor": "white",
            "ticks": ""
           },
           "bgcolor": "#E5ECF6",
           "caxis": {
            "gridcolor": "white",
            "linecolor": "white",
            "ticks": ""
           }
          },
          "title": {
           "x": 0.05
          },
          "xaxis": {
           "automargin": true,
           "gridcolor": "white",
           "linecolor": "white",
           "ticks": "",
           "title": {
            "standoff": 15
           },
           "zerolinecolor": "white",
           "zerolinewidth": 2
          },
          "yaxis": {
           "automargin": true,
           "gridcolor": "white",
           "linecolor": "white",
           "ticks": "",
           "title": {
            "standoff": 15
           },
           "zerolinecolor": "white",
           "zerolinewidth": 2
          }
         }
        },
        "width": 1600,
        "xaxis": {
         "range": [
          -0.002,
          0.018
         ],
         "tickfont": {
          "color": "black",
          "family": "Times New Roman",
          "size": 44
         },
         "title": {
          "text": "Threshold (g)"
         }
        },
        "yaxis": {
         "range": [
          -0.1,
          1.2
         ],
         "tickfont": {
          "color": "black",
          "family": "Times New Roman",
          "size": 44
         },
         "title": {
          "text": "F-beta Score"
         }
        }
       }
      }
     },
     "metadata": {},
     "output_type": "display_data"
    }
   ],
   "source": [
    "import plotly.graph_objects as go\n",
    "import numpy as np\n",
    "\n",
    "# Function to map a value in [1, 65] to a saturation percentage between 30% and 100%\n",
    "def value_to_saturation(val, min_val=1, max_val=65, min_sat=0.5, max_sat=1.0, gamma=2):\n",
    "    \"\"\"\n",
    "    Normalize the value to [0, 1], then apply a gamma transformation\n",
    "    to obtain a non-linear mapping, and finally scale to [min_sat, max_sat].\n",
    "    \"\"\"\n",
    "    norm = (val - min_val) / (max_val - min_val)\n",
    "    sat = min_sat + (norm ** gamma) * (max_sat - min_sat)\n",
    "    return round(sat * 100, 1)  # Return as percentage\n",
    "\n",
    "# For R_PRE (red): use hue=0 and apply the saturation mapping to each third-column value\n",
    "colors_red = [f'hsl(0, {value_to_saturation(val)}%, 50%)' for val in R_PRE[:, 2]]\n",
    "\n",
    "# For R_ONB (blue): use hue=240 and apply the saturation mapping to each third-column value\n",
    "colors_blue = [f'hsl(240, {value_to_saturation(val)}%, 50%)' for val in R_ONB[:, 2]]\n",
    "\n",
    "# Font customization variables\n",
    "font_family = \"Times New Roman\"\n",
    "font_size = 44\n",
    "font_color = \"black\"\n",
    "\n",
    "# Create figure object\n",
    "fig = go.Figure()\n",
    "\n",
    "# Add first dataset R_PRE (red)\n",
    "fig.add_trace(go.Scatter(\n",
    "    x=R_PRE[:, 0],       # x-axis: threshold (first column)\n",
    "    y=R_PRE[:, 2],       # y-axis: duration (second column)\n",
    "    mode='markers',      # markers only\n",
    "    marker=dict(\n",
    "        size=R_PRE[:, 2] * 40,  # marker size scaled from the third column values\n",
    "        color=colors_red        # marker color with saturation based on non-linear mapping\n",
    "    ),\n",
    "    name='R_PRE'\n",
    "))\n",
    "\n",
    "# Add second dataset R_ONB (blue)\n",
    "fig.add_trace(go.Scatter(\n",
    "    x=R_ONB[:, 0],       # x-axis: threshold (first column)\n",
    "    y=R_ONB[:, 2],       # y-axis: duration (second column)\n",
    "    mode='markers',      # markers only\n",
    "    marker=dict(\n",
    "        size=R_ONB[:, 2] * 40,  # marker size scaled from the third column values\n",
    "        color=colors_blue       # marker color with saturation based on non-linear mapping\n",
    "    ),\n",
    "    name='R_ONB'\n",
    "))\n",
    "\n",
    "# Update overall layout: set font, square canvas, axis labels, and hide legend\n",
    "fig.update_layout(\n",
    "    font=dict(\n",
    "        family=font_family,\n",
    "        size=font_size,\n",
    "        color=font_color\n",
    "    ),\n",
    "    width=1600,\n",
    "    height=1600,\n",
    "    showlegend=False,\n",
    "    xaxis_title=\"Threshold (g)\",\n",
    "    yaxis_title=\"F-beta Score\"\n",
    ")\n",
    "\n",
    "# Update x-axis range and tick font\n",
    "fig.update_xaxes(\n",
    "    range=[-0.002, 0.018],\n",
    "    tickfont=dict(family=font_family, size=font_size, color=font_color)\n",
    ")\n",
    "\n",
    "# Update y-axis range and tick font\n",
    "fig.update_yaxes(\n",
    "    range=[-0.1, 1.2],\n",
    "    tickfont=dict(family=font_family, size=font_size, color=font_color)\n",
    ")\n",
    "\n",
    "# save the plot as png\n",
    "# fig.write_image(\"Threshold-F_beta.png\")\n",
    "\n",
    "# Show plot\n",
    "fig.show()\n"
   ]
  },
  {
   "cell_type": "code",
   "execution_count": 10,
   "metadata": {},
   "outputs": [
    {
     "data": {
      "application/vnd.plotly.v1+json": {
       "config": {
        "plotlyServerURL": "https://plot.ly"
       },
       "data": [
        {
         "marker": {
          "color": [
           "hsl(0, 50.0%, 50%)",
           "hsl(0, 50.0%, 50%)",
           "hsl(0, 50.0%, 50%)",
           "hsl(0, 50.0%, 50%)",
           "hsl(0, 50.0%, 50%)",
           "hsl(0, 50.0%, 50%)",
           "hsl(0, 50.0%, 50%)",
           "hsl(0, 50.0%, 50%)",
           "hsl(0, 50.0%, 50%)",
           "hsl(0, 50.0%, 50%)",
           "hsl(0, 50.0%, 50%)",
           "hsl(0, 50.0%, 50%)",
           "hsl(0, 50.0%, 50%)",
           "hsl(0, 50.0%, 50%)",
           "hsl(0, 50.0%, 50%)",
           "hsl(0, 50.0%, 50%)",
           "hsl(0, 50.0%, 50%)",
           "hsl(0, 50.0%, 50%)",
           "hsl(0, 50.0%, 50%)",
           "hsl(0, 50.0%, 50%)",
           "hsl(0, 50.0%, 50%)",
           "hsl(0, 50.0%, 50%)",
           "hsl(0, 50.0%, 50%)",
           "hsl(0, 50.0%, 50%)",
           "hsl(0, 50.0%, 50%)",
           "hsl(0, 50.0%, 50%)",
           "hsl(0, 50.0%, 50%)",
           "hsl(0, 50.0%, 50%)",
           "hsl(0, 50.0%, 50%)",
           "hsl(0, 50.0%, 50%)",
           "hsl(0, 50.0%, 50%)",
           "hsl(0, 50.0%, 50%)",
           "hsl(0, 50.0%, 50%)",
           "hsl(0, 50.0%, 50%)",
           "hsl(0, 50.0%, 50%)",
           "hsl(0, 50.0%, 50%)",
           "hsl(0, 50.0%, 50%)",
           "hsl(0, 50.0%, 50%)",
           "hsl(0, 50.0%, 50%)",
           "hsl(0, 50.0%, 50%)",
           "hsl(0, 50.0%, 50%)",
           "hsl(0, 50.0%, 50%)",
           "hsl(0, 50.0%, 50%)",
           "hsl(0, 50.0%, 50%)",
           "hsl(0, 50.0%, 50%)",
           "hsl(0, 50.0%, 50%)",
           "hsl(0, 50.0%, 50%)",
           "hsl(0, 50.0%, 50%)",
           "hsl(0, 50.0%, 50%)",
           "hsl(0, 50.0%, 50%)",
           "hsl(0, 50.0%, 50%)",
           "hsl(0, 50.0%, 50%)",
           "hsl(0, 50.0%, 50%)",
           "hsl(0, 50.0%, 50%)",
           "hsl(0, 50.0%, 50%)",
           "hsl(0, 50.0%, 50%)",
           "hsl(0, 50.0%, 50%)",
           "hsl(0, 50.0%, 50%)",
           "hsl(0, 50.0%, 50%)",
           "hsl(0, 50.0%, 50%)",
           "hsl(0, 50.0%, 50%)",
           "hsl(0, 50.0%, 50%)",
           "hsl(0, 50.0%, 50%)",
           "hsl(0, 50.0%, 50%)",
           "hsl(0, 50.0%, 50%)"
          ],
          "size": [
           41.53588195841717,
           36.36363636363636,
           41.05386809867427,
           36.241610738255034,
           36.36914684043037,
           37.42875237492083,
           36.22503430400976,
           36.486279319331594,
           30.326886873181586,
           34.146341463414636,
           42.26945606694561,
           38.480513073507645,
           42.763636363636365,
           35.81183611532625,
           42.68,
           43.17858912935735,
           36.38017280582083,
           41.40915953699044,
           36.49679584986268,
           42.751252086811355,
           43.20773591197066,
           41.79963204549256,
           36.474349216014616,
           36.36363636363636,
           27.906976744186046,
           38.45152895250488,
           38.42173350582148,
           35.81183611532625,
           36.46324760310455,
           31.5879242708511,
           28.163195042175936,
           43.170365426330726,
           37.21657544956998,
           36.36363636363636,
           36.36363636363636,
           36.457699330493,
           36.38017280582083,
           43.224734042553195,
           38.027942829612975,
           36.39120545868082,
           36.36363636363636,
           40.51756007393716,
           33.89256058295204,
           43.170365426330726,
           36.36363636363636,
           36.36363636363636,
           36.36363636363636,
           36.36363636363636,
           34.20829805249789,
           42.47615860799733,
           36.36363636363636,
           40.18163471241171,
           36.36363636363636,
           42.34309623430963,
           36.36363636363636,
           43.20773591197066,
           36.468797564687975,
           36.36363636363636,
           41.743211532014755,
           36.36363636363636,
           43.06820076705019,
           36.374714394516374,
           36.474164133738604,
           38.44274311777162,
           43.002001334222825
          ]
         },
         "mode": "markers",
         "name": "R_PRE",
         "type": "scatter",
         "x": [
          4.8321011980118715,
          5.09359573065937,
          6.040586149844081,
          7.123012642117984,
          4.575489087361093,
          6.6187428458377315,
          6.107518058322045,
          5.230185236574166,
          9.683199162824087,
          6.736172164155384,
          3.605746069767968,
          8.97712425660999,
          6.376047828341818,
          4.809321008901322,
          6.7250069488223225,
          2.4252532226349404,
          8.11166106856976,
          3.131707789523354,
          2.064152590814718,
          4.055596659885152,
          2.790454050091408,
          7.580485384897242,
          8.303584427586394,
          3.4505014589852836,
          9.995617104219594,
          5.712276086780518,
          2.62713101574525,
          4.109261674047476,
          8.675088265083414,
          7.734720433247876,
          9.266133213814019,
          2.0329520819698867,
          2.992338520511921,
          2.3671642843491165,
          3.7543333503386043,
          5.607291994932785,
          7.33943454099101,
          2.015557557257843,
          4.371116330540877,
          2.005051387461844,
          3.243251805626832,
          6.224866777603471,
          8.602833774453934,
          2.630856999893795,
          2.4821973755033904,
          3.794611642682413,
          6.41506658025062,
          7.073647081483084,
          5.860080952114699,
          2.8611842912032577,
          4.376531847880266,
          7.977840074896267,
          5.377664144894675,
          2.000560265001064,
          2.9583956622781162,
          2.2642735928731197,
          2.3781228356106894,
          7.606405672760627,
          3.3994221931546598,
          8.36749586394299,
          3.848282872083818,
          4.058773347594962,
          2.0005602697077727,
          6.355507428473871,
          3.425562745999092
         ],
         "y": [
          1.0383970489604293,
          0.9090909090909091,
          1.0263467024668569,
          0.9060402684563759,
          0.9092286710107592,
          0.9357188093730209,
          0.9056258576002439,
          0.9121569829832898,
          0.7581721718295397,
          0.8536585365853658,
          1.0567364016736402,
          0.9620128268376912,
          1.069090909090909,
          0.8952959028831563,
          1.067,
          1.0794647282339338,
          0.9095043201455207,
          1.035228988424761,
          0.9124198962465669,
          1.0687813021702839,
          1.0801933977992664,
          1.044990801137314,
          0.9118587304003654,
          0.9090909090909091,
          0.6976744186046512,
          0.961288223812622,
          0.9605433376455369,
          0.8952959028831563,
          0.9115811900776137,
          0.7896981067712775,
          0.7040798760543984,
          1.0792591356582681,
          0.9304143862392494,
          0.9090909090909091,
          0.9090909090909091,
          0.911442483262325,
          0.9095043201455207,
          1.0806183510638299,
          0.9506985707403244,
          0.9097801364670205,
          0.9090909090909091,
          1.012939001848429,
          0.8473140145738011,
          1.0792591356582681,
          0.9090909090909091,
          0.9090909090909091,
          0.9090909090909091,
          0.9090909090909091,
          0.8552074513124471,
          1.0619039651999331,
          0.9090909090909091,
          1.0045408678102927,
          0.9090909090909091,
          1.0585774058577406,
          0.9090909090909091,
          1.0801933977992664,
          0.9117199391171994,
          0.9090909090909091,
          1.0435802883003689,
          0.9090909090909091,
          1.0767050191762548,
          0.9093678598629094,
          0.9118541033434651,
          0.9610685779442906,
          1.0750500333555706
         ]
        },
        {
         "marker": {
          "color": [
           "hsl(240, 50.0%, 50%)",
           "hsl(240, 50.0%, 50%)",
           "hsl(240, 50.0%, 50%)",
           "hsl(240, 50.0%, 50%)",
           "hsl(240, 50.0%, 50%)",
           "hsl(240, 50.0%, 50%)",
           "hsl(240, 50.0%, 50%)",
           "hsl(240, 50.0%, 50%)",
           "hsl(240, 50.0%, 50%)",
           "hsl(240, 50.0%, 50%)",
           "hsl(240, 50.0%, 50%)",
           "hsl(240, 50.0%, 50%)",
           "hsl(240, 50.0%, 50%)",
           "hsl(240, 50.0%, 50%)",
           "hsl(240, 50.0%, 50%)",
           "hsl(240, 50.0%, 50%)",
           "hsl(240, 50.0%, 50%)",
           "hsl(240, 50.0%, 50%)",
           "hsl(240, 50.0%, 50%)",
           "hsl(240, 50.0%, 50%)"
          ],
          "size": [
           40.93482565463599,
           41.10863833104639,
           37.62647775072287,
           41.022568778839045,
           41.06261130595285,
           36.963898120989384,
           40.56975359681536,
           32.621541736604335,
           37.626084434937816,
           37.83604006530558,
           41.34207353834895,
           37.62007031420892,
           41.111534581937086,
           37.690069485915984,
           40.60503829588298,
           35.9536528368058,
           40.960072202188165,
           37.578205292437254,
           35.84704523702802,
           37.71304546141593
          ]
         },
         "mode": "markers",
         "name": "R_ONB",
         "type": "scatter",
         "x": [
          2.7258960092489266,
          2.483967788360471,
          2.7307013258547084,
          2.3010469175765733,
          2.4026727235866048,
          2.263614245404317,
          3.578116227878919,
          3.3895535862242623,
          2.6799531806853043,
          2.2508598727172755,
          2.507746520829172,
          2.7579690158074825,
          2.263474783399264,
          2.284176835058041,
          3.656135308543412,
          3.700766157976763,
          2.5874721400634764,
          2.5299691395591104,
          6.372083892230138,
          2.212400186759214
         ],
         "y": [
          1.0233706413658998,
          1.02771595827616,
          0.9406619437680717,
          1.0255642194709762,
          1.0265652826488212,
          0.9240974530247347,
          1.014243839920384,
          0.8155385434151085,
          0.9406521108734455,
          0.9459010016326396,
          1.0335518384587237,
          0.9405017578552228,
          1.0277883645484271,
          0.9422517371478997,
          1.0151259573970743,
          0.8988413209201451,
          1.0240018050547042,
          0.9394551323109314,
          0.8961761309257005,
          0.9428261365353983
         ]
        }
       ],
       "layout": {
        "font": {
         "color": "black",
         "family": "Times New Roman",
         "size": 44
        },
        "height": 1600,
        "showlegend": false,
        "template": {
         "data": {
          "bar": [
           {
            "error_x": {
             "color": "#2a3f5f"
            },
            "error_y": {
             "color": "#2a3f5f"
            },
            "marker": {
             "line": {
              "color": "#E5ECF6",
              "width": 0.5
             },
             "pattern": {
              "fillmode": "overlay",
              "size": 10,
              "solidity": 0.2
             }
            },
            "type": "bar"
           }
          ],
          "barpolar": [
           {
            "marker": {
             "line": {
              "color": "#E5ECF6",
              "width": 0.5
             },
             "pattern": {
              "fillmode": "overlay",
              "size": 10,
              "solidity": 0.2
             }
            },
            "type": "barpolar"
           }
          ],
          "carpet": [
           {
            "aaxis": {
             "endlinecolor": "#2a3f5f",
             "gridcolor": "white",
             "linecolor": "white",
             "minorgridcolor": "white",
             "startlinecolor": "#2a3f5f"
            },
            "baxis": {
             "endlinecolor": "#2a3f5f",
             "gridcolor": "white",
             "linecolor": "white",
             "minorgridcolor": "white",
             "startlinecolor": "#2a3f5f"
            },
            "type": "carpet"
           }
          ],
          "choropleth": [
           {
            "colorbar": {
             "outlinewidth": 0,
             "ticks": ""
            },
            "type": "choropleth"
           }
          ],
          "contour": [
           {
            "colorbar": {
             "outlinewidth": 0,
             "ticks": ""
            },
            "colorscale": [
             [
              0,
              "#0d0887"
             ],
             [
              0.1111111111111111,
              "#46039f"
             ],
             [
              0.2222222222222222,
              "#7201a8"
             ],
             [
              0.3333333333333333,
              "#9c179e"
             ],
             [
              0.4444444444444444,
              "#bd3786"
             ],
             [
              0.5555555555555556,
              "#d8576b"
             ],
             [
              0.6666666666666666,
              "#ed7953"
             ],
             [
              0.7777777777777778,
              "#fb9f3a"
             ],
             [
              0.8888888888888888,
              "#fdca26"
             ],
             [
              1,
              "#f0f921"
             ]
            ],
            "type": "contour"
           }
          ],
          "contourcarpet": [
           {
            "colorbar": {
             "outlinewidth": 0,
             "ticks": ""
            },
            "type": "contourcarpet"
           }
          ],
          "heatmap": [
           {
            "colorbar": {
             "outlinewidth": 0,
             "ticks": ""
            },
            "colorscale": [
             [
              0,
              "#0d0887"
             ],
             [
              0.1111111111111111,
              "#46039f"
             ],
             [
              0.2222222222222222,
              "#7201a8"
             ],
             [
              0.3333333333333333,
              "#9c179e"
             ],
             [
              0.4444444444444444,
              "#bd3786"
             ],
             [
              0.5555555555555556,
              "#d8576b"
             ],
             [
              0.6666666666666666,
              "#ed7953"
             ],
             [
              0.7777777777777778,
              "#fb9f3a"
             ],
             [
              0.8888888888888888,
              "#fdca26"
             ],
             [
              1,
              "#f0f921"
             ]
            ],
            "type": "heatmap"
           }
          ],
          "heatmapgl": [
           {
            "colorbar": {
             "outlinewidth": 0,
             "ticks": ""
            },
            "colorscale": [
             [
              0,
              "#0d0887"
             ],
             [
              0.1111111111111111,
              "#46039f"
             ],
             [
              0.2222222222222222,
              "#7201a8"
             ],
             [
              0.3333333333333333,
              "#9c179e"
             ],
             [
              0.4444444444444444,
              "#bd3786"
             ],
             [
              0.5555555555555556,
              "#d8576b"
             ],
             [
              0.6666666666666666,
              "#ed7953"
             ],
             [
              0.7777777777777778,
              "#fb9f3a"
             ],
             [
              0.8888888888888888,
              "#fdca26"
             ],
             [
              1,
              "#f0f921"
             ]
            ],
            "type": "heatmapgl"
           }
          ],
          "histogram": [
           {
            "marker": {
             "pattern": {
              "fillmode": "overlay",
              "size": 10,
              "solidity": 0.2
             }
            },
            "type": "histogram"
           }
          ],
          "histogram2d": [
           {
            "colorbar": {
             "outlinewidth": 0,
             "ticks": ""
            },
            "colorscale": [
             [
              0,
              "#0d0887"
             ],
             [
              0.1111111111111111,
              "#46039f"
             ],
             [
              0.2222222222222222,
              "#7201a8"
             ],
             [
              0.3333333333333333,
              "#9c179e"
             ],
             [
              0.4444444444444444,
              "#bd3786"
             ],
             [
              0.5555555555555556,
              "#d8576b"
             ],
             [
              0.6666666666666666,
              "#ed7953"
             ],
             [
              0.7777777777777778,
              "#fb9f3a"
             ],
             [
              0.8888888888888888,
              "#fdca26"
             ],
             [
              1,
              "#f0f921"
             ]
            ],
            "type": "histogram2d"
           }
          ],
          "histogram2dcontour": [
           {
            "colorbar": {
             "outlinewidth": 0,
             "ticks": ""
            },
            "colorscale": [
             [
              0,
              "#0d0887"
             ],
             [
              0.1111111111111111,
              "#46039f"
             ],
             [
              0.2222222222222222,
              "#7201a8"
             ],
             [
              0.3333333333333333,
              "#9c179e"
             ],
             [
              0.4444444444444444,
              "#bd3786"
             ],
             [
              0.5555555555555556,
              "#d8576b"
             ],
             [
              0.6666666666666666,
              "#ed7953"
             ],
             [
              0.7777777777777778,
              "#fb9f3a"
             ],
             [
              0.8888888888888888,
              "#fdca26"
             ],
             [
              1,
              "#f0f921"
             ]
            ],
            "type": "histogram2dcontour"
           }
          ],
          "mesh3d": [
           {
            "colorbar": {
             "outlinewidth": 0,
             "ticks": ""
            },
            "type": "mesh3d"
           }
          ],
          "parcoords": [
           {
            "line": {
             "colorbar": {
              "outlinewidth": 0,
              "ticks": ""
             }
            },
            "type": "parcoords"
           }
          ],
          "pie": [
           {
            "automargin": true,
            "type": "pie"
           }
          ],
          "scatter": [
           {
            "fillpattern": {
             "fillmode": "overlay",
             "size": 10,
             "solidity": 0.2
            },
            "type": "scatter"
           }
          ],
          "scatter3d": [
           {
            "line": {
             "colorbar": {
              "outlinewidth": 0,
              "ticks": ""
             }
            },
            "marker": {
             "colorbar": {
              "outlinewidth": 0,
              "ticks": ""
             }
            },
            "type": "scatter3d"
           }
          ],
          "scattercarpet": [
           {
            "marker": {
             "colorbar": {
              "outlinewidth": 0,
              "ticks": ""
             }
            },
            "type": "scattercarpet"
           }
          ],
          "scattergeo": [
           {
            "marker": {
             "colorbar": {
              "outlinewidth": 0,
              "ticks": ""
             }
            },
            "type": "scattergeo"
           }
          ],
          "scattergl": [
           {
            "marker": {
             "colorbar": {
              "outlinewidth": 0,
              "ticks": ""
             }
            },
            "type": "scattergl"
           }
          ],
          "scattermapbox": [
           {
            "marker": {
             "colorbar": {
              "outlinewidth": 0,
              "ticks": ""
             }
            },
            "type": "scattermapbox"
           }
          ],
          "scatterpolar": [
           {
            "marker": {
             "colorbar": {
              "outlinewidth": 0,
              "ticks": ""
             }
            },
            "type": "scatterpolar"
           }
          ],
          "scatterpolargl": [
           {
            "marker": {
             "colorbar": {
              "outlinewidth": 0,
              "ticks": ""
             }
            },
            "type": "scatterpolargl"
           }
          ],
          "scatterternary": [
           {
            "marker": {
             "colorbar": {
              "outlinewidth": 0,
              "ticks": ""
             }
            },
            "type": "scatterternary"
           }
          ],
          "surface": [
           {
            "colorbar": {
             "outlinewidth": 0,
             "ticks": ""
            },
            "colorscale": [
             [
              0,
              "#0d0887"
             ],
             [
              0.1111111111111111,
              "#46039f"
             ],
             [
              0.2222222222222222,
              "#7201a8"
             ],
             [
              0.3333333333333333,
              "#9c179e"
             ],
             [
              0.4444444444444444,
              "#bd3786"
             ],
             [
              0.5555555555555556,
              "#d8576b"
             ],
             [
              0.6666666666666666,
              "#ed7953"
             ],
             [
              0.7777777777777778,
              "#fb9f3a"
             ],
             [
              0.8888888888888888,
              "#fdca26"
             ],
             [
              1,
              "#f0f921"
             ]
            ],
            "type": "surface"
           }
          ],
          "table": [
           {
            "cells": {
             "fill": {
              "color": "#EBF0F8"
             },
             "line": {
              "color": "white"
             }
            },
            "header": {
             "fill": {
              "color": "#C8D4E3"
             },
             "line": {
              "color": "white"
             }
            },
            "type": "table"
           }
          ]
         },
         "layout": {
          "annotationdefaults": {
           "arrowcolor": "#2a3f5f",
           "arrowhead": 0,
           "arrowwidth": 1
          },
          "autotypenumbers": "strict",
          "coloraxis": {
           "colorbar": {
            "outlinewidth": 0,
            "ticks": ""
           }
          },
          "colorscale": {
           "diverging": [
            [
             0,
             "#8e0152"
            ],
            [
             0.1,
             "#c51b7d"
            ],
            [
             0.2,
             "#de77ae"
            ],
            [
             0.3,
             "#f1b6da"
            ],
            [
             0.4,
             "#fde0ef"
            ],
            [
             0.5,
             "#f7f7f7"
            ],
            [
             0.6,
             "#e6f5d0"
            ],
            [
             0.7,
             "#b8e186"
            ],
            [
             0.8,
             "#7fbc41"
            ],
            [
             0.9,
             "#4d9221"
            ],
            [
             1,
             "#276419"
            ]
           ],
           "sequential": [
            [
             0,
             "#0d0887"
            ],
            [
             0.1111111111111111,
             "#46039f"
            ],
            [
             0.2222222222222222,
             "#7201a8"
            ],
            [
             0.3333333333333333,
             "#9c179e"
            ],
            [
             0.4444444444444444,
             "#bd3786"
            ],
            [
             0.5555555555555556,
             "#d8576b"
            ],
            [
             0.6666666666666666,
             "#ed7953"
            ],
            [
             0.7777777777777778,
             "#fb9f3a"
            ],
            [
             0.8888888888888888,
             "#fdca26"
            ],
            [
             1,
             "#f0f921"
            ]
           ],
           "sequentialminus": [
            [
             0,
             "#0d0887"
            ],
            [
             0.1111111111111111,
             "#46039f"
            ],
            [
             0.2222222222222222,
             "#7201a8"
            ],
            [
             0.3333333333333333,
             "#9c179e"
            ],
            [
             0.4444444444444444,
             "#bd3786"
            ],
            [
             0.5555555555555556,
             "#d8576b"
            ],
            [
             0.6666666666666666,
             "#ed7953"
            ],
            [
             0.7777777777777778,
             "#fb9f3a"
            ],
            [
             0.8888888888888888,
             "#fdca26"
            ],
            [
             1,
             "#f0f921"
            ]
           ]
          },
          "colorway": [
           "#636efa",
           "#EF553B",
           "#00cc96",
           "#ab63fa",
           "#FFA15A",
           "#19d3f3",
           "#FF6692",
           "#B6E880",
           "#FF97FF",
           "#FECB52"
          ],
          "font": {
           "color": "#2a3f5f"
          },
          "geo": {
           "bgcolor": "white",
           "lakecolor": "white",
           "landcolor": "#E5ECF6",
           "showlakes": true,
           "showland": true,
           "subunitcolor": "white"
          },
          "hoverlabel": {
           "align": "left"
          },
          "hovermode": "closest",
          "mapbox": {
           "style": "light"
          },
          "paper_bgcolor": "white",
          "plot_bgcolor": "#E5ECF6",
          "polar": {
           "angularaxis": {
            "gridcolor": "white",
            "linecolor": "white",
            "ticks": ""
           },
           "bgcolor": "#E5ECF6",
           "radialaxis": {
            "gridcolor": "white",
            "linecolor": "white",
            "ticks": ""
           }
          },
          "scene": {
           "xaxis": {
            "backgroundcolor": "#E5ECF6",
            "gridcolor": "white",
            "gridwidth": 2,
            "linecolor": "white",
            "showbackground": true,
            "ticks": "",
            "zerolinecolor": "white"
           },
           "yaxis": {
            "backgroundcolor": "#E5ECF6",
            "gridcolor": "white",
            "gridwidth": 2,
            "linecolor": "white",
            "showbackground": true,
            "ticks": "",
            "zerolinecolor": "white"
           },
           "zaxis": {
            "backgroundcolor": "#E5ECF6",
            "gridcolor": "white",
            "gridwidth": 2,
            "linecolor": "white",
            "showbackground": true,
            "ticks": "",
            "zerolinecolor": "white"
           }
          },
          "shapedefaults": {
           "line": {
            "color": "#2a3f5f"
           }
          },
          "ternary": {
           "aaxis": {
            "gridcolor": "white",
            "linecolor": "white",
            "ticks": ""
           },
           "baxis": {
            "gridcolor": "white",
            "linecolor": "white",
            "ticks": ""
           },
           "bgcolor": "#E5ECF6",
           "caxis": {
            "gridcolor": "white",
            "linecolor": "white",
            "ticks": ""
           }
          },
          "title": {
           "x": 0.05
          },
          "xaxis": {
           "automargin": true,
           "gridcolor": "white",
           "linecolor": "white",
           "ticks": "",
           "title": {
            "standoff": 15
           },
           "zerolinecolor": "white",
           "zerolinewidth": 2
          },
          "yaxis": {
           "automargin": true,
           "gridcolor": "white",
           "linecolor": "white",
           "ticks": "",
           "title": {
            "standoff": 15
           },
           "zerolinecolor": "white",
           "zerolinewidth": 2
          }
         }
        },
        "width": 1600,
        "xaxis": {
         "range": [
          1,
          11
         ],
         "tickfont": {
          "color": "black",
          "family": "Times New Roman",
          "size": 44
         },
         "title": {
          "text": "Duration (s)"
         }
        },
        "yaxis": {
         "range": [
          -0.1,
          1.2
         ],
         "tickfont": {
          "color": "black",
          "family": "Times New Roman",
          "size": 44
         },
         "title": {
          "text": "F-beta Score"
         }
        }
       }
      }
     },
     "metadata": {},
     "output_type": "display_data"
    }
   ],
   "source": [
    "import plotly.graph_objects as go\n",
    "import numpy as np\n",
    "\n",
    "# Function to map a value in [1, 65] to a saturation percentage between 30% and 100%\n",
    "def value_to_saturation(val, min_val=1, max_val=65, min_sat=0.5, max_sat=1.0, gamma=2):\n",
    "    \"\"\"\n",
    "    Normalize the value to [0, 1], then apply a gamma transformation\n",
    "    to obtain a non-linear mapping, and finally scale to [min_sat, max_sat].\n",
    "    \"\"\"\n",
    "    norm = (val - min_val) / (max_val - min_val)\n",
    "    sat = min_sat + (norm ** gamma) * (max_sat - min_sat)\n",
    "    return round(sat * 100, 1)  # Return as percentage\n",
    "\n",
    "# For R_PRE (red): use hue=0 and apply the saturation mapping to each third-column value\n",
    "colors_red = [f'hsl(0, {value_to_saturation(val)}%, 50%)' for val in R_PRE[:, 2]]\n",
    "\n",
    "# For R_ONB (blue): use hue=240 and apply the saturation mapping to each third-column value\n",
    "colors_blue = [f'hsl(240, {value_to_saturation(val)}%, 50%)' for val in R_ONB[:, 2]]\n",
    "\n",
    "# Font customization variables\n",
    "font_family = \"Times New Roman\"\n",
    "font_size = 44\n",
    "font_color = \"black\"\n",
    "\n",
    "# Create figure object\n",
    "fig = go.Figure()\n",
    "\n",
    "# Add first dataset R_PRE (red)\n",
    "fig.add_trace(go.Scatter(\n",
    "    x=R_PRE[:, 1],       # x-axis: threshold (first column)\n",
    "    y=R_PRE[:, 2],       # y-axis: duration (second column)\n",
    "    mode='markers',      # markers only\n",
    "    marker=dict(\n",
    "        size=R_PRE[:, 2] * 40,  # marker size scaled from the third column values\n",
    "        color=colors_red        # marker color with saturation based on non-linear mapping\n",
    "    ),\n",
    "    name='R_PRE'\n",
    "))\n",
    "\n",
    "# Add second dataset R_ONB (blue)\n",
    "fig.add_trace(go.Scatter(\n",
    "    x=R_ONB[:, 1],       # x-axis: threshold (first column)\n",
    "    y=R_ONB[:, 2],       # y-axis: duration (second column)\n",
    "    mode='markers',      # markers only\n",
    "    marker=dict(\n",
    "        size=R_ONB[:, 2] * 40,  # marker size scaled from the third column values\n",
    "        color=colors_blue       # marker color with saturation based on non-linear mapping\n",
    "    ),\n",
    "    name='R_ONB'\n",
    "))\n",
    "\n",
    "# Update overall layout: set font, square canvas, axis labels, and hide legend\n",
    "fig.update_layout(\n",
    "    font=dict(\n",
    "        family=font_family,\n",
    "        size=font_size,\n",
    "        color=font_color\n",
    "    ),\n",
    "    width=1600,\n",
    "    height=1600,\n",
    "    showlegend=False,\n",
    "    xaxis_title=\"Duration (s)\",\n",
    "    yaxis_title=\"F-beta Score\"\n",
    ")\n",
    "\n",
    "# Update x-axis range and tick font\n",
    "fig.update_xaxes(\n",
    "    range=[1, 11],\n",
    "    tickfont=dict(family=font_family, size=font_size, color=font_color)\n",
    ")\n",
    "\n",
    "# Update y-axis range and tick font\n",
    "fig.update_yaxes(\n",
    "    range=[-0.1, 1.2],\n",
    "    tickfont=dict(family=font_family, size=font_size, color=font_color)\n",
    ")\n",
    "\n",
    "# save the plot as png\n",
    "# fig.write_image(\"Duration-F_beta.png\")\n",
    "\n",
    "# Show plot\n",
    "fig.show()\n"
   ]
  },
  {
   "cell_type": "code",
   "execution_count": 11,
   "metadata": {},
   "outputs": [
    {
     "data": {
      "application/vnd.plotly.v1+json": {
       "config": {
        "plotlyServerURL": "https://plot.ly"
       },
       "data": [
        {
         "marker": {
          "color": [
           "hsl(0, 50.0%, 50%)",
           "hsl(0, 50.0%, 50%)",
           "hsl(0, 50.0%, 50%)",
           "hsl(0, 50.0%, 50%)",
           "hsl(0, 50.0%, 50%)",
           "hsl(0, 50.0%, 50%)",
           "hsl(0, 50.0%, 50%)",
           "hsl(0, 50.0%, 50%)",
           "hsl(0, 50.0%, 50%)",
           "hsl(0, 50.0%, 50%)",
           "hsl(0, 50.0%, 50%)",
           "hsl(0, 50.0%, 50%)",
           "hsl(0, 50.0%, 50%)",
           "hsl(0, 50.0%, 50%)",
           "hsl(0, 50.0%, 50%)",
           "hsl(0, 50.0%, 50%)",
           "hsl(0, 50.0%, 50%)",
           "hsl(0, 50.0%, 50%)",
           "hsl(0, 50.0%, 50%)",
           "hsl(0, 50.0%, 50%)",
           "hsl(0, 50.0%, 50%)",
           "hsl(0, 50.0%, 50%)",
           "hsl(0, 50.0%, 50%)",
           "hsl(0, 50.0%, 50%)",
           "hsl(0, 50.0%, 50%)",
           "hsl(0, 50.0%, 50%)",
           "hsl(0, 50.0%, 50%)",
           "hsl(0, 50.0%, 50%)",
           "hsl(0, 50.0%, 50%)",
           "hsl(0, 50.0%, 50%)",
           "hsl(0, 50.0%, 50%)",
           "hsl(0, 50.0%, 50%)",
           "hsl(0, 50.0%, 50%)",
           "hsl(0, 50.0%, 50%)",
           "hsl(0, 50.0%, 50%)",
           "hsl(0, 50.0%, 50%)",
           "hsl(0, 50.0%, 50%)",
           "hsl(0, 50.0%, 50%)",
           "hsl(0, 50.0%, 50%)",
           "hsl(0, 50.0%, 50%)",
           "hsl(0, 50.0%, 50%)",
           "hsl(0, 50.0%, 50%)",
           "hsl(0, 50.0%, 50%)",
           "hsl(0, 50.0%, 50%)",
           "hsl(0, 50.0%, 50%)",
           "hsl(0, 50.0%, 50%)",
           "hsl(0, 50.0%, 50%)",
           "hsl(0, 50.0%, 50%)",
           "hsl(0, 50.0%, 50%)",
           "hsl(0, 50.0%, 50%)",
           "hsl(0, 50.0%, 50%)",
           "hsl(0, 50.0%, 50%)",
           "hsl(0, 50.0%, 50%)",
           "hsl(0, 50.0%, 50%)",
           "hsl(0, 50.0%, 50%)",
           "hsl(0, 50.0%, 50%)",
           "hsl(0, 50.0%, 50%)",
           "hsl(0, 50.0%, 50%)",
           "hsl(0, 50.0%, 50%)",
           "hsl(0, 50.0%, 50%)",
           "hsl(0, 50.0%, 50%)",
           "hsl(0, 50.0%, 50%)",
           "hsl(0, 50.0%, 50%)",
           "hsl(0, 50.0%, 50%)",
           "hsl(0, 50.0%, 50%)"
          ],
          "size": [
           41.53588195841717,
           36.36363636363636,
           41.05386809867427,
           36.241610738255034,
           36.36914684043037,
           37.42875237492083,
           36.22503430400976,
           36.486279319331594,
           30.326886873181586,
           34.146341463414636,
           42.26945606694561,
           38.480513073507645,
           42.763636363636365,
           35.81183611532625,
           42.68,
           43.17858912935735,
           36.38017280582083,
           41.40915953699044,
           36.49679584986268,
           42.751252086811355,
           43.20773591197066,
           41.79963204549256,
           36.474349216014616,
           36.36363636363636,
           27.906976744186046,
           38.45152895250488,
           38.42173350582148,
           35.81183611532625,
           36.46324760310455,
           31.5879242708511,
           28.163195042175936,
           43.170365426330726,
           37.21657544956998,
           36.36363636363636,
           36.36363636363636,
           36.457699330493,
           36.38017280582083,
           43.224734042553195,
           38.027942829612975,
           36.39120545868082,
           36.36363636363636,
           40.51756007393716,
           33.89256058295204,
           43.170365426330726,
           36.36363636363636,
           36.36363636363636,
           36.36363636363636,
           36.36363636363636,
           34.20829805249789,
           42.47615860799733,
           36.36363636363636,
           40.18163471241171,
           36.36363636363636,
           42.34309623430963,
           36.36363636363636,
           43.20773591197066,
           36.468797564687975,
           36.36363636363636,
           41.743211532014755,
           36.36363636363636,
           43.06820076705019,
           36.374714394516374,
           36.474164133738604,
           38.44274311777162,
           43.002001334222825
          ]
         },
         "mode": "markers",
         "name": "R_PRE",
         "type": "scatter",
         "x": [
          0.013923535641584465,
          0.0026146408317982025,
          0.011643475214904383,
          0.005005432033846695,
          0.0039153469204843885,
          0.007245180918271568,
          0.005027282759616603,
          0.006542010934350525,
          0.013517159802857382,
          0.014215911493829144,
          0.014793471864158891,
          0.00785881010401822,
          0.009039485070106856,
          0.01605782281740864,
          0.010120721845234892,
          0.011719451780694709,
          0.00248256543479497,
          0.016109626830173186,
          0.008156070921543487,
          0.01201013528743781,
          0.013389082238372195,
          0.01009335846919932,
          0.0032467103415035744,
          0.00032590821678964545,
          0.016619587135295637,
          0.0086275921493037,
          0.010640819864370344,
          0.01592725393000278,
          0.003108148269096591,
          0.015078681023016072,
          0.016075167653846978,
          0.013780462530580623,
          0.009519477574444334,
          0.000619871436045254,
          0.0029051431389135493,
          0.004316575194453414,
          0.0025706663549380972,
          0.012412515033221048,
          0.008801991642561095,
          0.005610467072248814,
          0.003136528223350605,
          0.012213494745159875,
          0.012370507034514859,
          0.01372025248568662,
          0.0010362450915465881,
          0.003821724714716561,
          0.002812494231551567,
          0.0007779668672428159,
          0.015741945124733838,
          0.01640084036303291,
          0.0031259605916464546,
          0.011420996402516061,
          0.0015692869453695572,
          0.016499984219656785,
          0.0013319993600479597,
          0.013434679814115849,
          0.006911113985965642,
          0.0007892782200614162,
          0.015587648112994854,
          0.0008758388039498983,
          0.0124851191684747,
          0.006099123745457028,
          0.006361633826713498,
          0.008171190187500805,
          0.012637453215235808
         ],
         "y": [
          4.8321011980118715,
          5.09359573065937,
          6.040586149844081,
          7.123012642117984,
          4.575489087361093,
          6.6187428458377315,
          6.107518058322045,
          5.230185236574166,
          9.683199162824087,
          6.736172164155384,
          3.605746069767968,
          8.97712425660999,
          6.376047828341818,
          4.809321008901322,
          6.7250069488223225,
          2.4252532226349404,
          8.11166106856976,
          3.131707789523354,
          2.064152590814718,
          4.055596659885152,
          2.790454050091408,
          7.580485384897242,
          8.303584427586394,
          3.4505014589852836,
          9.995617104219594,
          5.712276086780518,
          2.62713101574525,
          4.109261674047476,
          8.675088265083414,
          7.734720433247876,
          9.266133213814019,
          2.0329520819698867,
          2.992338520511921,
          2.3671642843491165,
          3.7543333503386043,
          5.607291994932785,
          7.33943454099101,
          2.015557557257843,
          4.371116330540877,
          2.005051387461844,
          3.243251805626832,
          6.224866777603471,
          8.602833774453934,
          2.630856999893795,
          2.4821973755033904,
          3.794611642682413,
          6.41506658025062,
          7.073647081483084,
          5.860080952114699,
          2.8611842912032577,
          4.376531847880266,
          7.977840074896267,
          5.377664144894675,
          2.000560265001064,
          2.9583956622781162,
          2.2642735928731197,
          2.3781228356106894,
          7.606405672760627,
          3.3994221931546598,
          8.36749586394299,
          3.848282872083818,
          4.058773347594962,
          2.0005602697077727,
          6.355507428473871,
          3.425562745999092
         ]
        },
        {
         "marker": {
          "color": "rgba(255, 0, 0, 0)",
          "line": {
           "color": "red",
           "width": 4
          },
          "size": 54.03091755319149
         },
         "mode": "markers",
         "name": "Max R_PRE",
         "type": "scatter",
         "x": [
          0.012412515033221048
         ],
         "y": [
          2.015557557257843
         ]
        },
        {
         "line": {
          "color": "red",
          "dash": "dash",
          "width": 2
         },
         "mode": "lines",
         "showlegend": false,
         "type": "scatter",
         "x": [
          0.012412515033221048,
          0.012412515033221048
         ],
         "y": [
          1,
          2.015557557257843
         ]
        },
        {
         "line": {
          "color": "red",
          "dash": "dash",
          "width": 2
         },
         "mode": "lines",
         "showlegend": false,
         "type": "scatter",
         "x": [
          -0.002,
          0.012412515033221048
         ],
         "y": [
          2.015557557257843,
          2.015557557257843
         ]
        },
        {
         "marker": {
          "color": [
           "hsl(240, 50.0%, 50%)",
           "hsl(240, 50.0%, 50%)",
           "hsl(240, 50.0%, 50%)",
           "hsl(240, 50.0%, 50%)",
           "hsl(240, 50.0%, 50%)",
           "hsl(240, 50.0%, 50%)",
           "hsl(240, 50.0%, 50%)",
           "hsl(240, 50.0%, 50%)",
           "hsl(240, 50.0%, 50%)",
           "hsl(240, 50.0%, 50%)",
           "hsl(240, 50.0%, 50%)",
           "hsl(240, 50.0%, 50%)",
           "hsl(240, 50.0%, 50%)",
           "hsl(240, 50.0%, 50%)",
           "hsl(240, 50.0%, 50%)",
           "hsl(240, 50.0%, 50%)",
           "hsl(240, 50.0%, 50%)",
           "hsl(240, 50.0%, 50%)",
           "hsl(240, 50.0%, 50%)",
           "hsl(240, 50.0%, 50%)"
          ],
          "size": [
           40.93482565463599,
           41.10863833104639,
           37.62647775072287,
           41.022568778839045,
           41.06261130595285,
           36.963898120989384,
           40.56975359681536,
           32.621541736604335,
           37.626084434937816,
           37.83604006530558,
           41.34207353834895,
           37.62007031420892,
           41.111534581937086,
           37.690069485915984,
           40.60503829588298,
           35.9536528368058,
           40.960072202188165,
           37.578205292437254,
           35.84704523702802,
           37.71304546141593
          ]
         },
         "mode": "markers",
         "name": "R_ONB",
         "type": "scatter",
         "x": [
          0.014222310196138586,
          0.013883494518965664,
          0.010248041919413328,
          0.01497529636343339,
          0.014515503028541194,
          0.00760179153809369,
          0.014413730018515874,
          0.004634354368245535,
          0.009923399687761878,
          0.010751548497234113,
          0.012099814987986561,
          0.010222527938828479,
          0.014578660083730833,
          0.009337771437114574,
          0.014036410216319422,
          0.0056840036644070936,
          0.0146367065301583,
          0.011657725194978536,
          0.013961813596054917,
          0.01181644919825968
         ],
         "y": [
          2.7258960092489266,
          2.483967788360471,
          2.7307013258547084,
          2.3010469175765733,
          2.4026727235866048,
          2.263614245404317,
          3.578116227878919,
          3.3895535862242623,
          2.6799531806853043,
          2.2508598727172755,
          2.507746520829172,
          2.7579690158074825,
          2.263474783399264,
          2.284176835058041,
          3.656135308543412,
          3.700766157976763,
          2.5874721400634764,
          2.5299691395591104,
          6.372083892230138,
          2.212400186759214
         ]
        },
        {
         "marker": {
          "color": "rgba(0, 0, 255, 0)",
          "line": {
           "color": "blue",
           "width": 4
          },
          "size": 51.67759192293618
         },
         "mode": "markers",
         "name": "Max R_ONB",
         "type": "scatter",
         "x": [
          0.012099814987986561
         ],
         "y": [
          2.507746520829172
         ]
        },
        {
         "line": {
          "color": "blue",
          "dash": "dash",
          "width": 2
         },
         "mode": "lines",
         "showlegend": false,
         "type": "scatter",
         "x": [
          0.012099814987986561,
          0.012099814987986561
         ],
         "y": [
          1,
          2.507746520829172
         ]
        },
        {
         "line": {
          "color": "blue",
          "dash": "dash",
          "width": 2
         },
         "mode": "lines",
         "showlegend": false,
         "type": "scatter",
         "x": [
          -0.002,
          0.012099814987986561
         ],
         "y": [
          2.507746520829172,
          2.507746520829172
         ]
        },
        {
         "marker": {
          "color": "rgba(0, 0, 0, 0)",
          "line": {
           "color": "black",
           "width": 4
          },
          "size": 50
         },
         "mode": "markers",
         "name": "Custom Point",
         "type": "scatter",
         "x": [
          0.00648
         ],
         "y": [
          2
         ]
        },
        {
         "line": {
          "color": "black",
          "dash": "dash",
          "width": 2
         },
         "mode": "lines",
         "showlegend": false,
         "type": "scatter",
         "x": [
          0.00648,
          0.00648
         ],
         "y": [
          1,
          2
         ]
        },
        {
         "line": {
          "color": "black",
          "dash": "dash",
          "width": 2
         },
         "mode": "lines",
         "showlegend": false,
         "type": "scatter",
         "x": [
          -0.002,
          0.00648
         ],
         "y": [
          2,
          2
         ]
        }
       ],
       "layout": {
        "font": {
         "color": "black",
         "family": "Times New Roman",
         "size": 44
        },
        "height": 1600,
        "showlegend": false,
        "template": {
         "data": {
          "bar": [
           {
            "error_x": {
             "color": "#2a3f5f"
            },
            "error_y": {
             "color": "#2a3f5f"
            },
            "marker": {
             "line": {
              "color": "#E5ECF6",
              "width": 0.5
             },
             "pattern": {
              "fillmode": "overlay",
              "size": 10,
              "solidity": 0.2
             }
            },
            "type": "bar"
           }
          ],
          "barpolar": [
           {
            "marker": {
             "line": {
              "color": "#E5ECF6",
              "width": 0.5
             },
             "pattern": {
              "fillmode": "overlay",
              "size": 10,
              "solidity": 0.2
             }
            },
            "type": "barpolar"
           }
          ],
          "carpet": [
           {
            "aaxis": {
             "endlinecolor": "#2a3f5f",
             "gridcolor": "white",
             "linecolor": "white",
             "minorgridcolor": "white",
             "startlinecolor": "#2a3f5f"
            },
            "baxis": {
             "endlinecolor": "#2a3f5f",
             "gridcolor": "white",
             "linecolor": "white",
             "minorgridcolor": "white",
             "startlinecolor": "#2a3f5f"
            },
            "type": "carpet"
           }
          ],
          "choropleth": [
           {
            "colorbar": {
             "outlinewidth": 0,
             "ticks": ""
            },
            "type": "choropleth"
           }
          ],
          "contour": [
           {
            "colorbar": {
             "outlinewidth": 0,
             "ticks": ""
            },
            "colorscale": [
             [
              0,
              "#0d0887"
             ],
             [
              0.1111111111111111,
              "#46039f"
             ],
             [
              0.2222222222222222,
              "#7201a8"
             ],
             [
              0.3333333333333333,
              "#9c179e"
             ],
             [
              0.4444444444444444,
              "#bd3786"
             ],
             [
              0.5555555555555556,
              "#d8576b"
             ],
             [
              0.6666666666666666,
              "#ed7953"
             ],
             [
              0.7777777777777778,
              "#fb9f3a"
             ],
             [
              0.8888888888888888,
              "#fdca26"
             ],
             [
              1,
              "#f0f921"
             ]
            ],
            "type": "contour"
           }
          ],
          "contourcarpet": [
           {
            "colorbar": {
             "outlinewidth": 0,
             "ticks": ""
            },
            "type": "contourcarpet"
           }
          ],
          "heatmap": [
           {
            "colorbar": {
             "outlinewidth": 0,
             "ticks": ""
            },
            "colorscale": [
             [
              0,
              "#0d0887"
             ],
             [
              0.1111111111111111,
              "#46039f"
             ],
             [
              0.2222222222222222,
              "#7201a8"
             ],
             [
              0.3333333333333333,
              "#9c179e"
             ],
             [
              0.4444444444444444,
              "#bd3786"
             ],
             [
              0.5555555555555556,
              "#d8576b"
             ],
             [
              0.6666666666666666,
              "#ed7953"
             ],
             [
              0.7777777777777778,
              "#fb9f3a"
             ],
             [
              0.8888888888888888,
              "#fdca26"
             ],
             [
              1,
              "#f0f921"
             ]
            ],
            "type": "heatmap"
           }
          ],
          "heatmapgl": [
           {
            "colorbar": {
             "outlinewidth": 0,
             "ticks": ""
            },
            "colorscale": [
             [
              0,
              "#0d0887"
             ],
             [
              0.1111111111111111,
              "#46039f"
             ],
             [
              0.2222222222222222,
              "#7201a8"
             ],
             [
              0.3333333333333333,
              "#9c179e"
             ],
             [
              0.4444444444444444,
              "#bd3786"
             ],
             [
              0.5555555555555556,
              "#d8576b"
             ],
             [
              0.6666666666666666,
              "#ed7953"
             ],
             [
              0.7777777777777778,
              "#fb9f3a"
             ],
             [
              0.8888888888888888,
              "#fdca26"
             ],
             [
              1,
              "#f0f921"
             ]
            ],
            "type": "heatmapgl"
           }
          ],
          "histogram": [
           {
            "marker": {
             "pattern": {
              "fillmode": "overlay",
              "size": 10,
              "solidity": 0.2
             }
            },
            "type": "histogram"
           }
          ],
          "histogram2d": [
           {
            "colorbar": {
             "outlinewidth": 0,
             "ticks": ""
            },
            "colorscale": [
             [
              0,
              "#0d0887"
             ],
             [
              0.1111111111111111,
              "#46039f"
             ],
             [
              0.2222222222222222,
              "#7201a8"
             ],
             [
              0.3333333333333333,
              "#9c179e"
             ],
             [
              0.4444444444444444,
              "#bd3786"
             ],
             [
              0.5555555555555556,
              "#d8576b"
             ],
             [
              0.6666666666666666,
              "#ed7953"
             ],
             [
              0.7777777777777778,
              "#fb9f3a"
             ],
             [
              0.8888888888888888,
              "#fdca26"
             ],
             [
              1,
              "#f0f921"
             ]
            ],
            "type": "histogram2d"
           }
          ],
          "histogram2dcontour": [
           {
            "colorbar": {
             "outlinewidth": 0,
             "ticks": ""
            },
            "colorscale": [
             [
              0,
              "#0d0887"
             ],
             [
              0.1111111111111111,
              "#46039f"
             ],
             [
              0.2222222222222222,
              "#7201a8"
             ],
             [
              0.3333333333333333,
              "#9c179e"
             ],
             [
              0.4444444444444444,
              "#bd3786"
             ],
             [
              0.5555555555555556,
              "#d8576b"
             ],
             [
              0.6666666666666666,
              "#ed7953"
             ],
             [
              0.7777777777777778,
              "#fb9f3a"
             ],
             [
              0.8888888888888888,
              "#fdca26"
             ],
             [
              1,
              "#f0f921"
             ]
            ],
            "type": "histogram2dcontour"
           }
          ],
          "mesh3d": [
           {
            "colorbar": {
             "outlinewidth": 0,
             "ticks": ""
            },
            "type": "mesh3d"
           }
          ],
          "parcoords": [
           {
            "line": {
             "colorbar": {
              "outlinewidth": 0,
              "ticks": ""
             }
            },
            "type": "parcoords"
           }
          ],
          "pie": [
           {
            "automargin": true,
            "type": "pie"
           }
          ],
          "scatter": [
           {
            "fillpattern": {
             "fillmode": "overlay",
             "size": 10,
             "solidity": 0.2
            },
            "type": "scatter"
           }
          ],
          "scatter3d": [
           {
            "line": {
             "colorbar": {
              "outlinewidth": 0,
              "ticks": ""
             }
            },
            "marker": {
             "colorbar": {
              "outlinewidth": 0,
              "ticks": ""
             }
            },
            "type": "scatter3d"
           }
          ],
          "scattercarpet": [
           {
            "marker": {
             "colorbar": {
              "outlinewidth": 0,
              "ticks": ""
             }
            },
            "type": "scattercarpet"
           }
          ],
          "scattergeo": [
           {
            "marker": {
             "colorbar": {
              "outlinewidth": 0,
              "ticks": ""
             }
            },
            "type": "scattergeo"
           }
          ],
          "scattergl": [
           {
            "marker": {
             "colorbar": {
              "outlinewidth": 0,
              "ticks": ""
             }
            },
            "type": "scattergl"
           }
          ],
          "scattermapbox": [
           {
            "marker": {
             "colorbar": {
              "outlinewidth": 0,
              "ticks": ""
             }
            },
            "type": "scattermapbox"
           }
          ],
          "scatterpolar": [
           {
            "marker": {
             "colorbar": {
              "outlinewidth": 0,
              "ticks": ""
             }
            },
            "type": "scatterpolar"
           }
          ],
          "scatterpolargl": [
           {
            "marker": {
             "colorbar": {
              "outlinewidth": 0,
              "ticks": ""
             }
            },
            "type": "scatterpolargl"
           }
          ],
          "scatterternary": [
           {
            "marker": {
             "colorbar": {
              "outlinewidth": 0,
              "ticks": ""
             }
            },
            "type": "scatterternary"
           }
          ],
          "surface": [
           {
            "colorbar": {
             "outlinewidth": 0,
             "ticks": ""
            },
            "colorscale": [
             [
              0,
              "#0d0887"
             ],
             [
              0.1111111111111111,
              "#46039f"
             ],
             [
              0.2222222222222222,
              "#7201a8"
             ],
             [
              0.3333333333333333,
              "#9c179e"
             ],
             [
              0.4444444444444444,
              "#bd3786"
             ],
             [
              0.5555555555555556,
              "#d8576b"
             ],
             [
              0.6666666666666666,
              "#ed7953"
             ],
             [
              0.7777777777777778,
              "#fb9f3a"
             ],
             [
              0.8888888888888888,
              "#fdca26"
             ],
             [
              1,
              "#f0f921"
             ]
            ],
            "type": "surface"
           }
          ],
          "table": [
           {
            "cells": {
             "fill": {
              "color": "#EBF0F8"
             },
             "line": {
              "color": "white"
             }
            },
            "header": {
             "fill": {
              "color": "#C8D4E3"
             },
             "line": {
              "color": "white"
             }
            },
            "type": "table"
           }
          ]
         },
         "layout": {
          "annotationdefaults": {
           "arrowcolor": "#2a3f5f",
           "arrowhead": 0,
           "arrowwidth": 1
          },
          "autotypenumbers": "strict",
          "coloraxis": {
           "colorbar": {
            "outlinewidth": 0,
            "ticks": ""
           }
          },
          "colorscale": {
           "diverging": [
            [
             0,
             "#8e0152"
            ],
            [
             0.1,
             "#c51b7d"
            ],
            [
             0.2,
             "#de77ae"
            ],
            [
             0.3,
             "#f1b6da"
            ],
            [
             0.4,
             "#fde0ef"
            ],
            [
             0.5,
             "#f7f7f7"
            ],
            [
             0.6,
             "#e6f5d0"
            ],
            [
             0.7,
             "#b8e186"
            ],
            [
             0.8,
             "#7fbc41"
            ],
            [
             0.9,
             "#4d9221"
            ],
            [
             1,
             "#276419"
            ]
           ],
           "sequential": [
            [
             0,
             "#0d0887"
            ],
            [
             0.1111111111111111,
             "#46039f"
            ],
            [
             0.2222222222222222,
             "#7201a8"
            ],
            [
             0.3333333333333333,
             "#9c179e"
            ],
            [
             0.4444444444444444,
             "#bd3786"
            ],
            [
             0.5555555555555556,
             "#d8576b"
            ],
            [
             0.6666666666666666,
             "#ed7953"
            ],
            [
             0.7777777777777778,
             "#fb9f3a"
            ],
            [
             0.8888888888888888,
             "#fdca26"
            ],
            [
             1,
             "#f0f921"
            ]
           ],
           "sequentialminus": [
            [
             0,
             "#0d0887"
            ],
            [
             0.1111111111111111,
             "#46039f"
            ],
            [
             0.2222222222222222,
             "#7201a8"
            ],
            [
             0.3333333333333333,
             "#9c179e"
            ],
            [
             0.4444444444444444,
             "#bd3786"
            ],
            [
             0.5555555555555556,
             "#d8576b"
            ],
            [
             0.6666666666666666,
             "#ed7953"
            ],
            [
             0.7777777777777778,
             "#fb9f3a"
            ],
            [
             0.8888888888888888,
             "#fdca26"
            ],
            [
             1,
             "#f0f921"
            ]
           ]
          },
          "colorway": [
           "#636efa",
           "#EF553B",
           "#00cc96",
           "#ab63fa",
           "#FFA15A",
           "#19d3f3",
           "#FF6692",
           "#B6E880",
           "#FF97FF",
           "#FECB52"
          ],
          "font": {
           "color": "#2a3f5f"
          },
          "geo": {
           "bgcolor": "white",
           "lakecolor": "white",
           "landcolor": "#E5ECF6",
           "showlakes": true,
           "showland": true,
           "subunitcolor": "white"
          },
          "hoverlabel": {
           "align": "left"
          },
          "hovermode": "closest",
          "mapbox": {
           "style": "light"
          },
          "paper_bgcolor": "white",
          "plot_bgcolor": "#E5ECF6",
          "polar": {
           "angularaxis": {
            "gridcolor": "white",
            "linecolor": "white",
            "ticks": ""
           },
           "bgcolor": "#E5ECF6",
           "radialaxis": {
            "gridcolor": "white",
            "linecolor": "white",
            "ticks": ""
           }
          },
          "scene": {
           "xaxis": {
            "backgroundcolor": "#E5ECF6",
            "gridcolor": "white",
            "gridwidth": 2,
            "linecolor": "white",
            "showbackground": true,
            "ticks": "",
            "zerolinecolor": "white"
           },
           "yaxis": {
            "backgroundcolor": "#E5ECF6",
            "gridcolor": "white",
            "gridwidth": 2,
            "linecolor": "white",
            "showbackground": true,
            "ticks": "",
            "zerolinecolor": "white"
           },
           "zaxis": {
            "backgroundcolor": "#E5ECF6",
            "gridcolor": "white",
            "gridwidth": 2,
            "linecolor": "white",
            "showbackground": true,
            "ticks": "",
            "zerolinecolor": "white"
           }
          },
          "shapedefaults": {
           "line": {
            "color": "#2a3f5f"
           }
          },
          "ternary": {
           "aaxis": {
            "gridcolor": "white",
            "linecolor": "white",
            "ticks": ""
           },
           "baxis": {
            "gridcolor": "white",
            "linecolor": "white",
            "ticks": ""
           },
           "bgcolor": "#E5ECF6",
           "caxis": {
            "gridcolor": "white",
            "linecolor": "white",
            "ticks": ""
           }
          },
          "title": {
           "x": 0.05
          },
          "xaxis": {
           "automargin": true,
           "gridcolor": "white",
           "linecolor": "white",
           "ticks": "",
           "title": {
            "standoff": 15
           },
           "zerolinecolor": "white",
           "zerolinewidth": 2
          },
          "yaxis": {
           "automargin": true,
           "gridcolor": "white",
           "linecolor": "white",
           "ticks": "",
           "title": {
            "standoff": 15
           },
           "zerolinecolor": "white",
           "zerolinewidth": 2
          }
         }
        },
        "width": 1600,
        "xaxis": {
         "dtick": 0.002,
         "range": [
          -0.002,
          0.018
         ],
         "tick0": -0.002,
         "tickfont": {
          "color": "black",
          "family": "Times New Roman",
          "size": 44
         },
         "title": {
          "text": "Threshold (g)"
         }
        },
        "yaxis": {
         "dtick": 1,
         "range": [
          1,
          11
         ],
         "tick0": 1,
         "tickfont": {
          "color": "black",
          "family": "Times New Roman",
          "size": 44
         },
         "title": {
          "text": "Duration (s)"
         }
        }
       }
      }
     },
     "metadata": {},
     "output_type": "display_data"
    }
   ],
   "source": [
    "import plotly.graph_objects as go\n",
    "import numpy as np\n",
    "\n",
    "# Function to map a value in [1, 65] to a saturation percentage between 30% and 100%\n",
    "def value_to_saturation(val, min_val=1, max_val=65, min_sat=0.5, max_sat=1.0, gamma=2):\n",
    "    norm = (val - min_val) / (max_val - min_val)\n",
    "    sat = min_sat + (norm ** gamma) * (max_sat - min_sat)\n",
    "    return round(sat * 100, 1)\n",
    "\n",
    "# For R_PRE (red)\n",
    "colors_red = [f'hsl(0, {value_to_saturation(val)}%, 50%)' for val in R_PRE[:, 2]]\n",
    "max_idx_pre = np.argmax(R_PRE[:, 2])\n",
    "\n",
    "# For R_ONB (blue)\n",
    "colors_blue = [f'hsl(240, {value_to_saturation(val)}%, 50%)' for val in R_ONB[:, 2]]\n",
    "max_idx_onb = np.argmax(R_ONB[:, 2])\n",
    "\n",
    "# Font customization variables\n",
    "font_family = \"Times New Roman\"\n",
    "font_size = 44\n",
    "font_color = \"black\"\n",
    "\n",
    "# Create figure object\n",
    "fig = go.Figure()\n",
    "\n",
    "# Add first dataset R_PRE (red)\n",
    "fig.add_trace(go.Scatter(\n",
    "    x=R_PRE[:, 0],\n",
    "    y=R_PRE[:, 1],\n",
    "    mode='markers',\n",
    "    marker=dict(\n",
    "        size=R_PRE[:, 2] * 40,\n",
    "        color=colors_red\n",
    "    ),\n",
    "    name='R_PRE'\n",
    "))\n",
    "\n",
    "# Highlight maximum value in R_PRE with a red hollow circle\n",
    "fig.add_trace(go.Scatter(\n",
    "    x=[R_PRE[max_idx_pre, 0]],\n",
    "    y=[R_PRE[max_idx_pre, 1]],\n",
    "    mode='markers',\n",
    "    marker=dict(\n",
    "        size=R_PRE[max_idx_pre, 2] * 50,\n",
    "        color='rgba(255, 0, 0, 0)',\n",
    "        line=dict(color='red', width=4)\n",
    "    ),\n",
    "    name='Max R_PRE'\n",
    "))\n",
    "\n",
    "# Vertical and horizontal lines for R_PRE max\n",
    "fig.add_trace(go.Scatter(\n",
    "    x=[R_PRE[max_idx_pre, 0], R_PRE[max_idx_pre, 0]],\n",
    "    y=[1, R_PRE[max_idx_pre, 1]],\n",
    "    mode='lines',\n",
    "    line=dict(color='red', width=2, dash='dash'),\n",
    "    showlegend=False\n",
    "))\n",
    "fig.add_trace(go.Scatter(\n",
    "    x=[-0.002, R_PRE[max_idx_pre, 0]],\n",
    "    y=[R_PRE[max_idx_pre, 1], R_PRE[max_idx_pre, 1]],\n",
    "    mode='lines',\n",
    "    line=dict(color='red', width=2, dash='dash'),\n",
    "    showlegend=False\n",
    "))\n",
    "\n",
    "# Add second dataset R_ONB (blue)\n",
    "fig.add_trace(go.Scatter(\n",
    "    x=R_ONB[:, 0],\n",
    "    y=R_ONB[:, 1],\n",
    "    mode='markers',\n",
    "    marker=dict(\n",
    "        size=R_ONB[:, 2] * 40,\n",
    "        color=colors_blue\n",
    "    ),\n",
    "    name='R_ONB'\n",
    "))\n",
    "\n",
    "# Highlight maximum value in R_ONB with a blue hollow circle\n",
    "fig.add_trace(go.Scatter(\n",
    "    x=[R_ONB[max_idx_onb, 0]],\n",
    "    y=[R_ONB[max_idx_onb, 1]],\n",
    "    mode='markers',\n",
    "    marker=dict(\n",
    "        size=R_ONB[max_idx_onb, 2] * 50,\n",
    "        color='rgba(0, 0, 255, 0)',\n",
    "        line=dict(color='blue', width=4)\n",
    "    ),\n",
    "    name='Max R_ONB'\n",
    "))\n",
    "\n",
    "# Vertical and horizontal lines for R_ONB max\n",
    "fig.add_trace(go.Scatter(\n",
    "    x=[R_ONB[max_idx_onb, 0], R_ONB[max_idx_onb, 0]],\n",
    "    y=[1, R_ONB[max_idx_onb, 1]],\n",
    "    mode='lines',\n",
    "    line=dict(color='blue', width=2, dash='dash'),\n",
    "    showlegend=False\n",
    "))\n",
    "fig.add_trace(go.Scatter(\n",
    "    x=[-0.002, R_ONB[max_idx_onb, 0]],\n",
    "    y=[R_ONB[max_idx_onb, 1], R_ONB[max_idx_onb, 1]],\n",
    "    mode='lines',\n",
    "    line=dict(color='blue', width=2, dash='dash'),\n",
    "    showlegend=False\n",
    "))\n",
    "\n",
    "# Add black hollow circle at (0.00648, 5) with vertical and horizontal lines\n",
    "fig.add_trace(go.Scatter(\n",
    "    x=[0.00648],\n",
    "    y=[2],\n",
    "    mode='markers',\n",
    "    marker=dict(\n",
    "        size=50,\n",
    "        color='rgba(0, 0, 0, 0)',\n",
    "        line=dict(color='black', width=4)\n",
    "    ),\n",
    "    name='Custom Point'\n",
    "))\n",
    "\n",
    "fig.add_trace(go.Scatter(\n",
    "    x=[0.00648, 0.00648],\n",
    "    y=[1, 2],\n",
    "    mode='lines',\n",
    "    line=dict(color='black', width=2, dash='dash'),\n",
    "    showlegend=False\n",
    "))\n",
    "\n",
    "fig.add_trace(go.Scatter(\n",
    "    x=[-0.002, 0.00648],\n",
    "    y=[2, 2],\n",
    "    mode='lines',\n",
    "    line=dict(color='black', width=2, dash='dash'),\n",
    "    showlegend=False\n",
    "))\n",
    "\n",
    "# Update overall layout\n",
    "fig.update_layout(\n",
    "    font=dict(\n",
    "        family=font_family,\n",
    "        size=font_size,\n",
    "        color=font_color\n",
    "    ),\n",
    "    width=1600,\n",
    "    height=1600,\n",
    "    showlegend=False,\n",
    "    xaxis_title=\"Threshold (g)\",\n",
    "    yaxis_title=\"Duration (s)\"\n",
    ")\n",
    "\n",
    "fig.update_xaxes(\n",
    "    range=[-0.002, 0.018],\n",
    "    tick0=-0.002,       # Starting tick value on x-axis\n",
    "    dtick=0.002,        # Interval between ticks on x-axis\n",
    "    tickfont=dict(family=font_family, size=font_size, color=font_color)\n",
    ")\n",
    "\n",
    "fig.update_yaxes(\n",
    "    range=[1, 11],\n",
    "    tick0=1,            # Starting tick value on y-axis\n",
    "    dtick=1,            # Interval between ticks on y-axis\n",
    "    tickfont=dict(family=font_family, size=font_size, color=font_color)\n",
    ")\n",
    "\n",
    "\n",
    "fig.show()\n"
   ]
  },
  {
   "cell_type": "code",
   "execution_count": 12,
   "metadata": {},
   "outputs": [
    {
     "data": {
      "application/vnd.plotly.v1+json": {
       "config": {
        "plotlyServerURL": "https://plot.ly"
       },
       "data": [
        {
         "marker": {
          "color": [
           "hsl(0, 50.0%, 50%)",
           "hsl(0, 50.0%, 50%)",
           "hsl(0, 50.0%, 50%)",
           "hsl(0, 50.0%, 50%)",
           "hsl(0, 50.0%, 50%)",
           "hsl(0, 50.0%, 50%)",
           "hsl(0, 50.0%, 50%)",
           "hsl(0, 50.0%, 50%)",
           "hsl(0, 50.0%, 50%)",
           "hsl(0, 50.0%, 50%)",
           "hsl(0, 50.0%, 50%)",
           "hsl(0, 50.0%, 50%)",
           "hsl(0, 50.0%, 50%)",
           "hsl(0, 50.0%, 50%)",
           "hsl(0, 50.0%, 50%)",
           "hsl(0, 50.0%, 50%)",
           "hsl(0, 50.0%, 50%)",
           "hsl(0, 50.0%, 50%)",
           "hsl(0, 50.0%, 50%)",
           "hsl(0, 50.0%, 50%)",
           "hsl(0, 50.0%, 50%)",
           "hsl(0, 50.0%, 50%)",
           "hsl(0, 50.0%, 50%)",
           "hsl(0, 50.0%, 50%)",
           "hsl(0, 50.0%, 50%)",
           "hsl(0, 50.0%, 50%)",
           "hsl(0, 50.0%, 50%)",
           "hsl(0, 50.0%, 50%)",
           "hsl(0, 50.0%, 50%)",
           "hsl(0, 50.0%, 50%)",
           "hsl(0, 50.0%, 50%)",
           "hsl(0, 50.0%, 50%)",
           "hsl(0, 50.0%, 50%)",
           "hsl(0, 50.0%, 50%)",
           "hsl(0, 50.0%, 50%)",
           "hsl(0, 50.0%, 50%)",
           "hsl(0, 50.0%, 50%)",
           "hsl(0, 50.0%, 50%)",
           "hsl(0, 50.0%, 50%)",
           "hsl(0, 50.0%, 50%)",
           "hsl(0, 50.0%, 50%)",
           "hsl(0, 50.0%, 50%)",
           "hsl(0, 50.0%, 50%)",
           "hsl(0, 50.0%, 50%)",
           "hsl(0, 50.0%, 50%)",
           "hsl(0, 50.0%, 50%)",
           "hsl(0, 50.0%, 50%)",
           "hsl(0, 50.0%, 50%)",
           "hsl(0, 50.0%, 50%)",
           "hsl(0, 50.0%, 50%)",
           "hsl(0, 50.0%, 50%)",
           "hsl(0, 50.0%, 50%)",
           "hsl(0, 50.0%, 50%)",
           "hsl(0, 50.0%, 50%)",
           "hsl(0, 50.0%, 50%)",
           "hsl(0, 50.0%, 50%)",
           "hsl(0, 50.0%, 50%)",
           "hsl(0, 50.0%, 50%)",
           "hsl(0, 50.0%, 50%)",
           "hsl(0, 50.0%, 50%)",
           "hsl(0, 50.0%, 50%)",
           "hsl(0, 50.0%, 50%)",
           "hsl(0, 50.0%, 50%)",
           "hsl(0, 50.0%, 50%)",
           "hsl(0, 50.0%, 50%)"
          ],
          "size": [
           41.53588195841717,
           36.36363636363636,
           41.05386809867427,
           36.241610738255034,
           36.36914684043037,
           37.42875237492083,
           36.22503430400976,
           36.486279319331594,
           30.326886873181586,
           34.146341463414636,
           42.26945606694561,
           38.480513073507645,
           42.763636363636365,
           35.81183611532625,
           42.68,
           43.17858912935735,
           36.38017280582083,
           41.40915953699044,
           36.49679584986268,
           42.751252086811355,
           43.20773591197066,
           41.79963204549256,
           36.474349216014616,
           36.36363636363636,
           27.906976744186046,
           38.45152895250488,
           38.42173350582148,
           35.81183611532625,
           36.46324760310455,
           31.5879242708511,
           28.163195042175936,
           43.170365426330726,
           37.21657544956998,
           36.36363636363636,
           36.36363636363636,
           36.457699330493,
           36.38017280582083,
           43.224734042553195,
           38.027942829612975,
           36.39120545868082,
           36.36363636363636,
           40.51756007393716,
           33.89256058295204,
           43.170365426330726,
           36.36363636363636,
           36.36363636363636,
           36.36363636363636,
           36.36363636363636,
           34.20829805249789,
           42.47615860799733,
           36.36363636363636,
           40.18163471241171,
           36.36363636363636,
           42.34309623430963,
           36.36363636363636,
           43.20773591197066,
           36.468797564687975,
           36.36363636363636,
           41.743211532014755,
           36.36363636363636,
           43.06820076705019,
           36.374714394516374,
           36.474164133738604,
           38.44274311777162,
           43.002001334222825
          ]
         },
         "mode": "markers",
         "name": "R_PRE",
         "type": "scatter",
         "x": [
          0.013923535641584465,
          0.0026146408317982025,
          0.011643475214904383,
          0.005005432033846695,
          0.0039153469204843885,
          0.007245180918271568,
          0.005027282759616603,
          0.006542010934350525,
          0.013517159802857382,
          0.014215911493829144,
          0.014793471864158891,
          0.00785881010401822,
          0.009039485070106856,
          0.01605782281740864,
          0.010120721845234892,
          0.011719451780694709,
          0.00248256543479497,
          0.016109626830173186,
          0.008156070921543487,
          0.01201013528743781,
          0.013389082238372195,
          0.01009335846919932,
          0.0032467103415035744,
          0.00032590821678964545,
          0.016619587135295637,
          0.0086275921493037,
          0.010640819864370344,
          0.01592725393000278,
          0.003108148269096591,
          0.015078681023016072,
          0.016075167653846978,
          0.013780462530580623,
          0.009519477574444334,
          0.000619871436045254,
          0.0029051431389135493,
          0.004316575194453414,
          0.0025706663549380972,
          0.012412515033221048,
          0.008801991642561095,
          0.005610467072248814,
          0.003136528223350605,
          0.012213494745159875,
          0.012370507034514859,
          0.01372025248568662,
          0.0010362450915465881,
          0.003821724714716561,
          0.002812494231551567,
          0.0007779668672428159,
          0.015741945124733838,
          0.01640084036303291,
          0.0031259605916464546,
          0.011420996402516061,
          0.0015692869453695572,
          0.016499984219656785,
          0.0013319993600479597,
          0.013434679814115849,
          0.006911113985965642,
          0.0007892782200614162,
          0.015587648112994854,
          0.0008758388039498983,
          0.0124851191684747,
          0.006099123745457028,
          0.006361633826713498,
          0.008171190187500805,
          0.012637453215235808
         ],
         "y": [
          1.0383970489604293,
          0.9090909090909091,
          1.0263467024668569,
          0.9060402684563759,
          0.9092286710107592,
          0.9357188093730209,
          0.9056258576002439,
          0.9121569829832898,
          0.7581721718295397,
          0.8536585365853658,
          1.0567364016736402,
          0.9620128268376912,
          1.069090909090909,
          0.8952959028831563,
          1.067,
          1.0794647282339338,
          0.9095043201455207,
          1.035228988424761,
          0.9124198962465669,
          1.0687813021702839,
          1.0801933977992664,
          1.044990801137314,
          0.9118587304003654,
          0.9090909090909091,
          0.6976744186046512,
          0.961288223812622,
          0.9605433376455369,
          0.8952959028831563,
          0.9115811900776137,
          0.7896981067712775,
          0.7040798760543984,
          1.0792591356582681,
          0.9304143862392494,
          0.9090909090909091,
          0.9090909090909091,
          0.911442483262325,
          0.9095043201455207,
          1.0806183510638299,
          0.9506985707403244,
          0.9097801364670205,
          0.9090909090909091,
          1.012939001848429,
          0.8473140145738011,
          1.0792591356582681,
          0.9090909090909091,
          0.9090909090909091,
          0.9090909090909091,
          0.9090909090909091,
          0.8552074513124471,
          1.0619039651999331,
          0.9090909090909091,
          1.0045408678102927,
          0.9090909090909091,
          1.0585774058577406,
          0.9090909090909091,
          1.0801933977992664,
          0.9117199391171994,
          0.9090909090909091,
          1.0435802883003689,
          0.9090909090909091,
          1.0767050191762548,
          0.9093678598629094,
          0.9118541033434651,
          0.9610685779442906,
          1.0750500333555706
         ]
        },
        {
         "marker": {
          "color": "rgba(255, 0, 0, 0)",
          "line": {
           "color": "red",
           "width": 4
          },
          "size": 50
         },
         "mode": "markers",
         "name": "Max R_PRE",
         "type": "scatter",
         "x": [
          0.012412515033221048
         ],
         "y": [
          1.0806183510638299
         ]
        },
        {
         "line": {
          "color": "red",
          "dash": "dash",
          "width": 2
         },
         "mode": "lines",
         "showlegend": false,
         "type": "scatter",
         "x": [
          0.012412515033221048,
          0.012412515033221048
         ],
         "y": [
          -0.1,
          1.0806183510638299
         ]
        },
        {
         "line": {
          "color": "red",
          "dash": "dash",
          "width": 2
         },
         "mode": "lines",
         "showlegend": false,
         "type": "scatter",
         "x": [
          -0.002,
          0.012412515033221048
         ],
         "y": [
          1.0806183510638299,
          1.0806183510638299
         ]
        },
        {
         "marker": {
          "color": [
           "hsl(240, 50.0%, 50%)",
           "hsl(240, 50.0%, 50%)",
           "hsl(240, 50.0%, 50%)",
           "hsl(240, 50.0%, 50%)",
           "hsl(240, 50.0%, 50%)",
           "hsl(240, 50.0%, 50%)",
           "hsl(240, 50.0%, 50%)",
           "hsl(240, 50.0%, 50%)",
           "hsl(240, 50.0%, 50%)",
           "hsl(240, 50.0%, 50%)",
           "hsl(240, 50.0%, 50%)",
           "hsl(240, 50.0%, 50%)",
           "hsl(240, 50.0%, 50%)",
           "hsl(240, 50.0%, 50%)",
           "hsl(240, 50.0%, 50%)",
           "hsl(240, 50.0%, 50%)",
           "hsl(240, 50.0%, 50%)",
           "hsl(240, 50.0%, 50%)",
           "hsl(240, 50.0%, 50%)",
           "hsl(240, 50.0%, 50%)"
          ],
          "size": [
           40.93482565463599,
           41.10863833104639,
           37.62647775072287,
           41.022568778839045,
           41.06261130595285,
           36.963898120989384,
           40.56975359681536,
           32.621541736604335,
           37.626084434937816,
           37.83604006530558,
           41.34207353834895,
           37.62007031420892,
           41.111534581937086,
           37.690069485915984,
           40.60503829588298,
           35.9536528368058,
           40.960072202188165,
           37.578205292437254,
           35.84704523702802,
           37.71304546141593
          ]
         },
         "mode": "markers",
         "name": "R_ONB",
         "type": "scatter",
         "x": [
          0.014222310196138586,
          0.013883494518965664,
          0.010248041919413328,
          0.01497529636343339,
          0.014515503028541194,
          0.00760179153809369,
          0.014413730018515874,
          0.004634354368245535,
          0.009923399687761878,
          0.010751548497234113,
          0.012099814987986561,
          0.010222527938828479,
          0.014578660083730833,
          0.009337771437114574,
          0.014036410216319422,
          0.0056840036644070936,
          0.0146367065301583,
          0.011657725194978536,
          0.013961813596054917,
          0.01181644919825968
         ],
         "y": [
          1.0233706413658998,
          1.02771595827616,
          0.9406619437680717,
          1.0255642194709762,
          1.0265652826488212,
          0.9240974530247347,
          1.014243839920384,
          0.8155385434151085,
          0.9406521108734455,
          0.9459010016326396,
          1.0335518384587237,
          0.9405017578552228,
          1.0277883645484271,
          0.9422517371478997,
          1.0151259573970743,
          0.8988413209201451,
          1.0240018050547042,
          0.9394551323109314,
          0.8961761309257005,
          0.9428261365353983
         ]
        },
        {
         "marker": {
          "color": "rgba(0, 0, 255, 0)",
          "line": {
           "color": "blue",
           "width": 4
          },
          "size": 50
         },
         "mode": "markers",
         "name": "Max R_ONB",
         "type": "scatter",
         "x": [
          0.012099814987986561
         ],
         "y": [
          1.0335518384587237
         ]
        },
        {
         "line": {
          "color": "blue",
          "dash": "dash",
          "width": 2
         },
         "mode": "lines",
         "showlegend": false,
         "type": "scatter",
         "x": [
          0.012099814987986561,
          0.012099814987986561
         ],
         "y": [
          -0.1,
          1.0335518384587237
         ]
        },
        {
         "line": {
          "color": "blue",
          "dash": "dash",
          "width": 2
         },
         "mode": "lines",
         "showlegend": false,
         "type": "scatter",
         "x": [
          -0.002,
          0.012099814987986561
         ],
         "y": [
          1.0335518384587237,
          1.0335518384587237
         ]
        },
        {
         "marker": {
          "color": "rgba(0, 0, 0, 0)",
          "line": {
           "color": "black",
           "width": 4
          },
          "size": 50
         },
         "mode": "markers",
         "name": "Custom Point",
         "type": "scatter",
         "x": [
          0.00648
         ],
         "y": [
          0.8025
         ]
        },
        {
         "line": {
          "color": "black",
          "dash": "dash",
          "width": 2
         },
         "mode": "lines",
         "showlegend": false,
         "type": "scatter",
         "x": [
          0.00648,
          0.00648
         ],
         "y": [
          -0.1,
          0.8025
         ]
        },
        {
         "line": {
          "color": "black",
          "dash": "dash",
          "width": 2
         },
         "mode": "lines",
         "showlegend": false,
         "type": "scatter",
         "x": [
          -0.002,
          0.00648
         ],
         "y": [
          0.8025,
          0.8025
         ]
        }
       ],
       "layout": {
        "font": {
         "color": "black",
         "family": "Times New Roman",
         "size": 44
        },
        "height": 1600,
        "showlegend": false,
        "template": {
         "data": {
          "bar": [
           {
            "error_x": {
             "color": "#2a3f5f"
            },
            "error_y": {
             "color": "#2a3f5f"
            },
            "marker": {
             "line": {
              "color": "#E5ECF6",
              "width": 0.5
             },
             "pattern": {
              "fillmode": "overlay",
              "size": 10,
              "solidity": 0.2
             }
            },
            "type": "bar"
           }
          ],
          "barpolar": [
           {
            "marker": {
             "line": {
              "color": "#E5ECF6",
              "width": 0.5
             },
             "pattern": {
              "fillmode": "overlay",
              "size": 10,
              "solidity": 0.2
             }
            },
            "type": "barpolar"
           }
          ],
          "carpet": [
           {
            "aaxis": {
             "endlinecolor": "#2a3f5f",
             "gridcolor": "white",
             "linecolor": "white",
             "minorgridcolor": "white",
             "startlinecolor": "#2a3f5f"
            },
            "baxis": {
             "endlinecolor": "#2a3f5f",
             "gridcolor": "white",
             "linecolor": "white",
             "minorgridcolor": "white",
             "startlinecolor": "#2a3f5f"
            },
            "type": "carpet"
           }
          ],
          "choropleth": [
           {
            "colorbar": {
             "outlinewidth": 0,
             "ticks": ""
            },
            "type": "choropleth"
           }
          ],
          "contour": [
           {
            "colorbar": {
             "outlinewidth": 0,
             "ticks": ""
            },
            "colorscale": [
             [
              0,
              "#0d0887"
             ],
             [
              0.1111111111111111,
              "#46039f"
             ],
             [
              0.2222222222222222,
              "#7201a8"
             ],
             [
              0.3333333333333333,
              "#9c179e"
             ],
             [
              0.4444444444444444,
              "#bd3786"
             ],
             [
              0.5555555555555556,
              "#d8576b"
             ],
             [
              0.6666666666666666,
              "#ed7953"
             ],
             [
              0.7777777777777778,
              "#fb9f3a"
             ],
             [
              0.8888888888888888,
              "#fdca26"
             ],
             [
              1,
              "#f0f921"
             ]
            ],
            "type": "contour"
           }
          ],
          "contourcarpet": [
           {
            "colorbar": {
             "outlinewidth": 0,
             "ticks": ""
            },
            "type": "contourcarpet"
           }
          ],
          "heatmap": [
           {
            "colorbar": {
             "outlinewidth": 0,
             "ticks": ""
            },
            "colorscale": [
             [
              0,
              "#0d0887"
             ],
             [
              0.1111111111111111,
              "#46039f"
             ],
             [
              0.2222222222222222,
              "#7201a8"
             ],
             [
              0.3333333333333333,
              "#9c179e"
             ],
             [
              0.4444444444444444,
              "#bd3786"
             ],
             [
              0.5555555555555556,
              "#d8576b"
             ],
             [
              0.6666666666666666,
              "#ed7953"
             ],
             [
              0.7777777777777778,
              "#fb9f3a"
             ],
             [
              0.8888888888888888,
              "#fdca26"
             ],
             [
              1,
              "#f0f921"
             ]
            ],
            "type": "heatmap"
           }
          ],
          "heatmapgl": [
           {
            "colorbar": {
             "outlinewidth": 0,
             "ticks": ""
            },
            "colorscale": [
             [
              0,
              "#0d0887"
             ],
             [
              0.1111111111111111,
              "#46039f"
             ],
             [
              0.2222222222222222,
              "#7201a8"
             ],
             [
              0.3333333333333333,
              "#9c179e"
             ],
             [
              0.4444444444444444,
              "#bd3786"
             ],
             [
              0.5555555555555556,
              "#d8576b"
             ],
             [
              0.6666666666666666,
              "#ed7953"
             ],
             [
              0.7777777777777778,
              "#fb9f3a"
             ],
             [
              0.8888888888888888,
              "#fdca26"
             ],
             [
              1,
              "#f0f921"
             ]
            ],
            "type": "heatmapgl"
           }
          ],
          "histogram": [
           {
            "marker": {
             "pattern": {
              "fillmode": "overlay",
              "size": 10,
              "solidity": 0.2
             }
            },
            "type": "histogram"
           }
          ],
          "histogram2d": [
           {
            "colorbar": {
             "outlinewidth": 0,
             "ticks": ""
            },
            "colorscale": [
             [
              0,
              "#0d0887"
             ],
             [
              0.1111111111111111,
              "#46039f"
             ],
             [
              0.2222222222222222,
              "#7201a8"
             ],
             [
              0.3333333333333333,
              "#9c179e"
             ],
             [
              0.4444444444444444,
              "#bd3786"
             ],
             [
              0.5555555555555556,
              "#d8576b"
             ],
             [
              0.6666666666666666,
              "#ed7953"
             ],
             [
              0.7777777777777778,
              "#fb9f3a"
             ],
             [
              0.8888888888888888,
              "#fdca26"
             ],
             [
              1,
              "#f0f921"
             ]
            ],
            "type": "histogram2d"
           }
          ],
          "histogram2dcontour": [
           {
            "colorbar": {
             "outlinewidth": 0,
             "ticks": ""
            },
            "colorscale": [
             [
              0,
              "#0d0887"
             ],
             [
              0.1111111111111111,
              "#46039f"
             ],
             [
              0.2222222222222222,
              "#7201a8"
             ],
             [
              0.3333333333333333,
              "#9c179e"
             ],
             [
              0.4444444444444444,
              "#bd3786"
             ],
             [
              0.5555555555555556,
              "#d8576b"
             ],
             [
              0.6666666666666666,
              "#ed7953"
             ],
             [
              0.7777777777777778,
              "#fb9f3a"
             ],
             [
              0.8888888888888888,
              "#fdca26"
             ],
             [
              1,
              "#f0f921"
             ]
            ],
            "type": "histogram2dcontour"
           }
          ],
          "mesh3d": [
           {
            "colorbar": {
             "outlinewidth": 0,
             "ticks": ""
            },
            "type": "mesh3d"
           }
          ],
          "parcoords": [
           {
            "line": {
             "colorbar": {
              "outlinewidth": 0,
              "ticks": ""
             }
            },
            "type": "parcoords"
           }
          ],
          "pie": [
           {
            "automargin": true,
            "type": "pie"
           }
          ],
          "scatter": [
           {
            "fillpattern": {
             "fillmode": "overlay",
             "size": 10,
             "solidity": 0.2
            },
            "type": "scatter"
           }
          ],
          "scatter3d": [
           {
            "line": {
             "colorbar": {
              "outlinewidth": 0,
              "ticks": ""
             }
            },
            "marker": {
             "colorbar": {
              "outlinewidth": 0,
              "ticks": ""
             }
            },
            "type": "scatter3d"
           }
          ],
          "scattercarpet": [
           {
            "marker": {
             "colorbar": {
              "outlinewidth": 0,
              "ticks": ""
             }
            },
            "type": "scattercarpet"
           }
          ],
          "scattergeo": [
           {
            "marker": {
             "colorbar": {
              "outlinewidth": 0,
              "ticks": ""
             }
            },
            "type": "scattergeo"
           }
          ],
          "scattergl": [
           {
            "marker": {
             "colorbar": {
              "outlinewidth": 0,
              "ticks": ""
             }
            },
            "type": "scattergl"
           }
          ],
          "scattermapbox": [
           {
            "marker": {
             "colorbar": {
              "outlinewidth": 0,
              "ticks": ""
             }
            },
            "type": "scattermapbox"
           }
          ],
          "scatterpolar": [
           {
            "marker": {
             "colorbar": {
              "outlinewidth": 0,
              "ticks": ""
             }
            },
            "type": "scatterpolar"
           }
          ],
          "scatterpolargl": [
           {
            "marker": {
             "colorbar": {
              "outlinewidth": 0,
              "ticks": ""
             }
            },
            "type": "scatterpolargl"
           }
          ],
          "scatterternary": [
           {
            "marker": {
             "colorbar": {
              "outlinewidth": 0,
              "ticks": ""
             }
            },
            "type": "scatterternary"
           }
          ],
          "surface": [
           {
            "colorbar": {
             "outlinewidth": 0,
             "ticks": ""
            },
            "colorscale": [
             [
              0,
              "#0d0887"
             ],
             [
              0.1111111111111111,
              "#46039f"
             ],
             [
              0.2222222222222222,
              "#7201a8"
             ],
             [
              0.3333333333333333,
              "#9c179e"
             ],
             [
              0.4444444444444444,
              "#bd3786"
             ],
             [
              0.5555555555555556,
              "#d8576b"
             ],
             [
              0.6666666666666666,
              "#ed7953"
             ],
             [
              0.7777777777777778,
              "#fb9f3a"
             ],
             [
              0.8888888888888888,
              "#fdca26"
             ],
             [
              1,
              "#f0f921"
             ]
            ],
            "type": "surface"
           }
          ],
          "table": [
           {
            "cells": {
             "fill": {
              "color": "#EBF0F8"
             },
             "line": {
              "color": "white"
             }
            },
            "header": {
             "fill": {
              "color": "#C8D4E3"
             },
             "line": {
              "color": "white"
             }
            },
            "type": "table"
           }
          ]
         },
         "layout": {
          "annotationdefaults": {
           "arrowcolor": "#2a3f5f",
           "arrowhead": 0,
           "arrowwidth": 1
          },
          "autotypenumbers": "strict",
          "coloraxis": {
           "colorbar": {
            "outlinewidth": 0,
            "ticks": ""
           }
          },
          "colorscale": {
           "diverging": [
            [
             0,
             "#8e0152"
            ],
            [
             0.1,
             "#c51b7d"
            ],
            [
             0.2,
             "#de77ae"
            ],
            [
             0.3,
             "#f1b6da"
            ],
            [
             0.4,
             "#fde0ef"
            ],
            [
             0.5,
             "#f7f7f7"
            ],
            [
             0.6,
             "#e6f5d0"
            ],
            [
             0.7,
             "#b8e186"
            ],
            [
             0.8,
             "#7fbc41"
            ],
            [
             0.9,
             "#4d9221"
            ],
            [
             1,
             "#276419"
            ]
           ],
           "sequential": [
            [
             0,
             "#0d0887"
            ],
            [
             0.1111111111111111,
             "#46039f"
            ],
            [
             0.2222222222222222,
             "#7201a8"
            ],
            [
             0.3333333333333333,
             "#9c179e"
            ],
            [
             0.4444444444444444,
             "#bd3786"
            ],
            [
             0.5555555555555556,
             "#d8576b"
            ],
            [
             0.6666666666666666,
             "#ed7953"
            ],
            [
             0.7777777777777778,
             "#fb9f3a"
            ],
            [
             0.8888888888888888,
             "#fdca26"
            ],
            [
             1,
             "#f0f921"
            ]
           ],
           "sequentialminus": [
            [
             0,
             "#0d0887"
            ],
            [
             0.1111111111111111,
             "#46039f"
            ],
            [
             0.2222222222222222,
             "#7201a8"
            ],
            [
             0.3333333333333333,
             "#9c179e"
            ],
            [
             0.4444444444444444,
             "#bd3786"
            ],
            [
             0.5555555555555556,
             "#d8576b"
            ],
            [
             0.6666666666666666,
             "#ed7953"
            ],
            [
             0.7777777777777778,
             "#fb9f3a"
            ],
            [
             0.8888888888888888,
             "#fdca26"
            ],
            [
             1,
             "#f0f921"
            ]
           ]
          },
          "colorway": [
           "#636efa",
           "#EF553B",
           "#00cc96",
           "#ab63fa",
           "#FFA15A",
           "#19d3f3",
           "#FF6692",
           "#B6E880",
           "#FF97FF",
           "#FECB52"
          ],
          "font": {
           "color": "#2a3f5f"
          },
          "geo": {
           "bgcolor": "white",
           "lakecolor": "white",
           "landcolor": "#E5ECF6",
           "showlakes": true,
           "showland": true,
           "subunitcolor": "white"
          },
          "hoverlabel": {
           "align": "left"
          },
          "hovermode": "closest",
          "mapbox": {
           "style": "light"
          },
          "paper_bgcolor": "white",
          "plot_bgcolor": "#E5ECF6",
          "polar": {
           "angularaxis": {
            "gridcolor": "white",
            "linecolor": "white",
            "ticks": ""
           },
           "bgcolor": "#E5ECF6",
           "radialaxis": {
            "gridcolor": "white",
            "linecolor": "white",
            "ticks": ""
           }
          },
          "scene": {
           "xaxis": {
            "backgroundcolor": "#E5ECF6",
            "gridcolor": "white",
            "gridwidth": 2,
            "linecolor": "white",
            "showbackground": true,
            "ticks": "",
            "zerolinecolor": "white"
           },
           "yaxis": {
            "backgroundcolor": "#E5ECF6",
            "gridcolor": "white",
            "gridwidth": 2,
            "linecolor": "white",
            "showbackground": true,
            "ticks": "",
            "zerolinecolor": "white"
           },
           "zaxis": {
            "backgroundcolor": "#E5ECF6",
            "gridcolor": "white",
            "gridwidth": 2,
            "linecolor": "white",
            "showbackground": true,
            "ticks": "",
            "zerolinecolor": "white"
           }
          },
          "shapedefaults": {
           "line": {
            "color": "#2a3f5f"
           }
          },
          "ternary": {
           "aaxis": {
            "gridcolor": "white",
            "linecolor": "white",
            "ticks": ""
           },
           "baxis": {
            "gridcolor": "white",
            "linecolor": "white",
            "ticks": ""
           },
           "bgcolor": "#E5ECF6",
           "caxis": {
            "gridcolor": "white",
            "linecolor": "white",
            "ticks": ""
           }
          },
          "title": {
           "x": 0.05
          },
          "xaxis": {
           "automargin": true,
           "gridcolor": "white",
           "linecolor": "white",
           "ticks": "",
           "title": {
            "standoff": 15
           },
           "zerolinecolor": "white",
           "zerolinewidth": 2
          },
          "yaxis": {
           "automargin": true,
           "gridcolor": "white",
           "linecolor": "white",
           "ticks": "",
           "title": {
            "standoff": 15
           },
           "zerolinecolor": "white",
           "zerolinewidth": 2
          }
         }
        },
        "width": 1600,
        "xaxis": {
         "dtick": 0.002,
         "range": [
          -0.002,
          0.018
         ],
         "tick0": -0.002,
         "tickfont": {
          "color": "black",
          "family": "Times New Roman",
          "size": 44
         },
         "title": {
          "text": "Threshold (g)"
         }
        },
        "yaxis": {
         "dtick": 0.1,
         "range": [
          -0.1,
          1.2
         ],
         "tick0": -0.1,
         "tickfont": {
          "color": "black",
          "family": "Times New Roman",
          "size": 44
         },
         "title": {
          "text": "F-beta Score"
         }
        }
       }
      }
     },
     "metadata": {},
     "output_type": "display_data"
    }
   ],
   "source": [
    "import plotly.graph_objects as go\n",
    "import numpy as np\n",
    "\n",
    "# Function to map a value in [1, 65] to a saturation percentage between 30% and 100%\n",
    "def value_to_saturation(val, min_val=1, max_val=65, min_sat=0.5, max_sat=1.0, gamma=2):\n",
    "    norm = (val - min_val) / (max_val - min_val)\n",
    "    sat = min_sat + (norm ** gamma) * (max_sat - min_sat)\n",
    "    return round(sat * 100, 1)\n",
    "\n",
    "# For R_PRE (red)\n",
    "colors_red = [f'hsl(0, {value_to_saturation(val)}%, 50%)' for val in R_PRE[:, 2]]\n",
    "max_idx_pre = np.argmax(R_PRE[:, 2])\n",
    "\n",
    "# For R_ONB (blue)\n",
    "colors_blue = [f'hsl(240, {value_to_saturation(val)}%, 50%)' for val in R_ONB[:, 2]]\n",
    "max_idx_onb = np.argmax(R_ONB[:, 2])\n",
    "\n",
    "# Font customization variables\n",
    "font_family = \"Times New Roman\"\n",
    "font_size = 44\n",
    "font_color = \"black\"\n",
    "\n",
    "# Create figure object\n",
    "fig = go.Figure()\n",
    "\n",
    "# Add first dataset R_PRE (red)\n",
    "fig.add_trace(go.Scatter(\n",
    "    x=R_PRE[:, 0],\n",
    "    y=R_PRE[:, 2],\n",
    "    mode='markers',\n",
    "    marker=dict(\n",
    "        size=R_PRE[:, 2] * 40,\n",
    "        color=colors_red\n",
    "    ),\n",
    "    name='R_PRE'\n",
    "))\n",
    "\n",
    "# Highlight maximum value in R_PRE with a red hollow circle and vertical/horizontal lines\n",
    "fig.add_trace(go.Scatter(\n",
    "    x=[R_PRE[max_idx_pre, 0]],\n",
    "    y=[R_PRE[max_idx_pre, 2]],\n",
    "    mode='markers',\n",
    "    marker=dict(\n",
    "        size=50,\n",
    "        color='rgba(255, 0, 0, 0)',\n",
    "        line=dict(color='red', width=4)\n",
    "    ),\n",
    "    name='Max R_PRE'\n",
    "))\n",
    "\n",
    "fig.add_trace(go.Scatter(\n",
    "    x=[R_PRE[max_idx_pre, 0], R_PRE[max_idx_pre, 0]],\n",
    "    y=[-0.1, R_PRE[max_idx_pre, 2]],\n",
    "    mode='lines',\n",
    "    line=dict(color='red', width=2, dash='dash'),\n",
    "    showlegend=False\n",
    "))\n",
    "\n",
    "fig.add_trace(go.Scatter(\n",
    "    x=[-0.002, R_PRE[max_idx_pre, 0]],\n",
    "    y=[R_PRE[max_idx_pre, 2], R_PRE[max_idx_pre, 2]],\n",
    "    mode='lines',\n",
    "    line=dict(color='red', width=2, dash='dash'),\n",
    "    showlegend=False\n",
    "))\n",
    "\n",
    "# Add second dataset R_ONB (blue)\n",
    "fig.add_trace(go.Scatter(\n",
    "    x=R_ONB[:, 0],\n",
    "    y=R_ONB[:, 2],\n",
    "    mode='markers',\n",
    "    marker=dict(\n",
    "        size=R_ONB[:, 2] * 40,\n",
    "        color=colors_blue\n",
    "    ),\n",
    "    name='R_ONB'\n",
    "))\n",
    "\n",
    "# Highlight maximum value in R_ONB with a blue hollow circle and vertical/horizontal lines\n",
    "fig.add_trace(go.Scatter(\n",
    "    x=[R_ONB[max_idx_onb, 0]],\n",
    "    y=[R_ONB[max_idx_onb, 2]],\n",
    "    mode='markers',\n",
    "    marker=dict(\n",
    "        size=50,\n",
    "        color='rgba(0, 0, 255, 0)',\n",
    "        line=dict(color='blue', width=4)\n",
    "    ),\n",
    "    name='Max R_ONB'\n",
    "))\n",
    "\n",
    "fig.add_trace(go.Scatter(\n",
    "    x=[R_ONB[max_idx_onb, 0], R_ONB[max_idx_onb, 0]],\n",
    "    y=[-0.1, R_ONB[max_idx_onb, 2]],\n",
    "    mode='lines',\n",
    "    line=dict(color='blue', width=2, dash='dash'),\n",
    "    showlegend=False\n",
    "))\n",
    "\n",
    "fig.add_trace(go.Scatter(\n",
    "    x=[-0.002, R_ONB[max_idx_onb, 0]],\n",
    "    y=[R_ONB[max_idx_onb, 2], R_ONB[max_idx_onb, 2]],\n",
    "    mode='lines',\n",
    "    line=dict(color='blue', width=2, dash='dash'),\n",
    "    showlegend=False\n",
    "))\n",
    "\n",
    "# Add black hollow circle at (0.00648, 0.8025) with vertical and horizontal lines\n",
    "fig.add_trace(go.Scatter(\n",
    "    x=[0.00648],\n",
    "    y=[0.8025],\n",
    "    mode='markers',\n",
    "    marker=dict(\n",
    "        size=50,\n",
    "        color='rgba(0, 0, 0, 0)',\n",
    "        line=dict(color='black', width=4)\n",
    "    ),\n",
    "    name='Custom Point'\n",
    "))\n",
    "\n",
    "fig.add_trace(go.Scatter(\n",
    "    x=[0.00648, 0.00648],\n",
    "    y=[-0.1, 0.8025],\n",
    "    mode='lines',\n",
    "    line=dict(color='black', width=2, dash='dash'),\n",
    "    showlegend=False\n",
    "))\n",
    "\n",
    "fig.add_trace(go.Scatter(\n",
    "    x=[-0.002, 0.00648],\n",
    "    y=[0.8025, 0.8025],\n",
    "    mode='lines',\n",
    "    line=dict(color='black', width=2, dash='dash'),\n",
    "    showlegend=False\n",
    "))\n",
    "\n",
    "# Update overall layout\n",
    "fig.update_layout(\n",
    "    font=dict(\n",
    "        family=font_family,\n",
    "        size=font_size,\n",
    "        color=font_color\n",
    "    ),\n",
    "    width=1600,\n",
    "    height=1600,\n",
    "    showlegend=False,\n",
    "    xaxis_title=\"Threshold (g)\",\n",
    "    yaxis_title=\"F-beta Score\"\n",
    ")\n",
    "\n",
    "fig.update_xaxes(\n",
    "    range=[-0.002, 0.018],\n",
    "    tick0=-0.002,       # Starting tick value on x-axis\n",
    "    dtick=0.002,        # Interval between ticks on x-axis\n",
    "    tickfont=dict(family=font_family, size=font_size, color=font_color)\n",
    ")\n",
    "\n",
    "fig.update_yaxes(\n",
    "    range=[-0.1, 1.2],\n",
    "    tick0=-0.1,         # Starting tick value on y-axis\n",
    "    dtick=0.1,          # Interval between ticks on y-axis\n",
    "    tickfont=dict(family=font_family, size=font_size, color=font_color)\n",
    ")\n",
    "\n",
    "fig.show()"
   ]
  },
  {
   "cell_type": "code",
   "execution_count": 13,
   "metadata": {},
   "outputs": [
    {
     "data": {
      "application/vnd.plotly.v1+json": {
       "config": {
        "plotlyServerURL": "https://plot.ly"
       },
       "data": [
        {
         "marker": {
          "color": [
           "hsl(0, 50.0%, 50%)",
           "hsl(0, 50.0%, 50%)",
           "hsl(0, 50.0%, 50%)",
           "hsl(0, 50.0%, 50%)",
           "hsl(0, 50.0%, 50%)",
           "hsl(0, 50.0%, 50%)",
           "hsl(0, 50.0%, 50%)",
           "hsl(0, 50.0%, 50%)",
           "hsl(0, 50.0%, 50%)",
           "hsl(0, 50.0%, 50%)",
           "hsl(0, 50.0%, 50%)",
           "hsl(0, 50.0%, 50%)",
           "hsl(0, 50.0%, 50%)",
           "hsl(0, 50.0%, 50%)",
           "hsl(0, 50.0%, 50%)",
           "hsl(0, 50.0%, 50%)",
           "hsl(0, 50.0%, 50%)",
           "hsl(0, 50.0%, 50%)",
           "hsl(0, 50.0%, 50%)",
           "hsl(0, 50.0%, 50%)",
           "hsl(0, 50.0%, 50%)",
           "hsl(0, 50.0%, 50%)",
           "hsl(0, 50.0%, 50%)",
           "hsl(0, 50.0%, 50%)",
           "hsl(0, 50.0%, 50%)",
           "hsl(0, 50.0%, 50%)",
           "hsl(0, 50.0%, 50%)",
           "hsl(0, 50.0%, 50%)",
           "hsl(0, 50.0%, 50%)",
           "hsl(0, 50.0%, 50%)",
           "hsl(0, 50.0%, 50%)",
           "hsl(0, 50.0%, 50%)",
           "hsl(0, 50.0%, 50%)",
           "hsl(0, 50.0%, 50%)",
           "hsl(0, 50.0%, 50%)",
           "hsl(0, 50.0%, 50%)",
           "hsl(0, 50.0%, 50%)",
           "hsl(0, 50.0%, 50%)",
           "hsl(0, 50.0%, 50%)",
           "hsl(0, 50.0%, 50%)",
           "hsl(0, 50.0%, 50%)",
           "hsl(0, 50.0%, 50%)",
           "hsl(0, 50.0%, 50%)",
           "hsl(0, 50.0%, 50%)",
           "hsl(0, 50.0%, 50%)",
           "hsl(0, 50.0%, 50%)",
           "hsl(0, 50.0%, 50%)",
           "hsl(0, 50.0%, 50%)",
           "hsl(0, 50.0%, 50%)",
           "hsl(0, 50.0%, 50%)",
           "hsl(0, 50.0%, 50%)",
           "hsl(0, 50.0%, 50%)",
           "hsl(0, 50.0%, 50%)",
           "hsl(0, 50.0%, 50%)",
           "hsl(0, 50.0%, 50%)",
           "hsl(0, 50.0%, 50%)",
           "hsl(0, 50.0%, 50%)",
           "hsl(0, 50.0%, 50%)",
           "hsl(0, 50.0%, 50%)",
           "hsl(0, 50.0%, 50%)",
           "hsl(0, 50.0%, 50%)",
           "hsl(0, 50.0%, 50%)",
           "hsl(0, 50.0%, 50%)",
           "hsl(0, 50.0%, 50%)",
           "hsl(0, 50.0%, 50%)"
          ],
          "size": [
           41.53588195841717,
           36.36363636363636,
           41.05386809867427,
           36.241610738255034,
           36.36914684043037,
           37.42875237492083,
           36.22503430400976,
           36.486279319331594,
           30.326886873181586,
           34.146341463414636,
           42.26945606694561,
           38.480513073507645,
           42.763636363636365,
           35.81183611532625,
           42.68,
           43.17858912935735,
           36.38017280582083,
           41.40915953699044,
           36.49679584986268,
           42.751252086811355,
           43.20773591197066,
           41.79963204549256,
           36.474349216014616,
           36.36363636363636,
           27.906976744186046,
           38.45152895250488,
           38.42173350582148,
           35.81183611532625,
           36.46324760310455,
           31.5879242708511,
           28.163195042175936,
           43.170365426330726,
           37.21657544956998,
           36.36363636363636,
           36.36363636363636,
           36.457699330493,
           36.38017280582083,
           43.224734042553195,
           38.027942829612975,
           36.39120545868082,
           36.36363636363636,
           40.51756007393716,
           33.89256058295204,
           43.170365426330726,
           36.36363636363636,
           36.36363636363636,
           36.36363636363636,
           36.36363636363636,
           34.20829805249789,
           42.47615860799733,
           36.36363636363636,
           40.18163471241171,
           36.36363636363636,
           42.34309623430963,
           36.36363636363636,
           43.20773591197066,
           36.468797564687975,
           36.36363636363636,
           41.743211532014755,
           36.36363636363636,
           43.06820076705019,
           36.374714394516374,
           36.474164133738604,
           38.44274311777162,
           43.002001334222825
          ]
         },
         "mode": "markers",
         "name": "R_PRE",
         "type": "scatter",
         "x": [
          4.8321011980118715,
          5.09359573065937,
          6.040586149844081,
          7.123012642117984,
          4.575489087361093,
          6.6187428458377315,
          6.107518058322045,
          5.230185236574166,
          9.683199162824087,
          6.736172164155384,
          3.605746069767968,
          8.97712425660999,
          6.376047828341818,
          4.809321008901322,
          6.7250069488223225,
          2.4252532226349404,
          8.11166106856976,
          3.131707789523354,
          2.064152590814718,
          4.055596659885152,
          2.790454050091408,
          7.580485384897242,
          8.303584427586394,
          3.4505014589852836,
          9.995617104219594,
          5.712276086780518,
          2.62713101574525,
          4.109261674047476,
          8.675088265083414,
          7.734720433247876,
          9.266133213814019,
          2.0329520819698867,
          2.992338520511921,
          2.3671642843491165,
          3.7543333503386043,
          5.607291994932785,
          7.33943454099101,
          2.015557557257843,
          4.371116330540877,
          2.005051387461844,
          3.243251805626832,
          6.224866777603471,
          8.602833774453934,
          2.630856999893795,
          2.4821973755033904,
          3.794611642682413,
          6.41506658025062,
          7.073647081483084,
          5.860080952114699,
          2.8611842912032577,
          4.376531847880266,
          7.977840074896267,
          5.377664144894675,
          2.000560265001064,
          2.9583956622781162,
          2.2642735928731197,
          2.3781228356106894,
          7.606405672760627,
          3.3994221931546598,
          8.36749586394299,
          3.848282872083818,
          4.058773347594962,
          2.0005602697077727,
          6.355507428473871,
          3.425562745999092
         ],
         "y": [
          1.0383970489604293,
          0.9090909090909091,
          1.0263467024668569,
          0.9060402684563759,
          0.9092286710107592,
          0.9357188093730209,
          0.9056258576002439,
          0.9121569829832898,
          0.7581721718295397,
          0.8536585365853658,
          1.0567364016736402,
          0.9620128268376912,
          1.069090909090909,
          0.8952959028831563,
          1.067,
          1.0794647282339338,
          0.9095043201455207,
          1.035228988424761,
          0.9124198962465669,
          1.0687813021702839,
          1.0801933977992664,
          1.044990801137314,
          0.9118587304003654,
          0.9090909090909091,
          0.6976744186046512,
          0.961288223812622,
          0.9605433376455369,
          0.8952959028831563,
          0.9115811900776137,
          0.7896981067712775,
          0.7040798760543984,
          1.0792591356582681,
          0.9304143862392494,
          0.9090909090909091,
          0.9090909090909091,
          0.911442483262325,
          0.9095043201455207,
          1.0806183510638299,
          0.9506985707403244,
          0.9097801364670205,
          0.9090909090909091,
          1.012939001848429,
          0.8473140145738011,
          1.0792591356582681,
          0.9090909090909091,
          0.9090909090909091,
          0.9090909090909091,
          0.9090909090909091,
          0.8552074513124471,
          1.0619039651999331,
          0.9090909090909091,
          1.0045408678102927,
          0.9090909090909091,
          1.0585774058577406,
          0.9090909090909091,
          1.0801933977992664,
          0.9117199391171994,
          0.9090909090909091,
          1.0435802883003689,
          0.9090909090909091,
          1.0767050191762548,
          0.9093678598629094,
          0.9118541033434651,
          0.9610685779442906,
          1.0750500333555706
         ]
        },
        {
         "marker": {
          "color": "rgba(255, 0, 0, 0)",
          "line": {
           "color": "red",
           "width": 4
          },
          "size": 50
         },
         "mode": "markers",
         "name": "Max R_PRE",
         "type": "scatter",
         "x": [
          2.015557557257843
         ],
         "y": [
          1.0806183510638299
         ]
        },
        {
         "line": {
          "color": "red",
          "dash": "dash",
          "width": 2
         },
         "mode": "lines",
         "showlegend": false,
         "type": "scatter",
         "x": [
          2.015557557257843,
          2.015557557257843
         ],
         "y": [
          -0.1,
          1.0806183510638299
         ]
        },
        {
         "line": {
          "color": "red",
          "dash": "dash",
          "width": 2
         },
         "mode": "lines",
         "showlegend": false,
         "type": "scatter",
         "x": [
          1,
          2.015557557257843
         ],
         "y": [
          1.0806183510638299,
          1.0806183510638299
         ]
        },
        {
         "marker": {
          "color": [
           "hsl(240, 50.0%, 50%)",
           "hsl(240, 50.0%, 50%)",
           "hsl(240, 50.0%, 50%)",
           "hsl(240, 50.0%, 50%)",
           "hsl(240, 50.0%, 50%)",
           "hsl(240, 50.0%, 50%)",
           "hsl(240, 50.0%, 50%)",
           "hsl(240, 50.0%, 50%)",
           "hsl(240, 50.0%, 50%)",
           "hsl(240, 50.0%, 50%)",
           "hsl(240, 50.0%, 50%)",
           "hsl(240, 50.0%, 50%)",
           "hsl(240, 50.0%, 50%)",
           "hsl(240, 50.0%, 50%)",
           "hsl(240, 50.0%, 50%)",
           "hsl(240, 50.0%, 50%)",
           "hsl(240, 50.0%, 50%)",
           "hsl(240, 50.0%, 50%)",
           "hsl(240, 50.0%, 50%)",
           "hsl(240, 50.0%, 50%)"
          ],
          "size": [
           40.93482565463599,
           41.10863833104639,
           37.62647775072287,
           41.022568778839045,
           41.06261130595285,
           36.963898120989384,
           40.56975359681536,
           32.621541736604335,
           37.626084434937816,
           37.83604006530558,
           41.34207353834895,
           37.62007031420892,
           41.111534581937086,
           37.690069485915984,
           40.60503829588298,
           35.9536528368058,
           40.960072202188165,
           37.578205292437254,
           35.84704523702802,
           37.71304546141593
          ]
         },
         "mode": "markers",
         "name": "R_ONB",
         "type": "scatter",
         "x": [
          2.7258960092489266,
          2.483967788360471,
          2.7307013258547084,
          2.3010469175765733,
          2.4026727235866048,
          2.263614245404317,
          3.578116227878919,
          3.3895535862242623,
          2.6799531806853043,
          2.2508598727172755,
          2.507746520829172,
          2.7579690158074825,
          2.263474783399264,
          2.284176835058041,
          3.656135308543412,
          3.700766157976763,
          2.5874721400634764,
          2.5299691395591104,
          6.372083892230138,
          2.212400186759214
         ],
         "y": [
          1.0233706413658998,
          1.02771595827616,
          0.9406619437680717,
          1.0255642194709762,
          1.0265652826488212,
          0.9240974530247347,
          1.014243839920384,
          0.8155385434151085,
          0.9406521108734455,
          0.9459010016326396,
          1.0335518384587237,
          0.9405017578552228,
          1.0277883645484271,
          0.9422517371478997,
          1.0151259573970743,
          0.8988413209201451,
          1.0240018050547042,
          0.9394551323109314,
          0.8961761309257005,
          0.9428261365353983
         ]
        },
        {
         "marker": {
          "color": "rgba(0, 0, 255, 0)",
          "line": {
           "color": "blue",
           "width": 4
          },
          "size": 50
         },
         "mode": "markers",
         "name": "Max R_ONB",
         "type": "scatter",
         "x": [
          2.507746520829172
         ],
         "y": [
          1.0335518384587237
         ]
        },
        {
         "line": {
          "color": "blue",
          "dash": "dash",
          "width": 2
         },
         "mode": "lines",
         "showlegend": false,
         "type": "scatter",
         "x": [
          2.507746520829172,
          2.507746520829172
         ],
         "y": [
          -0.1,
          1.0335518384587237
         ]
        },
        {
         "line": {
          "color": "blue",
          "dash": "dash",
          "width": 2
         },
         "mode": "lines",
         "showlegend": false,
         "type": "scatter",
         "x": [
          1,
          2.507746520829172
         ],
         "y": [
          1.0335518384587237,
          1.0335518384587237
         ]
        },
        {
         "marker": {
          "color": "rgba(0, 0, 0, 0)",
          "line": {
           "color": "black",
           "width": 4
          },
          "size": 50
         },
         "mode": "markers",
         "name": "Custom Point",
         "type": "scatter",
         "x": [
          2
         ],
         "y": [
          0.8025
         ]
        },
        {
         "line": {
          "color": "black",
          "dash": "dash",
          "width": 2
         },
         "mode": "lines",
         "showlegend": false,
         "type": "scatter",
         "x": [
          2,
          2
         ],
         "y": [
          -0.1,
          0.8025
         ]
        },
        {
         "line": {
          "color": "black",
          "dash": "dash",
          "width": 2
         },
         "mode": "lines",
         "showlegend": false,
         "type": "scatter",
         "x": [
          1,
          2
         ],
         "y": [
          0.8025,
          0.8025
         ]
        }
       ],
       "layout": {
        "font": {
         "color": "black",
         "family": "Times New Roman",
         "size": 44
        },
        "height": 1600,
        "showlegend": false,
        "template": {
         "data": {
          "bar": [
           {
            "error_x": {
             "color": "#2a3f5f"
            },
            "error_y": {
             "color": "#2a3f5f"
            },
            "marker": {
             "line": {
              "color": "#E5ECF6",
              "width": 0.5
             },
             "pattern": {
              "fillmode": "overlay",
              "size": 10,
              "solidity": 0.2
             }
            },
            "type": "bar"
           }
          ],
          "barpolar": [
           {
            "marker": {
             "line": {
              "color": "#E5ECF6",
              "width": 0.5
             },
             "pattern": {
              "fillmode": "overlay",
              "size": 10,
              "solidity": 0.2
             }
            },
            "type": "barpolar"
           }
          ],
          "carpet": [
           {
            "aaxis": {
             "endlinecolor": "#2a3f5f",
             "gridcolor": "white",
             "linecolor": "white",
             "minorgridcolor": "white",
             "startlinecolor": "#2a3f5f"
            },
            "baxis": {
             "endlinecolor": "#2a3f5f",
             "gridcolor": "white",
             "linecolor": "white",
             "minorgridcolor": "white",
             "startlinecolor": "#2a3f5f"
            },
            "type": "carpet"
           }
          ],
          "choropleth": [
           {
            "colorbar": {
             "outlinewidth": 0,
             "ticks": ""
            },
            "type": "choropleth"
           }
          ],
          "contour": [
           {
            "colorbar": {
             "outlinewidth": 0,
             "ticks": ""
            },
            "colorscale": [
             [
              0,
              "#0d0887"
             ],
             [
              0.1111111111111111,
              "#46039f"
             ],
             [
              0.2222222222222222,
              "#7201a8"
             ],
             [
              0.3333333333333333,
              "#9c179e"
             ],
             [
              0.4444444444444444,
              "#bd3786"
             ],
             [
              0.5555555555555556,
              "#d8576b"
             ],
             [
              0.6666666666666666,
              "#ed7953"
             ],
             [
              0.7777777777777778,
              "#fb9f3a"
             ],
             [
              0.8888888888888888,
              "#fdca26"
             ],
             [
              1,
              "#f0f921"
             ]
            ],
            "type": "contour"
           }
          ],
          "contourcarpet": [
           {
            "colorbar": {
             "outlinewidth": 0,
             "ticks": ""
            },
            "type": "contourcarpet"
           }
          ],
          "heatmap": [
           {
            "colorbar": {
             "outlinewidth": 0,
             "ticks": ""
            },
            "colorscale": [
             [
              0,
              "#0d0887"
             ],
             [
              0.1111111111111111,
              "#46039f"
             ],
             [
              0.2222222222222222,
              "#7201a8"
             ],
             [
              0.3333333333333333,
              "#9c179e"
             ],
             [
              0.4444444444444444,
              "#bd3786"
             ],
             [
              0.5555555555555556,
              "#d8576b"
             ],
             [
              0.6666666666666666,
              "#ed7953"
             ],
             [
              0.7777777777777778,
              "#fb9f3a"
             ],
             [
              0.8888888888888888,
              "#fdca26"
             ],
             [
              1,
              "#f0f921"
             ]
            ],
            "type": "heatmap"
           }
          ],
          "heatmapgl": [
           {
            "colorbar": {
             "outlinewidth": 0,
             "ticks": ""
            },
            "colorscale": [
             [
              0,
              "#0d0887"
             ],
             [
              0.1111111111111111,
              "#46039f"
             ],
             [
              0.2222222222222222,
              "#7201a8"
             ],
             [
              0.3333333333333333,
              "#9c179e"
             ],
             [
              0.4444444444444444,
              "#bd3786"
             ],
             [
              0.5555555555555556,
              "#d8576b"
             ],
             [
              0.6666666666666666,
              "#ed7953"
             ],
             [
              0.7777777777777778,
              "#fb9f3a"
             ],
             [
              0.8888888888888888,
              "#fdca26"
             ],
             [
              1,
              "#f0f921"
             ]
            ],
            "type": "heatmapgl"
           }
          ],
          "histogram": [
           {
            "marker": {
             "pattern": {
              "fillmode": "overlay",
              "size": 10,
              "solidity": 0.2
             }
            },
            "type": "histogram"
           }
          ],
          "histogram2d": [
           {
            "colorbar": {
             "outlinewidth": 0,
             "ticks": ""
            },
            "colorscale": [
             [
              0,
              "#0d0887"
             ],
             [
              0.1111111111111111,
              "#46039f"
             ],
             [
              0.2222222222222222,
              "#7201a8"
             ],
             [
              0.3333333333333333,
              "#9c179e"
             ],
             [
              0.4444444444444444,
              "#bd3786"
             ],
             [
              0.5555555555555556,
              "#d8576b"
             ],
             [
              0.6666666666666666,
              "#ed7953"
             ],
             [
              0.7777777777777778,
              "#fb9f3a"
             ],
             [
              0.8888888888888888,
              "#fdca26"
             ],
             [
              1,
              "#f0f921"
             ]
            ],
            "type": "histogram2d"
           }
          ],
          "histogram2dcontour": [
           {
            "colorbar": {
             "outlinewidth": 0,
             "ticks": ""
            },
            "colorscale": [
             [
              0,
              "#0d0887"
             ],
             [
              0.1111111111111111,
              "#46039f"
             ],
             [
              0.2222222222222222,
              "#7201a8"
             ],
             [
              0.3333333333333333,
              "#9c179e"
             ],
             [
              0.4444444444444444,
              "#bd3786"
             ],
             [
              0.5555555555555556,
              "#d8576b"
             ],
             [
              0.6666666666666666,
              "#ed7953"
             ],
             [
              0.7777777777777778,
              "#fb9f3a"
             ],
             [
              0.8888888888888888,
              "#fdca26"
             ],
             [
              1,
              "#f0f921"
             ]
            ],
            "type": "histogram2dcontour"
           }
          ],
          "mesh3d": [
           {
            "colorbar": {
             "outlinewidth": 0,
             "ticks": ""
            },
            "type": "mesh3d"
           }
          ],
          "parcoords": [
           {
            "line": {
             "colorbar": {
              "outlinewidth": 0,
              "ticks": ""
             }
            },
            "type": "parcoords"
           }
          ],
          "pie": [
           {
            "automargin": true,
            "type": "pie"
           }
          ],
          "scatter": [
           {
            "fillpattern": {
             "fillmode": "overlay",
             "size": 10,
             "solidity": 0.2
            },
            "type": "scatter"
           }
          ],
          "scatter3d": [
           {
            "line": {
             "colorbar": {
              "outlinewidth": 0,
              "ticks": ""
             }
            },
            "marker": {
             "colorbar": {
              "outlinewidth": 0,
              "ticks": ""
             }
            },
            "type": "scatter3d"
           }
          ],
          "scattercarpet": [
           {
            "marker": {
             "colorbar": {
              "outlinewidth": 0,
              "ticks": ""
             }
            },
            "type": "scattercarpet"
           }
          ],
          "scattergeo": [
           {
            "marker": {
             "colorbar": {
              "outlinewidth": 0,
              "ticks": ""
             }
            },
            "type": "scattergeo"
           }
          ],
          "scattergl": [
           {
            "marker": {
             "colorbar": {
              "outlinewidth": 0,
              "ticks": ""
             }
            },
            "type": "scattergl"
           }
          ],
          "scattermapbox": [
           {
            "marker": {
             "colorbar": {
              "outlinewidth": 0,
              "ticks": ""
             }
            },
            "type": "scattermapbox"
           }
          ],
          "scatterpolar": [
           {
            "marker": {
             "colorbar": {
              "outlinewidth": 0,
              "ticks": ""
             }
            },
            "type": "scatterpolar"
           }
          ],
          "scatterpolargl": [
           {
            "marker": {
             "colorbar": {
              "outlinewidth": 0,
              "ticks": ""
             }
            },
            "type": "scatterpolargl"
           }
          ],
          "scatterternary": [
           {
            "marker": {
             "colorbar": {
              "outlinewidth": 0,
              "ticks": ""
             }
            },
            "type": "scatterternary"
           }
          ],
          "surface": [
           {
            "colorbar": {
             "outlinewidth": 0,
             "ticks": ""
            },
            "colorscale": [
             [
              0,
              "#0d0887"
             ],
             [
              0.1111111111111111,
              "#46039f"
             ],
             [
              0.2222222222222222,
              "#7201a8"
             ],
             [
              0.3333333333333333,
              "#9c179e"
             ],
             [
              0.4444444444444444,
              "#bd3786"
             ],
             [
              0.5555555555555556,
              "#d8576b"
             ],
             [
              0.6666666666666666,
              "#ed7953"
             ],
             [
              0.7777777777777778,
              "#fb9f3a"
             ],
             [
              0.8888888888888888,
              "#fdca26"
             ],
             [
              1,
              "#f0f921"
             ]
            ],
            "type": "surface"
           }
          ],
          "table": [
           {
            "cells": {
             "fill": {
              "color": "#EBF0F8"
             },
             "line": {
              "color": "white"
             }
            },
            "header": {
             "fill": {
              "color": "#C8D4E3"
             },
             "line": {
              "color": "white"
             }
            },
            "type": "table"
           }
          ]
         },
         "layout": {
          "annotationdefaults": {
           "arrowcolor": "#2a3f5f",
           "arrowhead": 0,
           "arrowwidth": 1
          },
          "autotypenumbers": "strict",
          "coloraxis": {
           "colorbar": {
            "outlinewidth": 0,
            "ticks": ""
           }
          },
          "colorscale": {
           "diverging": [
            [
             0,
             "#8e0152"
            ],
            [
             0.1,
             "#c51b7d"
            ],
            [
             0.2,
             "#de77ae"
            ],
            [
             0.3,
             "#f1b6da"
            ],
            [
             0.4,
             "#fde0ef"
            ],
            [
             0.5,
             "#f7f7f7"
            ],
            [
             0.6,
             "#e6f5d0"
            ],
            [
             0.7,
             "#b8e186"
            ],
            [
             0.8,
             "#7fbc41"
            ],
            [
             0.9,
             "#4d9221"
            ],
            [
             1,
             "#276419"
            ]
           ],
           "sequential": [
            [
             0,
             "#0d0887"
            ],
            [
             0.1111111111111111,
             "#46039f"
            ],
            [
             0.2222222222222222,
             "#7201a8"
            ],
            [
             0.3333333333333333,
             "#9c179e"
            ],
            [
             0.4444444444444444,
             "#bd3786"
            ],
            [
             0.5555555555555556,
             "#d8576b"
            ],
            [
             0.6666666666666666,
             "#ed7953"
            ],
            [
             0.7777777777777778,
             "#fb9f3a"
            ],
            [
             0.8888888888888888,
             "#fdca26"
            ],
            [
             1,
             "#f0f921"
            ]
           ],
           "sequentialminus": [
            [
             0,
             "#0d0887"
            ],
            [
             0.1111111111111111,
             "#46039f"
            ],
            [
             0.2222222222222222,
             "#7201a8"
            ],
            [
             0.3333333333333333,
             "#9c179e"
            ],
            [
             0.4444444444444444,
             "#bd3786"
            ],
            [
             0.5555555555555556,
             "#d8576b"
            ],
            [
             0.6666666666666666,
             "#ed7953"
            ],
            [
             0.7777777777777778,
             "#fb9f3a"
            ],
            [
             0.8888888888888888,
             "#fdca26"
            ],
            [
             1,
             "#f0f921"
            ]
           ]
          },
          "colorway": [
           "#636efa",
           "#EF553B",
           "#00cc96",
           "#ab63fa",
           "#FFA15A",
           "#19d3f3",
           "#FF6692",
           "#B6E880",
           "#FF97FF",
           "#FECB52"
          ],
          "font": {
           "color": "#2a3f5f"
          },
          "geo": {
           "bgcolor": "white",
           "lakecolor": "white",
           "landcolor": "#E5ECF6",
           "showlakes": true,
           "showland": true,
           "subunitcolor": "white"
          },
          "hoverlabel": {
           "align": "left"
          },
          "hovermode": "closest",
          "mapbox": {
           "style": "light"
          },
          "paper_bgcolor": "white",
          "plot_bgcolor": "#E5ECF6",
          "polar": {
           "angularaxis": {
            "gridcolor": "white",
            "linecolor": "white",
            "ticks": ""
           },
           "bgcolor": "#E5ECF6",
           "radialaxis": {
            "gridcolor": "white",
            "linecolor": "white",
            "ticks": ""
           }
          },
          "scene": {
           "xaxis": {
            "backgroundcolor": "#E5ECF6",
            "gridcolor": "white",
            "gridwidth": 2,
            "linecolor": "white",
            "showbackground": true,
            "ticks": "",
            "zerolinecolor": "white"
           },
           "yaxis": {
            "backgroundcolor": "#E5ECF6",
            "gridcolor": "white",
            "gridwidth": 2,
            "linecolor": "white",
            "showbackground": true,
            "ticks": "",
            "zerolinecolor": "white"
           },
           "zaxis": {
            "backgroundcolor": "#E5ECF6",
            "gridcolor": "white",
            "gridwidth": 2,
            "linecolor": "white",
            "showbackground": true,
            "ticks": "",
            "zerolinecolor": "white"
           }
          },
          "shapedefaults": {
           "line": {
            "color": "#2a3f5f"
           }
          },
          "ternary": {
           "aaxis": {
            "gridcolor": "white",
            "linecolor": "white",
            "ticks": ""
           },
           "baxis": {
            "gridcolor": "white",
            "linecolor": "white",
            "ticks": ""
           },
           "bgcolor": "#E5ECF6",
           "caxis": {
            "gridcolor": "white",
            "linecolor": "white",
            "ticks": ""
           }
          },
          "title": {
           "x": 0.05
          },
          "xaxis": {
           "automargin": true,
           "gridcolor": "white",
           "linecolor": "white",
           "ticks": "",
           "title": {
            "standoff": 15
           },
           "zerolinecolor": "white",
           "zerolinewidth": 2
          },
          "yaxis": {
           "automargin": true,
           "gridcolor": "white",
           "linecolor": "white",
           "ticks": "",
           "title": {
            "standoff": 15
           },
           "zerolinecolor": "white",
           "zerolinewidth": 2
          }
         }
        },
        "width": 1600,
        "xaxis": {
         "dtick": 1,
         "range": [
          1,
          11
         ],
         "tick0": 1,
         "tickfont": {
          "color": "black",
          "family": "Times New Roman",
          "size": 44
         },
         "title": {
          "text": "Duration (s)"
         }
        },
        "yaxis": {
         "dtick": 0.1,
         "range": [
          -0.1,
          1.2
         ],
         "tick0": -0.1,
         "tickfont": {
          "color": "black",
          "family": "Times New Roman",
          "size": 44
         },
         "title": {
          "text": "F-beta Score"
         }
        }
       }
      }
     },
     "metadata": {},
     "output_type": "display_data"
    }
   ],
   "source": [
    "import plotly.graph_objects as go\n",
    "import numpy as np\n",
    "\n",
    "# Function to map a value in [1, 65] to a saturation percentage between 30% and 100%\n",
    "def value_to_saturation(val, min_val=1, max_val=65, min_sat=0.5, max_sat=1.0, gamma=2):\n",
    "    norm = (val - min_val) / (max_val - min_val)\n",
    "    sat = min_sat + (norm ** gamma) * (max_sat - min_sat)\n",
    "    return round(sat * 100, 1)\n",
    "\n",
    "# For R_PRE (red)\n",
    "colors_red = [f'hsl(0, {value_to_saturation(val)}%, 50%)' for val in R_PRE[:, 2]]\n",
    "max_idx_pre = np.argmax(R_PRE[:, 2])\n",
    "\n",
    "# For R_ONB (blue)\n",
    "colors_blue = [f'hsl(240, {value_to_saturation(val)}%, 50%)' for val in R_ONB[:, 2]]\n",
    "max_idx_onb = np.argmax(R_ONB[:, 2])\n",
    "\n",
    "# Font customization variables\n",
    "font_family = \"Times New Roman\"\n",
    "font_size = 44\n",
    "font_color = \"black\"\n",
    "\n",
    "# Create figure object\n",
    "fig = go.Figure()\n",
    "\n",
    "# Add first dataset R_PRE (red)\n",
    "fig.add_trace(go.Scatter(\n",
    "    x=R_PRE[:, 1],\n",
    "    y=R_PRE[:, 2],\n",
    "    mode='markers',\n",
    "    marker=dict(\n",
    "        size=R_PRE[:, 2] * 40,\n",
    "        color=colors_red\n",
    "    ),\n",
    "    name='R_PRE'\n",
    "))\n",
    "\n",
    "# Highlight maximum value in R_PRE with a red hollow circle and vertical/horizontal lines\n",
    "fig.add_trace(go.Scatter(\n",
    "    x=[R_PRE[max_idx_pre, 1]],\n",
    "    y=[R_PRE[max_idx_pre, 2]],\n",
    "    mode='markers',\n",
    "    marker=dict(\n",
    "        size=50,\n",
    "        color='rgba(255, 0, 0, 0)',\n",
    "        line=dict(color='red', width=4)\n",
    "    ),\n",
    "    name='Max R_PRE'\n",
    "))\n",
    "\n",
    "fig.add_trace(go.Scatter(\n",
    "    x=[R_PRE[max_idx_pre, 1], R_PRE[max_idx_pre, 1]],\n",
    "    y=[-0.1, R_PRE[max_idx_pre, 2]],\n",
    "    mode='lines',\n",
    "    line=dict(color='red', width=2, dash='dash'),\n",
    "    showlegend=False\n",
    "))\n",
    "\n",
    "fig.add_trace(go.Scatter(\n",
    "    x=[1, R_PRE[max_idx_pre, 1]],\n",
    "    y=[R_PRE[max_idx_pre, 2], R_PRE[max_idx_pre, 2]],\n",
    "    mode='lines',\n",
    "    line=dict(color='red', width=2, dash='dash'),\n",
    "    showlegend=False\n",
    "))\n",
    "\n",
    "# Add second dataset R_ONB (blue)\n",
    "fig.add_trace(go.Scatter(\n",
    "    x=R_ONB[:, 1],\n",
    "    y=R_ONB[:, 2],\n",
    "    mode='markers',\n",
    "    marker=dict(\n",
    "        size=R_ONB[:, 2] * 40,\n",
    "        color=colors_blue\n",
    "    ),\n",
    "    name='R_ONB'\n",
    "))\n",
    "\n",
    "# Highlight maximum value in R_ONB with a blue hollow circle and vertical/horizontal lines\n",
    "fig.add_trace(go.Scatter(\n",
    "    x=[R_ONB[max_idx_onb, 1]],\n",
    "    y=[R_ONB[max_idx_onb, 2]],\n",
    "    mode='markers',\n",
    "    marker=dict(\n",
    "        size=50,\n",
    "        color='rgba(0, 0, 255, 0)',\n",
    "        line=dict(color='blue', width=4)\n",
    "    ),\n",
    "    name='Max R_ONB'\n",
    "))\n",
    "\n",
    "fig.add_trace(go.Scatter(\n",
    "    x=[R_ONB[max_idx_onb, 1], R_ONB[max_idx_onb, 1]],\n",
    "    y=[-0.1, R_ONB[max_idx_onb, 2]],\n",
    "    mode='lines',\n",
    "    line=dict(color='blue', width=2, dash='dash'),\n",
    "    showlegend=False\n",
    "))\n",
    "\n",
    "fig.add_trace(go.Scatter(\n",
    "    x=[1, R_ONB[max_idx_onb, 1]],\n",
    "    y=[R_ONB[max_idx_onb, 2], R_ONB[max_idx_onb, 2]],\n",
    "    mode='lines',\n",
    "    line=dict(color='blue', width=2, dash='dash'),\n",
    "    showlegend=False\n",
    "))\n",
    "\n",
    "# Add black hollow circle at (5, 0.8025) with vertical and horizontal lines\n",
    "fig.add_trace(go.Scatter(\n",
    "    x=[2],\n",
    "    y=[0.8025],\n",
    "    mode='markers',\n",
    "    marker=dict(\n",
    "        size=50,\n",
    "        color='rgba(0, 0, 0, 0)',\n",
    "        line=dict(color='black', width=4)\n",
    "    ),\n",
    "    name='Custom Point'\n",
    "))\n",
    "\n",
    "fig.add_trace(go.Scatter(\n",
    "    x=[2, 2],\n",
    "    y=[-0.1, 0.8025],\n",
    "    mode='lines',\n",
    "    line=dict(color='black', width=2, dash='dash'),\n",
    "    showlegend=False\n",
    "))\n",
    "\n",
    "fig.add_trace(go.Scatter(\n",
    "    x=[1, 2],\n",
    "    y=[0.8025, 0.8025],\n",
    "    mode='lines',\n",
    "    line=dict(color='black', width=2, dash='dash'),\n",
    "    showlegend=False\n",
    "))\n",
    "\n",
    "# Update overall layout\n",
    "fig.update_layout(\n",
    "    font=dict(\n",
    "        family=font_family,\n",
    "        size=font_size,\n",
    "        color=font_color\n",
    "    ),\n",
    "    width=1600,\n",
    "    height=1600,\n",
    "    showlegend=False,\n",
    "    xaxis_title=\"Duration (s)\",\n",
    "    yaxis_title=\"F-beta Score\"\n",
    ")\n",
    "\n",
    "fig.update_xaxes(\n",
    "    range=[1, 11],\n",
    "    tick0=1,\n",
    "    dtick=1,\n",
    "    tickfont=dict(family=font_family, size=font_size, color=font_color)\n",
    ")\n",
    "\n",
    "fig.update_yaxes(\n",
    "    range=[-0.1, 1.2],\n",
    "    tick0=-0.1,\n",
    "    dtick=0.1,\n",
    "    tickfont=dict(family=font_family, size=font_size, color=font_color)\n",
    ")\n",
    "\n",
    "fig.show()\n"
   ]
  },
  {
   "cell_type": "code",
   "execution_count": 14,
   "metadata": {},
   "outputs": [
    {
     "data": {
      "application/vnd.plotly.v1+json": {
       "config": {
        "plotlyServerURL": "https://plot.ly"
       },
       "data": [
        {
         "marker": {
          "color": [
           1.0383970489604293,
           0.9090909090909091,
           1.0263467024668569,
           0.9060402684563759,
           0.9092286710107592,
           0.9357188093730209,
           0.9056258576002439,
           0.9121569829832898,
           0.7581721718295397,
           0.8536585365853658,
           1.0567364016736402,
           0.9620128268376912,
           1.069090909090909,
           0.8952959028831563,
           1.067,
           1.0794647282339338,
           0.9095043201455207,
           1.035228988424761,
           0.9124198962465669,
           1.0687813021702839,
           1.0801933977992664,
           1.044990801137314,
           0.9118587304003654,
           0.9090909090909091,
           0.6976744186046512,
           0.961288223812622,
           0.9605433376455369,
           0.8952959028831563,
           0.9115811900776137,
           0.7896981067712775,
           0.7040798760543984,
           1.0792591356582681,
           0.9304143862392494,
           0.9090909090909091,
           0.9090909090909091,
           0.911442483262325,
           0.9095043201455207,
           1.0806183510638299,
           0.9506985707403244,
           0.9097801364670205,
           0.9090909090909091,
           1.012939001848429,
           0.8473140145738011,
           1.0792591356582681,
           0.9090909090909091,
           0.9090909090909091,
           0.9090909090909091,
           0.9090909090909091,
           0.8552074513124471,
           1.0619039651999331,
           0.9090909090909091,
           1.0045408678102927,
           0.9090909090909091,
           1.0585774058577406,
           0.9090909090909091,
           1.0801933977992664,
           0.9117199391171994,
           0.9090909090909091,
           1.0435802883003689,
           0.9090909090909091,
           1.0767050191762548,
           0.9093678598629094,
           0.9118541033434651,
           0.9610685779442906,
           1.0750500333555706
          ],
          "colorscale": [
           [
            0,
            "rgb(255, 200, 200)"
           ],
           [
            1,
            "rgb(139, 0, 0)"
           ]
          ],
          "showscale": false,
          "size": 12
         },
         "mode": "markers",
         "name": "Virtual Environment Optimization",
         "showlegend": false,
         "type": "scatter3d",
         "x": [
          0.013923535641584465,
          0.0026146408317982025,
          0.011643475214904383,
          0.005005432033846695,
          0.0039153469204843885,
          0.007245180918271568,
          0.005027282759616603,
          0.006542010934350525,
          0.013517159802857382,
          0.014215911493829144,
          0.014793471864158891,
          0.00785881010401822,
          0.009039485070106856,
          0.01605782281740864,
          0.010120721845234892,
          0.011719451780694709,
          0.00248256543479497,
          0.016109626830173186,
          0.008156070921543487,
          0.01201013528743781,
          0.013389082238372195,
          0.01009335846919932,
          0.0032467103415035744,
          0.00032590821678964545,
          0.016619587135295637,
          0.0086275921493037,
          0.010640819864370344,
          0.01592725393000278,
          0.003108148269096591,
          0.015078681023016072,
          0.016075167653846978,
          0.013780462530580623,
          0.009519477574444334,
          0.000619871436045254,
          0.0029051431389135493,
          0.004316575194453414,
          0.0025706663549380972,
          0.012412515033221048,
          0.008801991642561095,
          0.005610467072248814,
          0.003136528223350605,
          0.012213494745159875,
          0.012370507034514859,
          0.01372025248568662,
          0.0010362450915465881,
          0.003821724714716561,
          0.002812494231551567,
          0.0007779668672428159,
          0.015741945124733838,
          0.01640084036303291,
          0.0031259605916464546,
          0.011420996402516061,
          0.0015692869453695572,
          0.016499984219656785,
          0.0013319993600479597,
          0.013434679814115849,
          0.006911113985965642,
          0.0007892782200614162,
          0.015587648112994854,
          0.0008758388039498983,
          0.0124851191684747,
          0.006099123745457028,
          0.006361633826713498,
          0.008171190187500805,
          0.012637453215235808
         ],
         "y": [
          4.8321011980118715,
          5.09359573065937,
          6.040586149844081,
          7.123012642117984,
          4.575489087361093,
          6.6187428458377315,
          6.107518058322045,
          5.230185236574166,
          9.683199162824087,
          6.736172164155384,
          3.605746069767968,
          8.97712425660999,
          6.376047828341818,
          4.809321008901322,
          6.7250069488223225,
          2.4252532226349404,
          8.11166106856976,
          3.131707789523354,
          2.064152590814718,
          4.055596659885152,
          2.790454050091408,
          7.580485384897242,
          8.303584427586394,
          3.4505014589852836,
          9.995617104219594,
          5.712276086780518,
          2.62713101574525,
          4.109261674047476,
          8.675088265083414,
          7.734720433247876,
          9.266133213814019,
          2.0329520819698867,
          2.992338520511921,
          2.3671642843491165,
          3.7543333503386043,
          5.607291994932785,
          7.33943454099101,
          2.015557557257843,
          4.371116330540877,
          2.005051387461844,
          3.243251805626832,
          6.224866777603471,
          8.602833774453934,
          2.630856999893795,
          2.4821973755033904,
          3.794611642682413,
          6.41506658025062,
          7.073647081483084,
          5.860080952114699,
          2.8611842912032577,
          4.376531847880266,
          7.977840074896267,
          5.377664144894675,
          2.000560265001064,
          2.9583956622781162,
          2.2642735928731197,
          2.3781228356106894,
          7.606405672760627,
          3.3994221931546598,
          8.36749586394299,
          3.848282872083818,
          4.058773347594962,
          2.0005602697077727,
          6.355507428473871,
          3.425562745999092
         ],
         "z": [
          1.0383970489604293,
          0.9090909090909091,
          1.0263467024668569,
          0.9060402684563759,
          0.9092286710107592,
          0.9357188093730209,
          0.9056258576002439,
          0.9121569829832898,
          0.7581721718295397,
          0.8536585365853658,
          1.0567364016736402,
          0.9620128268376912,
          1.069090909090909,
          0.8952959028831563,
          1.067,
          1.0794647282339338,
          0.9095043201455207,
          1.035228988424761,
          0.9124198962465669,
          1.0687813021702839,
          1.0801933977992664,
          1.044990801137314,
          0.9118587304003654,
          0.9090909090909091,
          0.6976744186046512,
          0.961288223812622,
          0.9605433376455369,
          0.8952959028831563,
          0.9115811900776137,
          0.7896981067712775,
          0.7040798760543984,
          1.0792591356582681,
          0.9304143862392494,
          0.9090909090909091,
          0.9090909090909091,
          0.911442483262325,
          0.9095043201455207,
          1.0806183510638299,
          0.9506985707403244,
          0.9097801364670205,
          0.9090909090909091,
          1.012939001848429,
          0.8473140145738011,
          1.0792591356582681,
          0.9090909090909091,
          0.9090909090909091,
          0.9090909090909091,
          0.9090909090909091,
          0.8552074513124471,
          1.0619039651999331,
          0.9090909090909091,
          1.0045408678102927,
          0.9090909090909091,
          1.0585774058577406,
          0.9090909090909091,
          1.0801933977992664,
          0.9117199391171994,
          0.9090909090909091,
          1.0435802883003689,
          0.9090909090909091,
          1.0767050191762548,
          0.9093678598629094,
          0.9118541033434651,
          0.9610685779442906,
          1.0750500333555706
         ]
        },
        {
         "marker": {
          "color": [
           1.0233706413658998,
           1.02771595827616,
           0.9406619437680717,
           1.0255642194709762,
           1.0265652826488212,
           0.9240974530247347,
           1.014243839920384,
           0.8155385434151085,
           0.9406521108734455,
           0.9459010016326396,
           1.0335518384587237,
           0.9405017578552228,
           1.0277883645484271,
           0.9422517371478997,
           1.0151259573970743,
           0.8988413209201451,
           1.0240018050547042,
           0.9394551323109314,
           0.8961761309257005,
           0.9428261365353983
          ],
          "colorscale": [
           [
            0,
            "rgb(200, 200, 255)"
           ],
           [
            1,
            "rgb(0, 0, 139)"
           ]
          ],
          "showscale": false,
          "size": 12
         },
         "mode": "markers",
         "name": "Real World Optimization",
         "showlegend": false,
         "type": "scatter3d",
         "x": [
          0.014222310196138586,
          0.013883494518965664,
          0.010248041919413328,
          0.01497529636343339,
          0.014515503028541194,
          0.00760179153809369,
          0.014413730018515874,
          0.004634354368245535,
          0.009923399687761878,
          0.010751548497234113,
          0.012099814987986561,
          0.010222527938828479,
          0.014578660083730833,
          0.009337771437114574,
          0.014036410216319422,
          0.0056840036644070936,
          0.0146367065301583,
          0.011657725194978536,
          0.013961813596054917,
          0.01181644919825968
         ],
         "y": [
          2.7258960092489266,
          2.483967788360471,
          2.7307013258547084,
          2.3010469175765733,
          2.4026727235866048,
          2.263614245404317,
          3.578116227878919,
          3.3895535862242623,
          2.6799531806853043,
          2.2508598727172755,
          2.507746520829172,
          2.7579690158074825,
          2.263474783399264,
          2.284176835058041,
          3.656135308543412,
          3.700766157976763,
          2.5874721400634764,
          2.5299691395591104,
          6.372083892230138,
          2.212400186759214
         ],
         "z": [
          1.0233706413658998,
          1.02771595827616,
          0.9406619437680717,
          1.0255642194709762,
          1.0265652826488212,
          0.9240974530247347,
          1.014243839920384,
          0.8155385434151085,
          0.9406521108734455,
          0.9459010016326396,
          1.0335518384587237,
          0.9405017578552228,
          1.0277883645484271,
          0.9422517371478997,
          1.0151259573970743,
          0.8988413209201451,
          1.0240018050547042,
          0.9394551323109314,
          0.8961761309257005,
          0.9428261365353983
         ]
        }
       ],
       "layout": {
        "autosize": false,
        "font": {
         "color": "black",
         "family": "Times New Roman",
         "size": 18
        },
        "height": 1600,
        "scene": {
         "camera": {
          "eye": {
           "x": 1.25,
           "y": 1.25,
           "z": 1.25
          },
          "projection": {
           "type": "perspective"
          }
         },
         "xaxis": {
          "range": [
           0,
           0.018
          ],
          "tickfont": {
           "color": "black",
           "family": "Times New Roman",
           "size": 22
          },
          "title": {
           "font": {
            "color": "black",
            "family": "Times New Roman",
            "size": 42
           },
           "text": "Threshold"
          }
         },
         "yaxis": {
          "range": [
           0,
           11
          ],
          "tickfont": {
           "color": "black",
           "family": "Times New Roman",
           "size": 22
          },
          "title": {
           "font": {
            "color": "black",
            "family": "Times New Roman",
            "size": 42
           },
           "text": "Duration"
          }
         },
         "zaxis": {
          "range": [
           0,
           1.2
          ],
          "tickfont": {
           "color": "black",
           "family": "Times New Roman",
           "size": 22
          },
          "title": {
           "font": {
            "color": "black",
            "family": "Times New Roman",
            "size": 42
           },
           "text": "F-beta"
          }
         }
        },
        "showlegend": false,
        "template": {
         "data": {
          "bar": [
           {
            "error_x": {
             "color": "#2a3f5f"
            },
            "error_y": {
             "color": "#2a3f5f"
            },
            "marker": {
             "line": {
              "color": "#E5ECF6",
              "width": 0.5
             },
             "pattern": {
              "fillmode": "overlay",
              "size": 10,
              "solidity": 0.2
             }
            },
            "type": "bar"
           }
          ],
          "barpolar": [
           {
            "marker": {
             "line": {
              "color": "#E5ECF6",
              "width": 0.5
             },
             "pattern": {
              "fillmode": "overlay",
              "size": 10,
              "solidity": 0.2
             }
            },
            "type": "barpolar"
           }
          ],
          "carpet": [
           {
            "aaxis": {
             "endlinecolor": "#2a3f5f",
             "gridcolor": "white",
             "linecolor": "white",
             "minorgridcolor": "white",
             "startlinecolor": "#2a3f5f"
            },
            "baxis": {
             "endlinecolor": "#2a3f5f",
             "gridcolor": "white",
             "linecolor": "white",
             "minorgridcolor": "white",
             "startlinecolor": "#2a3f5f"
            },
            "type": "carpet"
           }
          ],
          "choropleth": [
           {
            "colorbar": {
             "outlinewidth": 0,
             "ticks": ""
            },
            "type": "choropleth"
           }
          ],
          "contour": [
           {
            "colorbar": {
             "outlinewidth": 0,
             "ticks": ""
            },
            "colorscale": [
             [
              0,
              "#0d0887"
             ],
             [
              0.1111111111111111,
              "#46039f"
             ],
             [
              0.2222222222222222,
              "#7201a8"
             ],
             [
              0.3333333333333333,
              "#9c179e"
             ],
             [
              0.4444444444444444,
              "#bd3786"
             ],
             [
              0.5555555555555556,
              "#d8576b"
             ],
             [
              0.6666666666666666,
              "#ed7953"
             ],
             [
              0.7777777777777778,
              "#fb9f3a"
             ],
             [
              0.8888888888888888,
              "#fdca26"
             ],
             [
              1,
              "#f0f921"
             ]
            ],
            "type": "contour"
           }
          ],
          "contourcarpet": [
           {
            "colorbar": {
             "outlinewidth": 0,
             "ticks": ""
            },
            "type": "contourcarpet"
           }
          ],
          "heatmap": [
           {
            "colorbar": {
             "outlinewidth": 0,
             "ticks": ""
            },
            "colorscale": [
             [
              0,
              "#0d0887"
             ],
             [
              0.1111111111111111,
              "#46039f"
             ],
             [
              0.2222222222222222,
              "#7201a8"
             ],
             [
              0.3333333333333333,
              "#9c179e"
             ],
             [
              0.4444444444444444,
              "#bd3786"
             ],
             [
              0.5555555555555556,
              "#d8576b"
             ],
             [
              0.6666666666666666,
              "#ed7953"
             ],
             [
              0.7777777777777778,
              "#fb9f3a"
             ],
             [
              0.8888888888888888,
              "#fdca26"
             ],
             [
              1,
              "#f0f921"
             ]
            ],
            "type": "heatmap"
           }
          ],
          "heatmapgl": [
           {
            "colorbar": {
             "outlinewidth": 0,
             "ticks": ""
            },
            "colorscale": [
             [
              0,
              "#0d0887"
             ],
             [
              0.1111111111111111,
              "#46039f"
             ],
             [
              0.2222222222222222,
              "#7201a8"
             ],
             [
              0.3333333333333333,
              "#9c179e"
             ],
             [
              0.4444444444444444,
              "#bd3786"
             ],
             [
              0.5555555555555556,
              "#d8576b"
             ],
             [
              0.6666666666666666,
              "#ed7953"
             ],
             [
              0.7777777777777778,
              "#fb9f3a"
             ],
             [
              0.8888888888888888,
              "#fdca26"
             ],
             [
              1,
              "#f0f921"
             ]
            ],
            "type": "heatmapgl"
           }
          ],
          "histogram": [
           {
            "marker": {
             "pattern": {
              "fillmode": "overlay",
              "size": 10,
              "solidity": 0.2
             }
            },
            "type": "histogram"
           }
          ],
          "histogram2d": [
           {
            "colorbar": {
             "outlinewidth": 0,
             "ticks": ""
            },
            "colorscale": [
             [
              0,
              "#0d0887"
             ],
             [
              0.1111111111111111,
              "#46039f"
             ],
             [
              0.2222222222222222,
              "#7201a8"
             ],
             [
              0.3333333333333333,
              "#9c179e"
             ],
             [
              0.4444444444444444,
              "#bd3786"
             ],
             [
              0.5555555555555556,
              "#d8576b"
             ],
             [
              0.6666666666666666,
              "#ed7953"
             ],
             [
              0.7777777777777778,
              "#fb9f3a"
             ],
             [
              0.8888888888888888,
              "#fdca26"
             ],
             [
              1,
              "#f0f921"
             ]
            ],
            "type": "histogram2d"
           }
          ],
          "histogram2dcontour": [
           {
            "colorbar": {
             "outlinewidth": 0,
             "ticks": ""
            },
            "colorscale": [
             [
              0,
              "#0d0887"
             ],
             [
              0.1111111111111111,
              "#46039f"
             ],
             [
              0.2222222222222222,
              "#7201a8"
             ],
             [
              0.3333333333333333,
              "#9c179e"
             ],
             [
              0.4444444444444444,
              "#bd3786"
             ],
             [
              0.5555555555555556,
              "#d8576b"
             ],
             [
              0.6666666666666666,
              "#ed7953"
             ],
             [
              0.7777777777777778,
              "#fb9f3a"
             ],
             [
              0.8888888888888888,
              "#fdca26"
             ],
             [
              1,
              "#f0f921"
             ]
            ],
            "type": "histogram2dcontour"
           }
          ],
          "mesh3d": [
           {
            "colorbar": {
             "outlinewidth": 0,
             "ticks": ""
            },
            "type": "mesh3d"
           }
          ],
          "parcoords": [
           {
            "line": {
             "colorbar": {
              "outlinewidth": 0,
              "ticks": ""
             }
            },
            "type": "parcoords"
           }
          ],
          "pie": [
           {
            "automargin": true,
            "type": "pie"
           }
          ],
          "scatter": [
           {
            "fillpattern": {
             "fillmode": "overlay",
             "size": 10,
             "solidity": 0.2
            },
            "type": "scatter"
           }
          ],
          "scatter3d": [
           {
            "line": {
             "colorbar": {
              "outlinewidth": 0,
              "ticks": ""
             }
            },
            "marker": {
             "colorbar": {
              "outlinewidth": 0,
              "ticks": ""
             }
            },
            "type": "scatter3d"
           }
          ],
          "scattercarpet": [
           {
            "marker": {
             "colorbar": {
              "outlinewidth": 0,
              "ticks": ""
             }
            },
            "type": "scattercarpet"
           }
          ],
          "scattergeo": [
           {
            "marker": {
             "colorbar": {
              "outlinewidth": 0,
              "ticks": ""
             }
            },
            "type": "scattergeo"
           }
          ],
          "scattergl": [
           {
            "marker": {
             "colorbar": {
              "outlinewidth": 0,
              "ticks": ""
             }
            },
            "type": "scattergl"
           }
          ],
          "scattermapbox": [
           {
            "marker": {
             "colorbar": {
              "outlinewidth": 0,
              "ticks": ""
             }
            },
            "type": "scattermapbox"
           }
          ],
          "scatterpolar": [
           {
            "marker": {
             "colorbar": {
              "outlinewidth": 0,
              "ticks": ""
             }
            },
            "type": "scatterpolar"
           }
          ],
          "scatterpolargl": [
           {
            "marker": {
             "colorbar": {
              "outlinewidth": 0,
              "ticks": ""
             }
            },
            "type": "scatterpolargl"
           }
          ],
          "scatterternary": [
           {
            "marker": {
             "colorbar": {
              "outlinewidth": 0,
              "ticks": ""
             }
            },
            "type": "scatterternary"
           }
          ],
          "surface": [
           {
            "colorbar": {
             "outlinewidth": 0,
             "ticks": ""
            },
            "colorscale": [
             [
              0,
              "#0d0887"
             ],
             [
              0.1111111111111111,
              "#46039f"
             ],
             [
              0.2222222222222222,
              "#7201a8"
             ],
             [
              0.3333333333333333,
              "#9c179e"
             ],
             [
              0.4444444444444444,
              "#bd3786"
             ],
             [
              0.5555555555555556,
              "#d8576b"
             ],
             [
              0.6666666666666666,
              "#ed7953"
             ],
             [
              0.7777777777777778,
              "#fb9f3a"
             ],
             [
              0.8888888888888888,
              "#fdca26"
             ],
             [
              1,
              "#f0f921"
             ]
            ],
            "type": "surface"
           }
          ],
          "table": [
           {
            "cells": {
             "fill": {
              "color": "#EBF0F8"
             },
             "line": {
              "color": "white"
             }
            },
            "header": {
             "fill": {
              "color": "#C8D4E3"
             },
             "line": {
              "color": "white"
             }
            },
            "type": "table"
           }
          ]
         },
         "layout": {
          "annotationdefaults": {
           "arrowcolor": "#2a3f5f",
           "arrowhead": 0,
           "arrowwidth": 1
          },
          "autotypenumbers": "strict",
          "coloraxis": {
           "colorbar": {
            "outlinewidth": 0,
            "ticks": ""
           }
          },
          "colorscale": {
           "diverging": [
            [
             0,
             "#8e0152"
            ],
            [
             0.1,
             "#c51b7d"
            ],
            [
             0.2,
             "#de77ae"
            ],
            [
             0.3,
             "#f1b6da"
            ],
            [
             0.4,
             "#fde0ef"
            ],
            [
             0.5,
             "#f7f7f7"
            ],
            [
             0.6,
             "#e6f5d0"
            ],
            [
             0.7,
             "#b8e186"
            ],
            [
             0.8,
             "#7fbc41"
            ],
            [
             0.9,
             "#4d9221"
            ],
            [
             1,
             "#276419"
            ]
           ],
           "sequential": [
            [
             0,
             "#0d0887"
            ],
            [
             0.1111111111111111,
             "#46039f"
            ],
            [
             0.2222222222222222,
             "#7201a8"
            ],
            [
             0.3333333333333333,
             "#9c179e"
            ],
            [
             0.4444444444444444,
             "#bd3786"
            ],
            [
             0.5555555555555556,
             "#d8576b"
            ],
            [
             0.6666666666666666,
             "#ed7953"
            ],
            [
             0.7777777777777778,
             "#fb9f3a"
            ],
            [
             0.8888888888888888,
             "#fdca26"
            ],
            [
             1,
             "#f0f921"
            ]
           ],
           "sequentialminus": [
            [
             0,
             "#0d0887"
            ],
            [
             0.1111111111111111,
             "#46039f"
            ],
            [
             0.2222222222222222,
             "#7201a8"
            ],
            [
             0.3333333333333333,
             "#9c179e"
            ],
            [
             0.4444444444444444,
             "#bd3786"
            ],
            [
             0.5555555555555556,
             "#d8576b"
            ],
            [
             0.6666666666666666,
             "#ed7953"
            ],
            [
             0.7777777777777778,
             "#fb9f3a"
            ],
            [
             0.8888888888888888,
             "#fdca26"
            ],
            [
             1,
             "#f0f921"
            ]
           ]
          },
          "colorway": [
           "#636efa",
           "#EF553B",
           "#00cc96",
           "#ab63fa",
           "#FFA15A",
           "#19d3f3",
           "#FF6692",
           "#B6E880",
           "#FF97FF",
           "#FECB52"
          ],
          "font": {
           "color": "#2a3f5f"
          },
          "geo": {
           "bgcolor": "white",
           "lakecolor": "white",
           "landcolor": "#E5ECF6",
           "showlakes": true,
           "showland": true,
           "subunitcolor": "white"
          },
          "hoverlabel": {
           "align": "left"
          },
          "hovermode": "closest",
          "mapbox": {
           "style": "light"
          },
          "paper_bgcolor": "white",
          "plot_bgcolor": "#E5ECF6",
          "polar": {
           "angularaxis": {
            "gridcolor": "white",
            "linecolor": "white",
            "ticks": ""
           },
           "bgcolor": "#E5ECF6",
           "radialaxis": {
            "gridcolor": "white",
            "linecolor": "white",
            "ticks": ""
           }
          },
          "scene": {
           "xaxis": {
            "backgroundcolor": "#E5ECF6",
            "gridcolor": "white",
            "gridwidth": 2,
            "linecolor": "white",
            "showbackground": true,
            "ticks": "",
            "zerolinecolor": "white"
           },
           "yaxis": {
            "backgroundcolor": "#E5ECF6",
            "gridcolor": "white",
            "gridwidth": 2,
            "linecolor": "white",
            "showbackground": true,
            "ticks": "",
            "zerolinecolor": "white"
           },
           "zaxis": {
            "backgroundcolor": "#E5ECF6",
            "gridcolor": "white",
            "gridwidth": 2,
            "linecolor": "white",
            "showbackground": true,
            "ticks": "",
            "zerolinecolor": "white"
           }
          },
          "shapedefaults": {
           "line": {
            "color": "#2a3f5f"
           }
          },
          "ternary": {
           "aaxis": {
            "gridcolor": "white",
            "linecolor": "white",
            "ticks": ""
           },
           "baxis": {
            "gridcolor": "white",
            "linecolor": "white",
            "ticks": ""
           },
           "bgcolor": "#E5ECF6",
           "caxis": {
            "gridcolor": "white",
            "linecolor": "white",
            "ticks": ""
           }
          },
          "title": {
           "x": 0.05
          },
          "xaxis": {
           "automargin": true,
           "gridcolor": "white",
           "linecolor": "white",
           "ticks": "",
           "title": {
            "standoff": 15
           },
           "zerolinecolor": "white",
           "zerolinewidth": 2
          },
          "yaxis": {
           "automargin": true,
           "gridcolor": "white",
           "linecolor": "white",
           "ticks": "",
           "title": {
            "standoff": 15
           },
           "zerolinecolor": "white",
           "zerolinewidth": 2
          }
         }
        },
        "width": 1600
       }
      }
     },
     "metadata": {},
     "output_type": "display_data"
    }
   ],
   "source": [
    "import plotly.graph_objects as go\n",
    "import numpy as np\n",
    "\n",
    "# Load the data\n",
    "# D = np.load('D.npy')\n",
    "\n",
    "# Get the number of rows in D\n",
    "num_D = D.shape[0]\n",
    "\n",
    "# Define stage_virtual_num to determine the cutoff for red vs. blue\n",
    "stage_virtual_num = 65  # Set your desired value for stage_virtual_num, ensure it's an integer\n",
    "\n",
    "# -----------------------\n",
    "# Customization variables:\n",
    "# -----------------------\n",
    "FONT_FAMILY = 'Times New Roman'    # Global font family\n",
    "GLOBAL_FONT_SIZE = 18              # Global font size for texts\n",
    "AXIS_TITLE_FONT_SIZE = 42          # Font size for axis titles\n",
    "TICK_FONT_SIZE = 22               # Font size for axis tick labels\n",
    "MARKER_SIZE = 12                   # Marker size for scatter points (enlarged for better visibility)\n",
    "\n",
    "# Color definitions for the red and blue color scales:\n",
    "RED_LIGHT = 'rgb(255, 200, 200)'     # Light red\n",
    "RED_DARK = 'rgb(139, 0, 0)'           # Dark red\n",
    "BLUE_LIGHT = 'rgb(200, 200, 255)'     # Light blue\n",
    "BLUE_DARK = 'rgb(0, 0, 139)'          # Dark blue\n",
    "\n",
    "# -----------------------\n",
    "# Split the data into parts\n",
    "# -----------------------\n",
    "thresholds = D[:, 0]\n",
    "durations = D[:, 1]\n",
    "F_beta = D[:, 2]\n",
    "\n",
    "# Create a 3D scatter plot\n",
    "fig = go.Figure()\n",
    "\n",
    "# Define red color scale using the customization variables\n",
    "red_colorscale = [\n",
    "    [0.0, RED_LIGHT],\n",
    "    [1.0, RED_DARK]\n",
    "]\n",
    "\n",
    "# Add red-colored points for the first stage_virtual_num data\n",
    "fig.add_trace(go.Scatter3d(\n",
    "    x=thresholds[:stage_virtual_num],      # x-axis data (first part)\n",
    "    y=durations[:stage_virtual_num],         # y-axis data (first part)\n",
    "    z=F_beta[:stage_virtual_num],            # z-axis data (first part)\n",
    "    mode='markers',\n",
    "    marker=dict(\n",
    "        size=MARKER_SIZE,\n",
    "        color=F_beta[:stage_virtual_num],    # color determined by F-beta values\n",
    "        colorscale=red_colorscale,\n",
    "        showscale=False                      # Cancel colorbar\n",
    "    ),\n",
    "    name='Virtual Environment Optimization',\n",
    "    showlegend=False                         # Cancel legend\n",
    "))\n",
    "\n",
    "# Define blue color scale using the customization variables\n",
    "blue_colorscale = [\n",
    "    [0.0, BLUE_LIGHT],\n",
    "    [1.0, BLUE_DARK]\n",
    "]\n",
    "\n",
    "# Add blue-colored points for the remaining data\n",
    "fig.add_trace(go.Scatter3d(\n",
    "    x=thresholds[stage_virtual_num:],      # x-axis data (second part)\n",
    "    y=durations[stage_virtual_num:],         # y-axis data (second part)\n",
    "    z=F_beta[stage_virtual_num:],            # z-axis data (second part)\n",
    "    mode='markers',\n",
    "    marker=dict(\n",
    "        size=MARKER_SIZE,\n",
    "        color=F_beta[stage_virtual_num:],    # color determined by F-beta values\n",
    "        colorscale=blue_colorscale,\n",
    "        showscale=False                      # Cancel colorbar\n",
    "    ),\n",
    "    name='Real World Optimization',\n",
    "    showlegend=False                         # Cancel legend\n",
    "))\n",
    "\n",
    "# Set axis labels, fonts, axis limits, and ranges\n",
    "fig.update_layout(\n",
    "    scene=dict(\n",
    "        xaxis=dict(\n",
    "            title='Threshold',\n",
    "            titlefont=dict(family=FONT_FAMILY, size=AXIS_TITLE_FONT_SIZE, color='black'),\n",
    "            tickfont=dict(family=FONT_FAMILY, size=TICK_FONT_SIZE, color='black'),\n",
    "            range=[0, 0.018]   # x-axis range\n",
    "        ),\n",
    "        yaxis=dict(\n",
    "            title='Duration',\n",
    "            titlefont=dict(family=FONT_FAMILY, size=AXIS_TITLE_FONT_SIZE, color='black'),\n",
    "            tickfont=dict(family=FONT_FAMILY, size=TICK_FONT_SIZE, color='black'),\n",
    "            range=[0, 11]     # y-axis range\n",
    "        ),\n",
    "        zaxis=dict(\n",
    "            title='F-beta',\n",
    "            titlefont=dict(family=FONT_FAMILY, size=AXIS_TITLE_FONT_SIZE, color='black'),\n",
    "            tickfont=dict(family=FONT_FAMILY, size=TICK_FONT_SIZE, color='black'),\n",
    "            range=[0.0, 1.2]  # z-axis range\n",
    "        ),\n",
    "        camera=dict(\n",
    "            eye=dict(x=1.25, y=1.25, z=1.25),\n",
    "            projection=dict(type=\"perspective\")  # Use perspective projection\n",
    "        )\n",
    "    ),\n",
    "    font=dict(family=FONT_FAMILY, size=GLOBAL_FONT_SIZE, color='black'),  # Global font settings\n",
    "    autosize=False,\n",
    "    width=1600,   # Figure width in pixels\n",
    "    height=1600,  # Figure height in pixels\n",
    "    showlegend=False  # Global setting to cancel legend\n",
    ")\n",
    "\n",
    "# Show the plot\n",
    "fig.show()\n"
   ]
  },
  {
   "cell_type": "code",
   "execution_count": 15,
   "metadata": {},
   "outputs": [
    {
     "data": {
      "application/vnd.plotly.v1+json": {
       "config": {
        "plotlyServerURL": "https://plot.ly"
       },
       "data": [
        {
         "marker": {
          "color": "red",
          "size": 12
         },
         "mode": "markers",
         "showlegend": false,
         "type": "scatter3d",
         "x": [
          0.013923535641584465,
          0.0026146408317982025,
          0.011643475214904383,
          0.005005432033846695,
          0.0039153469204843885,
          0.007245180918271568,
          0.005027282759616603,
          0.006542010934350525,
          0.013517159802857382,
          0.014215911493829144,
          0.014793471864158891,
          0.00785881010401822,
          0.009039485070106856,
          0.01605782281740864,
          0.010120721845234892,
          0.011719451780694709,
          0.00248256543479497,
          0.016109626830173186,
          0.008156070921543487,
          0.01201013528743781,
          0.013389082238372195,
          0.01009335846919932,
          0.0032467103415035744,
          0.00032590821678964545,
          0.016619587135295637,
          0.0086275921493037,
          0.010640819864370344,
          0.01592725393000278,
          0.003108148269096591,
          0.015078681023016072,
          0.016075167653846978,
          0.013780462530580623,
          0.009519477574444334,
          0.000619871436045254,
          0.0029051431389135493,
          0.004316575194453414,
          0.0025706663549380972,
          0.012412515033221048,
          0.008801991642561095,
          0.005610467072248814,
          0.003136528223350605,
          0.012213494745159875,
          0.012370507034514859,
          0.01372025248568662,
          0.0010362450915465881,
          0.003821724714716561,
          0.002812494231551567,
          0.0007779668672428159,
          0.015741945124733838,
          0.01640084036303291,
          0.0031259605916464546,
          0.011420996402516061,
          0.0015692869453695572,
          0.016499984219656785,
          0.0013319993600479597,
          0.013434679814115849,
          0.006911113985965642,
          0.0007892782200614162,
          0.015587648112994854,
          0.0008758388039498983,
          0.0124851191684747,
          0.006099123745457028,
          0.006361633826713498,
          0.008171190187500805,
          0.012637453215235808
         ],
         "y": [
          4.8321011980118715,
          5.09359573065937,
          6.040586149844081,
          7.123012642117984,
          4.575489087361093,
          6.6187428458377315,
          6.107518058322045,
          5.230185236574166,
          9.683199162824087,
          6.736172164155384,
          3.605746069767968,
          8.97712425660999,
          6.376047828341818,
          4.809321008901322,
          6.7250069488223225,
          2.4252532226349404,
          8.11166106856976,
          3.131707789523354,
          2.064152590814718,
          4.055596659885152,
          2.790454050091408,
          7.580485384897242,
          8.303584427586394,
          3.4505014589852836,
          9.995617104219594,
          5.712276086780518,
          2.62713101574525,
          4.109261674047476,
          8.675088265083414,
          7.734720433247876,
          9.266133213814019,
          2.0329520819698867,
          2.992338520511921,
          2.3671642843491165,
          3.7543333503386043,
          5.607291994932785,
          7.33943454099101,
          2.015557557257843,
          4.371116330540877,
          2.005051387461844,
          3.243251805626832,
          6.224866777603471,
          8.602833774453934,
          2.630856999893795,
          2.4821973755033904,
          3.794611642682413,
          6.41506658025062,
          7.073647081483084,
          5.860080952114699,
          2.8611842912032577,
          4.376531847880266,
          7.977840074896267,
          5.377664144894675,
          2.000560265001064,
          2.9583956622781162,
          2.2642735928731197,
          2.3781228356106894,
          7.606405672760627,
          3.3994221931546598,
          8.36749586394299,
          3.848282872083818,
          4.058773347594962,
          2.0005602697077727,
          6.355507428473871,
          3.425562745999092
         ],
         "z": [
          1.0383970489604293,
          0.9090909090909091,
          1.0263467024668569,
          0.9060402684563759,
          0.9092286710107592,
          0.9357188093730209,
          0.9056258576002439,
          0.9121569829832898,
          0.7581721718295397,
          0.8536585365853658,
          1.0567364016736402,
          0.9620128268376912,
          1.069090909090909,
          0.8952959028831563,
          1.067,
          1.0794647282339338,
          0.9095043201455207,
          1.035228988424761,
          0.9124198962465669,
          1.0687813021702839,
          1.0801933977992664,
          1.044990801137314,
          0.9118587304003654,
          0.9090909090909091,
          0.6976744186046512,
          0.961288223812622,
          0.9605433376455369,
          0.8952959028831563,
          0.9115811900776137,
          0.7896981067712775,
          0.7040798760543984,
          1.0792591356582681,
          0.9304143862392494,
          0.9090909090909091,
          0.9090909090909091,
          0.911442483262325,
          0.9095043201455207,
          1.0806183510638299,
          0.9506985707403244,
          0.9097801364670205,
          0.9090909090909091,
          1.012939001848429,
          0.8473140145738011,
          1.0792591356582681,
          0.9090909090909091,
          0.9090909090909091,
          0.9090909090909091,
          0.9090909090909091,
          0.8552074513124471,
          1.0619039651999331,
          0.9090909090909091,
          1.0045408678102927,
          0.9090909090909091,
          1.0585774058577406,
          0.9090909090909091,
          1.0801933977992664,
          0.9117199391171994,
          0.9090909090909091,
          1.0435802883003689,
          0.9090909090909091,
          1.0767050191762548,
          0.9093678598629094,
          0.9118541033434651,
          0.9610685779442906,
          1.0750500333555706
         ]
        },
        {
         "marker": {
          "color": "blue",
          "size": 12
         },
         "mode": "markers",
         "showlegend": false,
         "type": "scatter3d",
         "x": [
          0.014222310196138586,
          0.013883494518965664,
          0.010248041919413328,
          0.01497529636343339,
          0.014515503028541194,
          0.00760179153809369,
          0.014413730018515874,
          0.004634354368245535,
          0.009923399687761878,
          0.010751548497234113,
          0.012099814987986561,
          0.010222527938828479,
          0.014578660083730833,
          0.009337771437114574,
          0.014036410216319422,
          0.0056840036644070936,
          0.0146367065301583,
          0.011657725194978536,
          0.013961813596054917,
          0.01181644919825968
         ],
         "y": [
          2.7258960092489266,
          2.483967788360471,
          2.7307013258547084,
          2.3010469175765733,
          2.4026727235866048,
          2.263614245404317,
          3.578116227878919,
          3.3895535862242623,
          2.6799531806853043,
          2.2508598727172755,
          2.507746520829172,
          2.7579690158074825,
          2.263474783399264,
          2.284176835058041,
          3.656135308543412,
          3.700766157976763,
          2.5874721400634764,
          2.5299691395591104,
          6.372083892230138,
          2.212400186759214
         ],
         "z": [
          1.0233706413658998,
          1.02771595827616,
          0.9406619437680717,
          1.0255642194709762,
          1.0265652826488212,
          0.9240974530247347,
          1.014243839920384,
          0.8155385434151085,
          0.9406521108734455,
          0.9459010016326396,
          1.0335518384587237,
          0.9405017578552228,
          1.0277883645484271,
          0.9422517371478997,
          1.0151259573970743,
          0.8988413209201451,
          1.0240018050547042,
          0.9394551323109314,
          0.8961761309257005,
          0.9428261365353983
         ]
        }
       ],
       "layout": {
        "font": {
         "color": "black",
         "family": "Times New Roman"
        },
        "height": 2000,
        "scene": {
         "xaxis": {
          "dtick": 0.005,
          "range": [
           -0.002,
           0.018
          ],
          "tick0": -0.002,
          "tickfont": {
           "color": "black",
           "family": "Times New Roman",
           "size": 22
          },
          "title": {
           "font": {
            "color": "black",
            "family": "Times New Roman",
            "size": 36
           },
           "text": "Threshold(g)"
          }
         },
         "yaxis": {
          "dtick": 2,
          "range": [
           1,
           11
          ],
          "tick0": 1,
          "tickfont": {
           "color": "black",
           "family": "Times New Roman",
           "size": 22
          },
          "title": {
           "font": {
            "color": "black",
            "family": "Times New Roman",
            "size": 36
           },
           "text": "Duration(s)"
          }
         },
         "zaxis": {
          "dtick": 0.2,
          "range": [
           0,
           1.2
          ],
          "tick0": 0,
          "tickfont": {
           "color": "black",
           "family": "Times New Roman",
           "size": 22
          },
          "title": {
           "font": {
            "color": "black",
            "family": "Times New Roman",
            "size": 36
           },
           "text": "F-Beta"
          }
         }
        },
        "showlegend": false,
        "template": {
         "data": {
          "bar": [
           {
            "error_x": {
             "color": "#2a3f5f"
            },
            "error_y": {
             "color": "#2a3f5f"
            },
            "marker": {
             "line": {
              "color": "#E5ECF6",
              "width": 0.5
             },
             "pattern": {
              "fillmode": "overlay",
              "size": 10,
              "solidity": 0.2
             }
            },
            "type": "bar"
           }
          ],
          "barpolar": [
           {
            "marker": {
             "line": {
              "color": "#E5ECF6",
              "width": 0.5
             },
             "pattern": {
              "fillmode": "overlay",
              "size": 10,
              "solidity": 0.2
             }
            },
            "type": "barpolar"
           }
          ],
          "carpet": [
           {
            "aaxis": {
             "endlinecolor": "#2a3f5f",
             "gridcolor": "white",
             "linecolor": "white",
             "minorgridcolor": "white",
             "startlinecolor": "#2a3f5f"
            },
            "baxis": {
             "endlinecolor": "#2a3f5f",
             "gridcolor": "white",
             "linecolor": "white",
             "minorgridcolor": "white",
             "startlinecolor": "#2a3f5f"
            },
            "type": "carpet"
           }
          ],
          "choropleth": [
           {
            "colorbar": {
             "outlinewidth": 0,
             "ticks": ""
            },
            "type": "choropleth"
           }
          ],
          "contour": [
           {
            "colorbar": {
             "outlinewidth": 0,
             "ticks": ""
            },
            "colorscale": [
             [
              0,
              "#0d0887"
             ],
             [
              0.1111111111111111,
              "#46039f"
             ],
             [
              0.2222222222222222,
              "#7201a8"
             ],
             [
              0.3333333333333333,
              "#9c179e"
             ],
             [
              0.4444444444444444,
              "#bd3786"
             ],
             [
              0.5555555555555556,
              "#d8576b"
             ],
             [
              0.6666666666666666,
              "#ed7953"
             ],
             [
              0.7777777777777778,
              "#fb9f3a"
             ],
             [
              0.8888888888888888,
              "#fdca26"
             ],
             [
              1,
              "#f0f921"
             ]
            ],
            "type": "contour"
           }
          ],
          "contourcarpet": [
           {
            "colorbar": {
             "outlinewidth": 0,
             "ticks": ""
            },
            "type": "contourcarpet"
           }
          ],
          "heatmap": [
           {
            "colorbar": {
             "outlinewidth": 0,
             "ticks": ""
            },
            "colorscale": [
             [
              0,
              "#0d0887"
             ],
             [
              0.1111111111111111,
              "#46039f"
             ],
             [
              0.2222222222222222,
              "#7201a8"
             ],
             [
              0.3333333333333333,
              "#9c179e"
             ],
             [
              0.4444444444444444,
              "#bd3786"
             ],
             [
              0.5555555555555556,
              "#d8576b"
             ],
             [
              0.6666666666666666,
              "#ed7953"
             ],
             [
              0.7777777777777778,
              "#fb9f3a"
             ],
             [
              0.8888888888888888,
              "#fdca26"
             ],
             [
              1,
              "#f0f921"
             ]
            ],
            "type": "heatmap"
           }
          ],
          "heatmapgl": [
           {
            "colorbar": {
             "outlinewidth": 0,
             "ticks": ""
            },
            "colorscale": [
             [
              0,
              "#0d0887"
             ],
             [
              0.1111111111111111,
              "#46039f"
             ],
             [
              0.2222222222222222,
              "#7201a8"
             ],
             [
              0.3333333333333333,
              "#9c179e"
             ],
             [
              0.4444444444444444,
              "#bd3786"
             ],
             [
              0.5555555555555556,
              "#d8576b"
             ],
             [
              0.6666666666666666,
              "#ed7953"
             ],
             [
              0.7777777777777778,
              "#fb9f3a"
             ],
             [
              0.8888888888888888,
              "#fdca26"
             ],
             [
              1,
              "#f0f921"
             ]
            ],
            "type": "heatmapgl"
           }
          ],
          "histogram": [
           {
            "marker": {
             "pattern": {
              "fillmode": "overlay",
              "size": 10,
              "solidity": 0.2
             }
            },
            "type": "histogram"
           }
          ],
          "histogram2d": [
           {
            "colorbar": {
             "outlinewidth": 0,
             "ticks": ""
            },
            "colorscale": [
             [
              0,
              "#0d0887"
             ],
             [
              0.1111111111111111,
              "#46039f"
             ],
             [
              0.2222222222222222,
              "#7201a8"
             ],
             [
              0.3333333333333333,
              "#9c179e"
             ],
             [
              0.4444444444444444,
              "#bd3786"
             ],
             [
              0.5555555555555556,
              "#d8576b"
             ],
             [
              0.6666666666666666,
              "#ed7953"
             ],
             [
              0.7777777777777778,
              "#fb9f3a"
             ],
             [
              0.8888888888888888,
              "#fdca26"
             ],
             [
              1,
              "#f0f921"
             ]
            ],
            "type": "histogram2d"
           }
          ],
          "histogram2dcontour": [
           {
            "colorbar": {
             "outlinewidth": 0,
             "ticks": ""
            },
            "colorscale": [
             [
              0,
              "#0d0887"
             ],
             [
              0.1111111111111111,
              "#46039f"
             ],
             [
              0.2222222222222222,
              "#7201a8"
             ],
             [
              0.3333333333333333,
              "#9c179e"
             ],
             [
              0.4444444444444444,
              "#bd3786"
             ],
             [
              0.5555555555555556,
              "#d8576b"
             ],
             [
              0.6666666666666666,
              "#ed7953"
             ],
             [
              0.7777777777777778,
              "#fb9f3a"
             ],
             [
              0.8888888888888888,
              "#fdca26"
             ],
             [
              1,
              "#f0f921"
             ]
            ],
            "type": "histogram2dcontour"
           }
          ],
          "mesh3d": [
           {
            "colorbar": {
             "outlinewidth": 0,
             "ticks": ""
            },
            "type": "mesh3d"
           }
          ],
          "parcoords": [
           {
            "line": {
             "colorbar": {
              "outlinewidth": 0,
              "ticks": ""
             }
            },
            "type": "parcoords"
           }
          ],
          "pie": [
           {
            "automargin": true,
            "type": "pie"
           }
          ],
          "scatter": [
           {
            "fillpattern": {
             "fillmode": "overlay",
             "size": 10,
             "solidity": 0.2
            },
            "type": "scatter"
           }
          ],
          "scatter3d": [
           {
            "line": {
             "colorbar": {
              "outlinewidth": 0,
              "ticks": ""
             }
            },
            "marker": {
             "colorbar": {
              "outlinewidth": 0,
              "ticks": ""
             }
            },
            "type": "scatter3d"
           }
          ],
          "scattercarpet": [
           {
            "marker": {
             "colorbar": {
              "outlinewidth": 0,
              "ticks": ""
             }
            },
            "type": "scattercarpet"
           }
          ],
          "scattergeo": [
           {
            "marker": {
             "colorbar": {
              "outlinewidth": 0,
              "ticks": ""
             }
            },
            "type": "scattergeo"
           }
          ],
          "scattergl": [
           {
            "marker": {
             "colorbar": {
              "outlinewidth": 0,
              "ticks": ""
             }
            },
            "type": "scattergl"
           }
          ],
          "scattermapbox": [
           {
            "marker": {
             "colorbar": {
              "outlinewidth": 0,
              "ticks": ""
             }
            },
            "type": "scattermapbox"
           }
          ],
          "scatterpolar": [
           {
            "marker": {
             "colorbar": {
              "outlinewidth": 0,
              "ticks": ""
             }
            },
            "type": "scatterpolar"
           }
          ],
          "scatterpolargl": [
           {
            "marker": {
             "colorbar": {
              "outlinewidth": 0,
              "ticks": ""
             }
            },
            "type": "scatterpolargl"
           }
          ],
          "scatterternary": [
           {
            "marker": {
             "colorbar": {
              "outlinewidth": 0,
              "ticks": ""
             }
            },
            "type": "scatterternary"
           }
          ],
          "surface": [
           {
            "colorbar": {
             "outlinewidth": 0,
             "ticks": ""
            },
            "colorscale": [
             [
              0,
              "#0d0887"
             ],
             [
              0.1111111111111111,
              "#46039f"
             ],
             [
              0.2222222222222222,
              "#7201a8"
             ],
             [
              0.3333333333333333,
              "#9c179e"
             ],
             [
              0.4444444444444444,
              "#bd3786"
             ],
             [
              0.5555555555555556,
              "#d8576b"
             ],
             [
              0.6666666666666666,
              "#ed7953"
             ],
             [
              0.7777777777777778,
              "#fb9f3a"
             ],
             [
              0.8888888888888888,
              "#fdca26"
             ],
             [
              1,
              "#f0f921"
             ]
            ],
            "type": "surface"
           }
          ],
          "table": [
           {
            "cells": {
             "fill": {
              "color": "#EBF0F8"
             },
             "line": {
              "color": "white"
             }
            },
            "header": {
             "fill": {
              "color": "#C8D4E3"
             },
             "line": {
              "color": "white"
             }
            },
            "type": "table"
           }
          ]
         },
         "layout": {
          "annotationdefaults": {
           "arrowcolor": "#2a3f5f",
           "arrowhead": 0,
           "arrowwidth": 1
          },
          "autotypenumbers": "strict",
          "coloraxis": {
           "colorbar": {
            "outlinewidth": 0,
            "ticks": ""
           }
          },
          "colorscale": {
           "diverging": [
            [
             0,
             "#8e0152"
            ],
            [
             0.1,
             "#c51b7d"
            ],
            [
             0.2,
             "#de77ae"
            ],
            [
             0.3,
             "#f1b6da"
            ],
            [
             0.4,
             "#fde0ef"
            ],
            [
             0.5,
             "#f7f7f7"
            ],
            [
             0.6,
             "#e6f5d0"
            ],
            [
             0.7,
             "#b8e186"
            ],
            [
             0.8,
             "#7fbc41"
            ],
            [
             0.9,
             "#4d9221"
            ],
            [
             1,
             "#276419"
            ]
           ],
           "sequential": [
            [
             0,
             "#0d0887"
            ],
            [
             0.1111111111111111,
             "#46039f"
            ],
            [
             0.2222222222222222,
             "#7201a8"
            ],
            [
             0.3333333333333333,
             "#9c179e"
            ],
            [
             0.4444444444444444,
             "#bd3786"
            ],
            [
             0.5555555555555556,
             "#d8576b"
            ],
            [
             0.6666666666666666,
             "#ed7953"
            ],
            [
             0.7777777777777778,
             "#fb9f3a"
            ],
            [
             0.8888888888888888,
             "#fdca26"
            ],
            [
             1,
             "#f0f921"
            ]
           ],
           "sequentialminus": [
            [
             0,
             "#0d0887"
            ],
            [
             0.1111111111111111,
             "#46039f"
            ],
            [
             0.2222222222222222,
             "#7201a8"
            ],
            [
             0.3333333333333333,
             "#9c179e"
            ],
            [
             0.4444444444444444,
             "#bd3786"
            ],
            [
             0.5555555555555556,
             "#d8576b"
            ],
            [
             0.6666666666666666,
             "#ed7953"
            ],
            [
             0.7777777777777778,
             "#fb9f3a"
            ],
            [
             0.8888888888888888,
             "#fdca26"
            ],
            [
             1,
             "#f0f921"
            ]
           ]
          },
          "colorway": [
           "#636efa",
           "#EF553B",
           "#00cc96",
           "#ab63fa",
           "#FFA15A",
           "#19d3f3",
           "#FF6692",
           "#B6E880",
           "#FF97FF",
           "#FECB52"
          ],
          "font": {
           "color": "#2a3f5f"
          },
          "geo": {
           "bgcolor": "white",
           "lakecolor": "white",
           "landcolor": "#E5ECF6",
           "showlakes": true,
           "showland": true,
           "subunitcolor": "white"
          },
          "hoverlabel": {
           "align": "left"
          },
          "hovermode": "closest",
          "mapbox": {
           "style": "light"
          },
          "paper_bgcolor": "white",
          "plot_bgcolor": "#E5ECF6",
          "polar": {
           "angularaxis": {
            "gridcolor": "white",
            "linecolor": "white",
            "ticks": ""
           },
           "bgcolor": "#E5ECF6",
           "radialaxis": {
            "gridcolor": "white",
            "linecolor": "white",
            "ticks": ""
           }
          },
          "scene": {
           "xaxis": {
            "backgroundcolor": "#E5ECF6",
            "gridcolor": "white",
            "gridwidth": 2,
            "linecolor": "white",
            "showbackground": true,
            "ticks": "",
            "zerolinecolor": "white"
           },
           "yaxis": {
            "backgroundcolor": "#E5ECF6",
            "gridcolor": "white",
            "gridwidth": 2,
            "linecolor": "white",
            "showbackground": true,
            "ticks": "",
            "zerolinecolor": "white"
           },
           "zaxis": {
            "backgroundcolor": "#E5ECF6",
            "gridcolor": "white",
            "gridwidth": 2,
            "linecolor": "white",
            "showbackground": true,
            "ticks": "",
            "zerolinecolor": "white"
           }
          },
          "shapedefaults": {
           "line": {
            "color": "#2a3f5f"
           }
          },
          "ternary": {
           "aaxis": {
            "gridcolor": "white",
            "linecolor": "white",
            "ticks": ""
           },
           "baxis": {
            "gridcolor": "white",
            "linecolor": "white",
            "ticks": ""
           },
           "bgcolor": "#E5ECF6",
           "caxis": {
            "gridcolor": "white",
            "linecolor": "white",
            "ticks": ""
           }
          },
          "title": {
           "x": 0.05
          },
          "xaxis": {
           "automargin": true,
           "gridcolor": "white",
           "linecolor": "white",
           "ticks": "",
           "title": {
            "standoff": 15
           },
           "zerolinecolor": "white",
           "zerolinewidth": 2
          },
          "yaxis": {
           "automargin": true,
           "gridcolor": "white",
           "linecolor": "white",
           "ticks": "",
           "title": {
            "standoff": 15
           },
           "zerolinecolor": "white",
           "zerolinewidth": 2
          }
         }
        },
        "width": 2000
       }
      }
     },
     "metadata": {},
     "output_type": "display_data"
    }
   ],
   "source": [
    "import plotly.graph_objects as go\n",
    "import numpy as np\n",
    "\n",
    "# Assume R_PRE and R_ONB are existing NumPy arrays with at least three columns.\n",
    "# For example:\n",
    "# R_PRE = np.random.rand(50, 3)\n",
    "# R_ONB = np.random.rand(50, 3)\n",
    "\n",
    "# Create a Plotly figure\n",
    "fig = go.Figure()\n",
    "\n",
    "# Add a 3D scatter trace for R_PRE with red color\n",
    "fig.add_trace(go.Scatter3d(\n",
    "    x=R_PRE[:, 0],  # x-axis: first column (Threshold)\n",
    "    y=R_PRE[:, 1],  # y-axis: second column (Duration)\n",
    "    z=R_PRE[:, 2],  # z-axis: third column (F-Beta)\n",
    "    mode='markers',\n",
    "    marker=dict(\n",
    "        size=12,       # Adjust marker size as needed\n",
    "        color='red'   # Red color for R_PRE\n",
    "    ),\n",
    "    showlegend=False  # Disable legend\n",
    "))\n",
    "\n",
    "# Add a 3D scatter trace for R_ONB with blue color\n",
    "fig.add_trace(go.Scatter3d(\n",
    "    x=R_ONB[:, 0],  # x-axis: first column (Threshold)\n",
    "    y=R_ONB[:, 1],  # y-axis: second column (Duration)\n",
    "    z=R_ONB[:, 2],  # z-axis: third column (F-Beta)\n",
    "    mode='markers',\n",
    "    marker=dict(\n",
    "        size=12,        # Adjust marker size as needed\n",
    "        color='blue'   # Blue color for R_ONB\n",
    "    ),\n",
    "    showlegend=False  # Disable legend\n",
    "))\n",
    "\n",
    "# Update layout with axis titles, ranges, tick intervals, and font settings.\n",
    "# All text (titles and ticks) are set to Times New Roman and black.\n",
    "fig.update_layout(\n",
    "    scene=dict(\n",
    "        xaxis=dict(\n",
    "            title=dict(\n",
    "                text='Threshold(g)',  # x-axis title\n",
    "                font=dict(family=\"Times New Roman\", size=36, color='black')\n",
    "            ),\n",
    "            range=[-0.002, 0.018],\n",
    "            tick0=-0.002,            # Starting tick value for x-axis\n",
    "            dtick=0.005,             # Tick interval for x-axis\n",
    "            tickfont=dict(family=\"Times New Roman\", size=22, color='black')\n",
    "        ),\n",
    "        yaxis=dict(\n",
    "            title=dict(\n",
    "                text='Duration(s)',   # y-axis title\n",
    "                font=dict(family=\"Times New Roman\", size=36, color='black')\n",
    "            ),\n",
    "            range=[1, 11],\n",
    "            tick0=1,                 # Starting tick value for y-axis\n",
    "            dtick=2,                 # Tick interval for y-axis\n",
    "            tickfont=dict(family=\"Times New Roman\", size=22, color='black')\n",
    "        ),\n",
    "        zaxis=dict(\n",
    "            title=dict(\n",
    "                text='F-Beta',        # z-axis title\n",
    "                font=dict(family=\"Times New Roman\", size=36, color='black')\n",
    "            ),\n",
    "            range=[0, 1.2],\n",
    "            tick0=0,                 # Starting tick value for z-axis\n",
    "            dtick=0.2,               # Tick interval for z-axis\n",
    "            tickfont=dict(family=\"Times New Roman\", size=22, color='black')\n",
    "        )\n",
    "    ),\n",
    "    font=dict(family=\"Times New Roman\", color='black'),  # Global font settings\n",
    "    width=2000,   # Increased figure width (in pixels)\n",
    "    height=2000,  # Increased figure height (in pixels)\n",
    "    showlegend=False  # Disable legend globally\n",
    ")\n",
    "\n",
    "# Display the 3D scatter plot\n",
    "fig.show()\n"
   ]
  },
  {
   "cell_type": "code",
   "execution_count": 16,
   "metadata": {},
   "outputs": [
    {
     "data": {
      "application/vnd.plotly.v1+json": {
       "config": {
        "plotlyServerURL": "https://plot.ly"
       },
       "data": [
        {
         "mode": "lines",
         "name": "Sine Curve",
         "type": "scatter",
         "x": [
          0,
          0.06346651825433926,
          0.12693303650867852,
          0.1903995547630178,
          0.25386607301735703,
          0.3173325912716963,
          0.3807991095260356,
          0.4442656277803748,
          0.5077321460347141,
          0.5711986642890533,
          0.6346651825433925,
          0.6981317007977318,
          0.7615982190520711,
          0.8250647373064104,
          0.8885312555607496,
          0.9519977738150889,
          1.0154642920694281,
          1.0789308103237674,
          1.1423973285781066,
          1.2058638468324459,
          1.269330365086785,
          1.3327968833411243,
          1.3962634015954636,
          1.4597299198498028,
          1.5231964381041423,
          1.5866629563584815,
          1.6501294746128208,
          1.71359599286716,
          1.7770625111214993,
          1.8405290293758385,
          1.9039955476301778,
          1.967462065884517,
          2.0309285841388562,
          2.0943951023931957,
          2.1578616206475347,
          2.221328138901874,
          2.284794657156213,
          2.3482611754105527,
          2.4117276936648917,
          2.475194211919231,
          2.53866073017357,
          2.6021272484279097,
          2.6655937666822487,
          2.729060284936588,
          2.792526803190927,
          2.8559933214452666,
          2.9194598396996057,
          2.982926357953945,
          3.0463928762082846,
          3.1098593944626236,
          3.173325912716963,
          3.236792430971302,
          3.3002589492256416,
          3.3637254674799806,
          3.42719198573432,
          3.490658503988659,
          3.5541250222429985,
          3.6175915404973376,
          3.681058058751677,
          3.744524577006016,
          3.8079910952603555,
          3.8714576135146945,
          3.934924131769034,
          3.998390650023373,
          4.0618571682777125,
          4.1253236865320515,
          4.188790204786391,
          4.25225672304073,
          4.3157232412950695,
          4.3791897595494085,
          4.442656277803748,
          4.506122796058087,
          4.569589314312426,
          4.6330558325667655,
          4.696522350821105,
          4.759988869075444,
          4.823455387329783,
          4.886921905584122,
          4.950388423838462,
          5.013854942092801,
          5.07732146034714,
          5.14078797860148,
          5.204254496855819,
          5.267721015110158,
          5.331187533364497,
          5.394654051618837,
          5.458120569873176,
          5.521587088127515,
          5.585053606381854,
          5.648520124636194,
          5.711986642890533,
          5.775453161144872,
          5.838919679399211,
          5.902386197653551,
          5.96585271590789,
          6.029319234162229,
          6.092785752416569,
          6.156252270670908,
          6.219718788925247,
          6.283185307179586
         ],
         "y": [
          0,
          0.0634239196565645,
          0.12659245357374926,
          0.18925124436041021,
          0.2511479871810792,
          0.3120334456984871,
          0.3716624556603276,
          0.42979491208917164,
          0.4861967361004687,
          0.5406408174555976,
          0.5929079290546404,
          0.6427876096865393,
          0.690079011482112,
          0.7345917086575333,
          0.7761464642917568,
          0.8145759520503357,
          0.8497254299495144,
          0.8814533634475821,
          0.9096319953545183,
          0.9341478602651067,
          0.9549022414440739,
          0.9718115683235417,
          0.984807753012208,
          0.9938384644612541,
          0.998867339183008,
          0.9998741276738751,
          0.9968547759519424,
          0.9898214418809327,
          0.9788024462147787,
          0.963842158559942,
          0.9450008187146685,
          0.9223542941045814,
          0.8959937742913359,
          0.8660254037844386,
          0.8325698546347714,
          0.795761840530832,
          0.7557495743542583,
          0.7126941713788627,
          0.6667690005162916,
          0.6181589862206052,
          0.5670598638627709,
          0.5136773915734063,
          0.4582265217274105,
          0.4009305354066136,
          0.3420201433256689,
          0.28173255684142967,
          0.2203105327865408,
          0.1580013959733499,
          0.09505604330418244,
          0.031727933498067656,
          -0.03172793349806786,
          -0.09505604330418263,
          -0.15800139597335008,
          -0.22031053278654056,
          -0.28173255684142984,
          -0.34202014332566866,
          -0.4009305354066138,
          -0.4582265217274103,
          -0.5136773915734064,
          -0.5670598638627706,
          -0.6181589862206053,
          -0.6667690005162915,
          -0.7126941713788629,
          -0.7557495743542582,
          -0.7957618405308321,
          -0.8325698546347713,
          -0.8660254037844388,
          -0.895993774291336,
          -0.9223542941045814,
          -0.9450008187146683,
          -0.9638421585599422,
          -0.9788024462147787,
          -0.9898214418809327,
          -0.9968547759519423,
          -0.9998741276738751,
          -0.998867339183008,
          -0.9938384644612541,
          -0.9848077530122081,
          -0.9718115683235417,
          -0.9549022414440739,
          -0.9341478602651068,
          -0.9096319953545182,
          -0.881453363447582,
          -0.8497254299495144,
          -0.8145759520503358,
          -0.7761464642917566,
          -0.7345917086575331,
          -0.690079011482112,
          -0.6427876096865396,
          -0.5929079290546402,
          -0.5406408174555974,
          -0.4861967361004688,
          -0.4297949120891719,
          -0.37166245566032724,
          -0.31203344569848707,
          -0.2511479871810794,
          -0.18925124436040974,
          -0.12659245357374904,
          -0.06342391965656452,
          -2.4492935982947064e-16
         ]
        }
       ],
       "layout": {
        "font": {
         "color": "black",
         "family": "Times New Roman",
         "size": 18
        },
        "paper_bgcolor": "white",
        "plot_bgcolor": "white",
        "shapes": [
         {
          "line": {
           "color": "black",
           "width": 2
          },
          "type": "rect",
          "x0": 0,
          "x1": 1,
          "xref": "paper",
          "y0": 0,
          "y1": 1,
          "yref": "paper"
         }
        ],
        "template": {
         "data": {
          "bar": [
           {
            "error_x": {
             "color": "#2a3f5f"
            },
            "error_y": {
             "color": "#2a3f5f"
            },
            "marker": {
             "line": {
              "color": "#E5ECF6",
              "width": 0.5
             },
             "pattern": {
              "fillmode": "overlay",
              "size": 10,
              "solidity": 0.2
             }
            },
            "type": "bar"
           }
          ],
          "barpolar": [
           {
            "marker": {
             "line": {
              "color": "#E5ECF6",
              "width": 0.5
             },
             "pattern": {
              "fillmode": "overlay",
              "size": 10,
              "solidity": 0.2
             }
            },
            "type": "barpolar"
           }
          ],
          "carpet": [
           {
            "aaxis": {
             "endlinecolor": "#2a3f5f",
             "gridcolor": "white",
             "linecolor": "white",
             "minorgridcolor": "white",
             "startlinecolor": "#2a3f5f"
            },
            "baxis": {
             "endlinecolor": "#2a3f5f",
             "gridcolor": "white",
             "linecolor": "white",
             "minorgridcolor": "white",
             "startlinecolor": "#2a3f5f"
            },
            "type": "carpet"
           }
          ],
          "choropleth": [
           {
            "colorbar": {
             "outlinewidth": 0,
             "ticks": ""
            },
            "type": "choropleth"
           }
          ],
          "contour": [
           {
            "colorbar": {
             "outlinewidth": 0,
             "ticks": ""
            },
            "colorscale": [
             [
              0,
              "#0d0887"
             ],
             [
              0.1111111111111111,
              "#46039f"
             ],
             [
              0.2222222222222222,
              "#7201a8"
             ],
             [
              0.3333333333333333,
              "#9c179e"
             ],
             [
              0.4444444444444444,
              "#bd3786"
             ],
             [
              0.5555555555555556,
              "#d8576b"
             ],
             [
              0.6666666666666666,
              "#ed7953"
             ],
             [
              0.7777777777777778,
              "#fb9f3a"
             ],
             [
              0.8888888888888888,
              "#fdca26"
             ],
             [
              1,
              "#f0f921"
             ]
            ],
            "type": "contour"
           }
          ],
          "contourcarpet": [
           {
            "colorbar": {
             "outlinewidth": 0,
             "ticks": ""
            },
            "type": "contourcarpet"
           }
          ],
          "heatmap": [
           {
            "colorbar": {
             "outlinewidth": 0,
             "ticks": ""
            },
            "colorscale": [
             [
              0,
              "#0d0887"
             ],
             [
              0.1111111111111111,
              "#46039f"
             ],
             [
              0.2222222222222222,
              "#7201a8"
             ],
             [
              0.3333333333333333,
              "#9c179e"
             ],
             [
              0.4444444444444444,
              "#bd3786"
             ],
             [
              0.5555555555555556,
              "#d8576b"
             ],
             [
              0.6666666666666666,
              "#ed7953"
             ],
             [
              0.7777777777777778,
              "#fb9f3a"
             ],
             [
              0.8888888888888888,
              "#fdca26"
             ],
             [
              1,
              "#f0f921"
             ]
            ],
            "type": "heatmap"
           }
          ],
          "heatmapgl": [
           {
            "colorbar": {
             "outlinewidth": 0,
             "ticks": ""
            },
            "colorscale": [
             [
              0,
              "#0d0887"
             ],
             [
              0.1111111111111111,
              "#46039f"
             ],
             [
              0.2222222222222222,
              "#7201a8"
             ],
             [
              0.3333333333333333,
              "#9c179e"
             ],
             [
              0.4444444444444444,
              "#bd3786"
             ],
             [
              0.5555555555555556,
              "#d8576b"
             ],
             [
              0.6666666666666666,
              "#ed7953"
             ],
             [
              0.7777777777777778,
              "#fb9f3a"
             ],
             [
              0.8888888888888888,
              "#fdca26"
             ],
             [
              1,
              "#f0f921"
             ]
            ],
            "type": "heatmapgl"
           }
          ],
          "histogram": [
           {
            "marker": {
             "pattern": {
              "fillmode": "overlay",
              "size": 10,
              "solidity": 0.2
             }
            },
            "type": "histogram"
           }
          ],
          "histogram2d": [
           {
            "colorbar": {
             "outlinewidth": 0,
             "ticks": ""
            },
            "colorscale": [
             [
              0,
              "#0d0887"
             ],
             [
              0.1111111111111111,
              "#46039f"
             ],
             [
              0.2222222222222222,
              "#7201a8"
             ],
             [
              0.3333333333333333,
              "#9c179e"
             ],
             [
              0.4444444444444444,
              "#bd3786"
             ],
             [
              0.5555555555555556,
              "#d8576b"
             ],
             [
              0.6666666666666666,
              "#ed7953"
             ],
             [
              0.7777777777777778,
              "#fb9f3a"
             ],
             [
              0.8888888888888888,
              "#fdca26"
             ],
             [
              1,
              "#f0f921"
             ]
            ],
            "type": "histogram2d"
           }
          ],
          "histogram2dcontour": [
           {
            "colorbar": {
             "outlinewidth": 0,
             "ticks": ""
            },
            "colorscale": [
             [
              0,
              "#0d0887"
             ],
             [
              0.1111111111111111,
              "#46039f"
             ],
             [
              0.2222222222222222,
              "#7201a8"
             ],
             [
              0.3333333333333333,
              "#9c179e"
             ],
             [
              0.4444444444444444,
              "#bd3786"
             ],
             [
              0.5555555555555556,
              "#d8576b"
             ],
             [
              0.6666666666666666,
              "#ed7953"
             ],
             [
              0.7777777777777778,
              "#fb9f3a"
             ],
             [
              0.8888888888888888,
              "#fdca26"
             ],
             [
              1,
              "#f0f921"
             ]
            ],
            "type": "histogram2dcontour"
           }
          ],
          "mesh3d": [
           {
            "colorbar": {
             "outlinewidth": 0,
             "ticks": ""
            },
            "type": "mesh3d"
           }
          ],
          "parcoords": [
           {
            "line": {
             "colorbar": {
              "outlinewidth": 0,
              "ticks": ""
             }
            },
            "type": "parcoords"
           }
          ],
          "pie": [
           {
            "automargin": true,
            "type": "pie"
           }
          ],
          "scatter": [
           {
            "fillpattern": {
             "fillmode": "overlay",
             "size": 10,
             "solidity": 0.2
            },
            "type": "scatter"
           }
          ],
          "scatter3d": [
           {
            "line": {
             "colorbar": {
              "outlinewidth": 0,
              "ticks": ""
             }
            },
            "marker": {
             "colorbar": {
              "outlinewidth": 0,
              "ticks": ""
             }
            },
            "type": "scatter3d"
           }
          ],
          "scattercarpet": [
           {
            "marker": {
             "colorbar": {
              "outlinewidth": 0,
              "ticks": ""
             }
            },
            "type": "scattercarpet"
           }
          ],
          "scattergeo": [
           {
            "marker": {
             "colorbar": {
              "outlinewidth": 0,
              "ticks": ""
             }
            },
            "type": "scattergeo"
           }
          ],
          "scattergl": [
           {
            "marker": {
             "colorbar": {
              "outlinewidth": 0,
              "ticks": ""
             }
            },
            "type": "scattergl"
           }
          ],
          "scattermapbox": [
           {
            "marker": {
             "colorbar": {
              "outlinewidth": 0,
              "ticks": ""
             }
            },
            "type": "scattermapbox"
           }
          ],
          "scatterpolar": [
           {
            "marker": {
             "colorbar": {
              "outlinewidth": 0,
              "ticks": ""
             }
            },
            "type": "scatterpolar"
           }
          ],
          "scatterpolargl": [
           {
            "marker": {
             "colorbar": {
              "outlinewidth": 0,
              "ticks": ""
             }
            },
            "type": "scatterpolargl"
           }
          ],
          "scatterternary": [
           {
            "marker": {
             "colorbar": {
              "outlinewidth": 0,
              "ticks": ""
             }
            },
            "type": "scatterternary"
           }
          ],
          "surface": [
           {
            "colorbar": {
             "outlinewidth": 0,
             "ticks": ""
            },
            "colorscale": [
             [
              0,
              "#0d0887"
             ],
             [
              0.1111111111111111,
              "#46039f"
             ],
             [
              0.2222222222222222,
              "#7201a8"
             ],
             [
              0.3333333333333333,
              "#9c179e"
             ],
             [
              0.4444444444444444,
              "#bd3786"
             ],
             [
              0.5555555555555556,
              "#d8576b"
             ],
             [
              0.6666666666666666,
              "#ed7953"
             ],
             [
              0.7777777777777778,
              "#fb9f3a"
             ],
             [
              0.8888888888888888,
              "#fdca26"
             ],
             [
              1,
              "#f0f921"
             ]
            ],
            "type": "surface"
           }
          ],
          "table": [
           {
            "cells": {
             "fill": {
              "color": "#EBF0F8"
             },
             "line": {
              "color": "white"
             }
            },
            "header": {
             "fill": {
              "color": "#C8D4E3"
             },
             "line": {
              "color": "white"
             }
            },
            "type": "table"
           }
          ]
         },
         "layout": {
          "annotationdefaults": {
           "arrowcolor": "#2a3f5f",
           "arrowhead": 0,
           "arrowwidth": 1
          },
          "autotypenumbers": "strict",
          "coloraxis": {
           "colorbar": {
            "outlinewidth": 0,
            "ticks": ""
           }
          },
          "colorscale": {
           "diverging": [
            [
             0,
             "#8e0152"
            ],
            [
             0.1,
             "#c51b7d"
            ],
            [
             0.2,
             "#de77ae"
            ],
            [
             0.3,
             "#f1b6da"
            ],
            [
             0.4,
             "#fde0ef"
            ],
            [
             0.5,
             "#f7f7f7"
            ],
            [
             0.6,
             "#e6f5d0"
            ],
            [
             0.7,
             "#b8e186"
            ],
            [
             0.8,
             "#7fbc41"
            ],
            [
             0.9,
             "#4d9221"
            ],
            [
             1,
             "#276419"
            ]
           ],
           "sequential": [
            [
             0,
             "#0d0887"
            ],
            [
             0.1111111111111111,
             "#46039f"
            ],
            [
             0.2222222222222222,
             "#7201a8"
            ],
            [
             0.3333333333333333,
             "#9c179e"
            ],
            [
             0.4444444444444444,
             "#bd3786"
            ],
            [
             0.5555555555555556,
             "#d8576b"
            ],
            [
             0.6666666666666666,
             "#ed7953"
            ],
            [
             0.7777777777777778,
             "#fb9f3a"
            ],
            [
             0.8888888888888888,
             "#fdca26"
            ],
            [
             1,
             "#f0f921"
            ]
           ],
           "sequentialminus": [
            [
             0,
             "#0d0887"
            ],
            [
             0.1111111111111111,
             "#46039f"
            ],
            [
             0.2222222222222222,
             "#7201a8"
            ],
            [
             0.3333333333333333,
             "#9c179e"
            ],
            [
             0.4444444444444444,
             "#bd3786"
            ],
            [
             0.5555555555555556,
             "#d8576b"
            ],
            [
             0.6666666666666666,
             "#ed7953"
            ],
            [
             0.7777777777777778,
             "#fb9f3a"
            ],
            [
             0.8888888888888888,
             "#fdca26"
            ],
            [
             1,
             "#f0f921"
            ]
           ]
          },
          "colorway": [
           "#636efa",
           "#EF553B",
           "#00cc96",
           "#ab63fa",
           "#FFA15A",
           "#19d3f3",
           "#FF6692",
           "#B6E880",
           "#FF97FF",
           "#FECB52"
          ],
          "font": {
           "color": "#2a3f5f"
          },
          "geo": {
           "bgcolor": "white",
           "lakecolor": "white",
           "landcolor": "#E5ECF6",
           "showlakes": true,
           "showland": true,
           "subunitcolor": "white"
          },
          "hoverlabel": {
           "align": "left"
          },
          "hovermode": "closest",
          "mapbox": {
           "style": "light"
          },
          "paper_bgcolor": "white",
          "plot_bgcolor": "#E5ECF6",
          "polar": {
           "angularaxis": {
            "gridcolor": "white",
            "linecolor": "white",
            "ticks": ""
           },
           "bgcolor": "#E5ECF6",
           "radialaxis": {
            "gridcolor": "white",
            "linecolor": "white",
            "ticks": ""
           }
          },
          "scene": {
           "xaxis": {
            "backgroundcolor": "#E5ECF6",
            "gridcolor": "white",
            "gridwidth": 2,
            "linecolor": "white",
            "showbackground": true,
            "ticks": "",
            "zerolinecolor": "white"
           },
           "yaxis": {
            "backgroundcolor": "#E5ECF6",
            "gridcolor": "white",
            "gridwidth": 2,
            "linecolor": "white",
            "showbackground": true,
            "ticks": "",
            "zerolinecolor": "white"
           },
           "zaxis": {
            "backgroundcolor": "#E5ECF6",
            "gridcolor": "white",
            "gridwidth": 2,
            "linecolor": "white",
            "showbackground": true,
            "ticks": "",
            "zerolinecolor": "white"
           }
          },
          "shapedefaults": {
           "line": {
            "color": "#2a3f5f"
           }
          },
          "ternary": {
           "aaxis": {
            "gridcolor": "white",
            "linecolor": "white",
            "ticks": ""
           },
           "baxis": {
            "gridcolor": "white",
            "linecolor": "white",
            "ticks": ""
           },
           "bgcolor": "#E5ECF6",
           "caxis": {
            "gridcolor": "white",
            "linecolor": "white",
            "ticks": ""
           }
          },
          "title": {
           "x": 0.05
          },
          "xaxis": {
           "automargin": true,
           "gridcolor": "white",
           "linecolor": "white",
           "ticks": "",
           "title": {
            "standoff": 15
           },
           "zerolinecolor": "white",
           "zerolinewidth": 2
          },
          "yaxis": {
           "automargin": true,
           "gridcolor": "white",
           "linecolor": "white",
           "ticks": "",
           "title": {
            "standoff": 15
           },
           "zerolinecolor": "white",
           "zerolinewidth": 2
          }
         }
        },
        "title": {
         "text": "Simple Sine Curve Plot"
        },
        "xaxis": {
         "linecolor": "black",
         "linewidth": 2,
         "showgrid": false,
         "showline": true,
         "tickcolor": "black",
         "ticks": "outside",
         "title": {
          "text": "x"
         }
        },
        "yaxis": {
         "linecolor": "black",
         "linewidth": 2,
         "showgrid": false,
         "showline": true,
         "tickcolor": "black",
         "ticks": "outside",
         "title": {
          "text": "sin(x)"
         }
        }
       }
      }
     },
     "metadata": {},
     "output_type": "display_data"
    }
   ],
   "source": [
    "import numpy as np\n",
    "import plotly.graph_objects as go\n",
    "\n",
    "# Define modifiable font size\n",
    "font_size = 18  # You can change this value to adjust the font size\n",
    "\n",
    "# Generate data: x from 0 to 2π with 100 points, y is the sine of x\n",
    "x = np.linspace(0, 2 * np.pi, 100)\n",
    "y = np.sin(x)\n",
    "\n",
    "# Create a scatter plot (line mode)\n",
    "fig = go.Figure(data=go.Scatter(x=x, y=y, mode='lines', name='Sine Curve'))\n",
    "\n",
    "# Update layout with title, axis labels, global font settings, and a border shape\n",
    "fig.update_layout(\n",
    "    title='Simple Sine Curve Plot',\n",
    "    xaxis_title='x',\n",
    "    yaxis_title='sin(x)',\n",
    "    font=dict(\n",
    "        family=\"Times New Roman\",\n",
    "        size=font_size,  # Font size is modifiable via the font_size variable\n",
    "        color=\"black\"\n",
    "    ),\n",
    "    paper_bgcolor='white',  # No background color for the entire canvas\n",
    "    plot_bgcolor='white',   # No background color for the plot area\n",
    "    shapes=[dict(         # Add a border around the entire canvas\n",
    "        type='rect',\n",
    "        xref='paper',\n",
    "        yref='paper',\n",
    "        x0=0,\n",
    "        y0=0,\n",
    "        x1=1,\n",
    "        y1=1,\n",
    "        line=dict(color=\"black\", width=2)\n",
    "    )]\n",
    ")\n",
    "\n",
    "# Update axes to remove grid lines, display ticks and add axis lines\n",
    "fig.update_xaxes(\n",
    "    showgrid=False, ticks=\"outside\", tickcolor=\"black\",\n",
    "    showline=True, linecolor=\"black\", linewidth=2\n",
    ")\n",
    "fig.update_yaxes(\n",
    "    showgrid=False, ticks=\"outside\", tickcolor=\"black\",\n",
    "    showline=True, linecolor=\"black\", linewidth=2\n",
    ")\n",
    "\n",
    "# Display the figure\n",
    "fig.show()\n"
   ]
  },
  {
   "cell_type": "code",
   "execution_count": 17,
   "metadata": {},
   "outputs": [
    {
     "data": {
      "application/vnd.plotly.v1+json": {
       "config": {
        "plotlyServerURL": "https://plot.ly"
       },
       "data": [
        {
         "line": {
          "color": "green",
          "dash": "dash"
         },
         "mode": "lines",
         "name": "Stage I F-beta",
         "type": "scatter",
         "x": [
          0,
          1,
          2,
          3,
          4,
          5,
          6,
          7,
          8,
          9,
          10,
          11,
          12,
          13,
          14,
          15,
          16,
          17,
          18,
          19,
          20,
          21,
          22,
          23,
          24,
          25,
          26,
          27,
          28,
          29,
          30,
          31,
          32,
          33,
          34,
          35,
          36,
          37,
          38,
          39,
          40,
          41,
          42,
          43,
          44,
          45,
          46,
          47,
          48,
          49,
          50,
          51,
          52,
          53,
          54,
          55,
          56,
          57,
          58,
          59,
          60,
          61,
          62,
          63,
          64,
          65,
          66,
          67,
          68,
          69,
          70,
          71,
          72,
          73,
          74,
          75,
          76,
          77,
          78,
          79,
          80,
          81,
          82,
          83,
          84
         ],
         "y": [
          1.0383970489604293,
          0.9090909090909091,
          1.0263467024668569,
          0.9060402684563759,
          0.9092286710107592,
          0.9357188093730209,
          0.9056258576002439,
          0.9121569829832898,
          0.7581721718295397,
          0.8536585365853658,
          1.0567364016736402,
          0.9620128268376912,
          1.069090909090909,
          0.8952959028831563,
          1.067,
          1.0794647282339338,
          0.9095043201455207,
          1.035228988424761,
          0.9124198962465669,
          1.0687813021702839,
          1.0801933977992664,
          1.044990801137314,
          0.9118587304003654,
          0.9090909090909091,
          0.6976744186046512,
          0.961288223812622,
          0.9605433376455369,
          0.8952959028831563,
          0.9115811900776137,
          0.7896981067712775,
          0.7040798760543984,
          1.0792591356582681,
          0.9304143862392494,
          0.9090909090909091,
          0.9090909090909091,
          0.911442483262325,
          0.9095043201455207,
          1.0806183510638299,
          0.9506985707403244,
          0.9097801364670205,
          0.9090909090909091,
          1.012939001848429,
          0.8473140145738011,
          1.0792591356582681,
          0.9090909090909091,
          0.9090909090909091,
          0.9090909090909091,
          0.9090909090909091,
          0.8552074513124471,
          1.0619039651999331,
          0.9090909090909091,
          1.0045408678102927,
          0.9090909090909091,
          1.0585774058577406,
          0.9090909090909091,
          1.0801933977992664,
          0.9117199391171994,
          0.9090909090909091,
          1.0435802883003689,
          0.9090909090909091,
          1.0767050191762548,
          0.9093678598629094,
          0.9118541033434651,
          0.9610685779442906,
          1.0750500333555706,
          1.0233706413658998,
          1.02771595827616,
          0.9406619437680717,
          1.0255642194709762,
          1.0265652826488212,
          0.9240974530247347,
          1.014243839920384,
          0.8155385434151085,
          0.9406521108734455,
          0.9459010016326396,
          1.0335518384587237,
          0.9405017578552228,
          1.0277883645484271,
          0.9422517371478997,
          1.0151259573970743,
          0.8988413209201451,
          1.0240018050547042,
          0.9394551323109314,
          0.8961761309257005,
          0.9428261365353983
         ]
        },
        {
         "line": {
          "color": "blue",
          "dash": "dash"
         },
         "mode": "lines",
         "name": "Stage I Precision",
         "type": "scatter",
         "x": [
          0,
          1,
          2,
          3,
          4,
          5,
          6,
          7,
          8,
          9,
          10,
          11,
          12,
          13,
          14,
          15,
          16,
          17,
          18,
          19,
          20,
          21,
          22,
          23,
          24,
          25,
          26,
          27,
          28,
          29,
          30,
          31,
          32,
          33,
          34,
          35,
          36,
          37,
          38,
          39,
          40,
          41,
          42,
          43,
          44,
          45,
          46,
          47,
          48,
          49,
          50,
          51,
          52,
          53,
          54,
          55,
          56,
          57,
          58,
          59,
          60,
          61,
          62,
          63,
          64,
          65,
          66,
          67,
          68,
          69,
          70,
          71,
          72,
          73,
          74,
          75,
          76,
          77,
          78,
          79,
          80,
          81,
          82,
          83,
          84
         ],
         "y": [
          0.99822695035461,
          0.5,
          0.9946332737030411,
          0.513840830449827,
          0.5004170141784821,
          0.6451965065502183,
          0.5125107851596203,
          0.5298308103294747,
          1,
          1,
          0.9982608695652174,
          0.8590308370044053,
          0.9046153846153846,
          1,
          0.97,
          0.9096477794793262,
          0.5012531328320802,
          1,
          0.5181975736568457,
          0.9864406779661017,
          0.9849498327759197,
          0.9810017271157168,
          0.5124037639007699,
          0.5,
          1,
          0.7901069518716578,
          0.7576530612244898,
          1,
          0.511528608027327,
          1,
          1,
          0.9915682967959528,
          0.5979899497487438,
          0.5,
          0.5,
          0.5110921501706485,
          0.5012531328320802,
          0.9594155844155844,
          0.7158403869407497,
          0.502092050209205,
          0.5,
          0.9945553539019963,
          0.998003992015968,
          0.9915682967959528,
          0.5,
          0.5,
          0.5,
          0.5,
          1,
          1,
          0.5,
          0.9945054945054945,
          0.5,
          1,
          0.5,
          0.9849498327759197,
          0.5119658119658119,
          0.5,
          1,
          0.5,
          0.983249581239531,
          0.5124463519313305,
          0.5084745762711864,
          0.7983761840324763,
          0.9832214765100671,
          0.9207920792079208,
          0.9223300970873787,
          0.8660714285714286,
          0.93,
          0.93,
          0.6598639455782312,
          0.93,
          0.3368055555555556,
          0.8508771929824561,
          0.8888888888888888,
          0.9047619047619048,
          0.8660714285714286,
          0.93,
          0.8151260504201681,
          0.93,
          0.5705882352941176,
          0.93,
          0.8888888888888888,
          0.93,
          0.897196261682243
         ]
        },
        {
         "line": {
          "color": "red",
          "dash": "dash"
         },
         "mode": "lines",
         "name": "Stage I Recall",
         "type": "scatter",
         "x": [
          0,
          1,
          2,
          3,
          4,
          5,
          6,
          7,
          8,
          9,
          10,
          11,
          12,
          13,
          14,
          15,
          16,
          17,
          18,
          19,
          20,
          21,
          22,
          23,
          24,
          25,
          26,
          27,
          28,
          29,
          30,
          31,
          32,
          33,
          34,
          35,
          36,
          37,
          38,
          39,
          40,
          41,
          42,
          43,
          44,
          45,
          46,
          47,
          48,
          49,
          50,
          51,
          52,
          53,
          54,
          55,
          56,
          57,
          58,
          59,
          60,
          61,
          62,
          63,
          64,
          65,
          66,
          67,
          68,
          69,
          70,
          71,
          72,
          73,
          74,
          75,
          76,
          77,
          78,
          79,
          80,
          81,
          82,
          83,
          84
         ],
         "y": [
          0.9383333333333334,
          1,
          0.9266666666666666,
          0.99,
          1,
          0.985,
          0.99,
          0.9916666666666667,
          0.7383333333333333,
          0.84,
          0.9566666666666667,
          0.975,
          0.98,
          0.885,
          0.97,
          0.99,
          1,
          0.935,
          0.9966666666666667,
          0.97,
          0.9816666666666667,
          0.9466666666666667,
          0.9983333333333333,
          1,
          0.675,
          0.985,
          0.99,
          0.885,
          0.9983333333333333,
          0.7716666666666666,
          0.6816666666666666,
          0.98,
          0.9916666666666667,
          1,
          1,
          0.9983333333333333,
          1,
          0.985,
          0.9866666666666667,
          1,
          1,
          0.9133333333333333,
          0.8333333333333334,
          0.98,
          1,
          1,
          1,
          1,
          0.8416666666666667,
          0.9616666666666667,
          1,
          0.905,
          1,
          0.9583333333333334,
          1,
          0.9816666666666667,
          0.9983333333333333,
          1,
          0.9433333333333334,
          1,
          0.9783333333333334,
          0.995,
          1,
          0.9833333333333333,
          0.9766666666666667,
          0.9314097166061401,
          0.935634970664978,
          0.949750542640686,
          0.9325908422470093,
          0.9336026906967163,
          0.967127799987793,
          0.92116379737854,
          0.9684954881668091,
          0.951810359954834,
          0.9526903629302979,
          0.9436289072036743,
          0.9495691061019897,
          0.9348392486572266,
          0.9588676691055298,
          0.9220532178878784,
          0.9602195024490356,
          0.9310120344161987,
          0.9454309940338135,
          0.8925691843032837,
          0.9481842517852783
         ]
        },
        {
         "line": {
          "color": "green",
          "dash": "solid"
         },
         "mode": "lines",
         "name": "Stage II F-beta",
         "type": "scatter",
         "x": [
          65,
          66,
          67,
          68,
          69,
          70,
          71,
          72,
          73,
          74,
          75,
          76,
          77,
          78,
          79,
          80,
          81,
          82,
          83,
          84
         ],
         "y": [
          1.0233706413658998,
          1.02771595827616,
          0.9406619437680717,
          1.0255642194709762,
          1.0265652826488212,
          0.9240974530247347,
          1.014243839920384,
          0.8155385434151085,
          0.9406521108734455,
          0.9459010016326396,
          1.0335518384587237,
          0.9405017578552228,
          1.0277883645484271,
          0.9422517371478997,
          1.0151259573970743,
          0.8988413209201451,
          1.0240018050547042,
          0.9394551323109314,
          0.8961761309257005,
          0.9428261365353983
         ]
        },
        {
         "line": {
          "color": "blue",
          "dash": "solid"
         },
         "mode": "lines",
         "name": "Stage II Precision",
         "type": "scatter",
         "x": [
          65,
          66,
          67,
          68,
          69,
          70,
          71,
          72,
          73,
          74,
          75,
          76,
          77,
          78,
          79,
          80,
          81,
          82,
          83,
          84
         ],
         "y": [
          0.9207920792079208,
          0.9223300970873787,
          0.8660714285714286,
          0.93,
          0.93,
          0.6598639455782312,
          0.93,
          0.3368055555555556,
          0.8508771929824561,
          0.8888888888888888,
          0.9047619047619048,
          0.8660714285714286,
          0.93,
          0.8151260504201681,
          0.93,
          0.5705882352941176,
          0.93,
          0.8888888888888888,
          0.93,
          0.897196261682243
         ]
        },
        {
         "line": {
          "color": "red",
          "dash": "solid"
         },
         "mode": "lines",
         "name": "Stage II Recall",
         "type": "scatter",
         "x": [
          65,
          66,
          67,
          68,
          69,
          70,
          71,
          72,
          73,
          74,
          75,
          76,
          77,
          78,
          79,
          80,
          81,
          82,
          83,
          84
         ],
         "y": [
          0.9314097166061401,
          0.935634970664978,
          0.949750542640686,
          0.9325908422470093,
          0.9336026906967163,
          0.967127799987793,
          0.92116379737854,
          0.9684954881668091,
          0.951810359954834,
          0.9526903629302979,
          0.9436289072036743,
          0.9495691061019897,
          0.9348392486572266,
          0.9588676691055298,
          0.9220532178878784,
          0.9602195024490356,
          0.9310120344161987,
          0.9454309940338135,
          0.8925691843032837,
          0.9481842517852783
         ]
        }
       ],
       "layout": {
        "height": 600,
        "legend": {
         "bgcolor": "white",
         "bordercolor": "black",
         "borderwidth": 1,
         "font": {
          "color": "black",
          "family": "Times New Roman",
          "size": 20
         },
         "orientation": "h",
         "x": 0,
         "xanchor": "left",
         "y": 0,
         "yanchor": "bottom"
        },
        "paper_bgcolor": "white",
        "plot_bgcolor": "white",
        "shapes": [
         {
          "line": {
           "color": "black",
           "width": 2
          },
          "type": "rect",
          "x0": 0,
          "x1": 1,
          "xref": "paper",
          "y0": 0,
          "y1": 1,
          "yref": "paper"
         }
        ],
        "template": {
         "data": {
          "bar": [
           {
            "error_x": {
             "color": "#2a3f5f"
            },
            "error_y": {
             "color": "#2a3f5f"
            },
            "marker": {
             "line": {
              "color": "#E5ECF6",
              "width": 0.5
             },
             "pattern": {
              "fillmode": "overlay",
              "size": 10,
              "solidity": 0.2
             }
            },
            "type": "bar"
           }
          ],
          "barpolar": [
           {
            "marker": {
             "line": {
              "color": "#E5ECF6",
              "width": 0.5
             },
             "pattern": {
              "fillmode": "overlay",
              "size": 10,
              "solidity": 0.2
             }
            },
            "type": "barpolar"
           }
          ],
          "carpet": [
           {
            "aaxis": {
             "endlinecolor": "#2a3f5f",
             "gridcolor": "white",
             "linecolor": "white",
             "minorgridcolor": "white",
             "startlinecolor": "#2a3f5f"
            },
            "baxis": {
             "endlinecolor": "#2a3f5f",
             "gridcolor": "white",
             "linecolor": "white",
             "minorgridcolor": "white",
             "startlinecolor": "#2a3f5f"
            },
            "type": "carpet"
           }
          ],
          "choropleth": [
           {
            "colorbar": {
             "outlinewidth": 0,
             "ticks": ""
            },
            "type": "choropleth"
           }
          ],
          "contour": [
           {
            "colorbar": {
             "outlinewidth": 0,
             "ticks": ""
            },
            "colorscale": [
             [
              0,
              "#0d0887"
             ],
             [
              0.1111111111111111,
              "#46039f"
             ],
             [
              0.2222222222222222,
              "#7201a8"
             ],
             [
              0.3333333333333333,
              "#9c179e"
             ],
             [
              0.4444444444444444,
              "#bd3786"
             ],
             [
              0.5555555555555556,
              "#d8576b"
             ],
             [
              0.6666666666666666,
              "#ed7953"
             ],
             [
              0.7777777777777778,
              "#fb9f3a"
             ],
             [
              0.8888888888888888,
              "#fdca26"
             ],
             [
              1,
              "#f0f921"
             ]
            ],
            "type": "contour"
           }
          ],
          "contourcarpet": [
           {
            "colorbar": {
             "outlinewidth": 0,
             "ticks": ""
            },
            "type": "contourcarpet"
           }
          ],
          "heatmap": [
           {
            "colorbar": {
             "outlinewidth": 0,
             "ticks": ""
            },
            "colorscale": [
             [
              0,
              "#0d0887"
             ],
             [
              0.1111111111111111,
              "#46039f"
             ],
             [
              0.2222222222222222,
              "#7201a8"
             ],
             [
              0.3333333333333333,
              "#9c179e"
             ],
             [
              0.4444444444444444,
              "#bd3786"
             ],
             [
              0.5555555555555556,
              "#d8576b"
             ],
             [
              0.6666666666666666,
              "#ed7953"
             ],
             [
              0.7777777777777778,
              "#fb9f3a"
             ],
             [
              0.8888888888888888,
              "#fdca26"
             ],
             [
              1,
              "#f0f921"
             ]
            ],
            "type": "heatmap"
           }
          ],
          "heatmapgl": [
           {
            "colorbar": {
             "outlinewidth": 0,
             "ticks": ""
            },
            "colorscale": [
             [
              0,
              "#0d0887"
             ],
             [
              0.1111111111111111,
              "#46039f"
             ],
             [
              0.2222222222222222,
              "#7201a8"
             ],
             [
              0.3333333333333333,
              "#9c179e"
             ],
             [
              0.4444444444444444,
              "#bd3786"
             ],
             [
              0.5555555555555556,
              "#d8576b"
             ],
             [
              0.6666666666666666,
              "#ed7953"
             ],
             [
              0.7777777777777778,
              "#fb9f3a"
             ],
             [
              0.8888888888888888,
              "#fdca26"
             ],
             [
              1,
              "#f0f921"
             ]
            ],
            "type": "heatmapgl"
           }
          ],
          "histogram": [
           {
            "marker": {
             "pattern": {
              "fillmode": "overlay",
              "size": 10,
              "solidity": 0.2
             }
            },
            "type": "histogram"
           }
          ],
          "histogram2d": [
           {
            "colorbar": {
             "outlinewidth": 0,
             "ticks": ""
            },
            "colorscale": [
             [
              0,
              "#0d0887"
             ],
             [
              0.1111111111111111,
              "#46039f"
             ],
             [
              0.2222222222222222,
              "#7201a8"
             ],
             [
              0.3333333333333333,
              "#9c179e"
             ],
             [
              0.4444444444444444,
              "#bd3786"
             ],
             [
              0.5555555555555556,
              "#d8576b"
             ],
             [
              0.6666666666666666,
              "#ed7953"
             ],
             [
              0.7777777777777778,
              "#fb9f3a"
             ],
             [
              0.8888888888888888,
              "#fdca26"
             ],
             [
              1,
              "#f0f921"
             ]
            ],
            "type": "histogram2d"
           }
          ],
          "histogram2dcontour": [
           {
            "colorbar": {
             "outlinewidth": 0,
             "ticks": ""
            },
            "colorscale": [
             [
              0,
              "#0d0887"
             ],
             [
              0.1111111111111111,
              "#46039f"
             ],
             [
              0.2222222222222222,
              "#7201a8"
             ],
             [
              0.3333333333333333,
              "#9c179e"
             ],
             [
              0.4444444444444444,
              "#bd3786"
             ],
             [
              0.5555555555555556,
              "#d8576b"
             ],
             [
              0.6666666666666666,
              "#ed7953"
             ],
             [
              0.7777777777777778,
              "#fb9f3a"
             ],
             [
              0.8888888888888888,
              "#fdca26"
             ],
             [
              1,
              "#f0f921"
             ]
            ],
            "type": "histogram2dcontour"
           }
          ],
          "mesh3d": [
           {
            "colorbar": {
             "outlinewidth": 0,
             "ticks": ""
            },
            "type": "mesh3d"
           }
          ],
          "parcoords": [
           {
            "line": {
             "colorbar": {
              "outlinewidth": 0,
              "ticks": ""
             }
            },
            "type": "parcoords"
           }
          ],
          "pie": [
           {
            "automargin": true,
            "type": "pie"
           }
          ],
          "scatter": [
           {
            "fillpattern": {
             "fillmode": "overlay",
             "size": 10,
             "solidity": 0.2
            },
            "type": "scatter"
           }
          ],
          "scatter3d": [
           {
            "line": {
             "colorbar": {
              "outlinewidth": 0,
              "ticks": ""
             }
            },
            "marker": {
             "colorbar": {
              "outlinewidth": 0,
              "ticks": ""
             }
            },
            "type": "scatter3d"
           }
          ],
          "scattercarpet": [
           {
            "marker": {
             "colorbar": {
              "outlinewidth": 0,
              "ticks": ""
             }
            },
            "type": "scattercarpet"
           }
          ],
          "scattergeo": [
           {
            "marker": {
             "colorbar": {
              "outlinewidth": 0,
              "ticks": ""
             }
            },
            "type": "scattergeo"
           }
          ],
          "scattergl": [
           {
            "marker": {
             "colorbar": {
              "outlinewidth": 0,
              "ticks": ""
             }
            },
            "type": "scattergl"
           }
          ],
          "scattermapbox": [
           {
            "marker": {
             "colorbar": {
              "outlinewidth": 0,
              "ticks": ""
             }
            },
            "type": "scattermapbox"
           }
          ],
          "scatterpolar": [
           {
            "marker": {
             "colorbar": {
              "outlinewidth": 0,
              "ticks": ""
             }
            },
            "type": "scatterpolar"
           }
          ],
          "scatterpolargl": [
           {
            "marker": {
             "colorbar": {
              "outlinewidth": 0,
              "ticks": ""
             }
            },
            "type": "scatterpolargl"
           }
          ],
          "scatterternary": [
           {
            "marker": {
             "colorbar": {
              "outlinewidth": 0,
              "ticks": ""
             }
            },
            "type": "scatterternary"
           }
          ],
          "surface": [
           {
            "colorbar": {
             "outlinewidth": 0,
             "ticks": ""
            },
            "colorscale": [
             [
              0,
              "#0d0887"
             ],
             [
              0.1111111111111111,
              "#46039f"
             ],
             [
              0.2222222222222222,
              "#7201a8"
             ],
             [
              0.3333333333333333,
              "#9c179e"
             ],
             [
              0.4444444444444444,
              "#bd3786"
             ],
             [
              0.5555555555555556,
              "#d8576b"
             ],
             [
              0.6666666666666666,
              "#ed7953"
             ],
             [
              0.7777777777777778,
              "#fb9f3a"
             ],
             [
              0.8888888888888888,
              "#fdca26"
             ],
             [
              1,
              "#f0f921"
             ]
            ],
            "type": "surface"
           }
          ],
          "table": [
           {
            "cells": {
             "fill": {
              "color": "#EBF0F8"
             },
             "line": {
              "color": "white"
             }
            },
            "header": {
             "fill": {
              "color": "#C8D4E3"
             },
             "line": {
              "color": "white"
             }
            },
            "type": "table"
           }
          ]
         },
         "layout": {
          "annotationdefaults": {
           "arrowcolor": "#2a3f5f",
           "arrowhead": 0,
           "arrowwidth": 1
          },
          "autotypenumbers": "strict",
          "coloraxis": {
           "colorbar": {
            "outlinewidth": 0,
            "ticks": ""
           }
          },
          "colorscale": {
           "diverging": [
            [
             0,
             "#8e0152"
            ],
            [
             0.1,
             "#c51b7d"
            ],
            [
             0.2,
             "#de77ae"
            ],
            [
             0.3,
             "#f1b6da"
            ],
            [
             0.4,
             "#fde0ef"
            ],
            [
             0.5,
             "#f7f7f7"
            ],
            [
             0.6,
             "#e6f5d0"
            ],
            [
             0.7,
             "#b8e186"
            ],
            [
             0.8,
             "#7fbc41"
            ],
            [
             0.9,
             "#4d9221"
            ],
            [
             1,
             "#276419"
            ]
           ],
           "sequential": [
            [
             0,
             "#0d0887"
            ],
            [
             0.1111111111111111,
             "#46039f"
            ],
            [
             0.2222222222222222,
             "#7201a8"
            ],
            [
             0.3333333333333333,
             "#9c179e"
            ],
            [
             0.4444444444444444,
             "#bd3786"
            ],
            [
             0.5555555555555556,
             "#d8576b"
            ],
            [
             0.6666666666666666,
             "#ed7953"
            ],
            [
             0.7777777777777778,
             "#fb9f3a"
            ],
            [
             0.8888888888888888,
             "#fdca26"
            ],
            [
             1,
             "#f0f921"
            ]
           ],
           "sequentialminus": [
            [
             0,
             "#0d0887"
            ],
            [
             0.1111111111111111,
             "#46039f"
            ],
            [
             0.2222222222222222,
             "#7201a8"
            ],
            [
             0.3333333333333333,
             "#9c179e"
            ],
            [
             0.4444444444444444,
             "#bd3786"
            ],
            [
             0.5555555555555556,
             "#d8576b"
            ],
            [
             0.6666666666666666,
             "#ed7953"
            ],
            [
             0.7777777777777778,
             "#fb9f3a"
            ],
            [
             0.8888888888888888,
             "#fdca26"
            ],
            [
             1,
             "#f0f921"
            ]
           ]
          },
          "colorway": [
           "#636efa",
           "#EF553B",
           "#00cc96",
           "#ab63fa",
           "#FFA15A",
           "#19d3f3",
           "#FF6692",
           "#B6E880",
           "#FF97FF",
           "#FECB52"
          ],
          "font": {
           "color": "#2a3f5f"
          },
          "geo": {
           "bgcolor": "white",
           "lakecolor": "white",
           "landcolor": "#E5ECF6",
           "showlakes": true,
           "showland": true,
           "subunitcolor": "white"
          },
          "hoverlabel": {
           "align": "left"
          },
          "hovermode": "closest",
          "mapbox": {
           "style": "light"
          },
          "paper_bgcolor": "white",
          "plot_bgcolor": "#E5ECF6",
          "polar": {
           "angularaxis": {
            "gridcolor": "white",
            "linecolor": "white",
            "ticks": ""
           },
           "bgcolor": "#E5ECF6",
           "radialaxis": {
            "gridcolor": "white",
            "linecolor": "white",
            "ticks": ""
           }
          },
          "scene": {
           "xaxis": {
            "backgroundcolor": "#E5ECF6",
            "gridcolor": "white",
            "gridwidth": 2,
            "linecolor": "white",
            "showbackground": true,
            "ticks": "",
            "zerolinecolor": "white"
           },
           "yaxis": {
            "backgroundcolor": "#E5ECF6",
            "gridcolor": "white",
            "gridwidth": 2,
            "linecolor": "white",
            "showbackground": true,
            "ticks": "",
            "zerolinecolor": "white"
           },
           "zaxis": {
            "backgroundcolor": "#E5ECF6",
            "gridcolor": "white",
            "gridwidth": 2,
            "linecolor": "white",
            "showbackground": true,
            "ticks": "",
            "zerolinecolor": "white"
           }
          },
          "shapedefaults": {
           "line": {
            "color": "#2a3f5f"
           }
          },
          "ternary": {
           "aaxis": {
            "gridcolor": "white",
            "linecolor": "white",
            "ticks": ""
           },
           "baxis": {
            "gridcolor": "white",
            "linecolor": "white",
            "ticks": ""
           },
           "bgcolor": "#E5ECF6",
           "caxis": {
            "gridcolor": "white",
            "linecolor": "white",
            "ticks": ""
           }
          },
          "title": {
           "x": 0.05
          },
          "xaxis": {
           "automargin": true,
           "gridcolor": "white",
           "linecolor": "white",
           "ticks": "",
           "title": {
            "standoff": 15
           },
           "zerolinecolor": "white",
           "zerolinewidth": 2
          },
          "yaxis": {
           "automargin": true,
           "gridcolor": "white",
           "linecolor": "white",
           "ticks": "",
           "title": {
            "standoff": 15
           },
           "zerolinecolor": "white",
           "zerolinewidth": 2
          }
         }
        },
        "width": 1600,
        "xaxis": {
         "dtick": 5,
         "linecolor": "black",
         "linewidth": 2,
         "range": [
          0,
          85
         ],
         "showgrid": false,
         "showline": true,
         "tick0": 0,
         "tickcolor": "black",
         "tickfont": {
          "color": "black",
          "family": "Times New Roman",
          "size": 24
         },
         "ticks": "outside",
         "title": {
          "font": {
           "color": "black",
           "family": "Times New Roman",
           "size": 28
          },
          "text": "Iteration"
         }
        },
        "yaxis": {
         "dtick": 0.2,
         "linecolor": "black",
         "linewidth": 2,
         "range": [
          0,
          1.2
         ],
         "showgrid": false,
         "showline": true,
         "tick0": 0,
         "tickcolor": "black",
         "tickfont": {
          "color": "black",
          "family": "Times New Roman",
          "size": 24
         },
         "ticks": "outside",
         "title": {
          "font": {
           "color": "black",
           "family": "Times New Roman",
           "size": 28
          },
          "text": "Metric Value"
         }
        }
       }
      }
     },
     "metadata": {},
     "output_type": "display_data"
    }
   ],
   "source": [
    "import numpy as np\n",
    "import plotly.graph_objects as go\n",
    "\n",
    "# Define modifiable font sizes for the title, axis titles, tick labels, and legend\n",
    "title_font_size = 24       # Chart title font size\n",
    "axis_title_font_size = 28  # Axis title font size\n",
    "tick_font_size = 24        # Tick label font size\n",
    "legend_font_size = 20      # Legend font size (smaller)\n",
    "\n",
    "# Assume R, R_PRE, and R_ONB are already defined numpy arrays\n",
    "# Generate x-axis data based on the number of rows\n",
    "num_iter = np.shape(R)[0]\n",
    "num1 = np.shape(R_PRE)[0]\n",
    "num2 = np.shape(R_ONB)[0]\n",
    "x = np.arange(num_iter)\n",
    "x1 = np.arange(num1)           # x-axis for Stage I curves\n",
    "x2 = np.arange(num2) + num1      # x-axis for Stage II curves (offset by num1)\n",
    "\n",
    "# Extract metrics from the arrays:\n",
    "# For R_PRE (Stage I): third column for F-beta, third last for Precision, second last for Recall\n",
    "s1_f = R_PRE[:, 2]\n",
    "s1_p = R_PRE[:, -3]\n",
    "s1_r = R_PRE[:, -2]\n",
    "\n",
    "# For R_ONB (Stage II): third column for F-beta, third last for Precision, second last for Recall\n",
    "s2_f = R_ONB[:, 2]\n",
    "s2_p = R_ONB[:, -3]\n",
    "s2_r = R_ONB[:, -2]\n",
    "\n",
    "# For R (Stage I overall)\n",
    "f = R[:, 2]\n",
    "p = R[:, -3]\n",
    "r = R[:, -2]\n",
    "\n",
    "# Create a figure and add six traces\n",
    "fig = go.Figure()\n",
    "\n",
    "# Stage I curves with dashed lines\n",
    "fig.add_trace(go.Scatter(x=x, y=f, mode='lines', name='Stage I F-beta',\n",
    "                         line=dict(color='green', dash='dash')))\n",
    "fig.add_trace(go.Scatter(x=x, y=p, mode='lines', name='Stage I Precision',\n",
    "                         line=dict(color='blue', dash='dash')))\n",
    "fig.add_trace(go.Scatter(x=x, y=r, mode='lines', name='Stage I Recall',\n",
    "                         line=dict(color='red', dash='dash')))\n",
    "\n",
    "# Stage II curves with solid lines\n",
    "fig.add_trace(go.Scatter(x=x2, y=s2_f, mode='lines', name='Stage II F-beta',\n",
    "                         line=dict(color='green', dash='solid')))\n",
    "fig.add_trace(go.Scatter(x=x2, y=s2_p, mode='lines', name='Stage II Precision',\n",
    "                         line=dict(color='blue', dash='solid')))\n",
    "fig.add_trace(go.Scatter(x=x2, y=s2_r, mode='lines', name='Stage II Recall',\n",
    "                         line=dict(color='red', dash='solid')))\n",
    "\n",
    "# Update layout with custom fonts, axis settings, background, border, and legend settings\n",
    "fig.update_layout(\n",
    "    # Uncomment the following lines if you wish to add a title:\n",
    "    # title=dict(\n",
    "    #     text='Comparison of Stage I and Stage II Metrics',\n",
    "    #     font=dict(family=\"Times New Roman\", size=title_font_size, color=\"black\")\n",
    "    # ),\n",
    "    width=1600,\n",
    "    height=600,\n",
    "    xaxis=dict(\n",
    "        title=dict(\n",
    "            text='Iteration',\n",
    "            font=dict(family=\"Times New Roman\", size=axis_title_font_size, color=\"black\")\n",
    "        ),\n",
    "        tickfont=dict(family=\"Times New Roman\", size=tick_font_size, color=\"black\"),\n",
    "        range=[0, 85],     # Set x-axis range from 0 to 85\n",
    "        tick0=0,           # First tick at 0\n",
    "        dtick=5,           # Tick interval of 5\n",
    "        showline=True, linecolor=\"black\", linewidth=2, ticks=\"outside\", tickcolor=\"black\",\n",
    "        showgrid=False\n",
    "    ),\n",
    "    yaxis=dict(\n",
    "        title=dict(\n",
    "            text='Metric Value',\n",
    "            font=dict(family=\"Times New Roman\", size=axis_title_font_size, color=\"black\")\n",
    "        ),\n",
    "        tickfont=dict(family=\"Times New Roman\", size=tick_font_size, color=\"black\"),\n",
    "        range=[0.0, 1.2],   # Set y-axis range from 0.4 to 1.2\n",
    "        tick0=0.0,          # First tick at 0.4\n",
    "        dtick=0.2,          # Tick interval of 0.1\n",
    "        showline=True, linecolor=\"black\", linewidth=2, ticks=\"outside\", tickcolor=\"black\",\n",
    "        showgrid=False\n",
    "    ),\n",
    "    paper_bgcolor='white',  # Canvas background color\n",
    "    plot_bgcolor='white',   # Plot area background color\n",
    "    shapes=[dict(         # Add a border around the entire canvas\n",
    "        type='rect',\n",
    "        xref='paper',\n",
    "        yref='paper',\n",
    "        x0=0,\n",
    "        y0=0,\n",
    "        x1=1,\n",
    "        y1=1,\n",
    "        line=dict(color=\"black\", width=2)\n",
    "    )],\n",
    "    legend=dict(\n",
    "        orientation='h',       # Horizontal legend\n",
    "        x=0,                   # Place at the left side\n",
    "        y=0,                   # Place at the bottom\n",
    "        xanchor=\"left\",\n",
    "        yanchor=\"bottom\",\n",
    "        font=dict(\n",
    "            family=\"Times New Roman\",\n",
    "            size=legend_font_size,\n",
    "            color=\"black\"\n",
    "        ),\n",
    "        bordercolor=\"black\",\n",
    "        borderwidth=1,\n",
    "        bgcolor='white'\n",
    "    )\n",
    ")\n",
    "\n",
    "# Display the figure\n",
    "fig.show()\n"
   ]
  }
 ],
 "metadata": {
  "kernelspec": {
   "display_name": "base",
   "language": "python",
   "name": "python3"
  },
  "language_info": {
   "codemirror_mode": {
    "name": "ipython",
    "version": 3
   },
   "file_extension": ".py",
   "mimetype": "text/x-python",
   "name": "python",
   "nbconvert_exporter": "python",
   "pygments_lexer": "ipython3",
   "version": "3.12.7"
  }
 },
 "nbformat": 4,
 "nbformat_minor": 2
}
