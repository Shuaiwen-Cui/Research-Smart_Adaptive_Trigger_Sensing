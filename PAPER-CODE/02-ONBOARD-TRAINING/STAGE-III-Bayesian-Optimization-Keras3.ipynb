{
 "cells": [
  {
   "cell_type": "markdown",
   "metadata": {},
   "source": [
    "# STAGE III - REAL WORLD OPTIMIZATION\n",
    "\n",
    "![FIGURE](STAGE-III.png)"
   ]
  },
  {
   "cell_type": "markdown",
   "metadata": {},
   "source": [
    "## DEPENDENCIES"
   ]
  },
  {
   "cell_type": "code",
   "execution_count": 1,
   "metadata": {},
   "outputs": [],
   "source": [
    "# COMMON\n",
    "import numpy as np\n",
    "import sys\n",
    "import os\n",
    "import random\n",
    "import time\n",
    "import datetime\n",
    "import pandas as pd\n",
    "import matplotlib.pyplot as plt\n",
    "\n",
    "# Triggering Mechanism\n",
    "import triggering as trig\n",
    "\n",
    "# Signal Processing\n",
    "from scipy import signal  # for signal processing\n",
    "from scipy.signal import hilbert  # for signal processing\n",
    "import prenn # for deep learning\n",
    "\n",
    "# AI\n",
    "import keras\n",
    "\n",
    "import tensorflow as tf # for deep learning\n",
    "from keras.models import Sequential\n",
    "from keras.layers import Conv1D, MaxPooling1D, Flatten, Dense, Dropout\n",
    "from keras.callbacks import TensorBoard # for visualization\n",
    "\n",
    "import onnxruntime as ort # for onnx runtime\n",
    "\n",
    "# Visualization\n",
    "# %matplotlib qt5\n",
    "import matplotlib.pyplot as plt\n",
    "from mpl_toolkits.mplot3d import Axes3D\n",
    "from matplotlib.animation import FuncAnimation"
   ]
  },
  {
   "cell_type": "markdown",
   "metadata": {},
   "source": [
    "## CLOSED-LOOP CONTROL COMPONENTS SETUP"
   ]
  },
  {
   "cell_type": "markdown",
   "metadata": {},
   "source": [
    "### ENVIRONMENT\n",
    "\n",
    "IN NATURE - THE SYNTHESIZED RESPONSE DATA - DIFFERENT FROM STAGE II"
   ]
  },
  {
   "cell_type": "code",
   "execution_count": 2,
   "metadata": {},
   "outputs": [
    {
     "name": "stdout",
     "output_type": "stream",
     "text": [
      "<class 'numpy.ndarray'>\n",
      "RESPONSE_AV Shape: (150, 6000)\n",
      "<class 'numpy.ndarray'>\n",
      "RESPONSE_EQ Shape: (50, 6000)\n",
      "<class 'numpy.ndarray'>\n",
      "RESPONSE_IP Shape: (50, 6000)\n",
      "<class 'numpy.ndarray'>\n",
      "RESPONSE_SW Shape: (50, 6000)\n",
      "Ratio of Non-Interested Data to Interested Data: 1.0\n",
      "Total Number of Samples: 300\n"
     ]
    }
   ],
   "source": [
    "# Corrected Paths\n",
    "AVPath = r'../01-PRE-DEPLOYMENT/DATA/VAL_RES/VAL_DATA_AV.npy' \n",
    "EQPath = r'../01-PRE-DEPLOYMENT/DATA/VAL_RES/VAL_DATA_EQ.npy'\n",
    "IPPath = r'../01-PRE-DEPLOYMENT/DATA/VAL_RES/VAL_DATA_IP.npy'\n",
    "SWPath = r'../01-PRE-DEPLOYMENT/DATA/VAL_RES/VAL_DATA_SW.npy'\n",
    "\n",
    "# Load Data\n",
    "RESPONSE_AV = np.load(AVPath)\n",
    "RESPONSE_EQ = np.load(EQPath)\n",
    "RESPONSE_IP = np.load(IPPath)\n",
    "RESPONSE_SW = np.load(SWPath)\n",
    "\n",
    "## only use part of the data\n",
    "raw_len_av = RESPONSE_AV.shape[0]\n",
    "raw_len_eq = RESPONSE_EQ.shape[0]\n",
    "raw_len_ip = RESPONSE_IP.shape[0]\n",
    "raw_len_sw = RESPONSE_SW.shape[0]\n",
    "\n",
    "# this is to simulate the imbalanced data - ensure the same ratio within STAGE III\n",
    "ratio_aw = 0.6\n",
    "ratio_eq = 1\n",
    "ratio_ip = 1\n",
    "ratio_sw = 1\n",
    "\n",
    "uselen_aw = int(raw_len_av * ratio_aw)\n",
    "uselen_eq = int(raw_len_eq * ratio_eq)  \n",
    "uselen_ip = int(raw_len_ip * ratio_ip)\n",
    "uselen_sw = int(raw_len_sw * ratio_sw)\n",
    "\n",
    "# randomly pick uselen_aw samples from RESPONSE_XX, no repeat\n",
    "idx_aw = random.sample(range(raw_len_av), uselen_aw)\n",
    "idx_eq = random.sample(range(raw_len_eq), uselen_eq)\n",
    "idx_ip = random.sample(range(raw_len_ip), uselen_ip)\n",
    "idx_sw = random.sample(range(raw_len_sw), uselen_sw)\n",
    "\n",
    "RESPONSE_AV = RESPONSE_AV[idx_aw]\n",
    "RESPONSE_EQ = RESPONSE_EQ[idx_eq]\n",
    "RESPONSE_IP = RESPONSE_IP[idx_ip]\n",
    "RESPONSE_SW = RESPONSE_SW[idx_sw]\n",
    "\n",
    "## Check Data Info\n",
    "print(type(RESPONSE_AV))\n",
    "print('RESPONSE_AV Shape:', RESPONSE_AV.shape)\n",
    "print(type(RESPONSE_EQ))\n",
    "print('RESPONSE_EQ Shape:', RESPONSE_EQ.shape)\n",
    "print(type(RESPONSE_IP))\n",
    "print('RESPONSE_IP Shape:', RESPONSE_IP.shape)\n",
    "print(type(RESPONSE_SW))\n",
    "print('RESPONSE_SW Shape:', RESPONSE_SW.shape)\n",
    "\n",
    "num_type = 4\n",
    "\n",
    "signal_length = RESPONSE_AV.shape[1]\n",
    "\n",
    "LenTS = signal_length\n",
    "\n",
    "# ratio of non-interested data to interested data\n",
    "ratio_ni = RESPONSE_AV.shape[0] / (RESPONSE_EQ.shape[0] + RESPONSE_IP.shape[0] + RESPONSE_SW.shape[0])\n",
    "\n",
    "print('Ratio of Non-Interested Data to Interested Data:', ratio_ni)\n",
    "\n",
    "## Stack Data\n",
    "RESPONSE = np.vstack((RESPONSE_AV, RESPONSE_EQ, RESPONSE_IP, RESPONSE_SW))\n",
    "\n",
    "## Total Number of Samples\n",
    "NumSample = RESPONSE.shape[0]\n",
    "print('Total Number of Samples:', NumSample) "
   ]
  },
  {
   "cell_type": "code",
   "execution_count": 3,
   "metadata": {},
   "outputs": [
    {
     "name": "stdout",
     "output_type": "stream",
     "text": [
      "Number of AV: 150\n",
      "Number of EQ: 50\n",
      "Number of IP: 50\n",
      "Number of SW: 50\n"
     ]
    }
   ],
   "source": [
    "NUM_AV = RESPONSE_AV.shape[0]\n",
    "NUM_EQ = RESPONSE_EQ.shape[0]\n",
    "NUM_IP = RESPONSE_IP.shape[0]\n",
    "NUM_SW = RESPONSE_SW.shape[0]\n",
    "\n",
    "#print\n",
    "print('Number of AV:', NUM_AV)\n",
    "print('Number of EQ:', NUM_EQ)\n",
    "print('Number of IP:', NUM_IP)\n",
    "print('Number of SW:', NUM_SW)"
   ]
  },
  {
   "cell_type": "markdown",
   "metadata": {},
   "source": [
    "### SYSTEM\n",
    "IN NATURE - THE TRIGGERING MECHANISM"
   ]
  },
  {
   "cell_type": "code",
   "execution_count": 4,
   "metadata": {},
   "outputs": [],
   "source": [
    "# embodied in the triggering.py"
   ]
  },
  {
   "cell_type": "code",
   "execution_count": 5,
   "metadata": {},
   "outputs": [
    {
     "name": "stdout",
     "output_type": "stream",
     "text": [
      "Maximum of AV: 0.01547498134477587\n",
      "Minimum of AV: 5.471121479784513e-07\n"
     ]
    }
   ],
   "source": [
    "# determine the search space by check the maximum and minimum of the data - ambient vibration\n",
    "max_noise = np.max(abs(RESPONSE_AV))\n",
    "min_noise = np.min(abs(RESPONSE_AV))\n",
    "print('Maximum of AV:', max_noise)\n",
    "print('Minimum of AV:', min_noise)\n",
    "\n",
    "# determine the lower and upper bound of the search space\n",
    "ub_factor = 2\n",
    "lb_factor = 0.01"
   ]
  },
  {
   "cell_type": "code",
   "execution_count": 6,
   "metadata": {},
   "outputs": [
    {
     "name": "stdout",
     "output_type": "stream",
     "text": [
      "Lower Bound of para_a: 7.737764228461925e-05\n",
      "Upper Bound of para_a: 0.015475528456923848\n",
      "Lower Bound of para_b: 2\n",
      "Upper Bound of para_b: 10\n"
     ]
    }
   ],
   "source": [
    "# configuration\n",
    "\n",
    "## para_a stands for the triggering threshold amplitude (continuous)\n",
    "para_a_lb = lb_factor*(max_noise + min_noise)/2\n",
    "para_a_ub = ub_factor*(max_noise + min_noise)/2\n",
    "\n",
    "print('Lower Bound of para_a:', para_a_lb)\n",
    "print('Upper Bound of para_a:', para_a_ub)\n",
    "\n",
    "## para_b stands for the triggering threshold duration (discrete integer)\n",
    "para_b_lb = 2\n",
    "para_b_ub = 10\n",
    "\n",
    "print('Lower Bound of para_b:', para_b_lb)\n",
    "print('Upper Bound of para_b:', para_b_ub)"
   ]
  },
  {
   "cell_type": "code",
   "execution_count": 7,
   "metadata": {},
   "outputs": [
    {
     "name": "stdout",
     "output_type": "stream",
     "text": [
      "0\n"
     ]
    }
   ],
   "source": [
    "# test\n",
    "test_data = RESPONSE_AV[0]\n",
    "\n",
    "para_a = 0.5\n",
    "para_b = 2\n",
    "\n",
    "trig_flg = trig.activation(test_data, para_a, para_b)\n",
    "print(trig_flg[0]) # the first element stands for the triggering flag, and the second element stands for the triggering time"
   ]
  },
  {
   "cell_type": "markdown",
   "metadata": {},
   "source": [
    "### ESTIMATOR\n",
    "IN NATURE - TRIGGERING MECHANISM & GROUND TRUTH"
   ]
  },
  {
   "cell_type": "code",
   "execution_count": 8,
   "metadata": {},
   "outputs": [],
   "source": [
    "beta = 3 # beta value to balance the precision and recall"
   ]
  },
  {
   "cell_type": "code",
   "execution_count": 9,
   "metadata": {},
   "outputs": [],
   "source": [
    "# USED PARAMETER of the Dataset\n",
    "\n",
    "# nn_in_len = 128 # nn input length can be automatically calculated from the model input size\n",
    "dt = 0.01  # time step, change according to the dataset\n",
    "nperseg = 128 # number of points for each segment in spectrogram"
   ]
  },
  {
   "cell_type": "markdown",
   "metadata": {},
   "source": [
    "#### Classifier - CNN Model"
   ]
  },
  {
   "cell_type": "code",
   "execution_count": 10,
   "metadata": {},
   "outputs": [
    {
     "data": {
      "text/html": [
       "<pre style=\"white-space:pre;overflow-x:auto;line-height:normal;font-family:Menlo,'DejaVu Sans Mono',consolas,'Courier New',monospace\"><span style=\"font-weight: bold\">Model: \"functional\"</span>\n",
       "</pre>\n"
      ],
      "text/plain": [
       "\u001b[1mModel: \"functional\"\u001b[0m\n"
      ]
     },
     "metadata": {},
     "output_type": "display_data"
    },
    {
     "data": {
      "text/html": [
       "<pre style=\"white-space:pre;overflow-x:auto;line-height:normal;font-family:Menlo,'DejaVu Sans Mono',consolas,'Courier New',monospace\">┏━━━━━━━━━━━━━━━━━━━━━━━━━━━━━━━━━┳━━━━━━━━━━━━━━━━━━━━━━━━┳━━━━━━━━━━━━━━━┓\n",
       "┃<span style=\"font-weight: bold\"> Layer (type)                    </span>┃<span style=\"font-weight: bold\"> Output Shape           </span>┃<span style=\"font-weight: bold\">       Param # </span>┃\n",
       "┡━━━━━━━━━━━━━━━━━━━━━━━━━━━━━━━━━╇━━━━━━━━━━━━━━━━━━━━━━━━╇━━━━━━━━━━━━━━━┩\n",
       "│ input_layer (<span style=\"color: #0087ff; text-decoration-color: #0087ff\">InputLayer</span>)        │ (<span style=\"color: #00d7ff; text-decoration-color: #00d7ff\">None</span>, <span style=\"color: #00af00; text-decoration-color: #00af00\">128</span>, <span style=\"color: #00af00; text-decoration-color: #00af00\">1</span>)         │             <span style=\"color: #00af00; text-decoration-color: #00af00\">0</span> │\n",
       "├─────────────────────────────────┼────────────────────────┼───────────────┤\n",
       "│ conv1d (<span style=\"color: #0087ff; text-decoration-color: #0087ff\">Conv1D</span>)                 │ (<span style=\"color: #00d7ff; text-decoration-color: #00d7ff\">None</span>, <span style=\"color: #00af00; text-decoration-color: #00af00\">128</span>, <span style=\"color: #00af00; text-decoration-color: #00af00\">4</span>)         │            <span style=\"color: #00af00; text-decoration-color: #00af00\">16</span> │\n",
       "├─────────────────────────────────┼────────────────────────┼───────────────┤\n",
       "│ batch_normalization             │ (<span style=\"color: #00d7ff; text-decoration-color: #00d7ff\">None</span>, <span style=\"color: #00af00; text-decoration-color: #00af00\">128</span>, <span style=\"color: #00af00; text-decoration-color: #00af00\">4</span>)         │            <span style=\"color: #00af00; text-decoration-color: #00af00\">16</span> │\n",
       "│ (<span style=\"color: #0087ff; text-decoration-color: #0087ff\">BatchNormalization</span>)            │                        │               │\n",
       "├─────────────────────────────────┼────────────────────────┼───────────────┤\n",
       "│ re_lu (<span style=\"color: #0087ff; text-decoration-color: #0087ff\">ReLU</span>)                    │ (<span style=\"color: #00d7ff; text-decoration-color: #00d7ff\">None</span>, <span style=\"color: #00af00; text-decoration-color: #00af00\">128</span>, <span style=\"color: #00af00; text-decoration-color: #00af00\">4</span>)         │             <span style=\"color: #00af00; text-decoration-color: #00af00\">0</span> │\n",
       "├─────────────────────────────────┼────────────────────────┼───────────────┤\n",
       "│ global_average_pooling1d        │ (<span style=\"color: #00d7ff; text-decoration-color: #00d7ff\">None</span>, <span style=\"color: #00af00; text-decoration-color: #00af00\">4</span>)              │             <span style=\"color: #00af00; text-decoration-color: #00af00\">0</span> │\n",
       "│ (<span style=\"color: #0087ff; text-decoration-color: #0087ff\">GlobalAveragePooling1D</span>)        │                        │               │\n",
       "├─────────────────────────────────┼────────────────────────┼───────────────┤\n",
       "│ dense (<span style=\"color: #0087ff; text-decoration-color: #0087ff\">Dense</span>)                   │ (<span style=\"color: #00d7ff; text-decoration-color: #00d7ff\">None</span>, <span style=\"color: #00af00; text-decoration-color: #00af00\">4</span>)              │            <span style=\"color: #00af00; text-decoration-color: #00af00\">20</span> │\n",
       "└─────────────────────────────────┴────────────────────────┴───────────────┘\n",
       "</pre>\n"
      ],
      "text/plain": [
       "┏━━━━━━━━━━━━━━━━━━━━━━━━━━━━━━━━━┳━━━━━━━━━━━━━━━━━━━━━━━━┳━━━━━━━━━━━━━━━┓\n",
       "┃\u001b[1m \u001b[0m\u001b[1mLayer (type)                   \u001b[0m\u001b[1m \u001b[0m┃\u001b[1m \u001b[0m\u001b[1mOutput Shape          \u001b[0m\u001b[1m \u001b[0m┃\u001b[1m \u001b[0m\u001b[1m      Param #\u001b[0m\u001b[1m \u001b[0m┃\n",
       "┡━━━━━━━━━━━━━━━━━━━━━━━━━━━━━━━━━╇━━━━━━━━━━━━━━━━━━━━━━━━╇━━━━━━━━━━━━━━━┩\n",
       "│ input_layer (\u001b[38;5;33mInputLayer\u001b[0m)        │ (\u001b[38;5;45mNone\u001b[0m, \u001b[38;5;34m128\u001b[0m, \u001b[38;5;34m1\u001b[0m)         │             \u001b[38;5;34m0\u001b[0m │\n",
       "├─────────────────────────────────┼────────────────────────┼───────────────┤\n",
       "│ conv1d (\u001b[38;5;33mConv1D\u001b[0m)                 │ (\u001b[38;5;45mNone\u001b[0m, \u001b[38;5;34m128\u001b[0m, \u001b[38;5;34m4\u001b[0m)         │            \u001b[38;5;34m16\u001b[0m │\n",
       "├─────────────────────────────────┼────────────────────────┼───────────────┤\n",
       "│ batch_normalization             │ (\u001b[38;5;45mNone\u001b[0m, \u001b[38;5;34m128\u001b[0m, \u001b[38;5;34m4\u001b[0m)         │            \u001b[38;5;34m16\u001b[0m │\n",
       "│ (\u001b[38;5;33mBatchNormalization\u001b[0m)            │                        │               │\n",
       "├─────────────────────────────────┼────────────────────────┼───────────────┤\n",
       "│ re_lu (\u001b[38;5;33mReLU\u001b[0m)                    │ (\u001b[38;5;45mNone\u001b[0m, \u001b[38;5;34m128\u001b[0m, \u001b[38;5;34m4\u001b[0m)         │             \u001b[38;5;34m0\u001b[0m │\n",
       "├─────────────────────────────────┼────────────────────────┼───────────────┤\n",
       "│ global_average_pooling1d        │ (\u001b[38;5;45mNone\u001b[0m, \u001b[38;5;34m4\u001b[0m)              │             \u001b[38;5;34m0\u001b[0m │\n",
       "│ (\u001b[38;5;33mGlobalAveragePooling1D\u001b[0m)        │                        │               │\n",
       "├─────────────────────────────────┼────────────────────────┼───────────────┤\n",
       "│ dense (\u001b[38;5;33mDense\u001b[0m)                   │ (\u001b[38;5;45mNone\u001b[0m, \u001b[38;5;34m4\u001b[0m)              │            \u001b[38;5;34m20\u001b[0m │\n",
       "└─────────────────────────────────┴────────────────────────┴───────────────┘\n"
      ]
     },
     "metadata": {},
     "output_type": "display_data"
    },
    {
     "data": {
      "text/html": [
       "<pre style=\"white-space:pre;overflow-x:auto;line-height:normal;font-family:Menlo,'DejaVu Sans Mono',consolas,'Courier New',monospace\"><span style=\"font-weight: bold\"> Total params: </span><span style=\"color: #00af00; text-decoration-color: #00af00\">142</span> (572.00 B)\n",
       "</pre>\n"
      ],
      "text/plain": [
       "\u001b[1m Total params: \u001b[0m\u001b[38;5;34m142\u001b[0m (572.00 B)\n"
      ]
     },
     "metadata": {},
     "output_type": "display_data"
    },
    {
     "data": {
      "text/html": [
       "<pre style=\"white-space:pre;overflow-x:auto;line-height:normal;font-family:Menlo,'DejaVu Sans Mono',consolas,'Courier New',monospace\"><span style=\"font-weight: bold\"> Trainable params: </span><span style=\"color: #00af00; text-decoration-color: #00af00\">44</span> (176.00 B)\n",
       "</pre>\n"
      ],
      "text/plain": [
       "\u001b[1m Trainable params: \u001b[0m\u001b[38;5;34m44\u001b[0m (176.00 B)\n"
      ]
     },
     "metadata": {},
     "output_type": "display_data"
    },
    {
     "data": {
      "text/html": [
       "<pre style=\"white-space:pre;overflow-x:auto;line-height:normal;font-family:Menlo,'DejaVu Sans Mono',consolas,'Courier New',monospace\"><span style=\"font-weight: bold\"> Non-trainable params: </span><span style=\"color: #00af00; text-decoration-color: #00af00\">8</span> (32.00 B)\n",
       "</pre>\n"
      ],
      "text/plain": [
       "\u001b[1m Non-trainable params: \u001b[0m\u001b[38;5;34m8\u001b[0m (32.00 B)\n"
      ]
     },
     "metadata": {},
     "output_type": "display_data"
    },
    {
     "data": {
      "text/html": [
       "<pre style=\"white-space:pre;overflow-x:auto;line-height:normal;font-family:Menlo,'DejaVu Sans Mono',consolas,'Courier New',monospace\"><span style=\"font-weight: bold\"> Optimizer params: </span><span style=\"color: #00af00; text-decoration-color: #00af00\">90</span> (364.00 B)\n",
       "</pre>\n"
      ],
      "text/plain": [
       "\u001b[1m Optimizer params: \u001b[0m\u001b[38;5;34m90\u001b[0m (364.00 B)\n"
      ]
     },
     "metadata": {},
     "output_type": "display_data"
    }
   ],
   "source": [
    "# CNN Classifier Model Path\n",
    "classifier_model_path = r'../01-PRE-DEPLOYMENT/03-NN-TRAINING-CNN/cnn_model.keras'\n",
    "CNN_Model = keras.saving.load_model(classifier_model_path)\n",
    "CNN_Model.summary()"
   ]
  },
  {
   "cell_type": "markdown",
   "metadata": {},
   "source": [
    "Predictor - DNN Model"
   ]
  },
  {
   "cell_type": "code",
   "execution_count": 11,
   "metadata": {},
   "outputs": [
    {
     "data": {
      "text/html": [
       "<pre style=\"white-space:pre;overflow-x:auto;line-height:normal;font-family:Menlo,'DejaVu Sans Mono',consolas,'Courier New',monospace\"><span style=\"font-weight: bold\">Model: \"sequential\"</span>\n",
       "</pre>\n"
      ],
      "text/plain": [
       "\u001b[1mModel: \"sequential\"\u001b[0m\n"
      ]
     },
     "metadata": {},
     "output_type": "display_data"
    },
    {
     "data": {
      "text/html": [
       "<pre style=\"white-space:pre;overflow-x:auto;line-height:normal;font-family:Menlo,'DejaVu Sans Mono',consolas,'Courier New',monospace\">┏━━━━━━━━━━━━━━━━━━━━━━━━━━━━━━━━━┳━━━━━━━━━━━━━━━━━━━━━━━━┳━━━━━━━━━━━━━━━┓\n",
       "┃<span style=\"font-weight: bold\"> Layer (type)                    </span>┃<span style=\"font-weight: bold\"> Output Shape           </span>┃<span style=\"font-weight: bold\">       Param # </span>┃\n",
       "┡━━━━━━━━━━━━━━━━━━━━━━━━━━━━━━━━━╇━━━━━━━━━━━━━━━━━━━━━━━━╇━━━━━━━━━━━━━━━┩\n",
       "│ dense (<span style=\"color: #0087ff; text-decoration-color: #0087ff\">Dense</span>)                   │ (<span style=\"color: #00d7ff; text-decoration-color: #00d7ff\">None</span>, <span style=\"color: #00af00; text-decoration-color: #00af00\">16</span>)             │            <span style=\"color: #00af00; text-decoration-color: #00af00\">64</span> │\n",
       "├─────────────────────────────────┼────────────────────────┼───────────────┤\n",
       "│ dense_1 (<span style=\"color: #0087ff; text-decoration-color: #0087ff\">Dense</span>)                 │ (<span style=\"color: #00d7ff; text-decoration-color: #00d7ff\">None</span>, <span style=\"color: #00af00; text-decoration-color: #00af00\">8</span>)              │           <span style=\"color: #00af00; text-decoration-color: #00af00\">136</span> │\n",
       "├─────────────────────────────────┼────────────────────────┼───────────────┤\n",
       "│ dense_2 (<span style=\"color: #0087ff; text-decoration-color: #0087ff\">Dense</span>)                 │ (<span style=\"color: #00d7ff; text-decoration-color: #00d7ff\">None</span>, <span style=\"color: #00af00; text-decoration-color: #00af00\">1</span>)              │             <span style=\"color: #00af00; text-decoration-color: #00af00\">9</span> │\n",
       "└─────────────────────────────────┴────────────────────────┴───────────────┘\n",
       "</pre>\n"
      ],
      "text/plain": [
       "┏━━━━━━━━━━━━━━━━━━━━━━━━━━━━━━━━━┳━━━━━━━━━━━━━━━━━━━━━━━━┳━━━━━━━━━━━━━━━┓\n",
       "┃\u001b[1m \u001b[0m\u001b[1mLayer (type)                   \u001b[0m\u001b[1m \u001b[0m┃\u001b[1m \u001b[0m\u001b[1mOutput Shape          \u001b[0m\u001b[1m \u001b[0m┃\u001b[1m \u001b[0m\u001b[1m      Param #\u001b[0m\u001b[1m \u001b[0m┃\n",
       "┡━━━━━━━━━━━━━━━━━━━━━━━━━━━━━━━━━╇━━━━━━━━━━━━━━━━━━━━━━━━╇━━━━━━━━━━━━━━━┩\n",
       "│ dense (\u001b[38;5;33mDense\u001b[0m)                   │ (\u001b[38;5;45mNone\u001b[0m, \u001b[38;5;34m16\u001b[0m)             │            \u001b[38;5;34m64\u001b[0m │\n",
       "├─────────────────────────────────┼────────────────────────┼───────────────┤\n",
       "│ dense_1 (\u001b[38;5;33mDense\u001b[0m)                 │ (\u001b[38;5;45mNone\u001b[0m, \u001b[38;5;34m8\u001b[0m)              │           \u001b[38;5;34m136\u001b[0m │\n",
       "├─────────────────────────────────┼────────────────────────┼───────────────┤\n",
       "│ dense_2 (\u001b[38;5;33mDense\u001b[0m)                 │ (\u001b[38;5;45mNone\u001b[0m, \u001b[38;5;34m1\u001b[0m)              │             \u001b[38;5;34m9\u001b[0m │\n",
       "└─────────────────────────────────┴────────────────────────┴───────────────┘\n"
      ]
     },
     "metadata": {},
     "output_type": "display_data"
    },
    {
     "data": {
      "text/html": [
       "<pre style=\"white-space:pre;overflow-x:auto;line-height:normal;font-family:Menlo,'DejaVu Sans Mono',consolas,'Courier New',monospace\"><span style=\"font-weight: bold\"> Total params: </span><span style=\"color: #00af00; text-decoration-color: #00af00\">629</span> (2.46 KB)\n",
       "</pre>\n"
      ],
      "text/plain": [
       "\u001b[1m Total params: \u001b[0m\u001b[38;5;34m629\u001b[0m (2.46 KB)\n"
      ]
     },
     "metadata": {},
     "output_type": "display_data"
    },
    {
     "data": {
      "text/html": [
       "<pre style=\"white-space:pre;overflow-x:auto;line-height:normal;font-family:Menlo,'DejaVu Sans Mono',consolas,'Courier New',monospace\"><span style=\"font-weight: bold\"> Trainable params: </span><span style=\"color: #00af00; text-decoration-color: #00af00\">209</span> (836.00 B)\n",
       "</pre>\n"
      ],
      "text/plain": [
       "\u001b[1m Trainable params: \u001b[0m\u001b[38;5;34m209\u001b[0m (836.00 B)\n"
      ]
     },
     "metadata": {},
     "output_type": "display_data"
    },
    {
     "data": {
      "text/html": [
       "<pre style=\"white-space:pre;overflow-x:auto;line-height:normal;font-family:Menlo,'DejaVu Sans Mono',consolas,'Courier New',monospace\"><span style=\"font-weight: bold\"> Non-trainable params: </span><span style=\"color: #00af00; text-decoration-color: #00af00\">0</span> (0.00 B)\n",
       "</pre>\n"
      ],
      "text/plain": [
       "\u001b[1m Non-trainable params: \u001b[0m\u001b[38;5;34m0\u001b[0m (0.00 B)\n"
      ]
     },
     "metadata": {},
     "output_type": "display_data"
    },
    {
     "data": {
      "text/html": [
       "<pre style=\"white-space:pre;overflow-x:auto;line-height:normal;font-family:Menlo,'DejaVu Sans Mono',consolas,'Courier New',monospace\"><span style=\"font-weight: bold\"> Optimizer params: </span><span style=\"color: #00af00; text-decoration-color: #00af00\">420</span> (1.64 KB)\n",
       "</pre>\n"
      ],
      "text/plain": [
       "\u001b[1m Optimizer params: \u001b[0m\u001b[38;5;34m420\u001b[0m (1.64 KB)\n"
      ]
     },
     "metadata": {},
     "output_type": "display_data"
    },
    {
     "data": {
      "text/html": [
       "<pre style=\"white-space:pre;overflow-x:auto;line-height:normal;font-family:Menlo,'DejaVu Sans Mono',consolas,'Courier New',monospace\"><span style=\"font-weight: bold\">Model: \"sequential_1\"</span>\n",
       "</pre>\n"
      ],
      "text/plain": [
       "\u001b[1mModel: \"sequential_1\"\u001b[0m\n"
      ]
     },
     "metadata": {},
     "output_type": "display_data"
    },
    {
     "data": {
      "text/html": [
       "<pre style=\"white-space:pre;overflow-x:auto;line-height:normal;font-family:Menlo,'DejaVu Sans Mono',consolas,'Courier New',monospace\">┏━━━━━━━━━━━━━━━━━━━━━━━━━━━━━━━━━┳━━━━━━━━━━━━━━━━━━━━━━━━┳━━━━━━━━━━━━━━━┓\n",
       "┃<span style=\"font-weight: bold\"> Layer (type)                    </span>┃<span style=\"font-weight: bold\"> Output Shape           </span>┃<span style=\"font-weight: bold\">       Param # </span>┃\n",
       "┡━━━━━━━━━━━━━━━━━━━━━━━━━━━━━━━━━╇━━━━━━━━━━━━━━━━━━━━━━━━╇━━━━━━━━━━━━━━━┩\n",
       "│ dense_3 (<span style=\"color: #0087ff; text-decoration-color: #0087ff\">Dense</span>)                 │ (<span style=\"color: #00d7ff; text-decoration-color: #00d7ff\">None</span>, <span style=\"color: #00af00; text-decoration-color: #00af00\">16</span>)             │            <span style=\"color: #00af00; text-decoration-color: #00af00\">64</span> │\n",
       "├─────────────────────────────────┼────────────────────────┼───────────────┤\n",
       "│ dense_4 (<span style=\"color: #0087ff; text-decoration-color: #0087ff\">Dense</span>)                 │ (<span style=\"color: #00d7ff; text-decoration-color: #00d7ff\">None</span>, <span style=\"color: #00af00; text-decoration-color: #00af00\">8</span>)              │           <span style=\"color: #00af00; text-decoration-color: #00af00\">136</span> │\n",
       "├─────────────────────────────────┼────────────────────────┼───────────────┤\n",
       "│ dense_5 (<span style=\"color: #0087ff; text-decoration-color: #0087ff\">Dense</span>)                 │ (<span style=\"color: #00d7ff; text-decoration-color: #00d7ff\">None</span>, <span style=\"color: #00af00; text-decoration-color: #00af00\">1</span>)              │             <span style=\"color: #00af00; text-decoration-color: #00af00\">9</span> │\n",
       "└─────────────────────────────────┴────────────────────────┴───────────────┘\n",
       "</pre>\n"
      ],
      "text/plain": [
       "┏━━━━━━━━━━━━━━━━━━━━━━━━━━━━━━━━━┳━━━━━━━━━━━━━━━━━━━━━━━━┳━━━━━━━━━━━━━━━┓\n",
       "┃\u001b[1m \u001b[0m\u001b[1mLayer (type)                   \u001b[0m\u001b[1m \u001b[0m┃\u001b[1m \u001b[0m\u001b[1mOutput Shape          \u001b[0m\u001b[1m \u001b[0m┃\u001b[1m \u001b[0m\u001b[1m      Param #\u001b[0m\u001b[1m \u001b[0m┃\n",
       "┡━━━━━━━━━━━━━━━━━━━━━━━━━━━━━━━━━╇━━━━━━━━━━━━━━━━━━━━━━━━╇━━━━━━━━━━━━━━━┩\n",
       "│ dense_3 (\u001b[38;5;33mDense\u001b[0m)                 │ (\u001b[38;5;45mNone\u001b[0m, \u001b[38;5;34m16\u001b[0m)             │            \u001b[38;5;34m64\u001b[0m │\n",
       "├─────────────────────────────────┼────────────────────────┼───────────────┤\n",
       "│ dense_4 (\u001b[38;5;33mDense\u001b[0m)                 │ (\u001b[38;5;45mNone\u001b[0m, \u001b[38;5;34m8\u001b[0m)              │           \u001b[38;5;34m136\u001b[0m │\n",
       "├─────────────────────────────────┼────────────────────────┼───────────────┤\n",
       "│ dense_5 (\u001b[38;5;33mDense\u001b[0m)                 │ (\u001b[38;5;45mNone\u001b[0m, \u001b[38;5;34m1\u001b[0m)              │             \u001b[38;5;34m9\u001b[0m │\n",
       "└─────────────────────────────────┴────────────────────────┴───────────────┘\n"
      ]
     },
     "metadata": {},
     "output_type": "display_data"
    },
    {
     "data": {
      "text/html": [
       "<pre style=\"white-space:pre;overflow-x:auto;line-height:normal;font-family:Menlo,'DejaVu Sans Mono',consolas,'Courier New',monospace\"><span style=\"font-weight: bold\"> Total params: </span><span style=\"color: #00af00; text-decoration-color: #00af00\">629</span> (2.46 KB)\n",
       "</pre>\n"
      ],
      "text/plain": [
       "\u001b[1m Total params: \u001b[0m\u001b[38;5;34m629\u001b[0m (2.46 KB)\n"
      ]
     },
     "metadata": {},
     "output_type": "display_data"
    },
    {
     "data": {
      "text/html": [
       "<pre style=\"white-space:pre;overflow-x:auto;line-height:normal;font-family:Menlo,'DejaVu Sans Mono',consolas,'Courier New',monospace\"><span style=\"font-weight: bold\"> Trainable params: </span><span style=\"color: #00af00; text-decoration-color: #00af00\">209</span> (836.00 B)\n",
       "</pre>\n"
      ],
      "text/plain": [
       "\u001b[1m Trainable params: \u001b[0m\u001b[38;5;34m209\u001b[0m (836.00 B)\n"
      ]
     },
     "metadata": {},
     "output_type": "display_data"
    },
    {
     "data": {
      "text/html": [
       "<pre style=\"white-space:pre;overflow-x:auto;line-height:normal;font-family:Menlo,'DejaVu Sans Mono',consolas,'Courier New',monospace\"><span style=\"font-weight: bold\"> Non-trainable params: </span><span style=\"color: #00af00; text-decoration-color: #00af00\">0</span> (0.00 B)\n",
       "</pre>\n"
      ],
      "text/plain": [
       "\u001b[1m Non-trainable params: \u001b[0m\u001b[38;5;34m0\u001b[0m (0.00 B)\n"
      ]
     },
     "metadata": {},
     "output_type": "display_data"
    },
    {
     "data": {
      "text/html": [
       "<pre style=\"white-space:pre;overflow-x:auto;line-height:normal;font-family:Menlo,'DejaVu Sans Mono',consolas,'Courier New',monospace\"><span style=\"font-weight: bold\"> Optimizer params: </span><span style=\"color: #00af00; text-decoration-color: #00af00\">420</span> (1.64 KB)\n",
       "</pre>\n"
      ],
      "text/plain": [
       "\u001b[1m Optimizer params: \u001b[0m\u001b[38;5;34m420\u001b[0m (1.64 KB)\n"
      ]
     },
     "metadata": {},
     "output_type": "display_data"
    }
   ],
   "source": [
    "# DNN Predictor Model Path\n",
    "recall_model_path = r'../01-PRE-DEPLOYMENT/04-NN-TRAINING-DNN/recall_est.keras'\n",
    "Recall_Model = keras.saving.load_model(recall_model_path)\n",
    "Recall_Model.summary()\n",
    "\n",
    "# DNN Predictor Model Path\n",
    "precision_model_path = r'../01-PRE-DEPLOYMENT/04-NN-TRAINING-DNN/precision_est.keras'\n",
    "Precision_Model = keras.saving.load_model(precision_model_path)\n",
    "Precision_Model.summary()"
   ]
  },
  {
   "cell_type": "code",
   "execution_count": 12,
   "metadata": {},
   "outputs": [
    {
     "name": "stdout",
     "output_type": "stream",
     "text": [
      "Input Data Length: 128\n"
     ]
    }
   ],
   "source": [
    "# get the input data length\n",
    "nn_in_len = CNN_Model.input_shape[1]\n",
    "print('Input Data Length:', nn_in_len)"
   ]
  },
  {
   "cell_type": "code",
   "execution_count": 13,
   "metadata": {},
   "outputs": [
    {
     "name": "stdout",
     "output_type": "stream",
     "text": [
      "Test Data Shape: (1, 6000)\n"
     ]
    },
    {
     "data": {
      "image/png": "[encoded data removed]",
      "text/plain": [
       "<Figure size 640x480 with 1 Axes>"
      ]
     },
     "metadata": {},
     "output_type": "display_data"
    }
   ],
   "source": [
    "# model test by loading a piece of data from the dataset, and feed intot he prenn function\n",
    "\n",
    "# index for the random data\n",
    "idx = np.random.randint(NumSample)\n",
    "\n",
    "# get the data\n",
    "test_data = RESPONSE[idx, :].reshape(1, LenTS)\n",
    "\n",
    "print('Test Data Shape:', test_data.shape)\n",
    "\n",
    "# plot the test data\n",
    "plt.figure()\n",
    "plt.plot(test_data[0, :])\n",
    "plt.title('Test Data')\n",
    "plt.show()\n"
   ]
  },
  {
   "cell_type": "code",
   "execution_count": 14,
   "metadata": {},
   "outputs": [
    {
     "data": {
      "image/png": "[encoded data removed]",
      "text/plain": [
       "<Figure size 640x480 with 1 Axes>"
      ]
     },
     "metadata": {},
     "output_type": "display_data"
    }
   ],
   "source": [
    "# preprocess\n",
    "output_length = nn_in_len\n",
    "test_data = prenn.prenn(test_data, dt, nperseg, output_length)\n",
    "\n",
    "# print the preprocessed data\n",
    "plt.figure()\n",
    "plt.plot(test_data[0, :])\n",
    "plt.title('Preprocessed Test Data')\n",
    "plt.show()"
   ]
  },
  {
   "cell_type": "code",
   "execution_count": 15,
   "metadata": {},
   "outputs": [
    {
     "name": "stdout",
     "output_type": "stream",
     "text": [
      "Preprocessed Test Data Shape: (1, 128, 1)\n",
      "\u001b[1m1/1\u001b[0m \u001b[32m━━━━━━━━━━━━━━━━━━━━\u001b[0m\u001b[37m\u001b[0m \u001b[1m0s\u001b[0m 81ms/step\n",
      "Tensorflow Model Prediction: [[9.9977368e-01 4.4762295e-13 5.4419479e-06 2.2081473e-04]]\n",
      "Tensorflow Model Prediction: 0\n"
     ]
    }
   ],
   "source": [
    "test_data = test_data.reshape(1, nn_in_len, 1)\n",
    "\n",
    "print('Preprocessed Test Data Shape:', test_data.shape)\n",
    "\n",
    "# test the model\n",
    "test_result = CNN_Model.predict(test_data)\n",
    "print('Tensorflow Model Prediction:', test_result)\n",
    "\n",
    "# parse the result to get the label\n",
    "result_label = np.argmax(test_result)\n",
    "\n",
    "print('Tensorflow Model Prediction:', result_label)"
   ]
  },
  {
   "cell_type": "markdown",
   "metadata": {},
   "source": [
    "### CONTROLLER\n",
    "IN NATURE - THE BAYESIAN OPTIMIZATION FRAMEWORK FOR OPTIMIZATION AND CONTROLL"
   ]
  },
  {
   "cell_type": "code",
   "execution_count": 16,
   "metadata": {},
   "outputs": [],
   "source": [
    "# the bayesian optimization algorithm, will be covered in the next section"
   ]
  },
  {
   "cell_type": "markdown",
   "metadata": {},
   "source": [
    "## BAYESIAN OPTIMIZATION FRAMEWORK"
   ]
  },
  {
   "cell_type": "markdown",
   "metadata": {},
   "source": [
    "### Helper Functions"
   ]
  },
  {
   "cell_type": "code",
   "execution_count": 17,
   "metadata": {},
   "outputs": [],
   "source": [
    "# %pip install PyQt5\n",
    "# %pip install colorama\n"
   ]
  },
  {
   "cell_type": "code",
   "execution_count": 18,
   "metadata": {},
   "outputs": [],
   "source": [
    "# # use pop-up window for plots\n",
    "# %matplotlib qt5 \n",
    "# from mpl_toolkits.mplot3d import Axes3D\n",
    "# from matplotlib.animation import FuncAnimation\n",
    "# # print control\n",
    "# from colorama import init, Fore, Back, Style"
   ]
  },
  {
   "cell_type": "code",
   "execution_count": 19,
   "metadata": {},
   "outputs": [],
   "source": [
    "# CONFIGURABLE PARAMETERS\n",
    "\n",
    "## Hyperparameters\n",
    "noise_lvl = 0.1\n",
    "k_alpha = 1\n",
    "k_lambda = 1\n",
    "\n",
    "## Process Control\n",
    "num_init_points = 15\n",
    "num_iter = 20\n",
    "tolerance = 1e-3\n",
    "gap = np.inf\n",
    "\n",
    "## Acquisition Function - UCB\n",
    "ucb_beta = 0.5\n",
    "\n",
    "## Acquisition Function - PI & EI\n",
    "xi=0.01\n",
    "\n",
    "## Bonus factor for evaluation\n",
    "bonus_factor = 1.1"
   ]
  },
  {
   "cell_type": "code",
   "execution_count": 20,
   "metadata": {},
   "outputs": [
    {
     "name": "stdout",
     "output_type": "stream",
     "text": [
      "Lower Bound of para_a: 7.737764228461925e-05\n",
      "Upper Bound of para_a: 0.015475528456923848\n",
      "Lower Bound of para_b: 2\n",
      "Upper Bound of para_b: 10\n",
      "6.0\n"
     ]
    }
   ],
   "source": [
    "## Search Space\n",
    "### parameter 1 - a\n",
    "lb_a = para_a_lb\n",
    "print('Lower Bound of para_a:', lb_a)\n",
    "ub_a = para_a_ub\n",
    "print('Upper Bound of para_a:', ub_a)\n",
    "c_a = (ub_a + lb_a) / 2\n",
    "\n",
    "### parameter 2 - b\n",
    "lb_b = para_b_lb\n",
    "print('Lower Bound of para_b:', lb_b)\n",
    "ub_b = para_b_ub\n",
    "print('Upper Bound of para_b:', ub_b)\n",
    "c_b = (ub_b + lb_b) / 2\n",
    "print(c_b)"
   ]
  },
  {
   "cell_type": "markdown",
   "metadata": {},
   "source": [
    "### The Problem / System to Optimize\n",
    "\n",
    "Triggering Mechanism： Triggering Parameters In; Evaluation Index Out"
   ]
  },
  {
   "cell_type": "code",
   "execution_count": 21,
   "metadata": {},
   "outputs": [],
   "source": [
    "# THE OBJECTIVE FUNCTION (for manual setup evaluation)\n",
    "def objective_function_manual(para_a, para_b):\n",
    "\n",
    "    \"\"\" Function with unknown internals we wish to maximize.\n",
    "\n",
    "    This function defines the process to evaluate how good the parameters are for the triggering sensing mechanism.\n",
    "\n",
    "    INPUT:\n",
    "    - para_a: the threshold for the activation, positive real number\n",
    "    - para_b: activate_duration: the duration for the activation, positive integer >= 2 (as we know 1 is not error-prone in practice)\n",
    "\n",
    "    OUTPUT:\n",
    "    - evaluation value: F-beta score\n",
    "    \n",
    "    HYPERPARAMETERS:\n",
    "    - beta: the value to balance the precision and recall to calculate F-beta score\n",
    "    \n",
    "    \"\"\"\n",
    "    \n",
    "    # assistive variables\n",
    "    TP = 0\n",
    "    FP = 0\n",
    "    FN = 0\n",
    "    TN = 0\n",
    "    \n",
    "    # go through the dataset\n",
    "    for i in range(NumSample):\n",
    "    # for i in range(10):  \n",
    "        # trigger flag\n",
    "        flg_trigger = 0\n",
    "        \n",
    "        # ground truth flag\n",
    "        flg_class = 0\n",
    "        flg_interst = 0\n",
    "        \n",
    "        # get the response data\n",
    "        signal = RESPONSE[i, :].reshape(1, -1)\n",
    "        \n",
    "        # get the triggering mechanism\n",
    "        flg_trigger, trig_pos = trig.activation(signal, para_a, para_b)\n",
    "        \n",
    "        # print('Trigger Flag:', flg_trigger)\n",
    "        \n",
    "        # get the ground truth\n",
    "        if i < NUM_AV:\n",
    "            flg_interst = 0\n",
    "            flag_class = 0\n",
    "        elif i < NUM_AV + NUM_EQ:\n",
    "            flg_interst = 1\n",
    "            flag_class = 1\n",
    "        elif i < NUM_AV + NUM_EQ + NUM_IP:\n",
    "            flg_interst = 1\n",
    "            flag_class = 2\n",
    "        else:\n",
    "            flg_interst = 1\n",
    "            flag_class = 3\n",
    "\n",
    "        # get the confusion matrix - as the number of interested data is assumed to be small, we need to consider the ratio - only two classes - interested and non-interested\n",
    "        if flg_trigger == 1 and flg_interst == 1:\n",
    "            TP += 1*ratio_ni\n",
    "        elif flg_trigger == 1 and flg_interst == 0:\n",
    "            FP += 1\n",
    "        elif flg_trigger == 0 and flg_interst == 1:\n",
    "            FN += 1*ratio_ni\n",
    "        elif flg_trigger == 0 and flg_interst == 0:\n",
    "            TN += 1\n",
    "        else:\n",
    "            print('Error in Confusion Matrix Calculation')\n",
    "            \n",
    "    # demoninator\n",
    "    denominator = ((1 + beta**2) * TP + beta**2 * FN + FP)\n",
    "    if denominator == 0:\n",
    "        F_beta = 0\n",
    "        return 0\n",
    "    \n",
    "    F_beta = (1 + beta**2) * TP / ((1 + beta**2) * TP + beta**2 * FN + FP)\n",
    "    \n",
    "    # if F_beta is NaN, return 0\n",
    "    if np.isnan(F_beta):\n",
    "        F_beta = 0\n",
    "        return 0\n",
    "    \n",
    "    precision = TP / (TP + FP)\n",
    "    recall = TP / (TP + FN)\n",
    "    \n",
    "    if precision > 0.9 and recall > 0.9:\n",
    "        F_beta = F_beta * bonus_factor\n",
    "    \n",
    "    # print TP, FP, FN, TN as integer, Precision, Recall, F-beta as float number with 4 decimal places\n",
    "    print(f'para_a / para_b / TP / FP / FN / TN / Precision / Recall / F-beta: {para_a} {para_b} {int(TP)} {int(FP)} {int(FN)} {int(TN)} {precision:.4f} {recall:.4f} {F_beta:.4f}')\n",
    "\n",
    "\n",
    "    return F_beta, TP, FP, FN, TN, precision, recall\n"
   ]
  },
  {
   "cell_type": "code",
   "execution_count": 22,
   "metadata": {},
   "outputs": [
    {
     "name": "stdout",
     "output_type": "stream",
     "text": [
      "para_a / para_b / TP / FP / FN / TN / Precision / Recall / F-beta: 0.00648 2 150 150 0 0 0.5000 1.0000 0.9091\n",
      "Manual F-beta: 0.9090909090909091\n",
      "Manual Precision: 0.5\n",
      "Manual Recall: 1.0\n"
     ]
    }
   ],
   "source": [
    "# TEST / MANUAL CHECK\n",
    "\n",
    "para_a = 0.00648\n",
    "para_b = 2\n",
    "\n",
    "manual_setup = objective_function_manual(para_a, para_b)\n",
    "\n",
    "manual_f_beta = manual_setup[0]\n",
    "\n",
    "manual_precision = manual_setup[-2]\n",
    "\n",
    "manual_recall = manual_setup[-1]\n",
    "\n",
    "print('Manual F-beta:', manual_f_beta)\n",
    "\n",
    "print('Manual Precision:', manual_precision)\n",
    "\n",
    "print('Manual Recall:', manual_recall)"
   ]
  },
  {
   "cell_type": "code",
   "execution_count": 23,
   "metadata": {},
   "outputs": [],
   "source": [
    "# THE OBJECTIVE FUNCTION (for onboard fine tuning)\n",
    "def objective_function(para_a, para_b):\n",
    "\n",
    "    \"\"\" Function with unknown internals we wish to maximize.\n",
    "\n",
    "    This function defines the process to evaluate how good the parameters are for the triggering sensing mechanism.\n",
    "\n",
    "    INPUT:\n",
    "    - para_a: the threshold for the activation, positive real number\n",
    "    - para_b: activate_duration: the duration for the activation, positive integer >= 2 (as we know 1 is not error-prone in practice)\n",
    "\n",
    "    OUTPUT:\n",
    "    - evaluation value: F-beta score\n",
    "    \n",
    "    HYPERPARAMETERS:\n",
    "    - beta: the value to balance the precision and recall to calculate F-beta score\n",
    "    \n",
    "    \"\"\"\n",
    "    \n",
    "    # assistive variables\n",
    "    TP = 0\n",
    "    FP = 0\n",
    "    FN = 0\n",
    "    TN = 0\n",
    "    \n",
    "    # go through the dataset\n",
    "    for i in range(NumSample):\n",
    "    # for i in range(10):  \n",
    "        # trigger flag\n",
    "        flg_trigger = 0\n",
    "        \n",
    "        # ground truth flag\n",
    "        class_1h = np.zeros((1, num_type))\n",
    "        flg_class = 0\n",
    "        flg_interst = 0\n",
    "        \n",
    "        # get the response data\n",
    "        signal = RESPONSE[i, :].reshape(1, LenTS)\n",
    "        \n",
    "        # get the triggering mechanism\n",
    "        flg_trigger, trig_pos = trig.activation(signal, para_a, para_b)\n",
    "        \n",
    "        # print('Trigger Flag:', flg_trigger)\n",
    "        \n",
    "        # preprocess the signal for the CNN model to get the ground truth\n",
    "        signal = prenn.prenn(signal, dt, nperseg, nn_in_len)\n",
    "        \n",
    "        signal = signal.reshape(1, nn_in_len, 1)\n",
    "\n",
    "        # get the ground truth\n",
    "        class_1h = CNN_Model.predict(signal, verbose=0)\n",
    "        flag_class = np.argmax(class_1h)\n",
    "        \n",
    "        # get the ground truth\n",
    "        if flag_class > 0:\n",
    "            flg_interst = 1\n",
    "\n",
    "        # get the confusion matrix - as the number of interested data is assumed to be small, we need to consider the ratio - only two classes - interested and non-interested\n",
    "        if flg_trigger == 1 and flg_interst == 1:\n",
    "            TP += 1\n",
    "        elif flg_trigger == 1 and flg_interst == 0:\n",
    "            FP += 1\n",
    "        elif flg_trigger == 0 and flg_interst == 1:\n",
    "            FN = -1 # no use, recall will be calculated in other way\n",
    "        elif flg_trigger == 0 and flg_interst == 0:\n",
    "            TN = -1 # no use, recall will be calculated in other way\n",
    "        else:\n",
    "            print('Error in Confusion Matrix Calculation')\n",
    "    \n",
    "    # recall = Precision_Model\n",
    "    std_av = np.std(RESPONSE_AV[0, :])\n",
    "    recall_input = np.array([std_av, para_a, para_b]).reshape(1, 3)\n",
    "    recall = Recall_Model.predict(recall_input)\n",
    "    recall = float(recall)\n",
    "    \n",
    "    # if recall > 1:\n",
    "    #     recall = 1\n",
    "    # if recall < 0:\n",
    "    #     recall = 0\n",
    "    \n",
    "    # calculate precision\n",
    "    precision = TP / (TP + FP)\n",
    "            \n",
    "    # calculate the F-beta score\n",
    "    denominator = (beta**2) * precision + recall \n",
    "    if denominator == 0:\n",
    "        F_beta = 0\n",
    "    else:\n",
    "        F_beta = (1 + beta**2) * precision * recall / denominator\n",
    "    \n",
    "    # if F_beta is NaN, return 0\n",
    "    if np.isnan(F_beta):\n",
    "        F_beta = 0\n",
    "        return 0\n",
    "    \n",
    "    if precision > 0.9 and recall > 0.9:\n",
    "        F_beta = F_beta * bonus_factor\n",
    "\n",
    "    \n",
    "    \n",
    "    # print TP, FP, FN, TN as integer, Precision, Recall, F-beta as float number with 4 decimal places\n",
    "    # print('para_a / para_b /TP / FP / FN / TN / Precision / Recall / F-beta:', para_a, para_b, TP, FP, FN, TN, f'{precision:.4f}', f'{recall:.4f}', f'{F_beta:.4f}')  \n",
    "    # print('para_a / para_b ', para_a, para_b)  \n",
    "    # print('TP / FP / FN / TN / Precision / Recall / F-beta:', TP, FP, FN, TN)  \n",
    "    # print('Precision / Recall / F-beta:', f'{precision:.4f}', f'{recall:.4f}', f'{F_beta:.4f}')  \n",
    "    print(f'para_a / para_b / TP / FP / FN / TN / Precision / Recall / F-beta: {para_a} {para_b} {int(TP)} {int(FP)} {int(FN)} {int(TN)} {precision:.4f} {recall:.4f} {F_beta:.4f}')\n",
    "\n",
    "    return F_beta, TP, FP, FN, TN, precision, recall\n"
   ]
  },
  {
   "cell_type": "code",
   "execution_count": 24,
   "metadata": {},
   "outputs": [],
   "source": [
    "# THE SURROGATE MODEL - Gaussian Process - Kernel Function\n",
    "## Matern 2.5 as the kernel function\n",
    "def kernel(p1, p2, matern_alpha = 1, matern_lambda = 1):\n",
    "    # define the distance between two points p1 and p2\n",
    "    d= np.linalg.norm(p1 - p2)\n",
    "    k = matern_alpha * (1 + np.sqrt(5) * d / matern_lambda + 5 * d**2 / (3 * matern_lambda**2)) * np.exp(-np.sqrt(5) * d / matern_lambda)\n",
    "    return k\n",
    "\n",
    "## Mean and Variance of the Gaussian Process\n",
    "def mean_var(x, D, K_alpha, k_lambda):\n",
    "    # assume x is a variable of 1x1\n",
    "    # calculate the mean and variance of the Gaussian Process\n",
    "    x_dim = x.shape[1] # assume each colum is a dimension of x\n",
    "    num_D = D.shape[0] # number of data points in D\n",
    "    \n",
    "    Ktt = np.zeros((num_D, num_D))\n",
    "    for i in range(num_D):\n",
    "        for j in range(num_D):\n",
    "            Ktt[i, j] = kernel(D[i,:-1], D[j,:-1], K_alpha, k_lambda)\n",
    "    Kttn = Ktt + np.eye(num_D) * noise_lvl\n",
    "    IKttn = np.linalg.inv(Kttn)\n",
    "    \n",
    "    Kpt = np.zeros((1, num_D))\n",
    "    for i in range(num_D):\n",
    "        Kpt[0, i] = kernel(x, D[i,:-1], K_alpha, k_lambda)\n",
    "    Ktp = Kpt.T\n",
    "    Kpp = kernel(x, x, K_alpha, k_lambda)\n",
    "    \n",
    "    y = D[:,-1].reshape(-1,1)\n",
    "    \n",
    "    mean = Kpt @ IKttn @ y\n",
    "    var = Kpp - Kpt @ IKttn @ Ktp\n",
    "        \n",
    "    return mean, var"
   ]
  },
  {
   "cell_type": "code",
   "execution_count": 25,
   "metadata": {},
   "outputs": [],
   "source": [
    "# THE ACQUISITION FUNCTION - UPPER CONFIDENCE BOUND\n",
    "def S(x, D):\n",
    "    mean, var = mean_var(x, D, k_alpha, k_lambda)\n",
    "    s = mean + ucb_beta * np.sqrt(var)\n",
    "    return s"
   ]
  },
  {
   "cell_type": "code",
   "execution_count": 26,
   "metadata": {},
   "outputs": [],
   "source": [
    "def norm_cdf(x):\n",
    "    \"\"\"\n",
    "    standard normal cumulative distribution function\n",
    "    \n",
    "    \"\"\"\n",
    "    return 0.5 * (1 + np.math.erf(x / np.sqrt(2)))"
   ]
  },
  {
   "cell_type": "code",
   "execution_count": 27,
   "metadata": {},
   "outputs": [],
   "source": [
    "def norm_pdf(x):\n",
    "    \"\"\"\n",
    "    standard normal probability density function\n",
    "    \"\"\"\n",
    "    return (1 / np.sqrt(2 * np.pi)) * np.exp(-0.5 * x ** 2)"
   ]
  },
  {
   "cell_type": "code",
   "execution_count": 28,
   "metadata": {},
   "outputs": [],
   "source": [
    "# THE ACQUISITION FUNCTION - PROBABILITY OF IMPROVEMENT\n",
    "def S_PI(x, D, xi=0.01):\n",
    "    f_best = np.max(D[:,-1])\n",
    "    mean, var = mean_var(x, D, k_alpha, k_lambda)\n",
    "    z = (mean - f_best - xi) / np.sqrt(var)\n",
    "    s = norm_cdf(z)\n",
    "    return s"
   ]
  },
  {
   "cell_type": "code",
   "execution_count": 29,
   "metadata": {},
   "outputs": [],
   "source": [
    "# THE ACQUISITION FUNCTION - EXPECTATION OF IMPROVEMENT\n",
    "def S_EI(x, D, xi=0.01):\n",
    "    f_best = np.max(D[:,-1])\n",
    "    mean, var = mean_var(x, D, k_alpha, k_lambda)\n",
    "    z = (mean - f_best - xi) / np.sqrt(var)\n",
    "    s = (mean - f_best - xi) * norm_cdf(z) + np.sqrt(var) * norm_pdf(z)\n",
    "    return s"
   ]
  },
  {
   "cell_type": "code",
   "execution_count": 30,
   "metadata": {},
   "outputs": [],
   "source": [
    "# THE OPTIMIZATION FUNCTION FOR THE ACQUISITION FUNCTION\n",
    "def optimize_acquisition(D):\n",
    "    # randomly search for the point with the highest acquisition function value\n",
    "    num_search = 100\n",
    "    max_s = -np.inf\n",
    "    max_x = None\n",
    "    cur_x = np.zeros((1,2))\n",
    "    for i in range(num_search):\n",
    "        cur_x[0,0] = np.random.uniform(lb_a, ub_a)\n",
    "        cur_x[0,1] = np.random.uniform(lb_b, ub_b)\n",
    "        cur_s = S(cur_x, D) # UCB\n",
    "        # cur_s = S_PI(cur_x, D, xi) # PI\n",
    "        # cur_s = S_EI(cur_x, D, xi) # EI\n",
    "        if cur_s > max_s:\n",
    "            max_s = cur_s\n",
    "            max_x = cur_x.copy()\n",
    "    return max_x"
   ]
  },
  {
   "cell_type": "markdown",
   "metadata": {},
   "source": [
    "### The Optimization Process"
   ]
  },
  {
   "cell_type": "code",
   "execution_count": 31,
   "metadata": {},
   "outputs": [
    {
     "name": "stdout",
     "output_type": "stream",
     "text": [
      "Number of Data Points in pre-optimization (D number): 65\n",
      "Number of Data Points in pre-optimization (DD number): 65\n"
     ]
    }
   ],
   "source": [
    "# load data in STAGE II - D\n",
    "D_Path = r\"../01-PRE-DEPLOYMENT/05-PRE-OPTIMIZATION/D.npy\"\n",
    "\n",
    "D = np.load(D_Path)\n",
    "\n",
    "stage_virtual_num = D.shape[0]\n",
    "\n",
    "print('Number of Data Points in pre-optimization (D number):', stage_virtual_num)\n",
    "\n",
    "DD_Path = r\"../01-PRE-DEPLOYMENT/05-PRE-OPTIMIZATION/DD.npy\"\n",
    "\n",
    "DD = np.load(DD_Path)\n",
    "\n",
    "print('Number of Data Points in pre-optimization (DD number):', DD.shape[0])"
   ]
  },
  {
   "cell_type": "code",
   "execution_count": 32,
   "metadata": {},
   "outputs": [
    {
     "name": "stdout",
     "output_type": "stream",
     "text": [
      "Initial Maximum Value: 1.0806183510638299\n"
     ]
    }
   ],
   "source": [
    "max_val = np.max(D[:,2])\n",
    "print('Initial Maximum Value:', max_val)"
   ]
  },
  {
   "cell_type": "code",
   "execution_count": 33,
   "metadata": {},
   "outputs": [
    {
     "name": "stdout",
     "output_type": "stream",
     "text": [
      "\u001b[1m1/1\u001b[0m \u001b[32m━━━━━━━━━━━━━━━━━━━━\u001b[0m\u001b[37m\u001b[0m \u001b[1m0s\u001b[0m 50ms/step\n",
      "para_a / para_b / TP / FP / FN / TN / Precision / Recall / F-beta: 0.014222310196138586 2.7258960092489266 93 8 -1 -1 0.9208 0.9314 1.0234\n",
      "BO Iteration: 1 / 20\n"
     ]
    },
    {
     "name": "stderr",
     "output_type": "stream",
     "text": [
      "C:\\Users\\cswof\\AppData\\Local\\Temp\\ipykernel_19104\\1738947824.py:74: DeprecationWarning: Conversion of an array with ndim > 0 to a scalar is deprecated, and will error in future. Ensure you extract a single element from your array before performing this operation. (Deprecated NumPy 1.25.)\n",
      "  recall = float(recall)\n"
     ]
    },
    {
     "name": "stdout",
     "output_type": "stream",
     "text": [
      "\u001b[1m1/1\u001b[0m \u001b[32m━━━━━━━━━━━━━━━━━━━━\u001b[0m\u001b[37m\u001b[0m \u001b[1m0s\u001b[0m 25ms/step\n",
      "para_a / para_b / TP / FP / FN / TN / Precision / Recall / F-beta: 0.013883494518965664 2.483967788360471 95 8 -1 -1 0.9223 0.9356 1.0277\n",
      "BO Iteration: 2 / 20\n",
      "\u001b[1m1/1\u001b[0m \u001b[32m━━━━━━━━━━━━━━━━━━━━\u001b[0m\u001b[37m\u001b[0m \u001b[1m0s\u001b[0m 24ms/step\n",
      "para_a / para_b / TP / FP / FN / TN / Precision / Recall / F-beta: 0.010248041919413328 2.7307013258547084 97 15 0 -1 0.8661 0.9498 0.9407\n",
      "BO Iteration: 3 / 20\n",
      "\u001b[1m1/1\u001b[0m \u001b[32m━━━━━━━━━━━━━━━━━━━━\u001b[0m\u001b[37m\u001b[0m \u001b[1m0s\u001b[0m 23ms/step\n",
      "para_a / para_b / TP / FP / FN / TN / Precision / Recall / F-beta: 0.01497529636343339 2.3010469175765733 93 7 -1 -1 0.9300 0.9326 1.0256\n",
      "BO Iteration: 4 / 20\n",
      "\u001b[1m1/1\u001b[0m \u001b[32m━━━━━━━━━━━━━━━━━━━━\u001b[0m\u001b[37m\u001b[0m \u001b[1m0s\u001b[0m 24ms/step\n",
      "para_a / para_b / TP / FP / FN / TN / Precision / Recall / F-beta: 0.014515503028541194 2.4026727235866048 93 7 -1 -1 0.9300 0.9336 1.0266\n",
      "BO Iteration: 5 / 20\n",
      "\u001b[1m1/1\u001b[0m \u001b[32m━━━━━━━━━━━━━━━━━━━━\u001b[0m\u001b[37m\u001b[0m \u001b[1m0s\u001b[0m 21ms/step\n",
      "para_a / para_b / TP / FP / FN / TN / Precision / Recall / F-beta: 0.00760179153809369 2.263614245404317 97 50 0 -1 0.6599 0.9671 0.9241\n",
      "BO Iteration: 6 / 20\n",
      "\u001b[1m1/1\u001b[0m \u001b[32m━━━━━━━━━━━━━━━━━━━━\u001b[0m\u001b[37m\u001b[0m \u001b[1m0s\u001b[0m 21ms/step\n",
      "para_a / para_b / TP / FP / FN / TN / Precision / Recall / F-beta: 0.014413730018515874 3.578116227878919 93 7 -1 -1 0.9300 0.9212 1.0142\n",
      "BO Iteration: 7 / 20\n",
      "\u001b[1m1/1\u001b[0m \u001b[32m━━━━━━━━━━━━━━━━━━━━\u001b[0m\u001b[37m\u001b[0m \u001b[1m0s\u001b[0m 21ms/step\n",
      "para_a / para_b / TP / FP / FN / TN / Precision / Recall / F-beta: 0.004634354368245535 3.3895535862242623 97 191 0 -1 0.3368 0.9685 0.8155\n",
      "BO Iteration: 8 / 20\n",
      "\u001b[1m1/1\u001b[0m \u001b[32m━━━━━━━━━━━━━━━━━━━━\u001b[0m\u001b[37m\u001b[0m \u001b[1m0s\u001b[0m 20ms/step\n",
      "para_a / para_b / TP / FP / FN / TN / Precision / Recall / F-beta: 0.009923399687761878 2.6799531806853043 97 17 0 -1 0.8509 0.9518 0.9407\n",
      "BO Iteration: 9 / 20\n",
      "\u001b[1m1/1\u001b[0m \u001b[32m━━━━━━━━━━━━━━━━━━━━\u001b[0m\u001b[37m\u001b[0m \u001b[1m0s\u001b[0m 22ms/step\n",
      "para_a / para_b / TP / FP / FN / TN / Precision / Recall / F-beta: 0.010751548497234113 2.2508598727172755 96 12 -1 -1 0.8889 0.9527 0.9459\n",
      "BO Iteration: 10 / 20\n",
      "\u001b[1m1/1\u001b[0m \u001b[32m━━━━━━━━━━━━━━━━━━━━\u001b[0m\u001b[37m\u001b[0m \u001b[1m0s\u001b[0m 23ms/step\n",
      "para_a / para_b / TP / FP / FN / TN / Precision / Recall / F-beta: 0.012099814987986561 2.507746520829172 95 10 -1 -1 0.9048 0.9436 1.0336\n",
      "BO Iteration: 11 / 20\n",
      "\u001b[1m1/1\u001b[0m \u001b[32m━━━━━━━━━━━━━━━━━━━━\u001b[0m\u001b[37m\u001b[0m \u001b[1m0s\u001b[0m 26ms/step\n",
      "para_a / para_b / TP / FP / FN / TN / Precision / Recall / F-beta: 0.010222527938828479 2.7579690158074825 97 15 0 -1 0.8661 0.9496 0.9405\n",
      "BO Iteration: 12 / 20\n",
      "\u001b[1m1/1\u001b[0m \u001b[32m━━━━━━━━━━━━━━━━━━━━\u001b[0m\u001b[37m\u001b[0m \u001b[1m0s\u001b[0m 26ms/step\n",
      "para_a / para_b / TP / FP / FN / TN / Precision / Recall / F-beta: 0.014578660083730833 2.263474783399264 93 7 -1 -1 0.9300 0.9348 1.0278\n",
      "BO Iteration: 13 / 20\n",
      "\u001b[1m1/1\u001b[0m \u001b[32m━━━━━━━━━━━━━━━━━━━━\u001b[0m\u001b[37m\u001b[0m \u001b[1m0s\u001b[0m 25ms/step\n",
      "para_a / para_b / TP / FP / FN / TN / Precision / Recall / F-beta: 0.009337771437114574 2.284176835058041 97 22 0 -1 0.8151 0.9589 0.9423\n",
      "BO Iteration: 14 / 20\n",
      "\u001b[1m1/1\u001b[0m \u001b[32m━━━━━━━━━━━━━━━━━━━━\u001b[0m\u001b[37m\u001b[0m \u001b[1m0s\u001b[0m 26ms/step\n",
      "para_a / para_b / TP / FP / FN / TN / Precision / Recall / F-beta: 0.014036410216319422 3.656135308543412 93 7 -1 -1 0.9300 0.9221 1.0151\n",
      "BO Iteration: 15 / 20\n",
      "\u001b[1m1/1\u001b[0m \u001b[32m━━━━━━━━━━━━━━━━━━━━\u001b[0m\u001b[37m\u001b[0m \u001b[1m0s\u001b[0m 28ms/step\n",
      "para_a / para_b / TP / FP / FN / TN / Precision / Recall / F-beta: 0.0056840036644070936 3.700766157976763 97 73 0 -1 0.5706 0.9602 0.8988\n",
      "BO Iteration: 16 / 20\n",
      "\u001b[1m1/1\u001b[0m \u001b[32m━━━━━━━━━━━━━━━━━━━━\u001b[0m\u001b[37m\u001b[0m \u001b[1m0s\u001b[0m 19ms/step\n",
      "para_a / para_b / TP / FP / FN / TN / Precision / Recall / F-beta: 0.0146367065301583 2.5874721400634764 93 7 -1 -1 0.9300 0.9310 1.0240\n",
      "BO Iteration: 17 / 20\n",
      "\u001b[1m1/1\u001b[0m \u001b[32m━━━━━━━━━━━━━━━━━━━━\u001b[0m\u001b[37m\u001b[0m \u001b[1m0s\u001b[0m 20ms/step\n",
      "para_a / para_b / TP / FP / FN / TN / Precision / Recall / F-beta: 0.011657725194978536 2.5299691395591104 96 12 -1 -1 0.8889 0.9454 0.9395\n",
      "BO Iteration: 18 / 20\n",
      "\u001b[1m1/1\u001b[0m \u001b[32m━━━━━━━━━━━━━━━━━━━━\u001b[0m\u001b[37m\u001b[0m \u001b[1m0s\u001b[0m 21ms/step\n",
      "para_a / para_b / TP / FP / FN / TN / Precision / Recall / F-beta: 0.013961813596054917 6.372083892230138 93 7 -1 -1 0.9300 0.8926 0.8962\n",
      "BO Iteration: 19 / 20\n",
      "\u001b[1m1/1\u001b[0m \u001b[32m━━━━━━━━━━━━━━━━━━━━\u001b[0m\u001b[37m\u001b[0m \u001b[1m0s\u001b[0m 22ms/step\n",
      "para_a / para_b / TP / FP / FN / TN / Precision / Recall / F-beta: 0.01181644919825968 2.212400186759214 96 11 -1 -1 0.8972 0.9482 0.9428\n",
      "BO Iteration: 20 / 20\n"
     ]
    }
   ],
   "source": [
    "# REAL WORLD OPTIMIZATION ITERATIONS\n",
    "for i in range(num_iter):\n",
    "    \n",
    "    update_flg = False\n",
    "    \n",
    "    tmp = np.zeros((1, 7)) # to store objective function value, TP, FP, FN, TN, Precision, Recall\n",
    "    \n",
    "    # (1) use the surrogate model to approach the posterior distribution of the objective function, modeled by Gaussian Process which can be characterized by the mean function and the covariance function\n",
    "    \n",
    "    ## mean, var = mean_var(x, D, 1, 1)\n",
    "    \n",
    "    # (2) determine the next point to evaluate using the acquisition function S(D)\n",
    "    x_eval = optimize_acquisition(D)\n",
    "    \n",
    "    # (3) evaluate the objective function at the next point\n",
    "    tmp = objective_function(x_eval[0,0], x_eval[0,1])\n",
    "    \n",
    "    f_eval = tmp[0]\n",
    "    \n",
    "    # (4) update the dataset D\n",
    "    newpoint = np.zeros((1,3))\n",
    "    newpoint[0,0] = x_eval[0,0]\n",
    "    newpoint[0,1] = x_eval[0,1]\n",
    "    newpoint[0,2] = f_eval\n",
    "    D = np.vstack((D, newpoint))\n",
    "\n",
    "    newpoint_d = np.zeros((1,9))\n",
    "    newpoint_d[0,0] = x_eval[0,0]\n",
    "    newpoint_d[0,1] = x_eval[0,1]\n",
    "    newpoint_d[0,2:] = tmp\n",
    "    DD = np.vstack((DD, newpoint_d))\n",
    "    \n",
    "    # # (5) check the stopping criterion\n",
    "    # gap = np.abs(D[-1, -1] - D[-2, -1])\n",
    "    # if gap < tolerance:\n",
    "    #     break\n",
    "    \n",
    "    # (5) update the global best value\n",
    "    if f_eval > max_val:\n",
    "        max_val = f_eval\n",
    "        max_x = x_eval\n",
    "        update_flg = True\n",
    "    \n",
    "    # (6) print the progress\n",
    "    if (update_flg == True):\n",
    "        print('BO Iteration:', i+1,'/', num_iter, 'Best Value Updated:', max_val, 'at', max_x)\n",
    "    else:\n",
    "        print('BO Iteration:', i+1,'/', num_iter)\n",
    "    \n",
    "    # (7) reset the flag\n",
    "    update_flg = False\n",
    "    "
   ]
  },
  {
   "cell_type": "code",
   "execution_count": 34,
   "metadata": {},
   "outputs": [
    {
     "name": "stdout",
     "output_type": "stream",
     "text": [
      "Number of Data Points in D: 85\n",
      "85\n",
      "Number of Data Points in DD: 85\n",
      "85\n"
     ]
    }
   ],
   "source": [
    "# number of points in D and DD\n",
    "print('Number of Data Points in D:', D.shape[0])\n",
    "print(D.shape[0])\n",
    "\n",
    "print('Number of Data Points in DD:', DD.shape[0])\n",
    "print(DD.shape[0])"
   ]
  },
  {
   "cell_type": "code",
   "execution_count": 35,
   "metadata": {},
   "outputs": [
    {
     "data": {
      "image/png": "[encoded data removed]",
      "text/plain": [
       "<Figure size 640x480 with 1 Axes>"
      ]
     },
     "metadata": {},
     "output_type": "display_data"
    }
   ],
   "source": [
    "# Visualization\n",
    "# stem plot\n",
    "\n",
    "# Assuming D is already defined and contains your data\n",
    "# D[:, 0] -> threshold\n",
    "# D[:, 1] -> duration\n",
    "# D[:, 2] -> F-beta score\n",
    "\n",
    "fig = plt.figure()\n",
    "ax = fig.add_subplot(111, projection='3d')\n",
    "ax.set_xlabel('threshold')\n",
    "ax.set_ylabel('duration')\n",
    "ax.set_zlabel('F-beta score')\n",
    "ax.set_xlim(0, 1.1*ub_a)\n",
    "ax.set_ylim(0, 1.1*ub_b)\n",
    "ax.set_zlim(0, bonus_factor)\n",
    "\n",
    "# Create stem plot\n",
    "for i in range(D.shape[0]):\n",
    "    x = D[i, 0]\n",
    "    y = D[i, 1]\n",
    "    z = D[i, 2]\n",
    "    ax.plot([x, x], [y, y], [0, z], 'k--')\n",
    "    ax.scatter(x, y, z, c='b', marker='o')\n",
    "    ax.text(x, y, z, str(i), color='black')\n",
    "\n",
    "plt.show()\n"
   ]
  },
  {
   "cell_type": "code",
   "execution_count": 36,
   "metadata": {},
   "outputs": [
    {
     "name": "stdout",
     "output_type": "stream",
     "text": [
      "0.9428261365353983\n",
      "1.0806183510638299\n",
      "[0.01241252 2.01555756]\n",
      "37\n"
     ]
    }
   ],
   "source": [
    "# print the final value\n",
    "print(D[-1, -1])\n",
    "\n",
    "# print the max value\n",
    "print(np.max(D[:, -1]))\n",
    "\n",
    "# print the argmax\n",
    "print(D[np.argmax(D[:, -1]), :-1])\n",
    "\n",
    "# print the row index of the max value\n",
    "print(np.argmax(D[:, -1]))"
   ]
  },
  {
   "cell_type": "code",
   "execution_count": 37,
   "metadata": {},
   "outputs": [],
   "source": [
    "# save lb_a, ub_a, lb_b, ub_b, noise_lvl, k_alpha, k_lambda, num_init_points, num_iter, tolerance, ucb_beta\n",
    "np.save('config.npy', np.array([lb_a, ub_a, lb_b, ub_b, noise_lvl, k_alpha, k_lambda, num_init_points, num_iter, tolerance, ucb_beta]))\n",
    "\n",
    "# save D to a file\n",
    "np.save('D.npy', D)\n",
    "\n",
    "# save DD to a file\n",
    "np.save('DD.npy', DD)"
   ]
  },
  {
   "cell_type": "markdown",
   "metadata": {},
   "source": [
    "## POST PROCESSING"
   ]
  },
  {
   "cell_type": "code",
   "execution_count": 38,
   "metadata": {},
   "outputs": [],
   "source": [
    "# COMMON\n",
    "import numpy as np\n",
    "import sys\n",
    "import os\n",
    "import random\n",
    "import time\n",
    "import datetime\n",
    "import pandas as pd\n",
    "import matplotlib.pyplot as plt\n",
    "\n",
    "# Triggering Mechanism\n",
    "import triggering as trig\n",
    "\n",
    "# Signal Processing\n",
    "from scipy import signal  # for signal processing\n",
    "from scipy.signal import hilbert  # for signal processing\n",
    "import prenn # for deep learning\n",
    "\n",
    "# AI\n",
    "import keras\n",
    "\n",
    "import tensorflow as tf # for deep learning\n",
    "from keras.models import Sequential\n",
    "from keras.layers import Conv1D, MaxPooling1D, Flatten, Dense, Dropout\n",
    "from keras.callbacks import TensorBoard # for visualization\n",
    "\n",
    "import onnxruntime as ort # for onnx runtime\n",
    "\n",
    "# Visualization\n",
    "# %matplotlib qt5\n",
    "import matplotlib.pyplot as plt\n",
    "from mpl_toolkits.mplot3d import Axes3D\n",
    "from matplotlib.animation import FuncAnimation"
   ]
  },
  {
   "cell_type": "code",
   "execution_count": 39,
   "metadata": {},
   "outputs": [
    {
     "name": "stdout",
     "output_type": "stream",
     "text": [
      "Number of Data Points in Virtual Environment: 65\n"
     ]
    }
   ],
   "source": [
    "# load data in STAGE II - D\n",
    "DV_Path = r\"../01-PRE-DEPLOYMENT/05-PRE-OPTIMIZATION/D.npy\"\n",
    "\n",
    "DV = np.load(DV_Path)\n",
    "\n",
    "stage_virtual_num = DV.shape[0]\n",
    "\n",
    "print('Number of Data Points in Virtual Environment:', stage_virtual_num)"
   ]
  },
  {
   "cell_type": "code",
   "execution_count": 40,
   "metadata": {},
   "outputs": [],
   "source": [
    "DD = np.load('DD.npy')"
   ]
  },
  {
   "cell_type": "code",
   "execution_count": 41,
   "metadata": {},
   "outputs": [
    {
     "data": {
      "application/vnd.plotly.v1+json": {
       "config": {
        "plotlyServerURL": "https://plot.ly"
       },
       "data": [
        {
         "marker": {
          "color": [
           1.0383970489604293,
           0.9090909090909091,
           1.0263467024668569,
           0.9060402684563759,
           0.9092286710107592,
           0.9357188093730209,
           0.9056258576002439,
           0.9121569829832898,
           0.7581721718295397,
           0.8536585365853658,
           1.0567364016736402,
           0.9620128268376912,
           1.069090909090909,
           0.8952959028831563,
           1.067,
           1.0794647282339338,
           0.9095043201455207,
           1.035228988424761,
           0.9124198962465669,
           1.0687813021702839,
           1.0801933977992664,
           1.044990801137314,
           0.9118587304003654,
           0.9090909090909091,
           0.6976744186046512,
           0.961288223812622,
           0.9605433376455369,
           0.8952959028831563,
           0.9115811900776137,
           0.7896981067712775,
           0.7040798760543984,
           1.0792591356582681,
           0.9304143862392494,
           0.9090909090909091,
           0.9090909090909091,
           0.911442483262325,
           0.9095043201455207,
           1.0806183510638299,
           0.9506985707403244,
           0.9097801364670205,
           0.9090909090909091,
           1.012939001848429,
           0.8473140145738011,
           1.0792591356582681,
           0.9090909090909091,
           0.9090909090909091,
           0.9090909090909091,
           0.9090909090909091,
           0.8552074513124471,
           1.0619039651999331,
           0.9090909090909091,
           1.0045408678102927,
           0.9090909090909091,
           1.0585774058577406,
           0.9090909090909091,
           1.0801933977992664,
           0.9117199391171994,
           0.9090909090909091,
           1.0435802883003689,
           0.9090909090909091,
           1.0767050191762548,
           0.9093678598629094,
           0.9118541033434651,
           0.9610685779442906,
           1.0750500333555706
          ],
          "colorscale": [
           [
            0,
            "rgb(255, 200, 200)"
           ],
           [
            1,
            "rgb(139, 0, 0)"
           ]
          ],
          "showscale": false,
          "size": 10
         },
         "mode": "markers",
         "name": "Virtual Environment Optimization",
         "showlegend": false,
         "type": "scatter3d",
         "x": [
          0.013923535641584465,
          0.0026146408317982025,
          0.011643475214904383,
          0.005005432033846695,
          0.0039153469204843885,
          0.007245180918271568,
          0.005027282759616603,
          0.006542010934350525,
          0.013517159802857382,
          0.014215911493829144,
          0.014793471864158891,
          0.00785881010401822,
          0.009039485070106856,
          0.01605782281740864,
          0.010120721845234892,
          0.011719451780694709,
          0.00248256543479497,
          0.016109626830173186,
          0.008156070921543487,
          0.01201013528743781,
          0.013389082238372195,
          0.01009335846919932,
          0.0032467103415035744,
          0.00032590821678964545,
          0.016619587135295637,
          0.0086275921493037,
          0.010640819864370344,
          0.01592725393000278,
          0.003108148269096591,
          0.015078681023016072,
          0.016075167653846978,
          0.013780462530580623,
          0.009519477574444334,
          0.000619871436045254,
          0.0029051431389135493,
          0.004316575194453414,
          0.0025706663549380972,
          0.012412515033221048,
          0.008801991642561095,
          0.005610467072248814,
          0.003136528223350605,
          0.012213494745159875,
          0.012370507034514859,
          0.01372025248568662,
          0.0010362450915465881,
          0.003821724714716561,
          0.002812494231551567,
          0.0007779668672428159,
          0.015741945124733838,
          0.01640084036303291,
          0.0031259605916464546,
          0.011420996402516061,
          0.0015692869453695572,
          0.016499984219656785,
          0.0013319993600479597,
          0.013434679814115849,
          0.006911113985965642,
          0.0007892782200614162,
          0.015587648112994854,
          0.0008758388039498983,
          0.0124851191684747,
          0.006099123745457028,
          0.006361633826713498,
          0.008171190187500805,
          0.012637453215235808
         ],
         "y": [
          4.8321011980118715,
          5.09359573065937,
          6.040586149844081,
          7.123012642117984,
          4.575489087361093,
          6.6187428458377315,
          6.107518058322045,
          5.230185236574166,
          9.683199162824087,
          6.736172164155384,
          3.605746069767968,
          8.97712425660999,
          6.376047828341818,
          4.809321008901322,
          6.7250069488223225,
          2.4252532226349404,
          8.11166106856976,
          3.131707789523354,
          2.064152590814718,
          4.055596659885152,
          2.790454050091408,
          7.580485384897242,
          8.303584427586394,
          3.4505014589852836,
          9.995617104219594,
          5.712276086780518,
          2.62713101574525,
          4.109261674047476,
          8.675088265083414,
          7.734720433247876,
          9.266133213814019,
          2.0329520819698867,
          2.992338520511921,
          2.3671642843491165,
          3.7543333503386043,
          5.607291994932785,
          7.33943454099101,
          2.015557557257843,
          4.371116330540877,
          2.005051387461844,
          3.243251805626832,
          6.224866777603471,
          8.602833774453934,
          2.630856999893795,
          2.4821973755033904,
          3.794611642682413,
          6.41506658025062,
          7.073647081483084,
          5.860080952114699,
          2.8611842912032577,
          4.376531847880266,
          7.977840074896267,
          5.377664144894675,
          2.000560265001064,
          2.9583956622781162,
          2.2642735928731197,
          2.3781228356106894,
          7.606405672760627,
          3.3994221931546598,
          8.36749586394299,
          3.848282872083818,
          4.058773347594962,
          2.0005602697077727,
          6.355507428473871,
          3.425562745999092
         ],
         "z": [
          1.0383970489604293,
          0.9090909090909091,
          1.0263467024668569,
          0.9060402684563759,
          0.9092286710107592,
          0.9357188093730209,
          0.9056258576002439,
          0.9121569829832898,
          0.7581721718295397,
          0.8536585365853658,
          1.0567364016736402,
          0.9620128268376912,
          1.069090909090909,
          0.8952959028831563,
          1.067,
          1.0794647282339338,
          0.9095043201455207,
          1.035228988424761,
          0.9124198962465669,
          1.0687813021702839,
          1.0801933977992664,
          1.044990801137314,
          0.9118587304003654,
          0.9090909090909091,
          0.6976744186046512,
          0.961288223812622,
          0.9605433376455369,
          0.8952959028831563,
          0.9115811900776137,
          0.7896981067712775,
          0.7040798760543984,
          1.0792591356582681,
          0.9304143862392494,
          0.9090909090909091,
          0.9090909090909091,
          0.911442483262325,
          0.9095043201455207,
          1.0806183510638299,
          0.9506985707403244,
          0.9097801364670205,
          0.9090909090909091,
          1.012939001848429,
          0.8473140145738011,
          1.0792591356582681,
          0.9090909090909091,
          0.9090909090909091,
          0.9090909090909091,
          0.9090909090909091,
          0.8552074513124471,
          1.0619039651999331,
          0.9090909090909091,
          1.0045408678102927,
          0.9090909090909091,
          1.0585774058577406,
          0.9090909090909091,
          1.0801933977992664,
          0.9117199391171994,
          0.9090909090909091,
          1.0435802883003689,
          0.9090909090909091,
          1.0767050191762548,
          0.9093678598629094,
          0.9118541033434651,
          0.9610685779442906,
          1.0750500333555706
         ]
        },
        {
         "marker": {
          "color": [
           1.0233706413658998,
           1.02771595827616,
           0.9406619437680717,
           1.0255642194709762,
           1.0265652826488212,
           0.9240974530247347,
           1.014243839920384,
           0.8155385434151085,
           0.9406521108734455,
           0.9459010016326396,
           1.0335518384587237,
           0.9405017578552228,
           1.0277883645484271,
           0.9422517371478997,
           1.0151259573970743,
           0.8988413209201451,
           1.0240018050547042,
           0.9394551323109314,
           0.8961761309257005,
           0.9428261365353983
          ],
          "colorscale": [
           [
            0,
            "rgb(200, 200, 255)"
           ],
           [
            1,
            "rgb(0, 0, 139)"
           ]
          ],
          "showscale": false,
          "size": 10
         },
         "mode": "markers",
         "name": "Real World Optimization",
         "showlegend": false,
         "type": "scatter3d",
         "x": [
          0.014222310196138586,
          0.013883494518965664,
          0.010248041919413328,
          0.01497529636343339,
          0.014515503028541194,
          0.00760179153809369,
          0.014413730018515874,
          0.004634354368245535,
          0.009923399687761878,
          0.010751548497234113,
          0.012099814987986561,
          0.010222527938828479,
          0.014578660083730833,
          0.009337771437114574,
          0.014036410216319422,
          0.0056840036644070936,
          0.0146367065301583,
          0.011657725194978536,
          0.013961813596054917,
          0.01181644919825968
         ],
         "y": [
          2.7258960092489266,
          2.483967788360471,
          2.7307013258547084,
          2.3010469175765733,
          2.4026727235866048,
          2.263614245404317,
          3.578116227878919,
          3.3895535862242623,
          2.6799531806853043,
          2.2508598727172755,
          2.507746520829172,
          2.7579690158074825,
          2.263474783399264,
          2.284176835058041,
          3.656135308543412,
          3.700766157976763,
          2.5874721400634764,
          2.5299691395591104,
          6.372083892230138,
          2.212400186759214
         ],
         "z": [
          1.0233706413658998,
          1.02771595827616,
          0.9406619437680717,
          1.0255642194709762,
          1.0265652826488212,
          0.9240974530247347,
          1.014243839920384,
          0.8155385434151085,
          0.9406521108734455,
          0.9459010016326396,
          1.0335518384587237,
          0.9405017578552228,
          1.0277883645484271,
          0.9422517371478997,
          1.0151259573970743,
          0.8988413209201451,
          1.0240018050547042,
          0.9394551323109314,
          0.8961761309257005,
          0.9428261365353983
         ]
        }
       ],
       "layout": {
        "autosize": false,
        "font": {
         "color": "black",
         "family": "Times New Roman",
         "size": 18
        },
        "height": 1600,
        "scene": {
         "camera": {
          "eye": {
           "x": 1.25,
           "y": 1.25,
           "z": 1.25
          },
          "projection": {
           "type": "perspective"
          }
         },
         "xaxis": {
          "range": [
           0,
           0.018
          ],
          "tickfont": {
           "color": "black",
           "family": "Times New Roman",
           "size": 18
          },
          "title": {
           "font": {
            "color": "black",
            "family": "Times New Roman",
            "size": 30
           },
           "text": "Threshold"
          }
         },
         "yaxis": {
          "range": [
           0,
           11
          ],
          "tickfont": {
           "color": "black",
           "family": "Times New Roman",
           "size": 18
          },
          "title": {
           "font": {
            "color": "black",
            "family": "Times New Roman",
            "size": 30
           },
           "text": "Duration"
          }
         },
         "zaxis": {
          "range": [
           0,
           1.2
          ],
          "tickfont": {
           "color": "black",
           "family": "Times New Roman",
           "size": 18
          },
          "title": {
           "font": {
            "color": "black",
            "family": "Times New Roman",
            "size": 30
           },
           "text": "F-beta"
          }
         }
        },
        "showlegend": false,
        "template": {
         "data": {
          "bar": [
           {
            "error_x": {
             "color": "#2a3f5f"
            },
            "error_y": {
             "color": "#2a3f5f"
            },
            "marker": {
             "line": {
              "color": "#E5ECF6",
              "width": 0.5
             },
             "pattern": {
              "fillmode": "overlay",
              "size": 10,
              "solidity": 0.2
             }
            },
            "type": "bar"
           }
          ],
          "barpolar": [
           {
            "marker": {
             "line": {
              "color": "#E5ECF6",
              "width": 0.5
             },
             "pattern": {
              "fillmode": "overlay",
              "size": 10,
              "solidity": 0.2
             }
            },
            "type": "barpolar"
           }
          ],
          "carpet": [
           {
            "aaxis": {
             "endlinecolor": "#2a3f5f",
             "gridcolor": "white",
             "linecolor": "white",
             "minorgridcolor": "white",
             "startlinecolor": "#2a3f5f"
            },
            "baxis": {
             "endlinecolor": "#2a3f5f",
             "gridcolor": "white",
             "linecolor": "white",
             "minorgridcolor": "white",
             "startlinecolor": "#2a3f5f"
            },
            "type": "carpet"
           }
          ],
          "choropleth": [
           {
            "colorbar": {
             "outlinewidth": 0,
             "ticks": ""
            },
            "type": "choropleth"
           }
          ],
          "contour": [
           {
            "colorbar": {
             "outlinewidth": 0,
             "ticks": ""
            },
            "colorscale": [
             [
              0,
              "#0d0887"
             ],
             [
              0.1111111111111111,
              "#46039f"
             ],
             [
              0.2222222222222222,
              "#7201a8"
             ],
             [
              0.3333333333333333,
              "#9c179e"
             ],
             [
              0.4444444444444444,
              "#bd3786"
             ],
             [
              0.5555555555555556,
              "#d8576b"
             ],
             [
              0.6666666666666666,
              "#ed7953"
             ],
             [
              0.7777777777777778,
              "#fb9f3a"
             ],
             [
              0.8888888888888888,
              "#fdca26"
             ],
             [
              1,
              "#f0f921"
             ]
            ],
            "type": "contour"
           }
          ],
          "contourcarpet": [
           {
            "colorbar": {
             "outlinewidth": 0,
             "ticks": ""
            },
            "type": "contourcarpet"
           }
          ],
          "heatmap": [
           {
            "colorbar": {
             "outlinewidth": 0,
             "ticks": ""
            },
            "colorscale": [
             [
              0,
              "#0d0887"
             ],
             [
              0.1111111111111111,
              "#46039f"
             ],
             [
              0.2222222222222222,
              "#7201a8"
             ],
             [
              0.3333333333333333,
              "#9c179e"
             ],
             [
              0.4444444444444444,
              "#bd3786"
             ],
             [
              0.5555555555555556,
              "#d8576b"
             ],
             [
              0.6666666666666666,
              "#ed7953"
             ],
             [
              0.7777777777777778,
              "#fb9f3a"
             ],
             [
              0.8888888888888888,
              "#fdca26"
             ],
             [
              1,
              "#f0f921"
             ]
            ],
            "type": "heatmap"
           }
          ],
          "heatmapgl": [
           {
            "colorbar": {
             "outlinewidth": 0,
             "ticks": ""
            },
            "colorscale": [
             [
              0,
              "#0d0887"
             ],
             [
              0.1111111111111111,
              "#46039f"
             ],
             [
              0.2222222222222222,
              "#7201a8"
             ],
             [
              0.3333333333333333,
              "#9c179e"
             ],
             [
              0.4444444444444444,
              "#bd3786"
             ],
             [
              0.5555555555555556,
              "#d8576b"
             ],
             [
              0.6666666666666666,
              "#ed7953"
             ],
             [
              0.7777777777777778,
              "#fb9f3a"
             ],
             [
              0.8888888888888888,
              "#fdca26"
             ],
             [
              1,
              "#f0f921"
             ]
            ],
            "type": "heatmapgl"
           }
          ],
          "histogram": [
           {
            "marker": {
             "pattern": {
              "fillmode": "overlay",
              "size": 10,
              "solidity": 0.2
             }
            },
            "type": "histogram"
           }
          ],
          "histogram2d": [
           {
            "colorbar": {
             "outlinewidth": 0,
             "ticks": ""
            },
            "colorscale": [
             [
              0,
              "#0d0887"
             ],
             [
              0.1111111111111111,
              "#46039f"
             ],
             [
              0.2222222222222222,
              "#7201a8"
             ],
             [
              0.3333333333333333,
              "#9c179e"
             ],
             [
              0.4444444444444444,
              "#bd3786"
             ],
             [
              0.5555555555555556,
              "#d8576b"
             ],
             [
              0.6666666666666666,
              "#ed7953"
             ],
             [
              0.7777777777777778,
              "#fb9f3a"
             ],
             [
              0.8888888888888888,
              "#fdca26"
             ],
             [
              1,
              "#f0f921"
             ]
            ],
            "type": "histogram2d"
           }
          ],
          "histogram2dcontour": [
           {
            "colorbar": {
             "outlinewidth": 0,
             "ticks": ""
            },
            "colorscale": [
             [
              0,
              "#0d0887"
             ],
             [
              0.1111111111111111,
              "#46039f"
             ],
             [
              0.2222222222222222,
              "#7201a8"
             ],
             [
              0.3333333333333333,
              "#9c179e"
             ],
             [
              0.4444444444444444,
              "#bd3786"
             ],
             [
              0.5555555555555556,
              "#d8576b"
             ],
             [
              0.6666666666666666,
              "#ed7953"
             ],
             [
              0.7777777777777778,
              "#fb9f3a"
             ],
             [
              0.8888888888888888,
              "#fdca26"
             ],
             [
              1,
              "#f0f921"
             ]
            ],
            "type": "histogram2dcontour"
           }
          ],
          "mesh3d": [
           {
            "colorbar": {
             "outlinewidth": 0,
             "ticks": ""
            },
            "type": "mesh3d"
           }
          ],
          "parcoords": [
           {
            "line": {
             "colorbar": {
              "outlinewidth": 0,
              "ticks": ""
             }
            },
            "type": "parcoords"
           }
          ],
          "pie": [
           {
            "automargin": true,
            "type": "pie"
           }
          ],
          "scatter": [
           {
            "fillpattern": {
             "fillmode": "overlay",
             "size": 10,
             "solidity": 0.2
            },
            "type": "scatter"
           }
          ],
          "scatter3d": [
           {
            "line": {
             "colorbar": {
              "outlinewidth": 0,
              "ticks": ""
             }
            },
            "marker": {
             "colorbar": {
              "outlinewidth": 0,
              "ticks": ""
             }
            },
            "type": "scatter3d"
           }
          ],
          "scattercarpet": [
           {
            "marker": {
             "colorbar": {
              "outlinewidth": 0,
              "ticks": ""
             }
            },
            "type": "scattercarpet"
           }
          ],
          "scattergeo": [
           {
            "marker": {
             "colorbar": {
              "outlinewidth": 0,
              "ticks": ""
             }
            },
            "type": "scattergeo"
           }
          ],
          "scattergl": [
           {
            "marker": {
             "colorbar": {
              "outlinewidth": 0,
              "ticks": ""
             }
            },
            "type": "scattergl"
           }
          ],
          "scattermapbox": [
           {
            "marker": {
             "colorbar": {
              "outlinewidth": 0,
              "ticks": ""
             }
            },
            "type": "scattermapbox"
           }
          ],
          "scatterpolar": [
           {
            "marker": {
             "colorbar": {
              "outlinewidth": 0,
              "ticks": ""
             }
            },
            "type": "scatterpolar"
           }
          ],
          "scatterpolargl": [
           {
            "marker": {
             "colorbar": {
              "outlinewidth": 0,
              "ticks": ""
             }
            },
            "type": "scatterpolargl"
           }
          ],
          "scatterternary": [
           {
            "marker": {
             "colorbar": {
              "outlinewidth": 0,
              "ticks": ""
             }
            },
            "type": "scatterternary"
           }
          ],
          "surface": [
           {
            "colorbar": {
             "outlinewidth": 0,
             "ticks": ""
            },
            "colorscale": [
             [
              0,
              "#0d0887"
             ],
             [
              0.1111111111111111,
              "#46039f"
             ],
             [
              0.2222222222222222,
              "#7201a8"
             ],
             [
              0.3333333333333333,
              "#9c179e"
             ],
             [
              0.4444444444444444,
              "#bd3786"
             ],
             [
              0.5555555555555556,
              "#d8576b"
             ],
             [
              0.6666666666666666,
              "#ed7953"
             ],
             [
              0.7777777777777778,
              "#fb9f3a"
             ],
             [
              0.8888888888888888,
              "#fdca26"
             ],
             [
              1,
              "#f0f921"
             ]
            ],
            "type": "surface"
           }
          ],
          "table": [
           {
            "cells": {
             "fill": {
              "color": "#EBF0F8"
             },
             "line": {
              "color": "white"
             }
            },
            "header": {
             "fill": {
              "color": "#C8D4E3"
             },
             "line": {
              "color": "white"
             }
            },
            "type": "table"
           }
          ]
         },
         "layout": {
          "annotationdefaults": {
           "arrowcolor": "#2a3f5f",
           "arrowhead": 0,
           "arrowwidth": 1
          },
          "autotypenumbers": "strict",
          "coloraxis": {
           "colorbar": {
            "outlinewidth": 0,
            "ticks": ""
           }
          },
          "colorscale": {
           "diverging": [
            [
             0,
             "#8e0152"
            ],
            [
             0.1,
             "#c51b7d"
            ],
            [
             0.2,
             "#de77ae"
            ],
            [
             0.3,
             "#f1b6da"
            ],
            [
             0.4,
             "#fde0ef"
            ],
            [
             0.5,
             "#f7f7f7"
            ],
            [
             0.6,
             "#e6f5d0"
            ],
            [
             0.7,
             "#b8e186"
            ],
            [
             0.8,
             "#7fbc41"
            ],
            [
             0.9,
             "#4d9221"
            ],
            [
             1,
             "#276419"
            ]
           ],
           "sequential": [
            [
             0,
             "#0d0887"
            ],
            [
             0.1111111111111111,
             "#46039f"
            ],
            [
             0.2222222222222222,
             "#7201a8"
            ],
            [
             0.3333333333333333,
             "#9c179e"
            ],
            [
             0.4444444444444444,
             "#bd3786"
            ],
            [
             0.5555555555555556,
             "#d8576b"
            ],
            [
             0.6666666666666666,
             "#ed7953"
            ],
            [
             0.7777777777777778,
             "#fb9f3a"
            ],
            [
             0.8888888888888888,
             "#fdca26"
            ],
            [
             1,
             "#f0f921"
            ]
           ],
           "sequentialminus": [
            [
             0,
             "#0d0887"
            ],
            [
             0.1111111111111111,
             "#46039f"
            ],
            [
             0.2222222222222222,
             "#7201a8"
            ],
            [
             0.3333333333333333,
             "#9c179e"
            ],
            [
             0.4444444444444444,
             "#bd3786"
            ],
            [
             0.5555555555555556,
             "#d8576b"
            ],
            [
             0.6666666666666666,
             "#ed7953"
            ],
            [
             0.7777777777777778,
             "#fb9f3a"
            ],
            [
             0.8888888888888888,
             "#fdca26"
            ],
            [
             1,
             "#f0f921"
            ]
           ]
          },
          "colorway": [
           "#636efa",
           "#EF553B",
           "#00cc96",
           "#ab63fa",
           "#FFA15A",
           "#19d3f3",
           "#FF6692",
           "#B6E880",
           "#FF97FF",
           "#FECB52"
          ],
          "font": {
           "color": "#2a3f5f"
          },
          "geo": {
           "bgcolor": "white",
           "lakecolor": "white",
           "landcolor": "#E5ECF6",
           "showlakes": true,
           "showland": true,
           "subunitcolor": "white"
          },
          "hoverlabel": {
           "align": "left"
          },
          "hovermode": "closest",
          "mapbox": {
           "style": "light"
          },
          "paper_bgcolor": "white",
          "plot_bgcolor": "#E5ECF6",
          "polar": {
           "angularaxis": {
            "gridcolor": "white",
            "linecolor": "white",
            "ticks": ""
           },
           "bgcolor": "#E5ECF6",
           "radialaxis": {
            "gridcolor": "white",
            "linecolor": "white",
            "ticks": ""
           }
          },
          "scene": {
           "xaxis": {
            "backgroundcolor": "#E5ECF6",
            "gridcolor": "white",
            "gridwidth": 2,
            "linecolor": "white",
            "showbackground": true,
            "ticks": "",
            "zerolinecolor": "white"
           },
           "yaxis": {
            "backgroundcolor": "#E5ECF6",
            "gridcolor": "white",
            "gridwidth": 2,
            "linecolor": "white",
            "showbackground": true,
            "ticks": "",
            "zerolinecolor": "white"
           },
           "zaxis": {
            "backgroundcolor": "#E5ECF6",
            "gridcolor": "white",
            "gridwidth": 2,
            "linecolor": "white",
            "showbackground": true,
            "ticks": "",
            "zerolinecolor": "white"
           }
          },
          "shapedefaults": {
           "line": {
            "color": "#2a3f5f"
           }
          },
          "ternary": {
           "aaxis": {
            "gridcolor": "white",
            "linecolor": "white",
            "ticks": ""
           },
           "baxis": {
            "gridcolor": "white",
            "linecolor": "white",
            "ticks": ""
           },
           "bgcolor": "#E5ECF6",
           "caxis": {
            "gridcolor": "white",
            "linecolor": "white",
            "ticks": ""
           }
          },
          "title": {
           "x": 0.05
          },
          "xaxis": {
           "automargin": true,
           "gridcolor": "white",
           "linecolor": "white",
           "ticks": "",
           "title": {
            "standoff": 15
           },
           "zerolinecolor": "white",
           "zerolinewidth": 2
          },
          "yaxis": {
           "automargin": true,
           "gridcolor": "white",
           "linecolor": "white",
           "ticks": "",
           "title": {
            "standoff": 15
           },
           "zerolinecolor": "white",
           "zerolinewidth": 2
          }
         }
        },
        "width": 1600
       }
      }
     },
     "metadata": {},
     "output_type": "display_data"
    }
   ],
   "source": [
    "import plotly.graph_objects as go\n",
    "import numpy as np\n",
    "\n",
    "# Load the data\n",
    "D = np.load('D.npy')\n",
    "\n",
    "# Get the number of rows in D\n",
    "num_D = D.shape[0]\n",
    "\n",
    "# Define stage_virtual_num to determine the cutoff for red vs. blue\n",
    "stage_virtual_num = 65  # Set your desired value for stage_virtual_num, ensure it's an integer\n",
    "\n",
    "# -----------------------\n",
    "# Customization variables:\n",
    "# -----------------------\n",
    "FONT_FAMILY = 'Times New Roman'    # Global font family\n",
    "GLOBAL_FONT_SIZE = 18              # Global font size for texts\n",
    "AXIS_TITLE_FONT_SIZE = 30          # Font size for axis titles\n",
    "TICK_FONT_SIZE = 18                # Font size for axis tick labels\n",
    "MARKER_SIZE = 10                   # Marker size for scatter points (enlarged for better visibility)\n",
    "\n",
    "# Color definitions for the red and blue color scales:\n",
    "RED_LIGHT = 'rgb(255, 200, 200)'     # Light red\n",
    "RED_DARK = 'rgb(139, 0, 0)'           # Dark red\n",
    "BLUE_LIGHT = 'rgb(200, 200, 255)'     # Light blue\n",
    "BLUE_DARK = 'rgb(0, 0, 139)'          # Dark blue\n",
    "\n",
    "# -----------------------\n",
    "# Split the data into parts\n",
    "# -----------------------\n",
    "thresholds = D[:, 0]\n",
    "durations = D[:, 1]\n",
    "F_beta = D[:, 2]\n",
    "\n",
    "# Create a 3D scatter plot\n",
    "fig = go.Figure()\n",
    "\n",
    "# Define red color scale using the customization variables\n",
    "red_colorscale = [\n",
    "    [0.0, RED_LIGHT],\n",
    "    [1.0, RED_DARK]\n",
    "]\n",
    "\n",
    "# Add red-colored points for the first stage_virtual_num data\n",
    "fig.add_trace(go.Scatter3d(\n",
    "    x=thresholds[:stage_virtual_num],      # x-axis data (first part)\n",
    "    y=durations[:stage_virtual_num],         # y-axis data (first part)\n",
    "    z=F_beta[:stage_virtual_num],            # z-axis data (first part)\n",
    "    mode='markers',\n",
    "    marker=dict(\n",
    "        size=MARKER_SIZE,\n",
    "        color=F_beta[:stage_virtual_num],    # color determined by F-beta values\n",
    "        colorscale=red_colorscale,\n",
    "        showscale=False                      # Cancel colorbar\n",
    "    ),\n",
    "    name='Virtual Environment Optimization',\n",
    "    showlegend=False                         # Cancel legend\n",
    "))\n",
    "\n",
    "# Define blue color scale using the customization variables\n",
    "blue_colorscale = [\n",
    "    [0.0, BLUE_LIGHT],\n",
    "    [1.0, BLUE_DARK]\n",
    "]\n",
    "\n",
    "# Add blue-colored points for the remaining data\n",
    "fig.add_trace(go.Scatter3d(\n",
    "    x=thresholds[stage_virtual_num:],      # x-axis data (second part)\n",
    "    y=durations[stage_virtual_num:],         # y-axis data (second part)\n",
    "    z=F_beta[stage_virtual_num:],            # z-axis data (second part)\n",
    "    mode='markers',\n",
    "    marker=dict(\n",
    "        size=MARKER_SIZE,\n",
    "        color=F_beta[stage_virtual_num:],    # color determined by F-beta values\n",
    "        colorscale=blue_colorscale,\n",
    "        showscale=False                      # Cancel colorbar\n",
    "    ),\n",
    "    name='Real World Optimization',\n",
    "    showlegend=False                         # Cancel legend\n",
    "))\n",
    "\n",
    "# Set axis labels, fonts, axis limits, and ranges\n",
    "fig.update_layout(\n",
    "    scene=dict(\n",
    "        xaxis=dict(\n",
    "            title='Threshold',\n",
    "            titlefont=dict(family=FONT_FAMILY, size=AXIS_TITLE_FONT_SIZE, color='black'),\n",
    "            tickfont=dict(family=FONT_FAMILY, size=TICK_FONT_SIZE, color='black'),\n",
    "            range=[0, 0.018]   # x-axis range\n",
    "        ),\n",
    "        yaxis=dict(\n",
    "            title='Duration',\n",
    "            titlefont=dict(family=FONT_FAMILY, size=AXIS_TITLE_FONT_SIZE, color='black'),\n",
    "            tickfont=dict(family=FONT_FAMILY, size=TICK_FONT_SIZE, color='black'),\n",
    "            range=[0, 11]     # y-axis range\n",
    "        ),\n",
    "        zaxis=dict(\n",
    "            title='F-beta',\n",
    "            titlefont=dict(family=FONT_FAMILY, size=AXIS_TITLE_FONT_SIZE, color='black'),\n",
    "            tickfont=dict(family=FONT_FAMILY, size=TICK_FONT_SIZE, color='black'),\n",
    "            range=[0.0, 1.2]  # z-axis range\n",
    "        ),\n",
    "        camera=dict(\n",
    "            eye=dict(x=1.25, y=1.25, z=1.25),\n",
    "            projection=dict(type=\"perspective\")  # Use perspective projection\n",
    "        )\n",
    "    ),\n",
    "    font=dict(family=FONT_FAMILY, size=GLOBAL_FONT_SIZE, color='black'),  # Global font settings\n",
    "    autosize=False,\n",
    "    width=1600,   # Figure width in pixels\n",
    "    height=1600,  # Figure height in pixels\n",
    "    showlegend=False  # Global setting to cancel legend\n",
    ")\n",
    "\n",
    "# Show the plot\n",
    "fig.show()\n"
   ]
  },
  {
   "cell_type": "code",
   "execution_count": 42,
   "metadata": {},
   "outputs": [],
   "source": [
    "# Save the figure as a static image with the name \"virtual.png\"\n",
    "# fig.write_image(\"real.png\")"
   ]
  },
  {
   "cell_type": "code",
   "execution_count": 43,
   "metadata": {},
   "outputs": [
    {
     "data": {
      "image/png": "[encoded data removed]",
      "text/plain": [
       "<Figure size 640x480 with 1 Axes>"
      ]
     },
     "metadata": {},
     "output_type": "display_data"
    }
   ],
   "source": [
    "bonus_factor = 1.1\n",
    "# plot F-beta score with respect to the number of iterations\n",
    "plt.plot(D[:, 2])\n",
    "plt.xlabel('Number of Iterations')\n",
    "plt.ylabel('F-beta Score')\n",
    "plt.title('F-beta Score with Respect to the Number of Iterations')\n",
    "# y starts from 0\n",
    "plt.ylim(0, bonus_factor)\n",
    "plt.show()"
   ]
  },
  {
   "cell_type": "code",
   "execution_count": 44,
   "metadata": {},
   "outputs": [
    {
     "data": {
      "image/png": "[encoded data removed]",
      "text/plain": [
       "<Figure size 640x480 with 1 Axes>"
      ]
     },
     "metadata": {},
     "output_type": "display_data"
    }
   ],
   "source": [
    "# track the largest F-beta score going through the iterations\n",
    "max_F_beta = np.zeros(D.shape[0])\n",
    "for i in range(D.shape[0]):\n",
    "    max_F_beta[i] = np.max(D[:i+1, 2])\n",
    "\n",
    "# plot the max_F_beta, the horizontal axis is the number of iterations, the vertical axis is the maximum F-beta score\n",
    "plt.plot(max_F_beta)\n",
    "plt.xlabel('Number of Iterations')\n",
    "plt.ylabel('Maximum F-beta Score')\n",
    "plt.title('Maximum F-beta Score vs. Number of Iterations')\n",
    "plt.show()"
   ]
  },
  {
   "cell_type": "code",
   "execution_count": 45,
   "metadata": {},
   "outputs": [
    {
     "data": {
      "image/png": "[encoded data removed]",
      "text/plain": [
       "<Figure size 900x600 with 1 Axes>"
      ]
     },
     "metadata": {},
     "output_type": "display_data"
    }
   ],
   "source": [
    "import numpy as np\n",
    "import matplotlib.pyplot as plt\n",
    "\n",
    "# Assuming DD is a NumPy array containing the data\n",
    "iterations = np.arange(DD.shape[0])\n",
    "precision = DD[:, -2]\n",
    "recall = DD[:, -1]\n",
    "F_beta = DD[:, 2]\n",
    "\n",
    "# Set the figure size (9x6 inches roughly corresponds to 900x600 pixels)\n",
    "plt.figure(figsize=(9, 6))\n",
    "\n",
    "# Plot each line with specified color and line width\n",
    "plt.plot(iterations, precision, label='Precision', color='blue', linewidth=1.5)\n",
    "plt.plot(iterations, recall, label='Recall', color='red', linewidth=1.5)\n",
    "plt.plot(iterations, F_beta, label='F-beta', color='green', linewidth=1.5)\n",
    "\n",
    "# Set axis labels and title, using Times New Roman font\n",
    "plt.xlabel('Number of Iterations', fontname='Times New Roman', fontsize=12)\n",
    "plt.ylabel('Value', fontname='Times New Roman', fontsize=12)\n",
    "plt.title('Precision, Recall, and F-beta Score', fontname='Times New Roman', fontsize=14)\n",
    "\n",
    "# Set y-axis limits from 0 to bonus_factor\n",
    "plt.ylim(0, bonus_factor)\n",
    "\n",
    "# Set tick labels to Times New Roman font\n",
    "plt.xticks(fontname='Times New Roman', fontsize=12)\n",
    "plt.yticks(fontname='Times New Roman', fontsize=12)\n",
    "\n",
    "# Add legend to the plot and set its font to Times New Roman\n",
    "plt.legend(prop={'family': 'Times New Roman'})\n",
    "\n",
    "# Adjust the layout to prevent clipping of labels and titles\n",
    "plt.tight_layout()\n",
    "\n",
    "# Save the figure as a static image file\n",
    "plt.savefig('history.png')\n",
    "\n",
    "# Display the plot\n",
    "plt.show()"
   ]
  },
  {
   "cell_type": "code",
   "execution_count": 46,
   "metadata": {},
   "outputs": [
    {
     "name": "stdout",
     "output_type": "stream",
     "text": [
      "max f-beta, recall, precision\n",
      "1.0806183510638299\n",
      "0.985\n",
      "0.9594155844155844\n"
     ]
    },
    {
     "data": {
      "image/png": "[encoded data removed]",
      "text/plain": [
       "<Figure size 640x480 with 1 Axes>"
      ]
     },
     "metadata": {},
     "output_type": "display_data"
    }
   ],
   "source": [
    "# track the largest F-beta score going through the iterations and record associated recall and precision\n",
    "iterations = np.arange(DD.shape[0])\n",
    "max_F_beta = np.zeros(DD.shape[0])\n",
    "max_associated_recall = np.zeros(DD.shape[0])\n",
    "max_associated_precision = np.zeros(DD.shape[0])\n",
    "for i in range(DD.shape[0]):\n",
    "    max_F_beta[i] = np.max(DD[:i+1, 2])\n",
    "    max_index = np.argmax(DD[:i+1, 2])\n",
    "    max_associated_recall[i] = DD[max_index, -1]\n",
    "    max_associated_precision[i] = DD[max_index, -2]\n",
    "\n",
    "# print the max_F_beta, recall, and precision\n",
    "print(\"max f-beta, recall, precision\")\n",
    "print(max_F_beta[-1])\n",
    "print(max_associated_recall[-1])\n",
    "print(max_associated_precision[-1])\n",
    "\n",
    "# plot the max_F_beta, the horizontal axis is the number of iterations, the vertical axis is the maximum F-beta score, and associated recall and precision\n",
    "\n",
    "plt.plot(iterations, max_F_beta, label='F-beta', color='green', linewidth=1.5)\n",
    "plt.plot(iterations, max_associated_recall, label='Recall', color='red', linewidth=1.5)\n",
    "plt.plot(iterations, max_associated_precision, label='Precision', color='blue', linewidth=1.5)\n",
    "\n",
    "plt.xlabel('Number of Iterations', fontname='Times New Roman', fontsize=12)\n",
    "plt.ylabel('Value', fontname='Times New Roman', fontsize=12)\n",
    "plt.title('Maximum F-beta Score, Associated Recall, and Precision', fontname='Times New Roman', fontsize=14)\n",
    "\n",
    "# from 0 to bonus_factor\n",
    "plt.ylim(0, bonus_factor)\n",
    "\n",
    "# Set tick labels to Times New Roman font\n",
    "plt.xticks(fontname='Times New Roman', fontsize=12)\n",
    "plt.yticks(fontname='Times New Roman', fontsize=12)\n",
    "\n",
    "# legend\n",
    "plt.legend(prop={'family': 'Times New Roman'})\n",
    "\n",
    "plt.show()\n"
   ]
  }
 ],
 "metadata": {
  "kernelspec": {
   "display_name": "base",
   "language": "python",
   "name": "python3"
  },
  "language_info": {
   "codemirror_mode": {
    "name": "ipython",
    "version": 3
   },
   "file_extension": ".py",
   "mimetype": "text/x-python",
   "name": "python",
   "nbconvert_exporter": "python",
   "pygments_lexer": "ipython3",
   "version": "3.12.7"
  }
 },
 "nbformat": 4,
 "nbformat_minor": 2
}
